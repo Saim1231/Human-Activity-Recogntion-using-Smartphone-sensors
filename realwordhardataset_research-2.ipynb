{
 "cells": [
  {
   "cell_type": "code",
   "execution_count": 17,
   "id": "4fdcd4e7",
   "metadata": {},
   "outputs": [],
   "source": [
    "import pandas as pd\n",
    "import numpy as np\n",
    "from scipy import signal, stats\n",
    "import matplotlib.pyplot as plt\n",
    "import scipy.integrate as integrate\n",
    "from scipy import fftpack\n",
    "import itertools\n",
    "import math\n",
    "from scipy.stats import skew\n",
    "from scipy.stats import entropy\n",
    "from scipy.stats import kurtosis\n",
    "import statistics\n",
    "import seaborn as sns\n",
    "from numpy import inf\n",
    "from statsmodels.graphics.tsaplots import plot_pacf\n",
    "from statsmodels.graphics.tsaplots import plot_acf\n",
    "from statsmodels.tsa.arima_process import ArmaProcess\n",
    "from statsmodels.tsa.stattools import pacf\n",
    "from statsmodels.regression.linear_model import yule_walker\n",
    "from statsmodels.tsa.stattools import adfuller\n",
    "from random import randrange\n",
    "from random import seed\n",
    "from scipy.spatial import distance\n",
    "# from spectrum import *\n",
    "import glob"
   ]
  },
  {
   "cell_type": "markdown",
   "id": "f1824c97",
   "metadata": {},
   "source": [
    "# Acceleration climibing down for user 1"
   ]
  },
  {
   "cell_type": "code",
   "execution_count": 18,
   "id": "7f8e4d1d",
   "metadata": {},
   "outputs": [],
   "source": [
    "s1_acc_cldn_chest = pd.read_csv ('/Users/user/Desktop/realworld2016_dataset/proband1/data/acc_climbingdown_csv/acc_climbingdown_chest.csv')\n",
    "s1_acc_cldn_forearm = pd.read_csv ('/Users/user/Desktop/realworld2016_dataset/proband1/data/acc_climbingdown_csv/acc_climbingdown_forearm.csv')\n",
    "s1_acc_cldn_head = pd.read_csv ('/Users/user/Desktop/realworld2016_dataset/proband1/data/acc_climbingdown_csv/acc_climbingdown_head.csv')\n",
    "s1_acc_cldn_shin = pd.read_csv ('/Users/user/Desktop/realworld2016_dataset/proband1/data/acc_climbingdown_csv/acc_climbingdown_shin.csv')\n",
    "s1_acc_cldn_thigh = pd.read_csv ('/Users/user/Desktop/realworld2016_dataset/proband1/data/acc_climbingdown_csv/acc_climbingdown_thigh.csv')\n",
    "s1_acc_cldn_upperarm = pd.read_csv ('/Users/user/Desktop/realworld2016_dataset/proband1/data/acc_climbingdown_csv/acc_climbingdown_upperarm.csv')\n",
    "s1_acc_cldn_waist = pd.read_csv ('/Users/user/Desktop/realworld2016_dataset/proband1/data/acc_climbingdown_csv/acc_climbingdown_waist.csv')"
   ]
  },
  {
   "cell_type": "code",
   "execution_count": 19,
   "id": "080a5c19",
   "metadata": {},
   "outputs": [
    {
     "data": {
      "text/plain": [
       "[<matplotlib.lines.Line2D at 0x7f7f49b47df0>]"
      ]
     },
     "execution_count": 19,
     "metadata": {},
     "output_type": "execute_result"
    },
    {
     "data": {
      "image/png": "[encoded data removed]",
      "text/plain": [
       "<Figure size 432x288 with 1 Axes>"
      ]
     },
     "metadata": {
      "needs_background": "light"
     },
     "output_type": "display_data"
    }
   ],
   "source": [
    "plt.plot(s1_acc_cldn_waist['attr_x'])"
   ]
  },
  {
   "cell_type": "code",
   "execution_count": 20,
   "id": "9b37c658",
   "metadata": {},
   "outputs": [],
   "source": [
    "# Acceleration climibing up for user 1"
   ]
  },
  {
   "cell_type": "code",
   "execution_count": 21,
   "id": "865ac1ec",
   "metadata": {},
   "outputs": [],
   "source": [
    "s1_acc_clup_chest = pd.read_csv ('/Users/user/Desktop/realworld2016_dataset/proband1/data/acc_climbingup_csv/acc_climbingup_chest.csv')\n",
    "s1_acc_clup_forearm = pd.read_csv ('/Users/user/Desktop/realworld2016_dataset/proband1/data/acc_climbingup_csv/acc_climbingup_forearm.csv')\n",
    "s1_acc_clup_head = pd.read_csv ('/Users/user/Desktop/realworld2016_dataset/proband1/data/acc_climbingup_csv/acc_climbingup_head.csv')\n",
    "s1_acc_clup_shin = pd.read_csv ('/Users/user/Desktop/realworld2016_dataset/proband1/data/acc_climbingup_csv/acc_climbingup_shin.csv')\n",
    "s1_acc_clup_thigh = pd.read_csv ('/Users/user/Desktop/realworld2016_dataset/proband1/data/acc_climbingup_csv/acc_climbingup_thigh.csv')\n",
    "s1_acc_clup_upperarm = pd.read_csv ('/Users/user/Desktop/realworld2016_dataset/proband1/data/acc_climbingup_csv/acc_climbingup_upperarm.csv')\n",
    "s1_acc_clup_waist = pd.read_csv ('/Users/user/Desktop/realworld2016_dataset/proband1/data/acc_climbingup_csv/acc_climbingup_waist.csv')"
   ]
  },
  {
   "cell_type": "code",
   "execution_count": 22,
   "id": "e7fb3668",
   "metadata": {},
   "outputs": [],
   "source": [
    "#Acceleration standing for user 1"
   ]
  },
  {
   "cell_type": "code",
   "execution_count": 23,
   "id": "ad8050ad",
   "metadata": {},
   "outputs": [],
   "source": [
    "s1_acc_std_chest = pd.read_csv ('/Users/user/Desktop/realworld2016_dataset/proband1/data/acc_standing_csv/acc_standing_chest.csv')\n",
    "s1_acc_std_forearm = pd.read_csv ('/Users/user/Desktop/realworld2016_dataset/proband1/data/acc_standing_csv/acc_standing_forearm.csv')\n",
    "s1_acc_std_head = pd.read_csv ('/Users/user/Desktop/realworld2016_dataset/proband1/data/acc_standing_csv/acc_standing_head.csv')\n",
    "s1_acc_std_shin = pd.read_csv ('/Users/user/Desktop/realworld2016_dataset/proband1/data/acc_standing_csv/acc_standing_shin.csv')\n",
    "s1_acc_std_thigh = pd.read_csv ('/Users/user/Desktop/realworld2016_dataset/proband1/data/acc_standing_csv/acc_standing_thigh.csv')\n",
    "s1_acc_std_upperarm = pd.read_csv ('/Users/user/Desktop/realworld2016_dataset/proband1/data/acc_standing_csv/acc_standing_upperarm.csv')\n",
    "s1_acc_std_waist = pd.read_csv ('/Users/user/Desktop/realworld2016_dataset/proband1/data/acc_standing_csv/acc_standing_waist.csv')"
   ]
  },
  {
   "cell_type": "code",
   "execution_count": 24,
   "id": "870c25d9",
   "metadata": {},
   "outputs": [],
   "source": [
    "#Acceleration jumping for user 1"
   ]
  },
  {
   "cell_type": "code",
   "execution_count": 25,
   "id": "9bb33f5b",
   "metadata": {},
   "outputs": [],
   "source": [
    "s1_acc_jump_chest = pd.read_csv ('/Users/user/Desktop/realworld2016_dataset/proband1/data/acc_jumping_csv/acc_jumping_chest.csv')\n",
    "s1_acc_jump_forearm = pd.read_csv ('/Users/user/Desktop/realworld2016_dataset/proband1/data/acc_jumping_csv/acc_jumping_forearm.csv')\n",
    "s1_acc_jump_head = pd.read_csv ('/Users/user/Desktop/realworld2016_dataset/proband1/data/acc_jumping_csv/acc_jumping_head.csv')\n",
    "s1_acc_jump_shin = pd.read_csv ('/Users/user/Desktop/realworld2016_dataset/proband1/data/acc_jumping_csv/acc_jumping_shin.csv')\n",
    "s1_acc_jump_thigh = pd.read_csv ('/Users/user/Desktop/realworld2016_dataset/proband1/data/acc_jumping_csv/acc_jumping_thigh.csv')\n",
    "s1_acc_jump_upperarm = pd.read_csv ('/Users/user/Desktop/realworld2016_dataset/proband1/data/acc_jumping_csv/acc_jumping_upperarm.csv')\n",
    "s1_acc_jump_waist = pd.read_csv ('/Users/user/Desktop/realworld2016_dataset/proband1/data/acc_jumping_csv/acc_jumping_waist.csv')"
   ]
  },
  {
   "cell_type": "code",
   "execution_count": 26,
   "id": "b741865f",
   "metadata": {},
   "outputs": [],
   "source": [
    "#Acceleration lying for user 1"
   ]
  },
  {
   "cell_type": "code",
   "execution_count": 27,
   "id": "d4add461",
   "metadata": {},
   "outputs": [],
   "source": [
    "s1_acc_ly_chest = pd.read_csv ('/Users/user/Desktop/realworld2016_dataset/proband1/data/acc_lying_csv/acc_lying_chest.csv')\n",
    "s1_acc_ly_forearm = pd.read_csv ('/Users/user/Desktop/realworld2016_dataset/proband1/data/acc_lying_csv/acc_lying_forearm.csv')\n",
    "s1_acc_ly_head = pd.read_csv ('/Users/user/Desktop/realworld2016_dataset/proband1/data/acc_lying_csv/acc_lying_head.csv')\n",
    "s1_acc_ly_shin = pd.read_csv ('/Users/user/Desktop/realworld2016_dataset/proband1/data/acc_lying_csv/acc_lying_shin.csv')\n",
    "s1_acc_ly_thigh = pd.read_csv ('/Users/user/Desktop/realworld2016_dataset/proband1/data/acc_lying_csv/acc_lying_thigh.csv')\n",
    "s1_acc_ly_upperarm = pd.read_csv ('/Users/user/Desktop/realworld2016_dataset/proband1/data/acc_lying_csv/acc_lying_upperarm.csv')\n",
    "s1_acc_ly_waist = pd.read_csv ('/Users/user/Desktop/realworld2016_dataset/proband1/data/acc_lying_csv/acc_lying_waist.csv')"
   ]
  },
  {
   "cell_type": "code",
   "execution_count": 28,
   "id": "841b89ba",
   "metadata": {},
   "outputs": [],
   "source": [
    "#Acceleration running for user 1"
   ]
  },
  {
   "cell_type": "code",
   "execution_count": 29,
   "id": "aa0d4d81",
   "metadata": {},
   "outputs": [],
   "source": [
    "s1_acc_run_chest = pd.read_csv ('/Users/user/Desktop/realworld2016_dataset/proband1/data/acc_running_csv/acc_running_chest.csv')\n",
    "s1_acc_run_forearm = pd.read_csv ('/Users/user/Desktop/realworld2016_dataset/proband1/data/acc_running_csv/acc_running_forearm.csv')\n",
    "s1_acc_run_head = pd.read_csv ('/Users/user/Desktop/realworld2016_dataset/proband1/data/acc_running_csv/acc_running_head.csv')\n",
    "s1_acc_run_shin = pd.read_csv ('/Users/user/Desktop/realworld2016_dataset/proband1/data/acc_running_csv/acc_running_shin.csv')\n",
    "s1_acc_run_thigh = pd.read_csv ('/Users/user/Desktop/realworld2016_dataset/proband1/data/acc_running_csv/acc_running_thigh.csv')\n",
    "s1_acc_run_upperarm = pd.read_csv ('/Users/user/Desktop/realworld2016_dataset/proband1/data/acc_running_csv/acc_running_upperarm.csv')\n",
    "s1_acc_run_waist = pd.read_csv ('/Users/user/Desktop/realworld2016_dataset/proband1/data/acc_running_csv/acc_running_waist.csv')\n"
   ]
  },
  {
   "cell_type": "code",
   "execution_count": 30,
   "id": "1f081195",
   "metadata": {},
   "outputs": [],
   "source": [
    "#Acceleration sitting for user 1"
   ]
  },
  {
   "cell_type": "code",
   "execution_count": 31,
   "id": "f53e15a6",
   "metadata": {},
   "outputs": [],
   "source": [
    "s1_acc_sit_chest = pd.read_csv ('/Users/user/Desktop/realworld2016_dataset/proband1/data/acc_sitting_csv/acc_sitting_chest.csv')\n",
    "s1_acc_sit_forearm = pd.read_csv ('/Users/user/Desktop/realworld2016_dataset/proband1/data/acc_sitting_csv/acc_sitting_forearm.csv')\n",
    "s1_acc_sit_head = pd.read_csv ('/Users/user/Desktop/realworld2016_dataset/proband1/data/acc_sitting_csv/acc_sitting_head.csv')\n",
    "s1_acc_sit_shin = pd.read_csv ('/Users/user/Desktop/realworld2016_dataset/proband1/data/acc_sitting_csv/acc_sitting_shin.csv')\n",
    "s1_acc_sit_thigh = pd.read_csv ('/Users/user/Desktop/realworld2016_dataset/proband1/data/acc_sitting_csv/acc_sitting_thigh.csv')\n",
    "s1_acc_sit_upperarm = pd.read_csv ('/Users/user/Desktop/realworld2016_dataset/proband1/data/acc_sitting_csv/acc_sitting_upperarm.csv')\n",
    "s1_acc_sit_waist = pd.read_csv ('/Users/user/Desktop/realworld2016_dataset/proband1/data/acc_sitting_csv/acc_sitting_waist.csv')\n"
   ]
  },
  {
   "cell_type": "code",
   "execution_count": 32,
   "id": "63718260",
   "metadata": {},
   "outputs": [],
   "source": [
    "#Acceleration standing for user 1"
   ]
  },
  {
   "cell_type": "code",
   "execution_count": 33,
   "id": "1ee9f480",
   "metadata": {},
   "outputs": [],
   "source": [
    "#Acceleration walking for user 1"
   ]
  },
  {
   "cell_type": "code",
   "execution_count": 34,
   "id": "3ecbc1d7",
   "metadata": {},
   "outputs": [],
   "source": [
    "s1_acc_wal_chest = pd.read_csv ('/Users/user/Desktop/realworld2016_dataset/proband1/data/acc_walking_csv/acc_walking_chest.csv')\n",
    "s1_acc_wal_forearm = pd.read_csv ('/Users/user/Desktop/realworld2016_dataset/proband1/data/acc_walking_csv/acc_walking_forearm.csv')\n",
    "s1_acc_wal_head = pd.read_csv ('/Users/user/Desktop/realworld2016_dataset/proband1/data/acc_walking_csv/acc_walking_head.csv')\n",
    "s1_acc_wal_shin = pd.read_csv ('/Users/user/Desktop/realworld2016_dataset/proband1/data/acc_walking_csv/acc_walking_shin.csv')\n",
    "s1_acc_wal_thigh = pd.read_csv ('/Users/user/Desktop/realworld2016_dataset/proband1/data/acc_walking_csv/acc_walking_thigh.csv')\n",
    "s1_acc_wal_upperarm = pd.read_csv ('/Users/user/Desktop/realworld2016_dataset/proband1/data/acc_walking_csv/acc_walking_upperarm.csv')\n",
    "s1_acc_wal_waist = pd.read_csv ('/Users/user/Desktop/realworld2016_dataset/proband1/data/acc_walking_csv/acc_walking_waist.csv')"
   ]
  },
  {
   "cell_type": "code",
   "execution_count": 35,
   "id": "1287bde8",
   "metadata": {},
   "outputs": [],
   "source": [
    "s1_acc_cldn_chest.drop(['id', 'attr_time'], axis='columns', inplace=True)\n",
    "s1_acc_cldn_forearm.drop(['id', 'attr_time'], axis='columns', inplace=True)\n",
    "s1_acc_cldn_head.drop(['id', 'attr_time'], axis='columns', inplace=True)\n",
    "s1_acc_cldn_shin.drop(['id', 'attr_time'], axis='columns', inplace=True)\n",
    "s1_acc_cldn_thigh.drop(['id', 'attr_time'], axis='columns', inplace=True)\n",
    "s1_acc_cldn_upperarm.drop(['id', 'attr_time'], axis='columns', inplace=True)\n",
    "s1_acc_cldn_waist.drop(['id', 'attr_time'], axis='columns', inplace=True)"
   ]
  },
  {
   "cell_type": "code",
   "execution_count": 36,
   "id": "1dea6e01",
   "metadata": {},
   "outputs": [],
   "source": [
    "s1_acc_clup_chest.drop(['id', 'attr_time'], axis='columns', inplace=True)\n",
    "s1_acc_clup_forearm.drop(['id', 'attr_time'], axis='columns', inplace=True)\n",
    "s1_acc_clup_head.drop(['id', 'attr_time'], axis='columns', inplace=True)\n",
    "s1_acc_clup_shin.drop(['id', 'attr_time'], axis='columns', inplace=True)\n",
    "s1_acc_clup_thigh.drop(['id', 'attr_time'], axis='columns', inplace=True)\n",
    "s1_acc_clup_upperarm.drop(['id', 'attr_time'], axis='columns', inplace=True)\n",
    "s1_acc_clup_waist.drop(['id', 'attr_time'], axis='columns', inplace=True)"
   ]
  },
  {
   "cell_type": "code",
   "execution_count": 37,
   "id": "aa8d3299",
   "metadata": {},
   "outputs": [],
   "source": [
    "s1_acc_jump_chest.drop(['id', 'attr_time'], axis='columns', inplace=True)\n",
    "s1_acc_jump_forearm.drop(['id', 'attr_time'], axis='columns', inplace=True)\n",
    "s1_acc_jump_head.drop(['id', 'attr_time'], axis='columns', inplace=True)\n",
    "s1_acc_jump_shin.drop(['id', 'attr_time'], axis='columns', inplace=True)\n",
    "s1_acc_jump_thigh.drop(['id', 'attr_time'], axis='columns', inplace=True)\n",
    "s1_acc_jump_upperarm.drop(['id', 'attr_time'], axis='columns', inplace=True)\n",
    "s1_acc_jump_waist.drop(['id', 'attr_time'], axis='columns', inplace=True)"
   ]
  },
  {
   "cell_type": "code",
   "execution_count": 38,
   "id": "d94ed574",
   "metadata": {},
   "outputs": [],
   "source": [
    "s1_acc_ly_chest.drop(['id', 'attr_time'], axis='columns', inplace=True)\n",
    "s1_acc_ly_forearm.drop(['id', 'attr_time'], axis='columns', inplace=True)\n",
    "s1_acc_ly_head.drop(['id', 'attr_time'], axis='columns', inplace=True)\n",
    "s1_acc_ly_shin.drop(['id', 'attr_time'], axis='columns', inplace=True)\n",
    "s1_acc_ly_thigh.drop(['id', 'attr_time'], axis='columns', inplace=True)\n",
    "s1_acc_ly_upperarm.drop(['id', 'attr_time'], axis='columns', inplace=True)\n",
    "s1_acc_ly_waist.drop(['id', 'attr_time'], axis='columns', inplace=True)"
   ]
  },
  {
   "cell_type": "code",
   "execution_count": 39,
   "id": "ebeb2ae1",
   "metadata": {},
   "outputs": [],
   "source": [
    "s1_acc_run_chest.drop(['id', 'attr_time'], axis='columns', inplace=True)\n",
    "s1_acc_run_forearm.drop(['id', 'attr_time'], axis='columns', inplace=True)\n",
    "s1_acc_run_head.drop(['id', 'attr_time'], axis='columns', inplace=True)\n",
    "s1_acc_run_shin.drop(['id', 'attr_time'], axis='columns', inplace=True)\n",
    "s1_acc_run_thigh.drop(['id', 'attr_time'], axis='columns', inplace=True)\n",
    "s1_acc_run_upperarm.drop(['id', 'attr_time'], axis='columns', inplace=True)\n",
    "s1_acc_run_waist.drop(['id', 'attr_time'], axis='columns', inplace=True)\n"
   ]
  },
  {
   "cell_type": "code",
   "execution_count": 40,
   "id": "8d21f728",
   "metadata": {},
   "outputs": [],
   "source": [
    "s1_acc_sit_chest.drop(['id', 'attr_time'], axis='columns', inplace=True)\n",
    "s1_acc_sit_forearm.drop(['id', 'attr_time'], axis='columns', inplace=True)\n",
    "s1_acc_sit_head.drop(['id', 'attr_time'], axis='columns', inplace=True)\n",
    "s1_acc_sit_shin.drop(['id', 'attr_time'], axis='columns', inplace=True)\n",
    "s1_acc_sit_thigh.drop(['id', 'attr_time'], axis='columns', inplace=True)\n",
    "s1_acc_sit_upperarm.drop(['id', 'attr_time'], axis='columns', inplace=True)\n",
    "s1_acc_sit_waist.drop(['id', 'attr_time'], axis='columns', inplace=True)"
   ]
  },
  {
   "cell_type": "code",
   "execution_count": 41,
   "id": "3ad2ccf3",
   "metadata": {},
   "outputs": [],
   "source": [
    "s1_acc_std_chest.drop(['id', 'attr_time'], axis='columns', inplace=True)\n",
    "s1_acc_std_forearm.drop(['id', 'attr_time'], axis='columns', inplace=True)\n",
    "s1_acc_std_head.drop(['id', 'attr_time'], axis='columns', inplace=True)\n",
    "s1_acc_std_shin.drop(['id', 'attr_time'], axis='columns', inplace=True)\n",
    "s1_acc_std_thigh.drop(['id', 'attr_time'], axis='columns', inplace=True)\n",
    "s1_acc_std_upperarm.drop(['id', 'attr_time'], axis='columns', inplace=True)\n",
    "s1_acc_std_waist.drop(['id', 'attr_time'], axis='columns', inplace=True)\n"
   ]
  },
  {
   "cell_type": "code",
   "execution_count": 42,
   "id": "4e3f7a95",
   "metadata": {},
   "outputs": [],
   "source": [
    "s1_acc_wal_chest.drop(['id', 'attr_time'], axis='columns', inplace=True)\n",
    "s1_acc_wal_forearm.drop(['id', 'attr_time'], axis='columns', inplace=True)\n",
    "s1_acc_wal_head.drop(['id', 'attr_time'], axis='columns', inplace=True)\n",
    "s1_acc_wal_shin.drop(['id', 'attr_time'], axis='columns', inplace=True)\n",
    "s1_acc_wal_thigh.drop(['id', 'attr_time'], axis='columns', inplace=True)\n",
    "s1_acc_wal_upperarm.drop(['id', 'attr_time'], axis='columns', inplace=True)\n",
    "s1_acc_wal_waist.drop(['id', 'attr_time'], axis='columns', inplace=True)"
   ]
  },
  {
   "cell_type": "code",
   "execution_count": 43,
   "id": "d982e7ee",
   "metadata": {},
   "outputs": [],
   "source": [
    "#acceleration climibing down for user 2"
   ]
  },
  {
   "cell_type": "code",
   "execution_count": 44,
   "id": "49bed358",
   "metadata": {},
   "outputs": [],
   "source": [
    "s2_acc_cldn_chest = pd.read_csv ('/Users/user/Desktop/realworld2016_dataset/proband2/data/acc_climbingdown_csv/acc_climbingdown_chest.csv')\n",
    "s2_acc_cldn_forearm = pd.read_csv ('/Users/user/Desktop/realworld2016_dataset/proband2/data/acc_climbingdown_csv/acc_climbingdown_forearm.csv')\n",
    "s2_acc_cldn_head = pd.read_csv ('/Users/user/Desktop/realworld2016_dataset/proband2/data/acc_climbingdown_csv/acc_climbingdown_head.csv')\n",
    "s2_acc_cldn_shin = pd.read_csv ('/Users/user/Desktop/realworld2016_dataset/proband2/data/acc_climbingdown_csv/acc_climbingdown_shin.csv')\n",
    "s2_acc_cldn_thigh = pd.read_csv ('/Users/user/Desktop/realworld2016_dataset/proband2/data/acc_climbingdown_csv/acc_climbingdown_thigh.csv')\n",
    "s2_acc_cldn_upperarm = pd.read_csv ('/Users/user/Desktop/realworld2016_dataset/proband2/data/acc_climbingdown_csv/acc_climbingdown_upperarm.csv')\n",
    "s2_acc_cldn_waist = pd.read_csv ('/Users/user/Desktop/realworld2016_dataset/proband2/data/acc_climbingdown_csv/acc_climbingdown_waist.csv')\n"
   ]
  },
  {
   "cell_type": "code",
   "execution_count": 45,
   "id": "b96889df",
   "metadata": {},
   "outputs": [],
   "source": [
    "#acceleration climibing up for user 2"
   ]
  },
  {
   "cell_type": "code",
   "execution_count": 46,
   "id": "8863bb43",
   "metadata": {},
   "outputs": [],
   "source": [
    "s2_acc_clup_chest = pd.read_csv ('/Users/user/Desktop/realworld2016_dataset/proband2/data/acc_climbingup_csv/acc_climbingup_chest.csv')\n",
    "s2_acc_clup_head = pd.read_csv ('/Users/user/Desktop/realworld2016_dataset/proband2/data/acc_climbingup_csv/acc_climbingup_head.csv')\n",
    "s2_acc_clup_shin = pd.read_csv ('/Users/user/Desktop/realworld2016_dataset/proband2/data/acc_climbingup_csv/acc_climbingup_shin.csv')\n",
    "s2_acc_clup_thigh = pd.read_csv ('/Users/user/Desktop/realworld2016_dataset/proband2/data/acc_climbingup_csv/acc_climbingup_thigh.csv')\n",
    "s2_acc_clup_upperarm = pd.read_csv ('/Users/user/Desktop/realworld2016_dataset/proband2/data/acc_climbingup_csv/acc_climbingup_upperarm.csv')\n",
    "s2_acc_clup_waist = pd.read_csv ('/Users/user/Desktop/realworld2016_dataset/proband2/data/acc_climbingup_csv/acc_climbingup_waist.csv')\n"
   ]
  },
  {
   "cell_type": "code",
   "execution_count": 47,
   "id": "478e399f",
   "metadata": {},
   "outputs": [],
   "source": [
    "#acceleration jumping for user 2"
   ]
  },
  {
   "cell_type": "code",
   "execution_count": 48,
   "id": "f450c392",
   "metadata": {},
   "outputs": [],
   "source": [
    "s2_acc_jump_chest = pd.read_csv ('/Users/user/Desktop/realworld2016_dataset/proband2/data/acc_jumping_csv/acc_jumping_chest.csv')\n",
    "s2_acc_jump_forearm = pd.read_csv ('/Users/user/Desktop/realworld2016_dataset/proband2/data/acc_jumping_csv/acc_jumping_forearm.csv')\n",
    "s2_acc_jump_head = pd.read_csv ('/Users/user/Desktop/realworld2016_dataset/proband2/data/acc_jumping_csv/acc_jumping_head.csv')\n",
    "s2_acc_jump_shin = pd.read_csv ('/Users/user/Desktop/realworld2016_dataset/proband2/data/acc_jumping_csv/acc_jumping_shin.csv')\n",
    "s2_acc_jump_thigh = pd.read_csv ('/Users/user/Desktop/realworld2016_dataset/proband2/data/acc_jumping_csv/acc_jumping_thigh.csv')\n",
    "s2_acc_jump_upperarm = pd.read_csv ('/Users/user/Desktop/realworld2016_dataset/proband2/data/acc_jumping_csv/acc_jumping_upperarm.csv')\n",
    "s2_acc_jump_waist = pd.read_csv ('/Users/user/Desktop/realworld2016_dataset/proband2/data/acc_jumping_csv/acc_jumping_waist.csv')\n"
   ]
  },
  {
   "cell_type": "code",
   "execution_count": 49,
   "id": "eab47031",
   "metadata": {},
   "outputs": [],
   "source": [
    "#acceleration lying for user 2"
   ]
  },
  {
   "cell_type": "code",
   "execution_count": 50,
   "id": "6d6ba529",
   "metadata": {},
   "outputs": [],
   "source": [
    "s2_acc_ly_chest = pd.read_csv ('/Users/user/Desktop/realworld2016_dataset/proband2/data/acc_lying_csv/acc_lying_chest.csv')\n",
    "s2_acc_ly_forearm = pd.read_csv ('/Users/user/Desktop/realworld2016_dataset/proband2/data/acc_lying_csv/acc_lying_forearm.csv')\n",
    "s2_acc_ly_head = pd.read_csv ('/Users/user/Desktop/realworld2016_dataset/proband2/data/acc_lying_csv/acc_lying_head.csv')\n",
    "s2_acc_ly_shin = pd.read_csv ('/Users/user/Desktop/realworld2016_dataset/proband2/data/acc_lying_csv/acc_lying_shin.csv')\n",
    "s2_acc_ly_thigh = pd.read_csv ('/Users/user/Desktop/realworld2016_dataset/proband2/data/acc_lying_csv/acc_lying_thigh.csv')\n",
    "s2_acc_ly_upperarm = pd.read_csv ('/Users/user/Desktop/realworld2016_dataset/proband2/data/acc_lying_csv/acc_lying_upperarm.csv')\n",
    "s2_acc_ly_waist = pd.read_csv ('/Users/user/Desktop/realworld2016_dataset/proband2/data/acc_lying_csv/acc_lying_waist.csv')"
   ]
  },
  {
   "cell_type": "code",
   "execution_count": 51,
   "id": "8e687fdd",
   "metadata": {},
   "outputs": [],
   "source": [
    "#acceleration running for user 2"
   ]
  },
  {
   "cell_type": "code",
   "execution_count": 52,
   "id": "55d44005",
   "metadata": {},
   "outputs": [],
   "source": [
    "s2_acc_run_chest = pd.read_csv ('/Users/user/Desktop/realworld2016_dataset/proband2/data/acc_running_csv/acc_running_chest.csv')\n",
    "s2_acc_run_forearm = pd.read_csv ('/Users/user/Desktop/realworld2016_dataset/proband2/data/acc_running_csv/acc_running_forearm.csv')\n",
    "s2_acc_run_head = pd.read_csv ('/Users/user/Desktop/realworld2016_dataset/proband2/data/acc_running_csv/acc_running_head.csv')\n",
    "s2_acc_run_shin = pd.read_csv ('/Users/user/Desktop/realworld2016_dataset/proband2/data/acc_running_csv/acc_running_shin.csv')\n",
    "s2_acc_run_thigh = pd.read_csv ('/Users/user/Desktop/realworld2016_dataset/proband2/data/acc_running_csv/acc_running_thigh.csv')\n",
    "s2_acc_run_upperarm = pd.read_csv ('/Users/user/Desktop/realworld2016_dataset/proband2/data/acc_running_csv/acc_running_upperarm.csv')\n",
    "s2_acc_run_waist = pd.read_csv ('/Users/user/Desktop/realworld2016_dataset/proband2/data/acc_running_csv/acc_running_waist.csv')"
   ]
  },
  {
   "cell_type": "code",
   "execution_count": 53,
   "id": "1bd9e034",
   "metadata": {},
   "outputs": [],
   "source": [
    "#acceleration sitting for user 2"
   ]
  },
  {
   "cell_type": "code",
   "execution_count": 54,
   "id": "660de11a",
   "metadata": {},
   "outputs": [],
   "source": [
    "s2_acc_sit_chest = pd.read_csv ('/Users/user/Desktop/realworld2016_dataset/proband2/data/acc_sitting_csv/acc_sitting_chest.csv')\n",
    "s2_acc_sit_forearm = pd.read_csv ('/Users/user/Desktop/realworld2016_dataset/proband2/data/acc_sitting_csv/acc_sitting_forearm.csv')\n",
    "s2_acc_sit_head = pd.read_csv ('/Users/user/Desktop/realworld2016_dataset/proband2/data/acc_sitting_csv/acc_sitting_head.csv')\n",
    "s2_acc_sit_shin = pd.read_csv ('/Users/user/Desktop/realworld2016_dataset/proband2/data/acc_sitting_csv/acc_sitting_shin.csv')\n",
    "s2_acc_sit_thigh = pd.read_csv ('/Users/user/Desktop/realworld2016_dataset/proband2/data/acc_sitting_csv/acc_sitting_thigh.csv')\n",
    "s2_acc_sit_upperarm = pd.read_csv ('/Users/user/Desktop/realworld2016_dataset/proband2/data/acc_sitting_csv/acc_sitting_upperarm.csv')\n",
    "s2_acc_sit_waist = pd.read_csv ('/Users/user/Desktop/realworld2016_dataset/proband2/data/acc_sitting_csv/acc_sitting_waist.csv')"
   ]
  },
  {
   "cell_type": "code",
   "execution_count": 55,
   "id": "aee6d17e",
   "metadata": {},
   "outputs": [],
   "source": [
    "#acceleration standing for user 2"
   ]
  },
  {
   "cell_type": "code",
   "execution_count": 56,
   "id": "43f1f420",
   "metadata": {},
   "outputs": [],
   "source": [
    "s2_acc_std_chest = pd.read_csv ('/Users/user/Desktop/realworld2016_dataset/proband2/data/acc_standing_csv/acc_standing_chest.csv')\n",
    "s2_acc_std_forearm = pd.read_csv ('/Users/user/Desktop/realworld2016_dataset/proband2/data/acc_standing_csv/acc_standing_forearm.csv')\n",
    "s2_acc_std_head = pd.read_csv ('/Users/user/Desktop/realworld2016_dataset/proband2/data/acc_standing_csv/acc_standing_head.csv')\n",
    "s2_acc_std_shin = pd.read_csv ('/Users/user/Desktop/realworld2016_dataset/proband2/data/acc_standing_csv/acc_standing_shin.csv')\n",
    "s2_acc_std_thigh = pd.read_csv ('/Users/user/Desktop/realworld2016_dataset/proband2/data/acc_standing_csv/acc_standing_thigh.csv')\n",
    "s2_acc_std_upperarm = pd.read_csv ('/Users/user/Desktop/realworld2016_dataset/proband2/data/acc_standing_csv/acc_standing_upperarm.csv')\n",
    "s2_acc_std_waist = pd.read_csv ('/Users/user/Desktop/realworld2016_dataset/proband2/data/acc_standing_csv/acc_standing_waist.csv')"
   ]
  },
  {
   "cell_type": "code",
   "execution_count": 57,
   "id": "ccc83108",
   "metadata": {},
   "outputs": [],
   "source": [
    "#acceleration walking for user 2"
   ]
  },
  {
   "cell_type": "code",
   "execution_count": 58,
   "id": "f70fc263",
   "metadata": {},
   "outputs": [],
   "source": [
    "s2_acc_wal_chest = pd.read_csv ('/Users/user/Desktop/realworld2016_dataset/proband2/data/acc_walking_csv/acc_walking_chest.csv')\n",
    "s2_acc_wal_forearm = pd.read_csv ('/Users/user/Desktop/realworld2016_dataset/proband2/data/acc_walking_csv/acc_walking_forearm.csv')\n",
    "s2_acc_wal_head = pd.read_csv ('/Users/user/Desktop/realworld2016_dataset/proband2/data/acc_walking_csv/acc_walking_head.csv')\n",
    "s2_acc_wal_shin = pd.read_csv ('/Users/user/Desktop/realworld2016_dataset/proband2/data/acc_walking_csv/acc_walking_shin.csv')\n",
    "s2_acc_wal_thigh = pd.read_csv ('/Users/user/Desktop/realworld2016_dataset/proband2/data/acc_walking_csv/acc_walking_thigh.csv')\n",
    "s2_acc_wal_upperarm = pd.read_csv ('/Users/user/Desktop/realworld2016_dataset/proband2/data/acc_walking_csv/acc_walking_upperarm.csv')\n",
    "s2_acc_wal_waist = pd.read_csv ('/Users/user/Desktop/realworld2016_dataset/proband2/data/acc_walking_csv/acc_walking_waist.csv')"
   ]
  },
  {
   "cell_type": "code",
   "execution_count": 59,
   "id": "579abe35",
   "metadata": {},
   "outputs": [],
   "source": [
    "s2_acc_cldn_chest.drop(['id', 'attr_time'], axis='columns', inplace=True)\n",
    "s2_acc_cldn_forearm.drop(['id', 'attr_time'], axis='columns', inplace=True)\n",
    "s2_acc_cldn_head.drop(['id', 'attr_time'], axis='columns', inplace=True)\n",
    "s2_acc_cldn_shin.drop(['id', 'attr_time'], axis='columns', inplace=True)\n",
    "s2_acc_cldn_thigh.drop(['id', 'attr_time'], axis='columns', inplace=True)\n",
    "s2_acc_cldn_upperarm.drop(['id', 'attr_time'], axis='columns', inplace=True)\n",
    "s2_acc_cldn_waist.drop(['id', 'attr_time'], axis='columns', inplace=True)"
   ]
  },
  {
   "cell_type": "code",
   "execution_count": 60,
   "id": "3e519fb1",
   "metadata": {},
   "outputs": [],
   "source": [
    "s2_acc_clup_chest.drop(['id', 'attr_time'], axis='columns', inplace=True)\n",
    "s2_acc_clup_head.drop(['id', 'attr_time'], axis='columns', inplace=True)\n",
    "s2_acc_clup_shin.drop(['id', 'attr_time'], axis='columns', inplace=True)\n",
    "s2_acc_clup_thigh.drop(['id', 'attr_time'], axis='columns', inplace=True)\n",
    "s2_acc_clup_upperarm.drop(['id', 'attr_time'], axis='columns', inplace=True)\n",
    "s2_acc_clup_waist.drop(['id', 'attr_time'], axis='columns', inplace=True)"
   ]
  },
  {
   "cell_type": "code",
   "execution_count": 61,
   "id": "ae73e5e2",
   "metadata": {},
   "outputs": [],
   "source": [
    "s2_acc_jump_chest.drop(['id', 'attr_time'], axis='columns', inplace=True)\n",
    "s2_acc_jump_forearm.drop(['id', 'attr_time'], axis='columns', inplace=True)\n",
    "s2_acc_jump_head.drop(['id', 'attr_time'], axis='columns', inplace=True)\n",
    "s2_acc_jump_shin.drop(['id', 'attr_time'], axis='columns', inplace=True)\n",
    "s2_acc_jump_thigh.drop(['id', 'attr_time'], axis='columns', inplace=True)\n",
    "s2_acc_jump_upperarm.drop(['id', 'attr_time'], axis='columns', inplace=True)\n",
    "s2_acc_jump_waist.drop(['id', 'attr_time'], axis='columns', inplace=True)"
   ]
  },
  {
   "cell_type": "code",
   "execution_count": 62,
   "id": "35c0d684",
   "metadata": {},
   "outputs": [],
   "source": [
    "s2_acc_ly_chest.drop(['id', 'attr_time'], axis='columns', inplace=True)\n",
    "s2_acc_ly_forearm.drop(['id', 'attr_time'], axis='columns', inplace=True)\n",
    "s2_acc_ly_head.drop(['id', 'attr_time'], axis='columns', inplace=True)\n",
    "s2_acc_ly_shin.drop(['id', 'attr_time'], axis='columns', inplace=True)\n",
    "s2_acc_ly_thigh.drop(['id', 'attr_time'], axis='columns', inplace=True)\n",
    "s2_acc_ly_upperarm.drop(['id', 'attr_time'], axis='columns', inplace=True)\n",
    "s2_acc_ly_waist.drop(['id', 'attr_time'], axis='columns', inplace=True)"
   ]
  },
  {
   "cell_type": "code",
   "execution_count": 63,
   "id": "a771f738",
   "metadata": {},
   "outputs": [],
   "source": [
    "s2_acc_run_chest.drop(['id', 'attr_time'], axis='columns', inplace=True)\n",
    "s2_acc_run_forearm.drop(['id', 'attr_time'], axis='columns', inplace=True)\n",
    "s2_acc_run_head.drop(['id', 'attr_time'], axis='columns', inplace=True)\n",
    "s2_acc_run_shin.drop(['id', 'attr_time'], axis='columns', inplace=True)\n",
    "s2_acc_run_thigh.drop(['id', 'attr_time'], axis='columns', inplace=True)\n",
    "s2_acc_run_upperarm.drop(['id', 'attr_time'], axis='columns', inplace=True)\n",
    "s2_acc_run_waist.drop(['id', 'attr_time'], axis='columns', inplace=True)\n"
   ]
  },
  {
   "cell_type": "code",
   "execution_count": 64,
   "id": "93d074ac",
   "metadata": {},
   "outputs": [],
   "source": [
    "s2_acc_sit_chest.drop(['id', 'attr_time'], axis='columns', inplace=True)\n",
    "s2_acc_sit_forearm.drop(['id', 'attr_time'], axis='columns', inplace=True)\n",
    "s2_acc_sit_head.drop(['id', 'attr_time'], axis='columns', inplace=True)\n",
    "s2_acc_sit_shin.drop(['id', 'attr_time'], axis='columns', inplace=True)\n",
    "s2_acc_sit_thigh.drop(['id', 'attr_time'], axis='columns', inplace=True)\n",
    "s2_acc_sit_upperarm.drop(['id', 'attr_time'], axis='columns', inplace=True)\n",
    "s2_acc_sit_waist.drop(['id', 'attr_time'], axis='columns', inplace=True)\n"
   ]
  },
  {
   "cell_type": "code",
   "execution_count": 65,
   "id": "53b7518b",
   "metadata": {},
   "outputs": [],
   "source": [
    "s2_acc_std_chest.drop(['id', 'attr_time'], axis='columns', inplace=True)\n",
    "s2_acc_std_forearm.drop(['id', 'attr_time'], axis='columns', inplace=True)\n",
    "s2_acc_std_head.drop(['id', 'attr_time'], axis='columns', inplace=True)\n",
    "s2_acc_std_shin.drop(['id', 'attr_time'], axis='columns', inplace=True)\n",
    "s2_acc_std_thigh.drop(['id', 'attr_time'], axis='columns', inplace=True)\n",
    "s2_acc_std_upperarm.drop(['id', 'attr_time'], axis='columns', inplace=True)\n",
    "s2_acc_std_waist.drop(['id', 'attr_time'], axis='columns', inplace=True)"
   ]
  },
  {
   "cell_type": "code",
   "execution_count": 66,
   "id": "238b3b6f",
   "metadata": {},
   "outputs": [],
   "source": [
    "s2_acc_wal_chest.drop(['id', 'attr_time'], axis='columns', inplace=True)\n",
    "s2_acc_wal_forearm.drop(['id', 'attr_time'], axis='columns', inplace=True)\n",
    "s2_acc_wal_head.drop(['id', 'attr_time'], axis='columns', inplace=True)\n",
    "s2_acc_wal_shin.drop(['id', 'attr_time'], axis='columns', inplace=True)\n",
    "s2_acc_wal_thigh.drop(['id', 'attr_time'], axis='columns', inplace=True)\n",
    "s2_acc_wal_upperarm.drop(['id', 'attr_time'], axis='columns', inplace=True)\n",
    "s2_acc_wal_waist.drop(['id', 'attr_time'], axis='columns', inplace=True)"
   ]
  },
  {
   "cell_type": "code",
   "execution_count": 67,
   "id": "b42dd670",
   "metadata": {},
   "outputs": [],
   "source": [
    "#accelearation climibig down for user 3"
   ]
  },
  {
   "cell_type": "code",
   "execution_count": 68,
   "id": "74d85ded",
   "metadata": {},
   "outputs": [],
   "source": [
    "s3_acc_cldn_chest = pd.read_csv ('//Users/user/Desktop/realworld2016_dataset/proband3/data/acc_climbingdown_csv/acc_climbingdown_chest.csv')\n",
    "s3_acc_cldn_forearm = pd.read_csv ('/Users/user/Desktop/realworld2016_dataset/proband3/data/acc_climbingdown_csv/acc_climbingdown_forearm.csv')\n",
    "s3_acc_cldn_head = pd.read_csv ('/Users/user/Desktop/realworld2016_dataset/proband3/data/acc_climbingdown_csv/acc_climbingdown_head.csv')\n",
    "s3_acc_cldn_shin = pd.read_csv ('/Users/user/Desktop/realworld2016_dataset/proband3/data/acc_climbingdown_csv/acc_climbingdown_shin.csv')\n",
    "s3_acc_cldn_thigh = pd.read_csv ('/Users/user/Desktop/realworld2016_dataset/proband3/data/acc_climbingdown_csv/acc_climbingdown_thigh.csv')\n",
    "s3_acc_cldn_upperarm = pd.read_csv ('/Users/user/Desktop/realworld2016_dataset/proband3/data/acc_climbingdown_csv/acc_climbingdown_upperarm.csv')\n",
    "s3_acc_cldn_waist = pd.read_csv ('/Users/user/Desktop/realworld2016_dataset/proband3/data/acc_climbingdown_csv/acc_climbingdown_waist.csv')\n"
   ]
  },
  {
   "cell_type": "code",
   "execution_count": 69,
   "id": "e9f95fd6",
   "metadata": {},
   "outputs": [],
   "source": [
    "#accelearation climibig up for user 3"
   ]
  },
  {
   "cell_type": "code",
   "execution_count": 70,
   "id": "5e8b0369",
   "metadata": {},
   "outputs": [],
   "source": [
    "s3_acc_clup_chest = pd.read_csv ('/Users/user/Desktop/realworld2016_dataset/proband3/data/acc_climbingup_csv/acc_climbingup_chest.csv')\n",
    "s3_acc_clup_forearm = pd.read_csv ('/Users/user/Desktop/realworld2016_dataset/proband3/data/acc_climbingup_csv/acc_climbingup_forearm.csv')\n",
    "s3_acc_clup_head = pd.read_csv ('/Users/user/Desktop/realworld2016_dataset/proband3/data/acc_climbingup_csv/acc_climbingup_head.csv')\n",
    "s3_acc_clup_shin = pd.read_csv ('/Users/user/Desktop/realworld2016_dataset/proband3/data/acc_climbingup_csv/acc_climbingup_shin.csv')\n",
    "s3_acc_clup_thigh = pd.read_csv ('/Users/user/Desktop/realworld2016_dataset/proband3/data/acc_climbingup_csv/acc_climbingup_thigh.csv')\n",
    "s3_acc_clup_upperarm = pd.read_csv ('/Users/user/Desktop/realworld2016_dataset/proband3/data/acc_climbingup_csv/acc_climbingup_upperarm.csv')\n",
    "s3_acc_clup_waist = pd.read_csv ('/Users/user/Desktop/realworld2016_dataset/proband3/data/acc_climbingup_csv/acc_climbingup_waist.csv')\n"
   ]
  },
  {
   "cell_type": "code",
   "execution_count": 71,
   "id": "22bcda6c",
   "metadata": {},
   "outputs": [],
   "source": [
    "#accelearation jumping for user 3"
   ]
  },
  {
   "cell_type": "code",
   "execution_count": 72,
   "id": "6c228411",
   "metadata": {},
   "outputs": [],
   "source": [
    "s3_acc_jump_chest = pd.read_csv ('/Users/user/Desktop/realworld2016_dataset/proband3/data/acc_jumping_csv/acc_jumping_chest.csv')\n",
    "s3_acc_jump_forearm = pd.read_csv ('/Users/user/Desktop/realworld2016_dataset/proband3/data/acc_jumping_csv/acc_jumping_forearm.csv')\n",
    "s3_acc_jump_head = pd.read_csv ('/Users/user/Desktop/realworld2016_dataset/proband3/data/acc_jumping_csv/acc_jumping_head.csv')\n",
    "s3_acc_jump_shin = pd.read_csv ('/Users/user/Desktop/realworld2016_dataset/proband3/data/acc_jumping_csv/acc_jumping_shin.csv')\n",
    "s3_acc_jump_thigh = pd.read_csv ('/Users/user/Desktop/realworld2016_dataset/proband3/data/acc_jumping_csv/acc_jumping_thigh.csv')\n",
    "s3_acc_jump_upperarm = pd.read_csv ('/Users/user/Desktop/realworld2016_dataset/proband3/data/acc_jumping_csv/acc_jumping_upperarm.csv')\n",
    "s3_acc_jump_waist = pd.read_csv ('/Users/user/Desktop/realworld2016_dataset/proband3/data/acc_jumping_csv/acc_jumping_waist.csv')"
   ]
  },
  {
   "cell_type": "code",
   "execution_count": 73,
   "id": "a5ddc1ee",
   "metadata": {},
   "outputs": [],
   "source": [
    "#accelearation lying for user 3"
   ]
  },
  {
   "cell_type": "code",
   "execution_count": 74,
   "id": "5c893a54",
   "metadata": {},
   "outputs": [],
   "source": [
    "s3_acc_ly_chest = pd.read_csv ('/Users/user/Desktop/realworld2016_dataset/proband3/data/acc_lying_csv/acc_lying_chest.csv')\n",
    "s3_acc_ly_forearm = pd.read_csv ('/Users/user/Desktop/realworld2016_dataset/proband3/data/acc_lying_csv/acc_lying_forearm.csv')\n",
    "s3_acc_ly_head = pd.read_csv ('/Users/user/Desktop/realworld2016_dataset/proband3/data/acc_lying_csv/acc_lying_head.csv')\n",
    "s3_acc_ly_shin = pd.read_csv ('/Users/user/Desktop/realworld2016_dataset/proband3/data/acc_lying_csv/acc_lying_shin.csv')\n",
    "s3_acc_ly_thigh = pd.read_csv ('/Users/user/Desktop/realworld2016_dataset/proband3/data/acc_lying_csv/acc_lying_thigh.csv')\n",
    "s3_acc_ly_upperarm = pd.read_csv ('/Users/user/Desktop/realworld2016_dataset/proband3/data/acc_lying_csv/acc_lying_upperarm.csv')\n",
    "s3_acc_ly_waist = pd.read_csv ('/Users/user/Desktop/realworld2016_dataset/proband3/data/acc_lying_csv/acc_lying_waist.csv')"
   ]
  },
  {
   "cell_type": "code",
   "execution_count": 75,
   "id": "89ac4b04",
   "metadata": {},
   "outputs": [],
   "source": [
    "#accelearation running for user 3"
   ]
  },
  {
   "cell_type": "code",
   "execution_count": 76,
   "id": "7b220c9c",
   "metadata": {},
   "outputs": [],
   "source": [
    "s3_acc_run_chest = pd.read_csv ('/Users/user/Desktop/realworld2016_dataset/proband3/data/acc_running_csv/acc_running_chest.csv')\n",
    "s3_acc_run_forearm = pd.read_csv ('/Users/user/Desktop/realworld2016_dataset/proband3/data/acc_running_csv/acc_running_forearm.csv')\n",
    "s3_acc_run_head = pd.read_csv ('/Users/user/Desktop/realworld2016_dataset/proband3/data/acc_running_csv/acc_running_head.csv')\n",
    "s3_acc_run_shin = pd.read_csv ('/Users/user/Desktop/realworld2016_dataset/proband3/data/acc_running_csv/acc_running_shin.csv')\n",
    "s3_acc_run_thigh = pd.read_csv ('/Users/user/Desktop/realworld2016_dataset/proband3/data/acc_running_csv/acc_running_thigh.csv')\n",
    "s3_acc_run_upperarm = pd.read_csv ('/Users/user/Desktop/realworld2016_dataset/proband3/data/acc_running_csv/acc_running_upperarm.csv')\n",
    "s3_acc_run_waist = pd.read_csv ('/Users/user/Desktop/realworld2016_dataset/proband3/data/acc_running_csv/acc_running_waist.csv')"
   ]
  },
  {
   "cell_type": "code",
   "execution_count": 77,
   "id": "1f76594f",
   "metadata": {},
   "outputs": [],
   "source": [
    "#accelearation sitting for user 3"
   ]
  },
  {
   "cell_type": "code",
   "execution_count": 78,
   "id": "07fc0eca",
   "metadata": {},
   "outputs": [],
   "source": [
    "s3_acc_sit_chest = pd.read_csv ('/Users/user/Desktop/realworld2016_dataset/proband3/data/acc_sitting_csv/acc_sitting_chest.csv')\n",
    "s3_acc_sit_forearm = pd.read_csv ('/Users/user/Desktop/realworld2016_dataset/proband3/data/acc_sitting_csv/acc_sitting_forearm.csv')\n",
    "s3_acc_sit_head = pd.read_csv ('/Users/user/Desktop/realworld2016_dataset/proband3/data/acc_sitting_csv/acc_sitting_head.csv')\n",
    "s3_acc_sit_shin = pd.read_csv ('/Users/user/Desktop/realworld2016_dataset/proband3/data/acc_sitting_csv/acc_sitting_shin.csv')\n",
    "s3_acc_sit_thigh = pd.read_csv ('/Users/user/Desktop/realworld2016_dataset/proband3/data/acc_sitting_csv/acc_sitting_thigh.csv')\n",
    "s3_acc_sit_upperarm = pd.read_csv ('/Users/user/Desktop/realworld2016_dataset/proband3/data/acc_sitting_csv/acc_sitting_upperarm.csv')\n",
    "s3_acc_sit_waist = pd.read_csv ('/Users/user/Desktop/realworld2016_dataset/proband3/data/acc_sitting_csv/acc_sitting_waist.csv')"
   ]
  },
  {
   "cell_type": "code",
   "execution_count": 79,
   "id": "7e051327",
   "metadata": {},
   "outputs": [],
   "source": [
    "#accelearation standing for user 3"
   ]
  },
  {
   "cell_type": "code",
   "execution_count": 80,
   "id": "5aaa679d",
   "metadata": {},
   "outputs": [],
   "source": [
    "s3_acc_std_chest = pd.read_csv ('/Users/user/Desktop/realworld2016_dataset/proband3/data/acc_standing_csv/acc_standing_chest.csv')\n",
    "s3_acc_std_forearm = pd.read_csv ('/Users/user/Desktop/realworld2016_dataset/proband3/data/acc_standing_csv/acc_standing_forearm.csv')\n",
    "s3_acc_std_head = pd.read_csv ('/Users/user/Desktop/realworld2016_dataset/proband3/data/acc_standing_csv/acc_standing_head.csv')\n",
    "s3_acc_std_shin = pd.read_csv ('/Users/user/Desktop/realworld2016_dataset/proband3/data/acc_standing_csv/acc_standing_shin.csv')\n",
    "s3_acc_std_thigh = pd.read_csv ('/Users/user/Desktop/realworld2016_dataset/proband3/data/acc_standing_csv/acc_standing_thigh.csv')\n",
    "s3_acc_std_upperarm = pd.read_csv ('/Users/user/Desktop/realworld2016_dataset/proband3/data/acc_standing_csv/acc_standing_upperarm.csv')\n",
    "s3_acc_std_waist = pd.read_csv ('/Users/user/Desktop/realworld2016_dataset/proband3/data/acc_standing_csv/acc_standing_waist.csv')"
   ]
  },
  {
   "cell_type": "code",
   "execution_count": 81,
   "id": "82fdf864",
   "metadata": {},
   "outputs": [],
   "source": [
    "#accelearation walking for user 3"
   ]
  },
  {
   "cell_type": "code",
   "execution_count": 82,
   "id": "cde5b638",
   "metadata": {},
   "outputs": [],
   "source": [
    "s3_acc_wal_chest = pd.read_csv ('/Users/user/Desktop/realworld2016_dataset/proband3/data/acc_walking_csv/acc_walking_chest.csv')\n",
    "s3_acc_wal_forearm = pd.read_csv ('/Users/user/Desktop/realworld2016_dataset/proband3/data/acc_walking_csv/acc_walking_forearm.csv')\n",
    "s3_acc_wal_head = pd.read_csv ('/Users/user/Desktop/realworld2016_dataset/proband3/data/acc_walking_csv/acc_walking_head.csv')\n",
    "s3_acc_wal_shin = pd.read_csv ('/Users/user/Desktop/realworld2016_dataset/proband3/data/acc_walking_csv/acc_walking_shin.csv')\n",
    "s3_acc_wal_thigh = pd.read_csv ('/Users/user/Desktop/realworld2016_dataset/proband3/data/acc_walking_csv/acc_walking_thigh.csv')\n",
    "s3_acc_wal_upperarm = pd.read_csv ('/Users/user/Desktop/realworld2016_dataset/proband3/data/acc_walking_csv/acc_walking_upperarm.csv')\n",
    "s3_acc_wal_waist = pd.read_csv ('/Users/user/Desktop/realworld2016_dataset/proband3/data/acc_walking_csv/acc_walking_waist.csv')"
   ]
  },
  {
   "cell_type": "code",
   "execution_count": 83,
   "id": "d84118cf",
   "metadata": {},
   "outputs": [],
   "source": [
    "s3_acc_cldn_chest.drop(['id', 'attr_time'], axis='columns', inplace=True)\n",
    "s3_acc_cldn_forearm.drop(['id', 'attr_time'], axis='columns', inplace=True)\n",
    "s3_acc_cldn_head.drop(['id', 'attr_time'], axis='columns', inplace=True)\n",
    "s3_acc_cldn_shin.drop(['id', 'attr_time'], axis='columns', inplace=True)\n",
    "s3_acc_cldn_thigh.drop(['id', 'attr_time'], axis='columns', inplace=True)\n",
    "s3_acc_cldn_upperarm.drop(['id', 'attr_time'], axis='columns', inplace=True)\n",
    "s3_acc_cldn_waist.drop(['id', 'attr_time'], axis='columns', inplace=True)"
   ]
  },
  {
   "cell_type": "code",
   "execution_count": 84,
   "id": "1acd80f4",
   "metadata": {},
   "outputs": [],
   "source": [
    "s3_acc_clup_chest.drop(['id', 'attr_time'], axis='columns', inplace=True)\n",
    "s3_acc_clup_forearm.drop(['id', 'attr_time'], axis='columns', inplace=True)\n",
    "s3_acc_clup_head.drop(['id', 'attr_time'], axis='columns', inplace=True)\n",
    "s3_acc_clup_shin.drop(['id', 'attr_time'], axis='columns', inplace=True)\n",
    "s3_acc_clup_thigh.drop(['id', 'attr_time'], axis='columns', inplace=True)\n",
    "s3_acc_clup_upperarm.drop(['id', 'attr_time'], axis='columns', inplace=True)\n",
    "s3_acc_clup_waist.drop(['id', 'attr_time'], axis='columns', inplace=True)"
   ]
  },
  {
   "cell_type": "code",
   "execution_count": 85,
   "id": "5638d922",
   "metadata": {},
   "outputs": [],
   "source": [
    "s3_acc_jump_chest.drop(['id', 'attr_time'], axis='columns', inplace=True)\n",
    "s3_acc_jump_forearm.drop(['id', 'attr_time'], axis='columns', inplace=True)\n",
    "s3_acc_jump_head.drop(['id', 'attr_time'], axis='columns', inplace=True)\n",
    "s3_acc_jump_shin.drop(['id', 'attr_time'], axis='columns', inplace=True)\n",
    "s3_acc_jump_thigh.drop(['id', 'attr_time'], axis='columns', inplace=True)\n",
    "s3_acc_jump_upperarm.drop(['id', 'attr_time'], axis='columns', inplace=True)\n",
    "s3_acc_jump_waist.drop(['id', 'attr_time'], axis='columns', inplace=True)"
   ]
  },
  {
   "cell_type": "code",
   "execution_count": 86,
   "id": "d11523da",
   "metadata": {},
   "outputs": [],
   "source": [
    "s3_acc_ly_chest.drop(['id', 'attr_time'], axis='columns', inplace=True)\n",
    "s3_acc_ly_forearm.drop(['id', 'attr_time'], axis='columns', inplace=True)\n",
    "s3_acc_ly_head.drop(['id', 'attr_time'], axis='columns', inplace=True)\n",
    "s3_acc_ly_shin.drop(['id', 'attr_time'], axis='columns', inplace=True)\n",
    "s3_acc_ly_thigh.drop(['id', 'attr_time'], axis='columns', inplace=True)\n",
    "s3_acc_ly_upperarm.drop(['id', 'attr_time'], axis='columns', inplace=True)\n",
    "s3_acc_ly_waist.drop(['id', 'attr_time'], axis='columns', inplace=True)\n"
   ]
  },
  {
   "cell_type": "code",
   "execution_count": 87,
   "id": "89c18350",
   "metadata": {},
   "outputs": [],
   "source": [
    "s3_acc_run_chest.drop(['id', 'attr_time'], axis='columns', inplace=True)\n",
    "s3_acc_run_forearm.drop(['id', 'attr_time'], axis='columns', inplace=True)\n",
    "s3_acc_run_head.drop(['id', 'attr_time'], axis='columns', inplace=True)\n",
    "s3_acc_run_shin.drop(['id', 'attr_time'], axis='columns', inplace=True)\n",
    "s3_acc_run_thigh.drop(['id', 'attr_time'], axis='columns', inplace=True)\n",
    "s3_acc_run_upperarm.drop(['id', 'attr_time'], axis='columns', inplace=True)\n",
    "s3_acc_run_waist.drop(['id', 'attr_time'], axis='columns', inplace=True)"
   ]
  },
  {
   "cell_type": "code",
   "execution_count": 88,
   "id": "4eef022f",
   "metadata": {},
   "outputs": [],
   "source": [
    "s3_acc_sit_chest.drop(['id', 'attr_time'], axis='columns', inplace=True)\n",
    "s3_acc_sit_forearm.drop(['id', 'attr_time'], axis='columns', inplace=True)\n",
    "s3_acc_sit_head.drop(['id', 'attr_time'], axis='columns', inplace=True)\n",
    "s3_acc_sit_shin.drop(['id', 'attr_time'], axis='columns', inplace=True)\n",
    "s3_acc_sit_thigh.drop(['id', 'attr_time'], axis='columns', inplace=True)\n",
    "s3_acc_sit_upperarm.drop(['id', 'attr_time'], axis='columns', inplace=True)\n",
    "s3_acc_sit_waist.drop(['id', 'attr_time'], axis='columns', inplace=True)"
   ]
  },
  {
   "cell_type": "code",
   "execution_count": 89,
   "id": "9a9bfe7e",
   "metadata": {},
   "outputs": [],
   "source": [
    "s3_acc_std_chest.drop(['id', 'attr_time'], axis='columns', inplace=True)\n",
    "s3_acc_std_forearm.drop(['id', 'attr_time'], axis='columns', inplace=True)\n",
    "s3_acc_std_head.drop(['id', 'attr_time'], axis='columns', inplace=True)\n",
    "s3_acc_std_shin.drop(['id', 'attr_time'], axis='columns', inplace=True)\n",
    "s3_acc_std_thigh.drop(['id', 'attr_time'], axis='columns', inplace=True)\n",
    "s3_acc_std_upperarm.drop(['id', 'attr_time'], axis='columns', inplace=True)\n",
    "s3_acc_std_waist.drop(['id', 'attr_time'], axis='columns', inplace=True)"
   ]
  },
  {
   "cell_type": "code",
   "execution_count": 90,
   "id": "1334f721",
   "metadata": {},
   "outputs": [],
   "source": [
    "s3_acc_wal_chest.drop(['id', 'attr_time'], axis='columns', inplace=True)\n",
    "s3_acc_wal_forearm.drop(['id', 'attr_time'], axis='columns', inplace=True)\n",
    "s3_acc_wal_head.drop(['id', 'attr_time'], axis='columns', inplace=True)\n",
    "s3_acc_wal_shin.drop(['id', 'attr_time'], axis='columns', inplace=True)\n",
    "s3_acc_wal_thigh.drop(['id', 'attr_time'], axis='columns', inplace=True)\n",
    "s3_acc_wal_upperarm.drop(['id', 'attr_time'], axis='columns', inplace=True)\n",
    "s3_acc_wal_waist.drop(['id', 'attr_time'], axis='columns', inplace=True)\n"
   ]
  },
  {
   "cell_type": "code",
   "execution_count": 91,
   "id": "3b3a373f",
   "metadata": {},
   "outputs": [],
   "source": [
    "#acceleration climibing down for user 4"
   ]
  },
  {
   "cell_type": "code",
   "execution_count": 92,
   "id": "526ec5c0",
   "metadata": {},
   "outputs": [],
   "source": [
    "s4_acc_cldn_chest = pd.read_csv ('/Users/user/Desktop/realworld2016_dataset/proband4/data/acc_climbingdown_csv/acc_climbingdown_chest.csv')\n",
    "s4_acc_cldn_forearm = pd.read_csv ('/Users/user/Desktop/realworld2016_dataset/proband4/data/acc_climbingdown_csv/acc_climbingdown_forearm.csv')\n",
    "s4_acc_cldn_head = pd.read_csv ('/Users/user/Desktop/realworld2016_dataset/proband4/data/acc_climbingdown_csv/acc_climbingdown_head.csv')\n",
    "s4_acc_cldn_shin = pd.read_csv ('/Users/user/Desktop/realworld2016_dataset/proband4/data/acc_climbingdown_csv/acc_climbingdown_shin.csv')\n",
    "s4_acc_cldn_thigh = pd.read_csv ('/Users/user/Desktop/realworld2016_dataset/proband4/data/acc_climbingdown_csv/acc_climbingdown_thigh.csv')\n",
    "s4_acc_cldn_upperarm = pd.read_csv ('/Users/user/Desktop/realworld2016_dataset/proband4/data/acc_climbingdown_csv/acc_climbingdown_upperarm.csv')\n",
    "s4_acc_cldn_waist = pd.read_csv ('/Users/user/Desktop/realworld2016_dataset/proband4/data/acc_climbingdown_csv/acc_climbingdown_waist.csv')\n"
   ]
  },
  {
   "cell_type": "code",
   "execution_count": 93,
   "id": "3dc873d9",
   "metadata": {},
   "outputs": [],
   "source": [
    "#acceleration climibing up for user 4"
   ]
  },
  {
   "cell_type": "code",
   "execution_count": 94,
   "id": "3cd661ab",
   "metadata": {},
   "outputs": [],
   "source": [
    "s4_acc_clup_chest = pd.read_csv ('/Users/user/Desktop/realworld2016_dataset/proband4/data/acc_climbingup_csv/acc_climbingup_chest.csv')\n",
    "s4_acc_clup_forearm = pd.read_csv ('/Users/user/Desktop/realworld2016_dataset/proband4/data/acc_climbingup_csv/acc_climbingup_forearm.csv')\n",
    "s4_acc_clup_head = pd.read_csv ('/Users/user/Desktop/realworld2016_dataset/proband4/data/acc_climbingup_csv/acc_climbingup_head.csv')\n",
    "s4_acc_clup_shin = pd.read_csv ('/Users/user/Desktop/realworld2016_dataset/proband4/data/acc_climbingup_csv/acc_climbingup_shin.csv')\n",
    "s4_acc_clup_thigh = pd.read_csv ('/Users/user/Desktop/realworld2016_dataset/proband4/data/acc_climbingup_csv/acc_climbingup_thigh.csv')\n",
    "s4_acc_clup_upperarm = pd.read_csv ('/Users/user/Desktop/realworld2016_dataset/proband4/data/acc_climbingup_csv/acc_climbingup_upperarm.csv')\n",
    "s4_acc_clup_waist = pd.read_csv ('/Users/user/Desktop/realworld2016_dataset/proband4/data/acc_climbingup_csv/acc_climbingup_waist.csv')\n"
   ]
  },
  {
   "cell_type": "code",
   "execution_count": 95,
   "id": "0211ca0d",
   "metadata": {},
   "outputs": [],
   "source": [
    "#acceleration  jumping for user 4"
   ]
  },
  {
   "cell_type": "code",
   "execution_count": 96,
   "id": "2fdb4f8b",
   "metadata": {},
   "outputs": [],
   "source": [
    "s4_acc_jump_chest = pd.read_csv ('/Users/user/Desktop/realworld2016_dataset/proband4/data/acc_jumping_csv/acc_jumping_chest.csv')\n",
    "s4_acc_jump_forearm = pd.read_csv ('/Users/user/Desktop/realworld2016_dataset/proband4/data/acc_jumping_csv/acc_jumping_forearm.csv')\n",
    "s4_acc_jump_head = pd.read_csv ('/Users/user/Desktop/realworld2016_dataset/proband4/data/acc_jumping_csv/acc_jumping_head.csv')\n",
    "s4_acc_jump_shin = pd.read_csv ('/Users/user/Desktop/realworld2016_dataset/proband4/data/acc_jumping_csv/acc_jumping_shin.csv')\n",
    "s4_acc_jump_thigh = pd.read_csv ('/Users/user/Desktop/realworld2016_dataset/proband4/data/acc_jumping_csv/acc_jumping_thigh.csv')\n",
    "s4_acc_jump_upperarm = pd.read_csv ('/Users/user/Desktop/realworld2016_dataset/proband4/data/acc_jumping_csv/acc_jumping_upperarm.csv')\n",
    "s4_acc_jump_waist = pd.read_csv ('/Users/user/Desktop/realworld2016_dataset/proband4/data/acc_jumping_csv/acc_jumping_waist.csv')\n"
   ]
  },
  {
   "cell_type": "code",
   "execution_count": 97,
   "id": "a155895c",
   "metadata": {},
   "outputs": [],
   "source": [
    "#acceleration  lying for user 4"
   ]
  },
  {
   "cell_type": "code",
   "execution_count": 98,
   "id": "e9d2a103",
   "metadata": {},
   "outputs": [],
   "source": [
    "s4_acc_ly_chest = pd.read_csv ('/Users/user/Desktop/realworld2016_dataset/proband4/data/acc_lying_csv/acc_lying_chest.csv')\n",
    "s4_acc_ly_forearm = pd.read_csv ('/Users/user/Desktop/realworld2016_dataset/proband4/data/acc_lying_csv/acc_lying_forearm.csv')\n",
    "s4_acc_ly_head = pd.read_csv ('/Users/user/Desktop/realworld2016_dataset/proband4/data/acc_lying_csv/acc_lying_head.csv')\n",
    "s4_acc_ly_shin = pd.read_csv ('/Users/user/Desktop/realworld2016_dataset/proband4/data/acc_lying_csv/acc_lying_shin.csv')\n",
    "s4_acc_ly_thigh = pd.read_csv ('/Users/user/Desktop/realworld2016_dataset/proband4/data/acc_lying_csv/acc_lying_thigh.csv')\n",
    "s4_acc_ly_upperarm = pd.read_csv ('/Users/user/Desktop/realworld2016_dataset/proband4/data/acc_lying_csv/acc_lying_upperarm.csv')\n",
    "s4_acc_ly_waist = pd.read_csv ('/Users/user/Desktop/realworld2016_dataset/proband4/data/acc_lying_csv/acc_lying_waist.csv')\n"
   ]
  },
  {
   "cell_type": "code",
   "execution_count": 99,
   "id": "b61e9559",
   "metadata": {},
   "outputs": [],
   "source": [
    "#acceleration  running for user 4"
   ]
  },
  {
   "cell_type": "code",
   "execution_count": 100,
   "id": "72ecb0db",
   "metadata": {},
   "outputs": [],
   "source": [
    "s4_acc_run_chest = pd.read_csv ('/Users/user/Desktop/realworld2016_dataset/proband4/data/acc_running_csv/acc_running_chest.csv')\n",
    "s4_acc_run_forearm = pd.read_csv ('/Users/user/Desktop/realworld2016_dataset/proband4/data/acc_running_csv/acc_running_forearm.csv')\n",
    "s4_acc_run_head = pd.read_csv ('/Users/user/Desktop/realworld2016_dataset/proband4/data/acc_running_csv/acc_running_head.csv')\n",
    "s4_acc_run_shin = pd.read_csv ('/Users/user/Desktop/realworld2016_dataset/proband4/data/acc_running_csv/acc_running_shin.csv')\n",
    "s4_acc_run_thigh = pd.read_csv ('/Users/user/Desktop/realworld2016_dataset/proband4/data/acc_running_csv/acc_running_thigh.csv')\n",
    "s4_acc_run_upperarm = pd.read_csv ('/Users/user/Desktop/realworld2016_dataset/proband4/data/acc_running_csv/acc_running_upperarm.csv')\n",
    "s4_acc_run_waist = pd.read_csv ('/Users/user/Desktop/realworld2016_dataset/proband4/data/acc_running_csv/acc_running_waist.csv')"
   ]
  },
  {
   "cell_type": "code",
   "execution_count": 101,
   "id": "70e12f52",
   "metadata": {},
   "outputs": [],
   "source": [
    "#acceleration  sitting for user 4"
   ]
  },
  {
   "cell_type": "code",
   "execution_count": 102,
   "id": "6ae112ac",
   "metadata": {},
   "outputs": [],
   "source": [
    "s4_acc_sit_chest = pd.read_csv ('/Users/user/Desktop/realworld2016_dataset/proband4/data/acc_sitting_csv/acc_sitting_chest.csv')\n",
    "s4_acc_sit_forearm = pd.read_csv ('/Users/user/Desktop/realworld2016_dataset/proband4/data/acc_sitting_csv/acc_sitting_forearm.csv')\n",
    "s4_acc_sit_head = pd.read_csv ('/Users/user/Desktop/realworld2016_dataset/proband4/data/acc_sitting_csv/acc_sitting_head.csv')\n",
    "s4_acc_sit_shin = pd.read_csv ('/Users/user/Desktop/realworld2016_dataset/proband4/data/acc_sitting_csv/acc_sitting_shin.csv')\n",
    "s4_acc_sit_thigh = pd.read_csv ('/Users/user/Desktop/realworld2016_dataset/proband4/data/acc_sitting_csv/acc_sitting_thigh.csv')\n",
    "s4_acc_sit_upperarm = pd.read_csv ('/Users/user/Desktop/realworld2016_dataset/proband4/data/acc_sitting_csv/acc_sitting_upperarm.csv')\n",
    "s4_acc_sit_waist = pd.read_csv ('/Users/user/Desktop/realworld2016_dataset/proband4/data/acc_sitting_csv/acc_sitting_waist.csv')\n"
   ]
  },
  {
   "cell_type": "code",
   "execution_count": 103,
   "id": "1ace3879",
   "metadata": {},
   "outputs": [],
   "source": [
    "#acceleration  standing for user 4"
   ]
  },
  {
   "cell_type": "code",
   "execution_count": 104,
   "id": "7aa06102",
   "metadata": {},
   "outputs": [],
   "source": [
    "s4_acc_std_chest = pd.read_csv ('/Users/user/Desktop/realworld2016_dataset/proband4/data/acc_standing_csv/acc_standing_chest.csv')\n",
    "s4_acc_std_forearm = pd.read_csv ('/Users/user/Desktop/realworld2016_dataset/proband4/data/acc_standing_csv/acc_standing_forearm.csv')\n",
    "s4_acc_std_head = pd.read_csv ('/Users/user/Desktop/realworld2016_dataset/proband4/data/acc_standing_csv/acc_standing_head.csv')\n",
    "s4_acc_std_shin = pd.read_csv ('/Users/user/Desktop/realworld2016_dataset/proband4/data/acc_standing_csv/acc_standing_shin.csv')\n",
    "s4_acc_std_thigh = pd.read_csv ('/Users/user/Desktop/realworld2016_dataset/proband4/data/acc_standing_csv/acc_standing_thigh.csv')\n",
    "s4_acc_std_upperarm = pd.read_csv ('/Users/user/Desktop/realworld2016_dataset/proband4/data/acc_standing_csv/acc_standing_upperarm.csv')\n",
    "s4_acc_std_waist = pd.read_csv ('/Users/user/Desktop/realworld2016_dataset/proband4/data/acc_standing_csv/acc_standing_waist.csv')\n"
   ]
  },
  {
   "cell_type": "code",
   "execution_count": 105,
   "id": "876dcf32",
   "metadata": {},
   "outputs": [],
   "source": [
    "#acceleration  walking for user 4"
   ]
  },
  {
   "cell_type": "code",
   "execution_count": 106,
   "id": "587fb730",
   "metadata": {},
   "outputs": [],
   "source": [
    "s4_acc_wal_chest = pd.read_csv ('/Users/user/Desktop/realworld2016_dataset/proband4/data/acc_walking_csv/acc_walking_2_chest.csv')\n",
    "s4_acc_wal_forearm = pd.read_csv ('/Users/user/Desktop/realworld2016_dataset/proband4/data/acc_walking_csv/acc_walking_2_forearm.csv')\n",
    "s4_acc_wal_head = pd.read_csv ('/Users/user/Desktop/realworld2016_dataset/proband4/data/acc_walking_csv/acc_walking_2_head.csv')\n",
    "s4_acc_wal_shin = pd.read_csv ('/Users/user/Desktop/realworld2016_dataset/proband4/data/acc_walking_csv/acc_walking_2_shin.csv')\n",
    "s4_acc_wal_thigh = pd.read_csv ('/Users/user/Desktop/realworld2016_dataset/proband4/data/acc_walking_csv/acc_walking_2_thigh.csv')\n",
    "s4_acc_wal_upperarm = pd.read_csv ('/Users/user/Desktop/realworld2016_dataset/proband4/data/acc_walking_csv/acc_walking_2_upperarm.csv')\n",
    "s4_acc_wal_waist = pd.read_csv ('/Users/user/Desktop/realworld2016_dataset/proband4/data/acc_walking_csv/acc_walking_2_waist.csv')\n"
   ]
  },
  {
   "cell_type": "code",
   "execution_count": 107,
   "id": "39f294be",
   "metadata": {},
   "outputs": [],
   "source": [
    "s4_acc_cldn_chest.drop(['id', 'attr_time'], axis='columns', inplace=True)\n",
    "s4_acc_cldn_forearm.drop(['id', 'attr_time'], axis='columns', inplace=True)\n",
    "s4_acc_cldn_head.drop(['id', 'attr_time'], axis='columns', inplace=True)\n",
    "s4_acc_cldn_shin.drop(['id', 'attr_time'], axis='columns', inplace=True)\n",
    "s4_acc_cldn_thigh.drop(['id', 'attr_time'], axis='columns', inplace=True)\n",
    "s4_acc_cldn_upperarm.drop(['id', 'attr_time'], axis='columns', inplace=True)\n",
    "s4_acc_cldn_waist.drop(['id', 'attr_time'], axis='columns', inplace=True)\n"
   ]
  },
  {
   "cell_type": "code",
   "execution_count": 108,
   "id": "61383438",
   "metadata": {},
   "outputs": [],
   "source": [
    "s4_acc_clup_chest.drop(['id', 'attr_time'], axis='columns', inplace=True)\n",
    "s4_acc_clup_forearm.drop(['id', 'attr_time'], axis='columns', inplace=True)\n",
    "s4_acc_clup_head.drop(['id', 'attr_time'], axis='columns', inplace=True)\n",
    "s4_acc_clup_shin.drop(['id', 'attr_time'], axis='columns', inplace=True)\n",
    "s4_acc_clup_thigh.drop(['id', 'attr_time'], axis='columns', inplace=True)\n",
    "s4_acc_clup_upperarm.drop(['id', 'attr_time'], axis='columns', inplace=True)\n",
    "s4_acc_clup_waist.drop(['id', 'attr_time'], axis='columns', inplace=True)"
   ]
  },
  {
   "cell_type": "code",
   "execution_count": 109,
   "id": "da7962f4",
   "metadata": {},
   "outputs": [],
   "source": [
    "s4_acc_jump_chest.drop(['id', 'attr_time'], axis='columns', inplace=True)\n",
    "s4_acc_jump_forearm.drop(['id', 'attr_time'], axis='columns', inplace=True)\n",
    "s4_acc_jump_head.drop(['id', 'attr_time'], axis='columns', inplace=True)\n",
    "s4_acc_jump_shin.drop(['id', 'attr_time'], axis='columns', inplace=True)\n",
    "s4_acc_jump_thigh.drop(['id', 'attr_time'], axis='columns', inplace=True)\n",
    "s4_acc_jump_upperarm.drop(['id', 'attr_time'], axis='columns', inplace=True)\n",
    "s4_acc_jump_waist.drop(['id', 'attr_time'], axis='columns', inplace=True)\n"
   ]
  },
  {
   "cell_type": "code",
   "execution_count": 110,
   "id": "15f6c468",
   "metadata": {},
   "outputs": [],
   "source": [
    "s4_acc_ly_chest.drop(['id', 'attr_time'], axis='columns', inplace=True)\n",
    "s4_acc_ly_forearm.drop(['id', 'attr_time'], axis='columns', inplace=True)\n",
    "s4_acc_ly_head.drop(['id', 'attr_time'], axis='columns', inplace=True)\n",
    "s4_acc_ly_shin.drop(['id', 'attr_time'], axis='columns', inplace=True)\n",
    "s4_acc_ly_thigh.drop(['id', 'attr_time'], axis='columns', inplace=True)\n",
    "s4_acc_ly_upperarm.drop(['id', 'attr_time'], axis='columns', inplace=True)\n",
    "s4_acc_ly_waist.drop(['id', 'attr_time'], axis='columns', inplace=True)"
   ]
  },
  {
   "cell_type": "code",
   "execution_count": 111,
   "id": "650cae69",
   "metadata": {},
   "outputs": [],
   "source": [
    "s4_acc_run_chest.drop(['id', 'attr_time'], axis='columns', inplace=True)\n",
    "s4_acc_run_forearm.drop(['id', 'attr_time'], axis='columns', inplace=True)\n",
    "s4_acc_run_head.drop(['id', 'attr_time'], axis='columns', inplace=True)\n",
    "s4_acc_run_shin.drop(['id', 'attr_time'], axis='columns', inplace=True)\n",
    "s4_acc_run_thigh.drop(['id', 'attr_time'], axis='columns', inplace=True)\n",
    "s4_acc_run_upperarm.drop(['id', 'attr_time'], axis='columns', inplace=True)\n",
    "s4_acc_run_waist.drop(['id', 'attr_time'], axis='columns', inplace=True)\n"
   ]
  },
  {
   "cell_type": "code",
   "execution_count": 112,
   "id": "96c53653",
   "metadata": {},
   "outputs": [],
   "source": [
    "s4_acc_sit_chest.drop(['id', 'attr_time'], axis='columns', inplace=True)\n",
    "s4_acc_sit_forearm.drop(['id', 'attr_time'], axis='columns', inplace=True)\n",
    "s4_acc_sit_head.drop(['id', 'attr_time'], axis='columns', inplace=True)\n",
    "s4_acc_sit_shin.drop(['id', 'attr_time'], axis='columns', inplace=True)\n",
    "s4_acc_sit_thigh.drop(['id', 'attr_time'], axis='columns', inplace=True)\n",
    "s4_acc_sit_upperarm.drop(['id', 'attr_time'], axis='columns', inplace=True)\n",
    "s4_acc_sit_waist.drop(['id', 'attr_time'], axis='columns', inplace=True)"
   ]
  },
  {
   "cell_type": "code",
   "execution_count": 113,
   "id": "6894674a",
   "metadata": {},
   "outputs": [],
   "source": [
    "s4_acc_std_chest.drop(['id', 'attr_time'], axis='columns', inplace=True)\n",
    "s4_acc_std_forearm.drop(['id', 'attr_time'], axis='columns', inplace=True)\n",
    "s4_acc_std_head.drop(['id', 'attr_time'], axis='columns', inplace=True)\n",
    "s4_acc_std_shin.drop(['id', 'attr_time'], axis='columns', inplace=True)\n",
    "s4_acc_std_thigh.drop(['id', 'attr_time'], axis='columns', inplace=True)\n",
    "s4_acc_std_upperarm.drop(['id', 'attr_time'], axis='columns', inplace=True)\n",
    "s4_acc_std_waist.drop(['id', 'attr_time'], axis='columns', inplace=True)"
   ]
  },
  {
   "cell_type": "code",
   "execution_count": 114,
   "id": "23d4bee3",
   "metadata": {},
   "outputs": [],
   "source": [
    "s4_acc_wal_chest.drop(['id', 'attr_time'], axis='columns', inplace=True)\n",
    "s4_acc_wal_forearm.drop(['id', 'attr_time'], axis='columns', inplace=True)\n",
    "s4_acc_wal_head.drop(['id', 'attr_time'], axis='columns', inplace=True)\n",
    "s4_acc_wal_shin.drop(['id', 'attr_time'], axis='columns', inplace=True)\n",
    "s4_acc_wal_thigh.drop(['id', 'attr_time'], axis='columns', inplace=True)\n",
    "s4_acc_wal_upperarm.drop(['id', 'attr_time'], axis='columns', inplace=True)\n",
    "s4_acc_wal_waist.drop(['id', 'attr_time'], axis='columns', inplace=True)"
   ]
  },
  {
   "cell_type": "code",
   "execution_count": 115,
   "id": "4d37cd5b",
   "metadata": {},
   "outputs": [],
   "source": [
    "#acceleration climbing down for user 5"
   ]
  },
  {
   "cell_type": "code",
   "execution_count": 116,
   "id": "879dc69e",
   "metadata": {},
   "outputs": [],
   "source": [
    "s5_acc_cldn_chest = pd.read_csv ('/Users/user/Desktop/realworld2016_dataset/proband5/data/acc_climbingdown_csv/acc_climbingdown_chest.csv')\n",
    "s5_acc_cldn_forearm = pd.read_csv ('/Users/user/Desktop/realworld2016_dataset/proband5/data/acc_climbingdown_csv/acc_climbingdown_forearm.csv')\n",
    "s5_acc_cldn_head = pd.read_csv ('/Users/user/Desktop/realworld2016_dataset/proband5/data/acc_climbingdown_csv/acc_climbingdown_head.csv')\n",
    "s5_acc_cldn_shin = pd.read_csv ('/Users/user/Desktop/realworld2016_dataset/proband5/data/acc_climbingdown_csv/acc_climbingdown_shin.csv')\n",
    "s5_acc_cldn_thigh = pd.read_csv ('/Users/user/Desktop/realworld2016_dataset/proband5/data/acc_climbingdown_csv/acc_climbingdown_thigh.csv')\n",
    "s5_acc_cldn_upperarm = pd.read_csv ('/Users/user/Desktop/realworld2016_dataset/proband5/data/acc_climbingdown_csv/acc_climbingdown_upperarm.csv')\n",
    "s5_acc_cldn_waist = pd.read_csv ('/Users/user/Desktop/realworld2016_dataset/proband5/data/acc_climbingdown_csv/acc_climbingdown_waist.csv')"
   ]
  },
  {
   "cell_type": "code",
   "execution_count": 117,
   "id": "d18feddb",
   "metadata": {},
   "outputs": [],
   "source": [
    "#acceleration climbing up for user 5"
   ]
  },
  {
   "cell_type": "code",
   "execution_count": 118,
   "id": "237069b8",
   "metadata": {},
   "outputs": [],
   "source": [
    "s5_acc_clup_chest = pd.read_csv ('/Users/user/Desktop/realworld2016_dataset/proband5/data/acc_climbingup_csv/acc_climbingup_chest.csv')\n",
    "s5_acc_clup_forearm = pd.read_csv ('/Users/user/Desktop/realworld2016_dataset/proband5/data/acc_climbingup_csv/acc_climbingup_forearm.csv')\n",
    "s5_acc_clup_head = pd.read_csv ('/Users/user/Desktop/realworld2016_dataset/proband5/data/acc_climbingup_csv/acc_climbingup_head.csv')\n",
    "s5_acc_clup_shin = pd.read_csv ('/Users/user/Desktop/realworld2016_dataset/proband5/data/acc_climbingup_csv/acc_climbingup_shin.csv')\n",
    "s5_acc_clup_thigh = pd.read_csv ('/Users/user/Desktop/realworld2016_dataset/proband5/data/acc_climbingup_csv/acc_climbingup_thigh.csv')\n",
    "s5_acc_clup_upperarm = pd.read_csv ('/Users/user/Desktop/realworld2016_dataset/proband5/data/acc_climbingup_csv/acc_climbingup_upperarm.csv')\n",
    "s5_acc_clup_waist = pd.read_csv ('/Users/user/Desktop/realworld2016_dataset/proband5/data/acc_climbingup_csv/acc_climbingup_waist.csv')"
   ]
  },
  {
   "cell_type": "code",
   "execution_count": 119,
   "id": "4aeb8147",
   "metadata": {},
   "outputs": [],
   "source": [
    "#acceleration jumping for user 5"
   ]
  },
  {
   "cell_type": "code",
   "execution_count": 120,
   "id": "81438285",
   "metadata": {},
   "outputs": [],
   "source": [
    "s5_acc_jump_chest = pd.read_csv ('/Users/user/Desktop/realworld2016_dataset/proband5/data/acc_jumping_csv/acc_jumping_chest.csv')\n",
    "s5_acc_jump_forearm = pd.read_csv ('/Users/user/Desktop/realworld2016_dataset/proband5/data/acc_jumping_csv/acc_jumping_forearm.csv')\n",
    "s5_acc_jump_head = pd.read_csv ('/Users/user/Desktop/realworld2016_dataset/proband5/data/acc_jumping_csv/acc_jumping_head.csv')\n",
    "s5_acc_jump_shin = pd.read_csv ('/Users/user/Desktop/realworld2016_dataset/proband5/data/acc_jumping_csv/acc_jumping_shin.csv')\n",
    "s5_acc_jump_thigh = pd.read_csv ('/Users/user/Desktop/realworld2016_dataset/proband5/data/acc_jumping_csv/acc_jumping_thigh.csv')\n",
    "s5_acc_jump_upperarm = pd.read_csv ('/Users/user/Desktop/realworld2016_dataset/proband5/data/acc_jumping_csv/acc_jumping_upperarm.csv')\n",
    "s5_acc_jump_waist = pd.read_csv ('/Users/user/Desktop/realworld2016_dataset/proband5/data/acc_jumping_csv/acc_jumping_waist.csv')"
   ]
  },
  {
   "cell_type": "code",
   "execution_count": 121,
   "id": "7212e944",
   "metadata": {},
   "outputs": [],
   "source": [
    "#acceleration lying for user 5"
   ]
  },
  {
   "cell_type": "code",
   "execution_count": 122,
   "id": "144d9b7c",
   "metadata": {},
   "outputs": [],
   "source": [
    "\n",
    "\n",
    "s5_acc_ly_chest = pd.read_csv ('/Users/user/Desktop/realworld2016_dataset/proband5/data/acc_lying_csv/acc_lying_chest.csv')\n",
    "s5_acc_ly_forearm = pd.read_csv ('/Users/user/Desktop/realworld2016_dataset/proband5/data/acc_lying_csv/acc_lying_forearm.csv')\n",
    "s5_acc_ly_head = pd.read_csv ('/Users/user/Desktop/realworld2016_dataset/proband5/data/acc_lying_csv/acc_lying_head.csv')\n",
    "s5_acc_ly_shin = pd.read_csv ('/Users/user/Desktop/realworld2016_dataset/proband5/data/acc_lying_csv/acc_lying_shin.csv')\n",
    "s5_acc_ly_thigh = pd.read_csv ('/Users/user/Desktop/realworld2016_dataset/proband5/data/acc_lying_csv/acc_lying_thigh.csv')\n",
    "s5_acc_ly_upperarm = pd.read_csv ('/Users/user/Desktop/realworld2016_dataset/proband5/data/acc_lying_csv/acc_lying_upperarm.csv')\n",
    "s5_acc_ly_waist = pd.read_csv ('/Users/user/Desktop/realworld2016_dataset/proband5/data/acc_lying_csv/acc_lying_waist.csv')\n"
   ]
  },
  {
   "cell_type": "code",
   "execution_count": 123,
   "id": "0a15f842",
   "metadata": {},
   "outputs": [],
   "source": [
    "#acceleration running for user 5"
   ]
  },
  {
   "cell_type": "code",
   "execution_count": 124,
   "id": "58ee0f59",
   "metadata": {},
   "outputs": [],
   "source": [
    "s5_acc_run_chest = pd.read_csv ('/Users/user/Desktop/realworld2016_dataset/proband5/data/acc_running_csv/acc_running_chest.csv')\n",
    "s5_acc_run_forearm = pd.read_csv ('/Users/user/Desktop/realworld2016_dataset/proband5/data/acc_running_csv/acc_running_forearm.csv')\n",
    "s5_acc_run_head = pd.read_csv ('/Users/user/Desktop/realworld2016_dataset/proband5/data/acc_running_csv/acc_running_head.csv')\n",
    "s5_acc_run_shin = pd.read_csv ('/Users/user/Desktop/realworld2016_dataset/proband5/data/acc_running_csv/acc_running_shin.csv')\n",
    "s5_acc_run_thigh = pd.read_csv ('/Users/user/Desktop/realworld2016_dataset/proband5/data/acc_running_csv/acc_running_thigh.csv')\n",
    "s5_acc_run_upperarm = pd.read_csv ('/Users/user/Desktop/realworld2016_dataset/proband5/data/acc_running_csv/acc_running_upperarm.csv')\n",
    "s5_acc_run_waist = pd.read_csv ('/Users/user/Desktop/realworld2016_dataset/proband5/data/acc_running_csv/acc_running_waist.csv')"
   ]
  },
  {
   "cell_type": "code",
   "execution_count": 125,
   "id": "3cfb6546",
   "metadata": {},
   "outputs": [],
   "source": [
    "#acceleration sitting for user 5"
   ]
  },
  {
   "cell_type": "code",
   "execution_count": 126,
   "id": "1c12664c",
   "metadata": {},
   "outputs": [],
   "source": [
    "s5_acc_sit_chest = pd.read_csv ('/Users/user/Desktop/realworld2016_dataset/proband5/data/acc_sitting_csv/acc_sitting_chest.csv')\n",
    "s5_acc_sit_forearm = pd.read_csv ('/Users/user/Desktop/realworld2016_dataset/proband5/data/acc_sitting_csv/acc_sitting_forearm.csv')\n",
    "s5_acc_sit_head = pd.read_csv ('/Users/user/Desktop/realworld2016_dataset/proband5/data/acc_sitting_csv/acc_sitting_head.csv')\n",
    "s5_acc_sit_shin = pd.read_csv ('/Users/user/Desktop/realworld2016_dataset/proband5/data/acc_sitting_csv/acc_sitting_shin.csv')\n",
    "s5_acc_sit_thigh = pd.read_csv ('/Users/user/Desktop/realworld2016_dataset/proband5/data/acc_sitting_csv/acc_sitting_thigh.csv')\n",
    "s5_acc_sit_upperarm = pd.read_csv ('/Users/user/Desktop/realworld2016_dataset/proband5/data/acc_sitting_csv/acc_sitting_upperarm.csv')\n",
    "s5_acc_sit_waist = pd.read_csv ('/Users/user/Desktop/realworld2016_dataset/proband5/data/acc_sitting_csv/acc_sitting_waist.csv')\n"
   ]
  },
  {
   "cell_type": "code",
   "execution_count": 127,
   "id": "d8802c35",
   "metadata": {},
   "outputs": [],
   "source": [
    "#acceleration standing for user 5"
   ]
  },
  {
   "cell_type": "code",
   "execution_count": 128,
   "id": "56f8f22f",
   "metadata": {},
   "outputs": [],
   "source": [
    "s5_acc_std_chest = pd.read_csv ('/Users/user/Desktop/realworld2016_dataset/proband5/data/acc_standing_csv/acc_standing_chest.csv')\n",
    "s5_acc_std_forearm = pd.read_csv ('/Users/user/Desktop/realworld2016_dataset/proband5/data/acc_standing_csv/acc_standing_forearm.csv')\n",
    "s5_acc_std_head = pd.read_csv ('/Users/user/Desktop/realworld2016_dataset/proband5/data/acc_standing_csv/acc_standing_head.csv')\n",
    "s5_acc_std_shin = pd.read_csv ('/Users/user/Desktop/realworld2016_dataset/proband5/data/acc_standing_csv/acc_standing_shin.csv')\n",
    "s5_acc_std_thigh = pd.read_csv ('/Users/user/Desktop/realworld2016_dataset/proband5/data/acc_standing_csv/acc_standing_thigh.csv')\n",
    "s5_acc_std_upperarm = pd.read_csv ('/Users/user/Desktop/realworld2016_dataset/proband5/data/acc_standing_csv/acc_standing_upperarm.csv')\n",
    "s5_acc_std_waist = pd.read_csv ('/Users/user/Desktop/realworld2016_dataset/proband5/data/acc_standing_csv/acc_standing_waist.csv')\n"
   ]
  },
  {
   "cell_type": "code",
   "execution_count": 129,
   "id": "32d11114",
   "metadata": {},
   "outputs": [],
   "source": [
    "#acceleration walking for user 5"
   ]
  },
  {
   "cell_type": "code",
   "execution_count": 130,
   "id": "8b979251",
   "metadata": {},
   "outputs": [],
   "source": [
    "s5_acc_wal_chest = pd.read_csv ('/Users/user/Desktop/realworld2016_dataset/proband5/data/acc_walking_csv/acc_walking_chest.csv')\n",
    "s5_acc_wal_forearm = pd.read_csv ('/Users/user/Desktop/realworld2016_dataset/proband5/data/acc_walking_csv/acc_walking_forearm.csv')\n",
    "s5_acc_wal_head = pd.read_csv ('/Users/user/Desktop/realworld2016_dataset/proband5/data/acc_walking_csv/acc_walking_head.csv')\n",
    "s5_acc_wal_shin = pd.read_csv ('/Users/user/Desktop/realworld2016_dataset/proband5/data/acc_walking_csv/acc_walking_shin.csv')\n",
    "s5_acc_wal_thigh = pd.read_csv ('/Users/user/Desktop/realworld2016_dataset/proband5/data/acc_walking_csv/acc_walking_thigh.csv')\n",
    "s5_acc_wal_upperarm = pd.read_csv ('/Users/user/Desktop/realworld2016_dataset/proband5/data/acc_walking_csv/acc_walking_upperarm.csv')\n",
    "s5_acc_wal_waist = pd.read_csv ('/Users/user/Desktop/realworld2016_dataset/proband5/data/acc_walking_csv/acc_walking_waist.csv')\n",
    "\n"
   ]
  },
  {
   "cell_type": "code",
   "execution_count": 131,
   "id": "25872083",
   "metadata": {},
   "outputs": [],
   "source": [
    "s5_acc_cldn_chest.drop(['id', 'attr_time'], axis='columns', inplace=True)\n",
    "s5_acc_cldn_forearm.drop(['id', 'attr_time'], axis='columns', inplace=True)\n",
    "s5_acc_cldn_head.drop(['id', 'attr_time'], axis='columns', inplace=True)\n",
    "s5_acc_cldn_shin.drop(['id', 'attr_time'], axis='columns', inplace=True)\n",
    "s5_acc_cldn_thigh.drop(['id', 'attr_time'], axis='columns', inplace=True)\n",
    "s5_acc_cldn_upperarm.drop(['id', 'attr_time'], axis='columns', inplace=True)\n",
    "s5_acc_cldn_waist.drop(['id', 'attr_time'], axis='columns', inplace=True)"
   ]
  },
  {
   "cell_type": "code",
   "execution_count": 132,
   "id": "b209d7ae",
   "metadata": {},
   "outputs": [],
   "source": [
    "s5_acc_clup_chest.drop(['id', 'attr_time'], axis='columns', inplace=True)\n",
    "s5_acc_clup_forearm.drop(['id', 'attr_time'], axis='columns', inplace=True)\n",
    "s5_acc_clup_head.drop(['id', 'attr_time'], axis='columns', inplace=True)\n",
    "s5_acc_clup_shin.drop(['id', 'attr_time'], axis='columns', inplace=True)\n",
    "s5_acc_clup_thigh.drop(['id', 'attr_time'], axis='columns', inplace=True)\n",
    "s5_acc_clup_upperarm.drop(['id', 'attr_time'], axis='columns', inplace=True)\n",
    "s5_acc_clup_waist.drop(['id', 'attr_time'], axis='columns', inplace=True)\n"
   ]
  },
  {
   "cell_type": "code",
   "execution_count": 133,
   "id": "721fd7b1",
   "metadata": {},
   "outputs": [],
   "source": [
    "s5_acc_jump_chest.drop(['id', 'attr_time'], axis='columns', inplace=True)\n",
    "s5_acc_jump_forearm.drop(['id', 'attr_time'], axis='columns', inplace=True)\n",
    "s5_acc_jump_head.drop(['id', 'attr_time'], axis='columns', inplace=True)\n",
    "s5_acc_jump_shin.drop(['id', 'attr_time'], axis='columns', inplace=True)\n",
    "s5_acc_jump_thigh.drop(['id', 'attr_time'], axis='columns', inplace=True)\n",
    "s5_acc_jump_upperarm.drop(['id', 'attr_time'], axis='columns', inplace=True)\n",
    "s5_acc_jump_waist.drop(['id', 'attr_time'], axis='columns', inplace=True)"
   ]
  },
  {
   "cell_type": "code",
   "execution_count": 134,
   "id": "c61f850f",
   "metadata": {},
   "outputs": [],
   "source": [
    "s5_acc_ly_chest.drop(['id', 'attr_time'], axis='columns', inplace=True)\n",
    "s5_acc_ly_forearm.drop(['id', 'attr_time'], axis='columns', inplace=True)\n",
    "s5_acc_ly_head.drop(['id', 'attr_time'], axis='columns', inplace=True)\n",
    "s5_acc_ly_shin.drop(['id', 'attr_time'], axis='columns', inplace=True)\n",
    "s5_acc_ly_thigh.drop(['id', 'attr_time'], axis='columns', inplace=True)\n",
    "s5_acc_ly_upperarm.drop(['id', 'attr_time'], axis='columns', inplace=True)\n",
    "s5_acc_ly_waist.drop(['id', 'attr_time'], axis='columns', inplace=True)"
   ]
  },
  {
   "cell_type": "code",
   "execution_count": 135,
   "id": "58b00b4c",
   "metadata": {},
   "outputs": [],
   "source": [
    "s5_acc_run_chest.drop(['id', 'attr_time'], axis='columns', inplace=True)\n",
    "s5_acc_run_forearm.drop(['id', 'attr_time'], axis='columns', inplace=True)\n",
    "s5_acc_run_head.drop(['id', 'attr_time'], axis='columns', inplace=True)\n",
    "s5_acc_run_shin.drop(['id', 'attr_time'], axis='columns', inplace=True)\n",
    "s5_acc_run_thigh.drop(['id', 'attr_time'], axis='columns', inplace=True)\n",
    "s5_acc_run_upperarm.drop(['id', 'attr_time'], axis='columns', inplace=True)\n",
    "s5_acc_run_waist.drop(['id', 'attr_time'], axis='columns', inplace=True)"
   ]
  },
  {
   "cell_type": "code",
   "execution_count": 136,
   "id": "f04413a5",
   "metadata": {},
   "outputs": [],
   "source": [
    "s5_acc_sit_chest.drop(['id', 'attr_time'], axis='columns', inplace=True)\n",
    "s5_acc_sit_forearm.drop(['id', 'attr_time'], axis='columns', inplace=True)\n",
    "s5_acc_sit_head.drop(['id', 'attr_time'], axis='columns', inplace=True)\n",
    "s5_acc_sit_shin.drop(['id', 'attr_time'], axis='columns', inplace=True)\n",
    "s5_acc_sit_thigh.drop(['id', 'attr_time'], axis='columns', inplace=True)\n",
    "s5_acc_sit_upperarm.drop(['id', 'attr_time'], axis='columns', inplace=True)\n",
    "s5_acc_sit_waist.drop(['id', 'attr_time'], axis='columns', inplace=True)"
   ]
  },
  {
   "cell_type": "code",
   "execution_count": 137,
   "id": "0d6fcdfd",
   "metadata": {},
   "outputs": [],
   "source": [
    "s5_acc_std_chest.drop(['id', 'attr_time'], axis='columns', inplace=True)\n",
    "s5_acc_std_forearm.drop(['id', 'attr_time'], axis='columns', inplace=True)\n",
    "s5_acc_std_head.drop(['id', 'attr_time'], axis='columns', inplace=True)\n",
    "s5_acc_std_shin.drop(['id', 'attr_time'], axis='columns', inplace=True)\n",
    "s5_acc_std_thigh.drop(['id', 'attr_time'], axis='columns', inplace=True)\n",
    "s5_acc_std_upperarm.drop(['id', 'attr_time'], axis='columns', inplace=True)\n",
    "s5_acc_std_waist.drop(['id', 'attr_time'], axis='columns', inplace=True)"
   ]
  },
  {
   "cell_type": "code",
   "execution_count": 138,
   "id": "bcfead59",
   "metadata": {},
   "outputs": [],
   "source": [
    "s5_acc_wal_chest.drop(['id', 'attr_time'], axis='columns', inplace=True)\n",
    "s5_acc_wal_forearm.drop(['id', 'attr_time'], axis='columns', inplace=True)\n",
    "s5_acc_wal_head.drop(['id', 'attr_time'], axis='columns', inplace=True)\n",
    "s5_acc_wal_shin.drop(['id', 'attr_time'], axis='columns', inplace=True)\n",
    "s5_acc_wal_thigh.drop(['id', 'attr_time'], axis='columns', inplace=True)\n",
    "s5_acc_wal_upperarm.drop(['id', 'attr_time'], axis='columns', inplace=True)\n",
    "s5_acc_wal_waist.drop(['id', 'attr_time'], axis='columns', inplace=True)"
   ]
  },
  {
   "cell_type": "code",
   "execution_count": 139,
   "id": "15f10c28",
   "metadata": {},
   "outputs": [],
   "source": [
    "#acceleration climbing down for user 6"
   ]
  },
  {
   "cell_type": "code",
   "execution_count": 140,
   "id": "b4b48a05",
   "metadata": {},
   "outputs": [],
   "source": [
    "s6_acc_cldn_chest = pd.read_csv ('/Users/user/Desktop/realworld2016_dataset/proband6/data/acc_climbingdown_csv/acc_climbingdown_chest.csv')\n",
    "s6_acc_cldn_forearm = pd.read_csv ('/Users/user/Desktop/realworld2016_dataset/proband6/data/acc_climbingdown_csv/acc_climbingdown_forearm.csv')\n",
    "s6_acc_cldn_head = pd.read_csv ('/Users/user/Desktop/realworld2016_dataset/proband6/data/acc_climbingdown_csv/acc_climbingdown_head.csv')\n",
    "s6_acc_cldn_shin = pd.read_csv ('/Users/user/Desktop/realworld2016_dataset/proband6/data/acc_climbingdown_csv/acc_climbingdown_shin.csv')\n",
    "s6_acc_cldn_thigh = pd.read_csv ('/Users/user/Desktop/realworld2016_dataset/proband6/data/acc_climbingdown_csv/acc_climbingdown_thigh.csv')\n",
    "s6_acc_cldn_upperarm = pd.read_csv ('/Users/user/Desktop/realworld2016_dataset/proband6/data/acc_climbingdown_csv/acc_climbingdown_upperarm.csv')\n",
    "s6_acc_cldn_waist = pd.read_csv ('/Users/user/Desktop/realworld2016_dataset/proband6/data/acc_climbingdown_csv/acc_climbingdown_waist.csv')\n"
   ]
  },
  {
   "cell_type": "code",
   "execution_count": 141,
   "id": "280b04b7",
   "metadata": {},
   "outputs": [],
   "source": [
    "#acceleration climbing up for user 6"
   ]
  },
  {
   "cell_type": "code",
   "execution_count": 142,
   "id": "aab8d20e",
   "metadata": {},
   "outputs": [],
   "source": [
    "s6_acc_clup_chest = pd.read_csv ('/Users/user/Desktop/realworld2016_dataset/proband6/data/acc_climbingup_csv/acc_climbingup_chest.csv')\n",
    "s6_acc_clup_forearm = pd.read_csv ('/Users/user/Desktop/realworld2016_dataset/proband6/data/acc_climbingup_csv/acc_climbingup_forearm.csv')\n",
    "s6_acc_clup_head = pd.read_csv ('/Users/user/Desktop/realworld2016_dataset/proband6/data/acc_climbingup_csv/acc_climbingup_head.csv')\n",
    "s6_acc_clup_shin = pd.read_csv ('/Users/user/Desktop/realworld2016_dataset/proband6/data/acc_climbingup_csv/acc_climbingup_shin.csv')\n",
    "s6_acc_clup_thigh = pd.read_csv ('/Users/user/Desktop/realworld2016_dataset/proband6/data/acc_climbingup_csv/acc_climbingup_thigh.csv')\n",
    "s6_acc_clup_upperarm = pd.read_csv ('/Users/user/Desktop/realworld2016_dataset/proband6/data/acc_climbingup_csv/acc_climbingup_upperarm.csv')\n",
    "s6_acc_clup_waist = pd.read_csv ('/Users/user/Desktop/realworld2016_dataset/proband6/data/acc_climbingup_csv/acc_climbingup_waist.csv')\n"
   ]
  },
  {
   "cell_type": "code",
   "execution_count": 143,
   "id": "42d5f6d1",
   "metadata": {},
   "outputs": [],
   "source": [
    "#acceleration jumping for user 6"
   ]
  },
  {
   "cell_type": "code",
   "execution_count": 144,
   "id": "9f288f36",
   "metadata": {},
   "outputs": [],
   "source": [
    "s6_acc_jump_chest = pd.read_csv ('/Users/user/Desktop/realworld2016_dataset/proband6/data/acc_jumping_csv/acc_jumping_chest.csv')\n",
    "s6_acc_jump_forearm = pd.read_csv ('/Users/user/Desktop/realworld2016_dataset/proband6/data/acc_jumping_csv/acc_jumping_forearm.csv')\n",
    "s6_acc_jump_head = pd.read_csv ('/Users/user/Desktop/realworld2016_dataset/proband6/data/acc_jumping_csv/acc_jumping_head.csv')\n",
    "s6_acc_jump_shin = pd.read_csv ('/Users/user/Desktop/realworld2016_dataset/proband6/data/acc_jumping_csv/acc_jumping_shin.csv')\n",
    "s6_acc_jump_upperarm = pd.read_csv ('/Users/user/Desktop/realworld2016_dataset/proband6/data/acc_jumping_csv/acc_jumping_upperarm.csv')\n",
    "s6_acc_jump_waist = pd.read_csv ('/Users/user/Desktop/realworld2016_dataset/proband6/data/acc_jumping_csv/acc_jumping_waist.csv')"
   ]
  },
  {
   "cell_type": "code",
   "execution_count": 145,
   "id": "33488977",
   "metadata": {},
   "outputs": [],
   "source": [
    "#acceleration lying for user 6"
   ]
  },
  {
   "cell_type": "code",
   "execution_count": 146,
   "id": "fa370c24",
   "metadata": {},
   "outputs": [],
   "source": [
    "s6_acc_ly_chest = pd.read_csv ('/Users/user/Desktop/realworld2016_dataset/proband6/data/acc_lying_csv/acc_lying_chest.csv')\n",
    "s6_acc_ly_forearm = pd.read_csv ('/Users/user/Desktop/realworld2016_dataset/proband6/data/acc_lying_csv/acc_lying_forearm.csv')\n",
    "s6_acc_ly_head = pd.read_csv ('/Users/user/Desktop/realworld2016_dataset/proband6/data/acc_lying_csv/acc_lying_head.csv')\n",
    "s6_acc_ly_shin = pd.read_csv ('/Users/user/Desktop/realworld2016_dataset/proband6/data/acc_lying_csv/acc_lying_shin.csv')\n",
    "s6_acc_ly_thigh = pd.read_csv ('/Users/user/Desktop/realworld2016_dataset/proband6/data/acc_lying_csv/acc_lying_thigh.csv')\n",
    "s6_acc_ly_upperarm = pd.read_csv ('/Users/user/Desktop/realworld2016_dataset/proband6/data/acc_lying_csv/acc_lying_upperarm.csv')\n",
    "s6_acc_ly_waist = pd.read_csv ('/Users/user/Desktop/realworld2016_dataset/proband6/data/acc_lying_csv/acc_lying_waist.csv')\n"
   ]
  },
  {
   "cell_type": "code",
   "execution_count": 147,
   "id": "d19a69be",
   "metadata": {},
   "outputs": [],
   "source": [
    "#acceleration running for user 6"
   ]
  },
  {
   "cell_type": "code",
   "execution_count": 148,
   "id": "dec089b0",
   "metadata": {},
   "outputs": [],
   "source": [
    "s6_acc_run_chest = pd.read_csv ('/Users/user/Desktop/realworld2016_dataset/proband6/data/acc_running_csv/acc_running_chest.csv')\n",
    "s6_acc_run_forearm = pd.read_csv ('/Users/user/Desktop/realworld2016_dataset/proband6/data/acc_running_csv/acc_running_forearm.csv')\n",
    "s6_acc_run_head = pd.read_csv ('/Users/user/Desktop/realworld2016_dataset/proband6/data/acc_running_csv/acc_running_head.csv')\n",
    "s6_acc_run_shin = pd.read_csv ('/Users/user/Desktop/realworld2016_dataset/proband6/data/acc_running_csv/acc_running_shin.csv')\n",
    "s6_acc_run_thigh = pd.read_csv ('/Users/user/Desktop/realworld2016_dataset/proband6/data/acc_running_csv/acc_running_thigh.csv')\n",
    "s6_acc_run_upperarm = pd.read_csv ('/Users/user/Desktop/realworld2016_dataset/proband6/data/acc_running_csv/acc_running_upperarm.csv')\n",
    "s6_acc_run_waist = pd.read_csv ('/Users/user/Desktop/realworld2016_dataset/proband6/data/acc_running_csv/acc_running_waist.csv')"
   ]
  },
  {
   "cell_type": "code",
   "execution_count": 149,
   "id": "f8e90652",
   "metadata": {},
   "outputs": [],
   "source": [
    "#acceleration sitting for user 6"
   ]
  },
  {
   "cell_type": "code",
   "execution_count": 150,
   "id": "3c5f655b",
   "metadata": {},
   "outputs": [],
   "source": [
    "s6_acc_sit_chest = pd.read_csv ('/Users/user/Desktop/realworld2016_dataset/proband6/data/acc_sitting_csv/acc_sitting_2_chest.csv')\n",
    "s6_acc_sit_forearm = pd.read_csv ('/Users/user/Desktop/realworld2016_dataset/proband6/data/acc_sitting_csv/acc_sitting_2_forearm.csv')\n",
    "s6_acc_sit_head = pd.read_csv ('/Users/user/Desktop/realworld2016_dataset/proband6/data/acc_sitting_csv/acc_sitting_2_head.csv')\n",
    "s6_acc_sit_shin = pd.read_csv ('/Users/user/Desktop/realworld2016_dataset/proband6/data/acc_sitting_csv/acc_sitting_2_shin.csv')\n",
    "s6_acc_sit_thigh = pd.read_csv ('/Users/user/Desktop/realworld2016_dataset/proband6/data/acc_sitting_csv/acc_sitting_2_thigh.csv')\n",
    "s6_acc_sit_upperarm = pd.read_csv ('/Users/user/Desktop/realworld2016_dataset/proband6/data/acc_sitting_csv/acc_sitting_2_upperarm.csv')\n",
    "s6_acc_sit_waist = pd.read_csv ('/Users/user/Desktop/realworld2016_dataset/proband6/data/acc_sitting_csv/acc_sitting_2_waist.csv')\n"
   ]
  },
  {
   "cell_type": "code",
   "execution_count": 151,
   "id": "3d814c6c",
   "metadata": {},
   "outputs": [],
   "source": [
    "#acceleration standing for user 6"
   ]
  },
  {
   "cell_type": "code",
   "execution_count": 152,
   "id": "53e315c3",
   "metadata": {},
   "outputs": [],
   "source": [
    "s6_acc_std_chest = pd.read_csv ('/Users/user/Desktop/realworld2016_dataset/proband6/data/acc_standing_csv/acc_standing_chest.csv')\n",
    "s6_acc_std_forearm = pd.read_csv ('/Users/user/Desktop/realworld2016_dataset/proband6/data/acc_standing_csv/acc_standing_forearm.csv')\n",
    "s6_acc_std_head = pd.read_csv ('/Users/user/Desktop/realworld2016_dataset/proband6/data/acc_standing_csv/acc_standing_head.csv')\n",
    "s6_acc_std_shin = pd.read_csv ('/Users/user/Desktop/realworld2016_dataset/proband6/data/acc_standing_csv/acc_standing_shin.csv')\n",
    "s6_acc_std_thigh = pd.read_csv ('/Users/user/Desktop/realworld2016_dataset/proband6/data/acc_standing_csv/acc_standing_thigh.csv')\n",
    "s6_acc_std_upperarm = pd.read_csv ('/Users/user/Desktop/realworld2016_dataset/proband6/data/acc_standing_csv/acc_standing_upperarm.csv')\n",
    "s6_acc_std_waist = pd.read_csv ('/Users/user/Desktop/realworld2016_dataset/proband6/data/acc_standing_csv/acc_standing_waist.csv')"
   ]
  },
  {
   "cell_type": "code",
   "execution_count": 153,
   "id": "56b3f424",
   "metadata": {},
   "outputs": [],
   "source": [
    "#acceleration walking for user 6"
   ]
  },
  {
   "cell_type": "code",
   "execution_count": 154,
   "id": "469554b5",
   "metadata": {},
   "outputs": [],
   "source": [
    "s6_acc_wal_chest = pd.read_csv ('/Users/user/Desktop/realworld2016_dataset/proband6/data/acc_walking_csv/acc_walking_chest.csv')\n",
    "s6_acc_wal_forearm = pd.read_csv ('/Users/user/Desktop/realworld2016_dataset/proband6/data/acc_walking_csv/acc_walking_forearm.csv')\n",
    "s6_acc_wal_head = pd.read_csv ('/Users/user/Desktop/realworld2016_dataset/proband6/data/acc_walking_csv/acc_walking_head.csv')\n",
    "s6_acc_wal_shin = pd.read_csv ('/Users/user/Desktop/realworld2016_dataset/proband6/data/acc_walking_csv/acc_walking_shin.csv')\n",
    "s6_acc_wal_thigh = pd.read_csv ('/Users/user/Desktop/realworld2016_dataset/proband6/data/acc_walking_csv/acc_walking_thigh.csv')\n",
    "s6_acc_wal_upperarm = pd.read_csv ('/Users/user/Desktop/realworld2016_dataset/proband6/data/acc_walking_csv/acc_walking_upperarm.csv')\n",
    "s6_acc_wal_waist = pd.read_csv ('/Users/user/Desktop/realworld2016_dataset/proband6/data/acc_walking_csv/acc_walking_waist.csv')"
   ]
  },
  {
   "cell_type": "code",
   "execution_count": 155,
   "id": "a24495c7",
   "metadata": {},
   "outputs": [],
   "source": [
    "s6_acc_cldn_chest.drop(['id', 'attr_time'], axis='columns', inplace=True)\n",
    "s6_acc_cldn_forearm.drop(['id', 'attr_time'], axis='columns', inplace=True)\n",
    "s6_acc_cldn_head.drop(['id', 'attr_time'], axis='columns', inplace=True)\n",
    "s6_acc_cldn_shin.drop(['id', 'attr_time'], axis='columns', inplace=True)\n",
    "s6_acc_cldn_thigh.drop(['id', 'attr_time'], axis='columns', inplace=True)\n",
    "s6_acc_cldn_upperarm.drop(['id', 'attr_time'], axis='columns', inplace=True)\n",
    "s6_acc_cldn_waist.drop(['id', 'attr_time'], axis='columns', inplace=True)\n"
   ]
  },
  {
   "cell_type": "code",
   "execution_count": 156,
   "id": "2c8d2ead",
   "metadata": {},
   "outputs": [],
   "source": [
    "s6_acc_clup_chest.drop(['id', 'attr_time'], axis='columns', inplace=True)\n",
    "s6_acc_clup_forearm.drop(['id', 'attr_time'], axis='columns', inplace=True)\n",
    "s6_acc_clup_head.drop(['id', 'attr_time'], axis='columns', inplace=True)\n",
    "s6_acc_clup_shin.drop(['id', 'attr_time'], axis='columns', inplace=True)\n",
    "s6_acc_clup_thigh.drop(['id', 'attr_time'], axis='columns', inplace=True)\n",
    "s6_acc_clup_upperarm.drop(['id', 'attr_time'], axis='columns', inplace=True)\n",
    "s6_acc_clup_waist.drop(['id', 'attr_time'], axis='columns', inplace=True)"
   ]
  },
  {
   "cell_type": "code",
   "execution_count": 157,
   "id": "14673311",
   "metadata": {},
   "outputs": [],
   "source": [
    "s6_acc_jump_chest.drop(['id', 'attr_time'], axis='columns', inplace=True)\n",
    "s6_acc_jump_forearm.drop(['id', 'attr_time'], axis='columns', inplace=True)\n",
    "s6_acc_jump_head.drop(['id', 'attr_time'], axis='columns', inplace=True)\n",
    "s6_acc_jump_shin.drop(['id', 'attr_time'], axis='columns', inplace=True)\n",
    "s6_acc_jump_upperarm.drop(['id', 'attr_time'], axis='columns', inplace=True)\n",
    "s6_acc_jump_waist.drop(['id', 'attr_time'], axis='columns', inplace=True)\n"
   ]
  },
  {
   "cell_type": "code",
   "execution_count": 158,
   "id": "66a0d96a",
   "metadata": {},
   "outputs": [],
   "source": [
    "s6_acc_ly_chest.drop(['id', 'attr_time'], axis='columns', inplace=True)\n",
    "s6_acc_ly_forearm.drop(['id', 'attr_time'], axis='columns', inplace=True)\n",
    "s6_acc_ly_head.drop(['id', 'attr_time'], axis='columns', inplace=True)\n",
    "s6_acc_ly_shin.drop(['id', 'attr_time'], axis='columns', inplace=True)\n",
    "s6_acc_ly_thigh.drop(['id', 'attr_time'], axis='columns', inplace=True)\n",
    "s6_acc_ly_upperarm.drop(['id', 'attr_time'], axis='columns', inplace=True)\n",
    "s6_acc_ly_waist.drop(['id', 'attr_time'], axis='columns', inplace=True)"
   ]
  },
  {
   "cell_type": "code",
   "execution_count": 159,
   "id": "59f204a0",
   "metadata": {},
   "outputs": [],
   "source": [
    "s6_acc_run_chest.drop(['id', 'attr_time'], axis='columns', inplace=True)\n",
    "s6_acc_run_forearm.drop(['id', 'attr_time'], axis='columns', inplace=True)\n",
    "s6_acc_run_head.drop(['id', 'attr_time'], axis='columns', inplace=True)\n",
    "s6_acc_run_shin.drop(['id', 'attr_time'], axis='columns', inplace=True)\n",
    "s6_acc_run_thigh.drop(['id', 'attr_time'], axis='columns', inplace=True)\n",
    "s6_acc_run_upperarm.drop(['id', 'attr_time'], axis='columns', inplace=True)\n",
    "s6_acc_run_waist.drop(['id', 'attr_time'], axis='columns', inplace=True)"
   ]
  },
  {
   "cell_type": "code",
   "execution_count": 160,
   "id": "3fe5c23b",
   "metadata": {},
   "outputs": [],
   "source": [
    "s6_acc_sit_chest.drop(['id', 'attr_time'], axis='columns', inplace=True)\n",
    "s6_acc_sit_forearm.drop(['id', 'attr_time'], axis='columns', inplace=True)\n",
    "s6_acc_sit_head.drop(['id', 'attr_time'], axis='columns', inplace=True)\n",
    "s6_acc_sit_shin.drop(['id', 'attr_time'], axis='columns', inplace=True)\n",
    "s6_acc_sit_thigh.drop(['id', 'attr_time'], axis='columns', inplace=True)\n",
    "s6_acc_sit_upperarm.drop(['id', 'attr_time'], axis='columns', inplace=True)\n",
    "s6_acc_sit_waist.drop(['id', 'attr_time'], axis='columns', inplace=True)"
   ]
  },
  {
   "cell_type": "code",
   "execution_count": 161,
   "id": "f5c53728",
   "metadata": {},
   "outputs": [],
   "source": [
    "s6_acc_std_chest.drop(['id', 'attr_time'], axis='columns', inplace=True)\n",
    "s6_acc_std_forearm.drop(['id', 'attr_time'], axis='columns', inplace=True)\n",
    "s6_acc_std_head.drop(['id', 'attr_time'], axis='columns', inplace=True)\n",
    "s6_acc_std_shin.drop(['id', 'attr_time'], axis='columns', inplace=True)\n",
    "s6_acc_std_thigh.drop(['id', 'attr_time'], axis='columns', inplace=True)\n",
    "s6_acc_std_upperarm.drop(['id', 'attr_time'], axis='columns', inplace=True)\n",
    "s6_acc_std_waist.drop(['id', 'attr_time'], axis='columns', inplace=True)"
   ]
  },
  {
   "cell_type": "code",
   "execution_count": 162,
   "id": "e894d73f",
   "metadata": {},
   "outputs": [],
   "source": [
    "s6_acc_wal_chest.drop(['id', 'attr_time'], axis='columns', inplace=True)\n",
    "s6_acc_wal_forearm.drop(['id', 'attr_time'], axis='columns', inplace=True)\n",
    "#s6_acc_wal_head.drop(['id', 'attr_time'], axis='columns', inplace=True)\n",
    "s6_acc_wal_shin.drop(['id', 'attr_time'], axis='columns', inplace=True)\n",
    "s6_acc_wal_thigh.drop(['id', 'attr_time'], axis='columns', inplace=True)\n",
    "s6_acc_wal_upperarm.drop(['id', 'attr_time'], axis='columns', inplace=True)\n",
    "s6_acc_wal_waist.drop(['id', 'attr_time'], axis='columns', inplace=True)"
   ]
  },
  {
   "cell_type": "code",
   "execution_count": 163,
   "id": "6b0b2834",
   "metadata": {},
   "outputs": [],
   "source": [
    "#acceleration climibing down for user 7 "
   ]
  },
  {
   "cell_type": "code",
   "execution_count": 164,
   "id": "0d45d5dc",
   "metadata": {},
   "outputs": [],
   "source": [
    "s7_acc_cldn_chest = pd.read_csv ('/Users/user/Desktop/realworld2016_dataset/proband7/data/acc_climbingdown_csv/acc_climbingdown_chest.csv')\n",
    "s7_acc_cldn_forearm = pd.read_csv ('/Users/user/Desktop/realworld2016_dataset/proband7/data/acc_climbingdown_csv/acc_climbingdown_forearm.csv')\n",
    "s7_acc_cldn_head = pd.read_csv ('/Users/user/Desktop/realworld2016_dataset/proband7/data/acc_climbingdown_csv/acc_climbingdown_head.csv')\n",
    "s7_acc_cldn_shin = pd.read_csv ('/Users/user/Desktop/realworld2016_dataset/proband7/data/acc_climbingdown_csv/acc_climbingdown_shin.csv')\n",
    "s7_acc_cldn_thigh = pd.read_csv ('/Users/user/Desktop/realworld2016_dataset/proband7/data/acc_climbingdown_csv/acc_climbingdown_thigh.csv')\n",
    "s7_acc_cldn_upperarm = pd.read_csv ('/Users/user/Desktop/realworld2016_dataset/proband7/data/acc_climbingdown_csv/acc_climbingdown_upperarm.csv')\n",
    "s7_acc_cldn_waist = pd.read_csv ('/Users/user/Desktop/realworld2016_dataset/proband7/data/acc_climbingdown_csv/acc_climbingdown_waist.csv')"
   ]
  },
  {
   "cell_type": "code",
   "execution_count": 165,
   "id": "4ea66584",
   "metadata": {},
   "outputs": [],
   "source": [
    "#acceleration climibing up for user 7"
   ]
  },
  {
   "cell_type": "code",
   "execution_count": 166,
   "id": "323b7c98",
   "metadata": {},
   "outputs": [],
   "source": [
    "s7_acc_clup_chest = pd.read_csv ('/Users/user/Desktop/realworld2016_dataset/proband7/data/acc_climbingup_csv/acc_climbingup_chest.csv')\n",
    "s7_acc_clup_forearm = pd.read_csv ('/Users/user/Desktop/realworld2016_dataset/proband7/data/acc_climbingup_csv/acc_climbingup_forearm.csv')\n",
    "s7_acc_clup_head = pd.read_csv ('/Users/user/Desktop/realworld2016_dataset/proband7/data/acc_climbingup_csv/acc_climbingup_head.csv')\n",
    "s7_acc_clup_shin = pd.read_csv ('/Users/user/Desktop/realworld2016_dataset/proband7/data/acc_climbingup_csv/acc_climbingup_shin.csv')\n",
    "s7_acc_clup_thigh = pd.read_csv ('/Users/user/Desktop/realworld2016_dataset/proband7/data/acc_climbingup_csv/acc_climbingup_thigh.csv')\n",
    "s7_acc_clup_upperarm = pd.read_csv ('/Users/user/Desktop/realworld2016_dataset/proband7/data/acc_climbingup_csv/acc_climbingup_upperarm.csv')\n",
    "s7_acc_clup_waist = pd.read_csv ('/Users/user/Desktop/realworld2016_dataset/proband7/data/acc_climbingup_csv/acc_climbingup_waist.csv')\n"
   ]
  },
  {
   "cell_type": "code",
   "execution_count": 167,
   "id": "d73a80cd",
   "metadata": {},
   "outputs": [],
   "source": [
    "#acceleration jumping for user 7"
   ]
  },
  {
   "cell_type": "code",
   "execution_count": 168,
   "id": "53623379",
   "metadata": {},
   "outputs": [],
   "source": [
    "s7_acc_jump_chest = pd.read_csv ('/Users/user/Desktop/realworld2016_dataset/proband7/data/acc_jumping_csv/acc_jumping_chest.csv')\n",
    "s7_acc_jump_forearm = pd.read_csv ('/Users/user/Desktop/realworld2016_dataset/proband7/data/acc_jumping_csv/acc_jumping_forearm.csv')\n",
    "s7_acc_jump_head = pd.read_csv ('/Users/user/Desktop/realworld2016_dataset/proband7/data/acc_jumping_csv/acc_jumping_head.csv')\n",
    "s7_acc_jump_shin = pd.read_csv ('/Users/user/Desktop/realworld2016_dataset/proband7/data/acc_jumping_csv/acc_jumping_shin.csv')\n",
    "s7_acc_jump_thigh = pd.read_csv ('/Users/user/Desktop/realworld2016_dataset/proband7/data/acc_jumping_csv/acc_jumping_thigh.csv')\n",
    "s7_acc_jump_upperarm = pd.read_csv ('/Users/user/Desktop/realworld2016_dataset/proband7/data/acc_jumping_csv/acc_jumping_upperarm.csv')\n",
    "s7_acc_jump_waist = pd.read_csv ('/Users/user/Desktop/realworld2016_dataset/proband7/data/acc_jumping_csv/acc_jumping_waist.csv')\n"
   ]
  },
  {
   "cell_type": "code",
   "execution_count": 169,
   "id": "809ddc37",
   "metadata": {},
   "outputs": [],
   "source": [
    "#acceleration lying for user 7"
   ]
  },
  {
   "cell_type": "code",
   "execution_count": 170,
   "id": "c65a07f5",
   "metadata": {},
   "outputs": [],
   "source": [
    "s7_acc_ly_chest = pd.read_csv ('/Users/user/Desktop/realworld2016_dataset/proband7/data/acc_lying_csv/acc_lying_chest.csv')\n",
    "s7_acc_ly_forearm = pd.read_csv ('/Users/user/Desktop/realworld2016_dataset/proband7/data/acc_lying_csv/acc_lying_forearm.csv')\n",
    "s7_acc_ly_head = pd.read_csv ('/Users/user/Desktop/realworld2016_dataset/proband7/data/acc_lying_csv/acc_lying_head.csv')\n",
    "s7_acc_ly_shin = pd.read_csv ('/Users/user/Desktop/realworld2016_dataset/proband7/data/acc_lying_csv/acc_lying_shin.csv')\n",
    "s7_acc_ly_thigh = pd.read_csv ('/Users/user/Desktop/realworld2016_dataset/proband7/data/acc_lying_csv/acc_lying_thigh.csv')\n",
    "s7_acc_ly_upperarm = pd.read_csv ('/Users/user/Desktop/realworld2016_dataset/proband7/data/acc_lying_csv/acc_lying_upperarm.csv')\n",
    "s7_acc_ly_waist = pd.read_csv ('/Users/user/Desktop/realworld2016_dataset/proband7/data/acc_lying_csv/acc_lying_waist.csv')\n"
   ]
  },
  {
   "cell_type": "code",
   "execution_count": 171,
   "id": "b4333940",
   "metadata": {},
   "outputs": [],
   "source": [
    "#acceleration running for user 7"
   ]
  },
  {
   "cell_type": "code",
   "execution_count": 172,
   "id": "bac3a615",
   "metadata": {},
   "outputs": [],
   "source": [
    "s7_acc_run_chest = pd.read_csv ('/Users/user/Desktop/realworld2016_dataset/proband7/data/acc_running_csv/acc_running_chest.csv')\n",
    "s7_acc_run_forearm = pd.read_csv ('/Users/user/Desktop/realworld2016_dataset/proband7/data/acc_running_csv/acc_running_forearm.csv')\n",
    "s7_acc_run_head = pd.read_csv ('/Users/user/Desktop/realworld2016_dataset/proband7/data/acc_running_csv/acc_running_head.csv')\n",
    "s7_acc_run_shin = pd.read_csv ('/Users/user/Desktop/realworld2016_dataset/proband7/data/acc_running_csv/acc_running_shin.csv')\n",
    "s7_acc_run_thigh = pd.read_csv ('/Users/user/Desktop/realworld2016_dataset/proband7/data/acc_running_csv/acc_running_thigh.csv')\n",
    "s7_acc_run_upperarm = pd.read_csv ('/Users/user/Desktop/realworld2016_dataset/proband7/data/acc_running_csv/acc_running_upperarm.csv')\n",
    "s7_acc_run_waist = pd.read_csv ('/Users/user/Desktop/realworld2016_dataset/proband7/data/acc_running_csv/acc_running_waist.csv')"
   ]
  },
  {
   "cell_type": "code",
   "execution_count": 173,
   "id": "26842cb4",
   "metadata": {},
   "outputs": [],
   "source": [
    "#acceleration sitting for user 7"
   ]
  },
  {
   "cell_type": "code",
   "execution_count": 174,
   "id": "4468724c",
   "metadata": {},
   "outputs": [],
   "source": [
    "s7_acc_sit_chest = pd.read_csv ('/Users/user/Desktop/realworld2016_dataset/proband7/data/acc_sitting_csv/acc_sitting_2_chest.csv')\n",
    "s7_acc_sit_forearm = pd.read_csv ('/Users/user/Desktop/realworld2016_dataset/proband7/data/acc_sitting_csv/acc_sitting_2_forearm.csv')\n",
    "s7_acc_sit_head = pd.read_csv ('/Users/user/Desktop/realworld2016_dataset/proband7/data/acc_sitting_csv/acc_sitting_2_head.csv')\n",
    "s7_acc_sit_shin = pd.read_csv ('/Users/user/Desktop/realworld2016_dataset/proband7/data/acc_sitting_csv/acc_sitting_2_shin.csv')\n",
    "s7_acc_sit_thigh = pd.read_csv ('/Users/user/Desktop/realworld2016_dataset/proband7/data/acc_sitting_csv/acc_sitting_2_thigh.csv')\n",
    "s7_acc_sit_upperarm = pd.read_csv ('/Users/user/Desktop/realworld2016_dataset/proband7/data/acc_sitting_csv/acc_sitting_2_upperarm.csv')\n",
    "s7_acc_sit_waist = pd.read_csv ('/Users/user/Desktop/realworld2016_dataset/proband7/data/acc_sitting_csv/acc_sitting_2_waist.csv')"
   ]
  },
  {
   "cell_type": "code",
   "execution_count": 175,
   "id": "480203a7",
   "metadata": {},
   "outputs": [],
   "source": [
    "#acceleration standing for user 7"
   ]
  },
  {
   "cell_type": "code",
   "execution_count": 176,
   "id": "71fe0195",
   "metadata": {},
   "outputs": [],
   "source": [
    "s7_acc_std_chest = pd.read_csv ('/Users/user/Desktop/realworld2016_dataset/proband7/data/acc_standing_csv/acc_standing_chest.csv')\n",
    "s7_acc_std_forearm = pd.read_csv ('/Users/user/Desktop/realworld2016_dataset/proband7/data/acc_standing_csv/acc_standing_forearm.csv')\n",
    "s7_acc_std_head = pd.read_csv ('/Users/user/Desktop/realworld2016_dataset/proband7/data/acc_standing_csv/acc_standing_head.csv')\n",
    "s7_acc_std_shin = pd.read_csv ('/Users/user/Desktop/realworld2016_dataset/proband7/data/acc_standing_csv/acc_standing_shin.csv')\n",
    "s7_acc_std_thigh = pd.read_csv ('/Users/user/Desktop/realworld2016_dataset/proband7/data/acc_standing_csv/acc_standing_thigh.csv')\n",
    "s7_acc_std_upperarm = pd.read_csv ('/Users/user/Desktop/realworld2016_dataset/proband7/data/acc_standing_csv/acc_standing_upperarm.csv')\n",
    "s7_acc_std_waist = pd.read_csv ('/Users/user/Desktop/realworld2016_dataset/proband7/data/acc_standing_csv/acc_standing_waist.csv')"
   ]
  },
  {
   "cell_type": "code",
   "execution_count": 177,
   "id": "fd1bfe8a",
   "metadata": {},
   "outputs": [],
   "source": [
    "#acceleration walking for user 7"
   ]
  },
  {
   "cell_type": "code",
   "execution_count": 178,
   "id": "94429ae7",
   "metadata": {},
   "outputs": [],
   "source": [
    "s7_acc_wal_chest = pd.read_csv ('/Users/user/Desktop/realworld2016_dataset/proband7/data/acc_walking_csv/acc_walking_chest.csv')\n",
    "s7_acc_wal_forearm = pd.read_csv ('/Users/user/Desktop/realworld2016_dataset/proband7/data/acc_walking_csv/acc_walking_forearm.csv')\n",
    "s7_acc_wal_head = pd.read_csv ('/Users/user/Desktop/realworld2016_dataset/proband7/data/acc_walking_csv/acc_walking_head.csv')\n",
    "s7_acc_wal_shin = pd.read_csv ('/Users/user/Desktop/realworld2016_dataset/proband7/data/acc_walking_csv/acc_walking_shin.csv')\n",
    "s7_acc_wal_thigh = pd.read_csv ('/Users/user/Desktop/realworld2016_dataset/proband7/data/acc_walking_csv/acc_walking_thigh.csv')\n",
    "s7_acc_wal_upperarm = pd.read_csv ('/Users/user/Desktop/realworld2016_dataset/proband7/data/acc_walking_csv/acc_walking_upperarm.csv')\n",
    "s7_acc_wal_waist = pd.read_csv ('/Users/user/Desktop/realworld2016_dataset/proband7/data/acc_walking_csv/acc_walking_waist.csv')\n",
    "\n"
   ]
  },
  {
   "cell_type": "code",
   "execution_count": 179,
   "id": "ac5264ca",
   "metadata": {},
   "outputs": [],
   "source": [
    "s7_acc_cldn_chest.drop(['id', 'attr_time'], axis='columns', inplace=True)\n",
    "s7_acc_cldn_forearm.drop(['id', 'attr_time'], axis='columns', inplace=True)\n",
    "s7_acc_cldn_head.drop(['id', 'attr_time'], axis='columns', inplace=True)\n",
    "s7_acc_cldn_shin.drop(['id', 'attr_time'], axis='columns', inplace=True)\n",
    "s7_acc_cldn_thigh.drop(['id', 'attr_time'], axis='columns', inplace=True)\n",
    "s7_acc_cldn_upperarm.drop(['id', 'attr_time'], axis='columns', inplace=True)\n",
    "s7_acc_cldn_waist.drop(['id', 'attr_time'], axis='columns', inplace=True)"
   ]
  },
  {
   "cell_type": "code",
   "execution_count": 180,
   "id": "a7c84d75",
   "metadata": {},
   "outputs": [],
   "source": [
    "s7_acc_clup_chest.drop(['id', 'attr_time'], axis='columns', inplace=True)\n",
    "s7_acc_clup_forearm.drop(['id', 'attr_time'], axis='columns', inplace=True)\n",
    "s7_acc_clup_head.drop(['id', 'attr_time'], axis='columns', inplace=True)\n",
    "s7_acc_clup_shin.drop(['id', 'attr_time'], axis='columns', inplace=True)\n",
    "s7_acc_clup_thigh.drop(['id', 'attr_time'], axis='columns', inplace=True)\n",
    "s7_acc_clup_upperarm.drop(['id', 'attr_time'], axis='columns', inplace=True)\n",
    "s7_acc_clup_waist.drop(['id', 'attr_time'], axis='columns', inplace=True)"
   ]
  },
  {
   "cell_type": "code",
   "execution_count": 181,
   "id": "7d727617",
   "metadata": {},
   "outputs": [],
   "source": [
    "s7_acc_jump_chest.drop(['id', 'attr_time'], axis='columns', inplace=True)\n",
    "s7_acc_jump_forearm.drop(['id', 'attr_time'], axis='columns', inplace=True)\n",
    "s7_acc_jump_head.drop(['id', 'attr_time'], axis='columns', inplace=True)\n",
    "s7_acc_jump_shin.drop(['id', 'attr_time'], axis='columns', inplace=True)\n",
    "s7_acc_jump_thigh.drop(['id', 'attr_time'], axis='columns', inplace=True)\n",
    "s7_acc_jump_upperarm.drop(['id', 'attr_time'], axis='columns', inplace=True)\n",
    "s7_acc_jump_waist.drop(['id', 'attr_time'], axis='columns', inplace=True)"
   ]
  },
  {
   "cell_type": "code",
   "execution_count": 182,
   "id": "686c0feb",
   "metadata": {},
   "outputs": [],
   "source": [
    "s7_acc_ly_chest.drop(['id', 'attr_time'], axis='columns', inplace=True)\n",
    "s7_acc_ly_forearm.drop(['id', 'attr_time'], axis='columns', inplace=True)\n",
    "s7_acc_ly_head.drop(['id', 'attr_time'], axis='columns', inplace=True)\n",
    "s7_acc_ly_shin.drop(['id', 'attr_time'], axis='columns', inplace=True)\n",
    "s7_acc_ly_thigh.drop(['id', 'attr_time'], axis='columns', inplace=True)\n",
    "s7_acc_ly_upperarm.drop(['id', 'attr_time'], axis='columns', inplace=True)\n",
    "s7_acc_ly_waist.drop(['id', 'attr_time'], axis='columns', inplace=True)"
   ]
  },
  {
   "cell_type": "code",
   "execution_count": 183,
   "id": "64597dd0",
   "metadata": {},
   "outputs": [],
   "source": [
    "s7_acc_run_chest.drop(['id', 'attr_time'], axis='columns', inplace=True)\n",
    "s7_acc_run_forearm.drop(['id', 'attr_time'], axis='columns', inplace=True)\n",
    "s7_acc_run_head.drop(['id', 'attr_time'], axis='columns', inplace=True)\n",
    "s7_acc_run_shin.drop(['id', 'attr_time'], axis='columns', inplace=True)\n",
    "s7_acc_run_thigh.drop(['id', 'attr_time'], axis='columns', inplace=True)\n",
    "s7_acc_run_upperarm.drop(['id', 'attr_time'], axis='columns', inplace=True)\n",
    "s7_acc_run_waist.drop(['id', 'attr_time'], axis='columns', inplace=True)"
   ]
  },
  {
   "cell_type": "code",
   "execution_count": 184,
   "id": "f4af6bdf",
   "metadata": {},
   "outputs": [],
   "source": [
    "s7_acc_sit_chest.drop(['id', 'attr_time'], axis='columns', inplace=True)\n",
    "s7_acc_sit_forearm.drop(['id', 'attr_time'], axis='columns', inplace=True)\n",
    "s7_acc_sit_head.drop(['id', 'attr_time'], axis='columns', inplace=True)\n",
    "s7_acc_sit_shin.drop(['id', 'attr_time'], axis='columns', inplace=True)\n",
    "s7_acc_sit_thigh.drop(['id', 'attr_time'], axis='columns', inplace=True)\n",
    "s7_acc_sit_upperarm.drop(['id', 'attr_time'], axis='columns', inplace=True)\n",
    "s7_acc_sit_waist.drop(['id', 'attr_time'], axis='columns', inplace=True)"
   ]
  },
  {
   "cell_type": "code",
   "execution_count": 185,
   "id": "a52936b0",
   "metadata": {},
   "outputs": [],
   "source": [
    "s7_acc_std_chest.drop(['id', 'attr_time'], axis='columns', inplace=True)\n",
    "s7_acc_std_forearm.drop(['id', 'attr_time'], axis='columns', inplace=True)\n",
    "s7_acc_std_head.drop(['id', 'attr_time'], axis='columns', inplace=True)\n",
    "s7_acc_std_shin.drop(['id', 'attr_time'], axis='columns', inplace=True)\n",
    "s7_acc_std_thigh.drop(['id', 'attr_time'], axis='columns', inplace=True)\n",
    "s7_acc_std_upperarm.drop(['id', 'attr_time'], axis='columns', inplace=True)\n",
    "s7_acc_std_waist.drop(['id', 'attr_time'], axis='columns', inplace=True)\n"
   ]
  },
  {
   "cell_type": "code",
   "execution_count": 186,
   "id": "26ee8a4a",
   "metadata": {},
   "outputs": [],
   "source": [
    "s7_acc_wal_chest.drop(['id', 'attr_time'], axis='columns', inplace=True)\n",
    "s7_acc_wal_forearm.drop(['id', 'attr_time'], axis='columns', inplace=True)\n",
    "s7_acc_wal_head.drop(['id', 'attr_time'], axis='columns', inplace=True)\n",
    "s7_acc_wal_shin.drop(['id', 'attr_time'], axis='columns', inplace=True)\n",
    "s7_acc_wal_thigh.drop(['id', 'attr_time'], axis='columns', inplace=True)\n",
    "s7_acc_wal_upperarm.drop(['id', 'attr_time'], axis='columns', inplace=True)\n",
    "s7_acc_wal_waist.drop(['id', 'attr_time'], axis='columns', inplace=True)"
   ]
  },
  {
   "cell_type": "code",
   "execution_count": 187,
   "id": "11dd7230",
   "metadata": {},
   "outputs": [],
   "source": [
    "#acceleration climibing down for user 8"
   ]
  },
  {
   "cell_type": "code",
   "execution_count": 188,
   "id": "1b63f066",
   "metadata": {},
   "outputs": [],
   "source": [
    "s8_acc_cldn_chest = pd.read_csv ('/Users/user/Desktop/realworld2016_dataset/proband8/data/acc_climbingdown_csv/acc_climbingdown_chest.csv')\n",
    "s8_acc_cldn_forearm = pd.read_csv ('/Users/user/Desktop/realworld2016_dataset/proband8/data/acc_climbingdown_csv/acc_climbingdown_forearm.csv')\n",
    "s8_acc_cldn_head = pd.read_csv ('/Users/user/Desktop/realworld2016_dataset/proband8/data/acc_climbingdown_csv/acc_climbingdown_head.csv')\n",
    "s8_acc_cldn_shin = pd.read_csv ('/Users/user/Desktop/realworld2016_dataset/proband8/data/acc_climbingdown_csv/acc_climbingdown_shin.csv')\n",
    "s8_acc_cldn_thigh = pd.read_csv ('/Users/user/Desktop/realworld2016_dataset/proband8/data/acc_climbingdown_csv/acc_climbingdown_thigh.csv')\n",
    "s8_acc_cldn_upperarm = pd.read_csv ('/Users/user/Desktop/realworld2016_dataset/proband8/data/acc_climbingdown_csv/acc_climbingdown_upperarm.csv')\n",
    "s8_acc_cldn_waist = pd.read_csv ('/Users/user/Desktop/realworld2016_dataset/proband8/data/acc_climbingdown_csv/acc_climbingdown_waist.csv')\n"
   ]
  },
  {
   "cell_type": "code",
   "execution_count": 189,
   "id": "328ce4d2",
   "metadata": {},
   "outputs": [],
   "source": [
    "#acceleration climibing up for user 8"
   ]
  },
  {
   "cell_type": "code",
   "execution_count": 190,
   "id": "fa53b925",
   "metadata": {},
   "outputs": [],
   "source": [
    "s8_acc_clup_chest = pd.read_csv ('/Users/user/Desktop/realworld2016_dataset/proband8/data/acc_climbingup_csv/acc_climbingup_chest.csv')\n",
    "s8_acc_clup_forearm = pd.read_csv ('/Users/user/Desktop/realworld2016_dataset/proband8/data/acc_climbingup_csv/acc_climbingup_forearm.csv')\n",
    "s8_acc_clup_head = pd.read_csv ('/Users/user/Desktop/realworld2016_dataset/proband8/data/acc_climbingup_csv/acc_climbingup_head.csv')\n",
    "s8_acc_clup_shin = pd.read_csv ('/Users/user/Desktop/realworld2016_dataset/proband8/data/acc_climbingup_csv/acc_climbingup_shin.csv')\n",
    "s8_acc_clup_thigh = pd.read_csv ('/Users/user/Desktop/realworld2016_dataset/proband8/data/acc_climbingup_csv/acc_climbingup_thigh.csv')\n",
    "s8_acc_clup_upperarm = pd.read_csv ('/Users/user/Desktop/realworld2016_dataset/proband8/data/acc_climbingup_csv/acc_climbingup_upperarm.csv')\n",
    "s8_acc_clup_waist = pd.read_csv ('/Users/user/Desktop/realworld2016_dataset/proband8/data/acc_climbingup_csv/acc_climbingup_waist.csv')\n"
   ]
  },
  {
   "cell_type": "code",
   "execution_count": 191,
   "id": "3fdf6c85",
   "metadata": {},
   "outputs": [],
   "source": [
    "#acceleration jumping for user 8"
   ]
  },
  {
   "cell_type": "code",
   "execution_count": 192,
   "id": "eecdf341",
   "metadata": {},
   "outputs": [],
   "source": [
    "s8_acc_jump_chest = pd.read_csv ('/Users/user/Desktop/realworld2016_dataset/proband8/data/acc_jumping_csv/acc_jumping_chest.csv')\n",
    "s8_acc_jump_forearm = pd.read_csv ('/Users/user/Desktop/realworld2016_dataset/proband8/data/acc_jumping_csv/acc_jumping_forearm.csv')\n",
    "s8_acc_jump_head = pd.read_csv ('/Users/user/Desktop/realworld2016_dataset/proband8/data/acc_jumping_csv/acc_jumping_head.csv')\n",
    "s8_acc_jump_shin = pd.read_csv ('/Users/user/Desktop/realworld2016_dataset/proband8/data/acc_jumping_csv/acc_jumping_shin.csv')\n",
    "s8_acc_jump_thigh = pd.read_csv ('/Users/user/Desktop/realworld2016_dataset/proband8/data/acc_jumping_csv/acc_jumping_thigh.csv')\n",
    "s8_acc_jump_upperarm = pd.read_csv ('/Users/user/Desktop/realworld2016_dataset/proband8/data/acc_jumping_csv/acc_jumping_upperarm.csv')\n",
    "s8_acc_jump_waist = pd.read_csv ('/Users/user/Desktop/realworld2016_dataset/proband8/data/acc_jumping_csv/acc_jumping_waist.csv')\n",
    "\n"
   ]
  },
  {
   "cell_type": "code",
   "execution_count": 193,
   "id": "48245d92",
   "metadata": {},
   "outputs": [],
   "source": [
    "#acceleration lying for user 8"
   ]
  },
  {
   "cell_type": "code",
   "execution_count": 194,
   "id": "da73d596",
   "metadata": {},
   "outputs": [],
   "source": [
    "s8_acc_ly_chest = pd.read_csv ('/Users/user/Desktop/realworld2016_dataset/proband8/data/acc_lying_csv/acc_lying_chest.csv')\n",
    "s8_acc_ly_forearm = pd.read_csv ('/Users/user/Desktop/realworld2016_dataset/proband8/data/acc_lying_csv/acc_lying_forearm.csv')\n",
    "s8_acc_ly_head = pd.read_csv ('/Users/user/Desktop/realworld2016_dataset/proband8/data/acc_lying_csv/acc_lying_head.csv')\n",
    "s8_acc_ly_shin = pd.read_csv ('/Users/user/Desktop/realworld2016_dataset/proband8/data/acc_lying_csv/acc_lying_shin.csv')\n",
    "s8_acc_ly_thigh = pd.read_csv ('/Users/user/Desktop/realworld2016_dataset/proband8/data/acc_lying_csv/acc_lying_thigh.csv')\n",
    "s8_acc_ly_upperarm = pd.read_csv ('/Users/user/Desktop/realworld2016_dataset/proband8/data/acc_lying_csv/acc_lying_upperarm.csv')\n",
    "s8_acc_ly_waist = pd.read_csv ('/Users/user/Desktop/realworld2016_dataset/proband8/data/acc_lying_csv/acc_lying_waist.csv')\n"
   ]
  },
  {
   "cell_type": "code",
   "execution_count": 195,
   "id": "5db9c41b",
   "metadata": {},
   "outputs": [],
   "source": [
    "#acceleration running for user 8"
   ]
  },
  {
   "cell_type": "code",
   "execution_count": 196,
   "id": "746e42e7",
   "metadata": {},
   "outputs": [],
   "source": [
    "s8_acc_run_chest = pd.read_csv ('/Users/user/Desktop/realworld2016_dataset/proband8/data/acc_running_csv/acc_running_chest.csv')\n",
    "s8_acc_run_forearm = pd.read_csv ('/Users/user/Desktop/realworld2016_dataset/proband8/data/acc_running_csv/acc_running_forearm.csv')\n",
    "s8_acc_run_head = pd.read_csv ('/Users/user/Desktop/realworld2016_dataset/proband8/data/acc_running_csv/acc_running_head.csv')\n",
    "s8_acc_run_shin = pd.read_csv ('/Users/user/Desktop/realworld2016_dataset/proband8/data/acc_running_csv/acc_running_shin.csv')\n",
    "s8_acc_run_thigh = pd.read_csv ('/Users/user/Desktop/realworld2016_dataset/proband8/data/acc_running_csv/acc_running_thigh.csv')\n",
    "s8_acc_run_upperarm = pd.read_csv ('/Users/user/Desktop/realworld2016_dataset/proband8/data/acc_running_csv/acc_running_upperarm.csv')\n",
    "s8_acc_run_waist = pd.read_csv ('/Users/user/Desktop/realworld2016_dataset/proband8/data/acc_running_csv/acc_running_waist.csv')"
   ]
  },
  {
   "cell_type": "code",
   "execution_count": 197,
   "id": "542cb56c",
   "metadata": {},
   "outputs": [],
   "source": [
    "#acceleration sitting for user 8"
   ]
  },
  {
   "cell_type": "code",
   "execution_count": 198,
   "id": "083fc393",
   "metadata": {},
   "outputs": [],
   "source": [
    "s8_acc_sit_chest = pd.read_csv ('/Users/user/Desktop/realworld2016_dataset/proband8/data/acc_sitting_csv/acc_sitting_chest.csv')\n",
    "s8_acc_sit_forearm = pd.read_csv ('/Users/user/Desktop/realworld2016_dataset/proband8/data/acc_sitting_csv/acc_sitting_forearm.csv')\n",
    "s8_acc_sit_head = pd.read_csv ('/Users/user/Desktop/realworld2016_dataset/proband8/data/acc_sitting_csv/acc_sitting_head.csv')\n",
    "s8_acc_sit_shin = pd.read_csv ('/Users/user/Desktop/realworld2016_dataset/proband8/data/acc_sitting_csv/acc_sitting_shin.csv')\n",
    "s8_acc_sit_thigh = pd.read_csv ('/Users/user/Desktop/realworld2016_dataset/proband8/data/acc_sitting_csv/acc_sitting_thigh.csv')\n",
    "s8_acc_sit_upperarm = pd.read_csv ('/Users/user/Desktop/realworld2016_dataset/proband8/data/acc_sitting_csv/acc_sitting_upperarm.csv')\n",
    "s8_acc_sit_waist = pd.read_csv ('/Users/user/Desktop/realworld2016_dataset/proband8/data/acc_sitting_csv/acc_sitting_waist.csv')\n"
   ]
  },
  {
   "cell_type": "code",
   "execution_count": 199,
   "id": "7789a15a",
   "metadata": {},
   "outputs": [],
   "source": [
    "#acceleration standing for user 8"
   ]
  },
  {
   "cell_type": "code",
   "execution_count": 200,
   "id": "e0a2f6cc",
   "metadata": {},
   "outputs": [],
   "source": [
    "s8_acc_std_chest = pd.read_csv ('/Users/user/Desktop/realworld2016_dataset/proband8/data/acc_standing_csv/acc_standing_2_chest.csv')\n",
    "s8_acc_std_forearm = pd.read_csv('/Users/user/Desktop/realworld2016_dataset/proband8/data/acc_standing_csv/acc_standing_2_forearm.csv')\n",
    "s8_acc_std_head = pd.read_csv ('/Users/user/Desktop/realworld2016_dataset/proband8/data/acc_standing_csv/acc_standing_2_head.csv')\n",
    "s8_acc_std_shin = pd.read_csv ('/Users/user/Desktop/realworld2016_dataset/proband8/data/acc_standing_csv/acc_standing_2_shin.csv')\n",
    "s8_acc_std_thigh = pd.read_csv ('/Users/user/Desktop/realworld2016_dataset/proband8/data/acc_standing_csv/acc_standing_2_thigh.csv')\n",
    "s8_acc_std_upperarm = pd.read_csv ('/Users/user/Desktop/realworld2016_dataset/proband8/data/acc_standing_csv/acc_standing_2_upperarm.csv')\n",
    "s8_acc_std_waist = pd.read_csv ('/Users/user/Desktop/realworld2016_dataset/proband8/data/acc_standing_csv/acc_standing_2_waist.csv')\n"
   ]
  },
  {
   "cell_type": "code",
   "execution_count": 201,
   "id": "ddf8a570",
   "metadata": {},
   "outputs": [],
   "source": [
    "#acceleration walking for user 8"
   ]
  },
  {
   "cell_type": "code",
   "execution_count": 202,
   "id": "80b075ef",
   "metadata": {},
   "outputs": [],
   "source": [
    "s8_acc_wal_chest = pd.read_csv ('/Users/user/Desktop/realworld2016_dataset/proband8/data/acc_walking_csv/acc_walking_chest.csv')\n",
    "s8_acc_wal_forearm = pd.read_csv ('/Users/user/Desktop/realworld2016_dataset/proband8/data/acc_walking_csv/acc_walking_forearm.csv')\n",
    "s8_acc_wal_head = pd.read_csv ('/Users/user/Desktop/realworld2016_dataset/proband8/data/acc_walking_csv/acc_walking_head.csv')\n",
    "s8_acc_wal_shin = pd.read_csv ('/Users/user/Desktop/realworld2016_dataset/proband8/data/acc_walking_csv/acc_walking_shin.csv')\n",
    "s8_acc_wal_thigh = pd.read_csv ('/Users/user/Desktop/realworld2016_dataset/proband8/data/acc_walking_csv/acc_walking_thigh.csv')\n",
    "s8_acc_wal_upperarm = pd.read_csv ('/Users/user/Desktop/realworld2016_dataset/proband8/data/acc_walking_csv/acc_walking_upperarm.csv')\n",
    "s8_acc_wal_waist = pd.read_csv ('/Users/user/Desktop/realworld2016_dataset/proband8/data/acc_walking_csv/acc_walking_waist.csv')"
   ]
  },
  {
   "cell_type": "code",
   "execution_count": 203,
   "id": "a3098e7c",
   "metadata": {},
   "outputs": [],
   "source": [
    "s8_acc_cldn_chest.drop(['id', 'attr_time'], axis='columns', inplace=True)\n",
    "s8_acc_cldn_forearm.drop(['id', 'attr_time'], axis='columns', inplace=True)\n",
    "s8_acc_cldn_head.drop(['id', 'attr_time'], axis='columns', inplace=True)\n",
    "s8_acc_cldn_shin.drop(['id', 'attr_time'], axis='columns', inplace=True)\n",
    "s8_acc_cldn_thigh.drop(['id', 'attr_time'], axis='columns', inplace=True)\n",
    "s8_acc_cldn_upperarm.drop(['id', 'attr_time'], axis='columns', inplace=True)\n",
    "s8_acc_cldn_waist.drop(['id', 'attr_time'], axis='columns', inplace=True)"
   ]
  },
  {
   "cell_type": "code",
   "execution_count": 204,
   "id": "cc9d5afa",
   "metadata": {},
   "outputs": [],
   "source": [
    "s8_acc_clup_chest.drop(['id', 'attr_time'], axis='columns', inplace=True)\n",
    "s8_acc_clup_forearm.drop(['id', 'attr_time'], axis='columns', inplace=True)\n",
    "s8_acc_clup_head.drop(['id', 'attr_time'], axis='columns', inplace=True)\n",
    "s8_acc_clup_shin.drop(['id', 'attr_time'], axis='columns', inplace=True)\n",
    "s8_acc_clup_thigh.drop(['id', 'attr_time'], axis='columns', inplace=True)\n",
    "s8_acc_clup_upperarm.drop(['id', 'attr_time'], axis='columns', inplace=True)\n",
    "s8_acc_clup_waist.drop(['id', 'attr_time'], axis='columns', inplace=True)"
   ]
  },
  {
   "cell_type": "code",
   "execution_count": 205,
   "id": "9bc0eca4",
   "metadata": {},
   "outputs": [],
   "source": [
    "s8_acc_jump_chest.drop(['id', 'attr_time'], axis='columns', inplace=True)\n",
    "s8_acc_jump_forearm.drop(['id', 'attr_time'], axis='columns', inplace=True)\n",
    "s8_acc_jump_head.drop(['id', 'attr_time'], axis='columns', inplace=True)\n",
    "s8_acc_jump_shin.drop(['id', 'attr_time'], axis='columns', inplace=True)\n",
    "s8_acc_jump_thigh.drop(['id', 'attr_time'], axis='columns', inplace=True)\n",
    "s8_acc_jump_upperarm.drop(['id', 'attr_time'], axis='columns', inplace=True)\n",
    "s8_acc_jump_waist.drop(['id', 'attr_time'], axis='columns', inplace=True)\n"
   ]
  },
  {
   "cell_type": "code",
   "execution_count": 206,
   "id": "46421712",
   "metadata": {},
   "outputs": [],
   "source": [
    "s8_acc_ly_chest.drop(['id', 'attr_time'], axis='columns', inplace=True)\n",
    "s8_acc_ly_forearm.drop(['id', 'attr_time'], axis='columns', inplace=True)\n",
    "s8_acc_ly_head.drop(['id', 'attr_time'], axis='columns', inplace=True)\n",
    "s8_acc_ly_shin.drop(['id', 'attr_time'], axis='columns', inplace=True)\n",
    "s8_acc_ly_thigh.drop(['id', 'attr_time'], axis='columns', inplace=True)\n",
    "s8_acc_ly_upperarm.drop(['id', 'attr_time'], axis='columns', inplace=True)\n",
    "s8_acc_ly_waist.drop(['id', 'attr_time'], axis='columns', inplace=True)"
   ]
  },
  {
   "cell_type": "code",
   "execution_count": 207,
   "id": "373efc11",
   "metadata": {},
   "outputs": [],
   "source": [
    "s8_acc_run_chest.drop(['id', 'attr_time'], axis='columns', inplace=True)\n",
    "s8_acc_run_forearm.drop(['id', 'attr_time'], axis='columns', inplace=True)\n",
    "s8_acc_run_head.drop(['id', 'attr_time'], axis='columns', inplace=True)\n",
    "s8_acc_run_shin.drop(['id', 'attr_time'], axis='columns', inplace=True)\n",
    "s8_acc_run_thigh.drop(['id', 'attr_time'], axis='columns', inplace=True)\n",
    "s8_acc_run_upperarm.drop(['id', 'attr_time'], axis='columns', inplace=True)\n",
    "s8_acc_run_waist.drop(['id', 'attr_time'], axis='columns', inplace=True)\n"
   ]
  },
  {
   "cell_type": "code",
   "execution_count": 208,
   "id": "a96f5c2a",
   "metadata": {},
   "outputs": [],
   "source": [
    "s8_acc_sit_chest.drop(['id', 'attr_time'], axis='columns', inplace=True)\n",
    "s8_acc_sit_forearm.drop(['id', 'attr_time'], axis='columns', inplace=True)\n",
    "s8_acc_sit_head.drop(['id', 'attr_time'], axis='columns', inplace=True)\n",
    "s8_acc_sit_shin.drop(['id', 'attr_time'], axis='columns', inplace=True)\n",
    "s8_acc_sit_thigh.drop(['id', 'attr_time'], axis='columns', inplace=True)\n",
    "s8_acc_sit_upperarm.drop(['id', 'attr_time'], axis='columns', inplace=True)\n",
    "s8_acc_sit_waist.drop(['id', 'attr_time'], axis='columns', inplace=True)"
   ]
  },
  {
   "cell_type": "code",
   "execution_count": 209,
   "id": "3cb89e9d",
   "metadata": {},
   "outputs": [],
   "source": [
    "s8_acc_std_chest.drop(['id', 'attr_time'], axis='columns', inplace=True)\n",
    "s8_acc_std_forearm.drop(['id', 'attr_time'], axis='columns', inplace=True)\n",
    "s8_acc_std_head.drop(['id', 'attr_time'], axis='columns', inplace=True)\n",
    "s8_acc_std_shin.drop(['id', 'attr_time'], axis='columns', inplace=True)\n",
    "s8_acc_std_thigh.drop(['id', 'attr_time'], axis='columns', inplace=True)\n",
    "s8_acc_std_upperarm.drop(['id', 'attr_time'], axis='columns', inplace=True)\n",
    "s8_acc_std_waist.drop(['id', 'attr_time'], axis='columns', inplace=True)"
   ]
  },
  {
   "cell_type": "code",
   "execution_count": 210,
   "id": "db5d2767",
   "metadata": {},
   "outputs": [],
   "source": [
    "\n",
    "s8_acc_wal_chest.drop(['id', 'attr_time'], axis='columns', inplace=True)\n",
    "s8_acc_wal_forearm.drop(['id', 'attr_time'], axis='columns', inplace=True)\n",
    "s8_acc_wal_head.drop(['id', 'attr_time'], axis='columns', inplace=True)\n",
    "s8_acc_wal_shin.drop(['id', 'attr_time'], axis='columns', inplace=True)\n",
    "s8_acc_wal_thigh.drop(['id', 'attr_time'], axis='columns', inplace=True)\n",
    "s8_acc_wal_upperarm.drop(['id', 'attr_time'], axis='columns', inplace=True)\n",
    "s8_acc_wal_waist.drop(['id', 'attr_time'], axis='columns', inplace=True)"
   ]
  },
  {
   "cell_type": "code",
   "execution_count": 211,
   "id": "adc2dc21",
   "metadata": {},
   "outputs": [],
   "source": [
    "#acceleration climbing down for user 9"
   ]
  },
  {
   "cell_type": "code",
   "execution_count": 212,
   "id": "f35c80bd",
   "metadata": {},
   "outputs": [],
   "source": [
    "s9_acc_cldn_chest = pd.read_csv ('/Users/user/Desktop/realworld2016_dataset/proband9/data/acc_climbingdown_csv/acc_climbingdown_chest.csv')\n",
    "s9_acc_cldn_forearm = pd.read_csv ('/Users/user/Desktop/realworld2016_dataset/proband9/data/acc_climbingdown_csv/acc_climbingdown_forearm.csv')\n",
    "s9_acc_cldn_head = pd.read_csv ('/Users/user/Desktop/realworld2016_dataset/proband9/data/acc_climbingdown_csv/acc_climbingdown_head.csv')\n",
    "s9_acc_cldn_shin = pd.read_csv ('/Users/user/Desktop/realworld2016_dataset/proband9/data/acc_climbingdown_csv/acc_climbingdown_shin.csv')\n",
    "s9_acc_cldn_thigh = pd.read_csv ('/Users/user/Desktop/realworld2016_dataset/proband9/data/acc_climbingdown_csv/acc_climbingdown_thigh.csv')\n",
    "s9_acc_cldn_upperarm = pd.read_csv ('/Users/user/Desktop/realworld2016_dataset/proband9/data/acc_climbingdown_csv/acc_climbingdown_upperarm.csv')\n",
    "s9_acc_cldn_waist = pd.read_csv ('/Users/user/Desktop/realworld2016_dataset/proband9/data/acc_climbingdown_csv/acc_climbingdown_waist.csv')\n"
   ]
  },
  {
   "cell_type": "code",
   "execution_count": 213,
   "id": "276cf118",
   "metadata": {},
   "outputs": [],
   "source": [
    "#acceleration climbing up for user 9"
   ]
  },
  {
   "cell_type": "code",
   "execution_count": 214,
   "id": "49721a07",
   "metadata": {},
   "outputs": [],
   "source": [
    "s9_acc_clup_chest = pd.read_csv ('/Users/user/Desktop/realworld2016_dataset/proband9/data/acc_climbingup_csv/acc_climbingup_chest.csv')\n",
    "s9_acc_clup_forearm = pd.read_csv ('/Users/user/Desktop/realworld2016_dataset/proband9/data/acc_climbingup_csv/acc_climbingup_forearm.csv')\n",
    "s9_acc_clup_head = pd.read_csv ('/Users/user/Desktop/realworld2016_dataset/proband9/data/acc_climbingup_csv/acc_climbingup_head.csv')\n",
    "s9_acc_clup_shin = pd.read_csv ('/Users/user/Desktop/realworld2016_dataset/proband9/data/acc_climbingup_csv/acc_climbingup_shin.csv')\n",
    "s9_acc_clup_thigh = pd.read_csv ('/Users/user/Desktop/realworld2016_dataset/proband9/data/acc_climbingup_csv/acc_climbingup_thigh.csv')\n",
    "s9_acc_clup_upperarm = pd.read_csv ('/Users/user/Desktop/realworld2016_dataset/proband9/data/acc_climbingup_csv/acc_climbingup_upperarm.csv')\n",
    "s9_acc_clup_waist = pd.read_csv ('/Users/user/Desktop/realworld2016_dataset/proband9/data/acc_climbingup_csv/acc_climbingup_waist.csv')"
   ]
  },
  {
   "cell_type": "code",
   "execution_count": 215,
   "id": "9cc89aa2",
   "metadata": {},
   "outputs": [],
   "source": [
    "#acceleration jumping up for user 9"
   ]
  },
  {
   "cell_type": "code",
   "execution_count": 216,
   "id": "15ce8cbc",
   "metadata": {},
   "outputs": [],
   "source": [
    "s9_acc_jump_chest = pd.read_csv ('/Users/user/Desktop/realworld2016_dataset/proband9/data/acc_jumping_csv/acc_jumping_chest.csv')\n",
    "s9_acc_jump_forearm = pd.read_csv ('/Users/user/Desktop/realworld2016_dataset/proband9/data/acc_jumping_csv/acc_jumping_forearm.csv')\n",
    "s9_acc_jump_head = pd.read_csv ('/Users/user/Desktop/realworld2016_dataset/proband9/data/acc_jumping_csv/acc_jumping_head.csv')\n",
    "s9_acc_jump_shin = pd.read_csv ('/Users/user/Desktop/realworld2016_dataset/proband9/data/acc_jumping_csv/acc_jumping_shin.csv')\n",
    "s9_acc_jump_thigh = pd.read_csv ('/Users/user/Desktop/realworld2016_dataset/proband9/data/acc_jumping_csv/acc_jumping_thigh.csv')\n",
    "s9_acc_jump_upperarm = pd.read_csv ('/Users/user/Desktop/realworld2016_dataset/proband9/data/acc_jumping_csv/acc_jumping_upperarm.csv')\n",
    "s9_acc_jump_waist = pd.read_csv ('/Users/user/Desktop/realworld2016_dataset/proband9/data/acc_jumping_csv/acc_jumping_waist.csv')"
   ]
  },
  {
   "cell_type": "code",
   "execution_count": 217,
   "id": "a6b43625",
   "metadata": {},
   "outputs": [],
   "source": [
    "#acceleration lting up for user 9"
   ]
  },
  {
   "cell_type": "code",
   "execution_count": 218,
   "id": "348c683a",
   "metadata": {},
   "outputs": [],
   "source": [
    "s9_acc_ly_chest = pd.read_csv ('/Users/user/Desktop/realworld2016_dataset/proband9/data/acc_lying_csv/acc_lying_chest.csv')\n",
    "s9_acc_ly_forearm = pd.read_csv ('/Users/user/Desktop/realworld2016_dataset/proband9/data/acc_lying_csv/acc_lying_forearm.csv')\n",
    "s9_acc_ly_head = pd.read_csv ('/Users/user/Desktop/realworld2016_dataset/proband9/data/acc_lying_csv/acc_lying_head.csv')\n",
    "s9_acc_ly_shin = pd.read_csv ('/Users/user/Desktop/realworld2016_dataset/proband9/data/acc_lying_csv/acc_lying_shin.csv')\n",
    "s9_acc_ly_thigh = pd.read_csv ('/Users/user/Desktop/realworld2016_dataset/proband9/data/acc_lying_csv/acc_lying_thigh.csv')\n",
    "s9_acc_ly_upperarm = pd.read_csv ('/Users/user/Desktop/realworld2016_dataset/proband9/data/acc_lying_csv/acc_lying_upperarm.csv')\n",
    "s9_acc_ly_waist = pd.read_csv ('/Users/user/Desktop/realworld2016_dataset/proband9/data/acc_lying_csv/acc_lying_waist.csv')"
   ]
  },
  {
   "cell_type": "code",
   "execution_count": 219,
   "id": "8529fa5a",
   "metadata": {},
   "outputs": [],
   "source": [
    "#acceleration running up for user 9"
   ]
  },
  {
   "cell_type": "code",
   "execution_count": 220,
   "id": "14249513",
   "metadata": {},
   "outputs": [],
   "source": [
    "s9_acc_run_chest = pd.read_csv ('/Users/user/Desktop/realworld2016_dataset/proband9/data/acc_running_csv/acc_running_chest.csv')\n",
    "s9_acc_run_forearm = pd.read_csv ('/Users/user/Desktop/realworld2016_dataset/proband9/data/acc_running_csv/acc_running_forearm.csv')\n",
    "s9_acc_run_head = pd.read_csv ('/Users/user/Desktop/realworld2016_dataset/proband9/data/acc_running_csv/acc_running_head.csv')\n",
    "s9_acc_run_shin = pd.read_csv ('/Users/user/Desktop/realworld2016_dataset/proband9/data/acc_running_csv/acc_running_shin.csv')\n",
    "s9_acc_run_thigh = pd.read_csv ('/Users/user/Desktop/realworld2016_dataset/proband9/data/acc_running_csv/acc_running_thigh.csv')\n",
    "s9_acc_run_upperarm = pd.read_csv ('/Users/user/Desktop/realworld2016_dataset/proband9/data/acc_running_csv/acc_running_upperarm.csv')\n",
    "s9_acc_run_waist = pd.read_csv ('/Users/user/Desktop/realworld2016_dataset/proband9/data/acc_running_csv/acc_running_waist.csv')"
   ]
  },
  {
   "cell_type": "code",
   "execution_count": 221,
   "id": "f987ec1d",
   "metadata": {},
   "outputs": [],
   "source": [
    "#acceleration sitting up for user 9"
   ]
  },
  {
   "cell_type": "code",
   "execution_count": 222,
   "id": "bd105c51",
   "metadata": {},
   "outputs": [],
   "source": [
    "s9_acc_sit_chest = pd.read_csv ('/Users/user/Desktop/realworld2016_dataset/proband9/data/acc_sitting_csv/acc_sitting_chest.csv')\n",
    "s9_acc_sit_forearm = pd.read_csv ('/Users/user/Desktop/realworld2016_dataset/proband9/data/acc_sitting_csv/acc_sitting_forearm.csv')\n",
    "s9_acc_sit_head = pd.read_csv ('/Users/user/Desktop/realworld2016_dataset/proband9/data/acc_sitting_csv/acc_sitting_head.csv')\n",
    "s9_acc_sit_shin = pd.read_csv ('/Users/user/Desktop/realworld2016_dataset/proband9/data/acc_sitting_csv/acc_sitting_shin.csv')\n",
    "s9_acc_sit_thigh = pd.read_csv ('/Users/user/Desktop/realworld2016_dataset/proband9/data/acc_sitting_csv/acc_sitting_thigh.csv')\n",
    "s9_acc_sit_upperarm = pd.read_csv ('/Users/user/Desktop/realworld2016_dataset/proband9/data/acc_sitting_csv/acc_sitting_upperarm.csv')\n",
    "s9_acc_sit_waist = pd.read_csv ('/Users/user/Desktop/realworld2016_dataset/proband9/data/acc_sitting_csv/acc_sitting_waist.csv')\n"
   ]
  },
  {
   "cell_type": "code",
   "execution_count": 223,
   "id": "7c5680e8",
   "metadata": {},
   "outputs": [],
   "source": [
    "#acceleration standing up for user 9"
   ]
  },
  {
   "cell_type": "code",
   "execution_count": 224,
   "id": "cfb3e10c",
   "metadata": {},
   "outputs": [],
   "source": [
    "s9_acc_std_chest = pd.read_csv ('/Users/user/Desktop/realworld2016_dataset/proband9/data/acc_standing_csv/acc_standing_chest.csv')\n",
    "s9_acc_std_forearm = pd.read_csv ('/Users/user/Desktop/realworld2016_dataset/proband9/data/acc_standing_csv/acc_standing_forearm.csv')\n",
    "s9_acc_std_head = pd.read_csv ('/Users/user/Desktop/realworld2016_dataset/proband9/data/acc_standing_csv/acc_standing_head.csv')\n",
    "s9_acc_std_shin = pd.read_csv ('/Users/user/Desktop/realworld2016_dataset/proband9/data/acc_standing_csv/acc_standing_shin.csv')\n",
    "s9_acc_std_thigh = pd.read_csv ('/Users/user/Desktop/realworld2016_dataset/proband9/data/acc_standing_csv/acc_standing_thigh.csv')\n",
    "s9_acc_std_upperarm = pd.read_csv ('/Users/user/Desktop/realworld2016_dataset/proband9/data/acc_standing_csv/acc_standing_upperarm.csv')\n",
    "s9_acc_std_waist = pd.read_csv ('/Users/user/Desktop/realworld2016_dataset/proband9/data/acc_standing_csv/acc_standing_waist.csv')\n"
   ]
  },
  {
   "cell_type": "code",
   "execution_count": 225,
   "id": "7e261c95",
   "metadata": {},
   "outputs": [],
   "source": [
    "#acceleration walking up for user 9"
   ]
  },
  {
   "cell_type": "code",
   "execution_count": 226,
   "id": "ecd5d04c",
   "metadata": {},
   "outputs": [],
   "source": [
    "s9_acc_wal_chest = pd.read_csv ('/Users/user/Desktop/realworld2016_dataset/proband9/data/acc_walking_csv/acc_walking_chest.csv')\n",
    "s9_acc_wal_forearm = pd.read_csv ('/Users/user/Desktop/realworld2016_dataset/proband9/data/acc_walking_csv/acc_walking_forearm.csv')\n",
    "s9_acc_wal_head = pd.read_csv ('/Users/user/Desktop/realworld2016_dataset/proband9/data/acc_walking_csv/acc_walking_head.csv')\n",
    "s9_acc_wal_shin = pd.read_csv ('/Users/user/Desktop/realworld2016_dataset/proband9/data/acc_walking_csv/acc_walking_shin.csv')\n",
    "s9_acc_wal_thigh = pd.read_csv ('/Users/user/Desktop/realworld2016_dataset/proband9/data/acc_walking_csv/acc_walking_thigh.csv')\n",
    "s9_acc_wal_upperarm = pd.read_csv ('/Users/user/Desktop/realworld2016_dataset/proband9/data/acc_walking_csv/acc_walking_upperarm.csv')\n",
    "s9_acc_wal_waist = pd.read_csv ('/Users/user/Desktop/realworld2016_dataset/proband9/data/acc_walking_csv/acc_walking_waist.csv')\n"
   ]
  },
  {
   "cell_type": "code",
   "execution_count": 227,
   "id": "094892b9",
   "metadata": {},
   "outputs": [],
   "source": [
    "s9_acc_cldn_chest.drop(['id', 'attr_time'], axis='columns', inplace=True)\n",
    "s9_acc_cldn_forearm.drop(['id', 'attr_time'], axis='columns', inplace=True)\n",
    "s9_acc_cldn_head.drop(['id', 'attr_time'], axis='columns', inplace=True)\n",
    "s9_acc_cldn_shin.drop(['id', 'attr_time'], axis='columns', inplace=True)\n",
    "s9_acc_cldn_thigh.drop(['id', 'attr_time'], axis='columns', inplace=True)\n",
    "s9_acc_cldn_upperarm.drop(['id', 'attr_time'], axis='columns', inplace=True)\n",
    "s9_acc_cldn_waist.drop(['id', 'attr_time'], axis='columns', inplace=True)\n"
   ]
  },
  {
   "cell_type": "code",
   "execution_count": 228,
   "id": "25c6994f",
   "metadata": {},
   "outputs": [],
   "source": [
    "s9_acc_clup_chest.drop(['id', 'attr_time'], axis='columns', inplace=True)\n",
    "s9_acc_clup_forearm.drop(['id', 'attr_time'], axis='columns', inplace=True)\n",
    "s9_acc_clup_head.drop(['id', 'attr_time'], axis='columns', inplace=True)\n",
    "s9_acc_clup_shin.drop(['id', 'attr_time'], axis='columns', inplace=True)\n",
    "s9_acc_clup_thigh.drop(['id', 'attr_time'], axis='columns', inplace=True)\n",
    "s9_acc_clup_upperarm.drop(['id', 'attr_time'], axis='columns', inplace=True)\n",
    "s9_acc_clup_waist.drop(['id', 'attr_time'], axis='columns', inplace=True)\n"
   ]
  },
  {
   "cell_type": "code",
   "execution_count": 229,
   "id": "c52e5bad",
   "metadata": {},
   "outputs": [],
   "source": [
    "s9_acc_jump_chest.drop(['id', 'attr_time'], axis='columns', inplace=True)\n",
    "s9_acc_jump_forearm.drop(['id', 'attr_time'], axis='columns', inplace=True)\n",
    "s9_acc_jump_head.drop(['id', 'attr_time'], axis='columns', inplace=True)\n",
    "s9_acc_jump_shin.drop(['id', 'attr_time'], axis='columns', inplace=True)\n",
    "s9_acc_jump_thigh.drop(['id', 'attr_time'], axis='columns', inplace=True)\n",
    "s9_acc_jump_upperarm.drop(['id', 'attr_time'], axis='columns', inplace=True)\n",
    "s9_acc_jump_waist.drop(['id', 'attr_time'], axis='columns', inplace=True)"
   ]
  },
  {
   "cell_type": "code",
   "execution_count": 230,
   "id": "d635a999",
   "metadata": {},
   "outputs": [],
   "source": [
    "s9_acc_ly_chest.drop(['id', 'attr_time'], axis='columns', inplace=True)\n",
    "s9_acc_ly_forearm.drop(['id', 'attr_time'], axis='columns', inplace=True)\n",
    "s9_acc_ly_head.drop(['id', 'attr_time'], axis='columns', inplace=True)\n",
    "s9_acc_ly_shin.drop(['id', 'attr_time'], axis='columns', inplace=True)\n",
    "s9_acc_ly_thigh.drop(['id', 'attr_time'], axis='columns', inplace=True)\n",
    "s9_acc_ly_upperarm.drop(['id', 'attr_time'], axis='columns', inplace=True)\n",
    "s9_acc_ly_waist.drop(['id', 'attr_time'], axis='columns', inplace=True)\n"
   ]
  },
  {
   "cell_type": "code",
   "execution_count": 231,
   "id": "4b7bc887",
   "metadata": {},
   "outputs": [],
   "source": [
    "s9_acc_run_chest.drop(['id', 'attr_time'], axis='columns', inplace=True)\n",
    "s9_acc_run_forearm.drop(['id', 'attr_time'], axis='columns', inplace=True)\n",
    "s9_acc_run_head.drop(['id', 'attr_time'], axis='columns', inplace=True)\n",
    "s9_acc_run_shin.drop(['id', 'attr_time'], axis='columns', inplace=True)\n",
    "s9_acc_run_thigh.drop(['id', 'attr_time'], axis='columns', inplace=True)\n",
    "s9_acc_run_upperarm.drop(['id', 'attr_time'], axis='columns', inplace=True)\n",
    "s9_acc_run_waist.drop(['id', 'attr_time'], axis='columns', inplace=True)"
   ]
  },
  {
   "cell_type": "code",
   "execution_count": 232,
   "id": "c9cd4637",
   "metadata": {},
   "outputs": [],
   "source": [
    "s9_acc_sit_chest.drop(['id', 'attr_time'], axis='columns', inplace=True)\n",
    "s9_acc_sit_forearm.drop(['id', 'attr_time'], axis='columns', inplace=True)\n",
    "s9_acc_sit_head.drop(['id', 'attr_time'], axis='columns', inplace=True)\n",
    "s9_acc_sit_shin.drop(['id', 'attr_time'], axis='columns', inplace=True)\n",
    "s9_acc_sit_thigh.drop(['id', 'attr_time'], axis='columns', inplace=True)\n",
    "s9_acc_sit_upperarm.drop(['id', 'attr_time'], axis='columns', inplace=True)\n",
    "s9_acc_sit_waist.drop(['id', 'attr_time'], axis='columns', inplace=True)\n"
   ]
  },
  {
   "cell_type": "code",
   "execution_count": 233,
   "id": "44ea5e60",
   "metadata": {},
   "outputs": [],
   "source": [
    "s9_acc_std_chest.drop(['id', 'attr_time'], axis='columns', inplace=True)\n",
    "s9_acc_std_forearm.drop(['id', 'attr_time'], axis='columns', inplace=True)\n",
    "s9_acc_std_head.drop(['id', 'attr_time'], axis='columns', inplace=True)\n",
    "s9_acc_std_shin.drop(['id', 'attr_time'], axis='columns', inplace=True)\n",
    "s9_acc_std_thigh.drop(['id', 'attr_time'], axis='columns', inplace=True)\n",
    "s9_acc_std_upperarm.drop(['id', 'attr_time'], axis='columns', inplace=True)\n",
    "s9_acc_std_waist.drop(['id', 'attr_time'], axis='columns', inplace=True)\n"
   ]
  },
  {
   "cell_type": "code",
   "execution_count": 234,
   "id": "ed03365b",
   "metadata": {},
   "outputs": [],
   "source": [
    "s9_acc_wal_chest.drop(['id', 'attr_time'], axis='columns', inplace=True)\n",
    "s9_acc_wal_forearm.drop(['id', 'attr_time'], axis='columns', inplace=True)\n",
    "s9_acc_wal_head.drop(['id', 'attr_time'], axis='columns', inplace=True)\n",
    "s9_acc_wal_shin.drop(['id', 'attr_time'], axis='columns', inplace=True)\n",
    "s9_acc_wal_thigh.drop(['id', 'attr_time'], axis='columns', inplace=True)\n",
    "s9_acc_wal_upperarm.drop(['id', 'attr_time'], axis='columns', inplace=True)\n",
    "s9_acc_wal_waist.drop(['id', 'attr_time'], axis='columns', inplace=True)"
   ]
  },
  {
   "cell_type": "code",
   "execution_count": 235,
   "id": "fba7da6e",
   "metadata": {},
   "outputs": [],
   "source": [
    "#accelearation climibing  down for user 10"
   ]
  },
  {
   "cell_type": "code",
   "execution_count": 236,
   "id": "a0c9e195",
   "metadata": {},
   "outputs": [],
   "source": [
    "s10_acc_cldn_chest = pd.read_csv ('/Users/user/Desktop/realworld2016_dataset/proband10/data/acc_climbingdown_csv/acc_climbingdown_chest.csv')\n",
    "s10_acc_cldn_forearm = pd.read_csv ('/Users/user/Desktop/realworld2016_dataset/proband10/data/acc_climbingdown_csv/acc_climbingdown_forearm.csv')\n",
    "s10_acc_cldn_head = pd.read_csv ('/Users/user/Desktop/realworld2016_dataset/proband10/data/acc_climbingdown_csv/acc_climbingdown_head.csv')\n",
    "s10_acc_cldn_shin = pd.read_csv ('/Users/user/Desktop/realworld2016_dataset/proband10/data/acc_climbingdown_csv/acc_climbingdown_shin.csv')\n",
    "s10_acc_cldn_thigh = pd.read_csv ('/Users/user/Desktop/realworld2016_dataset/proband10/data/acc_climbingdown_csv/acc_climbingdown_thigh.csv')\n",
    "s10_acc_cldn_upperarm = pd.read_csv ('/Users/user/Desktop/realworld2016_dataset/proband10/data/acc_climbingdown_csv/acc_climbingdown_upperarm.csv')\n",
    "s10_acc_cldn_waist = pd.read_csv ('/Users/user/Desktop/realworld2016_dataset/proband10/data/acc_climbingdown_csv/acc_climbingdown_waist.csv')"
   ]
  },
  {
   "cell_type": "code",
   "execution_count": 237,
   "id": "599d5dba",
   "metadata": {},
   "outputs": [],
   "source": [
    "#accelearation climibing  up for user 10"
   ]
  },
  {
   "cell_type": "code",
   "execution_count": 238,
   "id": "d292a4cc",
   "metadata": {},
   "outputs": [],
   "source": [
    "s10_acc_clup_chest = pd.read_csv ('/Users/user/Desktop/realworld2016_dataset/proband10/data/acc_climbingup_csv/acc_climbingup_chest.csv')\n",
    "s10_acc_clup_forearm = pd.read_csv ('/Users/user/Desktop/realworld2016_dataset/proband10/data/acc_climbingup_csv/acc_climbingup_forearm.csv')\n",
    "s10_acc_clup_head = pd.read_csv ('/Users/user/Desktop/realworld2016_dataset/proband10/data/acc_climbingup_csv/acc_climbingup_head.csv')\n",
    "s10_acc_clup_shin = pd.read_csv ('/Users/user/Desktop/realworld2016_dataset/proband10/data/acc_climbingup_csv/acc_climbingup_shin.csv')\n",
    "s10_acc_clup_thigh = pd.read_csv ('/Users/user/Desktop/realworld2016_dataset/proband10/data/acc_climbingup_csv/acc_climbingup_thigh.csv')\n",
    "s10_acc_clup_upperarm = pd.read_csv ('/Users/user/Desktop/realworld2016_dataset/proband10/data/acc_climbingup_csv/acc_climbingup_upperarm.csv')\n",
    "s10_acc_clup_waist = pd.read_csv ('/Users/user/Desktop/realworld2016_dataset/proband10/data/acc_climbingup_csv/acc_climbingup_waist.csv')"
   ]
  },
  {
   "cell_type": "code",
   "execution_count": 239,
   "id": "e5225801",
   "metadata": {},
   "outputs": [],
   "source": [
    "#accelearation jumping for user 10"
   ]
  },
  {
   "cell_type": "code",
   "execution_count": 240,
   "id": "91ff1781",
   "metadata": {},
   "outputs": [],
   "source": [
    "s10_acc_jump_chest = pd.read_csv ('/Users/user/Desktop/realworld2016_dataset/proband10/data/acc_jumping_csv/acc_jumping_chest.csv')\n",
    "s10_acc_jump_forearm = pd.read_csv ('/Users/user/Desktop/realworld2016_dataset/proband10/data/acc_jumping_csv/acc_jumping_forearm.csv')\n",
    "s10_acc_jump_head = pd.read_csv ('/Users/user/Desktop/realworld2016_dataset/proband10/data/acc_jumping_csv/acc_jumping_head.csv')\n",
    "s10_acc_jump_shin = pd.read_csv ('/Users/user/Desktop/realworld2016_dataset/proband10/data/acc_jumping_csv/acc_jumping_shin.csv')\n",
    "s10_acc_jump_thigh = pd.read_csv ('/Users/user/Desktop/realworld2016_dataset/proband10/data/acc_jumping_csv/acc_jumping_thigh.csv')\n",
    "s10_acc_jump_upperarm = pd.read_csv ('/Users/user/Desktop/realworld2016_dataset/proband10/data/acc_jumping_csv/acc_jumping_upperarm.csv')\n",
    "s10_acc_jump_waist = pd.read_csv ('/Users/user/Desktop/realworld2016_dataset/proband10/data/acc_jumping_csv/acc_jumping_waist.csv')"
   ]
  },
  {
   "cell_type": "code",
   "execution_count": 241,
   "id": "cecd0572",
   "metadata": {},
   "outputs": [],
   "source": [
    "#accelearation lying for user 10"
   ]
  },
  {
   "cell_type": "code",
   "execution_count": 242,
   "id": "0e44aec5",
   "metadata": {},
   "outputs": [],
   "source": [
    "s10_acc_ly_chest = pd.read_csv ('/Users/user/Desktop/realworld2016_dataset/proband10/data/acc_lying_csv/acc_lying_chest.csv')\n",
    "s10_acc_ly_forearm = pd.read_csv ('/Users/user/Desktop/realworld2016_dataset/proband10/data/acc_lying_csv/acc_lying_forearm.csv')\n",
    "s10_acc_ly_head = pd.read_csv ('/Users/user/Desktop/realworld2016_dataset/proband10/data/acc_lying_csv/acc_lying_head.csv')\n",
    "s10_acc_ly_shin = pd.read_csv ('/Users/user/Desktop/realworld2016_dataset/proband10/data/acc_lying_csv/acc_lying_shin.csv')\n",
    "s10_acc_ly_thigh = pd.read_csv ('/Users/user/Desktop/realworld2016_dataset/proband10/data/acc_lying_csv/acc_lying_thigh.csv')\n",
    "s10_acc_ly_upperarm = pd.read_csv ('/Users/user/Desktop/realworld2016_dataset/proband10/data/acc_lying_csv/acc_lying_upperarm.csv')\n",
    "s10_acc_ly_waist = pd.read_csv ('/Users/user/Desktop/realworld2016_dataset/proband10/data/acc_lying_csv/acc_lying_waist.csv')\n"
   ]
  },
  {
   "cell_type": "code",
   "execution_count": 243,
   "id": "9536a9a3",
   "metadata": {},
   "outputs": [],
   "source": [
    "#accelearation running for user 10"
   ]
  },
  {
   "cell_type": "code",
   "execution_count": 244,
   "id": "1bafde60",
   "metadata": {},
   "outputs": [],
   "source": [
    "s10_acc_run_chest = pd.read_csv ('/Users/user/Desktop/realworld2016_dataset/proband10/data/acc_running_csv/acc_running_chest.csv')\n",
    "s10_acc_run_forearm = pd.read_csv ('/Users/user/Desktop/realworld2016_dataset/proband10/data/acc_running_csv/acc_running_forearm.csv')\n",
    "s10_acc_run_head = pd.read_csv ('/Users/user/Desktop/realworld2016_dataset/proband10/data/acc_running_csv/acc_running_head.csv')\n",
    "s10_acc_run_shin = pd.read_csv ('/Users/user/Desktop/realworld2016_dataset/proband10/data/acc_running_csv/acc_running_shin.csv')\n",
    "s10_acc_run_thigh = pd.read_csv ('/Users/user/Desktop/realworld2016_dataset/proband10/data/acc_running_csv/acc_running_thigh.csv')\n",
    "s10_acc_run_upperarm = pd.read_csv ('/Users/user/Desktop/realworld2016_dataset/proband10/data/acc_running_csv/acc_running_upperarm.csv')\n",
    "s10_acc_run_waist = pd.read_csv ('/Users/user/Desktop/realworld2016_dataset/proband10/data/acc_running_csv/acc_running_waist.csv')"
   ]
  },
  {
   "cell_type": "code",
   "execution_count": 245,
   "id": "af4bb4a3",
   "metadata": {},
   "outputs": [],
   "source": [
    "#accelearation sitting for user 10"
   ]
  },
  {
   "cell_type": "code",
   "execution_count": 246,
   "id": "7435b61d",
   "metadata": {},
   "outputs": [],
   "source": [
    "s10_acc_sit_chest = pd.read_csv ('/Users/user/Desktop/realworld2016_dataset/proband10/data/acc_sitting_csv/acc_sitting_chest.csv')\n",
    "s10_acc_sit_forearm = pd.read_csv ('/Users/user/Desktop/realworld2016_dataset/proband10/data/acc_sitting_csv/acc_sitting_forearm.csv')\n",
    "s10_acc_sit_head = pd.read_csv ('/Users/user/Desktop/realworld2016_dataset/proband10/data/acc_sitting_csv/acc_sitting_head.csv')\n",
    "s10_acc_sit_shin = pd.read_csv ('/Users/user/Desktop/realworld2016_dataset/proband10/data/acc_sitting_csv/acc_sitting_shin.csv')\n",
    "s10_acc_sit_thigh = pd.read_csv ('/Users/user/Desktop/realworld2016_dataset/proband10/data/acc_sitting_csv/acc_sitting_thigh.csv')\n",
    "s10_acc_sit_upperarm = pd.read_csv ('/Users/user/Desktop/realworld2016_dataset/proband10/data/acc_sitting_csv/acc_sitting_upperarm.csv')\n",
    "s10_acc_sit_waist = pd.read_csv ('/Users/user/Desktop/realworld2016_dataset/proband10/data/acc_sitting_csv/acc_sitting_waist.csv')"
   ]
  },
  {
   "cell_type": "code",
   "execution_count": 247,
   "id": "7700857c",
   "metadata": {},
   "outputs": [],
   "source": [
    "#accelearation standing for user 10"
   ]
  },
  {
   "cell_type": "code",
   "execution_count": 248,
   "id": "601d6bb8",
   "metadata": {},
   "outputs": [],
   "source": [
    "s10_acc_std_chest = pd.read_csv ('/Users/user/Desktop/realworld2016_dataset/proband10/data/acc_standing_csv/acc_standing_chest.csv')\n",
    "s10_acc_std_forearm = pd.read_csv ('/Users/user/Desktop/realworld2016_dataset/proband10/data/acc_standing_csv/acc_standing_forearm.csv')\n",
    "s10_acc_std_head = pd.read_csv ('/Users/user/Desktop/realworld2016_dataset/proband10/data/acc_standing_csv/acc_standing_head.csv')\n",
    "s10_acc_std_shin = pd.read_csv ('/Users/user/Desktop/realworld2016_dataset/proband10/data/acc_standing_csv/acc_standing_shin.csv')\n",
    "s10_acc_std_thigh = pd.read_csv ('/Users/user/Desktop/realworld2016_dataset/proband10/data/acc_standing_csv/acc_standing_thigh.csv')\n",
    "s10_acc_std_upperarm = pd.read_csv ('/Users/user/Desktop/realworld2016_dataset/proband10/data/acc_standing_csv/acc_standing_upperarm.csv')\n",
    "s10_acc_std_waist = pd.read_csv ('/Users/user/Desktop/realworld2016_dataset/proband10/data/acc_standing_csv/acc_standing_waist.csv')\n"
   ]
  },
  {
   "cell_type": "code",
   "execution_count": 249,
   "id": "118ee8ef",
   "metadata": {},
   "outputs": [],
   "source": [
    "#accelearation walking for user 10"
   ]
  },
  {
   "cell_type": "code",
   "execution_count": 250,
   "id": "0f89d6d5",
   "metadata": {},
   "outputs": [],
   "source": [
    "s10_acc_wal_chest = pd.read_csv ('/Users/user/Desktop/realworld2016_dataset/proband10/data/acc_walking_csv/acc_walking_chest.csv')\n",
    "s10_acc_wal_forearm = pd.read_csv ('/Users/user/Desktop/realworld2016_dataset/proband10/data/acc_walking_csv/acc_walking_forearm.csv')\n",
    "s10_acc_wal_head = pd.read_csv ('/Users/user/Desktop/realworld2016_dataset/proband10/data/acc_walking_csv/acc_walking_head.csv')\n",
    "s10_acc_wal_shin = pd.read_csv ('/Users/user/Desktop/realworld2016_dataset/proband10/data/acc_walking_csv/acc_walking_shin.csv')\n",
    "s10_acc_wal_thigh = pd.read_csv ('/Users/user/Desktop/realworld2016_dataset/proband10/data/acc_walking_csv/acc_walking_thigh.csv')\n",
    "s10_acc_wal_upperarm = pd.read_csv ('/Users/user/Desktop/realworld2016_dataset/proband10/data/acc_walking_csv/acc_walking_upperarm.csv')\n",
    "s10_acc_wal_waist = pd.read_csv ('/Users/user/Desktop/realworld2016_dataset/proband10/data/acc_walking_csv/acc_walking_waist.csv')"
   ]
  },
  {
   "cell_type": "code",
   "execution_count": 251,
   "id": "c841a22c",
   "metadata": {},
   "outputs": [],
   "source": [
    "s10_acc_cldn_chest.drop(['id', 'attr_time'], axis='columns', inplace=True)\n",
    "s10_acc_cldn_forearm.drop(['id', 'attr_time'], axis='columns', inplace=True)\n",
    "s10_acc_cldn_head.drop(['id', 'attr_time'], axis='columns', inplace=True)\n",
    "s10_acc_cldn_shin.drop(['id', 'attr_time'], axis='columns', inplace=True)\n",
    "s10_acc_cldn_thigh.drop(['id', 'attr_time'], axis='columns', inplace=True)\n",
    "s10_acc_cldn_upperarm.drop(['id', 'attr_time'], axis='columns', inplace=True)\n",
    "s10_acc_cldn_waist.drop(['id', 'attr_time'], axis='columns', inplace=True)"
   ]
  },
  {
   "cell_type": "code",
   "execution_count": 252,
   "id": "dcd7eaf8",
   "metadata": {},
   "outputs": [],
   "source": [
    "s10_acc_clup_chest.drop(['id', 'attr_time'], axis='columns', inplace=True)\n",
    "s10_acc_clup_forearm.drop(['id', 'attr_time'], axis='columns', inplace=True)\n",
    "s10_acc_clup_head.drop(['id', 'attr_time'], axis='columns', inplace=True)\n",
    "s10_acc_clup_shin.drop(['id', 'attr_time'], axis='columns', inplace=True)\n",
    "s10_acc_clup_thigh.drop(['id', 'attr_time'], axis='columns', inplace=True)\n",
    "s10_acc_clup_upperarm.drop(['id', 'attr_time'], axis='columns', inplace=True)\n",
    "s10_acc_clup_waist.drop(['id', 'attr_time'], axis='columns', inplace=True)\n"
   ]
  },
  {
   "cell_type": "code",
   "execution_count": 253,
   "id": "ca3d8b17",
   "metadata": {},
   "outputs": [],
   "source": [
    "s10_acc_jump_chest.drop(['id', 'attr_time'], axis='columns', inplace=True)\n",
    "s10_acc_jump_forearm.drop(['id', 'attr_time'], axis='columns', inplace=True)\n",
    "s10_acc_jump_head.drop(['id', 'attr_time'], axis='columns', inplace=True)\n",
    "s10_acc_jump_shin.drop(['id', 'attr_time'], axis='columns', inplace=True)\n",
    "s10_acc_jump_thigh.drop(['id', 'attr_time'], axis='columns', inplace=True)\n",
    "s10_acc_jump_upperarm.drop(['id', 'attr_time'], axis='columns', inplace=True)\n",
    "s10_acc_jump_waist.drop(['id', 'attr_time'], axis='columns', inplace=True)\n"
   ]
  },
  {
   "cell_type": "code",
   "execution_count": 254,
   "id": "a53da100",
   "metadata": {},
   "outputs": [],
   "source": [
    "s10_acc_ly_chest.drop(['id', 'attr_time'], axis='columns', inplace=True)\n",
    "s10_acc_ly_forearm.drop(['id', 'attr_time'], axis='columns', inplace=True)\n",
    "s10_acc_ly_head.drop(['id', 'attr_time'], axis='columns', inplace=True)\n",
    "s10_acc_ly_shin.drop(['id', 'attr_time'], axis='columns', inplace=True)\n",
    "s10_acc_ly_thigh.drop(['id', 'attr_time'], axis='columns', inplace=True)\n",
    "s10_acc_ly_upperarm.drop(['id', 'attr_time'], axis='columns', inplace=True)\n",
    "s10_acc_ly_waist.drop(['id', 'attr_time'], axis='columns', inplace=True)"
   ]
  },
  {
   "cell_type": "code",
   "execution_count": 255,
   "id": "94bc0fd0",
   "metadata": {},
   "outputs": [],
   "source": [
    "s10_acc_run_chest.drop(['id', 'attr_time'], axis='columns', inplace=True)\n",
    "s10_acc_run_forearm.drop(['id', 'attr_time'], axis='columns', inplace=True)\n",
    "s10_acc_run_head.drop(['id', 'attr_time'], axis='columns', inplace=True)\n",
    "s10_acc_run_shin.drop(['id', 'attr_time'], axis='columns', inplace=True)\n",
    "s10_acc_run_thigh.drop(['id', 'attr_time'], axis='columns', inplace=True)\n",
    "s10_acc_run_upperarm.drop(['id', 'attr_time'], axis='columns', inplace=True)\n",
    "s10_acc_run_waist.drop(['id', 'attr_time'], axis='columns', inplace=True)\n"
   ]
  },
  {
   "cell_type": "code",
   "execution_count": 256,
   "id": "8700e73e",
   "metadata": {},
   "outputs": [],
   "source": [
    "s10_acc_sit_chest.drop(['id', 'attr_time'], axis='columns', inplace=True)\n",
    "s10_acc_sit_forearm.drop(['id', 'attr_time'], axis='columns', inplace=True)\n",
    "s10_acc_sit_head.drop(['id', 'attr_time'], axis='columns', inplace=True)\n",
    "s10_acc_sit_shin.drop(['id', 'attr_time'], axis='columns', inplace=True)\n",
    "s10_acc_sit_thigh.drop(['id', 'attr_time'], axis='columns', inplace=True)\n",
    "s10_acc_sit_upperarm.drop(['id', 'attr_time'], axis='columns', inplace=True)\n",
    "s10_acc_sit_waist.drop(['id', 'attr_time'], axis='columns', inplace=True)\n"
   ]
  },
  {
   "cell_type": "code",
   "execution_count": 257,
   "id": "4f6509cf",
   "metadata": {},
   "outputs": [],
   "source": [
    "s10_acc_std_chest.drop(['id', 'attr_time'], axis='columns', inplace=True)\n",
    "s10_acc_std_forearm.drop(['id', 'attr_time'], axis='columns', inplace=True)\n",
    "s10_acc_std_head.drop(['id', 'attr_time'], axis='columns', inplace=True)\n",
    "s10_acc_std_shin.drop(['id', 'attr_time'], axis='columns', inplace=True)\n",
    "s10_acc_std_thigh.drop(['id', 'attr_time'], axis='columns', inplace=True)\n",
    "s10_acc_std_upperarm.drop(['id', 'attr_time'], axis='columns', inplace=True)\n",
    "s10_acc_std_waist.drop(['id', 'attr_time'], axis='columns', inplace=True)\n"
   ]
  },
  {
   "cell_type": "code",
   "execution_count": 258,
   "id": "af669764",
   "metadata": {},
   "outputs": [],
   "source": [
    "s10_acc_wal_chest.drop(['id', 'attr_time'], axis='columns', inplace=True)\n",
    "s10_acc_wal_forearm.drop(['id', 'attr_time'], axis='columns', inplace=True)\n",
    "s10_acc_wal_head.drop(['id', 'attr_time'], axis='columns', inplace=True)\n",
    "s10_acc_wal_shin.drop(['id', 'attr_time'], axis='columns', inplace=True)\n",
    "s10_acc_wal_thigh.drop(['id', 'attr_time'], axis='columns', inplace=True)\n",
    "s10_acc_wal_upperarm.drop(['id', 'attr_time'], axis='columns', inplace=True)\n",
    "s10_acc_wal_waist.drop(['id', 'attr_time'], axis='columns', inplace=True)"
   ]
  },
  {
   "cell_type": "code",
   "execution_count": 259,
   "id": "95c65f91",
   "metadata": {},
   "outputs": [],
   "source": [
    "#acceleration climbing down for user 11"
   ]
  },
  {
   "cell_type": "code",
   "execution_count": 260,
   "id": "a6d86390",
   "metadata": {},
   "outputs": [],
   "source": [
    "s11_acc_cldn_chest = pd.read_csv ('/Users/user/Desktop/realworld2016_dataset/proband11/data/acc_climbingdown_csv/acc_climbingdown_chest.csv')\n",
    "s11_acc_cldn_forearm = pd.read_csv ('/Users/user/Desktop/realworld2016_dataset/proband11/data/acc_climbingdown_csv/acc_climbingdown_forearm.csv')\n",
    "s11_acc_cldn_head = pd.read_csv ('/Users/user/Desktop/realworld2016_dataset/proband11/data/acc_climbingdown_csv/acc_climbingdown_head.csv')\n",
    "s11_acc_cldn_shin = pd.read_csv ('/Users/user/Desktop/realworld2016_dataset/proband11/data/acc_climbingdown_csv/acc_climbingdown_shin.csv')\n",
    "s11_acc_cldn_thigh = pd.read_csv ('/Users/user/Desktop/realworld2016_dataset/proband11/data/acc_climbingdown_csv/acc_climbingdown_thigh.csv')\n",
    "s11_acc_cldn_upperarm = pd.read_csv ('/Users/user/Desktop/realworld2016_dataset/proband11/data/acc_climbingdown_csv/acc_climbingdown_upperarm.csv')\n",
    "s11_acc_cldn_waist = pd.read_csv ('/Users/user/Desktop/realworld2016_dataset/proband11/data/acc_climbingdown_csv/acc_climbingdown_waist.csv')\n"
   ]
  },
  {
   "cell_type": "code",
   "execution_count": 261,
   "id": "06ee6985",
   "metadata": {},
   "outputs": [],
   "source": [
    "#acceleration climbing up for user 11"
   ]
  },
  {
   "cell_type": "code",
   "execution_count": 262,
   "id": "9d3f7c51",
   "metadata": {},
   "outputs": [],
   "source": [
    "s11_acc_clup_chest = pd.read_csv ('/Users/user/Desktop/realworld2016_dataset/proband11/data/acc_climbingup_csv/acc_climbingup_chest.csv')\n",
    "s11_acc_clup_forearm = pd.read_csv ('/Users/user/Desktop/realworld2016_dataset/proband11/data/acc_climbingup_csv/acc_climbingup_forearm.csv')\n",
    "s11_acc_clup_head = pd.read_csv ('/Users/user/Desktop/realworld2016_dataset/proband11/data/acc_climbingup_csv/acc_climbingup_head.csv')\n",
    "s11_acc_clup_shin = pd.read_csv ('/Users/user/Desktop/realworld2016_dataset/proband11/data/acc_climbingup_csv/acc_climbingup_shin.csv')\n",
    "s11_acc_clup_thigh = pd.read_csv ('/Users/user/Desktop/realworld2016_dataset/proband11/data/acc_climbingup_csv/acc_climbingup_thigh.csv')\n",
    "s11_acc_clup_upperarm = pd.read_csv ('/Users/user/Desktop/realworld2016_dataset/proband11/data/acc_climbingup_csv/acc_climbingup_upperarm.csv')\n",
    "s11_acc_clup_waist = pd.read_csv ('/Users/user/Desktop/realworld2016_dataset/proband11/data/acc_climbingup_csv/acc_climbingup_waist.csv')\n"
   ]
  },
  {
   "cell_type": "code",
   "execution_count": 263,
   "id": "ecaa3586",
   "metadata": {},
   "outputs": [],
   "source": [
    "#acceleration jumping up for user 11"
   ]
  },
  {
   "cell_type": "code",
   "execution_count": 264,
   "id": "2d6462d4",
   "metadata": {},
   "outputs": [],
   "source": [
    "s11_acc_jump_chest = pd.read_csv ('/Users/user/Desktop/realworld2016_dataset/proband11/data/acc_jumping_csv/acc_jumping_chest.csv')\n",
    "s11_acc_jump_forearm = pd.read_csv ('/Users/user/Desktop/realworld2016_dataset/proband11/data/acc_jumping_csv/acc_jumping_forearm.csv')\n",
    "s11_acc_jump_head = pd.read_csv ('/Users/user/Desktop/realworld2016_dataset/proband11/data/acc_jumping_csv/acc_jumping_head.csv')\n",
    "s11_acc_jump_shin = pd.read_csv ('/Users/user/Desktop/realworld2016_dataset/proband11/data/acc_jumping_csv/acc_jumping_shin.csv')\n",
    "s11_acc_jump_thigh = pd.read_csv ('/Users/user/Desktop/realworld2016_dataset/proband11/data/acc_jumping_csv/acc_jumping_thigh.csv')\n",
    "s11_acc_jump_upperarm = pd.read_csv ('/Users/user/Desktop/realworld2016_dataset/proband11/data/acc_jumping_csv/acc_jumping_upperarm.csv')\n",
    "s11_acc_jump_waist = pd.read_csv ('/Users/user/Desktop/realworld2016_dataset/proband11/data/acc_jumping_csv/acc_jumping_waist.csv')"
   ]
  },
  {
   "cell_type": "code",
   "execution_count": 265,
   "id": "7d95c2df",
   "metadata": {},
   "outputs": [],
   "source": [
    "#acceleration lying up for user 11"
   ]
  },
  {
   "cell_type": "code",
   "execution_count": 266,
   "id": "ce70629c",
   "metadata": {},
   "outputs": [],
   "source": [
    "s11_acc_ly_chest = pd.read_csv ('/Users/user/Desktop/realworld2016_dataset/proband11/data/acc_lying_csv/acc_lying_chest.csv')\n",
    "s11_acc_ly_forearm = pd.read_csv ('/Users/user/Desktop/realworld2016_dataset/proband11/data/acc_lying_csv/acc_lying_forearm.csv')\n",
    "s11_acc_ly_head = pd.read_csv ('/Users/user/Desktop/realworld2016_dataset/proband11/data/acc_lying_csv/acc_lying_head.csv')\n",
    "s11_acc_ly_shin = pd.read_csv ('/Users/user/Desktop/realworld2016_dataset/proband11/data/acc_lying_csv/acc_lying_shin.csv')\n",
    "s11_acc_ly_thigh = pd.read_csv ('/Users/user/Desktop/realworld2016_dataset/proband11/data/acc_lying_csv/acc_lying_thigh.csv')\n",
    "s11_acc_ly_upperarm = pd.read_csv ('/Users/user/Desktop/realworld2016_dataset/proband11/data/acc_lying_csv/acc_lying_upperarm.csv')\n",
    "s11_acc_ly_waist = pd.read_csv ('/Users/user/Desktop/realworld2016_dataset/proband11/data/acc_lying_csv/acc_lying_waist.csv')\n"
   ]
  },
  {
   "cell_type": "code",
   "execution_count": 267,
   "id": "0a13ba0a",
   "metadata": {},
   "outputs": [],
   "source": [
    "#acceleration running up for user 11"
   ]
  },
  {
   "cell_type": "code",
   "execution_count": 268,
   "id": "2393fc6c",
   "metadata": {},
   "outputs": [],
   "source": [
    "s11_acc_run_chest = pd.read_csv ('/Users/user/Desktop/realworld2016_dataset/proband11/data/acc_running_csv/acc_running_chest.csv')\n",
    "s11_acc_run_forearm = pd.read_csv ('/Users/user/Desktop/realworld2016_dataset/proband11/data/acc_running_csv/acc_running_forearm.csv')\n",
    "s11_acc_run_head = pd.read_csv ('/Users/user/Desktop/realworld2016_dataset/proband11/data/acc_running_csv/acc_running_head.csv')\n",
    "s11_acc_run_shin = pd.read_csv ('/Users/user/Desktop/realworld2016_dataset/proband11/data/acc_running_csv/acc_running_shin.csv')\n",
    "s11_acc_run_thigh = pd.read_csv ('/Users/user/Desktop/realworld2016_dataset/proband11/data/acc_running_csv/acc_running_thigh.csv')\n",
    "s11_acc_run_upperarm = pd.read_csv ('/Users/user/Desktop/realworld2016_dataset/proband11/data/acc_running_csv/acc_running_upperarm.csv')\n",
    "s11_acc_run_waist = pd.read_csv ('/Users/user/Desktop/realworld2016_dataset/proband11/data/acc_running_csv/acc_running_waist.csv')"
   ]
  },
  {
   "cell_type": "code",
   "execution_count": 269,
   "id": "a7ee9714",
   "metadata": {},
   "outputs": [],
   "source": [
    "#acceleration sitting up for user 11"
   ]
  },
  {
   "cell_type": "code",
   "execution_count": 270,
   "id": "8d1c921a",
   "metadata": {},
   "outputs": [],
   "source": [
    "s11_acc_sit_chest = pd.read_csv ('/Users/user/Desktop/realworld2016_dataset/proband11/data/acc_sitting_csv/acc_sitting_chest.csv')\n",
    "s11_acc_sit_forearm = pd.read_csv ('/Users/user/Desktop/realworld2016_dataset/proband11/data/acc_sitting_csv/acc_sitting_forearm.csv')\n",
    "s11_acc_sit_head = pd.read_csv ('/Users/user/Desktop/realworld2016_dataset/proband11/data/acc_sitting_csv/acc_sitting_head.csv')\n",
    "s11_acc_sit_shin = pd.read_csv ('/Users/user/Desktop/realworld2016_dataset/proband11/data/acc_sitting_csv/acc_sitting_shin.csv')\n",
    "s11_acc_sit_thigh = pd.read_csv ('/Users/user/Desktop/realworld2016_dataset/proband11/data/acc_sitting_csv/acc_sitting_thigh.csv')\n",
    "s11_acc_sit_upperarm = pd.read_csv ('/Users/user/Desktop/realworld2016_dataset/proband11/data/acc_sitting_csv/acc_sitting_upperarm.csv')\n",
    "s11_acc_sit_waist = pd.read_csv ('/Users/user/Desktop/realworld2016_dataset/proband11/data/acc_sitting_csv/acc_sitting_waist.csv')"
   ]
  },
  {
   "cell_type": "code",
   "execution_count": 271,
   "id": "470b487c",
   "metadata": {},
   "outputs": [],
   "source": [
    "#acceleration standing up for user 11"
   ]
  },
  {
   "cell_type": "code",
   "execution_count": 272,
   "id": "55cb1ed1",
   "metadata": {},
   "outputs": [],
   "source": [
    "s11_acc_std_chest = pd.read_csv ('/Users/user/Desktop/realworld2016_dataset/proband11/data/acc_standing_csv/acc_standing_chest.csv')\n",
    "s11_acc_std_forearm = pd.read_csv ('/Users/user/Desktop/realworld2016_dataset/proband11/data/acc_standing_csv/acc_standing_forearm.csv')\n",
    "s11_acc_std_head = pd.read_csv ('/Users/user/Desktop/realworld2016_dataset/proband11/data/acc_standing_csv/acc_standing_head.csv')\n",
    "s11_acc_std_shin = pd.read_csv ('/Users/user/Desktop/realworld2016_dataset/proband11/data/acc_standing_csv/acc_standing_shin.csv')\n",
    "s11_acc_std_thigh = pd.read_csv ('/Users/user/Desktop/realworld2016_dataset/proband11/data/acc_standing_csv/acc_standing_thigh.csv')\n",
    "s11_acc_std_upperarm = pd.read_csv ('/Users/user/Desktop/realworld2016_dataset/proband11/data/acc_standing_csv/acc_standing_upperarm.csv')\n",
    "s11_acc_std_waist = pd.read_csv ('/Users/user/Desktop/realworld2016_dataset/proband11/data/acc_standing_csv/acc_standing_waist.csv')\n"
   ]
  },
  {
   "cell_type": "code",
   "execution_count": 273,
   "id": "91ad0d0c",
   "metadata": {},
   "outputs": [],
   "source": [
    "#acceleration walking up for user 11"
   ]
  },
  {
   "cell_type": "code",
   "execution_count": 274,
   "id": "2b8c523e",
   "metadata": {},
   "outputs": [],
   "source": [
    "s11_acc_wal_chest = pd.read_csv ('/Users/user/Desktop/realworld2016_dataset/proband11/data/acc_walking_csv/acc_walking_chest.csv')\n",
    "s11_acc_wal_forearm = pd.read_csv ('/Users/user/Desktop/realworld2016_dataset/proband11/data/acc_walking_csv/acc_walking_forearm.csv')\n",
    "s11_acc_wal_head = pd.read_csv ('/Users/user/Desktop/realworld2016_dataset/proband11/data/acc_walking_csv/acc_walking_head.csv')\n",
    "s11_acc_wal_shin = pd.read_csv ('/Users/user/Desktop/realworld2016_dataset/proband11/data/acc_walking_csv/acc_walking_shin.csv')\n",
    "s11_acc_wal_thigh = pd.read_csv ('/Users/user/Desktop/realworld2016_dataset/proband11/data/acc_walking_csv/acc_walking_thigh.csv')\n",
    "s11_acc_wal_upperarm = pd.read_csv ('/Users/user/Desktop/realworld2016_dataset/proband11/data/acc_walking_csv/acc_walking_upperarm.csv')\n",
    "s11_acc_wal_waist = pd.read_csv ('/Users/user/Desktop/realworld2016_dataset/proband11/data/acc_walking_csv/acc_walking_waist.csv')\n"
   ]
  },
  {
   "cell_type": "code",
   "execution_count": 275,
   "id": "92315dce",
   "metadata": {},
   "outputs": [],
   "source": [
    "s11_acc_cldn_chest.drop(['id', 'attr_time'], axis='columns', inplace=True)\n",
    "s11_acc_cldn_forearm.drop(['id', 'attr_time'], axis='columns', inplace=True)\n",
    "s11_acc_cldn_head.drop(['id', 'attr_time'], axis='columns', inplace=True)\n",
    "s11_acc_cldn_shin.drop(['id', 'attr_time'], axis='columns', inplace=True)\n",
    "s11_acc_cldn_thigh.drop(['id', 'attr_time'], axis='columns', inplace=True)\n",
    "s11_acc_cldn_upperarm.drop(['id', 'attr_time'], axis='columns', inplace=True)\n",
    "s11_acc_cldn_waist.drop(['id', 'attr_time'], axis='columns', inplace=True)"
   ]
  },
  {
   "cell_type": "code",
   "execution_count": 276,
   "id": "d5dd130b",
   "metadata": {},
   "outputs": [],
   "source": [
    "s11_acc_clup_chest.drop(['id', 'attr_time'], axis='columns', inplace=True)\n",
    "s11_acc_clup_forearm.drop(['id', 'attr_time'], axis='columns', inplace=True)\n",
    "s11_acc_clup_head.drop(['id', 'attr_time'], axis='columns', inplace=True)\n",
    "s11_acc_clup_shin.drop(['id', 'attr_time'], axis='columns', inplace=True)\n",
    "s11_acc_clup_thigh.drop(['id', 'attr_time'], axis='columns', inplace=True)\n",
    "s11_acc_clup_upperarm.drop(['id', 'attr_time'], axis='columns', inplace=True)\n",
    "s11_acc_clup_waist.drop(['id', 'attr_time'], axis='columns', inplace=True)"
   ]
  },
  {
   "cell_type": "code",
   "execution_count": 277,
   "id": "9bd57649",
   "metadata": {},
   "outputs": [],
   "source": [
    "s11_acc_jump_chest.drop(['id', 'attr_time'], axis='columns', inplace=True)\n",
    "s11_acc_jump_forearm.drop(['id', 'attr_time'], axis='columns', inplace=True)\n",
    "s11_acc_jump_head.drop(['id', 'attr_time'], axis='columns', inplace=True)\n",
    "s11_acc_jump_shin.drop(['id', 'attr_time'], axis='columns', inplace=True)\n",
    "s11_acc_jump_thigh.drop(['id', 'attr_time'], axis='columns', inplace=True)\n",
    "s11_acc_jump_upperarm.drop(['id', 'attr_time'], axis='columns', inplace=True)\n",
    "s11_acc_jump_waist.drop(['id', 'attr_time'], axis='columns', inplace=True)"
   ]
  },
  {
   "cell_type": "code",
   "execution_count": 278,
   "id": "cd78ba72",
   "metadata": {},
   "outputs": [],
   "source": [
    "s11_acc_ly_chest.drop(['id', 'attr_time'], axis='columns', inplace=True)\n",
    "s11_acc_ly_forearm.drop(['id', 'attr_time'], axis='columns', inplace=True)\n",
    "s11_acc_ly_head.drop(['id', 'attr_time'], axis='columns', inplace=True)\n",
    "s11_acc_ly_shin.drop(['id', 'attr_time'], axis='columns', inplace=True)\n",
    "s11_acc_ly_thigh.drop(['id', 'attr_time'], axis='columns', inplace=True)\n",
    "s11_acc_ly_upperarm.drop(['id', 'attr_time'], axis='columns', inplace=True)\n",
    "s11_acc_ly_waist.drop(['id', 'attr_time'], axis='columns', inplace=True)\n"
   ]
  },
  {
   "cell_type": "code",
   "execution_count": 279,
   "id": "6d989b6f",
   "metadata": {},
   "outputs": [],
   "source": [
    "s11_acc_run_chest.drop(['id', 'attr_time'], axis='columns', inplace=True)\n",
    "s11_acc_run_forearm.drop(['id', 'attr_time'], axis='columns', inplace=True)\n",
    "s11_acc_run_head.drop(['id', 'attr_time'], axis='columns', inplace=True)\n",
    "s11_acc_run_shin.drop(['id', 'attr_time'], axis='columns', inplace=True)\n",
    "s11_acc_run_thigh.drop(['id', 'attr_time'], axis='columns', inplace=True)\n",
    "s11_acc_run_upperarm.drop(['id', 'attr_time'], axis='columns', inplace=True)\n",
    "s11_acc_run_waist.drop(['id', 'attr_time'], axis='columns', inplace=True)\n"
   ]
  },
  {
   "cell_type": "code",
   "execution_count": 280,
   "id": "eb0047fc",
   "metadata": {},
   "outputs": [],
   "source": [
    "s11_acc_sit_chest.drop(['id', 'attr_time'], axis='columns', inplace=True)\n",
    "s11_acc_sit_forearm.drop(['id', 'attr_time'], axis='columns', inplace=True)\n",
    "s11_acc_sit_head.drop(['id', 'attr_time'], axis='columns', inplace=True)\n",
    "s11_acc_sit_shin.drop(['id', 'attr_time'], axis='columns', inplace=True)\n",
    "s11_acc_sit_thigh.drop(['id', 'attr_time'], axis='columns', inplace=True)\n",
    "s11_acc_sit_upperarm.drop(['id', 'attr_time'], axis='columns', inplace=True)\n",
    "s11_acc_sit_waist.drop(['id', 'attr_time'], axis='columns', inplace=True)"
   ]
  },
  {
   "cell_type": "code",
   "execution_count": 281,
   "id": "cfe9269d",
   "metadata": {},
   "outputs": [],
   "source": [
    "s11_acc_std_chest.drop(['id', 'attr_time'], axis='columns', inplace=True)\n",
    "s11_acc_std_forearm.drop(['id', 'attr_time'], axis='columns', inplace=True)\n",
    "s11_acc_std_head.drop(['id', 'attr_time'], axis='columns', inplace=True)\n",
    "s11_acc_std_shin.drop(['id', 'attr_time'], axis='columns', inplace=True)\n",
    "s11_acc_std_thigh.drop(['id', 'attr_time'], axis='columns', inplace=True)\n",
    "s11_acc_std_upperarm.drop(['id', 'attr_time'], axis='columns', inplace=True)\n",
    "s11_acc_std_waist.drop(['id', 'attr_time'], axis='columns', inplace=True)"
   ]
  },
  {
   "cell_type": "code",
   "execution_count": 282,
   "id": "14690c07",
   "metadata": {},
   "outputs": [],
   "source": [
    "s11_acc_wal_chest.drop(['id', 'attr_time'], axis='columns', inplace=True)\n",
    "s11_acc_wal_forearm.drop(['id', 'attr_time'], axis='columns', inplace=True)\n",
    "s11_acc_wal_head.drop(['id', 'attr_time'], axis='columns', inplace=True)\n",
    "s11_acc_wal_shin.drop(['id', 'attr_time'], axis='columns', inplace=True)\n",
    "s11_acc_wal_thigh.drop(['id', 'attr_time'], axis='columns', inplace=True)\n",
    "s11_acc_wal_upperarm.drop(['id', 'attr_time'], axis='columns', inplace=True)\n",
    "s11_acc_wal_waist.drop(['id', 'attr_time'], axis='columns', inplace=True)"
   ]
  },
  {
   "cell_type": "code",
   "execution_count": 283,
   "id": "ba580116",
   "metadata": {},
   "outputs": [],
   "source": [
    "#acceleration climbing down for user 12"
   ]
  },
  {
   "cell_type": "code",
   "execution_count": 284,
   "id": "c4b768d0",
   "metadata": {},
   "outputs": [],
   "source": [
    "s12_acc_cldn_chest = pd.read_csv ('/Users/user/Desktop/realworld2016_dataset/proband12/data/acc_climbingdown_csv/acc_climbingdown_chest.csv')\n",
    "s12_acc_cldn_forearm = pd.read_csv ('/Users/user/Desktop/realworld2016_dataset/proband12/data/acc_climbingdown_csv/acc_climbingdown_forearm.csv')\n",
    "s12_acc_cldn_head = pd.read_csv ('/Users/user/Desktop/realworld2016_dataset/proband12/data/acc_climbingdown_csv/acc_climbingdown_head.csv')\n",
    "s12_acc_cldn_shin = pd.read_csv ('/Users/user/Desktop/realworld2016_dataset/proband12/data/acc_climbingdown_csv/acc_climbingdown_shin.csv')\n",
    "s12_acc_cldn_thigh = pd.read_csv ('/Users/user/Desktop/realworld2016_dataset/proband12/data/acc_climbingdown_csv/acc_climbingdown_thigh.csv')\n",
    "s12_acc_cldn_upperarm = pd.read_csv ('/Users/user/Desktop/realworld2016_dataset/proband12/data/acc_climbingdown_csv/acc_climbingdown_upperarm.csv')\n",
    "s12_acc_cldn_waist = pd.read_csv ('/Users/user/Desktop/realworld2016_dataset/proband12/data/acc_climbingdown_csv/acc_climbingdown_waist.csv')"
   ]
  },
  {
   "cell_type": "code",
   "execution_count": 285,
   "id": "e4e910aa",
   "metadata": {},
   "outputs": [],
   "source": [
    "#acceleration climbing up for user 12"
   ]
  },
  {
   "cell_type": "code",
   "execution_count": 286,
   "id": "ea51010a",
   "metadata": {},
   "outputs": [],
   "source": [
    "s12_acc_clup_chest = pd.read_csv ('/Users/user/Desktop/realworld2016_dataset/proband12/data/acc_climbingup_csv/acc_climbingup_chest.csv')\n",
    "s12_acc_clup_forearm = pd.read_csv ('/Users/user/Desktop/realworld2016_dataset/proband12/data/acc_climbingup_csv/acc_climbingup_forearm.csv')\n",
    "s12_acc_clup_head = pd.read_csv ('/Users/user/Desktop/realworld2016_dataset/proband12/data/acc_climbingup_csv/acc_climbingup_head.csv')\n",
    "s12_acc_clup_shin = pd.read_csv ('/Users/user/Desktop/realworld2016_dataset/proband12/data/acc_climbingup_csv/acc_climbingup_shin.csv')\n",
    "s12_acc_clup_thigh = pd.read_csv ('/Users/user/Desktop/realworld2016_dataset/proband12/data/acc_climbingup_csv/acc_climbingup_thigh.csv')\n",
    "s12_acc_clup_upperarm = pd.read_csv ('/Users/user/Desktop/realworld2016_dataset/proband12/data/acc_climbingup_csv/acc_climbingup_upperarm.csv')\n",
    "s12_acc_clup_waist = pd.read_csv ('/Users/user/Desktop/realworld2016_dataset/proband12/data/acc_climbingup_csv/acc_climbingup_waist.csv')\n"
   ]
  },
  {
   "cell_type": "code",
   "execution_count": 287,
   "id": "a7f6341b",
   "metadata": {},
   "outputs": [],
   "source": [
    "#acceleration  jumping for user 12"
   ]
  },
  {
   "cell_type": "code",
   "execution_count": 288,
   "id": "b3c559fd",
   "metadata": {},
   "outputs": [],
   "source": [
    "s12_acc_jump_chest = pd.read_csv ('/Users/user/Desktop/realworld2016_dataset/proband12/data/acc_jumping_csv/acc_jumping_chest.csv')\n",
    "s12_acc_jump_forearm = pd.read_csv ('/Users/user/Desktop/realworld2016_dataset/proband12/data/acc_jumping_csv/acc_jumping_forearm.csv')\n",
    "s12_acc_jump_head = pd.read_csv ('/Users/user/Desktop/realworld2016_dataset/proband12/data/acc_jumping_csv/acc_jumping_head.csv')\n",
    "s12_acc_jump_shin = pd.read_csv ('/Users/user/Desktop/realworld2016_dataset/proband12/data/acc_jumping_csv/acc_jumping_shin.csv')\n",
    "s12_acc_jump_thigh = pd.read_csv ('/Users/user/Desktop/realworld2016_dataset/proband12/data/acc_jumping_csv/acc_jumping_thigh.csv')\n",
    "s12_acc_jump_upperarm = pd.read_csv ('/Users/user/Desktop/realworld2016_dataset/proband12/data/acc_jumping_csv/acc_jumping_upperarm.csv')\n",
    "s12_acc_jump_waist = pd.read_csv ('/Users/user/Desktop/realworld2016_dataset/proband12/data/acc_jumping_csv/acc_jumping_waist.csv')\n"
   ]
  },
  {
   "cell_type": "code",
   "execution_count": 289,
   "id": "edee16c0",
   "metadata": {},
   "outputs": [],
   "source": [
    "#acceleration lying for user 12"
   ]
  },
  {
   "cell_type": "code",
   "execution_count": 290,
   "id": "04e5b958",
   "metadata": {},
   "outputs": [],
   "source": [
    "s12_acc_ly_chest = pd.read_csv ('/Users/user/Desktop/realworld2016_dataset/proband12/data/acc_lying_csv/acc_lying_chest.csv')\n",
    "s12_acc_ly_forearm = pd.read_csv ('/Users/user/Desktop/realworld2016_dataset/proband12/data/acc_lying_csv/acc_lying_forearm.csv')\n",
    "s12_acc_ly_head = pd.read_csv ('/Users/user/Desktop/realworld2016_dataset/proband12/data/acc_lying_csv/acc_lying_head.csv')\n",
    "s12_acc_ly_shin = pd.read_csv ('/Users/user/Desktop/realworld2016_dataset/proband12/data/acc_lying_csv/acc_lying_shin.csv')\n",
    "s12_acc_ly_thigh = pd.read_csv ('/Users/user/Desktop/realworld2016_dataset/proband12/data/acc_lying_csv/acc_lying_thigh.csv')\n",
    "s12_acc_ly_upperarm = pd.read_csv ('/Users/user/Desktop/realworld2016_dataset/proband12/data/acc_lying_csv/acc_lying_upperarm.csv')\n",
    "s12_acc_ly_waist = pd.read_csv ('/Users/user/Desktop/realworld2016_dataset/proband12/data/acc_lying_csv/acc_lying_waist.csv')"
   ]
  },
  {
   "cell_type": "code",
   "execution_count": 291,
   "id": "7ef290e3",
   "metadata": {},
   "outputs": [],
   "source": [
    "#acceleration running for user 12"
   ]
  },
  {
   "cell_type": "code",
   "execution_count": 292,
   "id": "d93a917e",
   "metadata": {},
   "outputs": [],
   "source": [
    "s12_acc_run_chest = pd.read_csv ('/Users/user/Desktop/realworld2016_dataset/proband12/data/acc_running_csv/acc_running_chest.csv')\n",
    "s12_acc_run_forearm = pd.read_csv ('/Users/user/Desktop/realworld2016_dataset/proband12/data/acc_running_csv/acc_running_forearm.csv')\n",
    "s12_acc_run_head = pd.read_csv ('/Users/user/Desktop/realworld2016_dataset/proband12/data/acc_running_csv/acc_running_head.csv')\n",
    "s12_acc_run_shin = pd.read_csv ('/Users/user/Desktop/realworld2016_dataset/proband12/data/acc_running_csv/acc_running_shin.csv')\n",
    "s12_acc_run_thigh = pd.read_csv ('/Users/user/Desktop/realworld2016_dataset/proband12/data/acc_running_csv/acc_running_thigh.csv')\n",
    "s12_acc_run_upperarm = pd.read_csv ('/Users/user/Desktop/realworld2016_dataset/proband12/data/acc_running_csv/acc_running_upperarm.csv')\n",
    "s12_acc_run_waist = pd.read_csv ('/Users/user/Desktop/realworld2016_dataset/proband12/data/acc_running_csv/acc_running_waist.csv')\n"
   ]
  },
  {
   "cell_type": "code",
   "execution_count": 293,
   "id": "2f9b6f2d",
   "metadata": {},
   "outputs": [],
   "source": [
    "#acceleration sitting for user 12"
   ]
  },
  {
   "cell_type": "code",
   "execution_count": 294,
   "id": "8ecabbc3",
   "metadata": {},
   "outputs": [],
   "source": [
    "s12_acc_sit_chest = pd.read_csv ('/Users/user/Desktop/realworld2016_dataset/proband12/data/acc_sitting_csv/acc_sitting_chest.csv')\n",
    "s12_acc_sit_forearm = pd.read_csv ('/Users/user/Desktop/realworld2016_dataset/proband12/data/acc_sitting_csv/acc_sitting_forearm.csv')\n",
    "s12_acc_sit_head = pd.read_csv ('/Users/user/Desktop/realworld2016_dataset/proband12/data/acc_sitting_csv/acc_sitting_head.csv')\n",
    "s12_acc_sit_shin = pd.read_csv ('/Users/user/Desktop/realworld2016_dataset/proband12/data/acc_sitting_csv/acc_sitting_shin.csv')\n",
    "s12_acc_sit_thigh = pd.read_csv ('/Users/user/Desktop/realworld2016_dataset/proband12/data/acc_sitting_csv/acc_sitting_thigh.csv')\n",
    "s12_acc_sit_upperarm = pd.read_csv ('/Users/user/Desktop/realworld2016_dataset/proband12/data/acc_sitting_csv/acc_sitting_upperarm.csv')\n",
    "s12_acc_sit_waist = pd.read_csv ('/Users/user/Desktop/realworld2016_dataset/proband12/data/acc_sitting_csv/acc_sitting_waist.csv')"
   ]
  },
  {
   "cell_type": "code",
   "execution_count": 295,
   "id": "a96deb4e",
   "metadata": {},
   "outputs": [],
   "source": [
    "#acceleration standing for user 12"
   ]
  },
  {
   "cell_type": "code",
   "execution_count": 296,
   "id": "ded2e2c3",
   "metadata": {},
   "outputs": [],
   "source": [
    "s12_acc_std_chest = pd.read_csv ('/Users/user/Desktop/realworld2016_dataset/proband12/data/acc_standing_csv/acc_standing_chest.csv')\n",
    "s12_acc_std_forearm = pd.read_csv ('/Users/user/Desktop/realworld2016_dataset/proband12/data/acc_standing_csv/acc_standing_forearm.csv')\n",
    "s12_acc_std_head = pd.read_csv ('/Users/user/Desktop/realworld2016_dataset/proband12/data/acc_standing_csv/acc_standing_head.csv')\n",
    "s12_acc_std_shin = pd.read_csv ('/Users/user/Desktop/realworld2016_dataset/proband12/data/acc_standing_csv/acc_standing_shin.csv')\n",
    "s12_acc_std_thigh = pd.read_csv ('/Users/user/Desktop/realworld2016_dataset/proband12/data/acc_standing_csv/acc_standing_thigh.csv')\n",
    "s12_acc_std_upperarm = pd.read_csv ('/Users/user/Desktop/realworld2016_dataset/proband12/data/acc_standing_csv/acc_standing_upperarm.csv')\n",
    "s12_acc_std_waist = pd.read_csv ('/Users/user/Desktop/realworld2016_dataset/proband12/data/acc_standing_csv/acc_standing_waist.csv')"
   ]
  },
  {
   "cell_type": "code",
   "execution_count": 297,
   "id": "bce35952",
   "metadata": {},
   "outputs": [],
   "source": [
    "#acceleration walking for user 12"
   ]
  },
  {
   "cell_type": "code",
   "execution_count": 298,
   "id": "95dd252e",
   "metadata": {},
   "outputs": [],
   "source": [
    "s12_acc_wal_chest = pd.read_csv ('/Users/user/Desktop/realworld2016_dataset/proband12/data/acc_walking_csv/acc_walking_chest.csv')\n",
    "s12_acc_wal_forearm = pd.read_csv ('/Users/user/Desktop/realworld2016_dataset/proband12/data/acc_walking_csv/acc_walking_forearm.csv')\n",
    "s12_acc_wal_head = pd.read_csv ('/Users/user/Desktop/realworld2016_dataset/proband12/data/acc_walking_csv/acc_walking_head.csv')\n",
    "s12_acc_wal_shin = pd.read_csv ('/Users/user/Desktop/realworld2016_dataset/proband12/data/acc_walking_csv/acc_walking_shin.csv')\n",
    "s12_acc_wal_thigh = pd.read_csv ('/Users/user/Desktop/realworld2016_dataset/proband12/data/acc_walking_csv/acc_walking_thigh.csv')\n",
    "s12_acc_wal_upperarm = pd.read_csv ('/Users/user/Desktop/realworld2016_dataset/proband12/data/acc_walking_csv/acc_walking_upperarm.csv')\n",
    "s12_acc_wal_waist = pd.read_csv ('/Users/user/Desktop/realworld2016_dataset/proband12/data/acc_walking_csv/acc_walking_waist.csv')"
   ]
  },
  {
   "cell_type": "code",
   "execution_count": 299,
   "id": "e3b39fb3",
   "metadata": {},
   "outputs": [],
   "source": [
    "s12_acc_cldn_chest.drop(['id', 'attr_time'], axis='columns', inplace=True)\n",
    "s12_acc_cldn_forearm.drop(['id', 'attr_time'], axis='columns', inplace=True)\n",
    "s12_acc_cldn_head.drop(['id', 'attr_time'], axis='columns', inplace=True)\n",
    "s12_acc_cldn_shin.drop(['id', 'attr_time'], axis='columns', inplace=True)\n",
    "s12_acc_cldn_thigh.drop(['id', 'attr_time'], axis='columns', inplace=True)\n",
    "s12_acc_cldn_upperarm.drop(['id', 'attr_time'], axis='columns', inplace=True)\n",
    "s12_acc_cldn_waist.drop(['id', 'attr_time'], axis='columns', inplace=True)\n"
   ]
  },
  {
   "cell_type": "code",
   "execution_count": 300,
   "id": "4f71f1e3",
   "metadata": {},
   "outputs": [],
   "source": [
    "s12_acc_clup_chest.drop(['id', 'attr_time'], axis='columns', inplace=True)\n",
    "s12_acc_clup_forearm.drop(['id', 'attr_time'], axis='columns', inplace=True)\n",
    "s12_acc_clup_head.drop(['id', 'attr_time'], axis='columns', inplace=True)\n",
    "s12_acc_clup_shin.drop(['id', 'attr_time'], axis='columns', inplace=True)\n",
    "s12_acc_clup_thigh.drop(['id', 'attr_time'], axis='columns', inplace=True)\n",
    "s12_acc_clup_upperarm.drop(['id', 'attr_time'], axis='columns', inplace=True)\n",
    "s12_acc_clup_waist.drop(['id', 'attr_time'], axis='columns', inplace=True)"
   ]
  },
  {
   "cell_type": "code",
   "execution_count": 301,
   "id": "b2b9c2f7",
   "metadata": {},
   "outputs": [],
   "source": [
    "s12_acc_jump_chest.drop(['id', 'attr_time'], axis='columns', inplace=True)\n",
    "s12_acc_jump_forearm.drop(['id', 'attr_time'], axis='columns', inplace=True)\n",
    "s12_acc_jump_head.drop(['id', 'attr_time'], axis='columns', inplace=True)\n",
    "s12_acc_jump_shin.drop(['id', 'attr_time'], axis='columns', inplace=True)\n",
    "s12_acc_jump_thigh.drop(['id', 'attr_time'], axis='columns', inplace=True)\n",
    "s12_acc_jump_upperarm.drop(['id', 'attr_time'], axis='columns', inplace=True)\n",
    "s12_acc_jump_waist.drop(['id', 'attr_time'], axis='columns', inplace=True)"
   ]
  },
  {
   "cell_type": "code",
   "execution_count": 302,
   "id": "a86a8518",
   "metadata": {},
   "outputs": [],
   "source": [
    "s12_acc_ly_chest.drop(['id', 'attr_time'], axis='columns', inplace=True)\n",
    "s12_acc_ly_forearm.drop(['id', 'attr_time'], axis='columns', inplace=True)\n",
    "s12_acc_ly_head.drop(['id', 'attr_time'], axis='columns', inplace=True)\n",
    "s12_acc_ly_shin.drop(['id', 'attr_time'], axis='columns', inplace=True)\n",
    "s12_acc_ly_thigh.drop(['id', 'attr_time'], axis='columns', inplace=True)\n",
    "s12_acc_ly_upperarm.drop(['id', 'attr_time'], axis='columns', inplace=True)\n",
    "s12_acc_ly_waist.drop(['id', 'attr_time'], axis='columns', inplace=True)"
   ]
  },
  {
   "cell_type": "code",
   "execution_count": 303,
   "id": "5d61a4d1",
   "metadata": {},
   "outputs": [],
   "source": [
    "s12_acc_run_chest.drop(['id', 'attr_time'], axis='columns', inplace=True)\n",
    "s12_acc_run_forearm.drop(['id', 'attr_time'], axis='columns', inplace=True)\n",
    "s12_acc_run_head.drop(['id', 'attr_time'], axis='columns', inplace=True)\n",
    "s12_acc_run_shin.drop(['id', 'attr_time'], axis='columns', inplace=True)\n",
    "s12_acc_run_thigh.drop(['id', 'attr_time'], axis='columns', inplace=True)\n",
    "s12_acc_run_upperarm.drop(['id', 'attr_time'], axis='columns', inplace=True)\n",
    "s12_acc_run_waist.drop(['id', 'attr_time'], axis='columns', inplace=True)"
   ]
  },
  {
   "cell_type": "code",
   "execution_count": 304,
   "id": "d73bf115",
   "metadata": {},
   "outputs": [],
   "source": [
    "s12_acc_sit_chest.drop(['id', 'attr_time'], axis='columns', inplace=True)\n",
    "s12_acc_sit_forearm.drop(['id', 'attr_time'], axis='columns', inplace=True)\n",
    "s12_acc_sit_head.drop(['id', 'attr_time'], axis='columns', inplace=True)\n",
    "s12_acc_sit_shin.drop(['id', 'attr_time'], axis='columns', inplace=True)\n",
    "s12_acc_sit_thigh.drop(['id', 'attr_time'], axis='columns', inplace=True)\n",
    "s12_acc_sit_upperarm.drop(['id', 'attr_time'], axis='columns', inplace=True)\n",
    "s12_acc_sit_waist.drop(['id', 'attr_time'], axis='columns', inplace=True)"
   ]
  },
  {
   "cell_type": "code",
   "execution_count": 305,
   "id": "a81f90d9",
   "metadata": {},
   "outputs": [],
   "source": [
    "s12_acc_std_chest.drop(['id', 'attr_time'], axis='columns', inplace=True)\n",
    "s12_acc_std_forearm.drop(['id', 'attr_time'], axis='columns', inplace=True)\n",
    "s12_acc_std_head.drop(['id', 'attr_time'], axis='columns', inplace=True)\n",
    "s12_acc_std_shin.drop(['id', 'attr_time'], axis='columns', inplace=True)\n",
    "s12_acc_std_thigh.drop(['id', 'attr_time'], axis='columns', inplace=True)\n",
    "s12_acc_std_upperarm.drop(['id', 'attr_time'], axis='columns', inplace=True)\n",
    "s12_acc_std_waist.drop(['id', 'attr_time'], axis='columns', inplace=True)"
   ]
  },
  {
   "cell_type": "code",
   "execution_count": 306,
   "id": "2fd9f338",
   "metadata": {},
   "outputs": [],
   "source": [
    "s12_acc_wal_chest.drop(['id', 'attr_time'], axis='columns', inplace=True)\n",
    "s12_acc_wal_forearm.drop(['id', 'attr_time'], axis='columns', inplace=True)\n",
    "s12_acc_wal_head.drop(['id', 'attr_time'], axis='columns', inplace=True)\n",
    "s12_acc_wal_shin.drop(['id', 'attr_time'], axis='columns', inplace=True)\n",
    "s12_acc_wal_thigh.drop(['id', 'attr_time'], axis='columns', inplace=True)\n",
    "s12_acc_wal_upperarm.drop(['id', 'attr_time'], axis='columns', inplace=True)\n",
    "s12_acc_wal_waist.drop(['id', 'attr_time'], axis='columns', inplace=True)"
   ]
  },
  {
   "cell_type": "code",
   "execution_count": 307,
   "id": "961c0ebb",
   "metadata": {},
   "outputs": [],
   "source": [
    "#accelearation climbing down for user 13 "
   ]
  },
  {
   "cell_type": "code",
   "execution_count": 308,
   "id": "fdd14558",
   "metadata": {},
   "outputs": [],
   "source": [
    "s13_acc_cldn_chest = pd.read_csv ('/Users/user/Desktop/realworld2016_dataset/proband13/data/acc_climbingdown_csv/acc_climbingdown_chest.csv')\n",
    "s13_acc_cldn_forearm = pd.read_csv ('/Users/user/Desktop/realworld2016_dataset/proband13/data/acc_climbingdown_csv/acc_climbingdown_forearm.csv')\n",
    "s13_acc_cldn_head = pd.read_csv ('/Users/user/Desktop/realworld2016_dataset/proband13/data/acc_climbingdown_csv/acc_climbingdown_head.csv')\n",
    "s13_acc_cldn_shin = pd.read_csv ('/Users/user/Desktop/realworld2016_dataset/proband13/data/acc_climbingdown_csv/acc_climbingdown_shin.csv')\n",
    "s13_acc_cldn_thigh = pd.read_csv ('/Users/user/Desktop/realworld2016_dataset/proband13/data/acc_climbingdown_csv/acc_climbingdown_thigh.csv')\n",
    "s13_acc_cldn_upperarm = pd.read_csv ('/Users/user/Desktop/realworld2016_dataset/proband13/data/acc_climbingdown_csv/acc_climbingdown_upperarm.csv')\n",
    "s13_acc_cldn_waist = pd.read_csv ('/Users/user/Desktop/realworld2016_dataset/proband13/data/acc_climbingdown_csv/acc_climbingdown_waist.csv')\n"
   ]
  },
  {
   "cell_type": "code",
   "execution_count": 309,
   "id": "54ec58fe",
   "metadata": {},
   "outputs": [],
   "source": [
    "#accelearation climbing up for user 13"
   ]
  },
  {
   "cell_type": "code",
   "execution_count": 310,
   "id": "2c5764f5",
   "metadata": {},
   "outputs": [],
   "source": [
    "s13_acc_clup_chest = pd.read_csv ('/Users/user/Desktop/realworld2016_dataset/proband13/data/acc_climbingup_csv/acc_climbingup_chest.csv')\n",
    "s13_acc_clup_forearm = pd.read_csv ('/Users/user/Desktop/realworld2016_dataset/proband13/data/acc_climbingup_csv/acc_climbingup_forearm.csv')\n",
    "s13_acc_clup_head = pd.read_csv ('/Users/user/Desktop/realworld2016_dataset/proband13/data/acc_climbingup_csv/acc_climbingup_head.csv')\n",
    "s13_acc_clup_shin = pd.read_csv ('/Users/user/Desktop/realworld2016_dataset/proband13/data/acc_climbingup_csv/acc_climbingup_shin.csv')\n",
    "s13_acc_clup_thigh = pd.read_csv ('/Users/user/Desktop/realworld2016_dataset/proband13/data/acc_climbingup_csv/acc_climbingup_thigh.csv')\n",
    "s13_acc_clup_upperarm = pd.read_csv ('/Users/user/Desktop/realworld2016_dataset/proband13/data/acc_climbingup_csv/acc_climbingup_upperarm.csv')\n",
    "s13_acc_clup_waist = pd.read_csv ('/Users/user/Desktop/realworld2016_dataset/proband13/data/acc_climbingup_csv/acc_climbingup_waist.csv')"
   ]
  },
  {
   "cell_type": "code",
   "execution_count": 311,
   "id": "d64487ac",
   "metadata": {},
   "outputs": [],
   "source": [
    "#accelearation jumping for user 13"
   ]
  },
  {
   "cell_type": "code",
   "execution_count": 312,
   "id": "5cc4fa90",
   "metadata": {},
   "outputs": [],
   "source": [
    "s13_acc_jump_chest = pd.read_csv ('/Users/user/Desktop/realworld2016_dataset/proband13/data/acc_jumping_csv/acc_jumping_chest.csv')\n",
    "s13_acc_jump_forearm = pd.read_csv ('/Users/user/Desktop/realworld2016_dataset/proband13/data/acc_jumping_csv/acc_jumping_forearm.csv')\n",
    "s13_acc_jump_head = pd.read_csv ('/Users/user/Desktop/realworld2016_dataset/proband13/data/acc_jumping_csv/acc_jumping_head.csv')\n",
    "s13_acc_jump_shin = pd.read_csv ('/Users/user/Desktop/realworld2016_dataset/proband13/data/acc_jumping_csv/acc_jumping_shin.csv')\n",
    "s13_acc_jump_thigh = pd.read_csv ('/Users/user/Desktop/realworld2016_dataset/proband13/data/acc_jumping_csv/acc_jumping_thigh.csv')\n",
    "s13_acc_jump_upperarm = pd.read_csv ('/Users/user/Desktop/realworld2016_dataset/proband13/data/acc_jumping_csv/acc_jumping_upperarm.csv')\n",
    "s13_acc_jump_waist = pd.read_csv ('/Users/user/Desktop/realworld2016_dataset/proband13/data/acc_jumping_csv/acc_jumping_waist.csv')"
   ]
  },
  {
   "cell_type": "code",
   "execution_count": 313,
   "id": "ac8429b8",
   "metadata": {},
   "outputs": [],
   "source": [
    "#accelearation lying for user 13"
   ]
  },
  {
   "cell_type": "code",
   "execution_count": 314,
   "id": "9d0805d1",
   "metadata": {},
   "outputs": [],
   "source": [
    "s13_acc_ly_chest = pd.read_csv ('/Users/user/Desktop/realworld2016_dataset/proband13/data/acc_lying_csv/acc_lying_chest.csv')\n",
    "s13_acc_ly_forearm = pd.read_csv ('/Users/user/Desktop/realworld2016_dataset/proband13/data/acc_lying_csv/acc_lying_forearm.csv')\n",
    "s13_acc_ly_head = pd.read_csv ('/Users/user/Desktop/realworld2016_dataset/proband13/data/acc_lying_csv/acc_lying_head.csv')\n",
    "s13_acc_ly_shin = pd.read_csv ('/Users/user/Desktop/realworld2016_dataset/proband13/data/acc_lying_csv/acc_lying_shin.csv')\n",
    "s13_acc_ly_thigh = pd.read_csv ('/Users/user/Desktop/realworld2016_dataset/proband13/data/acc_lying_csv/acc_lying_thigh.csv')\n",
    "s13_acc_ly_upperarm = pd.read_csv ('/Users/user/Desktop/realworld2016_dataset/proband13/data/acc_lying_csv/acc_lying_upperarm.csv')\n",
    "s13_acc_ly_waist = pd.read_csv ('/Users/user/Desktop/realworld2016_dataset/proband13/data/acc_lying_csv/acc_lying_waist.csv')\n",
    "\n"
   ]
  },
  {
   "cell_type": "code",
   "execution_count": 315,
   "id": "63d5689e",
   "metadata": {},
   "outputs": [],
   "source": [
    "#accelearation running for user 13"
   ]
  },
  {
   "cell_type": "code",
   "execution_count": 316,
   "id": "6bd5eca0",
   "metadata": {},
   "outputs": [],
   "source": [
    "s13_acc_run_chest = pd.read_csv ('/Users/user/Desktop/realworld2016_dataset/proband13/data/acc_running_csv/acc_running_chest.csv')\n",
    "s13_acc_run_forearm = pd.read_csv ('/Users/user/Desktop/realworld2016_dataset/proband13/data/acc_running_csv/acc_running_forearm.csv')\n",
    "s13_acc_run_head = pd.read_csv ('/Users/user/Desktop/realworld2016_dataset/proband13/data/acc_running_csv/acc_running_head.csv')\n",
    "s13_acc_run_shin = pd.read_csv ('/Users/user/Desktop/realworld2016_dataset/proband13/data/acc_running_csv/acc_running_shin.csv')\n",
    "s13_acc_run_thigh = pd.read_csv ('/Users/user/Desktop/realworld2016_dataset/proband13/data/acc_running_csv/acc_running_thigh.csv')\n",
    "s13_acc_run_upperarm = pd.read_csv ('/Users/user/Desktop/realworld2016_dataset/proband13/data/acc_running_csv/acc_running_upperarm.csv')\n",
    "s13_acc_run_waist = pd.read_csv ('/Users/user/Desktop/realworld2016_dataset/proband13/data/acc_running_csv/acc_running_waist.csv')"
   ]
  },
  {
   "cell_type": "code",
   "execution_count": 317,
   "id": "9c03126d",
   "metadata": {},
   "outputs": [],
   "source": [
    "#accelearation sitting for user 13"
   ]
  },
  {
   "cell_type": "code",
   "execution_count": 318,
   "id": "7b8ae190",
   "metadata": {},
   "outputs": [],
   "source": [
    "s13_acc_sit_chest = pd.read_csv ('/Users/user/Desktop/realworld2016_dataset/proband13/data/acc_sitting_csv/acc_sitting_chest.csv')\n",
    "s13_acc_sit_forearm = pd.read_csv ('/Users/user/Desktop/realworld2016_dataset/proband13/data/acc_sitting_csv/acc_sitting_forearm.csv')\n",
    "s13_acc_sit_head = pd.read_csv ('/Users/user/Desktop/realworld2016_dataset/proband13/data/acc_sitting_csv/acc_sitting_head.csv')\n",
    "s13_acc_sit_shin = pd.read_csv ('/Users/user/Desktop/realworld2016_dataset/proband13/data/acc_sitting_csv/acc_sitting_shin.csv')\n",
    "s13_acc_sit_thigh = pd.read_csv ('/Users/user/Desktop/realworld2016_dataset/proband13/data/acc_sitting_csv/acc_sitting_thigh.csv')\n",
    "s13_acc_sit_upperarm = pd.read_csv ('/Users/user/Desktop/realworld2016_dataset/proband13/data/acc_sitting_csv/acc_sitting_upperarm.csv')\n",
    "s13_acc_sit_waist = pd.read_csv ('/Users/user/Desktop/realworld2016_dataset/proband13/data/acc_sitting_csv/acc_sitting_waist.csv')\n"
   ]
  },
  {
   "cell_type": "code",
   "execution_count": 319,
   "id": "f079e11a",
   "metadata": {},
   "outputs": [],
   "source": [
    "#accelearation standing for user 13"
   ]
  },
  {
   "cell_type": "code",
   "execution_count": 320,
   "id": "6ff07cd5",
   "metadata": {},
   "outputs": [],
   "source": [
    "s13_acc_std_chest = pd.read_csv ('/Users/user/Desktop/realworld2016_dataset/proband13/data/acc_standing_csv/acc_standing_chest.csv')\n",
    "s13_acc_std_forearm = pd.read_csv ('/Users/user/Desktop/realworld2016_dataset/proband13/data/acc_standing_csv/acc_standing_forearm.csv')\n",
    "s13_acc_std_head = pd.read_csv ('/Users/user/Desktop/realworld2016_dataset/proband13/data/acc_standing_csv/acc_standing_head.csv')\n",
    "s13_acc_std_shin = pd.read_csv ('/Users/user/Desktop/realworld2016_dataset/proband13/data/acc_standing_csv/acc_standing_shin.csv')\n",
    "s13_acc_std_thigh = pd.read_csv ('/Users/user/Desktop/realworld2016_dataset/proband13/data/acc_standing_csv/acc_standing_thigh.csv')\n",
    "s13_acc_std_upperarm = pd.read_csv ('/Users/user/Desktop/realworld2016_dataset/proband13/data/acc_standing_csv/acc_standing_upperarm.csv')\n",
    "s13_acc_std_waist = pd.read_csv ('/Users/user/Desktop/realworld2016_dataset/proband13/data/acc_standing_csv/acc_standing_waist.csv')\n"
   ]
  },
  {
   "cell_type": "code",
   "execution_count": 321,
   "id": "4e829bc7",
   "metadata": {},
   "outputs": [],
   "source": [
    "#accelearation walking for user 13"
   ]
  },
  {
   "cell_type": "code",
   "execution_count": 322,
   "id": "2007ddfc",
   "metadata": {},
   "outputs": [],
   "source": [
    "s13_acc_wal_chest = pd.read_csv ('/Users/user/Desktop/realworld2016_dataset/proband13/data/acc_walking_csv/acc_walking_2_chest.csv')\n",
    "s13_acc_wal_forearm = pd.read_csv ('/Users/user/Desktop/realworld2016_dataset/proband13/data/acc_walking_csv/acc_walking_2_forearm.csv')\n",
    "s13_acc_wal_head = pd.read_csv ('/Users/user/Desktop/realworld2016_dataset/proband13/data/acc_walking_csv/acc_walking_2_head.csv')\n",
    "s13_acc_wal_shin = pd.read_csv ('/Users/user/Desktop/realworld2016_dataset/proband13/data/acc_walking_csv/acc_walking_2_shin.csv')\n",
    "s13_acc_wal_thigh = pd.read_csv ('/Users/user/Desktop/realworld2016_dataset/proband13/data/acc_walking_csv/acc_walking_2_thigh.csv')\n",
    "s13_acc_wal_upperarm = pd.read_csv ('/Users/user/Desktop/realworld2016_dataset/proband13/data/acc_walking_csv/acc_walking_2_upperarm.csv')\n",
    "s13_acc_wal_waist = pd.read_csv ('/Users/user/Desktop/realworld2016_dataset/proband13/data/acc_walking_csv/acc_walking_2_waist.csv')\n"
   ]
  },
  {
   "cell_type": "code",
   "execution_count": 323,
   "id": "c05570cf",
   "metadata": {},
   "outputs": [],
   "source": [
    "s13_acc_cldn_chest.drop(['id', 'attr_time'], axis='columns', inplace=True)\n",
    "s13_acc_cldn_forearm.drop(['id', 'attr_time'], axis='columns', inplace=True)\n",
    "s13_acc_cldn_head.drop(['id', 'attr_time'], axis='columns', inplace=True)\n",
    "s13_acc_cldn_shin.drop(['id', 'attr_time'], axis='columns', inplace=True)\n",
    "s13_acc_cldn_thigh.drop(['id', 'attr_time'], axis='columns', inplace=True)\n",
    "s13_acc_cldn_upperarm.drop(['id', 'attr_time'], axis='columns', inplace=True)\n",
    "s13_acc_cldn_waist.drop(['id', 'attr_time'], axis='columns', inplace=True)\n"
   ]
  },
  {
   "cell_type": "code",
   "execution_count": 324,
   "id": "fb812fba",
   "metadata": {},
   "outputs": [],
   "source": [
    "s13_acc_clup_chest.drop(['id', 'attr_time'], axis='columns', inplace=True)\n",
    "s13_acc_clup_forearm.drop(['id', 'attr_time'], axis='columns', inplace=True)\n",
    "s13_acc_clup_head.drop(['id', 'attr_time'], axis='columns', inplace=True)\n",
    "s13_acc_clup_shin.drop(['id', 'attr_time'], axis='columns', inplace=True)\n",
    "s13_acc_clup_thigh.drop(['id', 'attr_time'], axis='columns', inplace=True)\n",
    "s13_acc_clup_upperarm.drop(['id', 'attr_time'], axis='columns', inplace=True)\n",
    "s13_acc_clup_waist.drop(['id', 'attr_time'], axis='columns', inplace=True)"
   ]
  },
  {
   "cell_type": "code",
   "execution_count": 325,
   "id": "e399d290",
   "metadata": {},
   "outputs": [],
   "source": [
    "\n",
    "s13_acc_jump_chest.drop(['id', 'attr_time'], axis='columns', inplace=True)\n",
    "s13_acc_jump_forearm.drop(['id', 'attr_time'], axis='columns', inplace=True)\n",
    "s13_acc_jump_head.drop(['id', 'attr_time'], axis='columns', inplace=True)\n",
    "s13_acc_jump_shin.drop(['id', 'attr_time'], axis='columns', inplace=True)\n",
    "s13_acc_jump_thigh.drop(['id', 'attr_time'], axis='columns', inplace=True)\n",
    "s13_acc_jump_upperarm.drop(['id', 'attr_time'], axis='columns', inplace=True)\n",
    "s13_acc_jump_waist.drop(['id', 'attr_time'], axis='columns', inplace=True)"
   ]
  },
  {
   "cell_type": "code",
   "execution_count": 326,
   "id": "f87f96dd",
   "metadata": {},
   "outputs": [],
   "source": [
    "s13_acc_ly_chest.drop(['id', 'attr_time'], axis='columns', inplace=True)\n",
    "s13_acc_ly_forearm.drop(['id', 'attr_time'], axis='columns', inplace=True)\n",
    "s13_acc_ly_head.drop(['id', 'attr_time'], axis='columns', inplace=True)\n",
    "s13_acc_ly_shin.drop(['id', 'attr_time'], axis='columns', inplace=True)\n",
    "s13_acc_ly_thigh.drop(['id', 'attr_time'], axis='columns', inplace=True)\n",
    "s13_acc_ly_upperarm.drop(['id', 'attr_time'], axis='columns', inplace=True)\n",
    "s13_acc_ly_waist.drop(['id', 'attr_time'], axis='columns', inplace=True)"
   ]
  },
  {
   "cell_type": "code",
   "execution_count": 327,
   "id": "4ef737e3",
   "metadata": {},
   "outputs": [],
   "source": [
    "s13_acc_run_chest.drop(['id', 'attr_time'], axis='columns', inplace=True)\n",
    "s13_acc_run_forearm.drop(['id', 'attr_time'], axis='columns', inplace=True)\n",
    "s13_acc_run_head.drop(['id', 'attr_time'], axis='columns', inplace=True)\n",
    "s13_acc_run_shin.drop(['id', 'attr_time'], axis='columns', inplace=True)\n",
    "s13_acc_run_thigh.drop(['id', 'attr_time'], axis='columns', inplace=True)\n",
    "s13_acc_run_upperarm.drop(['id', 'attr_time'], axis='columns', inplace=True)\n",
    "s13_acc_run_waist.drop(['id', 'attr_time'], axis='columns', inplace=True)"
   ]
  },
  {
   "cell_type": "code",
   "execution_count": 328,
   "id": "21b688b7",
   "metadata": {},
   "outputs": [],
   "source": [
    "s13_acc_sit_chest.drop(['id', 'attr_time'], axis='columns', inplace=True)\n",
    "s13_acc_sit_forearm.drop(['id', 'attr_time'], axis='columns', inplace=True)\n",
    "s13_acc_sit_head.drop(['id', 'attr_time'], axis='columns', inplace=True)\n",
    "s13_acc_sit_shin.drop(['id', 'attr_time'], axis='columns', inplace=True)\n",
    "s13_acc_sit_thigh.drop(['id', 'attr_time'], axis='columns', inplace=True)\n",
    "s13_acc_sit_upperarm.drop(['id', 'attr_time'], axis='columns', inplace=True)\n",
    "s13_acc_sit_waist.drop(['id', 'attr_time'], axis='columns', inplace=True)"
   ]
  },
  {
   "cell_type": "code",
   "execution_count": 329,
   "id": "87f8c13a",
   "metadata": {},
   "outputs": [],
   "source": [
    "s13_acc_std_chest.drop(['id', 'attr_time'], axis='columns', inplace=True)\n",
    "s13_acc_std_forearm.drop(['id', 'attr_time'], axis='columns', inplace=True)\n",
    "s13_acc_std_head.drop(['id', 'attr_time'], axis='columns', inplace=True)\n",
    "s13_acc_std_shin.drop(['id', 'attr_time'], axis='columns', inplace=True)\n",
    "s13_acc_std_thigh.drop(['id', 'attr_time'], axis='columns', inplace=True)\n",
    "s13_acc_std_upperarm.drop(['id', 'attr_time'], axis='columns', inplace=True)\n",
    "s13_acc_std_waist.drop(['id', 'attr_time'], axis='columns', inplace=True)\n"
   ]
  },
  {
   "cell_type": "code",
   "execution_count": 330,
   "id": "83d4e792",
   "metadata": {},
   "outputs": [],
   "source": [
    "s13_acc_wal_chest.drop(['id', 'attr_time'], axis='columns', inplace=True)\n",
    "s13_acc_wal_forearm.drop(['id', 'attr_time'], axis='columns', inplace=True)\n",
    "s13_acc_wal_head.drop(['id', 'attr_time'], axis='columns', inplace=True)\n",
    "s13_acc_wal_shin.drop(['id', 'attr_time'], axis='columns', inplace=True)\n",
    "s13_acc_wal_thigh.drop(['id', 'attr_time'], axis='columns', inplace=True)\n",
    "s13_acc_wal_upperarm.drop(['id', 'attr_time'], axis='columns', inplace=True)\n",
    "s13_acc_wal_waist.drop(['id', 'attr_time'], axis='columns', inplace=True)"
   ]
  },
  {
   "cell_type": "code",
   "execution_count": 331,
   "id": "7422536e",
   "metadata": {},
   "outputs": [],
   "source": [
    "#accelearation climbing down for user 14"
   ]
  },
  {
   "cell_type": "code",
   "execution_count": 332,
   "id": "07e5e203",
   "metadata": {},
   "outputs": [],
   "source": [
    "s14_acc_cldn_chest = pd.read_csv ('/Users/user/Desktop/realworld2016_dataset/proband14/data/acc_climbingdown_csv/acc_climbingdown_chest.csv')\n",
    "s14_acc_cldn_forearm = pd.read_csv ('/Users/user/Desktop/realworld2016_dataset/proband14/data/acc_climbingdown_csv/acc_climbingdown_forearm.csv')\n",
    "s14_acc_cldn_head = pd.read_csv ('/Users/user/Desktop/realworld2016_dataset/proband14/data/acc_climbingdown_csv/acc_climbingdown_head.csv')\n",
    "s14_acc_cldn_shin = pd.read_csv ('/Users/user/Desktop/realworld2016_dataset/proband14/data/acc_climbingdown_csv/acc_climbingdown_shin.csv')\n",
    "s14_acc_cldn_thigh = pd.read_csv ('/Users/user/Desktop/realworld2016_dataset/proband14/data/acc_climbingdown_csv/acc_climbingdown_thigh.csv')\n",
    "s14_acc_cldn_upperarm = pd.read_csv ('/Users/user/Desktop/realworld2016_dataset/proband14/data/acc_climbingdown_csv/acc_climbingdown_upperarm.csv')\n",
    "s14_acc_cldn_waist = pd.read_csv ('/Users/user/Desktop/realworld2016_dataset/proband14/data/acc_climbingdown_csv/acc_climbingdown_waist.csv')\n"
   ]
  },
  {
   "cell_type": "code",
   "execution_count": 333,
   "id": "67018daa",
   "metadata": {},
   "outputs": [],
   "source": [
    "#accelearation climbing up for user 14"
   ]
  },
  {
   "cell_type": "code",
   "execution_count": 334,
   "id": "f1815b61",
   "metadata": {},
   "outputs": [],
   "source": [
    "s14_acc_clup_chest = pd.read_csv ('/Users/user/Desktop/realworld2016_dataset/proband14/data/acc_climbingup_csv/acc_climbingup_chest.csv')\n",
    "s14_acc_clup_forearm = pd.read_csv ('/Users/user/Desktop/realworld2016_dataset/proband14/data/acc_climbingup_csv/acc_climbingup_forearm.csv')\n",
    "s14_acc_clup_head = pd.read_csv ('/Users/user/Desktop/realworld2016_dataset/proband14/data/acc_climbingup_csv/acc_climbingup_head.csv')\n",
    "s14_acc_clup_shin = pd.read_csv ('/Users/user/Desktop/realworld2016_dataset/proband14/data/acc_climbingup_csv/acc_climbingup_shin.csv')\n",
    "s14_acc_clup_thigh = pd.read_csv ('/Users/user/Desktop/realworld2016_dataset/proband14/data/acc_climbingup_csv/acc_climbingup_thigh.csv')\n",
    "s14_acc_clup_upperarm = pd.read_csv ('/Users/user/Desktop/realworld2016_dataset/proband14/data/acc_climbingup_csv/acc_climbingup_upperarm.csv')\n",
    "s14_acc_clup_waist = pd.read_csv ('/Users/user/Desktop/realworld2016_dataset/proband14/data/acc_climbingup_csv/acc_climbingup_waist.csv')"
   ]
  },
  {
   "cell_type": "code",
   "execution_count": 335,
   "id": "c2624d0e",
   "metadata": {},
   "outputs": [],
   "source": [
    "#accelearation jumping for user 14"
   ]
  },
  {
   "cell_type": "code",
   "execution_count": 336,
   "id": "4bbf1270",
   "metadata": {},
   "outputs": [],
   "source": [
    "s14_acc_jump_chest = pd.read_csv ('/Users/user/Desktop/realworld2016_dataset/proband14/data/acc_jumping_csv/acc_jumping_chest.csv')\n",
    "s14_acc_jump_forearm = pd.read_csv ('/Users/user/Desktop/realworld2016_dataset/proband14/data/acc_jumping_csv/acc_jumping_forearm.csv')\n",
    "s14_acc_jump_head = pd.read_csv ('/Users/user/Desktop/realworld2016_dataset/proband14/data/acc_jumping_csv/acc_jumping_head.csv')\n",
    "s14_acc_jump_shin = pd.read_csv ('/Users/user/Desktop/realworld2016_dataset/proband14/data/acc_jumping_csv/acc_jumping_shin.csv')\n",
    "s14_acc_jump_thigh = pd.read_csv ('/Users/user/Desktop/realworld2016_dataset/proband14/data/acc_jumping_csv/acc_jumping_thigh.csv')\n",
    "s14_acc_jump_upperarm = pd.read_csv ('/Users/user/Desktop/realworld2016_dataset/proband14/data/acc_jumping_csv/acc_jumping_upperarm.csv')\n",
    "s14_acc_jump_waist = pd.read_csv ('/Users/user/Desktop/realworld2016_dataset/proband14/data/acc_jumping_csv/acc_jumping_waist.csv')"
   ]
  },
  {
   "cell_type": "code",
   "execution_count": 337,
   "id": "7f0e783b",
   "metadata": {},
   "outputs": [],
   "source": [
    "#accelearation lying for user 14"
   ]
  },
  {
   "cell_type": "code",
   "execution_count": 338,
   "id": "45563ec1",
   "metadata": {},
   "outputs": [],
   "source": [
    "s14_acc_ly_chest = pd.read_csv ('/Users/user/Desktop/realworld2016_dataset/proband14/data/acc_lying_csv/acc_lying_chest.csv')\n",
    "s14_acc_ly_forearm = pd.read_csv ('/Users/user/Desktop/realworld2016_dataset/proband14/data/acc_lying_csv/acc_lying_forearm.csv')\n",
    "s14_acc_ly_head = pd.read_csv ('/Users/user/Desktop/realworld2016_dataset/proband14/data/acc_lying_csv/acc_lying_head.csv')\n",
    "s14_acc_ly_shin = pd.read_csv ('/Users/user/Desktop/realworld2016_dataset/proband14/data/acc_lying_csv/acc_lying_shin.csv')\n",
    "s14_acc_ly_thigh = pd.read_csv ('/Users/user/Desktop/realworld2016_dataset/proband14/data/acc_lying_csv/acc_lying_thigh.csv')\n",
    "s14_acc_ly_upperarm = pd.read_csv ('/Users/user/Desktop/realworld2016_dataset/proband14/data/acc_lying_csv/acc_lying_upperarm.csv')\n",
    "s14_acc_ly_waist = pd.read_csv ('/Users/user/Desktop/realworld2016_dataset/proband14/data/acc_lying_csv/acc_lying_waist.csv')"
   ]
  },
  {
   "cell_type": "code",
   "execution_count": 339,
   "id": "186da53f",
   "metadata": {},
   "outputs": [],
   "source": [
    "#accelearation running for user 14"
   ]
  },
  {
   "cell_type": "code",
   "execution_count": 340,
   "id": "bbc7399a",
   "metadata": {},
   "outputs": [],
   "source": [
    "s14_acc_run_chest = pd.read_csv ('/Users/user/Desktop/realworld2016_dataset/proband14/data/acc_running_csv/acc_running_chest.csv')\n",
    "s14_acc_run_forearm = pd.read_csv ('/Users/user/Desktop/realworld2016_dataset/proband14/data/acc_running_csv/acc_running_forearm.csv')\n",
    "s14_acc_run_head = pd.read_csv ('/Users/user/Desktop/realworld2016_dataset/proband14/data/acc_running_csv/acc_running_head.csv')\n",
    "s14_acc_run_shin = pd.read_csv ('/Users/user/Desktop/realworld2016_dataset/proband14/data/acc_running_csv/acc_running_shin.csv')\n",
    "s14_acc_run_thigh = pd.read_csv ('/Users/user/Desktop/realworld2016_dataset/proband14/data/acc_running_csv/acc_running_thigh.csv')\n",
    "s14_acc_run_upperarm = pd.read_csv ('/Users/user/Desktop/realworld2016_dataset/proband14/data/acc_running_csv/acc_running_upperarm.csv')\n",
    "s14_acc_run_waist = pd.read_csv ('/Users/user/Desktop/realworld2016_dataset/proband14/data/acc_running_csv/acc_running_waist.csv')"
   ]
  },
  {
   "cell_type": "code",
   "execution_count": 341,
   "id": "557e5b33",
   "metadata": {},
   "outputs": [],
   "source": [
    "#accelearation sitting for user 14"
   ]
  },
  {
   "cell_type": "code",
   "execution_count": 342,
   "id": "ecec9609",
   "metadata": {},
   "outputs": [],
   "source": [
    "s14_acc_sit_chest = pd.read_csv ('/Users/user/Desktop/realworld2016_dataset/proband14/data/acc_sitting_csv/acc_sitting_chest.csv')\n",
    "s14_acc_sit_forearm = pd.read_csv ('/Users/user/Desktop/realworld2016_dataset/proband14/data/acc_sitting_csv/acc_sitting_forearm.csv')\n",
    "s14_acc_sit_head = pd.read_csv ('/Users/user/Desktop/realworld2016_dataset/proband14/data/acc_sitting_csv/acc_sitting_head.csv')\n",
    "s14_acc_sit_shin = pd.read_csv ('/Users/user/Desktop/realworld2016_dataset/proband14/data/acc_sitting_csv/acc_sitting_shin.csv')\n",
    "s14_acc_sit_thigh = pd.read_csv ('/Users/user/Desktop/realworld2016_dataset/proband14/data/acc_sitting_csv/acc_sitting_thigh.csv')\n",
    "s14_acc_sit_upperarm = pd.read_csv ('/Users/user/Desktop/realworld2016_dataset/proband14/data/acc_sitting_csv/acc_sitting_upperarm.csv')\n",
    "s14_acc_sit_waist = pd.read_csv ('/Users/user/Desktop/realworld2016_dataset/proband14/data/acc_sitting_csv/acc_sitting_waist.csv')\n"
   ]
  },
  {
   "cell_type": "code",
   "execution_count": 343,
   "id": "32f934f7",
   "metadata": {},
   "outputs": [],
   "source": [
    "#accelearation standing for user 14"
   ]
  },
  {
   "cell_type": "code",
   "execution_count": 344,
   "id": "a9aafb2d",
   "metadata": {},
   "outputs": [],
   "source": [
    "s14_acc_std_chest = pd.read_csv ('/Users/user/Desktop/realworld2016_dataset/proband14/data/acc_standing_csv/acc_standing_chest.csv')\n",
    "s14_acc_std_forearm = pd.read_csv ('/Users/user/Desktop/realworld2016_dataset/proband14/data/acc_standing_csv/acc_standing_forearm.csv')\n",
    "s14_acc_std_head = pd.read_csv ('/Users/user/Desktop/realworld2016_dataset/proband14/data/acc_standing_csv/acc_standing_head.csv')\n",
    "s14_acc_std_shin = pd.read_csv ('/Users/user/Desktop/realworld2016_dataset/proband14/data/acc_standing_csv/acc_standing_shin.csv')\n",
    "s14_acc_std_thigh = pd.read_csv ('/Users/user/Desktop/realworld2016_dataset/proband14/data/acc_standing_csv/acc_standing_thigh.csv')\n",
    "s14_acc_std_upperarm = pd.read_csv ('/Users/user/Desktop/realworld2016_dataset/proband14/data/acc_standing_csv/acc_standing_upperarm.csv')\n",
    "s14_acc_std_waist = pd.read_csv ('/Users/user/Desktop/realworld2016_dataset/proband14/data/acc_standing_csv/acc_standing_waist.csv')"
   ]
  },
  {
   "cell_type": "code",
   "execution_count": 345,
   "id": "d4bb6608",
   "metadata": {},
   "outputs": [],
   "source": [
    "#accelearation walking for user 14"
   ]
  },
  {
   "cell_type": "code",
   "execution_count": 346,
   "id": "ab870415",
   "metadata": {},
   "outputs": [],
   "source": [
    "s14_acc_wal_chest = pd.read_csv ('/Users/user/Desktop/realworld2016_dataset/proband14/data/acc_walking_csv/acc_walking_chest.csv')\n",
    "s14_acc_wal_forearm = pd.read_csv ('/Users/user/Desktop/realworld2016_dataset/proband14/data/acc_walking_csv/acc_walking_forearm.csv')\n",
    "s14_acc_wal_head = pd.read_csv ('/Users/user/Desktop/realworld2016_dataset/proband14/data/acc_walking_csv/acc_walking_head.csv')\n",
    "s14_acc_wal_shin = pd.read_csv ('/Users/user/Desktop/realworld2016_dataset/proband14/data/acc_walking_csv/acc_walking_shin.csv')\n",
    "s14_acc_wal_thigh = pd.read_csv ('/Users/user/Desktop/realworld2016_dataset/proband14/data/acc_walking_csv/acc_walking_thigh.csv')\n",
    "s14_acc_wal_upperarm = pd.read_csv ('/Users/user/Desktop/realworld2016_dataset/proband14/data/acc_walking_csv/acc_walking_upperarm.csv')\n",
    "s14_acc_wal_waist = pd.read_csv ('/Users/user/Desktop/realworld2016_dataset/proband14/data/acc_walking_csv/acc_walking_waist.csv')\n"
   ]
  },
  {
   "cell_type": "code",
   "execution_count": 347,
   "id": "69ee2251",
   "metadata": {},
   "outputs": [],
   "source": [
    "s14_acc_cldn_chest.drop(['id', 'attr_time'], axis='columns', inplace=True)\n",
    "s14_acc_cldn_forearm.drop(['id', 'attr_time'], axis='columns', inplace=True)\n",
    "s14_acc_cldn_head.drop(['id', 'attr_time'], axis='columns', inplace=True)\n",
    "s14_acc_cldn_shin.drop(['id', 'attr_time'], axis='columns', inplace=True)\n",
    "s14_acc_cldn_thigh.drop(['id', 'attr_time'], axis='columns', inplace=True)\n",
    "s14_acc_cldn_upperarm.drop(['id', 'attr_time'], axis='columns', inplace=True)\n",
    "s14_acc_cldn_waist.drop(['id', 'attr_time'], axis='columns', inplace=True)"
   ]
  },
  {
   "cell_type": "code",
   "execution_count": 348,
   "id": "38f00be4",
   "metadata": {},
   "outputs": [],
   "source": [
    "s14_acc_clup_chest.drop(['id', 'attr_time'], axis='columns', inplace=True)\n",
    "s14_acc_clup_forearm.drop(['id', 'attr_time'], axis='columns', inplace=True)\n",
    "s14_acc_clup_head.drop(['id', 'attr_time'], axis='columns', inplace=True)\n",
    "s14_acc_clup_shin.drop(['id', 'attr_time'], axis='columns', inplace=True)\n",
    "s14_acc_clup_thigh.drop(['id', 'attr_time'], axis='columns', inplace=True)\n",
    "s14_acc_clup_upperarm.drop(['id', 'attr_time'], axis='columns', inplace=True)\n",
    "s14_acc_clup_waist.drop(['id', 'attr_time'], axis='columns', inplace=True)\n"
   ]
  },
  {
   "cell_type": "code",
   "execution_count": 349,
   "id": "c32dc198",
   "metadata": {},
   "outputs": [],
   "source": [
    "s14_acc_jump_chest.drop(['id', 'attr_time'], axis='columns', inplace=True)\n",
    "s14_acc_jump_forearm.drop(['id', 'attr_time'], axis='columns', inplace=True)\n",
    "s14_acc_jump_head.drop(['id', 'attr_time'], axis='columns', inplace=True)\n",
    "s14_acc_jump_shin.drop(['id', 'attr_time'], axis='columns', inplace=True)\n",
    "s14_acc_jump_thigh.drop(['id', 'attr_time'], axis='columns', inplace=True)\n",
    "s14_acc_jump_upperarm.drop(['id', 'attr_time'], axis='columns', inplace=True)\n",
    "s14_acc_jump_waist.drop(['id', 'attr_time'], axis='columns', inplace=True)"
   ]
  },
  {
   "cell_type": "code",
   "execution_count": 350,
   "id": "a76953e5",
   "metadata": {},
   "outputs": [],
   "source": [
    "s14_acc_ly_chest.drop(['id', 'attr_time'], axis='columns', inplace=True)\n",
    "s14_acc_ly_forearm.drop(['id', 'attr_time'], axis='columns', inplace=True)\n",
    "s14_acc_ly_head.drop(['id', 'attr_time'], axis='columns', inplace=True)\n",
    "s14_acc_ly_shin.drop(['id', 'attr_time'], axis='columns', inplace=True)\n",
    "s14_acc_ly_thigh.drop(['id', 'attr_time'], axis='columns', inplace=True)\n",
    "s14_acc_ly_upperarm.drop(['id', 'attr_time'], axis='columns', inplace=True)\n",
    "s14_acc_ly_waist.drop(['id', 'attr_time'], axis='columns', inplace=True)"
   ]
  },
  {
   "cell_type": "code",
   "execution_count": 351,
   "id": "22c40802",
   "metadata": {},
   "outputs": [],
   "source": [
    "s14_acc_run_chest.drop(['id', 'attr_time'], axis='columns', inplace=True)\n",
    "s14_acc_run_forearm.drop(['id', 'attr_time'], axis='columns', inplace=True)\n",
    "s14_acc_run_head.drop(['id', 'attr_time'], axis='columns', inplace=True)\n",
    "s14_acc_run_shin.drop(['id', 'attr_time'], axis='columns', inplace=True)\n",
    "s14_acc_run_thigh.drop(['id', 'attr_time'], axis='columns', inplace=True)\n",
    "s14_acc_run_upperarm.drop(['id', 'attr_time'], axis='columns', inplace=True)\n",
    "s14_acc_run_waist.drop(['id', 'attr_time'], axis='columns', inplace=True)"
   ]
  },
  {
   "cell_type": "code",
   "execution_count": 352,
   "id": "9b29bd8a",
   "metadata": {},
   "outputs": [],
   "source": [
    "s14_acc_sit_chest.drop(['id', 'attr_time'], axis='columns', inplace=True)\n",
    "s14_acc_sit_forearm.drop(['id', 'attr_time'], axis='columns', inplace=True)\n",
    "s14_acc_sit_head.drop(['id', 'attr_time'], axis='columns', inplace=True)\n",
    "s14_acc_sit_shin.drop(['id', 'attr_time'], axis='columns', inplace=True)\n",
    "s14_acc_sit_thigh.drop(['id', 'attr_time'], axis='columns', inplace=True)\n",
    "s14_acc_sit_upperarm.drop(['id', 'attr_time'], axis='columns', inplace=True)\n",
    "s14_acc_sit_waist.drop(['id', 'attr_time'], axis='columns', inplace=True)"
   ]
  },
  {
   "cell_type": "code",
   "execution_count": 353,
   "id": "0f27bece",
   "metadata": {},
   "outputs": [],
   "source": [
    "s14_acc_std_chest.drop(['id', 'attr_time'], axis='columns', inplace=True)\n",
    "s14_acc_std_forearm.drop(['id', 'attr_time'], axis='columns', inplace=True)\n",
    "s14_acc_std_head.drop(['id', 'attr_time'], axis='columns', inplace=True)\n",
    "s14_acc_std_shin.drop(['id', 'attr_time'], axis='columns', inplace=True)\n",
    "s14_acc_std_thigh.drop(['id', 'attr_time'], axis='columns', inplace=True)\n",
    "s14_acc_std_upperarm.drop(['id', 'attr_time'], axis='columns', inplace=True)\n",
    "s14_acc_std_waist.drop(['id', 'attr_time'], axis='columns', inplace=True)"
   ]
  },
  {
   "cell_type": "code",
   "execution_count": 354,
   "id": "1057d4bb",
   "metadata": {},
   "outputs": [],
   "source": [
    "s14_acc_wal_chest.drop(['id', 'attr_time'], axis='columns', inplace=True)\n",
    "s14_acc_wal_forearm.drop(['id', 'attr_time'], axis='columns', inplace=True)\n",
    "s14_acc_wal_head.drop(['id', 'attr_time'], axis='columns', inplace=True)\n",
    "s14_acc_wal_shin.drop(['id', 'attr_time'], axis='columns', inplace=True)\n",
    "s14_acc_wal_thigh.drop(['id', 'attr_time'], axis='columns', inplace=True)\n",
    "s14_acc_wal_upperarm.drop(['id', 'attr_time'], axis='columns', inplace=True)\n",
    "s14_acc_wal_waist.drop(['id', 'attr_time'], axis='columns', inplace=True)\n"
   ]
  },
  {
   "cell_type": "code",
   "execution_count": 355,
   "id": "fe2a90c5",
   "metadata": {},
   "outputs": [],
   "source": [
    "#acceleration climbing down for user 15"
   ]
  },
  {
   "cell_type": "code",
   "execution_count": 356,
   "id": "9af82d57",
   "metadata": {},
   "outputs": [],
   "source": [
    "s15_acc_cldn_chest = pd.read_csv ('/Users/user/Desktop/realworld2016_dataset/proband15/data/acc_climbingdown_csv/acc_climbingdown_chest.csv')\n",
    "s15_acc_cldn_forearm = pd.read_csv ('/Users/user/Desktop/realworld2016_dataset/proband15/data/acc_climbingdown_csv/acc_climbingdown_forearm.csv')\n",
    "s15_acc_cldn_head = pd.read_csv ('/Users/user/Desktop/realworld2016_dataset/proband15/data/acc_climbingdown_csv/acc_climbingdown_head.csv')\n",
    "s15_acc_cldn_shin = pd.read_csv ('/Users/user/Desktop/realworld2016_dataset/proband15/data/acc_climbingdown_csv/acc_climbingdown_shin.csv')\n",
    "s15_acc_cldn_thigh = pd.read_csv ('/Users/user/Desktop/realworld2016_dataset/proband15/data/acc_climbingdown_csv/acc_climbingdown_thigh.csv')\n",
    "s15_acc_cldn_upperarm = pd.read_csv ('/Users/user/Desktop/realworld2016_dataset/proband15/data/acc_climbingdown_csv/acc_climbingdown_upperarm.csv')\n",
    "s15_acc_cldn_waist = pd.read_csv ('/Users/user/Desktop/realworld2016_dataset/proband15/data/acc_climbingdown_csv/acc_climbingdown_waist.csv')"
   ]
  },
  {
   "cell_type": "code",
   "execution_count": 357,
   "id": "d7a70e78",
   "metadata": {},
   "outputs": [],
   "source": [
    "#acceleration climbing up for user 15"
   ]
  },
  {
   "cell_type": "code",
   "execution_count": 358,
   "id": "a63e1ac4",
   "metadata": {},
   "outputs": [],
   "source": [
    "s15_acc_clup_chest = pd.read_csv ('/Users/user/Desktop/realworld2016_dataset/proband15/data/acc_climbingup_csv/acc_climbingup_chest.csv')\n",
    "s15_acc_clup_forearm = pd.read_csv ('/Users/user/Desktop/realworld2016_dataset/proband15/data/acc_climbingup_csv/acc_climbingup_forearm.csv')\n",
    "s15_acc_clup_head = pd.read_csv ('/Users/user/Desktop/realworld2016_dataset/proband15/data/acc_climbingup_csv/acc_climbingup_head.csv')\n",
    "s15_acc_clup_shin = pd.read_csv ('/Users/user/Desktop/realworld2016_dataset/proband15/data/acc_climbingup_csv/acc_climbingup_shin.csv')\n",
    "s15_acc_clup_thigh = pd.read_csv ('/Users/user/Desktop/realworld2016_dataset/proband15/data/acc_climbingup_csv/acc_climbingup_thigh.csv')\n",
    "s15_acc_clup_upperarm = pd.read_csv ('/Users/user/Desktop/realworld2016_dataset/proband15/data/acc_climbingup_csv/acc_climbingup_upperarm.csv')\n",
    "s15_acc_clup_waist = pd.read_csv ('/Users/user/Desktop/realworld2016_dataset/proband15/data/acc_climbingup_csv/acc_climbingup_waist.csv')"
   ]
  },
  {
   "cell_type": "code",
   "execution_count": 359,
   "id": "e607ff8e",
   "metadata": {},
   "outputs": [],
   "source": [
    "#acceleration jumping for user 15"
   ]
  },
  {
   "cell_type": "code",
   "execution_count": 360,
   "id": "6383bb3d",
   "metadata": {},
   "outputs": [],
   "source": [
    "s15_acc_jump_chest = pd.read_csv ('/Users/user/Desktop/realworld2016_dataset/proband15/data/acc_jumping_csv/acc_jumping_chest.csv')\n",
    "s15_acc_jump_forearm = pd.read_csv ('/Users/user/Desktop/realworld2016_dataset/proband15/data/acc_jumping_csv/acc_jumping_forearm.csv')\n",
    "s15_acc_jump_head = pd.read_csv ('/Users/user/Desktop/realworld2016_dataset/proband15/data/acc_jumping_csv/acc_jumping_head.csv')\n",
    "s15_acc_jump_shin = pd.read_csv ('/Users/user/Desktop/realworld2016_dataset/proband15/data/acc_jumping_csv/acc_jumping_shin.csv')\n",
    "s15_acc_jump_thigh = pd.read_csv ('/Users/user/Desktop/realworld2016_dataset/proband15/data/acc_jumping_csv/acc_jumping_thigh.csv')\n",
    "s15_acc_jump_upperarm = pd.read_csv ('/Users/user/Desktop/realworld2016_dataset/proband15/data/acc_jumping_csv/acc_jumping_upperarm.csv')\n",
    "s15_acc_jump_waist = pd.read_csv ('/Users/user/Desktop/realworld2016_dataset/proband15/data/acc_jumping_csv/acc_jumping_waist.csv')"
   ]
  },
  {
   "cell_type": "code",
   "execution_count": 361,
   "id": "cce728a6",
   "metadata": {},
   "outputs": [],
   "source": [
    "#acceleration lying for user 15"
   ]
  },
  {
   "cell_type": "code",
   "execution_count": 362,
   "id": "b1d0b7d7",
   "metadata": {},
   "outputs": [],
   "source": [
    "s15_acc_ly_chest = pd.read_csv ('/Users/user/Desktop/realworld2016_dataset/proband15/data/acc_lying_csv/acc_lying_chest.csv')\n",
    "s15_acc_ly_forearm = pd.read_csv ('/Users/user/Desktop/realworld2016_dataset/proband15/data/acc_lying_csv/acc_lying_forearm.csv')\n",
    "s15_acc_ly_head = pd.read_csv ('/Users/user/Desktop/realworld2016_dataset/proband15/data/acc_lying_csv/acc_lying_head.csv')\n",
    "s15_acc_ly_shin = pd.read_csv ('/Users/user/Desktop/realworld2016_dataset/proband15/data/acc_lying_csv/acc_lying_shin.csv')\n",
    "s15_acc_ly_thigh = pd.read_csv ('/Users/user/Desktop/realworld2016_dataset/proband15/data/acc_lying_csv/acc_lying_thigh.csv')\n",
    "s15_acc_ly_upperarm = pd.read_csv ('/Users/user/Desktop/realworld2016_dataset/proband15/data/acc_lying_csv/acc_lying_upperarm.csv')\n",
    "s15_acc_ly_waist = pd.read_csv ('/Users/user/Desktop/realworld2016_dataset/proband15/data/acc_lying_csv/acc_lying_waist.csv')"
   ]
  },
  {
   "cell_type": "code",
   "execution_count": 363,
   "id": "1039625e",
   "metadata": {},
   "outputs": [],
   "source": [
    "#acceleration running for user 15"
   ]
  },
  {
   "cell_type": "code",
   "execution_count": 364,
   "id": "535de4f4",
   "metadata": {},
   "outputs": [],
   "source": [
    "s15_acc_run_chest = pd.read_csv ('/Users/user/Desktop/realworld2016_dataset/proband15/data/acc_running_csv/acc_running_chest.csv')\n",
    "s15_acc_run_forearm = pd.read_csv ('/Users/user/Desktop/realworld2016_dataset/proband15/data/acc_running_csv/acc_running_forearm.csv')\n",
    "s15_acc_run_head = pd.read_csv ('/Users/user/Desktop/realworld2016_dataset/proband15/data/acc_running_csv/acc_running_head.csv')\n",
    "s15_acc_run_shin = pd.read_csv ('/Users/user/Desktop/realworld2016_dataset/proband15/data/acc_running_csv/acc_running_shin.csv')\n",
    "s15_acc_run_thigh = pd.read_csv ('/Users/user/Desktop/realworld2016_dataset/proband15/data/acc_running_csv/acc_running_thigh.csv')\n",
    "s15_acc_run_upperarm = pd.read_csv ('/Users/user/Desktop/realworld2016_dataset/proband15/data/acc_running_csv/acc_running_upperarm.csv')\n",
    "s15_acc_run_waist = pd.read_csv ('/Users/user/Desktop/realworld2016_dataset/proband15/data/acc_running_csv/acc_running_waist.csv')\n"
   ]
  },
  {
   "cell_type": "code",
   "execution_count": 365,
   "id": "23e7ef8f",
   "metadata": {},
   "outputs": [],
   "source": [
    "#acceleration sitting for user 15"
   ]
  },
  {
   "cell_type": "code",
   "execution_count": 366,
   "id": "ad3eaac4",
   "metadata": {},
   "outputs": [],
   "source": [
    "s15_acc_sit_chest = pd.read_csv ('/Users/user/Desktop/realworld2016_dataset/proband15/data/acc_sitting_csv/acc_sitting_chest.csv')\n",
    "s15_acc_sit_forearm = pd.read_csv ('/Users/user/Desktop/realworld2016_dataset/proband15/data/acc_sitting_csv/acc_sitting_forearm.csv')\n",
    "s15_acc_sit_head = pd.read_csv ('/Users/user/Desktop/realworld2016_dataset/proband15/data/acc_sitting_csv/acc_sitting_head.csv')\n",
    "s15_acc_sit_shin = pd.read_csv ('/Users/user/Desktop/realworld2016_dataset/proband15/data/acc_sitting_csv/acc_sitting_shin.csv')\n",
    "s15_acc_sit_thigh = pd.read_csv ('/Users/user/Desktop/realworld2016_dataset/proband15/data/acc_sitting_csv/acc_sitting_thigh.csv')\n",
    "s15_acc_sit_upperarm = pd.read_csv ('/Users/user/Desktop/realworld2016_dataset/proband15/data/acc_sitting_csv/acc_sitting_upperarm.csv')\n",
    "s15_acc_sit_waist = pd.read_csv ('/Users/user/Desktop/realworld2016_dataset/proband15/data/acc_sitting_csv/acc_sitting_waist.csv')\n"
   ]
  },
  {
   "cell_type": "code",
   "execution_count": 367,
   "id": "0c937e97",
   "metadata": {},
   "outputs": [],
   "source": [
    "#acceleration standing for user 15"
   ]
  },
  {
   "cell_type": "code",
   "execution_count": 368,
   "id": "bdd045aa",
   "metadata": {},
   "outputs": [],
   "source": [
    "s15_acc_std_chest = pd.read_csv ('/Users/user/Desktop/realworld2016_dataset/proband15/data/acc_standing_csv/acc_standing_chest.csv')\n",
    "s15_acc_std_forearm = pd.read_csv ('/Users/user/Desktop/realworld2016_dataset/proband15/data/acc_standing_csv/acc_standing_forearm.csv')\n",
    "s15_acc_std_head = pd.read_csv ('/Users/user/Desktop/realworld2016_dataset/proband15/data/acc_standing_csv/acc_standing_head.csv')\n",
    "s15_acc_std_shin = pd.read_csv ('/Users/user/Desktop/realworld2016_dataset/proband15/data/acc_standing_csv/acc_standing_shin.csv')\n",
    "s15_acc_std_thigh = pd.read_csv ('/Users/user/Desktop/realworld2016_dataset/proband15/data/acc_standing_csv/acc_standing_thigh.csv')\n",
    "s15_acc_std_upperarm = pd.read_csv ('/Users/user/Desktop/realworld2016_dataset/proband15/data/acc_standing_csv/acc_standing_upperarm.csv')\n",
    "s15_acc_std_waist = pd.read_csv ('/Users/user/Desktop/realworld2016_dataset/proband15/data/acc_standing_csv/acc_standing_waist.csv')\n"
   ]
  },
  {
   "cell_type": "code",
   "execution_count": 369,
   "id": "c2c17333",
   "metadata": {},
   "outputs": [],
   "source": [
    "#acceleration walking for user 15"
   ]
  },
  {
   "cell_type": "code",
   "execution_count": 370,
   "id": "7a7902cd",
   "metadata": {},
   "outputs": [],
   "source": [
    "s15_acc_wal_chest = pd.read_csv ('/Users/user/Desktop/realworld2016_dataset/proband15/data/acc_walking_csv/acc_walking_chest.csv')\n",
    "s15_acc_wal_forearm = pd.read_csv ('/Users/user/Desktop/realworld2016_dataset/proband15/data/acc_walking_csv/acc_walking_forearm.csv')\n",
    "s15_acc_wal_head = pd.read_csv ('/Users/user/Desktop/realworld2016_dataset/proband15/data/acc_walking_csv/acc_walking_head.csv')\n",
    "s15_acc_wal_shin = pd.read_csv ('/Users/user/Desktop/realworld2016_dataset/proband15/data/acc_walking_csv/acc_walking_shin.csv')\n",
    "s15_acc_wal_thigh = pd.read_csv ('/Users/user/Desktop/realworld2016_dataset/proband15/data/acc_walking_csv/acc_walking_thigh.csv')\n",
    "s15_acc_wal_upperarm = pd.read_csv ('/Users/user/Desktop/realworld2016_dataset/proband15/data/acc_walking_csv/acc_walking_upperarm.csv')\n",
    "s15_acc_wal_waist = pd.read_csv ('/Users/user/Desktop/realworld2016_dataset/proband15/data/acc_walking_csv/acc_walking_waist.csv')"
   ]
  },
  {
   "cell_type": "code",
   "execution_count": 371,
   "id": "b8748f61",
   "metadata": {},
   "outputs": [],
   "source": [
    "s15_acc_cldn_chest.drop(['id', 'attr_time'], axis='columns', inplace=True)\n",
    "s15_acc_cldn_forearm.drop(['id', 'attr_time'], axis='columns', inplace=True)\n",
    "s15_acc_cldn_head.drop(['id', 'attr_time'], axis='columns', inplace=True)\n",
    "s15_acc_cldn_shin.drop(['id', 'attr_time'], axis='columns', inplace=True)\n",
    "s15_acc_cldn_thigh.drop(['id', 'attr_time'], axis='columns', inplace=True)\n",
    "s15_acc_cldn_upperarm.drop(['id', 'attr_time'], axis='columns', inplace=True)\n",
    "s15_acc_cldn_waist.drop(['id', 'attr_time'], axis='columns', inplace=True)"
   ]
  },
  {
   "cell_type": "code",
   "execution_count": 372,
   "id": "63cc7a6e",
   "metadata": {},
   "outputs": [],
   "source": [
    "\n",
    "s15_acc_clup_chest.drop(['id', 'attr_time'], axis='columns', inplace=True)\n",
    "s15_acc_clup_forearm.drop(['id', 'attr_time'], axis='columns', inplace=True)\n",
    "s15_acc_clup_head.drop(['id', 'attr_time'], axis='columns', inplace=True)\n",
    "s15_acc_clup_shin.drop(['id', 'attr_time'], axis='columns', inplace=True)\n",
    "s15_acc_clup_thigh.drop(['id', 'attr_time'], axis='columns', inplace=True)\n",
    "s15_acc_clup_upperarm.drop(['id', 'attr_time'], axis='columns', inplace=True)\n",
    "s15_acc_clup_waist.drop(['id', 'attr_time'], axis='columns', inplace=True)"
   ]
  },
  {
   "cell_type": "code",
   "execution_count": 373,
   "id": "46979b7e",
   "metadata": {},
   "outputs": [],
   "source": [
    "s15_acc_jump_chest.drop(['id', 'attr_time'], axis='columns', inplace=True)\n",
    "s15_acc_jump_forearm.drop(['id', 'attr_time'], axis='columns', inplace=True)\n",
    "s15_acc_jump_head.drop(['id', 'attr_time'], axis='columns', inplace=True)\n",
    "s15_acc_jump_shin.drop(['id', 'attr_time'], axis='columns', inplace=True)\n",
    "s15_acc_jump_thigh.drop(['id', 'attr_time'], axis='columns', inplace=True)\n",
    "s15_acc_jump_upperarm.drop(['id', 'attr_time'], axis='columns', inplace=True)\n",
    "s15_acc_jump_waist.drop(['id', 'attr_time'], axis='columns', inplace=True)"
   ]
  },
  {
   "cell_type": "code",
   "execution_count": 374,
   "id": "3d706e47",
   "metadata": {},
   "outputs": [],
   "source": [
    "s15_acc_ly_chest.drop(['id', 'attr_time'], axis='columns', inplace=True)\n",
    "s15_acc_ly_forearm.drop(['id', 'attr_time'], axis='columns', inplace=True)\n",
    "s15_acc_ly_head.drop(['id', 'attr_time'], axis='columns', inplace=True)\n",
    "s15_acc_ly_shin.drop(['id', 'attr_time'], axis='columns', inplace=True)\n",
    "s15_acc_ly_thigh.drop(['id', 'attr_time'], axis='columns', inplace=True)\n",
    "s15_acc_ly_upperarm.drop(['id', 'attr_time'], axis='columns', inplace=True)\n",
    "s15_acc_ly_waist.drop(['id', 'attr_time'], axis='columns', inplace=True)"
   ]
  },
  {
   "cell_type": "code",
   "execution_count": 375,
   "id": "3b9b3ffb",
   "metadata": {},
   "outputs": [],
   "source": [
    "s15_acc_run_chest.drop(['id', 'attr_time'], axis='columns', inplace=True)\n",
    "s15_acc_run_forearm.drop(['id', 'attr_time'], axis='columns', inplace=True)\n",
    "s15_acc_run_head.drop(['id', 'attr_time'], axis='columns', inplace=True)\n",
    "s15_acc_run_shin.drop(['id', 'attr_time'], axis='columns', inplace=True)\n",
    "s15_acc_run_thigh.drop(['id', 'attr_time'], axis='columns', inplace=True)\n",
    "s15_acc_run_upperarm.drop(['id', 'attr_time'], axis='columns', inplace=True)\n",
    "s15_acc_run_waist.drop(['id', 'attr_time'], axis='columns', inplace=True)\n"
   ]
  },
  {
   "cell_type": "code",
   "execution_count": 376,
   "id": "64907393",
   "metadata": {},
   "outputs": [],
   "source": [
    "s15_acc_sit_chest.drop(['id', 'attr_time'], axis='columns', inplace=True)\n",
    "s15_acc_sit_forearm.drop(['id', 'attr_time'], axis='columns', inplace=True)\n",
    "s15_acc_sit_head.drop(['id', 'attr_time'], axis='columns', inplace=True)\n",
    "s15_acc_sit_shin.drop(['id', 'attr_time'], axis='columns', inplace=True)\n",
    "s15_acc_sit_thigh.drop(['id', 'attr_time'], axis='columns', inplace=True)\n",
    "s15_acc_sit_upperarm.drop(['id', 'attr_time'], axis='columns', inplace=True)\n",
    "s15_acc_sit_waist.drop(['id', 'attr_time'], axis='columns', inplace=True)"
   ]
  },
  {
   "cell_type": "code",
   "execution_count": 377,
   "id": "f30e448e",
   "metadata": {},
   "outputs": [],
   "source": [
    "s15_acc_std_chest.drop(['id', 'attr_time'], axis='columns', inplace=True)\n",
    "s15_acc_std_forearm.drop(['id', 'attr_time'], axis='columns', inplace=True)\n",
    "s15_acc_std_head.drop(['id', 'attr_time'], axis='columns', inplace=True)\n",
    "s15_acc_std_shin.drop(['id', 'attr_time'], axis='columns', inplace=True)\n",
    "s15_acc_std_thigh.drop(['id', 'attr_time'], axis='columns', inplace=True)\n",
    "s15_acc_std_upperarm.drop(['id', 'attr_time'], axis='columns', inplace=True)\n",
    "s15_acc_std_waist.drop(['id', 'attr_time'], axis='columns', inplace=True)"
   ]
  },
  {
   "cell_type": "code",
   "execution_count": 378,
   "id": "a0d7bb27",
   "metadata": {},
   "outputs": [],
   "source": [
    "s15_acc_wal_chest.drop(['id', 'attr_time'], axis='columns', inplace=True)\n",
    "s15_acc_wal_forearm.drop(['id', 'attr_time'], axis='columns', inplace=True)\n",
    "s15_acc_wal_head.drop(['id', 'attr_time'], axis='columns', inplace=True)\n",
    "s15_acc_wal_shin.drop(['id', 'attr_time'], axis='columns', inplace=True)\n",
    "s15_acc_wal_thigh.drop(['id', 'attr_time'], axis='columns', inplace=True)\n",
    "s15_acc_wal_upperarm.drop(['id', 'attr_time'], axis='columns', inplace=True)\n",
    "s15_acc_wal_waist.drop(['id', 'attr_time'], axis='columns', inplace=True)\n"
   ]
  },
  {
   "cell_type": "code",
   "execution_count": 379,
   "id": "e4902b43",
   "metadata": {},
   "outputs": [],
   "source": [
    "def filtering(data):\n",
    "    data_filt = data\n",
    "    i, j = signal.cheby1(2, 0.001, 0.0003)\n",
    "    for col in data:\n",
    "        data_filt[col] = signal.filtfilt(i, j, data[col])\n",
    "    return data_filt\n"
   ]
  },
  {
   "cell_type": "code",
   "execution_count": 380,
   "id": "4a40ef48",
   "metadata": {},
   "outputs": [],
   "source": [
    "def Parseval_acc_gyr_mag(data):\n",
    "    par = [1]*3\n",
    "    x=0\n",
    "    for col in data:\n",
    "        par[x] = np.sum(np.array(data[col])**2) #Time domain energy\n",
    "        x=x+1\n",
    "    \n",
    "    return np.array(par)"
   ]
  },
  {
   "cell_type": "code",
   "execution_count": 381,
   "id": "7533c755",
   "metadata": {},
   "outputs": [],
   "source": [
    "def Skewness_acc_gyr_mag(data):\n",
    "    sk = [1]*3\n",
    "    x=0\n",
    "    for col in data:\n",
    "        sk[x] = skew(data[col])\n",
    "        x=x+1\n",
    "    \n",
    "    return np.array(sk)"
   ]
  },
  {
   "cell_type": "code",
   "execution_count": 382,
   "id": "a2e00753",
   "metadata": {},
   "outputs": [],
   "source": [
    "def Fft_MaxMinDiff_acc_gyr_mag(data):\n",
    "    max_min_diff = [1]*3\n",
    "    dt = 0.001\n",
    "    t = np.arange(0,1,dt)\n",
    "    n = len(t)\n",
    "    x=0\n",
    "    for col in data:\n",
    "        fhat = np.fft.fft(data[col])\n",
    "        PSD = fhat*np.conj(fhat)/n\n",
    "        freq = (1/(dt*n)) * np.arange(n)\n",
    "        max_min_diff[x] = (max(PSD.real)-min(PSD.real))\n",
    "        x=x+1"
   ]
  },
  {
   "cell_type": "code",
   "execution_count": 383,
   "id": "bf6392d5",
   "metadata": {},
   "outputs": [],
   "source": [
    "def Fft_MaxMinRatio_acc_gyr_mag(data):\n",
    "    max_min_ratio = [1]*3\n",
    "    dt = 0.001\n",
    "    t = np.arange(0,1,dt)\n",
    "    n = len(t)\n",
    "    x=0\n",
    "    for col in data:\n",
    "        fhat = np.fft.fft(data[col])\n",
    "        PSD = fhat*np.conj(fhat)/n\n",
    "        freq = (1/(dt*n)) * np.arange(n)\n",
    "        max_min_ratio[x] = (max(PSD.real)/min(PSD.real))\n",
    "        x=x+1\n",
    "    \n",
    "    return np.array(max_min_ratio)\n"
   ]
  },
  {
   "cell_type": "code",
   "execution_count": 384,
   "id": "66c5c630",
   "metadata": {},
   "outputs": [],
   "source": [
    "def AR_Coef_acc_gyr_mag(data):\n",
    "    ar = [1]*3\n",
    "    var = [1]*3\n",
    "    reflec = [1]*3\n",
    "    \n",
    "    x=0\n",
    "    for col in data:\n",
    "        [ar[x], var[x], reflec[x]] = yule_walker(data[col], 1)\n",
    "        x=x+1\n",
    "\n",
    "    chain = itertools.chain.from_iterable(ar)\n",
    "    ar_flat = list(chain)\n",
    "    arCoef = ar_flat\n",
    "    \n",
    "    return np.array(arCoef)"
   ]
  },
  {
   "cell_type": "code",
   "execution_count": 385,
   "id": "34f19777",
   "metadata": {},
   "outputs": [],
   "source": [
    "s1_acc_cldn_chest_filt = filtering(s1_acc_cldn_chest)\n",
    "s1_acc_cldn_forearm_filt = filtering(s1_acc_cldn_forearm)\n",
    "s1_acc_cldn_head_filt = filtering(s1_acc_cldn_head)\n",
    "s1_acc_cldn_shin_filt = filtering(s1_acc_cldn_shin)\n",
    "s1_acc_cldn_thigh_filt = filtering(s1_acc_cldn_thigh)\n",
    "s1_acc_cldn_upperarm_filt = filtering(s1_acc_cldn_upperarm)\n",
    "s1_acc_cldn_waist_filt = filtering(s1_acc_cldn_waist)\n"
   ]
  },
  {
   "cell_type": "code",
   "execution_count": 386,
   "id": "cb82b90f",
   "metadata": {},
   "outputs": [
    {
     "data": {
      "image/png": "[encoded data removed]",
      "text/plain": [
       "<Figure size 432x288 with 1 Axes>"
      ]
     },
     "metadata": {
      "needs_background": "light"
     },
     "output_type": "display_data"
    }
   ],
   "source": [
    "plt.plot(s1_acc_cldn_waist['attr_z'], label='Noisy', color='lightblue')\n",
    "plt.plot(s1_acc_cldn_waist_filt['attr_z'], label='filtered', color='orange')\n",
    "plt.xlabel('samples',fontweight='bold',fontsize='10')\n",
    "plt.ylabel('amplitude',fontweight='bold',fontsize='10')\n",
    "plt.title('Noisy vs Filtered signal',fontweight='bold',fontsize='15')\n",
    "plt.legend(loc='best')\n",
    "plt.grid()"
   ]
  },
  {
   "cell_type": "code",
   "execution_count": 387,
   "id": "a61aeca2",
   "metadata": {},
   "outputs": [],
   "source": [
    "s1_acc_clup_chest_filt = filtering(s1_acc_clup_chest)\n",
    "s1_acc_clup_forearm_filt = filtering(s1_acc_clup_forearm)\n",
    "s1_acc_clup_head_filt = filtering(s1_acc_clup_head)\n",
    "s1_acc_clup_shin_filt = filtering(s1_acc_clup_shin)\n",
    "s1_acc_clup_thigh_filt = filtering(s1_acc_clup_thigh)\n",
    "s1_acc_clup_upperarm_filt = filtering(s1_acc_clup_upperarm)\n",
    "s1_acc_clup_waist_filt = filtering(s1_acc_clup_waist)"
   ]
  },
  {
   "cell_type": "code",
   "execution_count": 388,
   "id": "e7ed884c",
   "metadata": {},
   "outputs": [],
   "source": [
    "s1_acc_jump_chest_filt = filtering(s1_acc_jump_chest)\n",
    "s1_acc_jump_forearm_filt = filtering(s1_acc_jump_forearm)\n",
    "s1_acc_jump_head_filt = filtering(s1_acc_jump_head)\n",
    "s1_acc_jump_shin_filt = filtering(s1_acc_jump_shin)\n",
    "s1_acc_jump_thigh_filt = filtering(s1_acc_jump_thigh)\n",
    "s1_acc_jump_upperarm_filt = filtering(s1_acc_jump_upperarm)\n",
    "s1_acc_jump_waist_filt = filtering(s1_acc_jump_waist)\n"
   ]
  },
  {
   "cell_type": "code",
   "execution_count": 389,
   "id": "72c299e2",
   "metadata": {},
   "outputs": [],
   "source": [
    "s1_acc_ly_chest_filt = filtering(s1_acc_ly_chest)\n",
    "s1_acc_ly_forearm_filt = filtering(s1_acc_ly_forearm)\n",
    "s1_acc_ly_head_filt = filtering(s1_acc_ly_head)\n",
    "s1_acc_ly_shin_filt = filtering(s1_acc_ly_shin)\n",
    "s1_acc_ly_thigh_filt = filtering(s1_acc_ly_thigh)\n",
    "s1_acc_ly_upperarm_filt = filtering(s1_acc_ly_upperarm)\n",
    "s1_acc_ly_waist_filt = filtering(s1_acc_ly_waist)"
   ]
  },
  {
   "cell_type": "code",
   "execution_count": 390,
   "id": "fe1b9d9c",
   "metadata": {},
   "outputs": [],
   "source": [
    "s1_acc_run_chest_filt = filtering(s1_acc_run_chest)\n",
    "s1_acc_run_forearm_filt = filtering(s1_acc_run_forearm)\n",
    "s1_acc_run_head_filt = filtering(s1_acc_run_head)\n",
    "s1_acc_run_shin_filt = filtering(s1_acc_run_shin)\n",
    "s1_acc_run_thigh_filt = filtering(s1_acc_run_thigh)\n",
    "s1_acc_run_upperarm_filt = filtering(s1_acc_run_upperarm)\n",
    "s1_acc_run_waist_filt = filtering(s1_acc_run_waist)\n"
   ]
  },
  {
   "cell_type": "code",
   "execution_count": 391,
   "id": "a92d2885",
   "metadata": {},
   "outputs": [
    {
     "data": {
      "text/plain": [
       "[<matplotlib.lines.Line2D at 0x7f7f121b9eb0>]"
      ]
     },
     "execution_count": 391,
     "metadata": {},
     "output_type": "execute_result"
    },
    {
     "data": {
      "image/png": "[encoded data removed]",
      "text/plain": [
       "<Figure size 432x288 with 1 Axes>"
      ]
     },
     "metadata": {
      "needs_background": "light"
     },
     "output_type": "display_data"
    }
   ],
   "source": [
    "plt.plot(s1_acc_run_waist['attr_x'])"
   ]
  },
  {
   "cell_type": "code",
   "execution_count": 392,
   "id": "a495150a",
   "metadata": {},
   "outputs": [],
   "source": [
    "s1_acc_sit_chest_filt = filtering(s1_acc_sit_chest)\n",
    "s1_acc_sit_forearm_filt = filtering(s1_acc_sit_forearm)\n",
    "s1_acc_sit_head_filt = filtering(s1_acc_sit_head)\n",
    "s1_acc_sit_shin_filt = filtering(s1_acc_sit_shin)\n",
    "s1_acc_sit_thigh_filt = filtering(s1_acc_sit_thigh)\n",
    "s1_acc_sit_upperarm_filt = filtering(s1_acc_sit_upperarm)\n",
    "s1_acc_sit_waist_filt = filtering(s1_acc_sit_waist)\n"
   ]
  },
  {
   "cell_type": "code",
   "execution_count": 393,
   "id": "fc6f8f6e",
   "metadata": {},
   "outputs": [],
   "source": [
    "s1_acc_std_chest_filt = filtering(s1_acc_std_chest)\n",
    "s1_acc_std_forearm_filt = filtering(s1_acc_std_forearm)\n",
    "s1_acc_std_head_filt = filtering(s1_acc_std_head)\n",
    "s1_acc_std_shin_filt = filtering(s1_acc_std_shin)\n",
    "s1_acc_std_thigh_filt = filtering(s1_acc_std_thigh)\n",
    "s1_acc_std_upperarm_filt = filtering(s1_acc_std_upperarm)\n",
    "s1_acc_std_waist_filt = filtering(s1_acc_std_waist)\n"
   ]
  },
  {
   "cell_type": "code",
   "execution_count": 394,
   "id": "72c06c61",
   "metadata": {},
   "outputs": [],
   "source": [
    "s1_acc_wal_chest_filt = filtering(s1_acc_wal_chest)\n",
    "s1_acc_wal_forearm_filt = filtering(s1_acc_wal_forearm)\n",
    "s1_acc_wal_head_filt = filtering(s1_acc_wal_head)\n",
    "s1_acc_wal_shin_filt = filtering(s1_acc_wal_shin)\n",
    "s1_acc_wal_thigh_filt = filtering(s1_acc_wal_thigh)\n",
    "s1_acc_wal_upperarm_filt = filtering(s1_acc_wal_upperarm)\n",
    "s1_acc_wal_waist_filt = filtering(s1_acc_wal_waist)\n"
   ]
  },
  {
   "cell_type": "code",
   "execution_count": 395,
   "id": "069da5e4",
   "metadata": {},
   "outputs": [],
   "source": [
    "#filter for user 2"
   ]
  },
  {
   "cell_type": "code",
   "execution_count": 396,
   "id": "09719794",
   "metadata": {},
   "outputs": [],
   "source": [
    "s2_acc_cldn_chest_filt = filtering(s2_acc_cldn_chest)\n",
    "s2_acc_cldn_forearm_filt = filtering(s2_acc_cldn_forearm)\n",
    "s2_acc_cldn_head_filt = filtering(s2_acc_cldn_head)\n",
    "s2_acc_cldn_shin_filt = filtering(s2_acc_cldn_shin)\n",
    "s2_acc_cldn_thigh_filt = filtering(s2_acc_cldn_thigh)\n",
    "s2_acc_cldn_upperarm_filt = filtering(s2_acc_cldn_upperarm)\n",
    "s2_acc_cldn_waist_filt = filtering(s2_acc_cldn_waist)"
   ]
  },
  {
   "cell_type": "code",
   "execution_count": 397,
   "id": "0430f1dc",
   "metadata": {},
   "outputs": [],
   "source": [
    "s2_acc_clup_chest_filt = filtering(s2_acc_clup_chest)\n",
    "s2_acc_clup_head_filt = filtering(s2_acc_clup_head)\n",
    "s2_acc_clup_shin_filt = filtering(s2_acc_clup_shin)\n",
    "s2_acc_clup_thigh_filt = filtering(s2_acc_clup_thigh)\n",
    "s2_acc_clup_upperarm_filt = filtering(s2_acc_clup_upperarm)\n",
    "s2_acc_clup_waist_filt = filtering(s2_acc_clup_waist)\n"
   ]
  },
  {
   "cell_type": "code",
   "execution_count": 398,
   "id": "4ddc659e",
   "metadata": {},
   "outputs": [],
   "source": [
    "s2_acc_jump_chest_filt = filtering(s2_acc_jump_chest)\n",
    "s2_acc_jump_forearm_filt = filtering(s2_acc_jump_forearm)\n",
    "s2_acc_jump_head_filt = filtering(s2_acc_jump_head)\n",
    "s2_acc_jump_shin_filt = filtering(s2_acc_jump_shin)\n",
    "s2_acc_jump_thigh_filt = filtering(s2_acc_jump_thigh)\n",
    "s2_acc_jump_upperarm_filt = filtering(s2_acc_jump_upperarm)\n",
    "s2_acc_jump_waist_filt = filtering(s2_acc_jump_waist)"
   ]
  },
  {
   "cell_type": "code",
   "execution_count": 399,
   "id": "57ac5be0",
   "metadata": {},
   "outputs": [],
   "source": [
    "s2_acc_ly_chest_filt = filtering(s2_acc_ly_chest)\n",
    "s2_acc_ly_forearm_filt = filtering(s2_acc_ly_forearm)\n",
    "s2_acc_ly_head_filt = filtering(s2_acc_ly_head)\n",
    "s2_acc_ly_shin_filt = filtering(s2_acc_ly_shin)\n",
    "s2_acc_ly_thigh_filt = filtering(s2_acc_ly_thigh)\n",
    "s2_acc_ly_upperarm_filt = filtering(s2_acc_ly_upperarm)\n",
    "s2_acc_ly_waist_filt = filtering(s2_acc_ly_waist)"
   ]
  },
  {
   "cell_type": "code",
   "execution_count": 400,
   "id": "d49b3cdd",
   "metadata": {},
   "outputs": [],
   "source": [
    "s2_acc_run_chest_filt = filtering(s2_acc_run_chest)\n",
    "s2_acc_run_forearm_filt = filtering(s2_acc_run_forearm)\n",
    "s2_acc_run_head_filt = filtering(s2_acc_run_head)\n",
    "s2_acc_run_shin_filt = filtering(s2_acc_run_shin)\n",
    "s2_acc_run_thigh_filt = filtering(s2_acc_run_thigh)\n",
    "s2_acc_run_upperarm_filt = filtering(s2_acc_run_upperarm)\n",
    "s2_acc_run_waist_filt = filtering(s2_acc_run_waist)"
   ]
  },
  {
   "cell_type": "code",
   "execution_count": 401,
   "id": "7bf4b0d8",
   "metadata": {},
   "outputs": [],
   "source": [
    "s2_acc_sit_chest_filt = filtering(s2_acc_sit_chest)\n",
    "s2_acc_sit_forearm_filt = filtering(s2_acc_sit_forearm)\n",
    "s2_acc_sit_head_filt = filtering(s2_acc_sit_head)\n",
    "s2_acc_sit_shin_filt = filtering(s2_acc_sit_shin)\n",
    "s2_acc_sit_thigh_filt = filtering(s2_acc_sit_thigh)\n",
    "s2_acc_sit_upperarm_filt = filtering(s2_acc_sit_upperarm)\n",
    "s2_acc_sit_waist_filt = filtering(s2_acc_sit_waist)\n"
   ]
  },
  {
   "cell_type": "code",
   "execution_count": 402,
   "id": "f1ec252c",
   "metadata": {},
   "outputs": [],
   "source": [
    "s2_acc_std_chest_filt = filtering(s2_acc_std_chest)\n",
    "s2_acc_std_forearm_filt = filtering(s2_acc_std_forearm)\n",
    "s2_acc_std_head_filt = filtering(s2_acc_std_head)\n",
    "s2_acc_std_shin_filt = filtering(s2_acc_std_shin)\n",
    "s2_acc_std_thigh_filt = filtering(s2_acc_std_thigh)\n",
    "s2_acc_std_upperarm_filt = filtering(s2_acc_std_upperarm)\n",
    "s2_acc_std_waist_filt = filtering(s2_acc_std_waist)"
   ]
  },
  {
   "cell_type": "code",
   "execution_count": 403,
   "id": "89d9053e",
   "metadata": {},
   "outputs": [],
   "source": [
    "s2_acc_wal_chest_filt = filtering(s2_acc_wal_chest)\n",
    "s2_acc_wal_forearm_filt = filtering(s2_acc_wal_forearm)\n",
    "s2_acc_wal_head_filt = filtering(s2_acc_wal_head)\n",
    "s2_acc_wal_shin_filt = filtering(s2_acc_wal_shin)\n",
    "s2_acc_wal_thigh_filt = filtering(s2_acc_wal_thigh)\n",
    "s2_acc_wal_upperarm_filt = filtering(s2_acc_wal_upperarm)\n",
    "s2_acc_wal_waist_filt = filtering(s2_acc_wal_waist)"
   ]
  },
  {
   "cell_type": "code",
   "execution_count": 404,
   "id": "1dd11314",
   "metadata": {},
   "outputs": [],
   "source": [
    "s3_acc_cldn_chest_filt = filtering(s3_acc_cldn_chest)\n",
    "s3_acc_cldn_forearm_filt = filtering(s3_acc_cldn_forearm)\n",
    "s3_acc_cldn_head_filt = filtering(s3_acc_cldn_head)\n",
    "s3_acc_cldn_shin_filt = filtering(s3_acc_cldn_shin)\n",
    "s3_acc_cldn_thigh_filt = filtering(s3_acc_cldn_thigh)\n",
    "s3_acc_cldn_upperarm_filt = filtering(s3_acc_cldn_upperarm)\n",
    "s3_acc_cldn_waist_filt = filtering(s3_acc_cldn_waist)"
   ]
  },
  {
   "cell_type": "code",
   "execution_count": 405,
   "id": "9ccbe29f",
   "metadata": {},
   "outputs": [],
   "source": [
    "s3_acc_clup_chest_filt = filtering(s3_acc_clup_chest)\n",
    "s3_acc_clup_forearm_filt = filtering(s3_acc_clup_forearm)\n",
    "s3_acc_clup_head_filt = filtering(s3_acc_clup_head)\n",
    "s3_acc_clup_shin_filt = filtering(s3_acc_clup_shin)\n",
    "s3_acc_clup_thigh_filt = filtering(s3_acc_clup_thigh)\n",
    "s3_acc_clup_upperarm_filt = filtering(s3_acc_clup_upperarm)\n",
    "s3_acc_clup_waist_filt = filtering(s3_acc_clup_waist)"
   ]
  },
  {
   "cell_type": "code",
   "execution_count": 406,
   "id": "f68beeee",
   "metadata": {},
   "outputs": [],
   "source": [
    "s3_acc_jump_chest_filt = filtering(s3_acc_jump_chest)\n",
    "s3_acc_jump_forearm_filt = filtering(s3_acc_jump_forearm)\n",
    "s3_acc_jump_head_filt = filtering(s3_acc_jump_head)\n",
    "s3_acc_jump_shin_filt = filtering(s3_acc_jump_shin)\n",
    "s3_acc_jump_thigh_filt = filtering(s3_acc_jump_thigh)\n",
    "s3_acc_jump_upperarm_filt = filtering(s3_acc_jump_upperarm)\n",
    "s3_acc_jump_waist_filt = filtering(s3_acc_jump_waist)"
   ]
  },
  {
   "cell_type": "code",
   "execution_count": 407,
   "id": "7aae919b",
   "metadata": {},
   "outputs": [],
   "source": [
    "s3_acc_ly_chest_filt = filtering(s3_acc_ly_chest)\n",
    "s3_acc_ly_forearm_filt = filtering(s3_acc_ly_forearm)\n",
    "s3_acc_ly_head_filt = filtering(s3_acc_ly_head)\n",
    "s3_acc_ly_shin_filt = filtering(s3_acc_ly_shin)\n",
    "s3_acc_ly_thigh_filt = filtering(s3_acc_ly_thigh)\n",
    "s3_acc_ly_upperarm_filt = filtering(s3_acc_ly_upperarm)\n",
    "s3_acc_ly_waist_filt = filtering(s3_acc_ly_waist)"
   ]
  },
  {
   "cell_type": "code",
   "execution_count": 408,
   "id": "9eeb797f",
   "metadata": {},
   "outputs": [],
   "source": [
    "s3_acc_run_chest_filt = filtering(s3_acc_run_chest)\n",
    "s3_acc_run_forearm_filt = filtering(s3_acc_run_forearm)\n",
    "s3_acc_run_head_filt = filtering(s3_acc_run_head)\n",
    "s3_acc_run_shin_filt = filtering(s3_acc_run_shin)\n",
    "s3_acc_run_thigh_filt = filtering(s3_acc_run_thigh)\n",
    "s3_acc_run_upperarm_filt = filtering(s3_acc_run_upperarm)\n",
    "s3_acc_run_waist_filt = filtering(s3_acc_run_waist)"
   ]
  },
  {
   "cell_type": "code",
   "execution_count": 409,
   "id": "874cf48c",
   "metadata": {},
   "outputs": [
    {
     "data": {
      "text/plain": [
       "<matplotlib.legend.Legend at 0x7f7f12f11d60>"
      ]
     },
     "execution_count": 409,
     "metadata": {},
     "output_type": "execute_result"
    },
    {
     "data": {
      "image/png": "[encoded data removed]",
      "text/plain": [
       "<Figure size 432x288 with 1 Axes>"
      ]
     },
     "metadata": {
      "needs_background": "light"
     },
     "output_type": "display_data"
    }
   ],
   "source": [
    "plt.plot(s3_acc_run_chest['attr_x'],label='Noisy', color='lightblue')\n",
    "#plt.plot(s3_acc_run_chest_filt['attr_x'],label='Filtered', color='orange')\n",
    "plt.legend(loc='best')\n"
   ]
  },
  {
   "cell_type": "code",
   "execution_count": 410,
   "id": "9b1dde19",
   "metadata": {},
   "outputs": [],
   "source": [
    "s3_acc_sit_chest_filt = filtering(s3_acc_sit_chest)\n",
    "s3_acc_sit_forearm_filt = filtering(s3_acc_sit_forearm)\n",
    "s3_acc_sit_head_filt = filtering(s3_acc_sit_head)\n",
    "s3_acc_sit_shin_filt = filtering(s3_acc_sit_shin)\n",
    "s3_acc_sit_thigh_filt = filtering(s3_acc_sit_thigh)\n",
    "s3_acc_sit_upperarm_filt = filtering(s3_acc_sit_upperarm)\n",
    "s3_acc_sit_waist_filt = filtering(s3_acc_sit_waist)\n"
   ]
  },
  {
   "cell_type": "code",
   "execution_count": 411,
   "id": "68f5dd67",
   "metadata": {},
   "outputs": [],
   "source": [
    "s3_acc_std_chest_filt = filtering(s3_acc_std_chest)\n",
    "s3_acc_std_forearm_filt = filtering(s3_acc_std_forearm)\n",
    "s3_acc_std_head_filt = filtering(s3_acc_std_head)\n",
    "s3_acc_std_shin_filt = filtering(s3_acc_std_shin)\n",
    "s3_acc_std_thigh_filt = filtering(s3_acc_std_thigh)\n",
    "s3_acc_std_upperarm_filt = filtering(s3_acc_std_upperarm)\n",
    "s3_acc_std_waist_filt = filtering(s3_acc_std_waist)"
   ]
  },
  {
   "cell_type": "code",
   "execution_count": 412,
   "id": "483bbd79",
   "metadata": {},
   "outputs": [],
   "source": [
    "s3_acc_wal_chest_filt = filtering(s3_acc_wal_chest)\n",
    "s3_acc_wal_forearm_filt = filtering(s3_acc_wal_forearm)\n",
    "s3_acc_wal_head_filt = filtering(s3_acc_wal_head)\n",
    "s3_acc_wal_shin_filt = filtering(s3_acc_wal_shin)\n",
    "s3_acc_wal_thigh_filt = filtering(s3_acc_wal_thigh)\n",
    "s3_acc_wal_upperarm_filt = filtering(s3_acc_wal_upperarm)\n",
    "s3_acc_wal_waist_filt = filtering(s3_acc_wal_waist)"
   ]
  },
  {
   "cell_type": "code",
   "execution_count": 413,
   "id": "17050af9",
   "metadata": {},
   "outputs": [],
   "source": [
    "#filter for user 4"
   ]
  },
  {
   "cell_type": "code",
   "execution_count": 414,
   "id": "a2a09e47",
   "metadata": {},
   "outputs": [],
   "source": [
    "s4_acc_cldn_chest_filt = filtering(s4_acc_cldn_chest)\n",
    "s4_acc_cldn_forearm_filt = filtering(s4_acc_cldn_forearm)\n",
    "s4_acc_cldn_head_filt = filtering(s4_acc_cldn_head)\n",
    "s4_acc_cldn_shin_filt = filtering(s4_acc_cldn_shin)\n",
    "s4_acc_cldn_thigh_filt = filtering(s4_acc_cldn_thigh)\n",
    "s4_acc_cldn_upperarm_filt = filtering(s4_acc_cldn_upperarm)\n",
    "s4_acc_cldn_waist_filt = filtering(s4_acc_cldn_waist)"
   ]
  },
  {
   "cell_type": "code",
   "execution_count": 415,
   "id": "d3075d82",
   "metadata": {},
   "outputs": [],
   "source": [
    "s4_acc_clup_chest_filt = filtering(s4_acc_clup_chest)\n",
    "s4_acc_clup_forearm_filt = filtering(s4_acc_clup_forearm)\n",
    "s4_acc_clup_head_filt = filtering(s4_acc_clup_head)\n",
    "s4_acc_clup_shin_filt = filtering(s4_acc_clup_shin)\n",
    "s4_acc_clup_thigh_filt = filtering(s4_acc_clup_thigh)\n",
    "s4_acc_clup_upperarm_filt = filtering(s4_acc_clup_upperarm)\n",
    "s4_acc_clup_waist_filt = filtering(s4_acc_clup_waist)"
   ]
  },
  {
   "cell_type": "code",
   "execution_count": 416,
   "id": "1ff82e1b",
   "metadata": {},
   "outputs": [],
   "source": [
    "s4_acc_jump_chest_filt = filtering(s4_acc_jump_chest)\n",
    "s4_acc_jump_forearm_filt = filtering(s4_acc_jump_forearm)\n",
    "s4_acc_jump_head_filt = filtering(s4_acc_jump_head)\n",
    "s4_acc_jump_shin_filt = filtering(s4_acc_jump_shin)\n",
    "s4_acc_jump_thigh_filt = filtering(s4_acc_jump_thigh)\n",
    "s4_acc_jump_upperarm_filt = filtering(s4_acc_jump_upperarm)\n",
    "s4_acc_jump_waist_filt = filtering(s4_acc_jump_waist)"
   ]
  },
  {
   "cell_type": "code",
   "execution_count": 417,
   "id": "769f2cf5",
   "metadata": {},
   "outputs": [],
   "source": [
    "s4_acc_ly_chest_filt = filtering(s4_acc_ly_chest)\n",
    "s4_acc_ly_forearm_filt = filtering(s4_acc_ly_forearm)\n",
    "s4_acc_ly_head_filt = filtering(s4_acc_ly_head)\n",
    "s4_acc_ly_shin_filt = filtering(s4_acc_ly_shin)\n",
    "s4_acc_ly_thigh_filt = filtering(s4_acc_ly_thigh)\n",
    "s4_acc_ly_upperarm_filt = filtering(s4_acc_ly_upperarm)\n",
    "s4_acc_ly_waist_filt = filtering(s4_acc_ly_waist)"
   ]
  },
  {
   "cell_type": "code",
   "execution_count": 418,
   "id": "ca63837a",
   "metadata": {},
   "outputs": [],
   "source": [
    "s4_acc_run_chest_filt = filtering(s4_acc_run_chest)\n",
    "s4_acc_run_forearm_filt = filtering(s4_acc_run_forearm)\n",
    "s4_acc_run_head_filt = filtering(s4_acc_run_head)\n",
    "s4_acc_run_shin_filt = filtering(s4_acc_run_shin)\n",
    "s4_acc_run_thigh_filt = filtering(s4_acc_run_thigh)\n",
    "s4_acc_run_upperarm_filt = filtering(s4_acc_run_upperarm)\n",
    "s4_acc_run_waist_filt = filtering(s4_acc_run_waist)"
   ]
  },
  {
   "cell_type": "code",
   "execution_count": 419,
   "id": "eea476e3",
   "metadata": {},
   "outputs": [],
   "source": [
    "s4_acc_sit_chest_filt = filtering(s4_acc_sit_chest)\n",
    "s4_acc_sit_forearm_filt = filtering(s4_acc_sit_forearm)\n",
    "s4_acc_sit_head_filt = filtering(s4_acc_sit_head)\n",
    "s4_acc_sit_shin_filt = filtering(s4_acc_sit_shin)\n",
    "s4_acc_sit_thigh_filt = filtering(s4_acc_sit_thigh)\n",
    "s4_acc_sit_upperarm_filt = filtering(s4_acc_sit_upperarm)\n",
    "s4_acc_sit_waist_filt = filtering(s4_acc_sit_waist)\n"
   ]
  },
  {
   "cell_type": "code",
   "execution_count": 420,
   "id": "894b672e",
   "metadata": {},
   "outputs": [],
   "source": [
    "s4_acc_std_chest_filt = filtering(s4_acc_std_chest)\n",
    "s4_acc_std_forearm_filt = filtering(s4_acc_std_forearm)\n",
    "s4_acc_std_head_filt = filtering(s4_acc_std_head)\n",
    "s4_acc_std_shin_filt = filtering(s4_acc_std_shin)\n",
    "s4_acc_std_thigh_filt = filtering(s4_acc_std_thigh)\n",
    "s4_acc_std_upperarm_filt = filtering(s4_acc_std_upperarm)\n",
    "s4_acc_std_waist_filt = filtering(s4_acc_std_waist)\n"
   ]
  },
  {
   "cell_type": "code",
   "execution_count": 421,
   "id": "75f53abb",
   "metadata": {},
   "outputs": [],
   "source": [
    "s4_acc_wal_chest_filt = filtering(s4_acc_wal_chest)\n",
    "s4_acc_wal_forearm_filt = filtering(s4_acc_wal_forearm)\n",
    "s4_acc_wal_head_filt = filtering(s4_acc_wal_head)\n",
    "s4_acc_wal_shin_filt = filtering(s4_acc_wal_shin)\n",
    "s4_acc_wal_thigh_filt = filtering(s4_acc_wal_thigh)\n",
    "s4_acc_wal_upperarm_filt = filtering(s4_acc_wal_upperarm)\n",
    "s4_acc_wal_waist_filt = filtering(s4_acc_wal_waist)"
   ]
  },
  {
   "cell_type": "code",
   "execution_count": 422,
   "id": "b33ffc23",
   "metadata": {},
   "outputs": [],
   "source": [
    "#filter for user 5"
   ]
  },
  {
   "cell_type": "code",
   "execution_count": 423,
   "id": "a130de94",
   "metadata": {},
   "outputs": [],
   "source": [
    "s5_acc_cldn_chest_filt = filtering(s5_acc_cldn_chest)\n",
    "s5_acc_cldn_forearm_filt = filtering(s5_acc_cldn_forearm)\n",
    "s5_acc_cldn_head_filt = filtering(s5_acc_cldn_head)\n",
    "s5_acc_cldn_shin_filt = filtering(s5_acc_cldn_shin)\n",
    "s5_acc_cldn_thigh_filt = filtering(s5_acc_cldn_thigh)\n",
    "s5_acc_cldn_upperarm_filt = filtering(s5_acc_cldn_upperarm)\n",
    "s5_acc_cldn_waist_filt = filtering(s5_acc_cldn_waist)\n",
    "\n",
    "s5_acc_clup_chest_filt = filtering(s5_acc_clup_chest)\n",
    "s5_acc_clup_forearm_filt = filtering(s5_acc_clup_forearm)\n",
    "s5_acc_clup_head_filt = filtering(s5_acc_clup_head)\n",
    "s5_acc_clup_shin_filt = filtering(s5_acc_clup_shin)\n",
    "s5_acc_clup_thigh_filt = filtering(s5_acc_clup_thigh)\n",
    "s5_acc_clup_upperarm_filt = filtering(s5_acc_clup_upperarm)\n",
    "s5_acc_clup_waist_filt = filtering(s5_acc_clup_waist)\n",
    "\n",
    "s5_acc_jump_chest_filt = filtering(s5_acc_jump_chest)\n",
    "s5_acc_jump_forearm_filt = filtering(s5_acc_jump_forearm)\n",
    "s5_acc_jump_head_filt = filtering(s5_acc_jump_head)\n",
    "s5_acc_jump_shin_filt = filtering(s5_acc_jump_shin)\n",
    "s5_acc_jump_thigh_filt = filtering(s5_acc_jump_thigh)\n",
    "s5_acc_jump_upperarm_filt = filtering(s5_acc_jump_upperarm)\n",
    "s5_acc_jump_waist_filt = filtering(s5_acc_jump_waist)\n",
    "\n",
    "s5_acc_ly_chest_filt = filtering(s5_acc_ly_chest)\n",
    "s5_acc_ly_forearm_filt = filtering(s5_acc_ly_forearm)\n",
    "s5_acc_ly_head_filt = filtering(s5_acc_ly_head)\n",
    "s5_acc_ly_shin_filt = filtering(s5_acc_ly_shin)\n",
    "s5_acc_ly_thigh_filt = filtering(s5_acc_ly_thigh)\n",
    "s5_acc_ly_upperarm_filt = filtering(s5_acc_ly_upperarm)\n",
    "s5_acc_ly_waist_filt = filtering(s5_acc_ly_waist)\n",
    "\n",
    "s5_acc_run_chest_filt = filtering(s5_acc_run_chest)\n",
    "s5_acc_run_forearm_filt = filtering(s5_acc_run_forearm)\n",
    "s5_acc_run_head_filt = filtering(s5_acc_run_head)\n",
    "s5_acc_run_shin_filt = filtering(s5_acc_run_shin)\n",
    "s5_acc_run_thigh_filt = filtering(s5_acc_run_thigh)\n",
    "s5_acc_run_upperarm_filt = filtering(s5_acc_run_upperarm)\n",
    "s5_acc_run_waist_filt = filtering(s5_acc_run_waist)\n",
    "\n",
    "s5_acc_sit_chest_filt = filtering(s5_acc_sit_chest)\n",
    "s5_acc_sit_forearm_filt = filtering(s5_acc_sit_forearm)\n",
    "s5_acc_sit_head_filt = filtering(s5_acc_sit_head)\n",
    "s5_acc_sit_shin_filt = filtering(s5_acc_sit_shin)\n",
    "s5_acc_sit_thigh_filt = filtering(s5_acc_sit_thigh)\n",
    "s5_acc_sit_upperarm_filt = filtering(s5_acc_sit_upperarm)\n",
    "s5_acc_sit_waist_filt = filtering(s5_acc_sit_waist)\n",
    "\n",
    "s5_acc_std_chest_filt = filtering(s5_acc_std_chest)\n",
    "s5_acc_std_forearm_filt = filtering(s5_acc_std_forearm)\n",
    "s5_acc_std_head_filt = filtering(s5_acc_std_head)\n",
    "s5_acc_std_shin_filt = filtering(s5_acc_std_shin)\n",
    "s5_acc_std_thigh_filt = filtering(s5_acc_std_thigh)\n",
    "s5_acc_std_upperarm_filt = filtering(s5_acc_std_upperarm)\n",
    "s5_acc_std_waist_filt = filtering(s5_acc_std_waist)\n",
    "\n",
    "s5_acc_wal_chest_filt = filtering(s5_acc_wal_chest)\n",
    "s5_acc_wal_forearm_filt = filtering(s5_acc_wal_forearm)\n",
    "s5_acc_wal_head_filt = filtering(s5_acc_wal_head)\n",
    "s5_acc_wal_shin_filt = filtering(s5_acc_wal_shin)\n",
    "s5_acc_wal_thigh_filt = filtering(s5_acc_wal_thigh)\n",
    "s5_acc_wal_upperarm_filt = filtering(s5_acc_wal_upperarm)\n",
    "s5_acc_wal_waist_filt = filtering(s5_acc_wal_waist)"
   ]
  },
  {
   "cell_type": "code",
   "execution_count": 424,
   "id": "94538bd0",
   "metadata": {},
   "outputs": [],
   "source": [
    "#filter for user 6"
   ]
  },
  {
   "cell_type": "code",
   "execution_count": 425,
   "id": "1dc95295",
   "metadata": {},
   "outputs": [],
   "source": [
    "s6_acc_cldn_chest_filt = filtering(s6_acc_cldn_chest)\n",
    "s6_acc_cldn_forearm_filt = filtering(s6_acc_cldn_forearm)\n",
    "s6_acc_cldn_head_filt = filtering(s6_acc_cldn_head)\n",
    "s6_acc_cldn_shin_filt = filtering(s6_acc_cldn_shin)\n",
    "s6_acc_cldn_thigh_filt = filtering(s6_acc_cldn_thigh)\n",
    "s6_acc_cldn_upperarm_filt = filtering(s6_acc_cldn_upperarm)\n",
    "s6_acc_cldn_waist_filt = filtering(s6_acc_cldn_waist)\n",
    "\n",
    "s6_acc_clup_chest_filt = filtering(s6_acc_clup_chest)\n",
    "s6_acc_clup_forearm_filt = filtering(s6_acc_clup_forearm)\n",
    "s6_acc_clup_head_filt = filtering(s6_acc_clup_head)\n",
    "s6_acc_clup_shin_filt = filtering(s6_acc_clup_shin)\n",
    "s6_acc_clup_thigh_filt = filtering(s6_acc_clup_thigh)\n",
    "s6_acc_clup_upperarm_filt = filtering(s6_acc_clup_upperarm)\n",
    "s6_acc_clup_waist_filt = filtering(s6_acc_clup_waist)\n",
    "\n",
    "s6_acc_jump_chest_filt = filtering(s6_acc_jump_chest)\n",
    "s6_acc_jump_forearm_filt = filtering(s6_acc_jump_forearm)\n",
    "s6_acc_jump_head_filt = filtering(s6_acc_jump_head)\n",
    "s6_acc_jump_shin_filt = filtering(s6_acc_jump_shin)\n",
    "s6_acc_jump_upperarm_filt = filtering(s6_acc_jump_upperarm)\n",
    "s6_acc_jump_waist_filt = filtering(s6_acc_jump_waist)\n",
    "\n",
    "s6_acc_ly_chest_filt = filtering(s6_acc_ly_chest)\n",
    "s6_acc_ly_forearm_filt = filtering(s6_acc_ly_forearm)\n",
    "s6_acc_ly_head_filt = filtering(s6_acc_ly_head)\n",
    "s6_acc_ly_shin_filt = filtering(s6_acc_ly_shin)\n",
    "s6_acc_ly_thigh_filt = filtering(s6_acc_ly_thigh)\n",
    "s6_acc_ly_upperarm_filt = filtering(s6_acc_ly_upperarm)\n",
    "s6_acc_ly_waist_filt = filtering(s6_acc_ly_waist)\n",
    "\n",
    "s6_acc_run_chest_filt = filtering(s6_acc_run_chest)\n",
    "s6_acc_run_forearm_filt = filtering(s6_acc_run_forearm)\n",
    "s6_acc_run_head_filt = filtering(s6_acc_run_head)\n",
    "s6_acc_run_shin_filt = filtering(s6_acc_run_shin)\n",
    "s6_acc_run_thigh_filt = filtering(s6_acc_run_thigh)\n",
    "s6_acc_run_upperarm_filt = filtering(s6_acc_run_upperarm)\n",
    "s6_acc_run_waist_filt = filtering(s6_acc_run_waist)\n",
    "\n",
    "s6_acc_sit_chest_filt = filtering(s6_acc_sit_chest)\n",
    "s6_acc_sit_forearm_filt = filtering(s6_acc_sit_forearm)\n",
    "s6_acc_sit_head_filt = filtering(s6_acc_sit_head)\n",
    "s6_acc_sit_shin_filt = filtering(s6_acc_sit_shin)\n",
    "s6_acc_sit_thigh_filt = filtering(s6_acc_sit_thigh)\n",
    "s6_acc_sit_upperarm_filt = filtering(s6_acc_sit_upperarm)\n",
    "s6_acc_sit_waist_filt = filtering(s6_acc_sit_waist)\n",
    "\n",
    "s6_acc_std_chest_filt = filtering(s6_acc_std_chest)\n",
    "s6_acc_std_forearm_filt = filtering(s6_acc_std_forearm)\n",
    "s6_acc_std_head_filt = filtering(s6_acc_std_head)\n",
    "s6_acc_std_shin_filt = filtering(s6_acc_std_shin)\n",
    "s6_acc_std_thigh_filt = filtering(s6_acc_std_thigh)\n",
    "s6_acc_std_upperarm_filt = filtering(s6_acc_std_upperarm)\n",
    "s6_acc_std_waist_filt = filtering(s6_acc_std_waist)\n",
    "\n",
    "s6_acc_wal_chest_filt = filtering(s6_acc_wal_chest)\n",
    "s6_acc_wal_forearm_filt = filtering(s6_acc_wal_forearm)\n",
    "s6_acc_wal_head_filt = filtering(s6_acc_wal_head)\n",
    "s6_acc_wal_shin_filt = filtering(s6_acc_wal_shin)\n",
    "s6_acc_wal_thigh_filt = filtering(s6_acc_wal_thigh)\n",
    "s6_acc_wal_upperarm_filt = filtering(s6_acc_wal_upperarm)\n",
    "s6_acc_wal_waist_filt = filtering(s6_acc_wal_waist)\n"
   ]
  },
  {
   "cell_type": "code",
   "execution_count": 426,
   "id": "59046088",
   "metadata": {},
   "outputs": [],
   "source": [
    "#filter for user 7"
   ]
  },
  {
   "cell_type": "code",
   "execution_count": 427,
   "id": "61f31cd2",
   "metadata": {},
   "outputs": [],
   "source": [
    "s7_acc_cldn_chest_filt = filtering(s7_acc_cldn_chest)\n",
    "s7_acc_cldn_forearm_filt = filtering(s7_acc_cldn_forearm)\n",
    "s7_acc_cldn_head_filt = filtering(s7_acc_cldn_head)\n",
    "s7_acc_cldn_shin_filt = filtering(s7_acc_cldn_shin)\n",
    "s7_acc_cldn_thigh_filt = filtering(s7_acc_cldn_thigh)\n",
    "s7_acc_cldn_upperarm_filt = filtering(s7_acc_cldn_upperarm)\n",
    "s7_acc_cldn_waist_filt = filtering(s7_acc_cldn_waist)\n",
    "\n",
    "s7_acc_clup_chest_filt = filtering(s7_acc_clup_chest)\n",
    "s7_acc_clup_forearm_filt = filtering(s7_acc_clup_forearm)\n",
    "s7_acc_clup_head_filt = filtering(s7_acc_clup_head)\n",
    "s7_acc_clup_shin_filt = filtering(s7_acc_clup_shin)\n",
    "s7_acc_clup_thigh_filt = filtering(s7_acc_clup_thigh)\n",
    "s7_acc_clup_upperarm_filt = filtering(s7_acc_clup_upperarm)\n",
    "s7_acc_clup_waist_filt = filtering(s7_acc_clup_waist)\n",
    "\n",
    "s7_acc_jump_chest_filt = filtering(s7_acc_jump_chest)\n",
    "s7_acc_jump_forearm_filt = filtering(s7_acc_jump_forearm)\n",
    "s7_acc_jump_head_filt = filtering(s7_acc_jump_head)\n",
    "s7_acc_jump_shin_filt = filtering(s7_acc_jump_shin)\n",
    "s7_acc_jump_thigh_filt = filtering(s7_acc_jump_thigh)\n",
    "s7_acc_jump_upperarm_filt = filtering(s7_acc_jump_upperarm)\n",
    "s7_acc_jump_waist_filt = filtering(s7_acc_jump_waist)\n",
    "\n",
    "s7_acc_ly_chest_filt = filtering(s7_acc_ly_chest)\n",
    "s7_acc_ly_forearm_filt = filtering(s7_acc_ly_forearm)\n",
    "s7_acc_ly_head_filt = filtering(s7_acc_ly_head)\n",
    "s7_acc_ly_shin_filt = filtering(s7_acc_ly_shin)\n",
    "s7_acc_ly_thigh_filt = filtering(s7_acc_ly_thigh)\n",
    "s7_acc_ly_upperarm_filt = filtering(s7_acc_ly_upperarm)\n",
    "s7_acc_ly_waist_filt = filtering(s7_acc_ly_waist)\n",
    "\n",
    "s7_acc_run_chest_filt = filtering(s7_acc_run_chest)\n",
    "s7_acc_run_forearm_filt = filtering(s7_acc_run_forearm)\n",
    "s7_acc_run_head_filt = filtering(s7_acc_run_head)\n",
    "s7_acc_run_shin_filt = filtering(s7_acc_run_shin)\n",
    "s7_acc_run_thigh_filt = filtering(s7_acc_run_thigh)\n",
    "s7_acc_run_upperarm_filt = filtering(s7_acc_run_upperarm)\n",
    "s7_acc_run_waist_filt = filtering(s7_acc_run_waist)\n",
    "\n",
    "s7_acc_sit_chest_filt = filtering(s7_acc_sit_chest)\n",
    "s7_acc_sit_forearm_filt = filtering(s7_acc_sit_forearm)\n",
    "s7_acc_sit_head_filt = filtering(s7_acc_sit_head)\n",
    "s7_acc_sit_shin_filt = filtering(s7_acc_sit_shin)\n",
    "s7_acc_sit_thigh_filt = filtering(s7_acc_sit_thigh)\n",
    "s7_acc_sit_upperarm_filt = filtering(s7_acc_sit_upperarm)\n",
    "s7_acc_sit_waist_filt = filtering(s7_acc_sit_waist)\n",
    "\n",
    "s7_acc_std_chest_filt = filtering(s7_acc_std_chest)\n",
    "s7_acc_std_forearm_filt = filtering(s7_acc_std_forearm)\n",
    "s7_acc_std_head_filt = filtering(s7_acc_std_head)\n",
    "s7_acc_std_shin_filt = filtering(s7_acc_std_shin)\n",
    "s7_acc_std_thigh_filt = filtering(s7_acc_std_thigh)\n",
    "s7_acc_std_upperarm_filt = filtering(s7_acc_std_upperarm)\n",
    "s7_acc_std_waist_filt = filtering(s7_acc_std_waist)\n",
    "\n",
    "s7_acc_wal_chest_filt = filtering(s7_acc_wal_chest)\n",
    "s7_acc_wal_forearm_filt = filtering(s7_acc_wal_forearm)\n",
    "s7_acc_wal_head_filt = filtering(s7_acc_wal_head)\n",
    "s7_acc_wal_shin_filt = filtering(s7_acc_wal_shin)\n",
    "s7_acc_wal_thigh_filt = filtering(s7_acc_wal_thigh)\n",
    "s7_acc_wal_upperarm_filt = filtering(s7_acc_wal_upperarm)\n",
    "s7_acc_wal_waist_filt = filtering(s7_acc_wal_waist)\n"
   ]
  },
  {
   "cell_type": "code",
   "execution_count": 428,
   "id": "84f528ca",
   "metadata": {},
   "outputs": [],
   "source": [
    "#filter for user 8"
   ]
  },
  {
   "cell_type": "code",
   "execution_count": 429,
   "id": "82b36076",
   "metadata": {},
   "outputs": [],
   "source": [
    "s8_acc_cldn_chest_filt = filtering(s8_acc_cldn_chest)\n",
    "s8_acc_cldn_forearm_filt = filtering(s8_acc_cldn_forearm)\n",
    "s8_acc_cldn_head_filt = filtering(s8_acc_cldn_head)\n",
    "s8_acc_cldn_shin_filt = filtering(s8_acc_cldn_shin)\n",
    "s8_acc_cldn_thigh_filt = filtering(s8_acc_cldn_thigh)\n",
    "s8_acc_cldn_upperarm_filt = filtering(s8_acc_cldn_upperarm)\n",
    "s8_acc_cldn_waist_filt = filtering(s8_acc_cldn_waist)\n",
    "\n",
    "s8_acc_clup_chest_filt = filtering(s8_acc_clup_chest)\n",
    "s8_acc_clup_forearm_filt = filtering(s8_acc_clup_forearm)\n",
    "s8_acc_clup_head_filt = filtering(s8_acc_clup_head)\n",
    "s8_acc_clup_shin_filt = filtering(s8_acc_clup_shin)\n",
    "s8_acc_clup_thigh_filt = filtering(s8_acc_clup_thigh)\n",
    "s8_acc_clup_upperarm_filt = filtering(s8_acc_clup_upperarm)\n",
    "s8_acc_clup_waist_filt = filtering(s8_acc_clup_waist)\n",
    "\n",
    "s8_acc_jump_chest_filt = filtering(s8_acc_jump_chest)\n",
    "s8_acc_jump_forearm_filt = filtering(s8_acc_jump_forearm)\n",
    "s8_acc_jump_head_filt = filtering(s8_acc_jump_head)\n",
    "s8_acc_jump_shin_filt = filtering(s8_acc_jump_shin)\n",
    "s8_acc_jump_thigh_filt = filtering(s8_acc_jump_thigh)\n",
    "s8_acc_jump_upperarm_filt = filtering(s8_acc_jump_upperarm)\n",
    "s8_acc_jump_waist_filt = filtering(s8_acc_jump_waist)\n",
    "\n",
    "s8_acc_ly_chest_filt = filtering(s8_acc_ly_chest)\n",
    "s8_acc_ly_forearm_filt = filtering(s8_acc_ly_forearm)\n",
    "s8_acc_ly_head_filt = filtering(s8_acc_ly_head)\n",
    "s8_acc_ly_shin_filt = filtering(s8_acc_ly_shin)\n",
    "s8_acc_ly_thigh_filt = filtering(s8_acc_ly_thigh)\n",
    "s8_acc_ly_upperarm_filt = filtering(s8_acc_ly_upperarm)\n",
    "s8_acc_ly_waist_filt = filtering(s8_acc_ly_waist)\n",
    "\n",
    "s8_acc_run_chest_filt = filtering(s8_acc_run_chest)\n",
    "s8_acc_run_forearm_filt = filtering(s8_acc_run_forearm)\n",
    "s8_acc_run_head_filt = filtering(s8_acc_run_head)\n",
    "s8_acc_run_shin_filt = filtering(s8_acc_run_shin)\n",
    "s8_acc_run_thigh_filt = filtering(s8_acc_run_thigh)\n",
    "s8_acc_run_upperarm_filt = filtering(s8_acc_run_upperarm)\n",
    "s8_acc_run_waist_filt = filtering(s8_acc_run_waist)\n",
    "\n",
    "s8_acc_sit_chest_filt = filtering(s8_acc_sit_chest)\n",
    "s8_acc_sit_forearm_filt = filtering(s8_acc_sit_forearm)\n",
    "s8_acc_sit_head_filt = filtering(s8_acc_sit_head)\n",
    "s8_acc_sit_shin_filt = filtering(s8_acc_sit_shin)\n",
    "s8_acc_sit_thigh_filt = filtering(s8_acc_sit_thigh)\n",
    "s8_acc_sit_upperarm_filt = filtering(s8_acc_sit_upperarm)\n",
    "s8_acc_sit_waist_filt = filtering(s8_acc_sit_waist)\n",
    "\n",
    "s8_acc_std_chest_filt = filtering(s8_acc_std_chest)\n",
    "s8_acc_std_forearm_filt = filtering(s8_acc_std_forearm)\n",
    "s8_acc_std_head_filt = filtering(s8_acc_std_head)\n",
    "s8_acc_std_shin_filt = filtering(s8_acc_std_shin)\n",
    "s8_acc_std_thigh_filt = filtering(s8_acc_std_thigh)\n",
    "s8_acc_std_upperarm_filt = filtering(s8_acc_std_upperarm)\n",
    "s8_acc_std_waist_filt = filtering(s8_acc_std_waist)\n",
    "\n",
    "s8_acc_wal_chest_filt = filtering(s8_acc_wal_chest)\n",
    "s8_acc_wal_forearm_filt = filtering(s8_acc_wal_forearm)\n",
    "s8_acc_wal_head_filt = filtering(s8_acc_wal_head)\n",
    "s8_acc_wal_shin_filt = filtering(s8_acc_wal_shin)\n",
    "s8_acc_wal_thigh_filt = filtering(s8_acc_wal_thigh)\n",
    "s8_acc_wal_upperarm_filt = filtering(s8_acc_wal_upperarm)\n",
    "s8_acc_wal_waist_filt = filtering(s8_acc_wal_waist)\n"
   ]
  },
  {
   "cell_type": "code",
   "execution_count": 430,
   "id": "95895943",
   "metadata": {},
   "outputs": [],
   "source": [
    "#filter for user 9"
   ]
  },
  {
   "cell_type": "code",
   "execution_count": 431,
   "id": "1d857d6c",
   "metadata": {},
   "outputs": [],
   "source": [
    "s9_acc_cldn_chest_filt = filtering(s9_acc_cldn_chest)\n",
    "s9_acc_cldn_forearm_filt = filtering(s9_acc_cldn_forearm)\n",
    "s9_acc_cldn_head_filt = filtering(s9_acc_cldn_head)\n",
    "s9_acc_cldn_shin_filt = filtering(s9_acc_cldn_shin)\n",
    "s9_acc_cldn_thigh_filt = filtering(s9_acc_cldn_thigh)\n",
    "s9_acc_cldn_upperarm_filt = filtering(s9_acc_cldn_upperarm)\n",
    "s9_acc_cldn_waist_filt = filtering(s9_acc_cldn_waist)\n",
    "\n",
    "s9_acc_clup_chest_filt = filtering(s9_acc_clup_chest)\n",
    "s9_acc_clup_forearm_filt = filtering(s9_acc_clup_forearm)\n",
    "s9_acc_clup_head_filt = filtering(s9_acc_clup_head)\n",
    "s9_acc_clup_shin_filt = filtering(s9_acc_clup_shin)\n",
    "s9_acc_clup_thigh_filt = filtering(s9_acc_clup_thigh)\n",
    "s9_acc_clup_upperarm_filt = filtering(s9_acc_clup_upperarm)\n",
    "s9_acc_clup_waist_filt = filtering(s9_acc_clup_waist)\n",
    "\n",
    "s9_acc_jump_chest_filt = filtering(s9_acc_jump_chest)\n",
    "s9_acc_jump_forearm_filt = filtering(s9_acc_jump_forearm)\n",
    "s9_acc_jump_head_filt = filtering(s9_acc_jump_head)\n",
    "s9_acc_jump_shin_filt = filtering(s9_acc_jump_shin)\n",
    "s9_acc_jump_thigh_filt = filtering(s9_acc_jump_thigh)\n",
    "s9_acc_jump_upperarm_filt = filtering(s9_acc_jump_upperarm)\n",
    "s9_acc_jump_waist_filt = filtering(s9_acc_jump_waist)\n",
    "\n",
    "s9_acc_ly_chest_filt = filtering(s9_acc_ly_chest)\n",
    "s9_acc_ly_forearm_filt = filtering(s9_acc_ly_forearm)\n",
    "s9_acc_ly_head_filt = filtering(s9_acc_ly_head)\n",
    "s9_acc_ly_shin_filt = filtering(s9_acc_ly_shin)\n",
    "s9_acc_ly_thigh_filt = filtering(s9_acc_ly_thigh)\n",
    "s9_acc_ly_upperarm_filt = filtering(s9_acc_ly_upperarm)\n",
    "s9_acc_ly_waist_filt = filtering(s9_acc_ly_waist)\n",
    "\n",
    "s9_acc_run_chest_filt = filtering(s9_acc_run_chest)\n",
    "s9_acc_run_forearm_filt = filtering(s9_acc_run_forearm)\n",
    "s9_acc_run_head_filt = filtering(s9_acc_run_head)\n",
    "s9_acc_run_shin_filt = filtering(s9_acc_run_shin)\n",
    "s9_acc_run_thigh_filt = filtering(s9_acc_run_thigh)\n",
    "s9_acc_run_upperarm_filt = filtering(s9_acc_run_upperarm)\n",
    "s9_acc_run_waist_filt = filtering(s9_acc_run_waist)\n",
    "\n",
    "s9_acc_sit_chest_filt = filtering(s9_acc_sit_chest)\n",
    "s9_acc_sit_forearm_filt = filtering(s9_acc_sit_forearm)\n",
    "s9_acc_sit_head_filt = filtering(s9_acc_sit_head)\n",
    "s9_acc_sit_shin_filt = filtering(s9_acc_sit_shin)\n",
    "s9_acc_sit_thigh_filt = filtering(s9_acc_sit_thigh)\n",
    "s9_acc_sit_upperarm_filt = filtering(s9_acc_sit_upperarm)\n",
    "s9_acc_sit_waist_filt = filtering(s9_acc_sit_waist)\n",
    "\n",
    "s9_acc_std_chest_filt = filtering(s9_acc_std_chest)\n",
    "s9_acc_std_forearm_filt = filtering(s9_acc_std_forearm)\n",
    "s9_acc_std_head_filt = filtering(s9_acc_std_head)\n",
    "s9_acc_std_shin_filt = filtering(s9_acc_std_shin)\n",
    "s9_acc_std_thigh_filt = filtering(s9_acc_std_thigh)\n",
    "s9_acc_std_upperarm_filt = filtering(s9_acc_std_upperarm)\n",
    "s9_acc_std_waist_filt = filtering(s9_acc_std_waist)\n",
    "\n",
    "s9_acc_wal_chest_filt = filtering(s9_acc_wal_chest)\n",
    "s9_acc_wal_forearm_filt = filtering(s9_acc_wal_forearm)\n",
    "s9_acc_wal_head_filt = filtering(s9_acc_wal_head)\n",
    "s9_acc_wal_shin_filt = filtering(s9_acc_wal_shin)\n",
    "s9_acc_wal_thigh_filt = filtering(s9_acc_wal_thigh)\n",
    "s9_acc_wal_upperarm_filt = filtering(s9_acc_wal_upperarm)\n",
    "s9_acc_wal_waist_filt = filtering(s9_acc_wal_waist)\n"
   ]
  },
  {
   "cell_type": "code",
   "execution_count": 432,
   "id": "c6e0b1a9",
   "metadata": {},
   "outputs": [],
   "source": [
    "#filter for user 10"
   ]
  },
  {
   "cell_type": "code",
   "execution_count": 433,
   "id": "27aa8859",
   "metadata": {},
   "outputs": [],
   "source": [
    "s10_acc_cldn_chest_filt = filtering(s10_acc_cldn_chest)\n",
    "s10_acc_cldn_forearm_filt = filtering(s10_acc_cldn_forearm)\n",
    "s10_acc_cldn_head_filt = filtering(s10_acc_cldn_head)\n",
    "s10_acc_cldn_shin_filt = filtering(s10_acc_cldn_shin)\n",
    "s10_acc_cldn_thigh_filt = filtering(s10_acc_cldn_thigh)\n",
    "s10_acc_cldn_upperarm_filt = filtering(s10_acc_cldn_upperarm)\n",
    "s10_acc_cldn_waist_filt = filtering(s10_acc_cldn_waist)\n",
    "\n",
    "s10_acc_clup_chest_filt = filtering(s10_acc_clup_chest)\n",
    "s10_acc_clup_forearm_filt = filtering(s10_acc_clup_forearm)\n",
    "s10_acc_clup_head_filt = filtering(s10_acc_clup_head)\n",
    "s10_acc_clup_shin_filt = filtering(s10_acc_clup_shin)\n",
    "s10_acc_clup_thigh_filt = filtering(s10_acc_clup_thigh)\n",
    "s10_acc_clup_upperarm_filt = filtering(s10_acc_clup_upperarm)\n",
    "s10_acc_clup_waist_filt = filtering(s10_acc_clup_waist)\n",
    "\n",
    "s10_acc_jump_chest_filt = filtering(s10_acc_jump_chest)\n",
    "s10_acc_jump_forearm_filt = filtering(s10_acc_jump_forearm)\n",
    "s10_acc_jump_head_filt = filtering(s10_acc_jump_head)\n",
    "s10_acc_jump_shin_filt = filtering(s10_acc_jump_shin)\n",
    "s10_acc_jump_thigh_filt = filtering(s10_acc_jump_thigh)\n",
    "s10_acc_jump_upperarm_filt = filtering(s10_acc_jump_upperarm)\n",
    "s10_acc_jump_waist_filt = filtering(s10_acc_jump_waist)\n",
    "\n",
    "s10_acc_ly_chest_filt = filtering(s10_acc_ly_chest)\n",
    "s10_acc_ly_forearm_filt = filtering(s10_acc_ly_forearm)\n",
    "s10_acc_ly_head_filt = filtering(s10_acc_ly_head)\n",
    "s10_acc_ly_shin_filt = filtering(s10_acc_ly_shin)\n",
    "s10_acc_ly_thigh_filt = filtering(s10_acc_ly_thigh)\n",
    "s10_acc_ly_upperarm_filt = filtering(s10_acc_ly_upperarm)\n",
    "s10_acc_ly_waist_filt = filtering(s10_acc_ly_waist)\n",
    "\n",
    "s10_acc_run_chest_filt = filtering(s10_acc_run_chest)\n",
    "s10_acc_run_forearm_filt = filtering(s10_acc_run_forearm)\n",
    "s10_acc_run_head_filt = filtering(s10_acc_run_head)\n",
    "s10_acc_run_shin_filt = filtering(s10_acc_run_shin)\n",
    "s10_acc_run_thigh_filt = filtering(s10_acc_run_thigh)\n",
    "s10_acc_run_upperarm_filt = filtering(s10_acc_run_upperarm)\n",
    "s10_acc_run_waist_filt = filtering(s10_acc_run_waist)\n",
    "\n",
    "s10_acc_sit_chest_filt = filtering(s10_acc_sit_chest)\n",
    "s10_acc_sit_forearm_filt = filtering(s10_acc_sit_forearm)\n",
    "s10_acc_sit_head_filt = filtering(s10_acc_sit_head)\n",
    "s10_acc_sit_shin_filt = filtering(s10_acc_sit_shin)\n",
    "s10_acc_sit_thigh_filt = filtering(s10_acc_sit_thigh)\n",
    "s10_acc_sit_upperarm_filt = filtering(s10_acc_sit_upperarm)\n",
    "s10_acc_sit_waist_filt = filtering(s10_acc_sit_waist)\n",
    "\n",
    "s10_acc_std_chest_filt = filtering(s10_acc_std_chest)\n",
    "s10_acc_std_forearm_filt = filtering(s10_acc_std_forearm)\n",
    "s10_acc_std_head_filt = filtering(s10_acc_std_head)\n",
    "s10_acc_std_shin_filt = filtering(s10_acc_std_shin)\n",
    "s10_acc_std_thigh_filt = filtering(s10_acc_std_thigh)\n",
    "s10_acc_std_upperarm_filt = filtering(s10_acc_std_upperarm)\n",
    "s10_acc_std_waist_filt = filtering(s10_acc_std_waist)\n",
    "\n",
    "s10_acc_wal_chest_filt = filtering(s10_acc_wal_chest)\n",
    "s10_acc_wal_forearm_filt = filtering(s10_acc_wal_forearm)\n",
    "s10_acc_wal_head_filt = filtering(s10_acc_wal_head)\n",
    "s10_acc_wal_shin_filt = filtering(s10_acc_wal_shin)\n",
    "s10_acc_wal_thigh_filt = filtering(s10_acc_wal_thigh)\n",
    "s10_acc_wal_upperarm_filt = filtering(s10_acc_wal_upperarm)\n",
    "s10_acc_wal_waist_filt = filtering(s10_acc_wal_waist)\n"
   ]
  },
  {
   "cell_type": "code",
   "execution_count": 434,
   "id": "f1dbc459",
   "metadata": {},
   "outputs": [],
   "source": [
    "#filter for user 11"
   ]
  },
  {
   "cell_type": "code",
   "execution_count": 435,
   "id": "db9617a3",
   "metadata": {},
   "outputs": [],
   "source": [
    "s11_acc_cldn_chest_filt = filtering(s11_acc_cldn_chest)\n",
    "s11_acc_cldn_forearm_filt = filtering(s11_acc_cldn_forearm)\n",
    "s11_acc_cldn_head_filt = filtering(s11_acc_cldn_head)\n",
    "s11_acc_cldn_shin_filt = filtering(s11_acc_cldn_shin)\n",
    "s11_acc_cldn_thigh_filt = filtering(s11_acc_cldn_thigh)\n",
    "s11_acc_cldn_upperarm_filt = filtering(s11_acc_cldn_upperarm)\n",
    "s11_acc_cldn_waist_filt = filtering(s11_acc_cldn_waist)\n",
    "\n",
    "s11_acc_clup_chest_filt = filtering(s11_acc_clup_chest)\n",
    "s11_acc_clup_forearm_filt = filtering(s11_acc_clup_forearm)\n",
    "s11_acc_clup_head_filt = filtering(s11_acc_clup_head)\n",
    "s11_acc_clup_shin_filt = filtering(s11_acc_clup_shin)\n",
    "s11_acc_clup_thigh_filt = filtering(s11_acc_clup_thigh)\n",
    "s11_acc_clup_upperarm_filt = filtering(s11_acc_clup_upperarm)\n",
    "s11_acc_clup_waist_filt = filtering(s11_acc_clup_waist)\n",
    "\n",
    "s11_acc_jump_chest_filt = filtering(s11_acc_jump_chest)\n",
    "s11_acc_jump_forearm_filt = filtering(s11_acc_jump_forearm)\n",
    "s11_acc_jump_head_filt = filtering(s11_acc_jump_head)\n",
    "s11_acc_jump_shin_filt = filtering(s11_acc_jump_shin)\n",
    "s11_acc_jump_thigh_filt = filtering(s11_acc_jump_thigh)\n",
    "s11_acc_jump_upperarm_filt = filtering(s11_acc_jump_upperarm)\n",
    "s11_acc_jump_waist_filt = filtering(s11_acc_jump_waist)\n",
    "\n",
    "s11_acc_ly_chest_filt = filtering(s11_acc_ly_chest)\n",
    "s11_acc_ly_forearm_filt = filtering(s11_acc_ly_forearm)\n",
    "s11_acc_ly_head_filt = filtering(s11_acc_ly_head)\n",
    "s11_acc_ly_shin_filt = filtering(s11_acc_ly_shin)\n",
    "s11_acc_ly_thigh_filt = filtering(s11_acc_ly_thigh)\n",
    "s11_acc_ly_upperarm_filt = filtering(s11_acc_ly_upperarm)\n",
    "s11_acc_ly_waist_filt = filtering(s11_acc_ly_waist)\n",
    "\n",
    "s11_acc_run_chest_filt = filtering(s11_acc_run_chest)\n",
    "s11_acc_run_forearm_filt = filtering(s11_acc_run_forearm)\n",
    "s11_acc_run_head_filt = filtering(s11_acc_run_head)\n",
    "s11_acc_run_shin_filt = filtering(s11_acc_run_shin)\n",
    "s11_acc_run_thigh_filt = filtering(s11_acc_run_thigh)\n",
    "s11_acc_run_upperarm_filt = filtering(s11_acc_run_upperarm)\n",
    "s11_acc_run_waist_filt = filtering(s11_acc_run_waist)\n",
    "\n",
    "s11_acc_sit_chest_filt = filtering(s11_acc_sit_chest)\n",
    "s11_acc_sit_forearm_filt = filtering(s11_acc_sit_forearm)\n",
    "s11_acc_sit_head_filt = filtering(s11_acc_sit_head)\n",
    "s11_acc_sit_shin_filt = filtering(s11_acc_sit_shin)\n",
    "s11_acc_sit_thigh_filt = filtering(s11_acc_sit_thigh)\n",
    "s11_acc_sit_upperarm_filt = filtering(s11_acc_sit_upperarm)\n",
    "s11_acc_sit_waist_filt = filtering(s11_acc_sit_waist)\n",
    "\n",
    "s11_acc_std_chest_filt = filtering(s11_acc_std_chest)\n",
    "s11_acc_std_forearm_filt = filtering(s11_acc_std_forearm)\n",
    "s11_acc_std_head_filt = filtering(s11_acc_std_head)\n",
    "s11_acc_std_shin_filt = filtering(s11_acc_std_shin)\n",
    "s11_acc_std_thigh_filt = filtering(s11_acc_std_thigh)\n",
    "s11_acc_std_upperarm_filt = filtering(s11_acc_std_upperarm)\n",
    "s11_acc_std_waist_filt = filtering(s11_acc_std_waist)\n",
    "\n",
    "s11_acc_wal_chest_filt = filtering(s11_acc_wal_chest)\n",
    "s11_acc_wal_forearm_filt = filtering(s11_acc_wal_forearm)\n",
    "s11_acc_wal_head_filt = filtering(s11_acc_wal_head)\n",
    "s11_acc_wal_shin_filt = filtering(s11_acc_wal_shin)\n",
    "s11_acc_wal_thigh_filt = filtering(s11_acc_wal_thigh)\n",
    "s11_acc_wal_upperarm_filt = filtering(s11_acc_wal_upperarm)\n",
    "s11_acc_wal_waist_filt = filtering(s11_acc_wal_waist)"
   ]
  },
  {
   "cell_type": "code",
   "execution_count": 436,
   "id": "22047400",
   "metadata": {},
   "outputs": [],
   "source": [
    "#filter for user 12"
   ]
  },
  {
   "cell_type": "code",
   "execution_count": 437,
   "id": "d8c750f8",
   "metadata": {},
   "outputs": [],
   "source": [
    "s12_acc_cldn_chest_filt = filtering(s12_acc_cldn_chest)\n",
    "s12_acc_cldn_forearm_filt = filtering(s12_acc_cldn_forearm)\n",
    "s12_acc_cldn_head_filt = filtering(s12_acc_cldn_head)\n",
    "s12_acc_cldn_shin_filt = filtering(s12_acc_cldn_shin)\n",
    "s12_acc_cldn_thigh_filt = filtering(s12_acc_cldn_thigh)\n",
    "s12_acc_cldn_upperarm_filt = filtering(s12_acc_cldn_upperarm)\n",
    "s12_acc_cldn_waist_filt = filtering(s12_acc_cldn_waist)\n",
    "\n",
    "s12_acc_clup_chest_filt = filtering(s12_acc_clup_chest)\n",
    "s12_acc_clup_forearm_filt = filtering(s12_acc_clup_forearm)\n",
    "s12_acc_clup_head_filt = filtering(s12_acc_clup_head)\n",
    "s12_acc_clup_shin_filt = filtering(s12_acc_clup_shin)\n",
    "s12_acc_clup_thigh_filt = filtering(s12_acc_clup_thigh)\n",
    "s12_acc_clup_upperarm_filt = filtering(s12_acc_clup_upperarm)\n",
    "s12_acc_clup_waist_filt = filtering(s12_acc_clup_waist)\n",
    "\n",
    "s12_acc_jump_chest_filt = filtering(s12_acc_jump_chest)\n",
    "s12_acc_jump_forearm_filt = filtering(s12_acc_jump_forearm)\n",
    "s12_acc_jump_head_filt = filtering(s12_acc_jump_head)\n",
    "s12_acc_jump_shin_filt = filtering(s12_acc_jump_shin)\n",
    "s12_acc_jump_thigh_filt = filtering(s12_acc_jump_thigh)\n",
    "s12_acc_jump_upperarm_filt = filtering(s12_acc_jump_upperarm)\n",
    "s12_acc_jump_waist_filt = filtering(s12_acc_jump_waist)\n",
    "\n",
    "s12_acc_ly_chest_filt = filtering(s12_acc_ly_chest)\n",
    "s12_acc_ly_forearm_filt = filtering(s12_acc_ly_forearm)\n",
    "s12_acc_ly_head_filt = filtering(s12_acc_ly_head)\n",
    "s12_acc_ly_shin_filt = filtering(s12_acc_ly_shin)\n",
    "s12_acc_ly_thigh_filt = filtering(s12_acc_ly_thigh)\n",
    "s12_acc_ly_upperarm_filt = filtering(s12_acc_ly_upperarm)\n",
    "s12_acc_ly_waist_filt = filtering(s12_acc_ly_waist)\n",
    "\n",
    "s12_acc_run_chest_filt = filtering(s12_acc_run_chest)\n",
    "s12_acc_run_forearm_filt = filtering(s12_acc_run_forearm)\n",
    "s12_acc_run_head_filt = filtering(s12_acc_run_head)\n",
    "s12_acc_run_shin_filt = filtering(s12_acc_run_shin)\n",
    "s12_acc_run_thigh_filt = filtering(s12_acc_run_thigh)\n",
    "s12_acc_run_upperarm_filt = filtering(s12_acc_run_upperarm)\n",
    "s12_acc_run_waist_filt = filtering(s12_acc_run_waist)\n",
    "\n",
    "s12_acc_sit_chest_filt = filtering(s12_acc_sit_chest)\n",
    "s12_acc_sit_forearm_filt = filtering(s12_acc_sit_forearm)\n",
    "s12_acc_sit_head_filt = filtering(s12_acc_sit_head)\n",
    "s12_acc_sit_shin_filt = filtering(s12_acc_sit_shin)\n",
    "s12_acc_sit_thigh_filt = filtering(s12_acc_sit_thigh)\n",
    "s12_acc_sit_upperarm_filt = filtering(s12_acc_sit_upperarm)\n",
    "s12_acc_sit_waist_filt = filtering(s12_acc_sit_waist)\n",
    "\n",
    "s12_acc_std_chest_filt = filtering(s12_acc_std_chest)\n",
    "s12_acc_std_forearm_filt = filtering(s12_acc_std_forearm)\n",
    "s12_acc_std_head_filt = filtering(s12_acc_std_head)\n",
    "s12_acc_std_shin_filt = filtering(s12_acc_std_shin)\n",
    "s12_acc_std_thigh_filt = filtering(s12_acc_std_thigh)\n",
    "s12_acc_std_upperarm_filt = filtering(s12_acc_std_upperarm)\n",
    "s12_acc_std_waist_filt = filtering(s12_acc_std_waist)\n",
    "\n",
    "s12_acc_wal_chest_filt = filtering(s12_acc_wal_chest)\n",
    "s12_acc_wal_forearm_filt = filtering(s12_acc_wal_forearm)\n",
    "s12_acc_wal_head_filt = filtering(s12_acc_wal_head)\n",
    "s12_acc_wal_shin_filt = filtering(s12_acc_wal_shin)\n",
    "s12_acc_wal_thigh_filt = filtering(s12_acc_wal_thigh)\n",
    "s12_acc_wal_upperarm_filt = filtering(s12_acc_wal_upperarm)\n",
    "s12_acc_wal_waist_filt = filtering(s12_acc_wal_waist)"
   ]
  },
  {
   "cell_type": "code",
   "execution_count": 438,
   "id": "ca698568",
   "metadata": {},
   "outputs": [],
   "source": [
    "#filter for user 13"
   ]
  },
  {
   "cell_type": "code",
   "execution_count": 439,
   "id": "04bac325",
   "metadata": {},
   "outputs": [],
   "source": [
    "s13_acc_cldn_chest_filt = filtering(s13_acc_cldn_chest)\n",
    "s13_acc_cldn_forearm_filt = filtering(s13_acc_cldn_forearm)\n",
    "s13_acc_cldn_head_filt = filtering(s13_acc_cldn_head)\n",
    "s13_acc_cldn_shin_filt = filtering(s13_acc_cldn_shin)\n",
    "s13_acc_cldn_thigh_filt = filtering(s13_acc_cldn_thigh)\n",
    "s13_acc_cldn_upperarm_filt = filtering(s13_acc_cldn_upperarm)\n",
    "s13_acc_cldn_waist_filt = filtering(s13_acc_cldn_waist)\n",
    "\n",
    "s13_acc_clup_chest_filt = filtering(s13_acc_clup_chest)\n",
    "s13_acc_clup_forearm_filt = filtering(s13_acc_clup_forearm)\n",
    "s13_acc_clup_head_filt = filtering(s13_acc_clup_head)\n",
    "s13_acc_clup_shin_filt = filtering(s13_acc_clup_shin)\n",
    "s13_acc_clup_thigh_filt = filtering(s13_acc_clup_thigh)\n",
    "s13_acc_clup_upperarm_filt = filtering(s13_acc_clup_upperarm)\n",
    "s13_acc_clup_waist_filt = filtering(s13_acc_clup_waist)\n",
    "\n",
    "s13_acc_jump_chest_filt = filtering(s13_acc_jump_chest)\n",
    "s13_acc_jump_forearm_filt = filtering(s13_acc_jump_forearm)\n",
    "s13_acc_jump_head_filt = filtering(s13_acc_jump_head)\n",
    "s13_acc_jump_shin_filt = filtering(s13_acc_jump_shin)\n",
    "s13_acc_jump_thigh_filt = filtering(s13_acc_jump_thigh)\n",
    "s13_acc_jump_upperarm_filt = filtering(s13_acc_jump_upperarm)\n",
    "s13_acc_jump_waist_filt = filtering(s13_acc_jump_waist)\n",
    "\n",
    "s13_acc_ly_chest_filt = filtering(s13_acc_ly_chest)\n",
    "s13_acc_ly_forearm_filt = filtering(s13_acc_ly_forearm)\n",
    "s13_acc_ly_head_filt = filtering(s13_acc_ly_head)\n",
    "s13_acc_ly_shin_filt = filtering(s13_acc_ly_shin)\n",
    "s13_acc_ly_thigh_filt = filtering(s13_acc_ly_thigh)\n",
    "s13_acc_ly_upperarm_filt = filtering(s13_acc_ly_upperarm)\n",
    "s13_acc_ly_waist_filt = filtering(s13_acc_ly_waist)\n",
    "\n",
    "s13_acc_run_chest_filt = filtering(s13_acc_run_chest)\n",
    "s13_acc_run_forearm_filt = filtering(s13_acc_run_forearm)\n",
    "s13_acc_run_head_filt = filtering(s13_acc_run_head)\n",
    "s13_acc_run_shin_filt = filtering(s13_acc_run_shin)\n",
    "s13_acc_run_thigh_filt = filtering(s13_acc_run_thigh)\n",
    "s13_acc_run_upperarm_filt = filtering(s13_acc_run_upperarm)\n",
    "s13_acc_run_waist_filt = filtering(s13_acc_run_waist)\n",
    "\n",
    "s13_acc_sit_chest_filt = filtering(s13_acc_sit_chest)\n",
    "s13_acc_sit_forearm_filt = filtering(s13_acc_sit_forearm)\n",
    "s13_acc_sit_head_filt = filtering(s13_acc_sit_head)\n",
    "s13_acc_sit_shin_filt = filtering(s13_acc_sit_shin)\n",
    "s13_acc_sit_thigh_filt = filtering(s13_acc_sit_thigh)\n",
    "s13_acc_sit_upperarm_filt = filtering(s13_acc_sit_upperarm)\n",
    "s13_acc_sit_waist_filt = filtering(s13_acc_sit_waist)\n",
    "\n",
    "s13_acc_std_chest_filt = filtering(s13_acc_std_chest)\n",
    "s13_acc_std_forearm_filt = filtering(s13_acc_std_forearm)\n",
    "s13_acc_std_head_filt = filtering(s13_acc_std_head)\n",
    "s13_acc_std_shin_filt = filtering(s13_acc_std_shin)\n",
    "s13_acc_std_thigh_filt = filtering(s13_acc_std_thigh)\n",
    "s13_acc_std_upperarm_filt = filtering(s13_acc_std_upperarm)\n",
    "s13_acc_std_waist_filt = filtering(s13_acc_std_waist)\n",
    "\n",
    "s13_acc_wal_chest_filt = filtering(s13_acc_wal_chest)\n",
    "s13_acc_wal_forearm_filt = filtering(s13_acc_wal_forearm)\n",
    "s13_acc_wal_head_filt = filtering(s13_acc_wal_head)\n",
    "s13_acc_wal_shin_filt = filtering(s13_acc_wal_shin)\n",
    "s13_acc_wal_thigh_filt = filtering(s13_acc_wal_thigh)\n",
    "s13_acc_wal_upperarm_filt = filtering(s13_acc_wal_upperarm)\n",
    "s13_acc_wal_waist_filt = filtering(s13_acc_wal_waist)\n"
   ]
  },
  {
   "cell_type": "code",
   "execution_count": 440,
   "id": "01ba06a0",
   "metadata": {},
   "outputs": [],
   "source": [
    "#filter for user 14"
   ]
  },
  {
   "cell_type": "code",
   "execution_count": 441,
   "id": "68ab6de0",
   "metadata": {},
   "outputs": [],
   "source": [
    "s14_acc_cldn_chest_filt = filtering(s14_acc_cldn_chest)\n",
    "s14_acc_cldn_forearm_filt = filtering(s14_acc_cldn_forearm)\n",
    "s14_acc_cldn_head_filt = filtering(s14_acc_cldn_head)\n",
    "s14_acc_cldn_shin_filt = filtering(s14_acc_cldn_shin)\n",
    "s14_acc_cldn_thigh_filt = filtering(s14_acc_cldn_thigh)\n",
    "s14_acc_cldn_upperarm_filt = filtering(s14_acc_cldn_upperarm)\n",
    "s14_acc_cldn_waist_filt = filtering(s14_acc_cldn_waist)\n",
    "\n",
    "s14_acc_clup_chest_filt = filtering(s14_acc_clup_chest)\n",
    "s14_acc_clup_forearm_filt = filtering(s14_acc_clup_forearm)\n",
    "s14_acc_clup_head_filt = filtering(s14_acc_clup_head)\n",
    "s14_acc_clup_shin_filt = filtering(s14_acc_clup_shin)\n",
    "s14_acc_clup_thigh_filt = filtering(s14_acc_clup_thigh)\n",
    "s14_acc_clup_upperarm_filt = filtering(s14_acc_clup_upperarm)\n",
    "s14_acc_clup_waist_filt = filtering(s14_acc_clup_waist)\n",
    "\n",
    "s14_acc_jump_chest_filt = filtering(s14_acc_jump_chest)\n",
    "s14_acc_jump_forearm_filt = filtering(s14_acc_jump_forearm)\n",
    "s14_acc_jump_head_filt = filtering(s14_acc_jump_head)\n",
    "s14_acc_jump_shin_filt = filtering(s14_acc_jump_shin)\n",
    "s14_acc_jump_thigh_filt = filtering(s14_acc_jump_thigh)\n",
    "s14_acc_jump_upperarm_filt = filtering(s14_acc_jump_upperarm)\n",
    "s14_acc_jump_waist_filt = filtering(s14_acc_jump_waist)\n",
    "\n",
    "s14_acc_ly_chest_filt = filtering(s14_acc_ly_chest)\n",
    "s14_acc_ly_forearm_filt = filtering(s14_acc_ly_forearm)\n",
    "s14_acc_ly_head_filt = filtering(s14_acc_ly_head)\n",
    "s14_acc_ly_shin_filt = filtering(s14_acc_ly_shin)\n",
    "s14_acc_ly_thigh_filt = filtering(s14_acc_ly_thigh)\n",
    "s14_acc_ly_upperarm_filt = filtering(s14_acc_ly_upperarm)\n",
    "s14_acc_ly_waist_filt = filtering(s14_acc_ly_waist)\n",
    "\n",
    "s14_acc_run_chest_filt = filtering(s14_acc_run_chest)\n",
    "s14_acc_run_forearm_filt = filtering(s14_acc_run_forearm)\n",
    "s14_acc_run_head_filt = filtering(s14_acc_run_head)\n",
    "s14_acc_run_shin_filt = filtering(s14_acc_run_shin)\n",
    "s14_acc_run_thigh_filt = filtering(s14_acc_run_thigh)\n",
    "s14_acc_run_upperarm_filt = filtering(s14_acc_run_upperarm)\n",
    "s14_acc_run_waist_filt = filtering(s14_acc_run_waist)\n",
    "\n",
    "s14_acc_sit_chest_filt = filtering(s14_acc_sit_chest)\n",
    "s14_acc_sit_forearm_filt = filtering(s14_acc_sit_forearm)\n",
    "s14_acc_sit_head_filt = filtering(s14_acc_sit_head)\n",
    "s14_acc_sit_shin_filt = filtering(s14_acc_sit_shin)\n",
    "s14_acc_sit_thigh_filt = filtering(s14_acc_sit_thigh)\n",
    "s14_acc_sit_upperarm_filt = filtering(s14_acc_sit_upperarm)\n",
    "s14_acc_sit_waist_filt = filtering(s14_acc_sit_waist)\n",
    "\n",
    "s14_acc_std_chest_filt = filtering(s14_acc_std_chest)\n",
    "s14_acc_std_forearm_filt = filtering(s14_acc_std_forearm)\n",
    "s14_acc_std_head_filt = filtering(s14_acc_std_head)\n",
    "s14_acc_std_shin_filt = filtering(s14_acc_std_shin)\n",
    "s14_acc_std_thigh_filt = filtering(s14_acc_std_thigh)\n",
    "s14_acc_std_upperarm_filt = filtering(s14_acc_std_upperarm)\n",
    "s14_acc_std_waist_filt = filtering(s14_acc_std_waist)\n",
    "\n",
    "s14_acc_wal_chest_filt = filtering(s14_acc_wal_chest)\n",
    "s14_acc_wal_forearm_filt = filtering(s14_acc_wal_forearm)\n",
    "s14_acc_wal_head_filt = filtering(s14_acc_wal_head)\n",
    "s14_acc_wal_shin_filt = filtering(s14_acc_wal_shin)\n",
    "s14_acc_wal_thigh_filt = filtering(s14_acc_wal_thigh)\n",
    "s14_acc_wal_upperarm_filt = filtering(s14_acc_wal_upperarm)\n",
    "s14_acc_wal_waist_filt = filtering(s14_acc_wal_waist)"
   ]
  },
  {
   "cell_type": "code",
   "execution_count": 442,
   "id": "a88be7fd",
   "metadata": {},
   "outputs": [],
   "source": [
    "#filter for user 15"
   ]
  },
  {
   "cell_type": "code",
   "execution_count": 443,
   "id": "c301452e",
   "metadata": {},
   "outputs": [],
   "source": [
    "s15_acc_cldn_chest_filt = filtering(s15_acc_cldn_chest)\n",
    "s15_acc_cldn_forearm_filt = filtering(s15_acc_cldn_forearm)\n",
    "s15_acc_cldn_head_filt = filtering(s15_acc_cldn_head)\n",
    "s15_acc_cldn_shin_filt = filtering(s15_acc_cldn_shin)\n",
    "s15_acc_cldn_thigh_filt = filtering(s15_acc_cldn_thigh)\n",
    "s15_acc_cldn_upperarm_filt = filtering(s15_acc_cldn_upperarm)\n",
    "s15_acc_cldn_waist_filt = filtering(s15_acc_cldn_waist)\n",
    "\n",
    "s15_acc_clup_chest_filt = filtering(s15_acc_clup_chest)\n",
    "s15_acc_clup_forearm_filt = filtering(s15_acc_clup_forearm)\n",
    "s15_acc_clup_head_filt = filtering(s15_acc_clup_head)\n",
    "s15_acc_clup_shin_filt = filtering(s15_acc_clup_shin)\n",
    "s15_acc_clup_thigh_filt = filtering(s15_acc_clup_thigh)\n",
    "s15_acc_clup_upperarm_filt = filtering(s15_acc_clup_upperarm)\n",
    "s15_acc_clup_waist_filt = filtering(s15_acc_clup_waist)\n",
    "\n",
    "s15_acc_jump_chest_filt = filtering(s15_acc_jump_chest)\n",
    "s15_acc_jump_forearm_filt = filtering(s15_acc_jump_forearm)\n",
    "s15_acc_jump_head_filt = filtering(s15_acc_jump_head)\n",
    "s15_acc_jump_shin_filt = filtering(s15_acc_jump_shin)\n",
    "s15_acc_jump_thigh_filt = filtering(s15_acc_jump_thigh)\n",
    "s15_acc_jump_upperarm_filt = filtering(s15_acc_jump_upperarm)\n",
    "s15_acc_jump_waist_filt = filtering(s15_acc_jump_waist)\n",
    "\n",
    "s15_acc_ly_chest_filt = filtering(s15_acc_ly_chest)\n",
    "s15_acc_ly_forearm_filt = filtering(s15_acc_ly_forearm)\n",
    "s15_acc_ly_head_filt = filtering(s15_acc_ly_head)\n",
    "s15_acc_ly_shin_filt = filtering(s15_acc_ly_shin)\n",
    "s15_acc_ly_thigh_filt = filtering(s15_acc_ly_thigh)\n",
    "s15_acc_ly_upperarm_filt = filtering(s15_acc_ly_upperarm)\n",
    "s15_acc_ly_waist_filt = filtering(s15_acc_ly_waist)\n",
    "\n",
    "s15_acc_run_chest_filt = filtering(s15_acc_run_chest)\n",
    "s15_acc_run_forearm_filt = filtering(s15_acc_run_forearm)\n",
    "s15_acc_run_head_filt = filtering(s15_acc_run_head)\n",
    "s15_acc_run_shin_filt = filtering(s15_acc_run_shin)\n",
    "s15_acc_run_thigh_filt = filtering(s15_acc_run_thigh)\n",
    "s15_acc_run_upperarm_filt = filtering(s15_acc_run_upperarm)\n",
    "s15_acc_run_waist_filt = filtering(s15_acc_run_waist)\n",
    "\n",
    "s15_acc_sit_chest_filt = filtering(s15_acc_sit_chest)\n",
    "s15_acc_sit_forearm_filt = filtering(s15_acc_sit_forearm)\n",
    "s15_acc_sit_head_filt = filtering(s15_acc_sit_head)\n",
    "s15_acc_sit_shin_filt = filtering(s15_acc_sit_shin)\n",
    "s15_acc_sit_thigh_filt = filtering(s15_acc_sit_thigh)\n",
    "s15_acc_sit_upperarm_filt = filtering(s15_acc_sit_upperarm)\n",
    "s15_acc_sit_waist_filt = filtering(s15_acc_sit_waist)\n",
    "\n",
    "s15_acc_std_chest_filt = filtering(s15_acc_std_chest)\n",
    "s15_acc_std_forearm_filt = filtering(s15_acc_std_forearm)\n",
    "s15_acc_std_head_filt = filtering(s15_acc_std_head)\n",
    "s15_acc_std_shin_filt = filtering(s15_acc_std_shin)\n",
    "s15_acc_std_thigh_filt = filtering(s15_acc_std_thigh)\n",
    "s15_acc_std_upperarm_filt = filtering(s15_acc_std_upperarm)\n",
    "s15_acc_std_waist_filt = filtering(s15_acc_std_waist)\n",
    "\n",
    "s15_acc_wal_chest_filt = filtering(s15_acc_wal_chest)\n",
    "s15_acc_wal_forearm_filt = filtering(s15_acc_wal_forearm)\n",
    "s15_acc_wal_head_filt = filtering(s15_acc_wal_head)\n",
    "s15_acc_wal_shin_filt = filtering(s15_acc_wal_shin)\n",
    "s15_acc_wal_thigh_filt = filtering(s15_acc_wal_thigh)\n",
    "s15_acc_wal_upperarm_filt = filtering(s15_acc_wal_upperarm)\n",
    "s15_acc_wal_waist_filt = filtering(s15_acc_wal_waist)"
   ]
  },
  {
   "cell_type": "code",
   "execution_count": 444,
   "id": "ca612891",
   "metadata": {},
   "outputs": [],
   "source": [
    "#parseval for user 1"
   ]
  },
  {
   "cell_type": "code",
   "execution_count": 445,
   "id": "4d111f19",
   "metadata": {},
   "outputs": [],
   "source": [
    "o1 = Parseval_acc_gyr_mag(s1_acc_cldn_chest_filt)\n",
    "o2 = Parseval_acc_gyr_mag(s1_acc_cldn_head_filt)\n",
    "o3 = Parseval_acc_gyr_mag(s1_acc_cldn_forearm_filt)\n",
    "o4 = Parseval_acc_gyr_mag(s1_acc_cldn_shin_filt)\n",
    "o5 = Parseval_acc_gyr_mag(s1_acc_cldn_thigh_filt)\n",
    "o6 = Parseval_acc_gyr_mag(s1_acc_cldn_upperarm_filt)\n",
    "o7 = Parseval_acc_gyr_mag(s1_acc_cldn_waist_filt)\n",
    "\n",
    "\n",
    "\n",
    "s1_cldn_parseval = np.hstack((o1,o2,o3,o4,o5,o6,o7,))\n"
   ]
  },
  {
   "cell_type": "code",
   "execution_count": 446,
   "id": "b9d31322",
   "metadata": {},
   "outputs": [],
   "source": [
    "#parseval for user 2"
   ]
  },
  {
   "cell_type": "code",
   "execution_count": 447,
   "id": "813c7976",
   "metadata": {},
   "outputs": [],
   "source": [
    "o1 = Parseval_acc_gyr_mag(s2_acc_cldn_chest_filt)\n",
    "o2 = Parseval_acc_gyr_mag(s2_acc_cldn_head_filt)\n",
    "o3 = Parseval_acc_gyr_mag(s2_acc_cldn_forearm_filt)\n",
    "o4 = Parseval_acc_gyr_mag(s2_acc_cldn_shin_filt)\n",
    "o5 = Parseval_acc_gyr_mag(s2_acc_cldn_thigh_filt)\n",
    "o6 = Parseval_acc_gyr_mag(s2_acc_cldn_upperarm_filt)\n",
    "o7 = Parseval_acc_gyr_mag(s2_acc_cldn_waist_filt)\n",
    "s2_cldn_parseval = np.hstack((o1,o2,o3,o4,o5,o6,o7))"
   ]
  },
  {
   "cell_type": "code",
   "execution_count": 448,
   "id": "7824877f",
   "metadata": {},
   "outputs": [],
   "source": [
    "#parseval for user 3"
   ]
  },
  {
   "cell_type": "code",
   "execution_count": 449,
   "id": "347268a2",
   "metadata": {},
   "outputs": [],
   "source": [
    "o1 = Parseval_acc_gyr_mag(s3_acc_cldn_chest_filt)\n",
    "o2 = Parseval_acc_gyr_mag(s3_acc_cldn_head_filt)\n",
    "o3 = Parseval_acc_gyr_mag(s3_acc_cldn_forearm_filt)\n",
    "o4 = Parseval_acc_gyr_mag(s3_acc_cldn_shin_filt)\n",
    "o5 = Parseval_acc_gyr_mag(s3_acc_cldn_thigh_filt)\n",
    "o6 = Parseval_acc_gyr_mag(s3_acc_cldn_upperarm_filt)\n",
    "o7 = Parseval_acc_gyr_mag(s3_acc_cldn_waist_filt)\n",
    "s3_cldn_parseval = np.hstack((o1,o2,o3,o4,o5,o6,o7))"
   ]
  },
  {
   "cell_type": "code",
   "execution_count": 450,
   "id": "ae373137",
   "metadata": {},
   "outputs": [],
   "source": [
    "#parseval for user 4"
   ]
  },
  {
   "cell_type": "code",
   "execution_count": 451,
   "id": "9fbde5d1",
   "metadata": {},
   "outputs": [],
   "source": [
    "o1 = Parseval_acc_gyr_mag(s4_acc_cldn_chest_filt)\n",
    "o2 = Parseval_acc_gyr_mag(s4_acc_cldn_head_filt)\n",
    "o3 = Parseval_acc_gyr_mag(s4_acc_cldn_forearm_filt)\n",
    "o4 = Parseval_acc_gyr_mag(s4_acc_cldn_shin_filt)\n",
    "o5 = Parseval_acc_gyr_mag(s4_acc_cldn_thigh_filt)\n",
    "o6 = Parseval_acc_gyr_mag(s4_acc_cldn_upperarm_filt)\n",
    "o7 = Parseval_acc_gyr_mag(s4_acc_cldn_waist_filt)\n",
    "s4_cldn_parseval = np.hstack((o1,o2,o3,o4,o5,o6,o7))"
   ]
  },
  {
   "cell_type": "code",
   "execution_count": 452,
   "id": "c07f5d34",
   "metadata": {},
   "outputs": [],
   "source": [
    "#parseval for user 5"
   ]
  },
  {
   "cell_type": "code",
   "execution_count": 453,
   "id": "c1456623",
   "metadata": {},
   "outputs": [],
   "source": [
    "o1 = Parseval_acc_gyr_mag(s5_acc_cldn_chest_filt)\n",
    "o2 = Parseval_acc_gyr_mag(s5_acc_cldn_head_filt)\n",
    "o3 = Parseval_acc_gyr_mag(s5_acc_cldn_forearm_filt)\n",
    "o4 = Parseval_acc_gyr_mag(s5_acc_cldn_shin_filt)\n",
    "o5 = Parseval_acc_gyr_mag(s5_acc_cldn_thigh_filt)\n",
    "o6 = Parseval_acc_gyr_mag(s5_acc_cldn_upperarm_filt)\n",
    "o7 = Parseval_acc_gyr_mag(s5_acc_cldn_waist_filt)\n",
    "s5_cldn_parseval = np.hstack((o1,o2,o3,o4,o5,o6,o7))"
   ]
  },
  {
   "cell_type": "code",
   "execution_count": 454,
   "id": "265fc0a9",
   "metadata": {},
   "outputs": [],
   "source": [
    "o1 = Parseval_acc_gyr_mag(s6_acc_cldn_chest_filt)\n",
    "o2 = Parseval_acc_gyr_mag(s6_acc_cldn_head_filt)\n",
    "o3 = Parseval_acc_gyr_mag(s6_acc_cldn_forearm_filt)\n",
    "o4 = Parseval_acc_gyr_mag(s6_acc_cldn_shin_filt)\n",
    "o5 = Parseval_acc_gyr_mag(s6_acc_cldn_thigh_filt)\n",
    "o6 = Parseval_acc_gyr_mag(s6_acc_cldn_upperarm_filt)\n",
    "o7 = Parseval_acc_gyr_mag(s6_acc_cldn_waist_filt)\n",
    "s6_cldn_parseval = np.hstack((o1,o2,o3,o4,o5,o6,o7))"
   ]
  },
  {
   "cell_type": "code",
   "execution_count": 455,
   "id": "964780c3",
   "metadata": {},
   "outputs": [],
   "source": [
    "o1 = Parseval_acc_gyr_mag(s7_acc_cldn_chest_filt)\n",
    "o2 = Parseval_acc_gyr_mag(s7_acc_cldn_head_filt)\n",
    "o3 = Parseval_acc_gyr_mag(s7_acc_cldn_forearm_filt)\n",
    "o4 = Parseval_acc_gyr_mag(s7_acc_cldn_shin_filt)\n",
    "o5 = Parseval_acc_gyr_mag(s7_acc_cldn_thigh_filt)\n",
    "o6 = Parseval_acc_gyr_mag(s7_acc_cldn_upperarm_filt)\n",
    "o7 = Parseval_acc_gyr_mag(s7_acc_cldn_waist_filt)\n",
    "s7_cldn_parseval = np.hstack((o1,o2,o3,o4,o5,o6,o7))"
   ]
  },
  {
   "cell_type": "code",
   "execution_count": 456,
   "id": "c4d66cf5",
   "metadata": {},
   "outputs": [],
   "source": [
    "o1 = Parseval_acc_gyr_mag(s8_acc_cldn_chest_filt)\n",
    "o2 = Parseval_acc_gyr_mag(s8_acc_cldn_head_filt)\n",
    "o3 = Parseval_acc_gyr_mag(s8_acc_cldn_forearm_filt)\n",
    "o4 = Parseval_acc_gyr_mag(s8_acc_cldn_shin_filt)\n",
    "o5 = Parseval_acc_gyr_mag(s8_acc_cldn_thigh_filt)\n",
    "o6 = Parseval_acc_gyr_mag(s8_acc_cldn_upperarm_filt)\n",
    "o7 = Parseval_acc_gyr_mag(s8_acc_cldn_waist_filt)\n",
    "s8_cldn_parseval = np.hstack((o1,o2,o3,o4,o5,o6,o7))"
   ]
  },
  {
   "cell_type": "code",
   "execution_count": 457,
   "id": "5c9d5cd8",
   "metadata": {},
   "outputs": [],
   "source": [
    "o1 = Parseval_acc_gyr_mag(s9_acc_cldn_chest_filt)\n",
    "o2 = Parseval_acc_gyr_mag(s9_acc_cldn_head_filt)\n",
    "o3 = Parseval_acc_gyr_mag(s9_acc_cldn_forearm_filt)\n",
    "o4 = Parseval_acc_gyr_mag(s9_acc_cldn_shin_filt)\n",
    "o5 = Parseval_acc_gyr_mag(s9_acc_cldn_thigh_filt)\n",
    "o6 = Parseval_acc_gyr_mag(s9_acc_cldn_upperarm_filt)\n",
    "o7 = Parseval_acc_gyr_mag(s9_acc_cldn_waist_filt)\n",
    "s9_cldn_parseval = np.hstack((o1,o2,o3,o4,o5,o6,o7))"
   ]
  },
  {
   "cell_type": "code",
   "execution_count": 458,
   "id": "0e96d8a2",
   "metadata": {},
   "outputs": [],
   "source": [
    "o1 = Parseval_acc_gyr_mag(s10_acc_cldn_chest_filt)\n",
    "o2 = Parseval_acc_gyr_mag(s10_acc_cldn_head_filt)\n",
    "o3 = Parseval_acc_gyr_mag(s10_acc_cldn_forearm_filt)\n",
    "o4 = Parseval_acc_gyr_mag(s10_acc_cldn_shin_filt)\n",
    "o5 = Parseval_acc_gyr_mag(s10_acc_cldn_thigh_filt)\n",
    "o6 = Parseval_acc_gyr_mag(s10_acc_cldn_upperarm_filt)\n",
    "o7 = Parseval_acc_gyr_mag(s10_acc_cldn_waist_filt)\n",
    "s10_cldn_parseval = np.hstack((o1,o2,o3,o4,o5,o6,o7))"
   ]
  },
  {
   "cell_type": "code",
   "execution_count": 459,
   "id": "a99ca50e",
   "metadata": {},
   "outputs": [],
   "source": [
    "o1 = Parseval_acc_gyr_mag(s11_acc_cldn_chest_filt)\n",
    "o2 = Parseval_acc_gyr_mag(s11_acc_cldn_head_filt)\n",
    "o3 = Parseval_acc_gyr_mag(s11_acc_cldn_forearm_filt)\n",
    "o4 = Parseval_acc_gyr_mag(s11_acc_cldn_shin_filt)\n",
    "o5 = Parseval_acc_gyr_mag(s11_acc_cldn_thigh_filt)\n",
    "o6 = Parseval_acc_gyr_mag(s11_acc_cldn_upperarm_filt)\n",
    "o7 = Parseval_acc_gyr_mag(s11_acc_cldn_waist_filt)\n",
    "s11_cldn_parseval = np.hstack((o1,o2,o3,o4,o5,o6,o7))"
   ]
  },
  {
   "cell_type": "code",
   "execution_count": 460,
   "id": "246b75ac",
   "metadata": {},
   "outputs": [],
   "source": [
    "o1 = Parseval_acc_gyr_mag(s12_acc_cldn_chest_filt)\n",
    "o2 = Parseval_acc_gyr_mag(s12_acc_cldn_head_filt)\n",
    "o3 = Parseval_acc_gyr_mag(s12_acc_cldn_forearm_filt)\n",
    "o4 = Parseval_acc_gyr_mag(s12_acc_cldn_shin_filt)\n",
    "o5 = Parseval_acc_gyr_mag(s12_acc_cldn_thigh_filt)\n",
    "o6 = Parseval_acc_gyr_mag(s12_acc_cldn_upperarm_filt)\n",
    "o7 = Parseval_acc_gyr_mag(s12_acc_cldn_waist_filt)\n",
    "s12_cldn_parseval = np.hstack((o1,o2,o3,o4,o5,o6,o7))"
   ]
  },
  {
   "cell_type": "code",
   "execution_count": 461,
   "id": "3186c9db",
   "metadata": {},
   "outputs": [],
   "source": [
    "o1 = Parseval_acc_gyr_mag(s13_acc_cldn_chest_filt)\n",
    "o2 = Parseval_acc_gyr_mag(s13_acc_cldn_head_filt)\n",
    "o3 = Parseval_acc_gyr_mag(s13_acc_cldn_forearm_filt)\n",
    "o4 = Parseval_acc_gyr_mag(s13_acc_cldn_shin_filt)\n",
    "o5 = Parseval_acc_gyr_mag(s13_acc_cldn_thigh_filt)\n",
    "o6 = Parseval_acc_gyr_mag(s13_acc_cldn_upperarm_filt)\n",
    "o7 = Parseval_acc_gyr_mag(s13_acc_cldn_waist_filt)\n",
    "s13_cldn_parseval = np.hstack((o1,o2,o3,o4,o5,o6,o7))"
   ]
  },
  {
   "cell_type": "code",
   "execution_count": 462,
   "id": "5c489d09",
   "metadata": {},
   "outputs": [],
   "source": [
    "o1 = Parseval_acc_gyr_mag(s14_acc_cldn_chest_filt)\n",
    "o2 = Parseval_acc_gyr_mag(s14_acc_cldn_head_filt)\n",
    "o3 = Parseval_acc_gyr_mag(s14_acc_cldn_forearm_filt)\n",
    "o4 = Parseval_acc_gyr_mag(s14_acc_cldn_shin_filt)\n",
    "o5 = Parseval_acc_gyr_mag(s14_acc_cldn_thigh_filt)\n",
    "o6 = Parseval_acc_gyr_mag(s14_acc_cldn_upperarm_filt)\n",
    "o7 = Parseval_acc_gyr_mag(s14_acc_cldn_waist_filt)\n",
    "s14_cldn_parseval = np.hstack((o1,o2,o3,o4,o5,o6,o7))"
   ]
  },
  {
   "cell_type": "code",
   "execution_count": 463,
   "id": "dbc6313e",
   "metadata": {},
   "outputs": [],
   "source": [
    "o1 = Parseval_acc_gyr_mag(s15_acc_cldn_chest_filt)\n",
    "o2 = Parseval_acc_gyr_mag(s15_acc_cldn_head_filt)\n",
    "o3 = Parseval_acc_gyr_mag(s15_acc_cldn_forearm_filt)\n",
    "o4 = Parseval_acc_gyr_mag(s15_acc_cldn_shin_filt)\n",
    "o5 = Parseval_acc_gyr_mag(s15_acc_cldn_thigh_filt)\n",
    "o6 = Parseval_acc_gyr_mag(s15_acc_cldn_upperarm_filt)\n",
    "o7 = Parseval_acc_gyr_mag(s15_acc_cldn_waist_filt)\n",
    "s15_cldn_parseval = np.hstack((o1,o2,o3,o4,o5,o6,o7))"
   ]
  },
  {
   "cell_type": "code",
   "execution_count": 464,
   "id": "31d2dc62",
   "metadata": {},
   "outputs": [],
   "source": [
    "cldn_parseval = []\n",
    "cldn_parseval.append(s1_cldn_parseval)\n",
    "cldn_parseval.append(s2_cldn_parseval)\n",
    "cldn_parseval.append(s3_cldn_parseval)\n",
    "cldn_parseval.append(s4_cldn_parseval)\n",
    "cldn_parseval.append(s5_cldn_parseval)\n",
    "cldn_parseval.append(s6_cldn_parseval)\n",
    "cldn_parseval.append(s7_cldn_parseval)\n",
    "cldn_parseval.append(s8_cldn_parseval)\n",
    "cldn_parseval.append(s9_cldn_parseval)\n",
    "cldn_parseval.append(s10_cldn_parseval)\n",
    "cldn_parseval.append(s11_cldn_parseval)\n",
    "cldn_parseval.append(s12_cldn_parseval)\n",
    "cldn_parseval.append(s13_cldn_parseval)\n",
    "cldn_parseval.append(s14_cldn_parseval)\n",
    "cldn_parseval.append(s15_cldn_parseval)"
   ]
  },
  {
   "cell_type": "code",
   "execution_count": 465,
   "id": "c0d4fcc1",
   "metadata": {},
   "outputs": [],
   "source": [
    "#$skewness"
   ]
  },
  {
   "cell_type": "code",
   "execution_count": 466,
   "id": "1707cb7b",
   "metadata": {},
   "outputs": [],
   "source": [
    "o1 = Skewness_acc_gyr_mag(s1_acc_cldn_chest_filt)\n",
    "o2 = Skewness_acc_gyr_mag(s1_acc_cldn_head_filt)\n",
    "o3 = Skewness_acc_gyr_mag(s1_acc_cldn_forearm_filt)\n",
    "o4 = Skewness_acc_gyr_mag(s1_acc_cldn_shin_filt)\n",
    "o5 = Skewness_acc_gyr_mag(s1_acc_cldn_thigh_filt)\n",
    "o6 = Skewness_acc_gyr_mag(s1_acc_cldn_upperarm_filt)\n",
    "o7 = Skewness_acc_gyr_mag(s1_acc_cldn_waist_filt)\n",
    "s1_cldn_skew = np.hstack((o1,o2,o3,o4,o5,o6,o7))"
   ]
  },
  {
   "cell_type": "code",
   "execution_count": 467,
   "id": "1f575a70",
   "metadata": {},
   "outputs": [],
   "source": [
    "o1 = Skewness_acc_gyr_mag(s2_acc_cldn_chest_filt)\n",
    "o2 = Skewness_acc_gyr_mag(s2_acc_cldn_head_filt)\n",
    "o3 = Skewness_acc_gyr_mag(s2_acc_cldn_forearm_filt)\n",
    "o4 = Skewness_acc_gyr_mag(s2_acc_cldn_shin_filt)\n",
    "o5 = Skewness_acc_gyr_mag(s2_acc_cldn_thigh_filt)\n",
    "o6 = Skewness_acc_gyr_mag(s2_acc_cldn_upperarm_filt)\n",
    "o7 = Skewness_acc_gyr_mag(s2_acc_cldn_waist_filt)\n",
    "s2_cldn_skew = np.hstack((o1,o2,o3,o4,o5,o6,o7))"
   ]
  },
  {
   "cell_type": "code",
   "execution_count": 468,
   "id": "6f835557",
   "metadata": {},
   "outputs": [],
   "source": [
    "o1 = Skewness_acc_gyr_mag(s3_acc_cldn_chest_filt)\n",
    "o2 = Skewness_acc_gyr_mag(s3_acc_cldn_head_filt)\n",
    "o3 = Skewness_acc_gyr_mag(s3_acc_cldn_forearm_filt)\n",
    "o4 = Skewness_acc_gyr_mag(s3_acc_cldn_shin_filt)\n",
    "o5 = Skewness_acc_gyr_mag(s3_acc_cldn_thigh_filt)\n",
    "o6 = Skewness_acc_gyr_mag(s3_acc_cldn_upperarm_filt)\n",
    "o7 = Skewness_acc_gyr_mag(s3_acc_cldn_waist_filt)\n",
    "s3_cldn_skew = np.hstack((o1,o2,o3,o4,o5,o6,o7))"
   ]
  },
  {
   "cell_type": "code",
   "execution_count": 469,
   "id": "506ab2f1",
   "metadata": {},
   "outputs": [],
   "source": [
    "o1 = Skewness_acc_gyr_mag(s4_acc_cldn_chest_filt)\n",
    "o2 = Skewness_acc_gyr_mag(s4_acc_cldn_head_filt)\n",
    "o3 = Skewness_acc_gyr_mag(s4_acc_cldn_forearm_filt)\n",
    "o4 = Skewness_acc_gyr_mag(s4_acc_cldn_shin_filt)\n",
    "o5 = Skewness_acc_gyr_mag(s4_acc_cldn_thigh_filt)\n",
    "o6 = Skewness_acc_gyr_mag(s4_acc_cldn_upperarm_filt)\n",
    "o7 = Skewness_acc_gyr_mag(s4_acc_cldn_waist_filt)\n",
    "s4_cldn_skew = np.hstack((o1,o2,o3,o4,o5,o6,o7))"
   ]
  },
  {
   "cell_type": "code",
   "execution_count": 470,
   "id": "a61772e5",
   "metadata": {},
   "outputs": [],
   "source": [
    "o1 = Skewness_acc_gyr_mag(s5_acc_cldn_chest_filt)\n",
    "o2 = Skewness_acc_gyr_mag(s5_acc_cldn_head_filt)\n",
    "o3 = Skewness_acc_gyr_mag(s5_acc_cldn_forearm_filt)\n",
    "o4 = Skewness_acc_gyr_mag(s5_acc_cldn_shin_filt)\n",
    "o5 = Skewness_acc_gyr_mag(s5_acc_cldn_thigh_filt)\n",
    "o6 = Skewness_acc_gyr_mag(s5_acc_cldn_upperarm_filt)\n",
    "o7 = Skewness_acc_gyr_mag(s5_acc_cldn_waist_filt)\n",
    "s5_cldn_skew = np.hstack((o1,o2,o3,o4,o5,o6,o7))"
   ]
  },
  {
   "cell_type": "code",
   "execution_count": 471,
   "id": "0389f835",
   "metadata": {},
   "outputs": [],
   "source": [
    "\n",
    "o1 = Skewness_acc_gyr_mag(s6_acc_cldn_chest_filt)\n",
    "o2 = Skewness_acc_gyr_mag(s6_acc_cldn_head_filt)\n",
    "o3 = Skewness_acc_gyr_mag(s6_acc_cldn_forearm_filt)\n",
    "o4 = Skewness_acc_gyr_mag(s6_acc_cldn_shin_filt)\n",
    "o5 = Skewness_acc_gyr_mag(s6_acc_cldn_thigh_filt)\n",
    "o6 = Skewness_acc_gyr_mag(s6_acc_cldn_upperarm_filt)\n",
    "o7 = Skewness_acc_gyr_mag(s6_acc_cldn_waist_filt)\n",
    "s6_cldn_skew = np.hstack((o1,o2,o3,o4,o5,o6,o7))"
   ]
  },
  {
   "cell_type": "code",
   "execution_count": 472,
   "id": "4cf7bc3c",
   "metadata": {},
   "outputs": [],
   "source": [
    "o1 = Skewness_acc_gyr_mag(s7_acc_cldn_chest_filt)\n",
    "o2 = Skewness_acc_gyr_mag(s7_acc_cldn_head_filt)\n",
    "o3 = Skewness_acc_gyr_mag(s7_acc_cldn_forearm_filt)\n",
    "o4 = Skewness_acc_gyr_mag(s7_acc_cldn_shin_filt)\n",
    "o5 = Skewness_acc_gyr_mag(s7_acc_cldn_thigh_filt)\n",
    "o6 = Skewness_acc_gyr_mag(s7_acc_cldn_upperarm_filt)\n",
    "o7 = Skewness_acc_gyr_mag(s7_acc_cldn_waist_filt)\n",
    "s7_cldn_skew = np.hstack((o1,o2,o3,o4,o5,o6,o7))"
   ]
  },
  {
   "cell_type": "code",
   "execution_count": 473,
   "id": "fcce3f7c",
   "metadata": {},
   "outputs": [],
   "source": [
    "o1 = Skewness_acc_gyr_mag(s8_acc_cldn_chest_filt)\n",
    "o2 = Skewness_acc_gyr_mag(s8_acc_cldn_head_filt)\n",
    "o3 = Skewness_acc_gyr_mag(s8_acc_cldn_forearm_filt)\n",
    "o4 = Skewness_acc_gyr_mag(s8_acc_cldn_shin_filt)\n",
    "o5 = Skewness_acc_gyr_mag(s8_acc_cldn_thigh_filt)\n",
    "o6 = Skewness_acc_gyr_mag(s8_acc_cldn_upperarm_filt)\n",
    "o7 = Skewness_acc_gyr_mag(s8_acc_cldn_waist_filt)\n",
    "s8_cldn_skew = np.hstack((o1,o2,o3,o4,o5,o6,o7))"
   ]
  },
  {
   "cell_type": "code",
   "execution_count": 474,
   "id": "75ca1ac9",
   "metadata": {},
   "outputs": [],
   "source": [
    "o1 = Skewness_acc_gyr_mag(s9_acc_cldn_chest_filt)\n",
    "o2 = Skewness_acc_gyr_mag(s9_acc_cldn_head_filt)\n",
    "o3 = Skewness_acc_gyr_mag(s9_acc_cldn_forearm_filt)\n",
    "o4 = Skewness_acc_gyr_mag(s9_acc_cldn_shin_filt)\n",
    "o5 = Skewness_acc_gyr_mag(s9_acc_cldn_thigh_filt)\n",
    "o6 = Skewness_acc_gyr_mag(s9_acc_cldn_upperarm_filt)\n",
    "o7 = Skewness_acc_gyr_mag(s9_acc_cldn_waist_filt)\n",
    "s9_cldn_skew = np.hstack((o1,o2,o3,o4,o5,o6,o7))"
   ]
  },
  {
   "cell_type": "code",
   "execution_count": 475,
   "id": "a7444eb2",
   "metadata": {},
   "outputs": [],
   "source": [
    "o1 = Skewness_acc_gyr_mag(s10_acc_cldn_chest_filt)\n",
    "o2 = Skewness_acc_gyr_mag(s10_acc_cldn_head_filt)\n",
    "o3 = Skewness_acc_gyr_mag(s10_acc_cldn_forearm_filt)\n",
    "o4 = Skewness_acc_gyr_mag(s10_acc_cldn_shin_filt)\n",
    "o5 = Skewness_acc_gyr_mag(s10_acc_cldn_thigh_filt)\n",
    "o6 = Skewness_acc_gyr_mag(s10_acc_cldn_upperarm_filt)\n",
    "o7 = Skewness_acc_gyr_mag(s10_acc_cldn_waist_filt)\n",
    "s10_cldn_skew = np.hstack((o1,o2,o3,o4,o5,o6,o7))"
   ]
  },
  {
   "cell_type": "code",
   "execution_count": 476,
   "id": "6e0a2100",
   "metadata": {},
   "outputs": [],
   "source": [
    "o1 = Skewness_acc_gyr_mag(s11_acc_cldn_chest_filt)\n",
    "o2 = Skewness_acc_gyr_mag(s11_acc_cldn_head_filt)\n",
    "o3 = Skewness_acc_gyr_mag(s11_acc_cldn_forearm_filt)\n",
    "o4 = Skewness_acc_gyr_mag(s11_acc_cldn_shin_filt)\n",
    "o5 = Skewness_acc_gyr_mag(s11_acc_cldn_thigh_filt)\n",
    "o6 = Skewness_acc_gyr_mag(s11_acc_cldn_upperarm_filt)\n",
    "o7 = Skewness_acc_gyr_mag(s11_acc_cldn_waist_filt)\n",
    "s11_cldn_skew = np.hstack((o1,o2,o3,o4,o5,o6,o7))"
   ]
  },
  {
   "cell_type": "code",
   "execution_count": 477,
   "id": "949385b3",
   "metadata": {},
   "outputs": [],
   "source": [
    "o1 = Skewness_acc_gyr_mag(s12_acc_cldn_chest_filt)\n",
    "o2 = Skewness_acc_gyr_mag(s12_acc_cldn_head_filt)\n",
    "o3 = Skewness_acc_gyr_mag(s12_acc_cldn_forearm_filt)\n",
    "o4 = Skewness_acc_gyr_mag(s12_acc_cldn_shin_filt)\n",
    "o5 = Skewness_acc_gyr_mag(s12_acc_cldn_thigh_filt)\n",
    "o6 = Skewness_acc_gyr_mag(s12_acc_cldn_upperarm_filt)\n",
    "o7 = Skewness_acc_gyr_mag(s12_acc_cldn_waist_filt)\n",
    "s12_cldn_skew = np.hstack((o1,o2,o3,o4,o5,o6,o7))"
   ]
  },
  {
   "cell_type": "code",
   "execution_count": 478,
   "id": "b11ed80e",
   "metadata": {},
   "outputs": [],
   "source": [
    "o1 = Skewness_acc_gyr_mag(s13_acc_cldn_chest_filt)\n",
    "o2 = Skewness_acc_gyr_mag(s13_acc_cldn_head_filt)\n",
    "o3 = Skewness_acc_gyr_mag(s13_acc_cldn_forearm_filt)\n",
    "o4 = Skewness_acc_gyr_mag(s13_acc_cldn_shin_filt)\n",
    "o5 = Skewness_acc_gyr_mag(s13_acc_cldn_thigh_filt)\n",
    "o6 = Skewness_acc_gyr_mag(s13_acc_cldn_upperarm_filt)\n",
    "o7 = Skewness_acc_gyr_mag(s13_acc_cldn_waist_filt)\n",
    "s13_cldn_skew = np.hstack((o1,o2,o3,o4,o5,o6,o7))"
   ]
  },
  {
   "cell_type": "code",
   "execution_count": 479,
   "id": "19fd27f1",
   "metadata": {},
   "outputs": [],
   "source": [
    "o1 = Skewness_acc_gyr_mag(s14_acc_cldn_chest_filt)\n",
    "o2 = Skewness_acc_gyr_mag(s14_acc_cldn_head_filt)\n",
    "o3 = Skewness_acc_gyr_mag(s14_acc_cldn_forearm_filt)\n",
    "o4 = Skewness_acc_gyr_mag(s14_acc_cldn_shin_filt)\n",
    "o5 = Skewness_acc_gyr_mag(s14_acc_cldn_thigh_filt)\n",
    "o6 = Skewness_acc_gyr_mag(s14_acc_cldn_upperarm_filt)\n",
    "o7 = Skewness_acc_gyr_mag(s14_acc_cldn_waist_filt)\n",
    "s14_cldn_skew = np.hstack((o1,o2,o3,o4,o5,o6,o7))"
   ]
  },
  {
   "cell_type": "code",
   "execution_count": 480,
   "id": "03f94bdf",
   "metadata": {},
   "outputs": [],
   "source": [
    "o1 = Skewness_acc_gyr_mag(s15_acc_cldn_chest_filt)\n",
    "o2 = Skewness_acc_gyr_mag(s15_acc_cldn_head_filt)\n",
    "o3 = Skewness_acc_gyr_mag(s15_acc_cldn_forearm_filt)\n",
    "o4 = Skewness_acc_gyr_mag(s15_acc_cldn_shin_filt)\n",
    "o5 = Skewness_acc_gyr_mag(s15_acc_cldn_thigh_filt)\n",
    "o6 = Skewness_acc_gyr_mag(s15_acc_cldn_upperarm_filt)\n",
    "o7 = Skewness_acc_gyr_mag(s15_acc_cldn_waist_filt)\n",
    "s15_cldn_skew = np.hstack((o1,o2,o3,o4,o5,o6,o7))"
   ]
  },
  {
   "cell_type": "code",
   "execution_count": 481,
   "id": "57f4042a",
   "metadata": {},
   "outputs": [],
   "source": [
    "\n",
    "cldn_skew = []\n",
    "cldn_skew.append(s1_cldn_skew)\n",
    "cldn_skew.append(s2_cldn_skew)\n",
    "cldn_skew.append(s3_cldn_skew)\n",
    "cldn_skew.append(s4_cldn_skew)\n",
    "cldn_skew.append(s5_cldn_skew)\n",
    "cldn_skew.append(s6_cldn_skew)\n",
    "cldn_skew.append(s7_cldn_skew)\n",
    "cldn_skew.append(s8_cldn_skew)\n",
    "cldn_skew.append(s9_cldn_skew)\n",
    "cldn_skew.append(s10_cldn_skew)\n",
    "cldn_skew.append(s11_cldn_skew)\n",
    "cldn_skew.append(s12_cldn_skew)\n",
    "cldn_skew.append(s13_cldn_skew)\n",
    "cldn_skew.append(s14_cldn_skew)\n",
    "cldn_skew.append(s15_cldn_skew)\n"
   ]
  },
  {
   "cell_type": "code",
   "execution_count": 482,
   "id": "0eb059a6",
   "metadata": {},
   "outputs": [],
   "source": [
    "#fft minmax"
   ]
  },
  {
   "cell_type": "code",
   "execution_count": 483,
   "id": "b8b89651",
   "metadata": {},
   "outputs": [],
   "source": [
    "o1 = Fft_MaxMinDiff_acc_gyr_mag(s1_acc_cldn_chest_filt)\n",
    "o2 = Fft_MaxMinDiff_acc_gyr_mag(s1_acc_cldn_head_filt)\n",
    "o3 = Fft_MaxMinDiff_acc_gyr_mag(s1_acc_cldn_forearm_filt)\n",
    "o4 = Fft_MaxMinDiff_acc_gyr_mag(s1_acc_cldn_shin_filt)\n",
    "o5 = Fft_MaxMinDiff_acc_gyr_mag(s1_acc_cldn_thigh_filt)\n",
    "o6 = Fft_MaxMinDiff_acc_gyr_mag(s1_acc_cldn_upperarm_filt)\n",
    "o7 = Fft_MaxMinDiff_acc_gyr_mag(s1_acc_cldn_waist_filt)\n",
    "s1_cldn_FD = np.hstack((o1,o2,o3,o4,o5,o6,o7))"
   ]
  },
  {
   "cell_type": "code",
   "execution_count": 484,
   "id": "566f69b9",
   "metadata": {},
   "outputs": [],
   "source": [
    "o1 = Fft_MaxMinDiff_acc_gyr_mag(s2_acc_cldn_chest_filt)\n",
    "o2 = Fft_MaxMinDiff_acc_gyr_mag(s2_acc_cldn_head_filt)\n",
    "o3 = Fft_MaxMinDiff_acc_gyr_mag(s2_acc_cldn_forearm_filt)\n",
    "o4 = Fft_MaxMinDiff_acc_gyr_mag(s2_acc_cldn_shin_filt)\n",
    "o5 = Fft_MaxMinDiff_acc_gyr_mag(s2_acc_cldn_thigh_filt)\n",
    "o6 = Fft_MaxMinDiff_acc_gyr_mag(s2_acc_cldn_upperarm_filt)\n",
    "o7 = Fft_MaxMinDiff_acc_gyr_mag(s2_acc_cldn_waist_filt)\n",
    "s2_cldn_FD = np.hstack((o1,o2,o3,o4,o5,o6,o7))"
   ]
  },
  {
   "cell_type": "code",
   "execution_count": 485,
   "id": "2cab8b59",
   "metadata": {},
   "outputs": [],
   "source": [
    "o1 = Fft_MaxMinDiff_acc_gyr_mag(s3_acc_cldn_chest_filt)\n",
    "o2 = Fft_MaxMinDiff_acc_gyr_mag(s3_acc_cldn_head_filt)\n",
    "o3 = Fft_MaxMinDiff_acc_gyr_mag(s3_acc_cldn_forearm_filt)\n",
    "o4 = Fft_MaxMinDiff_acc_gyr_mag(s3_acc_cldn_shin_filt)\n",
    "o5 = Fft_MaxMinDiff_acc_gyr_mag(s3_acc_cldn_thigh_filt)\n",
    "o6 = Fft_MaxMinDiff_acc_gyr_mag(s3_acc_cldn_upperarm_filt)\n",
    "o7 = Fft_MaxMinDiff_acc_gyr_mag(s3_acc_cldn_waist_filt)\n",
    "s3_cldn_FD = np.hstack((o1,o2,o3,o4,o5,o6,o7))"
   ]
  },
  {
   "cell_type": "code",
   "execution_count": 486,
   "id": "cd90cdc9",
   "metadata": {},
   "outputs": [],
   "source": [
    "o1 = Fft_MaxMinDiff_acc_gyr_mag(s4_acc_cldn_chest_filt)\n",
    "o2 = Fft_MaxMinDiff_acc_gyr_mag(s4_acc_cldn_head_filt)\n",
    "o3 = Fft_MaxMinDiff_acc_gyr_mag(s4_acc_cldn_forearm_filt)\n",
    "o4 = Fft_MaxMinDiff_acc_gyr_mag(s4_acc_cldn_shin_filt)\n",
    "o5 = Fft_MaxMinDiff_acc_gyr_mag(s4_acc_cldn_thigh_filt)\n",
    "o6 = Fft_MaxMinDiff_acc_gyr_mag(s4_acc_cldn_upperarm_filt)\n",
    "o7 = Fft_MaxMinDiff_acc_gyr_mag(s4_acc_cldn_waist_filt)\n",
    "s4_cldn_FD = np.hstack((o1,o2,o3,o4,o5,o6,o7))"
   ]
  },
  {
   "cell_type": "code",
   "execution_count": 487,
   "id": "1e496e52",
   "metadata": {},
   "outputs": [],
   "source": [
    "o1 = Fft_MaxMinDiff_acc_gyr_mag(s5_acc_cldn_chest_filt)\n",
    "o2 = Fft_MaxMinDiff_acc_gyr_mag(s5_acc_cldn_head_filt)\n",
    "o3 = Fft_MaxMinDiff_acc_gyr_mag(s5_acc_cldn_forearm_filt)\n",
    "o4 = Fft_MaxMinDiff_acc_gyr_mag(s5_acc_cldn_shin_filt)\n",
    "o5 = Fft_MaxMinDiff_acc_gyr_mag(s5_acc_cldn_thigh_filt)\n",
    "o6 = Fft_MaxMinDiff_acc_gyr_mag(s5_acc_cldn_upperarm_filt)\n",
    "o7 = Fft_MaxMinDiff_acc_gyr_mag(s5_acc_cldn_waist_filt)\n",
    "s5_cldn_FD = np.hstack((o1,o2,o3,o4,o5,o6,o7))"
   ]
  },
  {
   "cell_type": "code",
   "execution_count": 488,
   "id": "55b333f6",
   "metadata": {},
   "outputs": [],
   "source": [
    "o1 = Fft_MaxMinDiff_acc_gyr_mag(s6_acc_cldn_chest_filt)\n",
    "o2 = Fft_MaxMinDiff_acc_gyr_mag(s6_acc_cldn_head_filt)\n",
    "o3 = Fft_MaxMinDiff_acc_gyr_mag(s6_acc_cldn_forearm_filt)\n",
    "o4 = Fft_MaxMinDiff_acc_gyr_mag(s6_acc_cldn_shin_filt)\n",
    "o5 = Fft_MaxMinDiff_acc_gyr_mag(s6_acc_cldn_thigh_filt)\n",
    "o6 = Fft_MaxMinDiff_acc_gyr_mag(s6_acc_cldn_upperarm_filt)\n",
    "o7 = Fft_MaxMinDiff_acc_gyr_mag(s6_acc_cldn_waist_filt)\n",
    "s6_cldn_FD = np.hstack((o1,o2,o3,o4,o5,o6,o7))"
   ]
  },
  {
   "cell_type": "code",
   "execution_count": 489,
   "id": "a5974012",
   "metadata": {},
   "outputs": [],
   "source": [
    "o1 = Fft_MaxMinDiff_acc_gyr_mag(s7_acc_cldn_chest_filt)\n",
    "o2 = Fft_MaxMinDiff_acc_gyr_mag(s7_acc_cldn_head_filt)\n",
    "o3 = Fft_MaxMinDiff_acc_gyr_mag(s7_acc_cldn_forearm_filt)\n",
    "o4 = Fft_MaxMinDiff_acc_gyr_mag(s7_acc_cldn_shin_filt)\n",
    "o5 = Fft_MaxMinDiff_acc_gyr_mag(s7_acc_cldn_thigh_filt)\n",
    "o6 = Fft_MaxMinDiff_acc_gyr_mag(s7_acc_cldn_upperarm_filt)\n",
    "o7 = Fft_MaxMinDiff_acc_gyr_mag(s7_acc_cldn_waist_filt)\n",
    "s7_cldn_FD = np.hstack((o1,o2,o3,o4,o5,o6,o7))"
   ]
  },
  {
   "cell_type": "code",
   "execution_count": 490,
   "id": "ba718363",
   "metadata": {},
   "outputs": [],
   "source": [
    "o1 = Fft_MaxMinDiff_acc_gyr_mag(s8_acc_cldn_chest_filt)\n",
    "o2 = Fft_MaxMinDiff_acc_gyr_mag(s8_acc_cldn_head_filt)\n",
    "o3 = Fft_MaxMinDiff_acc_gyr_mag(s8_acc_cldn_forearm_filt)\n",
    "o4 = Fft_MaxMinDiff_acc_gyr_mag(s8_acc_cldn_shin_filt)\n",
    "o5 = Fft_MaxMinDiff_acc_gyr_mag(s8_acc_cldn_thigh_filt)\n",
    "o6 = Fft_MaxMinDiff_acc_gyr_mag(s8_acc_cldn_upperarm_filt)\n",
    "o7 = Fft_MaxMinDiff_acc_gyr_mag(s8_acc_cldn_waist_filt)\n",
    "s8_cldn_FD = np.hstack((o1,o2,o3,o4,o5,o6,o7))"
   ]
  },
  {
   "cell_type": "code",
   "execution_count": 491,
   "id": "66e62e12",
   "metadata": {},
   "outputs": [],
   "source": [
    "o1 = Fft_MaxMinDiff_acc_gyr_mag(s9_acc_cldn_chest_filt)\n",
    "o2 = Fft_MaxMinDiff_acc_gyr_mag(s9_acc_cldn_head_filt)\n",
    "o3 = Fft_MaxMinDiff_acc_gyr_mag(s9_acc_cldn_forearm_filt)\n",
    "o4 = Fft_MaxMinDiff_acc_gyr_mag(s9_acc_cldn_shin_filt)\n",
    "o5 = Fft_MaxMinDiff_acc_gyr_mag(s9_acc_cldn_thigh_filt)\n",
    "o6 = Fft_MaxMinDiff_acc_gyr_mag(s9_acc_cldn_upperarm_filt)\n",
    "o7 = Fft_MaxMinDiff_acc_gyr_mag(s9_acc_cldn_waist_filt)\n",
    "s9_cldn_FD = np.hstack((o1,o2,o3,o4,o5,o6,o7))"
   ]
  },
  {
   "cell_type": "code",
   "execution_count": 492,
   "id": "03dfb9cc",
   "metadata": {},
   "outputs": [],
   "source": [
    "o1 = Fft_MaxMinDiff_acc_gyr_mag(s10_acc_cldn_chest_filt)\n",
    "o2 = Fft_MaxMinDiff_acc_gyr_mag(s10_acc_cldn_head_filt)\n",
    "o3 = Fft_MaxMinDiff_acc_gyr_mag(s10_acc_cldn_forearm_filt)\n",
    "o4 = Fft_MaxMinDiff_acc_gyr_mag(s10_acc_cldn_shin_filt)\n",
    "o5 = Fft_MaxMinDiff_acc_gyr_mag(s10_acc_cldn_thigh_filt)\n",
    "o6 = Fft_MaxMinDiff_acc_gyr_mag(s10_acc_cldn_upperarm_filt)\n",
    "o7 = Fft_MaxMinDiff_acc_gyr_mag(s10_acc_cldn_waist_filt)\n",
    "s10_cldn_FD = np.hstack((o1,o2,o3,o4,o5,o6,o7))"
   ]
  },
  {
   "cell_type": "code",
   "execution_count": 493,
   "id": "9d34865c",
   "metadata": {},
   "outputs": [],
   "source": [
    "o1 = Fft_MaxMinDiff_acc_gyr_mag(s11_acc_cldn_chest_filt)\n",
    "o2 = Fft_MaxMinDiff_acc_gyr_mag(s11_acc_cldn_head_filt)\n",
    "o3 = Fft_MaxMinDiff_acc_gyr_mag(s11_acc_cldn_forearm_filt)\n",
    "o4 = Fft_MaxMinDiff_acc_gyr_mag(s11_acc_cldn_shin_filt)\n",
    "o5 = Fft_MaxMinDiff_acc_gyr_mag(s11_acc_cldn_thigh_filt)\n",
    "o6 = Fft_MaxMinDiff_acc_gyr_mag(s11_acc_cldn_upperarm_filt)\n",
    "o7 = Fft_MaxMinDiff_acc_gyr_mag(s11_acc_cldn_waist_filt)\n",
    "s11_cldn_FD = np.hstack((o1,o2,o3,o4,o5,o6,o7))"
   ]
  },
  {
   "cell_type": "code",
   "execution_count": 494,
   "id": "0232953a",
   "metadata": {},
   "outputs": [],
   "source": [
    "o1 = Fft_MaxMinDiff_acc_gyr_mag(s12_acc_cldn_chest_filt)\n",
    "o2 = Fft_MaxMinDiff_acc_gyr_mag(s12_acc_cldn_head_filt)\n",
    "o3 = Fft_MaxMinDiff_acc_gyr_mag(s12_acc_cldn_forearm_filt)\n",
    "o4 = Fft_MaxMinDiff_acc_gyr_mag(s12_acc_cldn_shin_filt)\n",
    "o5 = Fft_MaxMinDiff_acc_gyr_mag(s12_acc_cldn_thigh_filt)\n",
    "o6 = Fft_MaxMinDiff_acc_gyr_mag(s12_acc_cldn_upperarm_filt)\n",
    "o7 = Fft_MaxMinDiff_acc_gyr_mag(s12_acc_cldn_waist_filt)\n",
    "s12_cldn_FD = np.hstack((o1,o2,o3,o4,o5,o6,o7))"
   ]
  },
  {
   "cell_type": "code",
   "execution_count": 495,
   "id": "1ab39fd7",
   "metadata": {},
   "outputs": [],
   "source": [
    "o1 = Fft_MaxMinDiff_acc_gyr_mag(s13_acc_cldn_chest_filt)\n",
    "o2 = Fft_MaxMinDiff_acc_gyr_mag(s13_acc_cldn_head_filt)\n",
    "o3 = Fft_MaxMinDiff_acc_gyr_mag(s13_acc_cldn_forearm_filt)\n",
    "o4 = Fft_MaxMinDiff_acc_gyr_mag(s13_acc_cldn_shin_filt)\n",
    "o5 = Fft_MaxMinDiff_acc_gyr_mag(s13_acc_cldn_thigh_filt)\n",
    "o6 = Fft_MaxMinDiff_acc_gyr_mag(s13_acc_cldn_upperarm_filt)\n",
    "o7 = Fft_MaxMinDiff_acc_gyr_mag(s13_acc_cldn_waist_filt)\n",
    "s13_cldn_FD = np.hstack((o1,o2,o3,o4,o5,o6,o7))"
   ]
  },
  {
   "cell_type": "code",
   "execution_count": 496,
   "id": "81e5f947",
   "metadata": {},
   "outputs": [],
   "source": [
    "o1 = Fft_MaxMinDiff_acc_gyr_mag(s14_acc_cldn_chest_filt)\n",
    "o2 = Fft_MaxMinDiff_acc_gyr_mag(s14_acc_cldn_head_filt)\n",
    "o3 = Fft_MaxMinDiff_acc_gyr_mag(s14_acc_cldn_forearm_filt)\n",
    "o4 = Fft_MaxMinDiff_acc_gyr_mag(s14_acc_cldn_shin_filt)\n",
    "o5 = Fft_MaxMinDiff_acc_gyr_mag(s14_acc_cldn_thigh_filt)\n",
    "o6 = Fft_MaxMinDiff_acc_gyr_mag(s14_acc_cldn_upperarm_filt)\n",
    "o7 = Fft_MaxMinDiff_acc_gyr_mag(s14_acc_cldn_waist_filt)\n",
    "s14_cldn_FD = np.hstack((o1,o2,o3,o4,o5,o6,o7))"
   ]
  },
  {
   "cell_type": "code",
   "execution_count": 497,
   "id": "49e8785d",
   "metadata": {},
   "outputs": [],
   "source": [
    "o1 = Fft_MaxMinDiff_acc_gyr_mag(s15_acc_cldn_chest_filt)\n",
    "o2 = Fft_MaxMinDiff_acc_gyr_mag(s15_acc_cldn_head_filt)\n",
    "o3 = Fft_MaxMinDiff_acc_gyr_mag(s15_acc_cldn_forearm_filt)\n",
    "o4 = Fft_MaxMinDiff_acc_gyr_mag(s15_acc_cldn_shin_filt)\n",
    "o5 = Fft_MaxMinDiff_acc_gyr_mag(s15_acc_cldn_thigh_filt)\n",
    "o6 = Fft_MaxMinDiff_acc_gyr_mag(s15_acc_cldn_upperarm_filt)\n",
    "o7 = Fft_MaxMinDiff_acc_gyr_mag(s15_acc_cldn_waist_filt)\n",
    "s15_cldn_FD = np.hstack((o1,o2,o3,o4,o5,o6,o7))"
   ]
  },
  {
   "cell_type": "code",
   "execution_count": 498,
   "id": "496396f9",
   "metadata": {},
   "outputs": [],
   "source": [
    "cldn_FD = []\n",
    "cldn_FD.append(s1_cldn_FD)\n",
    "cldn_FD.append(s2_cldn_FD)\n",
    "cldn_FD.append(s3_cldn_FD)\n",
    "cldn_FD.append(s4_cldn_FD)\n",
    "cldn_FD.append(s5_cldn_FD)\n",
    "cldn_FD.append(s6_cldn_FD)\n",
    "cldn_FD.append(s7_cldn_FD)\n",
    "cldn_FD.append(s8_cldn_FD)\n",
    "cldn_FD.append(s9_cldn_FD)\n",
    "cldn_FD.append(s10_cldn_FD)\n",
    "cldn_FD.append(s11_cldn_FD)\n",
    "cldn_FD.append(s12_cldn_FD)\n",
    "cldn_FD.append(s13_cldn_FD)\n",
    "cldn_FD.append(s14_cldn_FD)\n",
    "cldn_FD.append(s15_cldn_FD)\n"
   ]
  },
  {
   "cell_type": "code",
   "execution_count": 499,
   "id": "5f623f2e",
   "metadata": {},
   "outputs": [],
   "source": [
    "#minmax ratio"
   ]
  },
  {
   "cell_type": "code",
   "execution_count": 500,
   "id": "389c0521",
   "metadata": {},
   "outputs": [],
   "source": [
    "o1 = Fft_MaxMinRatio_acc_gyr_mag(s1_acc_cldn_chest_filt)\n",
    "o2 = Fft_MaxMinRatio_acc_gyr_mag(s1_acc_cldn_head_filt)\n",
    "o3 = Fft_MaxMinRatio_acc_gyr_mag(s1_acc_cldn_forearm_filt)\n",
    "o4 = Fft_MaxMinRatio_acc_gyr_mag(s1_acc_cldn_shin_filt)\n",
    "o5 = Fft_MaxMinRatio_acc_gyr_mag(s1_acc_cldn_thigh_filt)\n",
    "o6 = Fft_MaxMinRatio_acc_gyr_mag(s1_acc_cldn_upperarm_filt)\n",
    "o7 = Fft_MaxMinRatio_acc_gyr_mag(s1_acc_cldn_waist_filt)\n",
    "s1_cldn_FR = np.hstack((o1,o2,o3,o4,o5,o6,o7))"
   ]
  },
  {
   "cell_type": "code",
   "execution_count": 501,
   "id": "460ed75a",
   "metadata": {},
   "outputs": [],
   "source": [
    "o1 = Fft_MaxMinRatio_acc_gyr_mag(s2_acc_cldn_chest_filt)\n",
    "o2 = Fft_MaxMinRatio_acc_gyr_mag(s2_acc_cldn_head_filt)\n",
    "o3 = Fft_MaxMinRatio_acc_gyr_mag(s2_acc_cldn_forearm_filt)\n",
    "o4 = Fft_MaxMinRatio_acc_gyr_mag(s2_acc_cldn_shin_filt)\n",
    "o5 = Fft_MaxMinRatio_acc_gyr_mag(s2_acc_cldn_thigh_filt)\n",
    "o6 = Fft_MaxMinRatio_acc_gyr_mag(s2_acc_cldn_upperarm_filt)\n",
    "o7 = Fft_MaxMinRatio_acc_gyr_mag(s2_acc_cldn_waist_filt)\n",
    "s2_cldn_FR = np.hstack((o1,o2,o3,o4,o5,o6,o7,))"
   ]
  },
  {
   "cell_type": "code",
   "execution_count": 502,
   "id": "7afb16af",
   "metadata": {},
   "outputs": [],
   "source": [
    "o1 = Fft_MaxMinRatio_acc_gyr_mag(s3_acc_cldn_chest_filt)\n",
    "o2 = Fft_MaxMinRatio_acc_gyr_mag(s3_acc_cldn_head_filt)\n",
    "o3 = Fft_MaxMinRatio_acc_gyr_mag(s3_acc_cldn_forearm_filt)\n",
    "o4 = Fft_MaxMinRatio_acc_gyr_mag(s3_acc_cldn_shin_filt)\n",
    "o5 = Fft_MaxMinRatio_acc_gyr_mag(s3_acc_cldn_thigh_filt)\n",
    "o6 = Fft_MaxMinRatio_acc_gyr_mag(s3_acc_cldn_upperarm_filt)\n",
    "o7 = Fft_MaxMinRatio_acc_gyr_mag(s3_acc_cldn_waist_filt)\n",
    "s3_cldn_FR = np.hstack((o1,o2,o3,o4,o5,o6,o7))"
   ]
  },
  {
   "cell_type": "code",
   "execution_count": 503,
   "id": "67821d92",
   "metadata": {},
   "outputs": [],
   "source": [
    "o1 = Fft_MaxMinRatio_acc_gyr_mag(s4_acc_cldn_chest_filt)\n",
    "o2 = Fft_MaxMinRatio_acc_gyr_mag(s4_acc_cldn_head_filt)\n",
    "o3 = Fft_MaxMinRatio_acc_gyr_mag(s4_acc_cldn_forearm_filt)\n",
    "o4 = Fft_MaxMinRatio_acc_gyr_mag(s4_acc_cldn_shin_filt)\n",
    "o5 = Fft_MaxMinRatio_acc_gyr_mag(s4_acc_cldn_thigh_filt)\n",
    "o6 = Fft_MaxMinRatio_acc_gyr_mag(s4_acc_cldn_upperarm_filt)\n",
    "o7 = Fft_MaxMinRatio_acc_gyr_mag(s4_acc_cldn_waist_filt)\n",
    "s4_cldn_FR = np.hstack((o1,o2,o3,o4,o5,o6,o7))"
   ]
  },
  {
   "cell_type": "code",
   "execution_count": 504,
   "id": "1df26572",
   "metadata": {},
   "outputs": [],
   "source": [
    "o1 = Fft_MaxMinRatio_acc_gyr_mag(s5_acc_cldn_chest_filt)\n",
    "o2 = Fft_MaxMinRatio_acc_gyr_mag(s5_acc_cldn_head_filt)\n",
    "o3 = Fft_MaxMinRatio_acc_gyr_mag(s5_acc_cldn_forearm_filt)\n",
    "o4 = Fft_MaxMinRatio_acc_gyr_mag(s5_acc_cldn_shin_filt)\n",
    "o5 = Fft_MaxMinRatio_acc_gyr_mag(s5_acc_cldn_thigh_filt)\n",
    "o6 = Fft_MaxMinRatio_acc_gyr_mag(s5_acc_cldn_upperarm_filt)\n",
    "o7 = Fft_MaxMinRatio_acc_gyr_mag(s5_acc_cldn_waist_filt)\n",
    "s5_cldn_FR = np.hstack((o1,o2,o3,o4,o5,o6,o7))"
   ]
  },
  {
   "cell_type": "code",
   "execution_count": 505,
   "id": "d43d41ce",
   "metadata": {},
   "outputs": [],
   "source": [
    "o1 = Fft_MaxMinRatio_acc_gyr_mag(s6_acc_cldn_chest_filt)\n",
    "o2 = Fft_MaxMinRatio_acc_gyr_mag(s6_acc_cldn_head_filt)\n",
    "o3 = Fft_MaxMinRatio_acc_gyr_mag(s6_acc_cldn_forearm_filt)\n",
    "o4 = Fft_MaxMinRatio_acc_gyr_mag(s6_acc_cldn_shin_filt)\n",
    "o5 = Fft_MaxMinRatio_acc_gyr_mag(s6_acc_cldn_thigh_filt)\n",
    "o6 = Fft_MaxMinRatio_acc_gyr_mag(s6_acc_cldn_upperarm_filt)\n",
    "o7 = Fft_MaxMinRatio_acc_gyr_mag(s6_acc_cldn_waist_filt)\n",
    "s6_cldn_FR = np.hstack((o1,o2,o3,o4,o5,o6,o7))"
   ]
  },
  {
   "cell_type": "code",
   "execution_count": 506,
   "id": "b4235320",
   "metadata": {},
   "outputs": [],
   "source": [
    "o1 = Fft_MaxMinRatio_acc_gyr_mag(s7_acc_cldn_chest_filt)\n",
    "o2 = Fft_MaxMinRatio_acc_gyr_mag(s7_acc_cldn_head_filt)\n",
    "o3 = Fft_MaxMinRatio_acc_gyr_mag(s7_acc_cldn_forearm_filt)\n",
    "o4 = Fft_MaxMinRatio_acc_gyr_mag(s7_acc_cldn_shin_filt)\n",
    "o5 = Fft_MaxMinRatio_acc_gyr_mag(s7_acc_cldn_thigh_filt)\n",
    "o6 = Fft_MaxMinRatio_acc_gyr_mag(s7_acc_cldn_upperarm_filt)\n",
    "o7 = Fft_MaxMinRatio_acc_gyr_mag(s7_acc_cldn_waist_filt)\n",
    "s7_cldn_FR = np.hstack((o1,o2,o3,o4,o5,o6,o7))"
   ]
  },
  {
   "cell_type": "code",
   "execution_count": 507,
   "id": "c21cb3a8",
   "metadata": {},
   "outputs": [],
   "source": [
    "o1 = Fft_MaxMinRatio_acc_gyr_mag(s8_acc_cldn_chest_filt)\n",
    "o2 = Fft_MaxMinRatio_acc_gyr_mag(s8_acc_cldn_head_filt)\n",
    "o3 = Fft_MaxMinRatio_acc_gyr_mag(s8_acc_cldn_forearm_filt)\n",
    "o4 = Fft_MaxMinRatio_acc_gyr_mag(s8_acc_cldn_shin_filt)\n",
    "o5 = Fft_MaxMinRatio_acc_gyr_mag(s8_acc_cldn_thigh_filt)\n",
    "o6 = Fft_MaxMinRatio_acc_gyr_mag(s8_acc_cldn_upperarm_filt)\n",
    "o7 = Fft_MaxMinRatio_acc_gyr_mag(s8_acc_cldn_waist_filt)\n",
    "s8_cldn_FR = np.hstack((o1,o2,o3,o4,o5,o6,o7))"
   ]
  },
  {
   "cell_type": "code",
   "execution_count": 508,
   "id": "f45afa44",
   "metadata": {},
   "outputs": [],
   "source": [
    "o1 = Fft_MaxMinRatio_acc_gyr_mag(s9_acc_cldn_chest_filt)\n",
    "o2 = Fft_MaxMinRatio_acc_gyr_mag(s9_acc_cldn_head_filt)\n",
    "o3 = Fft_MaxMinRatio_acc_gyr_mag(s9_acc_cldn_forearm_filt)\n",
    "o4 = Fft_MaxMinRatio_acc_gyr_mag(s9_acc_cldn_shin_filt)\n",
    "o5 = Fft_MaxMinRatio_acc_gyr_mag(s9_acc_cldn_thigh_filt)\n",
    "o6 = Fft_MaxMinRatio_acc_gyr_mag(s9_acc_cldn_upperarm_filt)\n",
    "o7 = Fft_MaxMinRatio_acc_gyr_mag(s9_acc_cldn_waist_filt)\n",
    "s9_cldn_FR = np.hstack((o1,o2,o3,o4,o5,o6,o7))"
   ]
  },
  {
   "cell_type": "code",
   "execution_count": 509,
   "id": "2650617f",
   "metadata": {},
   "outputs": [],
   "source": [
    "\n",
    "o1 = Fft_MaxMinRatio_acc_gyr_mag(s10_acc_cldn_chest_filt)\n",
    "o2 = Fft_MaxMinRatio_acc_gyr_mag(s10_acc_cldn_head_filt)\n",
    "o3 = Fft_MaxMinRatio_acc_gyr_mag(s10_acc_cldn_forearm_filt)\n",
    "o4 = Fft_MaxMinRatio_acc_gyr_mag(s10_acc_cldn_shin_filt)\n",
    "o5 = Fft_MaxMinRatio_acc_gyr_mag(s10_acc_cldn_thigh_filt)\n",
    "o6 = Fft_MaxMinRatio_acc_gyr_mag(s10_acc_cldn_upperarm_filt)\n",
    "o7 = Fft_MaxMinRatio_acc_gyr_mag(s10_acc_cldn_waist_filt)\n",
    "s10_cldn_FR = np.hstack((o1,o2,o3,o4,o5,o6,o7))"
   ]
  },
  {
   "cell_type": "code",
   "execution_count": 510,
   "id": "0c83fcfb",
   "metadata": {},
   "outputs": [],
   "source": [
    "o1 = Fft_MaxMinRatio_acc_gyr_mag(s11_acc_cldn_chest_filt)\n",
    "o2 = Fft_MaxMinRatio_acc_gyr_mag(s11_acc_cldn_head_filt)\n",
    "o3 = Fft_MaxMinRatio_acc_gyr_mag(s11_acc_cldn_forearm_filt)\n",
    "o4 = Fft_MaxMinRatio_acc_gyr_mag(s11_acc_cldn_shin_filt)\n",
    "o5 = Fft_MaxMinRatio_acc_gyr_mag(s11_acc_cldn_thigh_filt)\n",
    "o6 = Fft_MaxMinRatio_acc_gyr_mag(s11_acc_cldn_upperarm_filt)\n",
    "o7 = Fft_MaxMinRatio_acc_gyr_mag(s11_acc_cldn_waist_filt)\n",
    "s11_cldn_FR = np.hstack((o1,o2,o3,o4,o5,o6,o7))"
   ]
  },
  {
   "cell_type": "code",
   "execution_count": 511,
   "id": "75306880",
   "metadata": {},
   "outputs": [],
   "source": [
    "o1 = Fft_MaxMinRatio_acc_gyr_mag(s12_acc_cldn_chest_filt)\n",
    "o2 = Fft_MaxMinRatio_acc_gyr_mag(s12_acc_cldn_head_filt)\n",
    "o3 = Fft_MaxMinRatio_acc_gyr_mag(s12_acc_cldn_forearm_filt)\n",
    "o4 = Fft_MaxMinRatio_acc_gyr_mag(s12_acc_cldn_shin_filt)\n",
    "o5 = Fft_MaxMinRatio_acc_gyr_mag(s12_acc_cldn_thigh_filt)\n",
    "o6 = Fft_MaxMinRatio_acc_gyr_mag(s12_acc_cldn_upperarm_filt)\n",
    "o7 = Fft_MaxMinRatio_acc_gyr_mag(s12_acc_cldn_waist_filt)\n",
    "s12_cldn_FR = np.hstack((o1,o2,o3,o4,o5,o6,o7))"
   ]
  },
  {
   "cell_type": "code",
   "execution_count": 512,
   "id": "ed2d546d",
   "metadata": {},
   "outputs": [],
   "source": [
    "o1 = Fft_MaxMinRatio_acc_gyr_mag(s13_acc_cldn_chest_filt)\n",
    "o2 = Fft_MaxMinRatio_acc_gyr_mag(s13_acc_cldn_head_filt)\n",
    "o3 = Fft_MaxMinRatio_acc_gyr_mag(s13_acc_cldn_forearm_filt)\n",
    "o4 = Fft_MaxMinRatio_acc_gyr_mag(s13_acc_cldn_shin_filt)\n",
    "o5 = Fft_MaxMinRatio_acc_gyr_mag(s13_acc_cldn_thigh_filt)\n",
    "o6 = Fft_MaxMinRatio_acc_gyr_mag(s13_acc_cldn_upperarm_filt)\n",
    "o7 = Fft_MaxMinRatio_acc_gyr_mag(s13_acc_cldn_waist_filt)\n",
    "s13_cldn_FR = np.hstack((o1,o2,o3,o4,o5,o6,o7))"
   ]
  },
  {
   "cell_type": "code",
   "execution_count": 513,
   "id": "62615de7",
   "metadata": {},
   "outputs": [],
   "source": [
    "o1 = Fft_MaxMinRatio_acc_gyr_mag(s14_acc_cldn_chest_filt)\n",
    "o2 = Fft_MaxMinRatio_acc_gyr_mag(s14_acc_cldn_head_filt)\n",
    "o3 = Fft_MaxMinRatio_acc_gyr_mag(s14_acc_cldn_forearm_filt)\n",
    "o4 = Fft_MaxMinRatio_acc_gyr_mag(s14_acc_cldn_shin_filt)\n",
    "o5 = Fft_MaxMinRatio_acc_gyr_mag(s14_acc_cldn_thigh_filt)\n",
    "o6 = Fft_MaxMinRatio_acc_gyr_mag(s14_acc_cldn_upperarm_filt)\n",
    "o7 = Fft_MaxMinRatio_acc_gyr_mag(s14_acc_cldn_waist_filt)\n",
    "s14_cldn_FR = np.hstack((o1,o2,o3,o4,o5,o6,o7))"
   ]
  },
  {
   "cell_type": "code",
   "execution_count": 514,
   "id": "c2614b0e",
   "metadata": {},
   "outputs": [],
   "source": [
    "o1 = Fft_MaxMinRatio_acc_gyr_mag(s15_acc_cldn_chest_filt)\n",
    "o2 = Fft_MaxMinRatio_acc_gyr_mag(s15_acc_cldn_head_filt)\n",
    "o3 = Fft_MaxMinRatio_acc_gyr_mag(s15_acc_cldn_forearm_filt)\n",
    "o4 = Fft_MaxMinRatio_acc_gyr_mag(s15_acc_cldn_shin_filt)\n",
    "o5 = Fft_MaxMinRatio_acc_gyr_mag(s15_acc_cldn_thigh_filt)\n",
    "o6 = Fft_MaxMinRatio_acc_gyr_mag(s15_acc_cldn_upperarm_filt)\n",
    "o7 = Fft_MaxMinRatio_acc_gyr_mag(s15_acc_cldn_waist_filt)\n",
    "s15_cldn_FR = np.hstack((o1,o2,o3,o4,o5,o6,o7))"
   ]
  },
  {
   "cell_type": "code",
   "execution_count": 515,
   "id": "8cb21ca7",
   "metadata": {},
   "outputs": [],
   "source": [
    "cldn_FR = []\n",
    "cldn_FR.append(s1_cldn_FR)\n",
    "cldn_FR.append(s2_cldn_FR)\n",
    "cldn_FR.append(s3_cldn_FR)\n",
    "cldn_FR.append(s4_cldn_FR)\n",
    "cldn_FR.append(s5_cldn_FR)\n",
    "cldn_FR.append(s6_cldn_FR)\n",
    "cldn_FR.append(s7_cldn_FR)\n",
    "cldn_FR.append(s8_cldn_FR)\n",
    "cldn_FR.append(s9_cldn_FR)\n",
    "cldn_FR.append(s10_cldn_FR)\n",
    "cldn_FR.append(s11_cldn_FR)\n",
    "cldn_FR.append(s12_cldn_FR)\n",
    "cldn_FR.append(s13_cldn_FR)\n",
    "cldn_FR.append(s14_cldn_FR)\n",
    "cldn_FR.append(s15_cldn_FR)\n"
   ]
  },
  {
   "cell_type": "code",
   "execution_count": 516,
   "id": "320b969d",
   "metadata": {},
   "outputs": [],
   "source": [
    "cldn_features = [1]*15"
   ]
  },
  {
   "cell_type": "code",
   "execution_count": 517,
   "id": "321e43f4",
   "metadata": {},
   "outputs": [],
   "source": [
    "cldn_features = [1]*15\n",
    "\n",
    "for i in range(15):\n",
    "    cldn_features[i] = np.concatenate((cldn_parseval[i],cldn_skew[i],cldn_FD[i],cldn_FR[i],))\n",
    "    \n"
   ]
  },
  {
   "cell_type": "code",
   "execution_count": 518,
   "id": "45dd312e",
   "metadata": {},
   "outputs": [],
   "source": [
    "#climbing up features parseval"
   ]
  },
  {
   "cell_type": "code",
   "execution_count": 519,
   "id": "4718944f",
   "metadata": {},
   "outputs": [],
   "source": [
    "o1 = Parseval_acc_gyr_mag(s1_acc_clup_chest_filt)\n",
    "o2 = Parseval_acc_gyr_mag(s1_acc_clup_head_filt)\n",
    "o3 = Parseval_acc_gyr_mag(s1_acc_clup_forearm_filt)\n",
    "o4 = Parseval_acc_gyr_mag(s1_acc_clup_shin_filt)\n",
    "o5 = Parseval_acc_gyr_mag(s1_acc_clup_thigh_filt)\n",
    "o6 = Parseval_acc_gyr_mag(s1_acc_clup_upperarm_filt)\n",
    "o7 = Parseval_acc_gyr_mag(s1_acc_clup_waist_filt)\n",
    "s1_clup_parseval = np.hstack((o1,o2,o3,o4,o5,o6,o7))"
   ]
  },
  {
   "cell_type": "code",
   "execution_count": 520,
   "id": "3f9eae7f",
   "metadata": {},
   "outputs": [],
   "source": [
    "o1 = Parseval_acc_gyr_mag(s2_acc_clup_chest_filt)\n",
    "o2 = Parseval_acc_gyr_mag(s2_acc_clup_head_filt)\n",
    "o4 = Parseval_acc_gyr_mag(s2_acc_clup_shin_filt)\n",
    "o5 = Parseval_acc_gyr_mag(s2_acc_clup_thigh_filt)\n",
    "o6 = Parseval_acc_gyr_mag(s2_acc_clup_upperarm_filt)\n",
    "o7 = Parseval_acc_gyr_mag(s2_acc_clup_waist_filt)\n",
    "s2_clup_parseval = np.hstack((o1,o2,o3,o4,o5,o6,o7))"
   ]
  },
  {
   "cell_type": "code",
   "execution_count": 521,
   "id": "8174954d",
   "metadata": {},
   "outputs": [],
   "source": [
    "o1 = Parseval_acc_gyr_mag(s3_acc_clup_chest_filt)\n",
    "o2 = Parseval_acc_gyr_mag(s3_acc_clup_head_filt)\n",
    "o3 = Parseval_acc_gyr_mag(s3_acc_clup_forearm_filt)\n",
    "o4 = Parseval_acc_gyr_mag(s3_acc_clup_shin_filt)\n",
    "o5 = Parseval_acc_gyr_mag(s3_acc_clup_thigh_filt)\n",
    "o6 = Parseval_acc_gyr_mag(s3_acc_clup_upperarm_filt)\n",
    "o7 = Parseval_acc_gyr_mag(s3_acc_clup_waist_filt)\n",
    "s3_clup_parseval = np.hstack((o1,o2,o3,o4,o5,o6,o7))"
   ]
  },
  {
   "cell_type": "code",
   "execution_count": 522,
   "id": "063b2bc4",
   "metadata": {},
   "outputs": [],
   "source": [
    "o1 = Parseval_acc_gyr_mag(s4_acc_clup_chest_filt)\n",
    "o2 = Parseval_acc_gyr_mag(s4_acc_clup_head_filt)\n",
    "o3 = Parseval_acc_gyr_mag(s4_acc_clup_forearm_filt)\n",
    "o4 = Parseval_acc_gyr_mag(s4_acc_clup_shin_filt)\n",
    "o5 = Parseval_acc_gyr_mag(s4_acc_clup_thigh_filt)\n",
    "o6 = Parseval_acc_gyr_mag(s4_acc_clup_upperarm_filt)\n",
    "o7 = Parseval_acc_gyr_mag(s4_acc_clup_waist_filt)\n",
    "s4_clup_parseval = np.hstack((o1,o2,o3,o4,o5,o6,o7))"
   ]
  },
  {
   "cell_type": "code",
   "execution_count": 523,
   "id": "60e0c5ad",
   "metadata": {},
   "outputs": [],
   "source": [
    "o1 = Parseval_acc_gyr_mag(s5_acc_clup_chest_filt)\n",
    "o2 = Parseval_acc_gyr_mag(s5_acc_clup_head_filt)\n",
    "o3 = Parseval_acc_gyr_mag(s5_acc_clup_forearm_filt)\n",
    "o4 = Parseval_acc_gyr_mag(s5_acc_clup_shin_filt)\n",
    "o5 = Parseval_acc_gyr_mag(s5_acc_clup_thigh_filt)\n",
    "o6 = Parseval_acc_gyr_mag(s5_acc_clup_upperarm_filt)\n",
    "o7 = Parseval_acc_gyr_mag(s5_acc_clup_waist_filt)\n",
    "s5_clup_parseval = np.hstack((o1,o2,o3,o4,o5,o6,o7))"
   ]
  },
  {
   "cell_type": "code",
   "execution_count": 524,
   "id": "864f443c",
   "metadata": {},
   "outputs": [],
   "source": [
    "o1 = Parseval_acc_gyr_mag(s6_acc_clup_chest_filt)\n",
    "o2 = Parseval_acc_gyr_mag(s6_acc_clup_head_filt)\n",
    "o3 = Parseval_acc_gyr_mag(s6_acc_clup_forearm_filt)\n",
    "o4 = Parseval_acc_gyr_mag(s6_acc_clup_shin_filt)\n",
    "o5 = Parseval_acc_gyr_mag(s6_acc_clup_thigh_filt)\n",
    "o6 = Parseval_acc_gyr_mag(s6_acc_clup_upperarm_filt)\n",
    "o7 = Parseval_acc_gyr_mag(s6_acc_clup_waist_filt)\n",
    "s6_clup_parseval = np.hstack((o1,o2,o3,o4,o5,o6,o7,))"
   ]
  },
  {
   "cell_type": "code",
   "execution_count": 525,
   "id": "101db388",
   "metadata": {},
   "outputs": [],
   "source": [
    "o1 = Parseval_acc_gyr_mag(s7_acc_clup_chest_filt)\n",
    "o2 = Parseval_acc_gyr_mag(s7_acc_clup_head_filt)\n",
    "o3 = Parseval_acc_gyr_mag(s7_acc_clup_forearm_filt)\n",
    "o4 = Parseval_acc_gyr_mag(s7_acc_clup_shin_filt)\n",
    "o5 = Parseval_acc_gyr_mag(s7_acc_clup_thigh_filt)\n",
    "o6 = Parseval_acc_gyr_mag(s7_acc_clup_upperarm_filt)\n",
    "o7 = Parseval_acc_gyr_mag(s7_acc_clup_waist_filt)\n",
    "s7_clup_parseval = np.hstack((o1,o2,o3,o4,o5,o6,o7))"
   ]
  },
  {
   "cell_type": "code",
   "execution_count": 526,
   "id": "4fd6fbd4",
   "metadata": {},
   "outputs": [],
   "source": [
    "o1 = Parseval_acc_gyr_mag(s8_acc_clup_chest_filt)\n",
    "o2 = Parseval_acc_gyr_mag(s8_acc_clup_head_filt)\n",
    "o3 = Parseval_acc_gyr_mag(s8_acc_clup_forearm_filt)\n",
    "o4 = Parseval_acc_gyr_mag(s8_acc_clup_shin_filt)\n",
    "o5 = Parseval_acc_gyr_mag(s8_acc_clup_thigh_filt)\n",
    "o6 = Parseval_acc_gyr_mag(s8_acc_clup_upperarm_filt)\n",
    "o7 = Parseval_acc_gyr_mag(s8_acc_clup_waist_filt)\n",
    "s8_clup_parseval = np.hstack((o1,o2,o3,o4,o5,o6,o7))"
   ]
  },
  {
   "cell_type": "code",
   "execution_count": 527,
   "id": "cfee5850",
   "metadata": {},
   "outputs": [],
   "source": [
    "o1 = Parseval_acc_gyr_mag(s9_acc_clup_chest_filt)\n",
    "o2 = Parseval_acc_gyr_mag(s9_acc_clup_head_filt)\n",
    "o3 = Parseval_acc_gyr_mag(s9_acc_clup_forearm_filt)\n",
    "o4 = Parseval_acc_gyr_mag(s9_acc_clup_shin_filt)\n",
    "o5 = Parseval_acc_gyr_mag(s9_acc_clup_thigh_filt)\n",
    "o6 = Parseval_acc_gyr_mag(s9_acc_clup_upperarm_filt)\n",
    "o7 = Parseval_acc_gyr_mag(s9_acc_clup_waist_filt)\n",
    "s9_clup_parseval = np.hstack((o1,o2,o3,o4,o5,o6,o7))"
   ]
  },
  {
   "cell_type": "code",
   "execution_count": 528,
   "id": "1c30a0df",
   "metadata": {},
   "outputs": [],
   "source": [
    "o1 = Parseval_acc_gyr_mag(s10_acc_clup_chest_filt)\n",
    "o2 = Parseval_acc_gyr_mag(s10_acc_clup_head_filt)\n",
    "o3 = Parseval_acc_gyr_mag(s10_acc_clup_forearm_filt)\n",
    "o4 = Parseval_acc_gyr_mag(s10_acc_clup_shin_filt)\n",
    "o5 = Parseval_acc_gyr_mag(s10_acc_clup_thigh_filt)\n",
    "o6 = Parseval_acc_gyr_mag(s10_acc_clup_upperarm_filt)\n",
    "o7 = Parseval_acc_gyr_mag(s10_acc_clup_waist_filt)\n",
    "s10_clup_parseval = np.hstack((o1,o2,o3,o4,o5,o6,o7))"
   ]
  },
  {
   "cell_type": "code",
   "execution_count": 529,
   "id": "edc8a776",
   "metadata": {},
   "outputs": [],
   "source": [
    "o1 = Parseval_acc_gyr_mag(s11_acc_clup_chest_filt)\n",
    "o2 = Parseval_acc_gyr_mag(s11_acc_clup_head_filt)\n",
    "o3 = Parseval_acc_gyr_mag(s11_acc_clup_forearm_filt)\n",
    "o4 = Parseval_acc_gyr_mag(s11_acc_clup_shin_filt)\n",
    "o5 = Parseval_acc_gyr_mag(s11_acc_clup_thigh_filt)\n",
    "o6 = Parseval_acc_gyr_mag(s11_acc_clup_upperarm_filt)\n",
    "o7 = Parseval_acc_gyr_mag(s11_acc_clup_waist_filt)\n",
    "s11_clup_parseval = np.hstack((o1,o2,o3,o4,o5,o6,o7))"
   ]
  },
  {
   "cell_type": "code",
   "execution_count": 530,
   "id": "a577357e",
   "metadata": {},
   "outputs": [],
   "source": [
    "o1 = Parseval_acc_gyr_mag(s12_acc_clup_chest_filt)\n",
    "o2 = Parseval_acc_gyr_mag(s12_acc_clup_head_filt)\n",
    "o3 = Parseval_acc_gyr_mag(s12_acc_clup_forearm_filt)\n",
    "o4 = Parseval_acc_gyr_mag(s12_acc_clup_shin_filt)\n",
    "o5 = Parseval_acc_gyr_mag(s12_acc_clup_thigh_filt)\n",
    "o6 = Parseval_acc_gyr_mag(s12_acc_clup_upperarm_filt)\n",
    "o7 = Parseval_acc_gyr_mag(s12_acc_clup_waist_filt)\n",
    "s12_clup_parseval = np.hstack((o1,o2,o3,o4,o5,o6,o7))"
   ]
  },
  {
   "cell_type": "code",
   "execution_count": 531,
   "id": "de5e04c3",
   "metadata": {},
   "outputs": [],
   "source": [
    "o1 = Parseval_acc_gyr_mag(s13_acc_clup_chest_filt)\n",
    "o2 = Parseval_acc_gyr_mag(s13_acc_clup_head_filt)\n",
    "o3 = Parseval_acc_gyr_mag(s13_acc_clup_forearm_filt)\n",
    "o4 = Parseval_acc_gyr_mag(s13_acc_clup_shin_filt)\n",
    "o5 = Parseval_acc_gyr_mag(s13_acc_clup_thigh_filt)\n",
    "o6 = Parseval_acc_gyr_mag(s13_acc_clup_upperarm_filt)\n",
    "o7 = Parseval_acc_gyr_mag(s13_acc_clup_waist_filt)\n",
    "s13_clup_parseval = np.hstack((o1,o2,o3,o4,o5,o6,o7))"
   ]
  },
  {
   "cell_type": "code",
   "execution_count": 532,
   "id": "2faa746e",
   "metadata": {},
   "outputs": [],
   "source": [
    "o1 = Parseval_acc_gyr_mag(s14_acc_clup_chest_filt)\n",
    "o2 = Parseval_acc_gyr_mag(s14_acc_clup_head_filt)\n",
    "o3 = Parseval_acc_gyr_mag(s14_acc_clup_forearm_filt)\n",
    "o4 = Parseval_acc_gyr_mag(s14_acc_clup_shin_filt)\n",
    "o5 = Parseval_acc_gyr_mag(s14_acc_clup_thigh_filt)\n",
    "o6 = Parseval_acc_gyr_mag(s14_acc_clup_upperarm_filt)\n",
    "o7 = Parseval_acc_gyr_mag(s14_acc_clup_waist_filt)\n",
    "s14_clup_parseval = np.hstack((o1,o2,o3,o4,o5,o6,o7))"
   ]
  },
  {
   "cell_type": "code",
   "execution_count": 533,
   "id": "d3f6c9f9",
   "metadata": {},
   "outputs": [],
   "source": [
    "o1 = Parseval_acc_gyr_mag(s15_acc_clup_chest_filt)\n",
    "o2 = Parseval_acc_gyr_mag(s15_acc_clup_head_filt)\n",
    "o3 = Parseval_acc_gyr_mag(s15_acc_clup_forearm_filt)\n",
    "o4 = Parseval_acc_gyr_mag(s15_acc_clup_shin_filt)\n",
    "o5 = Parseval_acc_gyr_mag(s15_acc_clup_thigh_filt)\n",
    "o6 = Parseval_acc_gyr_mag(s15_acc_clup_upperarm_filt)\n",
    "o7 = Parseval_acc_gyr_mag(s15_acc_clup_waist_filt)\n",
    "s15_clup_parseval = np.hstack((o1,o2,o3,o4,o5,o6,o7))"
   ]
  },
  {
   "cell_type": "code",
   "execution_count": 534,
   "id": "e3e30e0d",
   "metadata": {},
   "outputs": [],
   "source": [
    "clup_parseval = []\n",
    "clup_parseval.append(s1_clup_parseval)\n",
    "clup_parseval.append(s2_clup_parseval)\n",
    "clup_parseval.append(s3_clup_parseval)\n",
    "clup_parseval.append(s4_clup_parseval)\n",
    "clup_parseval.append(s5_clup_parseval)\n",
    "clup_parseval.append(s6_clup_parseval)\n",
    "clup_parseval.append(s7_clup_parseval)\n",
    "clup_parseval.append(s8_clup_parseval)\n",
    "clup_parseval.append(s9_clup_parseval)\n",
    "clup_parseval.append(s10_clup_parseval)\n",
    "clup_parseval.append(s11_clup_parseval)\n",
    "clup_parseval.append(s12_clup_parseval)\n",
    "clup_parseval.append(s13_clup_parseval)\n",
    "clup_parseval.append(s14_clup_parseval)\n",
    "clup_parseval.append(s15_clup_parseval)\n"
   ]
  },
  {
   "cell_type": "code",
   "execution_count": 535,
   "id": "cb7c1487",
   "metadata": {},
   "outputs": [],
   "source": [
    "#skewness climbibg up"
   ]
  },
  {
   "cell_type": "code",
   "execution_count": 536,
   "id": "c962c17d",
   "metadata": {},
   "outputs": [],
   "source": [
    "o1 = Skewness_acc_gyr_mag(s1_acc_clup_chest_filt)\n",
    "o2 = Skewness_acc_gyr_mag(s1_acc_clup_head_filt)\n",
    "o3 = Skewness_acc_gyr_mag(s1_acc_clup_forearm_filt)\n",
    "o4 = Skewness_acc_gyr_mag(s1_acc_clup_shin_filt)\n",
    "o5 = Skewness_acc_gyr_mag(s1_acc_clup_thigh_filt)\n",
    "o6 = Skewness_acc_gyr_mag(s1_acc_clup_upperarm_filt)\n",
    "o7 = Skewness_acc_gyr_mag(s1_acc_clup_waist_filt)\n",
    "s1_clup_skew = np.hstack((o1,o2,o3,o4,o5,o6,o7))"
   ]
  },
  {
   "cell_type": "code",
   "execution_count": 537,
   "id": "bccba7c9",
   "metadata": {},
   "outputs": [],
   "source": [
    "o1 = Skewness_acc_gyr_mag(s2_acc_clup_chest_filt)\n",
    "o2 = Skewness_acc_gyr_mag(s2_acc_clup_head_filt)\n",
    "\n",
    "o4 = Skewness_acc_gyr_mag(s2_acc_clup_shin_filt)\n",
    "o5 = Skewness_acc_gyr_mag(s2_acc_clup_thigh_filt)\n",
    "o6 = Skewness_acc_gyr_mag(s2_acc_clup_upperarm_filt)\n",
    "o7 = Skewness_acc_gyr_mag(s2_acc_clup_waist_filt)\n",
    "s2_clup_skew = np.hstack((o1,o2,o3,o4,o5,o6,o7))"
   ]
  },
  {
   "cell_type": "code",
   "execution_count": 538,
   "id": "e40e5d67",
   "metadata": {},
   "outputs": [],
   "source": [
    "o1 = Skewness_acc_gyr_mag(s3_acc_clup_chest_filt)\n",
    "o2 = Skewness_acc_gyr_mag(s3_acc_clup_head_filt)\n",
    "o3 = Skewness_acc_gyr_mag(s3_acc_clup_forearm_filt)\n",
    "o4 = Skewness_acc_gyr_mag(s3_acc_clup_shin_filt)\n",
    "o5 = Skewness_acc_gyr_mag(s3_acc_clup_thigh_filt)\n",
    "o6 = Skewness_acc_gyr_mag(s3_acc_clup_upperarm_filt)\n",
    "o7 = Skewness_acc_gyr_mag(s3_acc_clup_waist_filt)\n",
    "s3_clup_skew = np.hstack((o1,o2,o3,o4,o5,o6,o7))"
   ]
  },
  {
   "cell_type": "code",
   "execution_count": 539,
   "id": "8f1df731",
   "metadata": {},
   "outputs": [],
   "source": [
    "o1 = Skewness_acc_gyr_mag(s4_acc_clup_chest_filt)\n",
    "o2 = Skewness_acc_gyr_mag(s4_acc_clup_head_filt)\n",
    "o3 = Skewness_acc_gyr_mag(s4_acc_clup_forearm_filt)\n",
    "o4 = Skewness_acc_gyr_mag(s4_acc_clup_shin_filt)\n",
    "o5 = Skewness_acc_gyr_mag(s4_acc_clup_thigh_filt)\n",
    "o6 = Skewness_acc_gyr_mag(s4_acc_clup_upperarm_filt)\n",
    "o7 = Skewness_acc_gyr_mag(s4_acc_clup_waist_filt)\n",
    "s4_clup_skew = np.hstack((o1,o2,o3,o4,o5,o6,o7))"
   ]
  },
  {
   "cell_type": "code",
   "execution_count": 540,
   "id": "8a8c8e11",
   "metadata": {},
   "outputs": [],
   "source": [
    "o1 = Skewness_acc_gyr_mag(s5_acc_clup_chest_filt)\n",
    "o2 = Skewness_acc_gyr_mag(s5_acc_clup_head_filt)\n",
    "o3 = Skewness_acc_gyr_mag(s5_acc_clup_forearm_filt)\n",
    "o4 = Skewness_acc_gyr_mag(s5_acc_clup_shin_filt)\n",
    "o5 = Skewness_acc_gyr_mag(s5_acc_clup_thigh_filt)\n",
    "o6 = Skewness_acc_gyr_mag(s5_acc_clup_upperarm_filt)\n",
    "o7 = Skewness_acc_gyr_mag(s5_acc_clup_waist_filt)\n",
    "s5_clup_skew = np.hstack((o1,o2,o3,o4,o5,o6,o7))"
   ]
  },
  {
   "cell_type": "code",
   "execution_count": 541,
   "id": "6262fa09",
   "metadata": {},
   "outputs": [],
   "source": [
    "o1 = Skewness_acc_gyr_mag(s6_acc_clup_chest_filt)\n",
    "o2 = Skewness_acc_gyr_mag(s6_acc_clup_head_filt)\n",
    "o3 = Skewness_acc_gyr_mag(s6_acc_clup_forearm_filt)\n",
    "o4 = Skewness_acc_gyr_mag(s6_acc_clup_shin_filt)\n",
    "o5 = Skewness_acc_gyr_mag(s6_acc_clup_thigh_filt)\n",
    "o6 = Skewness_acc_gyr_mag(s6_acc_clup_upperarm_filt)\n",
    "o7 = Skewness_acc_gyr_mag(s6_acc_clup_waist_filt)\n",
    "s6_clup_skew = np.hstack((o1,o2,o3,o4,o5,o6,o7))"
   ]
  },
  {
   "cell_type": "code",
   "execution_count": 542,
   "id": "74e61d96",
   "metadata": {},
   "outputs": [],
   "source": [
    "o1 = Skewness_acc_gyr_mag(s7_acc_clup_chest_filt)\n",
    "o2 = Skewness_acc_gyr_mag(s7_acc_clup_head_filt)\n",
    "o3 = Skewness_acc_gyr_mag(s7_acc_clup_forearm_filt)\n",
    "o4 = Skewness_acc_gyr_mag(s7_acc_clup_shin_filt)\n",
    "o5 = Skewness_acc_gyr_mag(s7_acc_clup_thigh_filt)\n",
    "o6 = Skewness_acc_gyr_mag(s7_acc_clup_upperarm_filt)\n",
    "o7 = Skewness_acc_gyr_mag(s7_acc_clup_waist_filt)\n",
    "s7_clup_skew = np.hstack((o1,o2,o3,o4,o5,o6,o7))"
   ]
  },
  {
   "cell_type": "code",
   "execution_count": 543,
   "id": "cd92afb1",
   "metadata": {},
   "outputs": [],
   "source": [
    "o1 = Skewness_acc_gyr_mag(s8_acc_clup_chest_filt)\n",
    "o2 = Skewness_acc_gyr_mag(s8_acc_clup_head_filt)\n",
    "o3 = Skewness_acc_gyr_mag(s8_acc_clup_forearm_filt)\n",
    "o4 = Skewness_acc_gyr_mag(s8_acc_clup_shin_filt)\n",
    "o5 = Skewness_acc_gyr_mag(s8_acc_clup_thigh_filt)\n",
    "o6 = Skewness_acc_gyr_mag(s8_acc_clup_upperarm_filt)\n",
    "o7 = Skewness_acc_gyr_mag(s8_acc_clup_waist_filt)\n",
    "s8_clup_skew = np.hstack((o1,o2,o3,o4,o5,o6,o7))"
   ]
  },
  {
   "cell_type": "code",
   "execution_count": 544,
   "id": "c76dc7c1",
   "metadata": {},
   "outputs": [],
   "source": [
    "o1 = Skewness_acc_gyr_mag(s9_acc_clup_chest_filt)\n",
    "o2 = Skewness_acc_gyr_mag(s9_acc_clup_head_filt)\n",
    "o3 = Skewness_acc_gyr_mag(s9_acc_clup_forearm_filt)\n",
    "o4 = Skewness_acc_gyr_mag(s9_acc_clup_shin_filt)\n",
    "o5 = Skewness_acc_gyr_mag(s9_acc_clup_thigh_filt)\n",
    "o6 = Skewness_acc_gyr_mag(s9_acc_clup_upperarm_filt)\n",
    "o7 = Skewness_acc_gyr_mag(s9_acc_clup_waist_filt)\n",
    "s9_clup_skew = np.hstack((o1,o2,o3,o4,o5,o6,o7))"
   ]
  },
  {
   "cell_type": "code",
   "execution_count": 545,
   "id": "6ac5a12e",
   "metadata": {},
   "outputs": [],
   "source": [
    "o1 = Skewness_acc_gyr_mag(s10_acc_clup_chest_filt)\n",
    "o2 = Skewness_acc_gyr_mag(s10_acc_clup_head_filt)\n",
    "o3 = Skewness_acc_gyr_mag(s10_acc_clup_forearm_filt)\n",
    "o4 = Skewness_acc_gyr_mag(s10_acc_clup_shin_filt)\n",
    "o5 = Skewness_acc_gyr_mag(s10_acc_clup_thigh_filt)\n",
    "o6 = Skewness_acc_gyr_mag(s10_acc_clup_upperarm_filt)\n",
    "o7 = Skewness_acc_gyr_mag(s10_acc_clup_waist_filt)\n",
    "s10_clup_skew = np.hstack((o1,o2,o3,o4,o5,o6,o7))"
   ]
  },
  {
   "cell_type": "code",
   "execution_count": 546,
   "id": "7c92602a",
   "metadata": {},
   "outputs": [],
   "source": [
    "o1 = Skewness_acc_gyr_mag(s11_acc_clup_chest_filt)\n",
    "o2 = Skewness_acc_gyr_mag(s11_acc_clup_head_filt)\n",
    "o3 = Skewness_acc_gyr_mag(s11_acc_clup_forearm_filt)\n",
    "o4 = Skewness_acc_gyr_mag(s11_acc_clup_shin_filt)\n",
    "o5 = Skewness_acc_gyr_mag(s11_acc_clup_thigh_filt)\n",
    "o6 = Skewness_acc_gyr_mag(s11_acc_clup_upperarm_filt)\n",
    "o7 = Skewness_acc_gyr_mag(s11_acc_clup_waist_filt)\n",
    "s11_clup_skew = np.hstack((o1,o2,o3,o4,o5,o6,o7))"
   ]
  },
  {
   "cell_type": "code",
   "execution_count": 547,
   "id": "41f2f836",
   "metadata": {},
   "outputs": [],
   "source": [
    "o1 = Skewness_acc_gyr_mag(s12_acc_clup_chest_filt)\n",
    "o2 = Skewness_acc_gyr_mag(s12_acc_clup_head_filt)\n",
    "o3 = Skewness_acc_gyr_mag(s12_acc_clup_forearm_filt)\n",
    "o4 = Skewness_acc_gyr_mag(s12_acc_clup_shin_filt)\n",
    "o5 = Skewness_acc_gyr_mag(s12_acc_clup_thigh_filt)\n",
    "o6 = Skewness_acc_gyr_mag(s12_acc_clup_upperarm_filt)\n",
    "o7 = Skewness_acc_gyr_mag(s12_acc_clup_waist_filt)\n",
    "s12_clup_skew = np.hstack((o1,o2,o3,o4,o5,o6,o7))"
   ]
  },
  {
   "cell_type": "code",
   "execution_count": 548,
   "id": "9767022b",
   "metadata": {},
   "outputs": [],
   "source": [
    "o1 = Skewness_acc_gyr_mag(s13_acc_clup_chest_filt)\n",
    "o2 = Skewness_acc_gyr_mag(s13_acc_clup_head_filt)\n",
    "o3 = Skewness_acc_gyr_mag(s13_acc_clup_forearm_filt)\n",
    "o4 = Skewness_acc_gyr_mag(s13_acc_clup_shin_filt)\n",
    "o5 = Skewness_acc_gyr_mag(s13_acc_clup_thigh_filt)\n",
    "o6 = Skewness_acc_gyr_mag(s13_acc_clup_upperarm_filt)\n",
    "o7 = Skewness_acc_gyr_mag(s13_acc_clup_waist_filt)\n",
    "s13_clup_skew = np.hstack((o1,o2,o3,o4,o5,o6,o7))"
   ]
  },
  {
   "cell_type": "code",
   "execution_count": 549,
   "id": "f96676f7",
   "metadata": {},
   "outputs": [],
   "source": [
    "o1 = Skewness_acc_gyr_mag(s14_acc_clup_chest_filt)\n",
    "o2 = Skewness_acc_gyr_mag(s14_acc_clup_head_filt)\n",
    "o3 = Skewness_acc_gyr_mag(s14_acc_clup_forearm_filt)\n",
    "o4 = Skewness_acc_gyr_mag(s14_acc_clup_shin_filt)\n",
    "o5 = Skewness_acc_gyr_mag(s14_acc_clup_thigh_filt)\n",
    "o6 = Skewness_acc_gyr_mag(s14_acc_clup_upperarm_filt)\n",
    "o7 = Skewness_acc_gyr_mag(s14_acc_clup_waist_filt)\n",
    "s14_clup_skew = np.hstack((o1,o2,o3,o4,o5,o6,o7))"
   ]
  },
  {
   "cell_type": "code",
   "execution_count": 550,
   "id": "a95884b3",
   "metadata": {},
   "outputs": [],
   "source": [
    "o1 = Skewness_acc_gyr_mag(s15_acc_clup_chest_filt)\n",
    "o2 = Skewness_acc_gyr_mag(s15_acc_clup_head_filt)\n",
    "o3 = Skewness_acc_gyr_mag(s15_acc_clup_forearm_filt)\n",
    "o4 = Skewness_acc_gyr_mag(s15_acc_clup_shin_filt)\n",
    "o5 = Skewness_acc_gyr_mag(s15_acc_clup_thigh_filt)\n",
    "o6 = Skewness_acc_gyr_mag(s15_acc_clup_upperarm_filt)\n",
    "o7 = Skewness_acc_gyr_mag(s15_acc_clup_waist_filt)\n",
    "s15_clup_skew = np.hstack((o1,o2,o3,o4,o5,o6,o7))"
   ]
  },
  {
   "cell_type": "code",
   "execution_count": 551,
   "id": "40a8c3cd",
   "metadata": {},
   "outputs": [],
   "source": [
    "clup_skew = []\n",
    "clup_skew.append(s1_clup_skew)\n",
    "clup_skew.append(s2_clup_skew)\n",
    "clup_skew.append(s3_clup_skew)\n",
    "clup_skew.append(s4_clup_skew)\n",
    "clup_skew.append(s5_clup_skew)\n",
    "clup_skew.append(s6_clup_skew)\n",
    "clup_skew.append(s7_clup_skew)\n",
    "clup_skew.append(s8_clup_skew)\n",
    "clup_skew.append(s9_clup_skew)\n",
    "clup_skew.append(s10_clup_skew)\n",
    "clup_skew.append(s11_clup_skew)\n",
    "clup_skew.append(s12_clup_skew)\n",
    "clup_skew.append(s13_clup_skew)\n",
    "clup_skew.append(s14_clup_skew)\n",
    "clup_skew.append(s15_clup_skew)"
   ]
  },
  {
   "cell_type": "code",
   "execution_count": 552,
   "id": "813df9d3",
   "metadata": {},
   "outputs": [],
   "source": [
    "#fft min max diff"
   ]
  },
  {
   "cell_type": "code",
   "execution_count": 553,
   "id": "dbb6f65f",
   "metadata": {},
   "outputs": [],
   "source": [
    "o1 = Fft_MaxMinDiff_acc_gyr_mag(s1_acc_clup_chest_filt)\n",
    "o2 = Fft_MaxMinDiff_acc_gyr_mag(s1_acc_clup_head_filt)\n",
    "o3 = Fft_MaxMinDiff_acc_gyr_mag(s1_acc_clup_forearm_filt)\n",
    "o4 = Fft_MaxMinDiff_acc_gyr_mag(s1_acc_clup_shin_filt)\n",
    "o5 = Fft_MaxMinDiff_acc_gyr_mag(s1_acc_clup_thigh_filt)\n",
    "o6 = Fft_MaxMinDiff_acc_gyr_mag(s1_acc_clup_upperarm_filt)\n",
    "o7 = Fft_MaxMinDiff_acc_gyr_mag(s1_acc_clup_waist_filt)\n",
    "s1_clup_FD = np.hstack((o1,o2,o3,o4,o5,o6,o7))"
   ]
  },
  {
   "cell_type": "code",
   "execution_count": 554,
   "id": "829312d7",
   "metadata": {},
   "outputs": [],
   "source": [
    "o1 = Fft_MaxMinDiff_acc_gyr_mag(s2_acc_clup_chest_filt)\n",
    "o2 = Fft_MaxMinDiff_acc_gyr_mag(s2_acc_clup_head_filt)\n",
    "\n",
    "o4 = Fft_MaxMinDiff_acc_gyr_mag(s2_acc_clup_shin_filt)\n",
    "o5 = Fft_MaxMinDiff_acc_gyr_mag(s2_acc_clup_thigh_filt)\n",
    "o6 = Fft_MaxMinDiff_acc_gyr_mag(s2_acc_clup_upperarm_filt)\n",
    "o7 = Fft_MaxMinDiff_acc_gyr_mag(s2_acc_clup_waist_filt)\n",
    "s2_clup_FD = np.hstack((o1,o2,o3,o4,o5,o6,o7))"
   ]
  },
  {
   "cell_type": "code",
   "execution_count": 555,
   "id": "a7003061",
   "metadata": {},
   "outputs": [],
   "source": [
    "o1 = Fft_MaxMinDiff_acc_gyr_mag(s3_acc_clup_chest_filt)\n",
    "o2 = Fft_MaxMinDiff_acc_gyr_mag(s3_acc_clup_head_filt)\n",
    "o3 = Fft_MaxMinDiff_acc_gyr_mag(s3_acc_clup_forearm_filt)\n",
    "o4 = Fft_MaxMinDiff_acc_gyr_mag(s3_acc_clup_shin_filt)\n",
    "o5 = Fft_MaxMinDiff_acc_gyr_mag(s3_acc_clup_thigh_filt)\n",
    "o6 = Fft_MaxMinDiff_acc_gyr_mag(s3_acc_clup_upperarm_filt)\n",
    "o7 = Fft_MaxMinDiff_acc_gyr_mag(s3_acc_clup_waist_filt)\n",
    "s3_clup_FD = np.hstack((o1,o2,o3,o4,o5,o6,o7))"
   ]
  },
  {
   "cell_type": "code",
   "execution_count": 556,
   "id": "9dfbf7b6",
   "metadata": {},
   "outputs": [],
   "source": [
    "o1 = Fft_MaxMinDiff_acc_gyr_mag(s4_acc_clup_chest_filt)\n",
    "o2 = Fft_MaxMinDiff_acc_gyr_mag(s4_acc_clup_head_filt)\n",
    "o3 = Fft_MaxMinDiff_acc_gyr_mag(s4_acc_clup_forearm_filt)\n",
    "o4 = Fft_MaxMinDiff_acc_gyr_mag(s4_acc_clup_shin_filt)\n",
    "o5 = Fft_MaxMinDiff_acc_gyr_mag(s4_acc_clup_thigh_filt)\n",
    "o6 = Fft_MaxMinDiff_acc_gyr_mag(s4_acc_clup_upperarm_filt)\n",
    "o7 = Fft_MaxMinDiff_acc_gyr_mag(s4_acc_clup_waist_filt)\n",
    "s4_clup_FD = np.hstack((o1,o2,o3,o4,o5,o6,o7))"
   ]
  },
  {
   "cell_type": "code",
   "execution_count": 557,
   "id": "096604d3",
   "metadata": {},
   "outputs": [],
   "source": [
    "o1 = Fft_MaxMinDiff_acc_gyr_mag(s5_acc_clup_chest_filt)\n",
    "o2 = Fft_MaxMinDiff_acc_gyr_mag(s5_acc_clup_head_filt)\n",
    "o3 = Fft_MaxMinDiff_acc_gyr_mag(s5_acc_clup_forearm_filt)\n",
    "o4 = Fft_MaxMinDiff_acc_gyr_mag(s5_acc_clup_shin_filt)\n",
    "o5 = Fft_MaxMinDiff_acc_gyr_mag(s5_acc_clup_thigh_filt)\n",
    "o6 = Fft_MaxMinDiff_acc_gyr_mag(s5_acc_clup_upperarm_filt)\n",
    "o7 = Fft_MaxMinDiff_acc_gyr_mag(s5_acc_clup_waist_filt)\n",
    "s5_clup_FD = np.hstack((o1,o2,o3,o4,o5,o6,o7))"
   ]
  },
  {
   "cell_type": "code",
   "execution_count": 558,
   "id": "77da2165",
   "metadata": {},
   "outputs": [],
   "source": [
    "o1 = Fft_MaxMinDiff_acc_gyr_mag(s6_acc_clup_chest_filt)\n",
    "o2 = Fft_MaxMinDiff_acc_gyr_mag(s6_acc_clup_head_filt)\n",
    "o3 = Fft_MaxMinDiff_acc_gyr_mag(s6_acc_clup_forearm_filt)\n",
    "o4 = Fft_MaxMinDiff_acc_gyr_mag(s6_acc_clup_shin_filt)\n",
    "o5 = Fft_MaxMinDiff_acc_gyr_mag(s6_acc_clup_thigh_filt)\n",
    "o6 = Fft_MaxMinDiff_acc_gyr_mag(s6_acc_clup_upperarm_filt)\n",
    "o7 = Fft_MaxMinDiff_acc_gyr_mag(s6_acc_clup_waist_filt)\n",
    "s6_clup_FD = np.hstack((o1,o2,o3,o4,o5,o6,o7))"
   ]
  },
  {
   "cell_type": "code",
   "execution_count": 559,
   "id": "33f1f5c6",
   "metadata": {},
   "outputs": [],
   "source": [
    "o1 = Fft_MaxMinDiff_acc_gyr_mag(s7_acc_clup_chest_filt)\n",
    "o2 = Fft_MaxMinDiff_acc_gyr_mag(s7_acc_clup_head_filt)\n",
    "o3 = Fft_MaxMinDiff_acc_gyr_mag(s7_acc_clup_forearm_filt)\n",
    "o4 = Fft_MaxMinDiff_acc_gyr_mag(s7_acc_clup_shin_filt)\n",
    "o5 = Fft_MaxMinDiff_acc_gyr_mag(s7_acc_clup_thigh_filt)\n",
    "o6 = Fft_MaxMinDiff_acc_gyr_mag(s7_acc_clup_upperarm_filt)\n",
    "o7 = Fft_MaxMinDiff_acc_gyr_mag(s7_acc_clup_waist_filt)\n",
    "s7_clup_FD = np.hstack((o1,o2,o3,o4,o5,o6,o7))"
   ]
  },
  {
   "cell_type": "code",
   "execution_count": 560,
   "id": "ca865705",
   "metadata": {},
   "outputs": [],
   "source": [
    "\n",
    "o1 = Fft_MaxMinDiff_acc_gyr_mag(s8_acc_clup_chest_filt)\n",
    "o2 = Fft_MaxMinDiff_acc_gyr_mag(s8_acc_clup_head_filt)\n",
    "o3 = Fft_MaxMinDiff_acc_gyr_mag(s8_acc_clup_forearm_filt)\n",
    "o4 = Fft_MaxMinDiff_acc_gyr_mag(s8_acc_clup_shin_filt)\n",
    "o5 = Fft_MaxMinDiff_acc_gyr_mag(s8_acc_clup_thigh_filt)\n",
    "o6 = Fft_MaxMinDiff_acc_gyr_mag(s8_acc_clup_upperarm_filt)\n",
    "o7 = Fft_MaxMinDiff_acc_gyr_mag(s8_acc_clup_waist_filt)\n",
    "s8_clup_FD = np.hstack((o1,o2,o3,o4,o5,o6,o7))"
   ]
  },
  {
   "cell_type": "code",
   "execution_count": 561,
   "id": "4f60f2e2",
   "metadata": {},
   "outputs": [],
   "source": [
    "o1 = Fft_MaxMinDiff_acc_gyr_mag(s9_acc_clup_chest_filt)\n",
    "o2 = Fft_MaxMinDiff_acc_gyr_mag(s9_acc_clup_head_filt)\n",
    "o3 = Fft_MaxMinDiff_acc_gyr_mag(s9_acc_clup_forearm_filt)\n",
    "o4 = Fft_MaxMinDiff_acc_gyr_mag(s9_acc_clup_shin_filt)\n",
    "o5 = Fft_MaxMinDiff_acc_gyr_mag(s9_acc_clup_thigh_filt)\n",
    "o6 = Fft_MaxMinDiff_acc_gyr_mag(s9_acc_clup_upperarm_filt)\n",
    "o7 = Fft_MaxMinDiff_acc_gyr_mag(s9_acc_clup_waist_filt)\n",
    "s9_clup_FD = np.hstack((o1,o2,o3,o4,o5,o6,o7))"
   ]
  },
  {
   "cell_type": "code",
   "execution_count": 562,
   "id": "b3e20a07",
   "metadata": {},
   "outputs": [],
   "source": [
    "o1 = Fft_MaxMinDiff_acc_gyr_mag(s10_acc_clup_chest_filt)\n",
    "o2 = Fft_MaxMinDiff_acc_gyr_mag(s10_acc_clup_head_filt)\n",
    "o3 = Fft_MaxMinDiff_acc_gyr_mag(s10_acc_clup_forearm_filt)\n",
    "o4 = Fft_MaxMinDiff_acc_gyr_mag(s10_acc_clup_shin_filt)\n",
    "o5 = Fft_MaxMinDiff_acc_gyr_mag(s10_acc_clup_thigh_filt)\n",
    "o6 = Fft_MaxMinDiff_acc_gyr_mag(s10_acc_clup_upperarm_filt)\n",
    "o7 = Fft_MaxMinDiff_acc_gyr_mag(s10_acc_clup_waist_filt)\n",
    "s10_clup_FD = np.hstack((o1,o2,o3,o4,o5,o6,o7))"
   ]
  },
  {
   "cell_type": "code",
   "execution_count": 563,
   "id": "9190323e",
   "metadata": {},
   "outputs": [],
   "source": [
    "o1 = Fft_MaxMinDiff_acc_gyr_mag(s11_acc_clup_chest_filt)\n",
    "o2 = Fft_MaxMinDiff_acc_gyr_mag(s11_acc_clup_head_filt)\n",
    "o3 = Fft_MaxMinDiff_acc_gyr_mag(s11_acc_clup_forearm_filt)\n",
    "o4 = Fft_MaxMinDiff_acc_gyr_mag(s11_acc_clup_shin_filt)\n",
    "o5 = Fft_MaxMinDiff_acc_gyr_mag(s11_acc_clup_thigh_filt)\n",
    "o6 = Fft_MaxMinDiff_acc_gyr_mag(s11_acc_clup_upperarm_filt)\n",
    "o7 = Fft_MaxMinDiff_acc_gyr_mag(s11_acc_clup_waist_filt)\n",
    "s11_clup_FD = np.hstack((o1,o2,o3,o4,o5,o6,o7))"
   ]
  },
  {
   "cell_type": "code",
   "execution_count": 564,
   "id": "b84103cb",
   "metadata": {},
   "outputs": [],
   "source": [
    "o1 = Fft_MaxMinDiff_acc_gyr_mag(s12_acc_clup_chest_filt)\n",
    "o2 = Fft_MaxMinDiff_acc_gyr_mag(s12_acc_clup_head_filt)\n",
    "o3 = Fft_MaxMinDiff_acc_gyr_mag(s12_acc_clup_forearm_filt)\n",
    "o4 = Fft_MaxMinDiff_acc_gyr_mag(s12_acc_clup_shin_filt)\n",
    "o5 = Fft_MaxMinDiff_acc_gyr_mag(s12_acc_clup_thigh_filt)\n",
    "o6 = Fft_MaxMinDiff_acc_gyr_mag(s12_acc_clup_upperarm_filt)\n",
    "o7 = Fft_MaxMinDiff_acc_gyr_mag(s12_acc_clup_waist_filt)\n",
    "s12_clup_FD = np.hstack((o1,o2,o3,o4,o5,o6,o7))"
   ]
  },
  {
   "cell_type": "code",
   "execution_count": 565,
   "id": "2ddc89e1",
   "metadata": {},
   "outputs": [],
   "source": [
    "o1 = Fft_MaxMinDiff_acc_gyr_mag(s13_acc_clup_chest_filt)\n",
    "o2 = Fft_MaxMinDiff_acc_gyr_mag(s13_acc_clup_head_filt)\n",
    "o3 = Fft_MaxMinDiff_acc_gyr_mag(s13_acc_clup_forearm_filt)\n",
    "o4 = Fft_MaxMinDiff_acc_gyr_mag(s13_acc_clup_shin_filt)\n",
    "o5 = Fft_MaxMinDiff_acc_gyr_mag(s13_acc_clup_thigh_filt)\n",
    "o6 = Fft_MaxMinDiff_acc_gyr_mag(s13_acc_clup_upperarm_filt)\n",
    "o7 = Fft_MaxMinDiff_acc_gyr_mag(s13_acc_clup_waist_filt)\n",
    "s13_clup_FD = np.hstack((o1,o2,o3,o4,o5,o6,o7))"
   ]
  },
  {
   "cell_type": "code",
   "execution_count": 566,
   "id": "7ad13f4d",
   "metadata": {},
   "outputs": [],
   "source": [
    "o1 = Fft_MaxMinDiff_acc_gyr_mag(s14_acc_clup_chest_filt)\n",
    "o2 = Fft_MaxMinDiff_acc_gyr_mag(s14_acc_clup_head_filt)\n",
    "o3 = Fft_MaxMinDiff_acc_gyr_mag(s14_acc_clup_forearm_filt)\n",
    "o4 = Fft_MaxMinDiff_acc_gyr_mag(s14_acc_clup_shin_filt)\n",
    "o5 = Fft_MaxMinDiff_acc_gyr_mag(s14_acc_clup_thigh_filt)\n",
    "o6 = Fft_MaxMinDiff_acc_gyr_mag(s14_acc_clup_upperarm_filt)\n",
    "o7 = Fft_MaxMinDiff_acc_gyr_mag(s14_acc_clup_waist_filt)\n",
    "s14_clup_FD = np.hstack((o1,o2,o3,o4,o5,o6,o7))"
   ]
  },
  {
   "cell_type": "code",
   "execution_count": 567,
   "id": "1c378d48",
   "metadata": {},
   "outputs": [],
   "source": [
    "o1 = Fft_MaxMinDiff_acc_gyr_mag(s15_acc_clup_chest_filt)\n",
    "o2 = Fft_MaxMinDiff_acc_gyr_mag(s15_acc_clup_head_filt)\n",
    "o3 = Fft_MaxMinDiff_acc_gyr_mag(s15_acc_clup_forearm_filt)\n",
    "o4 = Fft_MaxMinDiff_acc_gyr_mag(s15_acc_clup_shin_filt)\n",
    "o5 = Fft_MaxMinDiff_acc_gyr_mag(s15_acc_clup_thigh_filt)\n",
    "o6 = Fft_MaxMinDiff_acc_gyr_mag(s15_acc_clup_upperarm_filt)\n",
    "o7 = Fft_MaxMinDiff_acc_gyr_mag(s15_acc_clup_waist_filt)\n",
    "s15_clup_FD = np.hstack((o1,o2,o3,o4,o5,o6,o7))"
   ]
  },
  {
   "cell_type": "code",
   "execution_count": 568,
   "id": "f4a29184",
   "metadata": {},
   "outputs": [],
   "source": [
    "clup_FD = []\n",
    "clup_FD.append(s1_clup_FD)\n",
    "clup_FD.append(s2_clup_FD)\n",
    "clup_FD.append(s3_clup_FD)\n",
    "clup_FD.append(s4_clup_FD)\n",
    "clup_FD.append(s5_clup_FD)\n",
    "clup_FD.append(s6_clup_FD)\n",
    "clup_FD.append(s7_clup_FD)\n",
    "clup_FD.append(s8_clup_FD)\n",
    "clup_FD.append(s9_clup_FD)\n",
    "clup_FD.append(s10_clup_FD)\n",
    "clup_FD.append(s11_clup_FD)\n",
    "clup_FD.append(s12_clup_FD)\n",
    "clup_FD.append(s13_clup_FD)\n",
    "clup_FD.append(s14_clup_FD)\n",
    "clup_FD.append(s15_clup_FD)"
   ]
  },
  {
   "cell_type": "code",
   "execution_count": 569,
   "id": "5df5b297",
   "metadata": {},
   "outputs": [],
   "source": [
    "#fft min max ratio for climning up"
   ]
  },
  {
   "cell_type": "code",
   "execution_count": 570,
   "id": "04686437",
   "metadata": {},
   "outputs": [],
   "source": [
    "o1 = Fft_MaxMinRatio_acc_gyr_mag(s1_acc_clup_chest_filt)\n",
    "o2 = Fft_MaxMinRatio_acc_gyr_mag(s1_acc_clup_head_filt)\n",
    "o3 = Fft_MaxMinRatio_acc_gyr_mag(s1_acc_clup_forearm_filt)\n",
    "o4 = Fft_MaxMinRatio_acc_gyr_mag(s1_acc_clup_shin_filt)\n",
    "o5 = Fft_MaxMinRatio_acc_gyr_mag(s1_acc_clup_thigh_filt)\n",
    "o6 = Fft_MaxMinRatio_acc_gyr_mag(s1_acc_clup_upperarm_filt)\n",
    "o7 = Fft_MaxMinRatio_acc_gyr_mag(s1_acc_clup_waist_filt)\n",
    "s1_clup_FR = np.hstack((o1,o2,o3,o4,o5,o6,o7))"
   ]
  },
  {
   "cell_type": "code",
   "execution_count": 571,
   "id": "d9206ff5",
   "metadata": {},
   "outputs": [],
   "source": [
    "o1 = Fft_MaxMinRatio_acc_gyr_mag(s2_acc_clup_chest_filt)\n",
    "o2 = Fft_MaxMinRatio_acc_gyr_mag(s2_acc_clup_head_filt)\n",
    "\n",
    "o4 = Fft_MaxMinRatio_acc_gyr_mag(s2_acc_clup_shin_filt)\n",
    "o5 = Fft_MaxMinRatio_acc_gyr_mag(s2_acc_clup_thigh_filt)\n",
    "o6 = Fft_MaxMinRatio_acc_gyr_mag(s2_acc_clup_upperarm_filt)\n",
    "o7 = Fft_MaxMinRatio_acc_gyr_mag(s2_acc_clup_waist_filt)\n",
    "s2_clup_FR = np.hstack((o1,o2,o3,o4,o5,o6,o7))"
   ]
  },
  {
   "cell_type": "code",
   "execution_count": 572,
   "id": "c3ab094a",
   "metadata": {},
   "outputs": [],
   "source": [
    "o1 = Fft_MaxMinRatio_acc_gyr_mag(s3_acc_clup_chest_filt)\n",
    "o2 = Fft_MaxMinRatio_acc_gyr_mag(s3_acc_clup_head_filt)\n",
    "o3 = Fft_MaxMinRatio_acc_gyr_mag(s3_acc_clup_forearm_filt)\n",
    "o4 = Fft_MaxMinRatio_acc_gyr_mag(s3_acc_clup_shin_filt)\n",
    "o5 = Fft_MaxMinRatio_acc_gyr_mag(s3_acc_clup_thigh_filt)\n",
    "o6 = Fft_MaxMinRatio_acc_gyr_mag(s3_acc_clup_upperarm_filt)\n",
    "o7 = Fft_MaxMinRatio_acc_gyr_mag(s3_acc_clup_waist_filt)\n",
    "s3_clup_FR = np.hstack((o1,o2,o3,o4,o5,o6,o7))\n"
   ]
  },
  {
   "cell_type": "code",
   "execution_count": 573,
   "id": "810938e5",
   "metadata": {},
   "outputs": [],
   "source": [
    "o1 = Fft_MaxMinRatio_acc_gyr_mag(s4_acc_clup_chest_filt)\n",
    "o2 = Fft_MaxMinRatio_acc_gyr_mag(s4_acc_clup_head_filt)\n",
    "o3 = Fft_MaxMinRatio_acc_gyr_mag(s4_acc_clup_forearm_filt)\n",
    "o4 = Fft_MaxMinRatio_acc_gyr_mag(s4_acc_clup_shin_filt)\n",
    "o5 = Fft_MaxMinRatio_acc_gyr_mag(s4_acc_clup_thigh_filt)\n",
    "o6 = Fft_MaxMinRatio_acc_gyr_mag(s4_acc_clup_upperarm_filt)\n",
    "o7 = Fft_MaxMinRatio_acc_gyr_mag(s4_acc_clup_waist_filt)\n",
    "s4_clup_FR = np.hstack((o1,o2,o3,o4,o5,o6,o7))"
   ]
  },
  {
   "cell_type": "code",
   "execution_count": 574,
   "id": "d7619244",
   "metadata": {},
   "outputs": [],
   "source": [
    "o1 = Fft_MaxMinRatio_acc_gyr_mag(s5_acc_clup_chest_filt)\n",
    "o2 = Fft_MaxMinRatio_acc_gyr_mag(s5_acc_clup_head_filt)\n",
    "o3 = Fft_MaxMinRatio_acc_gyr_mag(s5_acc_clup_forearm_filt)\n",
    "o4 = Fft_MaxMinRatio_acc_gyr_mag(s5_acc_clup_shin_filt)\n",
    "o5 = Fft_MaxMinRatio_acc_gyr_mag(s5_acc_clup_thigh_filt)\n",
    "o6 = Fft_MaxMinRatio_acc_gyr_mag(s5_acc_clup_upperarm_filt)\n",
    "o7 = Fft_MaxMinRatio_acc_gyr_mag(s5_acc_clup_waist_filt)\n",
    "s5_clup_FR = np.hstack((o1,o2,o3,o4,o5,o6,o7))"
   ]
  },
  {
   "cell_type": "code",
   "execution_count": 575,
   "id": "06aab2af",
   "metadata": {},
   "outputs": [],
   "source": [
    "o1 = Fft_MaxMinRatio_acc_gyr_mag(s6_acc_clup_chest_filt)\n",
    "o2 = Fft_MaxMinRatio_acc_gyr_mag(s6_acc_clup_head_filt)\n",
    "o3 = Fft_MaxMinRatio_acc_gyr_mag(s6_acc_clup_forearm_filt)\n",
    "o4 = Fft_MaxMinRatio_acc_gyr_mag(s6_acc_clup_shin_filt)\n",
    "o5 = Fft_MaxMinRatio_acc_gyr_mag(s6_acc_clup_thigh_filt)\n",
    "o6 = Fft_MaxMinRatio_acc_gyr_mag(s6_acc_clup_upperarm_filt)\n",
    "o7 = Fft_MaxMinRatio_acc_gyr_mag(s6_acc_clup_waist_filt)\n",
    "s6_clup_FR = np.hstack((o1,o2,o3,o4,o5,o6,o7))"
   ]
  },
  {
   "cell_type": "code",
   "execution_count": 576,
   "id": "63aa8b9f",
   "metadata": {},
   "outputs": [],
   "source": [
    "o1 = Fft_MaxMinRatio_acc_gyr_mag(s7_acc_clup_chest_filt)\n",
    "o2 = Fft_MaxMinRatio_acc_gyr_mag(s7_acc_clup_head_filt)\n",
    "o3 = Fft_MaxMinRatio_acc_gyr_mag(s7_acc_clup_forearm_filt)\n",
    "o4 = Fft_MaxMinRatio_acc_gyr_mag(s7_acc_clup_shin_filt)\n",
    "o5 = Fft_MaxMinRatio_acc_gyr_mag(s7_acc_clup_thigh_filt)\n",
    "o6 = Fft_MaxMinRatio_acc_gyr_mag(s7_acc_clup_upperarm_filt)\n",
    "o7 = Fft_MaxMinRatio_acc_gyr_mag(s7_acc_clup_waist_filt)\n",
    "s7_clup_FR = np.hstack((o1,o2,o3,o4,o5,o6,o7))"
   ]
  },
  {
   "cell_type": "code",
   "execution_count": 577,
   "id": "916d6975",
   "metadata": {},
   "outputs": [],
   "source": [
    "o1 = Fft_MaxMinRatio_acc_gyr_mag(s8_acc_clup_chest_filt)\n",
    "o2 = Fft_MaxMinRatio_acc_gyr_mag(s8_acc_clup_head_filt)\n",
    "o3 = Fft_MaxMinRatio_acc_gyr_mag(s8_acc_clup_forearm_filt)\n",
    "o4 = Fft_MaxMinRatio_acc_gyr_mag(s8_acc_clup_shin_filt)\n",
    "o5 = Fft_MaxMinRatio_acc_gyr_mag(s8_acc_clup_thigh_filt)\n",
    "o6 = Fft_MaxMinRatio_acc_gyr_mag(s8_acc_clup_upperarm_filt)\n",
    "o7 = Fft_MaxMinRatio_acc_gyr_mag(s8_acc_clup_waist_filt)\n",
    "s8_clup_FR = np.hstack((o1,o2,o3,o4,o5,o6,o7))"
   ]
  },
  {
   "cell_type": "code",
   "execution_count": 578,
   "id": "9fd72338",
   "metadata": {},
   "outputs": [],
   "source": [
    "o1 = Fft_MaxMinRatio_acc_gyr_mag(s9_acc_clup_chest_filt)\n",
    "o2 = Fft_MaxMinRatio_acc_gyr_mag(s9_acc_clup_head_filt)\n",
    "o3 = Fft_MaxMinRatio_acc_gyr_mag(s9_acc_clup_forearm_filt)\n",
    "o4 = Fft_MaxMinRatio_acc_gyr_mag(s9_acc_clup_shin_filt)\n",
    "o5 = Fft_MaxMinRatio_acc_gyr_mag(s9_acc_clup_thigh_filt)\n",
    "o6 = Fft_MaxMinRatio_acc_gyr_mag(s9_acc_clup_upperarm_filt)\n",
    "o7 = Fft_MaxMinRatio_acc_gyr_mag(s9_acc_clup_waist_filt)\n",
    "s9_clup_FR = np.hstack((o1,o2,o3,o4,o5,o6,o7))"
   ]
  },
  {
   "cell_type": "code",
   "execution_count": 579,
   "id": "389b4738",
   "metadata": {},
   "outputs": [],
   "source": [
    "o1 = Fft_MaxMinRatio_acc_gyr_mag(s10_acc_clup_chest_filt)\n",
    "o2 = Fft_MaxMinRatio_acc_gyr_mag(s10_acc_clup_head_filt)\n",
    "o3 = Fft_MaxMinRatio_acc_gyr_mag(s10_acc_clup_forearm_filt)\n",
    "o4 = Fft_MaxMinRatio_acc_gyr_mag(s10_acc_clup_shin_filt)\n",
    "o5 = Fft_MaxMinRatio_acc_gyr_mag(s10_acc_clup_thigh_filt)\n",
    "o6 = Fft_MaxMinRatio_acc_gyr_mag(s10_acc_clup_upperarm_filt)\n",
    "o7 = Fft_MaxMinRatio_acc_gyr_mag(s10_acc_clup_waist_filt)\n",
    "s10_clup_FR = np.hstack((o1,o2,o3,o4,o5,o6,o7))"
   ]
  },
  {
   "cell_type": "code",
   "execution_count": 580,
   "id": "25b02a25",
   "metadata": {},
   "outputs": [],
   "source": [
    "o1 = Fft_MaxMinRatio_acc_gyr_mag(s11_acc_clup_chest_filt)\n",
    "o2 = Fft_MaxMinRatio_acc_gyr_mag(s11_acc_clup_head_filt)\n",
    "o3 = Fft_MaxMinRatio_acc_gyr_mag(s11_acc_clup_forearm_filt)\n",
    "o4 = Fft_MaxMinRatio_acc_gyr_mag(s11_acc_clup_shin_filt)\n",
    "o5 = Fft_MaxMinRatio_acc_gyr_mag(s11_acc_clup_thigh_filt)\n",
    "o6 = Fft_MaxMinRatio_acc_gyr_mag(s11_acc_clup_upperarm_filt)\n",
    "o7 = Fft_MaxMinRatio_acc_gyr_mag(s11_acc_clup_waist_filt)\n",
    "s11_clup_FR = np.hstack((o1,o2,o3,o4,o5,o6,o7))"
   ]
  },
  {
   "cell_type": "code",
   "execution_count": 581,
   "id": "93cdb019",
   "metadata": {},
   "outputs": [],
   "source": [
    "o1 = Fft_MaxMinRatio_acc_gyr_mag(s12_acc_clup_chest_filt)\n",
    "o2 = Fft_MaxMinRatio_acc_gyr_mag(s12_acc_clup_head_filt)\n",
    "o3 = Fft_MaxMinRatio_acc_gyr_mag(s12_acc_clup_forearm_filt)\n",
    "o4 = Fft_MaxMinRatio_acc_gyr_mag(s12_acc_clup_shin_filt)\n",
    "o5 = Fft_MaxMinRatio_acc_gyr_mag(s12_acc_clup_thigh_filt)\n",
    "o6 = Fft_MaxMinRatio_acc_gyr_mag(s12_acc_clup_upperarm_filt)\n",
    "o7 = Fft_MaxMinRatio_acc_gyr_mag(s12_acc_clup_waist_filt)\n",
    "s12_clup_FR = np.hstack((o1,o2,o3,o4,o5,o6,o7))"
   ]
  },
  {
   "cell_type": "code",
   "execution_count": 582,
   "id": "12dce329",
   "metadata": {},
   "outputs": [],
   "source": [
    "o1 = Fft_MaxMinRatio_acc_gyr_mag(s13_acc_clup_chest_filt)\n",
    "o2 = Fft_MaxMinRatio_acc_gyr_mag(s13_acc_clup_head_filt)\n",
    "o3 = Fft_MaxMinRatio_acc_gyr_mag(s13_acc_clup_forearm_filt)\n",
    "o4 = Fft_MaxMinRatio_acc_gyr_mag(s13_acc_clup_shin_filt)\n",
    "o5 = Fft_MaxMinRatio_acc_gyr_mag(s13_acc_clup_thigh_filt)\n",
    "o6 = Fft_MaxMinRatio_acc_gyr_mag(s13_acc_clup_upperarm_filt)\n",
    "o7 = Fft_MaxMinRatio_acc_gyr_mag(s13_acc_clup_waist_filt)\n",
    "s13_clup_FR = np.hstack((o1,o2,o3,o4,o5,o6,o7))"
   ]
  },
  {
   "cell_type": "code",
   "execution_count": 583,
   "id": "c0173878",
   "metadata": {},
   "outputs": [],
   "source": [
    "o1 = Fft_MaxMinRatio_acc_gyr_mag(s14_acc_clup_chest_filt)\n",
    "o2 = Fft_MaxMinRatio_acc_gyr_mag(s14_acc_clup_head_filt)\n",
    "o3 = Fft_MaxMinRatio_acc_gyr_mag(s14_acc_clup_forearm_filt)\n",
    "o4 = Fft_MaxMinRatio_acc_gyr_mag(s14_acc_clup_shin_filt)\n",
    "o5 = Fft_MaxMinRatio_acc_gyr_mag(s14_acc_clup_thigh_filt)\n",
    "o6 = Fft_MaxMinRatio_acc_gyr_mag(s14_acc_clup_upperarm_filt)\n",
    "o7 = Fft_MaxMinRatio_acc_gyr_mag(s14_acc_clup_waist_filt)\n",
    "s14_clup_FR = np.hstack((o1,o2,o3,o4,o5,o6,o7))"
   ]
  },
  {
   "cell_type": "code",
   "execution_count": 584,
   "id": "b528dd81",
   "metadata": {},
   "outputs": [],
   "source": [
    "o1 = Fft_MaxMinRatio_acc_gyr_mag(s15_acc_clup_chest_filt)\n",
    "o2 = Fft_MaxMinRatio_acc_gyr_mag(s15_acc_clup_head_filt)\n",
    "o3 = Fft_MaxMinRatio_acc_gyr_mag(s15_acc_clup_forearm_filt)\n",
    "o4 = Fft_MaxMinRatio_acc_gyr_mag(s15_acc_clup_shin_filt)\n",
    "o5 = Fft_MaxMinRatio_acc_gyr_mag(s15_acc_clup_thigh_filt)\n",
    "o6 = Fft_MaxMinRatio_acc_gyr_mag(s15_acc_clup_upperarm_filt)\n",
    "o7 = Fft_MaxMinRatio_acc_gyr_mag(s15_acc_clup_waist_filt)\n",
    "s15_clup_FR = np.hstack((o1,o2,o3,o4,o5,o6,o7))"
   ]
  },
  {
   "cell_type": "code",
   "execution_count": 585,
   "id": "cd8d0a4d",
   "metadata": {},
   "outputs": [],
   "source": [
    "clup_FR = []\n",
    "clup_FR.append(s1_clup_FR)\n",
    "clup_FR.append(s2_clup_FR)\n",
    "clup_FR.append(s3_clup_FR)\n",
    "clup_FR.append(s4_clup_FR)\n",
    "clup_FR.append(s5_clup_FR)\n",
    "clup_FR.append(s6_clup_FR)\n",
    "clup_FR.append(s7_clup_FR)\n",
    "clup_FR.append(s8_clup_FR)\n",
    "clup_FR.append(s9_clup_FR)\n",
    "clup_FR.append(s10_clup_FR)\n",
    "clup_FR.append(s11_clup_FR)\n",
    "clup_FR.append(s12_clup_FR)\n",
    "clup_FR.append(s13_clup_FR)\n",
    "clup_FR.append(s14_clup_FR)\n",
    "clup_FR.append(s15_clup_FR)\n"
   ]
  },
  {
   "cell_type": "code",
   "execution_count": 586,
   "id": "3d1a4b33",
   "metadata": {},
   "outputs": [],
   "source": [
    "clup_features = [1]*15"
   ]
  },
  {
   "cell_type": "code",
   "execution_count": 587,
   "id": "b4f8b774",
   "metadata": {},
   "outputs": [],
   "source": [
    "for i in range(15):\n",
    "    clup_features[i] = np.concatenate((clup_parseval[i],clup_skew[i],clup_FD[i],clup_FR[i]))"
   ]
  },
  {
   "cell_type": "code",
   "execution_count": 588,
   "id": "e32a948f",
   "metadata": {},
   "outputs": [],
   "source": [
    "#jumping parseval"
   ]
  },
  {
   "cell_type": "code",
   "execution_count": 589,
   "id": "a954d415",
   "metadata": {},
   "outputs": [],
   "source": [
    "o1 = Parseval_acc_gyr_mag(s1_acc_jump_chest_filt)\n",
    "o2 = Parseval_acc_gyr_mag(s1_acc_jump_head_filt)\n",
    "o3 = Parseval_acc_gyr_mag(s1_acc_jump_forearm_filt)\n",
    "o4 = Parseval_acc_gyr_mag(s1_acc_jump_shin_filt)\n",
    "o5 = Parseval_acc_gyr_mag(s1_acc_jump_thigh_filt)\n",
    "o6 = Parseval_acc_gyr_mag(s1_acc_jump_upperarm_filt)\n",
    "o7 = Parseval_acc_gyr_mag(s1_acc_jump_waist_filt)\n",
    "s1_jump_parseval = np.hstack((o1,o2,o3,o4,o5,o6,o7))"
   ]
  },
  {
   "cell_type": "code",
   "execution_count": 590,
   "id": "78ad9b5f",
   "metadata": {},
   "outputs": [],
   "source": [
    "o1 = Parseval_acc_gyr_mag(s2_acc_jump_chest_filt)\n",
    "o2 = Parseval_acc_gyr_mag(s2_acc_jump_head_filt)\n",
    "o3 = Parseval_acc_gyr_mag(s2_acc_jump_forearm_filt)\n",
    "o4 = Parseval_acc_gyr_mag(s2_acc_jump_shin_filt)\n",
    "o5 = Parseval_acc_gyr_mag(s2_acc_jump_thigh_filt)\n",
    "o6 = Parseval_acc_gyr_mag(s2_acc_jump_upperarm_filt)\n",
    "o7 = Parseval_acc_gyr_mag(s2_acc_jump_waist_filt)\n",
    "s2_jump_parseval = np.hstack((o1,o2,o3,o4,o5,o6,o7))"
   ]
  },
  {
   "cell_type": "code",
   "execution_count": 591,
   "id": "382a7fca",
   "metadata": {},
   "outputs": [],
   "source": [
    "o1 = Parseval_acc_gyr_mag(s3_acc_jump_chest_filt)\n",
    "o2 = Parseval_acc_gyr_mag(s3_acc_jump_head_filt)\n",
    "o3 = Parseval_acc_gyr_mag(s3_acc_jump_forearm_filt)\n",
    "o4 = Parseval_acc_gyr_mag(s3_acc_jump_shin_filt)\n",
    "o5 = Parseval_acc_gyr_mag(s3_acc_jump_thigh_filt)\n",
    "o6 = Parseval_acc_gyr_mag(s3_acc_jump_upperarm_filt)\n",
    "o7 = Parseval_acc_gyr_mag(s3_acc_jump_waist_filt)\n",
    "s3_jump_parseval = np.hstack((o1,o2,o3,o4,o5,o6,o7))"
   ]
  },
  {
   "cell_type": "code",
   "execution_count": 592,
   "id": "48b64d7e",
   "metadata": {},
   "outputs": [],
   "source": [
    "o1 = Parseval_acc_gyr_mag(s4_acc_jump_chest_filt)\n",
    "o2 = Parseval_acc_gyr_mag(s4_acc_jump_head_filt)\n",
    "o3 = Parseval_acc_gyr_mag(s4_acc_jump_forearm_filt)\n",
    "o4 = Parseval_acc_gyr_mag(s4_acc_jump_shin_filt)\n",
    "o5 = Parseval_acc_gyr_mag(s4_acc_jump_thigh_filt)\n",
    "o6 = Parseval_acc_gyr_mag(s4_acc_jump_upperarm_filt)\n",
    "o7 = Parseval_acc_gyr_mag(s4_acc_jump_waist_filt)\n",
    "s4_jump_parseval = np.hstack((o1,o2,o3,o4,o5,o6,o7))"
   ]
  },
  {
   "cell_type": "code",
   "execution_count": 593,
   "id": "1d7ca911",
   "metadata": {},
   "outputs": [],
   "source": [
    "o1 = Parseval_acc_gyr_mag(s5_acc_jump_chest_filt)\n",
    "o2 = Parseval_acc_gyr_mag(s5_acc_jump_head_filt)\n",
    "o3 = Parseval_acc_gyr_mag(s5_acc_jump_forearm_filt)\n",
    "o4 = Parseval_acc_gyr_mag(s5_acc_jump_shin_filt)\n",
    "o5 = Parseval_acc_gyr_mag(s5_acc_jump_thigh_filt)\n",
    "o6 = Parseval_acc_gyr_mag(s5_acc_jump_upperarm_filt)\n",
    "o7 = Parseval_acc_gyr_mag(s5_acc_jump_waist_filt)\n",
    "s5_jump_parseval = np.hstack((o1,o2,o3,o4,o5,o6,o7))"
   ]
  },
  {
   "cell_type": "code",
   "execution_count": 594,
   "id": "6b36aee7",
   "metadata": {},
   "outputs": [],
   "source": [
    "o1 = Parseval_acc_gyr_mag(s6_acc_jump_chest_filt)\n",
    "o2 = Parseval_acc_gyr_mag(s6_acc_jump_head_filt)\n",
    "o3 = Parseval_acc_gyr_mag(s6_acc_jump_forearm_filt)\n",
    "o4 = Parseval_acc_gyr_mag(s6_acc_jump_shin_filt)\n",
    "\n",
    "o6 = Parseval_acc_gyr_mag(s6_acc_jump_upperarm_filt)\n",
    "o7 = Parseval_acc_gyr_mag(s6_acc_jump_waist_filt)\n",
    "s6_jump_parseval = np.hstack((o1,o2,o3,o4,o5,o6,o7))"
   ]
  },
  {
   "cell_type": "code",
   "execution_count": 595,
   "id": "4c42181d",
   "metadata": {},
   "outputs": [],
   "source": [
    "o1 = Parseval_acc_gyr_mag(s7_acc_jump_chest_filt)\n",
    "o2 = Parseval_acc_gyr_mag(s7_acc_jump_head_filt)\n",
    "o3 = Parseval_acc_gyr_mag(s7_acc_jump_forearm_filt)\n",
    "o4 = Parseval_acc_gyr_mag(s7_acc_jump_shin_filt)\n",
    "o5 = Parseval_acc_gyr_mag(s7_acc_jump_thigh_filt)\n",
    "o6 = Parseval_acc_gyr_mag(s7_acc_jump_upperarm_filt)\n",
    "o7 = Parseval_acc_gyr_mag(s7_acc_jump_waist_filt)\n",
    "s7_jump_parseval = np.hstack((o1,o2,o3,o4,o5,o6,o7))"
   ]
  },
  {
   "cell_type": "code",
   "execution_count": 596,
   "id": "2adf63da",
   "metadata": {},
   "outputs": [],
   "source": [
    "o1 = Parseval_acc_gyr_mag(s8_acc_jump_chest_filt)\n",
    "o2 = Parseval_acc_gyr_mag(s8_acc_jump_head_filt)\n",
    "o3 = Parseval_acc_gyr_mag(s8_acc_jump_forearm_filt)\n",
    "o4 = Parseval_acc_gyr_mag(s8_acc_jump_shin_filt)\n",
    "o5 = Parseval_acc_gyr_mag(s8_acc_jump_thigh_filt)\n",
    "o6 = Parseval_acc_gyr_mag(s8_acc_jump_upperarm_filt)\n",
    "o7 = Parseval_acc_gyr_mag(s8_acc_jump_waist_filt)\n",
    "s8_jump_parseval = np.hstack((o1,o2,o3,o4,o5,o6,o7))"
   ]
  },
  {
   "cell_type": "code",
   "execution_count": 597,
   "id": "eea74070",
   "metadata": {},
   "outputs": [],
   "source": [
    "o1 = Parseval_acc_gyr_mag(s9_acc_jump_chest_filt)\n",
    "o2 = Parseval_acc_gyr_mag(s9_acc_jump_head_filt)\n",
    "o3 = Parseval_acc_gyr_mag(s9_acc_jump_forearm_filt)\n",
    "o4 = Parseval_acc_gyr_mag(s9_acc_jump_shin_filt)\n",
    "o5 = Parseval_acc_gyr_mag(s9_acc_jump_thigh_filt)\n",
    "o6 = Parseval_acc_gyr_mag(s9_acc_jump_upperarm_filt)\n",
    "o7 = Parseval_acc_gyr_mag(s9_acc_jump_waist_filt)\n",
    "s9_jump_parseval = np.hstack((o1,o2,o3,o4,o5,o6,o7))"
   ]
  },
  {
   "cell_type": "code",
   "execution_count": 598,
   "id": "a275c0ba",
   "metadata": {},
   "outputs": [],
   "source": [
    "o1 = Parseval_acc_gyr_mag(s10_acc_jump_chest_filt)\n",
    "o2 = Parseval_acc_gyr_mag(s10_acc_jump_head_filt)\n",
    "o3 = Parseval_acc_gyr_mag(s10_acc_jump_forearm_filt)\n",
    "o4 = Parseval_acc_gyr_mag(s10_acc_jump_shin_filt)\n",
    "o5 = Parseval_acc_gyr_mag(s10_acc_jump_thigh_filt)\n",
    "o6 = Parseval_acc_gyr_mag(s10_acc_jump_upperarm_filt)\n",
    "o7 = Parseval_acc_gyr_mag(s10_acc_jump_waist_filt)\n",
    "s10_jump_parseval = np.hstack((o1,o2,o3,o4,o5,o6,o7))"
   ]
  },
  {
   "cell_type": "code",
   "execution_count": 599,
   "id": "832adc2b",
   "metadata": {},
   "outputs": [],
   "source": [
    "o1 = Parseval_acc_gyr_mag(s11_acc_jump_chest_filt)\n",
    "o2 = Parseval_acc_gyr_mag(s11_acc_jump_head_filt)\n",
    "o3 = Parseval_acc_gyr_mag(s11_acc_jump_forearm_filt)\n",
    "o4 = Parseval_acc_gyr_mag(s11_acc_jump_shin_filt)\n",
    "o5 = Parseval_acc_gyr_mag(s11_acc_jump_thigh_filt)\n",
    "o6 = Parseval_acc_gyr_mag(s11_acc_jump_upperarm_filt)\n",
    "o7 = Parseval_acc_gyr_mag(s11_acc_jump_waist_filt)\n",
    "s11_jump_parseval = np.hstack((o1,o2,o3,o4,o5,o6,o7))"
   ]
  },
  {
   "cell_type": "code",
   "execution_count": 600,
   "id": "bd76369c",
   "metadata": {},
   "outputs": [],
   "source": [
    "o1 = Parseval_acc_gyr_mag(s12_acc_jump_chest_filt)\n",
    "o2 = Parseval_acc_gyr_mag(s12_acc_jump_head_filt)\n",
    "o3 = Parseval_acc_gyr_mag(s12_acc_jump_forearm_filt)\n",
    "o4 = Parseval_acc_gyr_mag(s12_acc_jump_shin_filt)\n",
    "o5 = Parseval_acc_gyr_mag(s12_acc_jump_thigh_filt)\n",
    "o6 = Parseval_acc_gyr_mag(s12_acc_jump_upperarm_filt)\n",
    "o7 = Parseval_acc_gyr_mag(s12_acc_jump_waist_filt)\n",
    "s12_jump_parseval = np.hstack((o1,o2,o3,o4,o5,o6,o7))"
   ]
  },
  {
   "cell_type": "code",
   "execution_count": 601,
   "id": "6bd22578",
   "metadata": {},
   "outputs": [],
   "source": [
    "o1 = Parseval_acc_gyr_mag(s13_acc_jump_chest_filt)\n",
    "o2 = Parseval_acc_gyr_mag(s13_acc_jump_head_filt)\n",
    "o3 = Parseval_acc_gyr_mag(s13_acc_jump_forearm_filt)\n",
    "o4 = Parseval_acc_gyr_mag(s13_acc_jump_shin_filt)\n",
    "o5 = Parseval_acc_gyr_mag(s13_acc_jump_thigh_filt)\n",
    "o6 = Parseval_acc_gyr_mag(s13_acc_jump_upperarm_filt)\n",
    "o7 = Parseval_acc_gyr_mag(s13_acc_jump_waist_filt)\n",
    "s13_jump_parseval = np.hstack((o1,o2,o3,o4,o5,o6,o7))"
   ]
  },
  {
   "cell_type": "code",
   "execution_count": 602,
   "id": "9c1e1ce5",
   "metadata": {},
   "outputs": [],
   "source": [
    "o1 = Parseval_acc_gyr_mag(s14_acc_jump_chest_filt)\n",
    "o2 = Parseval_acc_gyr_mag(s14_acc_jump_head_filt)\n",
    "o3 = Parseval_acc_gyr_mag(s14_acc_jump_forearm_filt)\n",
    "o4 = Parseval_acc_gyr_mag(s14_acc_jump_shin_filt)\n",
    "o5 = Parseval_acc_gyr_mag(s14_acc_jump_thigh_filt)\n",
    "o6 = Parseval_acc_gyr_mag(s14_acc_jump_upperarm_filt)\n",
    "o7 = Parseval_acc_gyr_mag(s14_acc_jump_waist_filt)\n",
    "s14_jump_parseval = np.hstack((o1,o2,o3,o4,o5,o6,o7))"
   ]
  },
  {
   "cell_type": "code",
   "execution_count": 603,
   "id": "0eb26831",
   "metadata": {},
   "outputs": [],
   "source": [
    "o1 = Parseval_acc_gyr_mag(s15_acc_jump_chest_filt)\n",
    "o2 = Parseval_acc_gyr_mag(s15_acc_jump_head_filt)\n",
    "o3 = Parseval_acc_gyr_mag(s15_acc_jump_forearm_filt)\n",
    "o4 = Parseval_acc_gyr_mag(s15_acc_jump_shin_filt)\n",
    "o5 = Parseval_acc_gyr_mag(s15_acc_jump_thigh_filt)\n",
    "o6 = Parseval_acc_gyr_mag(s15_acc_jump_upperarm_filt)\n",
    "o7 = Parseval_acc_gyr_mag(s15_acc_jump_waist_filt)\n",
    "s15_jump_parseval = np.hstack((o1,o2,o3,o4,o5,o6,o7))"
   ]
  },
  {
   "cell_type": "code",
   "execution_count": 604,
   "id": "03bac22d",
   "metadata": {},
   "outputs": [],
   "source": [
    "jump_parseval = []\n",
    "jump_parseval.append(s1_jump_parseval)\n",
    "jump_parseval.append(s2_jump_parseval)\n",
    "jump_parseval.append(s3_jump_parseval)\n",
    "jump_parseval.append(s4_jump_parseval)\n",
    "jump_parseval.append(s5_jump_parseval)\n",
    "jump_parseval.append(s6_jump_parseval)\n",
    "jump_parseval.append(s7_jump_parseval)\n",
    "jump_parseval.append(s8_jump_parseval)\n",
    "jump_parseval.append(s9_jump_parseval)\n",
    "jump_parseval.append(s10_jump_parseval)\n",
    "jump_parseval.append(s11_jump_parseval)\n",
    "jump_parseval.append(s12_jump_parseval)\n",
    "jump_parseval.append(s13_jump_parseval)\n",
    "jump_parseval.append(s14_jump_parseval)\n",
    "jump_parseval.append(s15_jump_parseval)\n"
   ]
  },
  {
   "cell_type": "code",
   "execution_count": 605,
   "id": "2ee3b528",
   "metadata": {},
   "outputs": [],
   "source": [
    "#skewness for jumpng"
   ]
  },
  {
   "cell_type": "code",
   "execution_count": 606,
   "id": "6e75b654",
   "metadata": {},
   "outputs": [],
   "source": [
    "o1 = Skewness_acc_gyr_mag(s1_acc_jump_chest_filt)\n",
    "o2 = Skewness_acc_gyr_mag(s1_acc_jump_head_filt)\n",
    "o3 = Skewness_acc_gyr_mag(s1_acc_jump_forearm_filt)\n",
    "o4 = Skewness_acc_gyr_mag(s1_acc_jump_shin_filt)\n",
    "o5 = Skewness_acc_gyr_mag(s1_acc_jump_thigh_filt)\n",
    "o6 = Skewness_acc_gyr_mag(s1_acc_jump_upperarm_filt)\n",
    "o7 = Skewness_acc_gyr_mag(s1_acc_jump_waist_filt)\n",
    "s1_jump_skew = np.hstack((o1,o2,o3,o4,o5,o6,o7))"
   ]
  },
  {
   "cell_type": "code",
   "execution_count": 607,
   "id": "f33148f0",
   "metadata": {},
   "outputs": [],
   "source": [
    "o1 = Skewness_acc_gyr_mag(s2_acc_jump_chest_filt)\n",
    "o2 = Skewness_acc_gyr_mag(s2_acc_jump_head_filt)\n",
    "o3 = Skewness_acc_gyr_mag(s2_acc_jump_forearm_filt)\n",
    "o4 = Skewness_acc_gyr_mag(s2_acc_jump_shin_filt)\n",
    "o5 = Skewness_acc_gyr_mag(s2_acc_jump_thigh_filt)\n",
    "o6 = Skewness_acc_gyr_mag(s2_acc_jump_upperarm_filt)\n",
    "o7 = Skewness_acc_gyr_mag(s2_acc_jump_waist_filt)\n",
    "s2_jump_skew = np.hstack((o1,o2,o3,o4,o5,o6,o7))"
   ]
  },
  {
   "cell_type": "code",
   "execution_count": 608,
   "id": "e58e6285",
   "metadata": {},
   "outputs": [],
   "source": [
    "o1 = Skewness_acc_gyr_mag(s3_acc_jump_chest_filt)\n",
    "o2 = Skewness_acc_gyr_mag(s3_acc_jump_head_filt)\n",
    "o3 = Skewness_acc_gyr_mag(s3_acc_jump_forearm_filt)\n",
    "o4 = Skewness_acc_gyr_mag(s3_acc_jump_shin_filt)\n",
    "o5 = Skewness_acc_gyr_mag(s3_acc_jump_thigh_filt)\n",
    "o6 = Skewness_acc_gyr_mag(s3_acc_jump_upperarm_filt)\n",
    "o7 = Skewness_acc_gyr_mag(s3_acc_jump_waist_filt)\n",
    "s3_jump_skew = np.hstack((o1,o2,o3,o4,o5,o6,o7))"
   ]
  },
  {
   "cell_type": "code",
   "execution_count": 609,
   "id": "6b93c5f2",
   "metadata": {},
   "outputs": [],
   "source": [
    "o1 = Skewness_acc_gyr_mag(s4_acc_jump_chest_filt)\n",
    "o2 = Skewness_acc_gyr_mag(s4_acc_jump_head_filt)\n",
    "o3 = Skewness_acc_gyr_mag(s4_acc_jump_forearm_filt)\n",
    "o4 = Skewness_acc_gyr_mag(s4_acc_jump_shin_filt)\n",
    "o5 = Skewness_acc_gyr_mag(s4_acc_jump_thigh_filt)\n",
    "o6 = Skewness_acc_gyr_mag(s4_acc_jump_upperarm_filt)\n",
    "o7 = Skewness_acc_gyr_mag(s4_acc_jump_waist_filt)\n",
    "s4_jump_skew = np.hstack((o1,o2,o3,o4,o5,o6,o7))"
   ]
  },
  {
   "cell_type": "code",
   "execution_count": 610,
   "id": "5f040b95",
   "metadata": {},
   "outputs": [],
   "source": [
    "o1 = Skewness_acc_gyr_mag(s5_acc_jump_chest_filt)\n",
    "o2 = Skewness_acc_gyr_mag(s5_acc_jump_head_filt)\n",
    "o3 = Skewness_acc_gyr_mag(s5_acc_jump_forearm_filt)\n",
    "o4 = Skewness_acc_gyr_mag(s5_acc_jump_shin_filt)\n",
    "o5 = Skewness_acc_gyr_mag(s5_acc_jump_thigh_filt)\n",
    "o6 = Skewness_acc_gyr_mag(s5_acc_jump_upperarm_filt)\n",
    "o7 = Skewness_acc_gyr_mag(s5_acc_jump_waist_filt)\n",
    "s5_jump_skew = np.hstack((o1,o2,o3,o4,o5,o6,o7))"
   ]
  },
  {
   "cell_type": "code",
   "execution_count": 611,
   "id": "a40a0c14",
   "metadata": {},
   "outputs": [],
   "source": [
    "o1 = Skewness_acc_gyr_mag(s6_acc_jump_chest_filt)\n",
    "o2 = Skewness_acc_gyr_mag(s6_acc_jump_head_filt)\n",
    "o3 = Skewness_acc_gyr_mag(s6_acc_jump_forearm_filt)\n",
    "o4 = Skewness_acc_gyr_mag(s6_acc_jump_shin_filt)\n",
    "\n",
    "o6 = Skewness_acc_gyr_mag(s6_acc_jump_upperarm_filt)\n",
    "o7 = Skewness_acc_gyr_mag(s6_acc_jump_waist_filt)\n",
    "s6_jump_skew = np.hstack((o1,o2,o3,o4,o5,o6,o7))"
   ]
  },
  {
   "cell_type": "code",
   "execution_count": 612,
   "id": "5452652a",
   "metadata": {},
   "outputs": [],
   "source": [
    "o1 = Skewness_acc_gyr_mag(s7_acc_jump_chest_filt)\n",
    "o2 = Skewness_acc_gyr_mag(s7_acc_jump_head_filt)\n",
    "o3 = Skewness_acc_gyr_mag(s7_acc_jump_forearm_filt)\n",
    "o4 = Skewness_acc_gyr_mag(s7_acc_jump_shin_filt)\n",
    "o5 = Skewness_acc_gyr_mag(s7_acc_jump_thigh_filt)\n",
    "o6 = Skewness_acc_gyr_mag(s7_acc_jump_upperarm_filt)\n",
    "o7 = Skewness_acc_gyr_mag(s7_acc_jump_waist_filt)\n",
    "s7_jump_skew = np.hstack((o1,o2,o3,o4,o5,o6,o7))"
   ]
  },
  {
   "cell_type": "code",
   "execution_count": 613,
   "id": "c8ebd91b",
   "metadata": {},
   "outputs": [],
   "source": [
    "o1 = Skewness_acc_gyr_mag(s8_acc_jump_chest_filt)\n",
    "o2 = Skewness_acc_gyr_mag(s8_acc_jump_head_filt)\n",
    "o3 = Skewness_acc_gyr_mag(s8_acc_jump_forearm_filt)\n",
    "o4 = Skewness_acc_gyr_mag(s8_acc_jump_shin_filt)\n",
    "o5 = Skewness_acc_gyr_mag(s8_acc_jump_thigh_filt)\n",
    "o6 = Skewness_acc_gyr_mag(s8_acc_jump_upperarm_filt)\n",
    "\n",
    "o7 = Skewness_acc_gyr_mag(s8_acc_jump_waist_filt)\n",
    "s8_jump_skew = np.hstack((o1,o2,o3,o4,o5,o6,o7))"
   ]
  },
  {
   "cell_type": "code",
   "execution_count": 614,
   "id": "64e60493",
   "metadata": {},
   "outputs": [],
   "source": [
    "\n",
    "o1 = Skewness_acc_gyr_mag(s9_acc_jump_chest_filt)\n",
    "o2 = Skewness_acc_gyr_mag(s9_acc_jump_head_filt)\n",
    "o3 = Skewness_acc_gyr_mag(s9_acc_jump_forearm_filt)\n",
    "o4 = Skewness_acc_gyr_mag(s9_acc_jump_shin_filt)\n",
    "o5 = Skewness_acc_gyr_mag(s9_acc_jump_thigh_filt)\n",
    "o6 = Skewness_acc_gyr_mag(s9_acc_jump_upperarm_filt)\n",
    "o7 = Skewness_acc_gyr_mag(s9_acc_jump_waist_filt)\n",
    "s9_jump_skew = np.hstack((o1,o2,o3,o4,o5,o6,o7))"
   ]
  },
  {
   "cell_type": "code",
   "execution_count": 615,
   "id": "57d71130",
   "metadata": {},
   "outputs": [],
   "source": [
    "o1 = Skewness_acc_gyr_mag(s10_acc_jump_chest_filt)\n",
    "o2 = Skewness_acc_gyr_mag(s10_acc_jump_head_filt)\n",
    "o3 = Skewness_acc_gyr_mag(s10_acc_jump_forearm_filt)\n",
    "o4 = Skewness_acc_gyr_mag(s10_acc_jump_shin_filt)\n",
    "o5 = Skewness_acc_gyr_mag(s10_acc_jump_thigh_filt)\n",
    "o6 = Skewness_acc_gyr_mag(s10_acc_jump_upperarm_filt)\n",
    "o7 = Skewness_acc_gyr_mag(s10_acc_jump_waist_filt)\n",
    "s10_jump_skew = np.hstack((o1,o2,o3,o4,o5,o6,o7))"
   ]
  },
  {
   "cell_type": "code",
   "execution_count": 616,
   "id": "63f88f1d",
   "metadata": {},
   "outputs": [],
   "source": [
    "o1 = Skewness_acc_gyr_mag(s11_acc_jump_chest_filt)\n",
    "o2 = Skewness_acc_gyr_mag(s11_acc_jump_head_filt)\n",
    "o3 = Skewness_acc_gyr_mag(s11_acc_jump_forearm_filt)\n",
    "o4 = Skewness_acc_gyr_mag(s11_acc_jump_shin_filt)\n",
    "o5 = Skewness_acc_gyr_mag(s11_acc_jump_thigh_filt)\n",
    "o6 = Skewness_acc_gyr_mag(s11_acc_jump_upperarm_filt)\n",
    "o7 = Skewness_acc_gyr_mag(s11_acc_jump_waist_filt)\n",
    "s11_jump_skew = np.hstack((o1,o2,o3,o4,o5,o6,o7))"
   ]
  },
  {
   "cell_type": "code",
   "execution_count": 617,
   "id": "ea9e192d",
   "metadata": {},
   "outputs": [],
   "source": [
    "o1 = Skewness_acc_gyr_mag(s12_acc_jump_chest_filt)\n",
    "o2 = Skewness_acc_gyr_mag(s12_acc_jump_head_filt)\n",
    "o3 = Skewness_acc_gyr_mag(s12_acc_jump_forearm_filt)\n",
    "o4 = Skewness_acc_gyr_mag(s12_acc_jump_shin_filt)\n",
    "o5 = Skewness_acc_gyr_mag(s12_acc_jump_thigh_filt)\n",
    "o6 = Skewness_acc_gyr_mag(s12_acc_jump_upperarm_filt)\n",
    "o7 = Skewness_acc_gyr_mag(s12_acc_jump_waist_filt)\n",
    "s12_jump_skew = np.hstack((o1,o2,o3,o4,o5,o6,o7))"
   ]
  },
  {
   "cell_type": "code",
   "execution_count": 618,
   "id": "f60d5aa7",
   "metadata": {},
   "outputs": [],
   "source": [
    "o1 = Skewness_acc_gyr_mag(s13_acc_jump_chest_filt)\n",
    "o2 = Skewness_acc_gyr_mag(s13_acc_jump_head_filt)\n",
    "o3 = Skewness_acc_gyr_mag(s13_acc_jump_forearm_filt)\n",
    "o4 = Skewness_acc_gyr_mag(s13_acc_jump_shin_filt)\n",
    "o5 = Skewness_acc_gyr_mag(s13_acc_jump_thigh_filt)\n",
    "o6 = Skewness_acc_gyr_mag(s13_acc_jump_upperarm_filt)\n",
    "o7 = Skewness_acc_gyr_mag(s13_acc_jump_waist_filt)\n",
    "s13_jump_skew = np.hstack((o1,o2,o3,o4,o5,o6,o7))"
   ]
  },
  {
   "cell_type": "code",
   "execution_count": 619,
   "id": "f80bd233",
   "metadata": {},
   "outputs": [],
   "source": [
    "o1 = Skewness_acc_gyr_mag(s14_acc_jump_chest_filt)\n",
    "o2 = Skewness_acc_gyr_mag(s14_acc_jump_head_filt)\n",
    "o3 = Skewness_acc_gyr_mag(s14_acc_jump_forearm_filt)\n",
    "o4 = Skewness_acc_gyr_mag(s14_acc_jump_shin_filt)\n",
    "o5 = Skewness_acc_gyr_mag(s14_acc_jump_thigh_filt)\n",
    "o6 = Skewness_acc_gyr_mag(s14_acc_jump_upperarm_filt)\n",
    "o7 = Skewness_acc_gyr_mag(s14_acc_jump_waist_filt)\n",
    "s14_jump_skew = np.hstack((o1,o2,o3,o4,o5,o6,o7,))"
   ]
  },
  {
   "cell_type": "code",
   "execution_count": 620,
   "id": "f130a4ba",
   "metadata": {},
   "outputs": [],
   "source": [
    "o1 = Skewness_acc_gyr_mag(s15_acc_jump_chest_filt)\n",
    "o2 = Skewness_acc_gyr_mag(s15_acc_jump_head_filt)\n",
    "o3 = Skewness_acc_gyr_mag(s15_acc_jump_forearm_filt)\n",
    "o4 = Skewness_acc_gyr_mag(s15_acc_jump_shin_filt)\n",
    "o5 = Skewness_acc_gyr_mag(s15_acc_jump_thigh_filt)\n",
    "o6 = Skewness_acc_gyr_mag(s15_acc_jump_upperarm_filt)\n",
    "o7 = Skewness_acc_gyr_mag(s15_acc_jump_waist_filt)\n",
    "s15_jump_skew = np.hstack((o1,o2,o3,o4,o5,o6,o7))"
   ]
  },
  {
   "cell_type": "code",
   "execution_count": 621,
   "id": "75316f93",
   "metadata": {},
   "outputs": [],
   "source": [
    "jump_skew = []\n",
    "jump_skew.append(s1_jump_skew)\n",
    "jump_skew.append(s2_jump_skew)\n",
    "jump_skew.append(s3_jump_skew)\n",
    "jump_skew.append(s4_jump_skew)\n",
    "jump_skew.append(s5_jump_skew)\n",
    "jump_skew.append(s6_jump_skew)\n",
    "jump_skew.append(s7_jump_skew)\n",
    "jump_skew.append(s8_jump_skew)\n",
    "jump_skew.append(s9_jump_skew)\n",
    "jump_skew.append(s10_jump_skew)\n",
    "jump_skew.append(s11_jump_skew)\n",
    "jump_skew.append(s12_jump_skew)\n",
    "jump_skew.append(s13_jump_skew)\n",
    "jump_skew.append(s14_jump_skew)\n",
    "jump_skew.append(s15_jump_skew)\n"
   ]
  },
  {
   "cell_type": "code",
   "execution_count": 622,
   "id": "519c4bc3",
   "metadata": {},
   "outputs": [],
   "source": [
    "#jumping fft minmaxdiff"
   ]
  },
  {
   "cell_type": "code",
   "execution_count": 623,
   "id": "c9b94ef5",
   "metadata": {},
   "outputs": [],
   "source": [
    "o1 = Fft_MaxMinDiff_acc_gyr_mag(s1_acc_jump_chest_filt)\n",
    "o2 = Fft_MaxMinDiff_acc_gyr_mag(s1_acc_jump_head_filt)\n",
    "o3 = Fft_MaxMinDiff_acc_gyr_mag(s1_acc_jump_forearm_filt)\n",
    "o4 = Fft_MaxMinDiff_acc_gyr_mag(s1_acc_jump_shin_filt)\n",
    "o5 = Fft_MaxMinDiff_acc_gyr_mag(s1_acc_jump_thigh_filt)\n",
    "o6 = Fft_MaxMinDiff_acc_gyr_mag(s1_acc_jump_upperarm_filt)\n",
    "o7 = Fft_MaxMinDiff_acc_gyr_mag(s1_acc_jump_waist_filt)\n",
    "s1_jump_FD = np.hstack((o1,o2,o3,o4,o5,o6,o7))"
   ]
  },
  {
   "cell_type": "code",
   "execution_count": 624,
   "id": "f5a02bf2",
   "metadata": {},
   "outputs": [],
   "source": [
    "o1 = Fft_MaxMinDiff_acc_gyr_mag(s2_acc_jump_chest_filt)\n",
    "o2 = Fft_MaxMinDiff_acc_gyr_mag(s2_acc_jump_head_filt)\n",
    "o3 = Fft_MaxMinDiff_acc_gyr_mag(s2_acc_jump_forearm_filt)\n",
    "o4 = Fft_MaxMinDiff_acc_gyr_mag(s2_acc_jump_shin_filt)\n",
    "o5 = Fft_MaxMinDiff_acc_gyr_mag(s2_acc_jump_thigh_filt)\n",
    "o6 = Fft_MaxMinDiff_acc_gyr_mag(s2_acc_jump_upperarm_filt)\n",
    "o7 = Fft_MaxMinDiff_acc_gyr_mag(s2_acc_jump_waist_filt)\n",
    "s2_jump_FD = np.hstack((o1,o2,o3,o4,o5,o6,o7))"
   ]
  },
  {
   "cell_type": "code",
   "execution_count": 625,
   "id": "967a9648",
   "metadata": {},
   "outputs": [],
   "source": [
    "o1 = Fft_MaxMinDiff_acc_gyr_mag(s3_acc_jump_chest_filt)\n",
    "o2 = Fft_MaxMinDiff_acc_gyr_mag(s3_acc_jump_head_filt)\n",
    "o3 = Fft_MaxMinDiff_acc_gyr_mag(s3_acc_jump_forearm_filt)\n",
    "o4 = Fft_MaxMinDiff_acc_gyr_mag(s3_acc_jump_shin_filt)\n",
    "o5 = Fft_MaxMinDiff_acc_gyr_mag(s3_acc_jump_thigh_filt)\n",
    "o6 = Fft_MaxMinDiff_acc_gyr_mag(s3_acc_jump_upperarm_filt)\n",
    "o7 = Fft_MaxMinDiff_acc_gyr_mag(s3_acc_jump_waist_filt)\n",
    "s3_jump_FD = np.hstack((o1,o2,o3,o4,o5,o6,o7))"
   ]
  },
  {
   "cell_type": "code",
   "execution_count": 626,
   "id": "6134f1de",
   "metadata": {},
   "outputs": [],
   "source": [
    "o1 = Fft_MaxMinDiff_acc_gyr_mag(s4_acc_jump_chest_filt)\n",
    "o2 = Fft_MaxMinDiff_acc_gyr_mag(s4_acc_jump_head_filt)\n",
    "o3 = Fft_MaxMinDiff_acc_gyr_mag(s4_acc_jump_forearm_filt)\n",
    "o4 = Fft_MaxMinDiff_acc_gyr_mag(s4_acc_jump_shin_filt)\n",
    "o5 = Fft_MaxMinDiff_acc_gyr_mag(s4_acc_jump_thigh_filt)\n",
    "o6 = Fft_MaxMinDiff_acc_gyr_mag(s4_acc_jump_upperarm_filt)\n",
    "o7 = Fft_MaxMinDiff_acc_gyr_mag(s4_acc_jump_waist_filt)\n",
    "s4_jump_FD = np.hstack((o1,o2,o3,o4,o5,o6,o7))"
   ]
  },
  {
   "cell_type": "code",
   "execution_count": 627,
   "id": "f050fd7e",
   "metadata": {},
   "outputs": [],
   "source": [
    "o1 = Fft_MaxMinDiff_acc_gyr_mag(s5_acc_jump_chest_filt)\n",
    "o2 = Fft_MaxMinDiff_acc_gyr_mag(s5_acc_jump_head_filt)\n",
    "o3 = Fft_MaxMinDiff_acc_gyr_mag(s5_acc_jump_forearm_filt)\n",
    "o4 = Fft_MaxMinDiff_acc_gyr_mag(s5_acc_jump_shin_filt)\n",
    "o5 = Fft_MaxMinDiff_acc_gyr_mag(s5_acc_jump_thigh_filt)\n",
    "o6 = Fft_MaxMinDiff_acc_gyr_mag(s5_acc_jump_upperarm_filt)\n",
    "o7 = Fft_MaxMinDiff_acc_gyr_mag(s5_acc_jump_waist_filt)\n",
    "s5_jump_FD = np.hstack((o1,o2,o3,o4,o5,o6,o7))"
   ]
  },
  {
   "cell_type": "code",
   "execution_count": 628,
   "id": "a050501b",
   "metadata": {},
   "outputs": [],
   "source": [
    "o1 = Fft_MaxMinDiff_acc_gyr_mag(s6_acc_jump_chest_filt)\n",
    "o2 = Fft_MaxMinDiff_acc_gyr_mag(s6_acc_jump_head_filt)\n",
    "o3 = Fft_MaxMinDiff_acc_gyr_mag(s6_acc_jump_forearm_filt)\n",
    "o4 = Fft_MaxMinDiff_acc_gyr_mag(s6_acc_jump_shin_filt)\n",
    "\n",
    "o6 = Fft_MaxMinDiff_acc_gyr_mag(s6_acc_jump_upperarm_filt)\n",
    "o7 = Fft_MaxMinDiff_acc_gyr_mag(s6_acc_jump_waist_filt)\n",
    "s6_jump_FD = np.hstack((o1,o2,o3,o4,o5,o6,o7))"
   ]
  },
  {
   "cell_type": "code",
   "execution_count": 629,
   "id": "97382bb0",
   "metadata": {},
   "outputs": [],
   "source": [
    "o1 = Fft_MaxMinDiff_acc_gyr_mag(s7_acc_jump_chest_filt)\n",
    "o2 = Fft_MaxMinDiff_acc_gyr_mag(s7_acc_jump_head_filt)\n",
    "o3 = Fft_MaxMinDiff_acc_gyr_mag(s7_acc_jump_forearm_filt)\n",
    "o4 = Fft_MaxMinDiff_acc_gyr_mag(s7_acc_jump_shin_filt)\n",
    "o5 = Fft_MaxMinDiff_acc_gyr_mag(s7_acc_jump_thigh_filt)\n",
    "o6 = Fft_MaxMinDiff_acc_gyr_mag(s7_acc_jump_upperarm_filt)\n",
    "o7 = Fft_MaxMinDiff_acc_gyr_mag(s7_acc_jump_waist_filt)\n",
    "s7_jump_FD = np.hstack((o1,o2,o3,o4,o5,o6,o7))"
   ]
  },
  {
   "cell_type": "code",
   "execution_count": 630,
   "id": "622cb0fd",
   "metadata": {},
   "outputs": [],
   "source": [
    "o1 = Fft_MaxMinDiff_acc_gyr_mag(s8_acc_jump_chest_filt)\n",
    "o2 = Fft_MaxMinDiff_acc_gyr_mag(s8_acc_jump_head_filt)\n",
    "o3 = Fft_MaxMinDiff_acc_gyr_mag(s8_acc_jump_forearm_filt)\n",
    "o4 = Fft_MaxMinDiff_acc_gyr_mag(s8_acc_jump_shin_filt)\n",
    "o5 = Fft_MaxMinDiff_acc_gyr_mag(s8_acc_jump_thigh_filt)\n",
    "o6 = Fft_MaxMinDiff_acc_gyr_mag(s8_acc_jump_upperarm_filt)\n",
    "o7 = Fft_MaxMinDiff_acc_gyr_mag(s8_acc_jump_waist_filt)\n",
    "s8_jump_FD = np.hstack((o1,o2,o3,o4,o5,o6,o7))"
   ]
  },
  {
   "cell_type": "code",
   "execution_count": 631,
   "id": "407b56c7",
   "metadata": {},
   "outputs": [],
   "source": [
    "o1 = Fft_MaxMinDiff_acc_gyr_mag(s9_acc_jump_chest_filt)\n",
    "o2 = Fft_MaxMinDiff_acc_gyr_mag(s9_acc_jump_head_filt)\n",
    "o3 = Fft_MaxMinDiff_acc_gyr_mag(s9_acc_jump_forearm_filt)\n",
    "o4 = Fft_MaxMinDiff_acc_gyr_mag(s9_acc_jump_shin_filt)\n",
    "o5 = Fft_MaxMinDiff_acc_gyr_mag(s9_acc_jump_thigh_filt)\n",
    "o6 = Fft_MaxMinDiff_acc_gyr_mag(s9_acc_jump_upperarm_filt)\n",
    "o7 = Fft_MaxMinDiff_acc_gyr_mag(s9_acc_jump_waist_filt)\n",
    "s9_jump_FD = np.hstack((o1,o2,o3,o4,o5,o6,o7))"
   ]
  },
  {
   "cell_type": "code",
   "execution_count": 632,
   "id": "92291282",
   "metadata": {},
   "outputs": [],
   "source": [
    "o1 = Fft_MaxMinDiff_acc_gyr_mag(s10_acc_jump_chest_filt)\n",
    "o2 = Fft_MaxMinDiff_acc_gyr_mag(s10_acc_jump_head_filt)\n",
    "o3 = Fft_MaxMinDiff_acc_gyr_mag(s10_acc_jump_forearm_filt)\n",
    "o4 = Fft_MaxMinDiff_acc_gyr_mag(s10_acc_jump_shin_filt)\n",
    "o5 = Fft_MaxMinDiff_acc_gyr_mag(s10_acc_jump_thigh_filt)\n",
    "o6 = Fft_MaxMinDiff_acc_gyr_mag(s10_acc_jump_upperarm_filt)\n",
    "o7 = Fft_MaxMinDiff_acc_gyr_mag(s10_acc_jump_waist_filt)\n",
    "s10_jump_FD = np.hstack((o1,o2,o3,o4,o5,o6,o7))"
   ]
  },
  {
   "cell_type": "code",
   "execution_count": 633,
   "id": "84afed9f",
   "metadata": {},
   "outputs": [],
   "source": [
    "o1 = Fft_MaxMinDiff_acc_gyr_mag(s11_acc_jump_chest_filt)\n",
    "o2 = Fft_MaxMinDiff_acc_gyr_mag(s11_acc_jump_head_filt)\n",
    "o3 = Fft_MaxMinDiff_acc_gyr_mag(s11_acc_jump_forearm_filt)\n",
    "o4 = Fft_MaxMinDiff_acc_gyr_mag(s11_acc_jump_shin_filt)\n",
    "o5 = Fft_MaxMinDiff_acc_gyr_mag(s11_acc_jump_thigh_filt)\n",
    "o6 = Fft_MaxMinDiff_acc_gyr_mag(s11_acc_jump_upperarm_filt)\n",
    "o7 = Fft_MaxMinDiff_acc_gyr_mag(s11_acc_jump_waist_filt)\n",
    "s11_jump_FD = np.hstack((o1,o2,o3,o4,o5,o6,o7))"
   ]
  },
  {
   "cell_type": "code",
   "execution_count": 634,
   "id": "577ad9a8",
   "metadata": {},
   "outputs": [],
   "source": [
    "o1 = Fft_MaxMinDiff_acc_gyr_mag(s12_acc_jump_chest_filt)\n",
    "o2 = Fft_MaxMinDiff_acc_gyr_mag(s12_acc_jump_head_filt)\n",
    "o3 = Fft_MaxMinDiff_acc_gyr_mag(s12_acc_jump_forearm_filt)\n",
    "o4 = Fft_MaxMinDiff_acc_gyr_mag(s12_acc_jump_shin_filt)\n",
    "o5 = Fft_MaxMinDiff_acc_gyr_mag(s12_acc_jump_thigh_filt)\n",
    "o6 = Fft_MaxMinDiff_acc_gyr_mag(s12_acc_jump_upperarm_filt)\n",
    "o7 = Fft_MaxMinDiff_acc_gyr_mag(s12_acc_jump_waist_filt)\n",
    "s12_jump_FD = np.hstack((o1,o2,o3,o4,o5,o6,o7))"
   ]
  },
  {
   "cell_type": "code",
   "execution_count": 635,
   "id": "20230d87",
   "metadata": {},
   "outputs": [],
   "source": [
    "o1 = Fft_MaxMinDiff_acc_gyr_mag(s13_acc_jump_chest_filt)\n",
    "o2 = Fft_MaxMinDiff_acc_gyr_mag(s13_acc_jump_head_filt)\n",
    "o3 = Fft_MaxMinDiff_acc_gyr_mag(s13_acc_jump_forearm_filt)\n",
    "o4 = Fft_MaxMinDiff_acc_gyr_mag(s13_acc_jump_shin_filt)\n",
    "o5 = Fft_MaxMinDiff_acc_gyr_mag(s13_acc_jump_thigh_filt)\n",
    "o6 = Fft_MaxMinDiff_acc_gyr_mag(s13_acc_jump_upperarm_filt)\n",
    "o7 = Fft_MaxMinDiff_acc_gyr_mag(s13_acc_jump_waist_filt)\n",
    "s13_jump_FD = np.hstack((o1,o2,o3,o4,o5,o6,o7))"
   ]
  },
  {
   "cell_type": "code",
   "execution_count": 636,
   "id": "35434f9a",
   "metadata": {},
   "outputs": [],
   "source": [
    "o1 = Fft_MaxMinDiff_acc_gyr_mag(s14_acc_jump_chest_filt)\n",
    "o2 = Fft_MaxMinDiff_acc_gyr_mag(s14_acc_jump_head_filt)\n",
    "o3 = Fft_MaxMinDiff_acc_gyr_mag(s14_acc_jump_forearm_filt)\n",
    "o4 = Fft_MaxMinDiff_acc_gyr_mag(s14_acc_jump_shin_filt)\n",
    "o5 = Fft_MaxMinDiff_acc_gyr_mag(s14_acc_jump_thigh_filt)\n",
    "o6 = Fft_MaxMinDiff_acc_gyr_mag(s14_acc_jump_upperarm_filt)\n",
    "o7 = Fft_MaxMinDiff_acc_gyr_mag(s14_acc_jump_waist_filt)\n",
    "s14_jump_FD = np.hstack((o1,o2,o3,o4,o5,o6,o7))"
   ]
  },
  {
   "cell_type": "code",
   "execution_count": 637,
   "id": "458cd201",
   "metadata": {},
   "outputs": [],
   "source": [
    "o1 = Fft_MaxMinDiff_acc_gyr_mag(s15_acc_jump_chest_filt)\n",
    "o2 = Fft_MaxMinDiff_acc_gyr_mag(s15_acc_jump_head_filt)\n",
    "o3 = Fft_MaxMinDiff_acc_gyr_mag(s15_acc_jump_forearm_filt)\n",
    "o4 = Fft_MaxMinDiff_acc_gyr_mag(s15_acc_jump_shin_filt)\n",
    "o5 = Fft_MaxMinDiff_acc_gyr_mag(s15_acc_jump_thigh_filt)\n",
    "o6 = Fft_MaxMinDiff_acc_gyr_mag(s15_acc_jump_upperarm_filt)\n",
    "o7 = Fft_MaxMinDiff_acc_gyr_mag(s15_acc_jump_waist_filt)\n",
    "s15_jump_FD = np.hstack((o1,o2,o3,o4,o5,o6,o7))"
   ]
  },
  {
   "cell_type": "code",
   "execution_count": 638,
   "id": "eea9e73a",
   "metadata": {},
   "outputs": [],
   "source": [
    "jump_FD = []\n",
    "jump_FD.append(s1_jump_FD)\n",
    "jump_FD.append(s2_jump_FD)\n",
    "jump_FD.append(s3_jump_FD)\n",
    "jump_FD.append(s4_jump_FD)\n",
    "jump_FD.append(s5_jump_FD)\n",
    "jump_FD.append(s6_jump_FD)\n",
    "jump_FD.append(s7_jump_FD)\n",
    "jump_FD.append(s8_jump_FD)\n",
    "jump_FD.append(s9_jump_FD)\n",
    "jump_FD.append(s10_jump_FD)\n",
    "jump_FD.append(s11_jump_FD)\n",
    "jump_FD.append(s12_jump_FD)\n",
    "jump_FD.append(s13_jump_FD)\n",
    "jump_FD.append(s14_jump_FD)\n",
    "jump_FD.append(s15_jump_FD)"
   ]
  },
  {
   "cell_type": "code",
   "execution_count": 639,
   "id": "4cf3298f",
   "metadata": {},
   "outputs": [],
   "source": [
    "#fft minmaxratio for jumping"
   ]
  },
  {
   "cell_type": "code",
   "execution_count": 640,
   "id": "f42c6649",
   "metadata": {},
   "outputs": [],
   "source": [
    "o1 = Fft_MaxMinRatio_acc_gyr_mag(s1_acc_jump_chest_filt)\n",
    "o2 = Fft_MaxMinRatio_acc_gyr_mag(s1_acc_jump_head_filt)\n",
    "o3 = Fft_MaxMinRatio_acc_gyr_mag(s1_acc_jump_forearm_filt)\n",
    "o4 = Fft_MaxMinRatio_acc_gyr_mag(s1_acc_jump_shin_filt)\n",
    "o5 = Fft_MaxMinRatio_acc_gyr_mag(s1_acc_jump_thigh_filt)\n",
    "o6 = Fft_MaxMinRatio_acc_gyr_mag(s1_acc_jump_upperarm_filt)\n",
    "o7 = Fft_MaxMinRatio_acc_gyr_mag(s1_acc_jump_waist_filt)\n",
    "s1_jump_FR = np.hstack((o1,o2,o3,o4,o5,o6,o7))"
   ]
  },
  {
   "cell_type": "code",
   "execution_count": 641,
   "id": "5b6f9bcd",
   "metadata": {},
   "outputs": [],
   "source": [
    "o1 = Fft_MaxMinRatio_acc_gyr_mag(s2_acc_jump_chest_filt)\n",
    "o2 = Fft_MaxMinRatio_acc_gyr_mag(s2_acc_jump_head_filt)\n",
    "o3 = Fft_MaxMinRatio_acc_gyr_mag(s2_acc_jump_forearm_filt)\n",
    "o4 = Fft_MaxMinRatio_acc_gyr_mag(s2_acc_jump_shin_filt)\n",
    "o5 = Fft_MaxMinRatio_acc_gyr_mag(s2_acc_jump_thigh_filt)\n",
    "o6 = Fft_MaxMinRatio_acc_gyr_mag(s2_acc_jump_upperarm_filt)\n",
    "o7 = Fft_MaxMinRatio_acc_gyr_mag(s2_acc_jump_waist_filt)\n",
    "s2_jump_FR = np.hstack((o1,o2,o3,o4,o5,o6,o7))"
   ]
  },
  {
   "cell_type": "code",
   "execution_count": 642,
   "id": "b8089533",
   "metadata": {},
   "outputs": [],
   "source": [
    "o1 = Fft_MaxMinRatio_acc_gyr_mag(s3_acc_jump_chest_filt)\n",
    "o2 = Fft_MaxMinRatio_acc_gyr_mag(s3_acc_jump_head_filt)\n",
    "o3 = Fft_MaxMinRatio_acc_gyr_mag(s3_acc_jump_forearm_filt)\n",
    "o4 = Fft_MaxMinRatio_acc_gyr_mag(s3_acc_jump_shin_filt)\n",
    "o5 = Fft_MaxMinRatio_acc_gyr_mag(s3_acc_jump_thigh_filt)\n",
    "o6 = Fft_MaxMinRatio_acc_gyr_mag(s3_acc_jump_upperarm_filt)\n",
    "o7 = Fft_MaxMinRatio_acc_gyr_mag(s3_acc_jump_waist_filt)\n",
    "s3_jump_FR = np.hstack((o1,o2,o3,o4,o5,o6,o7))"
   ]
  },
  {
   "cell_type": "code",
   "execution_count": 643,
   "id": "a7efd696",
   "metadata": {},
   "outputs": [],
   "source": [
    "o1 = Fft_MaxMinRatio_acc_gyr_mag(s4_acc_jump_chest_filt)\n",
    "o2 = Fft_MaxMinRatio_acc_gyr_mag(s4_acc_jump_head_filt)\n",
    "o3 = Fft_MaxMinRatio_acc_gyr_mag(s4_acc_jump_forearm_filt)\n",
    "o4 = Fft_MaxMinRatio_acc_gyr_mag(s4_acc_jump_shin_filt)\n",
    "o5 = Fft_MaxMinRatio_acc_gyr_mag(s4_acc_jump_thigh_filt)\n",
    "o6 = Fft_MaxMinRatio_acc_gyr_mag(s4_acc_jump_upperarm_filt)\n",
    "o7 = Fft_MaxMinRatio_acc_gyr_mag(s4_acc_jump_waist_filt)\n",
    "s4_jump_FR = np.hstack((o1,o2,o3,o4,o5,o6,o7))"
   ]
  },
  {
   "cell_type": "code",
   "execution_count": 644,
   "id": "b235d01b",
   "metadata": {},
   "outputs": [],
   "source": [
    "o1 = Fft_MaxMinRatio_acc_gyr_mag(s5_acc_jump_chest_filt)\n",
    "o2 = Fft_MaxMinRatio_acc_gyr_mag(s5_acc_jump_head_filt)\n",
    "o3 = Fft_MaxMinRatio_acc_gyr_mag(s5_acc_jump_forearm_filt)\n",
    "o4 = Fft_MaxMinRatio_acc_gyr_mag(s5_acc_jump_shin_filt)\n",
    "o5 = Fft_MaxMinRatio_acc_gyr_mag(s5_acc_jump_thigh_filt)\n",
    "o6 = Fft_MaxMinRatio_acc_gyr_mag(s5_acc_jump_upperarm_filt)\n",
    "o7 = Fft_MaxMinRatio_acc_gyr_mag(s5_acc_jump_waist_filt)\n",
    "s5_jump_FR = np.hstack((o1,o2,o3,o4,o5,o6,o7))"
   ]
  },
  {
   "cell_type": "code",
   "execution_count": 645,
   "id": "6466b12f",
   "metadata": {},
   "outputs": [],
   "source": [
    "o1 = Fft_MaxMinRatio_acc_gyr_mag(s6_acc_jump_chest_filt)\n",
    "o2 = Fft_MaxMinRatio_acc_gyr_mag(s6_acc_jump_head_filt)\n",
    "o3 = Fft_MaxMinRatio_acc_gyr_mag(s6_acc_jump_forearm_filt)\n",
    "o4 = Fft_MaxMinRatio_acc_gyr_mag(s6_acc_jump_shin_filt)\n",
    "\n",
    "o6 = Fft_MaxMinRatio_acc_gyr_mag(s6_acc_jump_upperarm_filt)\n",
    "o7 = Fft_MaxMinRatio_acc_gyr_mag(s6_acc_jump_waist_filt)\n",
    "s6_jump_FR = np.hstack((o1,o2,o3,o4,o5,o6,o7))"
   ]
  },
  {
   "cell_type": "code",
   "execution_count": 646,
   "id": "894fdc6d",
   "metadata": {},
   "outputs": [],
   "source": [
    "o1 = Fft_MaxMinRatio_acc_gyr_mag(s7_acc_jump_chest_filt)\n",
    "o2 = Fft_MaxMinRatio_acc_gyr_mag(s7_acc_jump_head_filt)\n",
    "o3 = Fft_MaxMinRatio_acc_gyr_mag(s7_acc_jump_forearm_filt)\n",
    "o4 = Fft_MaxMinRatio_acc_gyr_mag(s7_acc_jump_shin_filt)\n",
    "o5 = Fft_MaxMinRatio_acc_gyr_mag(s7_acc_jump_thigh_filt)\n",
    "o6 = Fft_MaxMinRatio_acc_gyr_mag(s7_acc_jump_upperarm_filt)\n",
    "o7 = Fft_MaxMinRatio_acc_gyr_mag(s7_acc_jump_waist_filt)\n",
    "s7_jump_FR = np.hstack((o1,o2,o3,o4,o5,o6,o7))"
   ]
  },
  {
   "cell_type": "code",
   "execution_count": 647,
   "id": "37f5bbfe",
   "metadata": {},
   "outputs": [],
   "source": [
    "o1 = Fft_MaxMinRatio_acc_gyr_mag(s8_acc_jump_chest_filt)\n",
    "o2 = Fft_MaxMinRatio_acc_gyr_mag(s8_acc_jump_head_filt)\n",
    "o3 = Fft_MaxMinRatio_acc_gyr_mag(s8_acc_jump_forearm_filt)\n",
    "o4 = Fft_MaxMinRatio_acc_gyr_mag(s8_acc_jump_shin_filt)\n",
    "o5 = Fft_MaxMinRatio_acc_gyr_mag(s8_acc_jump_thigh_filt)\n",
    "o6 = Fft_MaxMinRatio_acc_gyr_mag(s8_acc_jump_upperarm_filt)\n",
    "o7 = Fft_MaxMinRatio_acc_gyr_mag(s8_acc_jump_waist_filt)\n",
    "s8_jump_FR = np.hstack((o1,o2,o3,o4,o5,o6,o7))"
   ]
  },
  {
   "cell_type": "code",
   "execution_count": 648,
   "id": "8e73575f",
   "metadata": {},
   "outputs": [],
   "source": [
    "o1 = Fft_MaxMinRatio_acc_gyr_mag(s9_acc_jump_chest_filt)\n",
    "o2 = Fft_MaxMinRatio_acc_gyr_mag(s9_acc_jump_head_filt)\n",
    "o3 = Fft_MaxMinRatio_acc_gyr_mag(s9_acc_jump_forearm_filt)\n",
    "o4 = Fft_MaxMinRatio_acc_gyr_mag(s9_acc_jump_shin_filt)\n",
    "o5 = Fft_MaxMinRatio_acc_gyr_mag(s9_acc_jump_thigh_filt)\n",
    "o6 = Fft_MaxMinRatio_acc_gyr_mag(s9_acc_jump_upperarm_filt)\n",
    "o7 = Fft_MaxMinRatio_acc_gyr_mag(s9_acc_jump_waist_filt)\n",
    "s9_jump_FR = np.hstack((o1,o2,o3,o4,o5,o6,o7))"
   ]
  },
  {
   "cell_type": "code",
   "execution_count": 649,
   "id": "963d3ba5",
   "metadata": {},
   "outputs": [],
   "source": [
    "o1 = Fft_MaxMinRatio_acc_gyr_mag(s10_acc_jump_chest_filt)\n",
    "o2 = Fft_MaxMinRatio_acc_gyr_mag(s10_acc_jump_head_filt)\n",
    "o3 = Fft_MaxMinRatio_acc_gyr_mag(s10_acc_jump_forearm_filt)\n",
    "o4 = Fft_MaxMinRatio_acc_gyr_mag(s10_acc_jump_shin_filt)\n",
    "o5 = Fft_MaxMinRatio_acc_gyr_mag(s10_acc_jump_thigh_filt)\n",
    "o6 = Fft_MaxMinRatio_acc_gyr_mag(s10_acc_jump_upperarm_filt)\n",
    "o7 = Fft_MaxMinRatio_acc_gyr_mag(s10_acc_jump_waist_filt)\n",
    "s10_jump_FR = np.hstack((o1,o2,o3,o4,o5,o6,o7))"
   ]
  },
  {
   "cell_type": "code",
   "execution_count": 650,
   "id": "4677994a",
   "metadata": {},
   "outputs": [],
   "source": [
    "o1 = Fft_MaxMinRatio_acc_gyr_mag(s11_acc_jump_chest_filt)\n",
    "o2 = Fft_MaxMinRatio_acc_gyr_mag(s11_acc_jump_head_filt)\n",
    "o3 = Fft_MaxMinRatio_acc_gyr_mag(s11_acc_jump_forearm_filt)\n",
    "o4 = Fft_MaxMinRatio_acc_gyr_mag(s11_acc_jump_shin_filt)\n",
    "o5 = Fft_MaxMinRatio_acc_gyr_mag(s11_acc_jump_thigh_filt)\n",
    "o6 = Fft_MaxMinRatio_acc_gyr_mag(s11_acc_jump_upperarm_filt)\n",
    "o7 = Fft_MaxMinRatio_acc_gyr_mag(s11_acc_jump_waist_filt)\n",
    "s11_jump_FR = np.hstack((o1,o2,o3,o4,o5,o6,o7))"
   ]
  },
  {
   "cell_type": "code",
   "execution_count": 651,
   "id": "d52341d6",
   "metadata": {},
   "outputs": [],
   "source": [
    "o1 = Fft_MaxMinRatio_acc_gyr_mag(s12_acc_jump_chest_filt)\n",
    "o2 = Fft_MaxMinRatio_acc_gyr_mag(s12_acc_jump_head_filt)\n",
    "o3 = Fft_MaxMinRatio_acc_gyr_mag(s12_acc_jump_forearm_filt)\n",
    "o4 = Fft_MaxMinRatio_acc_gyr_mag(s12_acc_jump_shin_filt)\n",
    "o5 = Fft_MaxMinRatio_acc_gyr_mag(s12_acc_jump_thigh_filt)\n",
    "o6 = Fft_MaxMinRatio_acc_gyr_mag(s12_acc_jump_upperarm_filt)\n",
    "o7 = Fft_MaxMinRatio_acc_gyr_mag(s12_acc_jump_waist_filt)\n",
    "s12_jump_FR = np.hstack((o1,o2,o3,o4,o5,o6,o7))"
   ]
  },
  {
   "cell_type": "code",
   "execution_count": 652,
   "id": "9a6058df",
   "metadata": {},
   "outputs": [],
   "source": [
    "o1 = Fft_MaxMinRatio_acc_gyr_mag(s13_acc_jump_chest_filt)\n",
    "o2 = Fft_MaxMinRatio_acc_gyr_mag(s13_acc_jump_head_filt)\n",
    "o3 = Fft_MaxMinRatio_acc_gyr_mag(s13_acc_jump_forearm_filt)\n",
    "o4 = Fft_MaxMinRatio_acc_gyr_mag(s13_acc_jump_shin_filt)\n",
    "o5 = Fft_MaxMinRatio_acc_gyr_mag(s13_acc_jump_thigh_filt)\n",
    "o6 = Fft_MaxMinRatio_acc_gyr_mag(s13_acc_jump_upperarm_filt)\n",
    "o7 = Fft_MaxMinRatio_acc_gyr_mag(s13_acc_jump_waist_filt)\n",
    "s13_jump_FR = np.hstack((o1,o2,o3,o4,o5,o6,o7))"
   ]
  },
  {
   "cell_type": "code",
   "execution_count": 653,
   "id": "77085965",
   "metadata": {},
   "outputs": [],
   "source": [
    "o1 = Fft_MaxMinRatio_acc_gyr_mag(s14_acc_jump_chest_filt)\n",
    "o2 = Fft_MaxMinRatio_acc_gyr_mag(s14_acc_jump_head_filt)\n",
    "o3 = Fft_MaxMinRatio_acc_gyr_mag(s14_acc_jump_forearm_filt)\n",
    "o4 = Fft_MaxMinRatio_acc_gyr_mag(s14_acc_jump_shin_filt)\n",
    "o5 = Fft_MaxMinRatio_acc_gyr_mag(s14_acc_jump_thigh_filt)\n",
    "o6 = Fft_MaxMinRatio_acc_gyr_mag(s14_acc_jump_upperarm_filt)\n",
    "o7 = Fft_MaxMinRatio_acc_gyr_mag(s14_acc_jump_waist_filt)\n",
    "s14_jump_FR = np.hstack((o1,o2,o3,o4,o5,o6,o7))"
   ]
  },
  {
   "cell_type": "code",
   "execution_count": 654,
   "id": "133d7af9",
   "metadata": {},
   "outputs": [],
   "source": [
    "o1 = Fft_MaxMinRatio_acc_gyr_mag(s15_acc_jump_chest_filt)\n",
    "o2 = Fft_MaxMinRatio_acc_gyr_mag(s15_acc_jump_head_filt)\n",
    "o3 = Fft_MaxMinRatio_acc_gyr_mag(s15_acc_jump_forearm_filt)\n",
    "o4 = Fft_MaxMinRatio_acc_gyr_mag(s15_acc_jump_shin_filt)\n",
    "o5 = Fft_MaxMinRatio_acc_gyr_mag(s15_acc_jump_thigh_filt)\n",
    "o6 = Fft_MaxMinRatio_acc_gyr_mag(s15_acc_jump_upperarm_filt)\n",
    "o7 = Fft_MaxMinRatio_acc_gyr_mag(s15_acc_jump_waist_filt)\n",
    "s15_jump_FR = np.hstack((o1,o2,o3,o4,o5,o6,o7))"
   ]
  },
  {
   "cell_type": "code",
   "execution_count": 655,
   "id": "10d08462",
   "metadata": {},
   "outputs": [],
   "source": [
    "jump_FR = []\n",
    "jump_FR.append(s1_jump_FR)\n",
    "jump_FR.append(s2_jump_FR)\n",
    "jump_FR.append(s3_jump_FR)\n",
    "jump_FR.append(s4_jump_FR)\n",
    "jump_FR.append(s5_jump_FR)\n",
    "jump_FR.append(s6_jump_FR)\n",
    "jump_FR.append(s7_jump_FR)\n",
    "jump_FR.append(s8_jump_FR)\n",
    "jump_FR.append(s9_jump_FR)\n",
    "jump_FR.append(s10_jump_FR)\n",
    "jump_FR.append(s11_jump_FR)\n",
    "jump_FR.append(s12_jump_FR)\n",
    "jump_FR.append(s13_jump_FR)\n",
    "jump_FR.append(s14_jump_FR)\n",
    "jump_FR.append(s15_jump_FR)\n"
   ]
  },
  {
   "cell_type": "code",
   "execution_count": 656,
   "id": "2b514eff",
   "metadata": {},
   "outputs": [],
   "source": [
    "jump_features = [1]*15\n"
   ]
  },
  {
   "cell_type": "code",
   "execution_count": 657,
   "id": "dab888eb",
   "metadata": {},
   "outputs": [],
   "source": [
    "for i in range(15):\n",
    "    jump_features[i] = np.concatenate((jump_parseval[i],jump_skew[i],jump_FD[i],jump_FR[i]))"
   ]
  },
  {
   "cell_type": "code",
   "execution_count": 658,
   "id": "efa452e6",
   "metadata": {},
   "outputs": [],
   "source": [
    "#lying parseval "
   ]
  },
  {
   "cell_type": "code",
   "execution_count": 659,
   "id": "29ec106f",
   "metadata": {},
   "outputs": [],
   "source": [
    "o1 = Parseval_acc_gyr_mag(s1_acc_ly_chest_filt)\n",
    "o2 = Parseval_acc_gyr_mag(s1_acc_ly_head_filt)\n",
    "o3 = Parseval_acc_gyr_mag(s1_acc_ly_forearm_filt)\n",
    "o4 = Parseval_acc_gyr_mag(s1_acc_ly_shin_filt)\n",
    "o5 = Parseval_acc_gyr_mag(s1_acc_ly_thigh_filt)\n",
    "o6 = Parseval_acc_gyr_mag(s1_acc_ly_upperarm_filt)\n",
    "o7 = Parseval_acc_gyr_mag(s1_acc_ly_waist_filt)\n",
    "s1_ly_parseval = np.hstack((o1,o2,o3,o4,o5,o6,o7))"
   ]
  },
  {
   "cell_type": "code",
   "execution_count": 660,
   "id": "38660706",
   "metadata": {},
   "outputs": [],
   "source": [
    "o1 = Parseval_acc_gyr_mag(s2_acc_ly_chest_filt)\n",
    "o2 = Parseval_acc_gyr_mag(s2_acc_ly_head_filt)\n",
    "o3 = Parseval_acc_gyr_mag(s2_acc_ly_forearm_filt)\n",
    "o4 = Parseval_acc_gyr_mag(s2_acc_ly_shin_filt)\n",
    "o5 = Parseval_acc_gyr_mag(s2_acc_ly_thigh_filt)\n",
    "o6 = Parseval_acc_gyr_mag(s2_acc_ly_upperarm_filt)\n",
    "o7 = Parseval_acc_gyr_mag(s2_acc_ly_waist_filt)\n",
    "s2_ly_parseval = np.hstack((o1,o2,o3,o4,o5,o6,o7))"
   ]
  },
  {
   "cell_type": "code",
   "execution_count": 661,
   "id": "ccf80543",
   "metadata": {},
   "outputs": [],
   "source": [
    "o1 = Parseval_acc_gyr_mag(s3_acc_ly_chest_filt)\n",
    "o2 = Parseval_acc_gyr_mag(s3_acc_ly_head_filt)\n",
    "o3 = Parseval_acc_gyr_mag(s3_acc_ly_forearm_filt)\n",
    "o4 = Parseval_acc_gyr_mag(s3_acc_ly_shin_filt)\n",
    "o5 = Parseval_acc_gyr_mag(s3_acc_ly_thigh_filt)\n",
    "o6 = Parseval_acc_gyr_mag(s3_acc_ly_upperarm_filt)\n",
    "o7 = Parseval_acc_gyr_mag(s3_acc_ly_waist_filt)\n",
    "s3_ly_parseval = np.hstack((o1,o2,o3,o4,o5,o6,o7))"
   ]
  },
  {
   "cell_type": "code",
   "execution_count": 662,
   "id": "9a8d95d9",
   "metadata": {},
   "outputs": [],
   "source": [
    "o1 = Parseval_acc_gyr_mag(s4_acc_ly_chest_filt)\n",
    "o2 = Parseval_acc_gyr_mag(s4_acc_ly_head_filt)\n",
    "o3 = Parseval_acc_gyr_mag(s4_acc_ly_forearm_filt)\n",
    "o4 = Parseval_acc_gyr_mag(s4_acc_ly_shin_filt)\n",
    "o5 = Parseval_acc_gyr_mag(s4_acc_ly_thigh_filt)\n",
    "o6 = Parseval_acc_gyr_mag(s4_acc_ly_upperarm_filt)\n",
    "o7 = Parseval_acc_gyr_mag(s4_acc_ly_waist_filt)\n",
    "s4_ly_parseval = np.hstack((o1,o2,o3,o4,o5,o6,o7))\n"
   ]
  },
  {
   "cell_type": "code",
   "execution_count": 663,
   "id": "57457de4",
   "metadata": {},
   "outputs": [],
   "source": [
    "o1 = Parseval_acc_gyr_mag(s5_acc_ly_chest_filt)\n",
    "o2 = Parseval_acc_gyr_mag(s5_acc_ly_head_filt)\n",
    "o3 = Parseval_acc_gyr_mag(s5_acc_ly_forearm_filt)\n",
    "o4 = Parseval_acc_gyr_mag(s5_acc_ly_shin_filt)\n",
    "o5 = Parseval_acc_gyr_mag(s5_acc_ly_thigh_filt)\n",
    "o6 = Parseval_acc_gyr_mag(s5_acc_ly_upperarm_filt)\n",
    "o7 = Parseval_acc_gyr_mag(s5_acc_ly_waist_filt)\n",
    "s5_ly_parseval = np.hstack((o1,o2,o3,o4,o5,o6,o7))"
   ]
  },
  {
   "cell_type": "code",
   "execution_count": 664,
   "id": "7d5638be",
   "metadata": {},
   "outputs": [],
   "source": [
    "o1 = Parseval_acc_gyr_mag(s6_acc_ly_chest_filt)\n",
    "o2 = Parseval_acc_gyr_mag(s6_acc_ly_head_filt)\n",
    "o3 = Parseval_acc_gyr_mag(s6_acc_ly_forearm_filt)\n",
    "o4 = Parseval_acc_gyr_mag(s6_acc_ly_shin_filt)\n",
    "o5 = Parseval_acc_gyr_mag(s6_acc_ly_thigh_filt)\n",
    "o6 = Parseval_acc_gyr_mag(s6_acc_ly_upperarm_filt)\n",
    "o7 = Parseval_acc_gyr_mag(s6_acc_ly_waist_filt)\n",
    "s6_ly_parseval = np.hstack((o1,o2,o3,o4,o5,o6,o7))"
   ]
  },
  {
   "cell_type": "code",
   "execution_count": 665,
   "id": "8711625b",
   "metadata": {},
   "outputs": [],
   "source": [
    "o1 = Parseval_acc_gyr_mag(s7_acc_ly_chest_filt)\n",
    "o2 = Parseval_acc_gyr_mag(s7_acc_ly_head_filt)\n",
    "o3 = Parseval_acc_gyr_mag(s7_acc_ly_forearm_filt)\n",
    "o4 = Parseval_acc_gyr_mag(s7_acc_ly_shin_filt)\n",
    "o5 = Parseval_acc_gyr_mag(s7_acc_ly_thigh_filt)\n",
    "o6 = Parseval_acc_gyr_mag(s7_acc_ly_upperarm_filt)\n",
    "o7 = Parseval_acc_gyr_mag(s7_acc_ly_waist_filt)\n",
    "s7_ly_parseval = np.hstack((o1,o2,o3,o4,o5,o6,o7))"
   ]
  },
  {
   "cell_type": "code",
   "execution_count": 666,
   "id": "a73266e4",
   "metadata": {},
   "outputs": [],
   "source": [
    "o1 = Parseval_acc_gyr_mag(s8_acc_ly_chest_filt)\n",
    "o2 = Parseval_acc_gyr_mag(s8_acc_ly_head_filt)\n",
    "o3 = Parseval_acc_gyr_mag(s8_acc_ly_forearm_filt)\n",
    "o4 = Parseval_acc_gyr_mag(s8_acc_ly_shin_filt)\n",
    "o5 = Parseval_acc_gyr_mag(s8_acc_ly_thigh_filt)\n",
    "o6 = Parseval_acc_gyr_mag(s8_acc_ly_upperarm_filt)\n",
    "o7 = Parseval_acc_gyr_mag(s8_acc_ly_waist_filt)\n",
    "s8_ly_parseval = np.hstack((o1,o2,o3,o4,o5,o6,o7))"
   ]
  },
  {
   "cell_type": "code",
   "execution_count": 667,
   "id": "476572e4",
   "metadata": {},
   "outputs": [],
   "source": [
    "o1 = Parseval_acc_gyr_mag(s9_acc_ly_chest_filt)\n",
    "o2 = Parseval_acc_gyr_mag(s9_acc_ly_head_filt)\n",
    "o3 = Parseval_acc_gyr_mag(s9_acc_ly_forearm_filt)\n",
    "o4 = Parseval_acc_gyr_mag(s9_acc_ly_shin_filt)\n",
    "o5 = Parseval_acc_gyr_mag(s9_acc_ly_thigh_filt)\n",
    "o6 = Parseval_acc_gyr_mag(s9_acc_ly_upperarm_filt)\n",
    "o7 = Parseval_acc_gyr_mag(s9_acc_ly_waist_filt)\n",
    "s9_ly_parseval = np.hstack((o1,o2,o3,o4,o5,o6,o7))"
   ]
  },
  {
   "cell_type": "code",
   "execution_count": 668,
   "id": "92377295",
   "metadata": {},
   "outputs": [],
   "source": [
    "o1 = Parseval_acc_gyr_mag(s10_acc_ly_chest_filt)\n",
    "o2 = Parseval_acc_gyr_mag(s10_acc_ly_head_filt)\n",
    "o3 = Parseval_acc_gyr_mag(s10_acc_ly_forearm_filt)\n",
    "o4 = Parseval_acc_gyr_mag(s10_acc_ly_shin_filt)\n",
    "o5 = Parseval_acc_gyr_mag(s10_acc_ly_thigh_filt)\n",
    "o6 = Parseval_acc_gyr_mag(s10_acc_ly_upperarm_filt)\n",
    "o7 = Parseval_acc_gyr_mag(s10_acc_ly_waist_filt)\n",
    "s10_ly_parseval = np.hstack((o1,o2,o3,o4,o5,o6,o7))"
   ]
  },
  {
   "cell_type": "code",
   "execution_count": 669,
   "id": "5851a627",
   "metadata": {},
   "outputs": [],
   "source": [
    "o1 = Parseval_acc_gyr_mag(s11_acc_ly_chest_filt)\n",
    "o2 = Parseval_acc_gyr_mag(s11_acc_ly_head_filt)\n",
    "o3 = Parseval_acc_gyr_mag(s11_acc_ly_forearm_filt)\n",
    "o4 = Parseval_acc_gyr_mag(s11_acc_ly_shin_filt)\n",
    "o5 = Parseval_acc_gyr_mag(s11_acc_ly_thigh_filt)\n",
    "o6 = Parseval_acc_gyr_mag(s11_acc_ly_upperarm_filt)\n",
    "o7 = Parseval_acc_gyr_mag(s11_acc_ly_waist_filt)\n",
    "s11_ly_parseval = np.hstack((o1,o2,o3,o4,o5,o6,o7))"
   ]
  },
  {
   "cell_type": "code",
   "execution_count": 670,
   "id": "d4e6ceb9",
   "metadata": {},
   "outputs": [],
   "source": [
    "o1 = Parseval_acc_gyr_mag(s12_acc_ly_chest_filt)\n",
    "o2 = Parseval_acc_gyr_mag(s12_acc_ly_head_filt)\n",
    "o3 = Parseval_acc_gyr_mag(s12_acc_ly_forearm_filt)\n",
    "o4 = Parseval_acc_gyr_mag(s12_acc_ly_shin_filt)\n",
    "o5 = Parseval_acc_gyr_mag(s12_acc_ly_thigh_filt)\n",
    "o6 = Parseval_acc_gyr_mag(s12_acc_ly_upperarm_filt)\n",
    "o7 = Parseval_acc_gyr_mag(s12_acc_ly_waist_filt)\n",
    "s12_ly_parseval = np.hstack((o1,o2,o3,o4,o5,o6,o7))"
   ]
  },
  {
   "cell_type": "code",
   "execution_count": 671,
   "id": "8e7fc059",
   "metadata": {},
   "outputs": [],
   "source": [
    "o1 = Parseval_acc_gyr_mag(s13_acc_ly_chest_filt)\n",
    "o2 = Parseval_acc_gyr_mag(s13_acc_ly_head_filt)\n",
    "o3 = Parseval_acc_gyr_mag(s13_acc_ly_forearm_filt)\n",
    "o4 = Parseval_acc_gyr_mag(s13_acc_ly_shin_filt)\n",
    "o5 = Parseval_acc_gyr_mag(s13_acc_ly_thigh_filt)\n",
    "o6 = Parseval_acc_gyr_mag(s13_acc_ly_upperarm_filt)\n",
    "o7 = Parseval_acc_gyr_mag(s13_acc_ly_waist_filt)\n",
    "s13_ly_parseval = np.hstack((o1,o2,o3,o4,o5,o6,o7))\n"
   ]
  },
  {
   "cell_type": "code",
   "execution_count": 672,
   "id": "4bf16021",
   "metadata": {},
   "outputs": [],
   "source": [
    "o1 = Parseval_acc_gyr_mag(s14_acc_ly_chest_filt)\n",
    "o2 = Parseval_acc_gyr_mag(s14_acc_ly_head_filt)\n",
    "o3 = Parseval_acc_gyr_mag(s14_acc_ly_forearm_filt)\n",
    "o4 = Parseval_acc_gyr_mag(s14_acc_ly_shin_filt)\n",
    "o5 = Parseval_acc_gyr_mag(s14_acc_ly_thigh_filt)\n",
    "o6 = Parseval_acc_gyr_mag(s14_acc_ly_upperarm_filt)\n",
    "o7 = Parseval_acc_gyr_mag(s14_acc_ly_waist_filt)\n",
    "s14_ly_parseval = np.hstack((o1,o2,o3,o4,o5,o6,o7))\n"
   ]
  },
  {
   "cell_type": "code",
   "execution_count": 673,
   "id": "46e8cf96",
   "metadata": {},
   "outputs": [],
   "source": [
    "o1 = Parseval_acc_gyr_mag(s15_acc_ly_chest_filt)\n",
    "o2 = Parseval_acc_gyr_mag(s15_acc_ly_head_filt)\n",
    "o3 = Parseval_acc_gyr_mag(s15_acc_ly_forearm_filt)\n",
    "o4 = Parseval_acc_gyr_mag(s15_acc_ly_shin_filt)\n",
    "o5 = Parseval_acc_gyr_mag(s15_acc_ly_thigh_filt)\n",
    "o6 = Parseval_acc_gyr_mag(s15_acc_ly_upperarm_filt)\n",
    "o7 = Parseval_acc_gyr_mag(s15_acc_ly_waist_filt)\n",
    "s15_ly_parseval = np.hstack((o1,o2,o3,o4,o5,o6,o7))"
   ]
  },
  {
   "cell_type": "code",
   "execution_count": 674,
   "id": "5def191a",
   "metadata": {},
   "outputs": [],
   "source": [
    "ly_parseval = []\n",
    "ly_parseval.append(s1_ly_parseval)\n",
    "ly_parseval.append(s2_ly_parseval)\n",
    "ly_parseval.append(s3_ly_parseval)\n",
    "ly_parseval.append(s4_ly_parseval)\n",
    "ly_parseval.append(s5_ly_parseval)\n",
    "ly_parseval.append(s6_ly_parseval)\n",
    "ly_parseval.append(s7_ly_parseval)\n",
    "ly_parseval.append(s8_ly_parseval)\n",
    "ly_parseval.append(s9_ly_parseval)\n",
    "ly_parseval.append(s10_ly_parseval)\n",
    "ly_parseval.append(s11_ly_parseval)\n",
    "ly_parseval.append(s12_ly_parseval)\n",
    "ly_parseval.append(s13_ly_parseval)\n",
    "ly_parseval.append(s14_ly_parseval)\n",
    "ly_parseval.append(s15_ly_parseval)"
   ]
  },
  {
   "cell_type": "code",
   "execution_count": 675,
   "id": "f5b5d022",
   "metadata": {},
   "outputs": [],
   "source": [
    "#lying skewness"
   ]
  },
  {
   "cell_type": "code",
   "execution_count": 676,
   "id": "6faeb2a6",
   "metadata": {},
   "outputs": [],
   "source": [
    "o1 = Skewness_acc_gyr_mag(s1_acc_ly_chest_filt)\n",
    "o2 = Skewness_acc_gyr_mag(s1_acc_ly_head_filt)\n",
    "o3 = Skewness_acc_gyr_mag(s1_acc_ly_forearm_filt)\n",
    "o4 = Skewness_acc_gyr_mag(s1_acc_ly_shin_filt)\n",
    "o5 = Skewness_acc_gyr_mag(s1_acc_ly_thigh_filt)\n",
    "o6 = Skewness_acc_gyr_mag(s1_acc_ly_upperarm_filt)\n",
    "o7 = Skewness_acc_gyr_mag(s1_acc_ly_waist_filt)\n",
    "s1_ly_skew = np.hstack((o1,o2,o3,o4,o5,o6,o7))"
   ]
  },
  {
   "cell_type": "code",
   "execution_count": 677,
   "id": "4775140b",
   "metadata": {},
   "outputs": [],
   "source": [
    "o1 = Skewness_acc_gyr_mag(s2_acc_ly_chest_filt)\n",
    "o2 = Skewness_acc_gyr_mag(s2_acc_ly_head_filt)\n",
    "o3 = Skewness_acc_gyr_mag(s2_acc_ly_forearm_filt)\n",
    "o4 = Skewness_acc_gyr_mag(s2_acc_ly_shin_filt)\n",
    "o5 = Skewness_acc_gyr_mag(s2_acc_ly_thigh_filt)\n",
    "o6 = Skewness_acc_gyr_mag(s2_acc_ly_upperarm_filt)\n",
    "o7 = Skewness_acc_gyr_mag(s2_acc_ly_waist_filt)\n",
    "s2_ly_skew = np.hstack((o1,o2,o3,o4,o5,o6,o7))"
   ]
  },
  {
   "cell_type": "code",
   "execution_count": 678,
   "id": "a566471d",
   "metadata": {},
   "outputs": [],
   "source": [
    "o1 = Skewness_acc_gyr_mag(s3_acc_ly_chest_filt)\n",
    "o2 = Skewness_acc_gyr_mag(s3_acc_ly_head_filt)\n",
    "o3 = Skewness_acc_gyr_mag(s3_acc_ly_forearm_filt)\n",
    "o4 = Skewness_acc_gyr_mag(s3_acc_ly_shin_filt)\n",
    "o5 = Skewness_acc_gyr_mag(s3_acc_ly_thigh_filt)\n",
    "o6 = Skewness_acc_gyr_mag(s3_acc_ly_upperarm_filt)\n",
    "\n",
    "o7 = Skewness_acc_gyr_mag(s3_acc_ly_waist_filt)\n",
    "s3_ly_skew = np.hstack((o1,o2,o3,o4,o5,o6,o7))"
   ]
  },
  {
   "cell_type": "code",
   "execution_count": 679,
   "id": "e6447775",
   "metadata": {},
   "outputs": [],
   "source": [
    "o1 = Skewness_acc_gyr_mag(s4_acc_ly_chest_filt)\n",
    "o2 = Skewness_acc_gyr_mag(s4_acc_ly_head_filt)\n",
    "o3 = Skewness_acc_gyr_mag(s4_acc_ly_forearm_filt)\n",
    "o4 = Skewness_acc_gyr_mag(s4_acc_ly_shin_filt)\n",
    "o5 = Skewness_acc_gyr_mag(s4_acc_ly_thigh_filt)\n",
    "o6 = Skewness_acc_gyr_mag(s4_acc_ly_upperarm_filt)\n",
    "o7 = Skewness_acc_gyr_mag(s4_acc_ly_waist_filt)\n",
    "s4_ly_skew = np.hstack((o1,o2,o3,o4,o5,o6,o7))"
   ]
  },
  {
   "cell_type": "code",
   "execution_count": 680,
   "id": "0b3241ce",
   "metadata": {},
   "outputs": [],
   "source": [
    "o1 = Skewness_acc_gyr_mag(s5_acc_ly_chest_filt)\n",
    "o2 = Skewness_acc_gyr_mag(s5_acc_ly_head_filt)\n",
    "o3 = Skewness_acc_gyr_mag(s5_acc_ly_forearm_filt)\n",
    "o4 = Skewness_acc_gyr_mag(s5_acc_ly_shin_filt)\n",
    "o5 = Skewness_acc_gyr_mag(s5_acc_ly_thigh_filt)\n",
    "o6 = Skewness_acc_gyr_mag(s5_acc_ly_upperarm_filt)\n",
    "o7 = Skewness_acc_gyr_mag(s5_acc_ly_waist_filt)\n",
    "s5_ly_skew = np.hstack((o1,o2,o3,o4,o5,o6,o7))"
   ]
  },
  {
   "cell_type": "code",
   "execution_count": 681,
   "id": "d296c12c",
   "metadata": {},
   "outputs": [],
   "source": [
    "o1 = Skewness_acc_gyr_mag(s6_acc_ly_chest_filt)\n",
    "o2 = Skewness_acc_gyr_mag(s6_acc_ly_head_filt)\n",
    "o3 = Skewness_acc_gyr_mag(s6_acc_ly_forearm_filt)\n",
    "o4 = Skewness_acc_gyr_mag(s6_acc_ly_shin_filt)\n",
    "o5 = Skewness_acc_gyr_mag(s6_acc_ly_thigh_filt)\n",
    "o6 = Skewness_acc_gyr_mag(s6_acc_ly_upperarm_filt)\n",
    "o7 = Skewness_acc_gyr_mag(s6_acc_ly_waist_filt)\n",
    "s6_ly_skew = np.hstack((o1,o2,o3,o4,o5,o6,o7))\n"
   ]
  },
  {
   "cell_type": "code",
   "execution_count": 682,
   "id": "941c7694",
   "metadata": {},
   "outputs": [],
   "source": [
    "o1 = Skewness_acc_gyr_mag(s7_acc_ly_chest_filt)\n",
    "o2 = Skewness_acc_gyr_mag(s7_acc_ly_head_filt)\n",
    "o3 = Skewness_acc_gyr_mag(s7_acc_ly_forearm_filt)\n",
    "o4 = Skewness_acc_gyr_mag(s7_acc_ly_shin_filt)\n",
    "o5 = Skewness_acc_gyr_mag(s7_acc_ly_thigh_filt)\n",
    "o6 = Skewness_acc_gyr_mag(s7_acc_ly_upperarm_filt)\n",
    "o7 = Skewness_acc_gyr_mag(s7_acc_ly_waist_filt)\n",
    "s7_ly_skew = np.hstack((o1,o2,o3,o4,o5,o6,o7))"
   ]
  },
  {
   "cell_type": "code",
   "execution_count": 683,
   "id": "fbd702ae",
   "metadata": {},
   "outputs": [],
   "source": [
    "o1 = Skewness_acc_gyr_mag(s8_acc_ly_chest_filt)\n",
    "o2 = Skewness_acc_gyr_mag(s8_acc_ly_head_filt)\n",
    "o3 = Skewness_acc_gyr_mag(s8_acc_ly_forearm_filt)\n",
    "o4 = Skewness_acc_gyr_mag(s8_acc_ly_shin_filt)\n",
    "o5 = Skewness_acc_gyr_mag(s8_acc_ly_thigh_filt)\n",
    "o6 = Skewness_acc_gyr_mag(s8_acc_ly_upperarm_filt)\n",
    "o7 = Skewness_acc_gyr_mag(s8_acc_ly_waist_filt)\n",
    "s8_ly_skew = np.hstack((o1,o2,o3,o4,o5,o6,o7))\n"
   ]
  },
  {
   "cell_type": "code",
   "execution_count": 684,
   "id": "3cb4d953",
   "metadata": {},
   "outputs": [],
   "source": [
    "o1 = Skewness_acc_gyr_mag(s9_acc_ly_chest_filt)\n",
    "o2 = Skewness_acc_gyr_mag(s9_acc_ly_head_filt)\n",
    "o3 = Skewness_acc_gyr_mag(s9_acc_ly_forearm_filt)\n",
    "o4 = Skewness_acc_gyr_mag(s9_acc_ly_shin_filt)\n",
    "o5 = Skewness_acc_gyr_mag(s9_acc_ly_thigh_filt)\n",
    "o6 = Skewness_acc_gyr_mag(s9_acc_ly_upperarm_filt)\n",
    "o7 = Skewness_acc_gyr_mag(s9_acc_ly_waist_filt)\n",
    "s9_ly_skew = np.hstack((o1,o2,o3,o4,o5,o6,o7))\n"
   ]
  },
  {
   "cell_type": "code",
   "execution_count": 685,
   "id": "bb6a5019",
   "metadata": {},
   "outputs": [],
   "source": [
    "o1 = Skewness_acc_gyr_mag(s10_acc_ly_chest_filt)\n",
    "o2 = Skewness_acc_gyr_mag(s10_acc_ly_head_filt)\n",
    "o3 = Skewness_acc_gyr_mag(s10_acc_ly_forearm_filt)\n",
    "o4 = Skewness_acc_gyr_mag(s10_acc_ly_shin_filt)\n",
    "o5 = Skewness_acc_gyr_mag(s10_acc_ly_thigh_filt)\n",
    "o6 = Skewness_acc_gyr_mag(s10_acc_ly_upperarm_filt)\n",
    "o7 = Skewness_acc_gyr_mag(s10_acc_ly_waist_filt)\n",
    "s10_ly_skew = np.hstack((o1,o2,o3,o4,o5,o6,o7))"
   ]
  },
  {
   "cell_type": "code",
   "execution_count": 686,
   "id": "e2028b2b",
   "metadata": {},
   "outputs": [],
   "source": [
    "o1 = Skewness_acc_gyr_mag(s11_acc_ly_chest_filt)\n",
    "o2 = Skewness_acc_gyr_mag(s11_acc_ly_head_filt)\n",
    "o3 = Skewness_acc_gyr_mag(s11_acc_ly_forearm_filt)\n",
    "o4 = Skewness_acc_gyr_mag(s11_acc_ly_shin_filt)\n",
    "o5 = Skewness_acc_gyr_mag(s11_acc_ly_thigh_filt)\n",
    "o6 = Skewness_acc_gyr_mag(s11_acc_ly_upperarm_filt)\n",
    "o7 = Skewness_acc_gyr_mag(s11_acc_ly_waist_filt)\n",
    "s11_ly_skew = np.hstack((o1,o2,o3,o4,o5,o6,o7))"
   ]
  },
  {
   "cell_type": "code",
   "execution_count": 687,
   "id": "9fc31777",
   "metadata": {},
   "outputs": [],
   "source": [
    "o1 = Skewness_acc_gyr_mag(s12_acc_ly_chest_filt)\n",
    "o2 = Skewness_acc_gyr_mag(s12_acc_ly_head_filt)\n",
    "o3 = Skewness_acc_gyr_mag(s12_acc_ly_forearm_filt)\n",
    "o4 = Skewness_acc_gyr_mag(s12_acc_ly_shin_filt)\n",
    "o5 = Skewness_acc_gyr_mag(s12_acc_ly_thigh_filt)\n",
    "o6 = Skewness_acc_gyr_mag(s12_acc_ly_upperarm_filt)\n",
    "o7 = Skewness_acc_gyr_mag(s12_acc_ly_waist_filt)\n",
    "s12_ly_skew = np.hstack((o1,o2,o3,o4,o5,o6,o7\n",
    "                        ))"
   ]
  },
  {
   "cell_type": "code",
   "execution_count": 688,
   "id": "1a92c861",
   "metadata": {},
   "outputs": [],
   "source": [
    "o1 = Skewness_acc_gyr_mag(s13_acc_ly_chest_filt)\n",
    "o2 = Skewness_acc_gyr_mag(s13_acc_ly_head_filt)\n",
    "o3 = Skewness_acc_gyr_mag(s13_acc_ly_forearm_filt)\n",
    "o4 = Skewness_acc_gyr_mag(s13_acc_ly_shin_filt)\n",
    "o5 = Skewness_acc_gyr_mag(s13_acc_ly_thigh_filt)\n",
    "o6 = Skewness_acc_gyr_mag(s13_acc_ly_upperarm_filt)\n",
    "o7 = Skewness_acc_gyr_mag(s13_acc_ly_waist_filt)\n",
    "s13_ly_skew = np.hstack((o1,o2,o3,o4,o5,o6,o7))"
   ]
  },
  {
   "cell_type": "code",
   "execution_count": 689,
   "id": "d949a4b6",
   "metadata": {},
   "outputs": [],
   "source": [
    "o1 = Skewness_acc_gyr_mag(s14_acc_ly_chest_filt)\n",
    "o2 = Skewness_acc_gyr_mag(s14_acc_ly_head_filt)\n",
    "o3 = Skewness_acc_gyr_mag(s14_acc_ly_forearm_filt)\n",
    "o4 = Skewness_acc_gyr_mag(s14_acc_ly_shin_filt)\n",
    "o5 = Skewness_acc_gyr_mag(s14_acc_ly_thigh_filt)\n",
    "o6 = Skewness_acc_gyr_mag(s14_acc_ly_upperarm_filt)\n",
    "o7 = Skewness_acc_gyr_mag(s14_acc_ly_waist_filt)\n",
    "s14_ly_skew = np.hstack((o1,o2,o3,o4,o5,o6,o7))"
   ]
  },
  {
   "cell_type": "code",
   "execution_count": 690,
   "id": "4e448ed5",
   "metadata": {},
   "outputs": [],
   "source": [
    "o1 = Skewness_acc_gyr_mag(s15_acc_ly_chest_filt)\n",
    "o2 = Skewness_acc_gyr_mag(s15_acc_ly_head_filt)\n",
    "o3 = Skewness_acc_gyr_mag(s15_acc_ly_forearm_filt)\n",
    "o4 = Skewness_acc_gyr_mag(s15_acc_ly_shin_filt)\n",
    "o5 = Skewness_acc_gyr_mag(s15_acc_ly_thigh_filt)\n",
    "o6 = Skewness_acc_gyr_mag(s15_acc_ly_upperarm_filt)\n",
    "o7 = Skewness_acc_gyr_mag(s15_acc_ly_waist_filt)\n",
    "s15_ly_skew = np.hstack((o1,o2,o3,o4,o5,o6,o7))"
   ]
  },
  {
   "cell_type": "code",
   "execution_count": 691,
   "id": "7f79c333",
   "metadata": {},
   "outputs": [],
   "source": [
    "ly_skew = []\n",
    "ly_skew.append(s1_ly_skew)\n",
    "ly_skew.append(s2_ly_skew)\n",
    "ly_skew.append(s3_ly_skew)\n",
    "ly_skew.append(s4_ly_skew)\n",
    "ly_skew.append(s5_ly_skew)\n",
    "ly_skew.append(s6_ly_skew)\n",
    "ly_skew.append(s7_ly_skew)\n",
    "ly_skew.append(s8_ly_skew)\n",
    "ly_skew.append(s9_ly_skew)\n",
    "ly_skew.append(s10_ly_skew)\n",
    "ly_skew.append(s11_ly_skew)\n",
    "ly_skew.append(s12_ly_skew)\n",
    "ly_skew.append(s13_ly_skew)\n",
    "ly_skew.append(s14_ly_skew)\n",
    "ly_skew.append(s15_ly_skew)\n"
   ]
  },
  {
   "cell_type": "code",
   "execution_count": 692,
   "id": "56b5c469",
   "metadata": {},
   "outputs": [],
   "source": [
    "#minmaxdiff for lying"
   ]
  },
  {
   "cell_type": "code",
   "execution_count": 693,
   "id": "f8893634",
   "metadata": {},
   "outputs": [],
   "source": [
    "o1 = Fft_MaxMinDiff_acc_gyr_mag(s1_acc_ly_chest_filt)\n",
    "o2 = Fft_MaxMinDiff_acc_gyr_mag(s1_acc_ly_head_filt)\n",
    "o3 = Fft_MaxMinDiff_acc_gyr_mag(s1_acc_ly_forearm_filt)\n",
    "o4 = Fft_MaxMinDiff_acc_gyr_mag(s1_acc_ly_shin_filt)\n",
    "o5 = Fft_MaxMinDiff_acc_gyr_mag(s1_acc_ly_thigh_filt)\n",
    "o6 = Fft_MaxMinDiff_acc_gyr_mag(s1_acc_ly_upperarm_filt)\n",
    "o7 = Fft_MaxMinDiff_acc_gyr_mag(s1_acc_ly_waist_filt)\n",
    "s1_ly_FD = np.hstack((o1,o2,o3,o4,o5,o6,o7))\n"
   ]
  },
  {
   "cell_type": "code",
   "execution_count": 694,
   "id": "895b9e91",
   "metadata": {},
   "outputs": [],
   "source": [
    "o1 = Fft_MaxMinDiff_acc_gyr_mag(s2_acc_ly_chest_filt)\n",
    "o2 = Fft_MaxMinDiff_acc_gyr_mag(s2_acc_ly_head_filt)\n",
    "o3 = Fft_MaxMinDiff_acc_gyr_mag(s2_acc_ly_forearm_filt)\n",
    "o4 = Fft_MaxMinDiff_acc_gyr_mag(s2_acc_ly_shin_filt)\n",
    "o5 = Fft_MaxMinDiff_acc_gyr_mag(s2_acc_ly_thigh_filt)\n",
    "o6 = Fft_MaxMinDiff_acc_gyr_mag(s2_acc_ly_upperarm_filt)\n",
    "o7 = Fft_MaxMinDiff_acc_gyr_mag(s2_acc_ly_waist_filt)\n",
    "s2_ly_FD = np.hstack((o1,o2,o3,o4,o5,o6,o7))\n"
   ]
  },
  {
   "cell_type": "code",
   "execution_count": 695,
   "id": "0825b407",
   "metadata": {},
   "outputs": [],
   "source": [
    "o1 = Fft_MaxMinDiff_acc_gyr_mag(s3_acc_ly_chest_filt)\n",
    "o2 = Fft_MaxMinDiff_acc_gyr_mag(s3_acc_ly_head_filt)\n",
    "o3 = Fft_MaxMinDiff_acc_gyr_mag(s3_acc_ly_forearm_filt)\n",
    "o4 = Fft_MaxMinDiff_acc_gyr_mag(s3_acc_ly_shin_filt)\n",
    "o5 = Fft_MaxMinDiff_acc_gyr_mag(s3_acc_ly_thigh_filt)\n",
    "o6 = Fft_MaxMinDiff_acc_gyr_mag(s3_acc_ly_upperarm_filt)\n",
    "o7 = Fft_MaxMinDiff_acc_gyr_mag(s3_acc_ly_waist_filt)\n",
    "s3_ly_FD = np.hstack((o1,o2,o3,o4,o5,o6,o7))"
   ]
  },
  {
   "cell_type": "code",
   "execution_count": 696,
   "id": "ba7d0562",
   "metadata": {},
   "outputs": [],
   "source": [
    "o1 = Fft_MaxMinDiff_acc_gyr_mag(s4_acc_ly_chest_filt)\n",
    "o2 = Fft_MaxMinDiff_acc_gyr_mag(s4_acc_ly_head_filt)\n",
    "o3 = Fft_MaxMinDiff_acc_gyr_mag(s4_acc_ly_forearm_filt)\n",
    "o4 = Fft_MaxMinDiff_acc_gyr_mag(s4_acc_ly_shin_filt)\n",
    "o5 = Fft_MaxMinDiff_acc_gyr_mag(s4_acc_ly_thigh_filt)\n",
    "o6 = Fft_MaxMinDiff_acc_gyr_mag(s4_acc_ly_upperarm_filt)\n",
    "o7 = Fft_MaxMinDiff_acc_gyr_mag(s4_acc_ly_waist_filt)\n",
    "s4_ly_FD = np.hstack((o1,o2,o3,o4,o5,o6,o7))"
   ]
  },
  {
   "cell_type": "code",
   "execution_count": 697,
   "id": "c0b7cffe",
   "metadata": {},
   "outputs": [],
   "source": [
    "o1 = Fft_MaxMinDiff_acc_gyr_mag(s5_acc_ly_chest_filt)\n",
    "o2 = Fft_MaxMinDiff_acc_gyr_mag(s5_acc_ly_head_filt)\n",
    "o3 = Fft_MaxMinDiff_acc_gyr_mag(s5_acc_ly_forearm_filt)\n",
    "o4 = Fft_MaxMinDiff_acc_gyr_mag(s5_acc_ly_shin_filt)\n",
    "o5 = Fft_MaxMinDiff_acc_gyr_mag(s5_acc_ly_thigh_filt)\n",
    "o6 = Fft_MaxMinDiff_acc_gyr_mag(s5_acc_ly_upperarm_filt)\n",
    "o7 = Fft_MaxMinDiff_acc_gyr_mag(s5_acc_ly_waist_filt)\n",
    "s5_ly_FD = np.hstack((o1,o2,o3,o4,o5,o6,o7))"
   ]
  },
  {
   "cell_type": "code",
   "execution_count": 698,
   "id": "697f1bd8",
   "metadata": {},
   "outputs": [],
   "source": [
    "o1 = Fft_MaxMinDiff_acc_gyr_mag(s6_acc_ly_chest_filt)\n",
    "o2 = Fft_MaxMinDiff_acc_gyr_mag(s6_acc_ly_head_filt)\n",
    "o3 = Fft_MaxMinDiff_acc_gyr_mag(s6_acc_ly_forearm_filt)\n",
    "o4 = Fft_MaxMinDiff_acc_gyr_mag(s6_acc_ly_shin_filt)\n",
    "o5 = Fft_MaxMinDiff_acc_gyr_mag(s6_acc_ly_thigh_filt)\n",
    "o6 = Fft_MaxMinDiff_acc_gyr_mag(s6_acc_ly_upperarm_filt)\n",
    "o7 = Fft_MaxMinDiff_acc_gyr_mag(s6_acc_ly_waist_filt)\n",
    "s6_ly_FD = np.hstack((o1,o2,o3,o4,o5,o6,o7))"
   ]
  },
  {
   "cell_type": "code",
   "execution_count": 699,
   "id": "5e5352c8",
   "metadata": {},
   "outputs": [],
   "source": [
    "o1 = Fft_MaxMinDiff_acc_gyr_mag(s7_acc_ly_chest_filt)\n",
    "o2 = Fft_MaxMinDiff_acc_gyr_mag(s7_acc_ly_head_filt)\n",
    "o3 = Fft_MaxMinDiff_acc_gyr_mag(s7_acc_ly_forearm_filt)\n",
    "o4 = Fft_MaxMinDiff_acc_gyr_mag(s7_acc_ly_shin_filt)\n",
    "o5 = Fft_MaxMinDiff_acc_gyr_mag(s7_acc_ly_thigh_filt)\n",
    "o6 = Fft_MaxMinDiff_acc_gyr_mag(s7_acc_ly_upperarm_filt)\n",
    "o7 = Fft_MaxMinDiff_acc_gyr_mag(s7_acc_ly_waist_filt)\n",
    "s7_ly_FD = np.hstack((o1,o2,o3,o4,o5,o6,o7))\n"
   ]
  },
  {
   "cell_type": "code",
   "execution_count": 700,
   "id": "552e08fc",
   "metadata": {},
   "outputs": [],
   "source": [
    "o1 = Fft_MaxMinDiff_acc_gyr_mag(s8_acc_ly_chest_filt)\n",
    "o2 = Fft_MaxMinDiff_acc_gyr_mag(s8_acc_ly_head_filt)\n",
    "o3 = Fft_MaxMinDiff_acc_gyr_mag(s8_acc_ly_forearm_filt)\n",
    "o4 = Fft_MaxMinDiff_acc_gyr_mag(s8_acc_ly_shin_filt)\n",
    "o5 = Fft_MaxMinDiff_acc_gyr_mag(s8_acc_ly_thigh_filt)\n",
    "o6 = Fft_MaxMinDiff_acc_gyr_mag(s8_acc_ly_upperarm_filt)\n",
    "o7 = Fft_MaxMinDiff_acc_gyr_mag(s8_acc_ly_waist_filt)\n",
    "s8_ly_FD = np.hstack((o1,o2,o3,o4,o5,o6,o7))"
   ]
  },
  {
   "cell_type": "code",
   "execution_count": 701,
   "id": "6e98cb1e",
   "metadata": {},
   "outputs": [],
   "source": [
    "o1 = Fft_MaxMinDiff_acc_gyr_mag(s9_acc_ly_chest_filt)\n",
    "o2 = Fft_MaxMinDiff_acc_gyr_mag(s9_acc_ly_head_filt)\n",
    "o3 = Fft_MaxMinDiff_acc_gyr_mag(s9_acc_ly_forearm_filt)\n",
    "o4 = Fft_MaxMinDiff_acc_gyr_mag(s9_acc_ly_shin_filt)\n",
    "o5 = Fft_MaxMinDiff_acc_gyr_mag(s9_acc_ly_thigh_filt)\n",
    "o6 = Fft_MaxMinDiff_acc_gyr_mag(s9_acc_ly_upperarm_filt)\n",
    "o7 = Fft_MaxMinDiff_acc_gyr_mag(s9_acc_ly_waist_filt)\n",
    "s9_ly_FD = np.hstack((o1,o2,o3,o4,o5,o6,o7))\n"
   ]
  },
  {
   "cell_type": "code",
   "execution_count": 702,
   "id": "cdd9102d",
   "metadata": {},
   "outputs": [],
   "source": [
    "o1 = Fft_MaxMinDiff_acc_gyr_mag(s10_acc_ly_chest_filt)\n",
    "o2 = Fft_MaxMinDiff_acc_gyr_mag(s10_acc_ly_head_filt)\n",
    "o3 = Fft_MaxMinDiff_acc_gyr_mag(s10_acc_ly_forearm_filt)\n",
    "o4 = Fft_MaxMinDiff_acc_gyr_mag(s10_acc_ly_shin_filt)\n",
    "o5 = Fft_MaxMinDiff_acc_gyr_mag(s10_acc_ly_thigh_filt)\n",
    "o6 = Fft_MaxMinDiff_acc_gyr_mag(s10_acc_ly_upperarm_filt)\n",
    "o7 = Fft_MaxMinDiff_acc_gyr_mag(s10_acc_ly_waist_filt)\n",
    "s10_ly_FD = np.hstack((o1,o2,o3,o4,o5,o6,o7))\n"
   ]
  },
  {
   "cell_type": "code",
   "execution_count": 703,
   "id": "df337920",
   "metadata": {},
   "outputs": [],
   "source": [
    "o1 = Fft_MaxMinDiff_acc_gyr_mag(s11_acc_ly_chest_filt)\n",
    "o2 = Fft_MaxMinDiff_acc_gyr_mag(s11_acc_ly_head_filt)\n",
    "o3 = Fft_MaxMinDiff_acc_gyr_mag(s11_acc_ly_forearm_filt)\n",
    "o4 = Fft_MaxMinDiff_acc_gyr_mag(s11_acc_ly_shin_filt)\n",
    "o5 = Fft_MaxMinDiff_acc_gyr_mag(s11_acc_ly_thigh_filt)\n",
    "o6 = Fft_MaxMinDiff_acc_gyr_mag(s11_acc_ly_upperarm_filt)\n",
    "o7 = Fft_MaxMinDiff_acc_gyr_mag(s11_acc_ly_waist_filt)\n",
    "s11_ly_FD = np.hstack((o1,o2,o3,o4,o5,o6,o7))"
   ]
  },
  {
   "cell_type": "code",
   "execution_count": 704,
   "id": "83e4b29e",
   "metadata": {},
   "outputs": [],
   "source": [
    "o1 = Fft_MaxMinDiff_acc_gyr_mag(s12_acc_ly_chest_filt)\n",
    "o2 = Fft_MaxMinDiff_acc_gyr_mag(s12_acc_ly_head_filt)\n",
    "o3 = Fft_MaxMinDiff_acc_gyr_mag(s12_acc_ly_forearm_filt)\n",
    "o4 = Fft_MaxMinDiff_acc_gyr_mag(s12_acc_ly_shin_filt)\n",
    "o5 = Fft_MaxMinDiff_acc_gyr_mag(s12_acc_ly_thigh_filt)\n",
    "o6 = Fft_MaxMinDiff_acc_gyr_mag(s12_acc_ly_upperarm_filt)\n",
    "o7 = Fft_MaxMinDiff_acc_gyr_mag(s12_acc_ly_waist_filt)\n",
    "s12_ly_FD = np.hstack((o1,o2,o3,o4,o5,o6,o7))\n"
   ]
  },
  {
   "cell_type": "code",
   "execution_count": 705,
   "id": "20dbdee4",
   "metadata": {},
   "outputs": [],
   "source": [
    "o1 = Fft_MaxMinDiff_acc_gyr_mag(s13_acc_ly_chest_filt)\n",
    "o2 = Fft_MaxMinDiff_acc_gyr_mag(s13_acc_ly_head_filt)\n",
    "o3 = Fft_MaxMinDiff_acc_gyr_mag(s13_acc_ly_forearm_filt)\n",
    "o4 = Fft_MaxMinDiff_acc_gyr_mag(s13_acc_ly_shin_filt)\n",
    "o5 = Fft_MaxMinDiff_acc_gyr_mag(s13_acc_ly_thigh_filt)\n",
    "o6 = Fft_MaxMinDiff_acc_gyr_mag(s13_acc_ly_upperarm_filt)\n",
    "o7 = Fft_MaxMinDiff_acc_gyr_mag(s13_acc_ly_waist_filt)\n",
    "s13_ly_FD = np.hstack((o1,o2,o3,o4,o5,o6,o7))"
   ]
  },
  {
   "cell_type": "code",
   "execution_count": 706,
   "id": "bb77be48",
   "metadata": {},
   "outputs": [],
   "source": [
    "o1 = Fft_MaxMinDiff_acc_gyr_mag(s14_acc_ly_chest_filt)\n",
    "o2 = Fft_MaxMinDiff_acc_gyr_mag(s14_acc_ly_head_filt)\n",
    "o3 = Fft_MaxMinDiff_acc_gyr_mag(s14_acc_ly_forearm_filt)\n",
    "o4 = Fft_MaxMinDiff_acc_gyr_mag(s14_acc_ly_shin_filt)\n",
    "o5 = Fft_MaxMinDiff_acc_gyr_mag(s14_acc_ly_thigh_filt)\n",
    "o6 = Fft_MaxMinDiff_acc_gyr_mag(s14_acc_ly_upperarm_filt)\n",
    "o7 = Fft_MaxMinDiff_acc_gyr_mag(s14_acc_ly_waist_filt)\n",
    "s14_ly_FD = np.hstack((o1,o2,o3,o4,o5,o6,o7))\n"
   ]
  },
  {
   "cell_type": "code",
   "execution_count": 707,
   "id": "a49f4f0c",
   "metadata": {},
   "outputs": [],
   "source": [
    "o1 = Fft_MaxMinDiff_acc_gyr_mag(s15_acc_ly_chest_filt)\n",
    "o2 = Fft_MaxMinDiff_acc_gyr_mag(s15_acc_ly_head_filt)\n",
    "o3 = Fft_MaxMinDiff_acc_gyr_mag(s15_acc_ly_forearm_filt)\n",
    "o4 = Fft_MaxMinDiff_acc_gyr_mag(s15_acc_ly_shin_filt)\n",
    "o5 = Fft_MaxMinDiff_acc_gyr_mag(s15_acc_ly_thigh_filt)\n",
    "o6 = Fft_MaxMinDiff_acc_gyr_mag(s15_acc_ly_upperarm_filt)\n",
    "o7 = Fft_MaxMinDiff_acc_gyr_mag(s15_acc_ly_waist_filt)\n",
    "s15_ly_FD = np.hstack((o1,o2,o3,o4,o5,o6,o7))"
   ]
  },
  {
   "cell_type": "code",
   "execution_count": 708,
   "id": "7f2c3508",
   "metadata": {},
   "outputs": [],
   "source": [
    "ly_FD = []\n",
    "ly_FD.append(s1_ly_FD)\n",
    "ly_FD.append(s2_ly_FD)\n",
    "ly_FD.append(s3_ly_FD)\n",
    "ly_FD.append(s4_ly_FD)\n",
    "ly_FD.append(s5_ly_FD)\n",
    "ly_FD.append(s6_ly_FD)\n",
    "ly_FD.append(s7_ly_FD)\n",
    "ly_FD.append(s8_ly_FD)\n",
    "ly_FD.append(s9_ly_FD)\n",
    "ly_FD.append(s10_ly_FD)\n",
    "ly_FD.append(s11_ly_FD)\n",
    "ly_FD.append(s12_ly_FD)\n",
    "ly_FD.append(s13_ly_FD)\n",
    "ly_FD.append(s14_ly_FD)\n",
    "ly_FD.append(s15_ly_FD)\n"
   ]
  },
  {
   "cell_type": "code",
   "execution_count": 709,
   "id": "79144cc3",
   "metadata": {},
   "outputs": [],
   "source": [
    "#fft mimaxratio for lying"
   ]
  },
  {
   "cell_type": "code",
   "execution_count": 710,
   "id": "c11776ab",
   "metadata": {},
   "outputs": [],
   "source": [
    "o1 = Fft_MaxMinRatio_acc_gyr_mag(s1_acc_ly_chest_filt)\n",
    "o2 = Fft_MaxMinRatio_acc_gyr_mag(s1_acc_ly_head_filt)\n",
    "o3 = Fft_MaxMinRatio_acc_gyr_mag(s1_acc_ly_forearm_filt)\n",
    "o4 = Fft_MaxMinRatio_acc_gyr_mag(s1_acc_ly_shin_filt)\n",
    "o5 = Fft_MaxMinRatio_acc_gyr_mag(s1_acc_ly_thigh_filt)\n",
    "o6 = Fft_MaxMinRatio_acc_gyr_mag(s1_acc_ly_upperarm_filt)\n",
    "o7 = Fft_MaxMinRatio_acc_gyr_mag(s1_acc_ly_waist_filt)\n",
    "s1_ly_FR = np.hstack((o1,o2,o3,o4,o5,o6,o7))\n"
   ]
  },
  {
   "cell_type": "code",
   "execution_count": 711,
   "id": "f4e560de",
   "metadata": {},
   "outputs": [],
   "source": [
    "o1 = Fft_MaxMinRatio_acc_gyr_mag(s2_acc_ly_chest_filt)\n",
    "o2 = Fft_MaxMinRatio_acc_gyr_mag(s2_acc_ly_head_filt)\n",
    "o3 = Fft_MaxMinRatio_acc_gyr_mag(s2_acc_ly_forearm_filt)\n",
    "o4 = Fft_MaxMinRatio_acc_gyr_mag(s2_acc_ly_shin_filt)\n",
    "o5 = Fft_MaxMinRatio_acc_gyr_mag(s2_acc_ly_thigh_filt)\n",
    "o6 = Fft_MaxMinRatio_acc_gyr_mag(s2_acc_ly_upperarm_filt)\n",
    "o7 = Fft_MaxMinRatio_acc_gyr_mag(s2_acc_ly_waist_filt)\n",
    "s2_ly_FR = np.hstack((o1,o2,o3,o4,o5,o6,o7))"
   ]
  },
  {
   "cell_type": "code",
   "execution_count": 712,
   "id": "3c78546e",
   "metadata": {},
   "outputs": [],
   "source": [
    "o1 = Fft_MaxMinRatio_acc_gyr_mag(s3_acc_ly_chest_filt)\n",
    "o2 = Fft_MaxMinRatio_acc_gyr_mag(s3_acc_ly_head_filt)\n",
    "o3 = Fft_MaxMinRatio_acc_gyr_mag(s3_acc_ly_forearm_filt)\n",
    "o4 = Fft_MaxMinRatio_acc_gyr_mag(s3_acc_ly_shin_filt)\n",
    "o5 = Fft_MaxMinRatio_acc_gyr_mag(s3_acc_ly_thigh_filt)\n",
    "o6 = Fft_MaxMinRatio_acc_gyr_mag(s3_acc_ly_upperarm_filt)\n",
    "o7 = Fft_MaxMinRatio_acc_gyr_mag(s3_acc_ly_waist_filt)\n",
    "s3_ly_FR = np.hstack((o1,o2,o3,o4,o5,o6,o7))"
   ]
  },
  {
   "cell_type": "code",
   "execution_count": 713,
   "id": "0ba681b4",
   "metadata": {},
   "outputs": [],
   "source": [
    "\n",
    "o1 = Fft_MaxMinRatio_acc_gyr_mag(s4_acc_ly_chest_filt)\n",
    "o2 = Fft_MaxMinRatio_acc_gyr_mag(s4_acc_ly_head_filt)\n",
    "o3 = Fft_MaxMinRatio_acc_gyr_mag(s4_acc_ly_forearm_filt)\n",
    "o4 = Fft_MaxMinRatio_acc_gyr_mag(s4_acc_ly_shin_filt)\n",
    "o5 = Fft_MaxMinRatio_acc_gyr_mag(s4_acc_ly_thigh_filt)\n",
    "o6 = Fft_MaxMinRatio_acc_gyr_mag(s4_acc_ly_upperarm_filt)\n",
    "o7 = Fft_MaxMinRatio_acc_gyr_mag(s4_acc_ly_waist_filt)\n",
    "s4_ly_FR = np.hstack((o1,o2,o3,o4,o5,o6,o7))\n"
   ]
  },
  {
   "cell_type": "code",
   "execution_count": 714,
   "id": "b9d15d4d",
   "metadata": {},
   "outputs": [],
   "source": [
    "o1 = Fft_MaxMinRatio_acc_gyr_mag(s5_acc_ly_chest_filt)\n",
    "o2 = Fft_MaxMinRatio_acc_gyr_mag(s5_acc_ly_head_filt)\n",
    "o3 = Fft_MaxMinRatio_acc_gyr_mag(s5_acc_ly_forearm_filt)\n",
    "o4 = Fft_MaxMinRatio_acc_gyr_mag(s5_acc_ly_shin_filt)\n",
    "o5 = Fft_MaxMinRatio_acc_gyr_mag(s5_acc_ly_thigh_filt)\n",
    "o6 = Fft_MaxMinRatio_acc_gyr_mag(s5_acc_ly_upperarm_filt)\n",
    "o7 = Fft_MaxMinRatio_acc_gyr_mag(s5_acc_ly_waist_filt)\n",
    "s5_ly_FR = np.hstack((o1,o2,o3,o4,o5,o6,o7))\n"
   ]
  },
  {
   "cell_type": "code",
   "execution_count": 715,
   "id": "3b50716f",
   "metadata": {},
   "outputs": [],
   "source": [
    "o1 = Fft_MaxMinRatio_acc_gyr_mag(s6_acc_ly_chest_filt)\n",
    "o2 = Fft_MaxMinRatio_acc_gyr_mag(s6_acc_ly_head_filt)\n",
    "o3 = Fft_MaxMinRatio_acc_gyr_mag(s6_acc_ly_forearm_filt)\n",
    "o4 = Fft_MaxMinRatio_acc_gyr_mag(s6_acc_ly_shin_filt)\n",
    "o5 = Fft_MaxMinRatio_acc_gyr_mag(s6_acc_ly_thigh_filt)\n",
    "o6 = Fft_MaxMinRatio_acc_gyr_mag(s6_acc_ly_upperarm_filt)\n",
    "o7 = Fft_MaxMinRatio_acc_gyr_mag(s6_acc_ly_waist_filt)\n",
    "s6_ly_FR = np.hstack((o1,o2,o3,o4,o5,o6,o7))"
   ]
  },
  {
   "cell_type": "code",
   "execution_count": 716,
   "id": "78fa6bbc",
   "metadata": {},
   "outputs": [],
   "source": [
    "o1 = Fft_MaxMinRatio_acc_gyr_mag(s7_acc_ly_chest_filt)\n",
    "o2 = Fft_MaxMinRatio_acc_gyr_mag(s7_acc_ly_head_filt)\n",
    "o3 = Fft_MaxMinRatio_acc_gyr_mag(s7_acc_ly_forearm_filt)\n",
    "o4 = Fft_MaxMinRatio_acc_gyr_mag(s7_acc_ly_shin_filt)\n",
    "o5 = Fft_MaxMinRatio_acc_gyr_mag(s7_acc_ly_thigh_filt)\n",
    "o6 = Fft_MaxMinRatio_acc_gyr_mag(s7_acc_ly_upperarm_filt)\n",
    "o7 = Fft_MaxMinRatio_acc_gyr_mag(s7_acc_ly_waist_filt)\n",
    "s7_ly_FR = np.hstack((o1,o2,o3,o4,o5,o6,o7))"
   ]
  },
  {
   "cell_type": "code",
   "execution_count": 717,
   "id": "6411429c",
   "metadata": {},
   "outputs": [],
   "source": [
    "o1 = Fft_MaxMinRatio_acc_gyr_mag(s8_acc_ly_chest_filt)\n",
    "o2 = Fft_MaxMinRatio_acc_gyr_mag(s8_acc_ly_head_filt)\n",
    "o3 = Fft_MaxMinRatio_acc_gyr_mag(s8_acc_ly_forearm_filt)\n",
    "o4 = Fft_MaxMinRatio_acc_gyr_mag(s8_acc_ly_shin_filt)\n",
    "o5 = Fft_MaxMinRatio_acc_gyr_mag(s8_acc_ly_thigh_filt)\n",
    "o6 = Fft_MaxMinRatio_acc_gyr_mag(s8_acc_ly_upperarm_filt)\n",
    "o7 = Fft_MaxMinRatio_acc_gyr_mag(s8_acc_ly_waist_filt)\n",
    "s8_ly_FR = np.hstack((o1,o2,o3,o4,o5,o6,o7))"
   ]
  },
  {
   "cell_type": "code",
   "execution_count": 718,
   "id": "b9e1f406",
   "metadata": {},
   "outputs": [],
   "source": [
    "o1 = Fft_MaxMinRatio_acc_gyr_mag(s9_acc_ly_chest_filt)\n",
    "o2 = Fft_MaxMinRatio_acc_gyr_mag(s9_acc_ly_head_filt)\n",
    "o3 = Fft_MaxMinRatio_acc_gyr_mag(s9_acc_ly_forearm_filt)\n",
    "o4 = Fft_MaxMinRatio_acc_gyr_mag(s9_acc_ly_shin_filt)\n",
    "o5 = Fft_MaxMinRatio_acc_gyr_mag(s9_acc_ly_thigh_filt)\n",
    "o6 = Fft_MaxMinRatio_acc_gyr_mag(s9_acc_ly_upperarm_filt)\n",
    "o7 = Fft_MaxMinRatio_acc_gyr_mag(s9_acc_ly_waist_filt)\n",
    "s9_ly_FR = np.hstack((o1,o2,o3,o4,o5,o6,o7))\n"
   ]
  },
  {
   "cell_type": "code",
   "execution_count": 719,
   "id": "3ad4e5a4",
   "metadata": {},
   "outputs": [],
   "source": [
    "\n",
    "o1 = Fft_MaxMinRatio_acc_gyr_mag(s10_acc_ly_chest_filt)\n",
    "o2 = Fft_MaxMinRatio_acc_gyr_mag(s10_acc_ly_head_filt)\n",
    "o3 = Fft_MaxMinRatio_acc_gyr_mag(s10_acc_ly_forearm_filt)\n",
    "o4 = Fft_MaxMinRatio_acc_gyr_mag(s10_acc_ly_shin_filt)\n",
    "o5 = Fft_MaxMinRatio_acc_gyr_mag(s10_acc_ly_thigh_filt)\n",
    "o6 = Fft_MaxMinRatio_acc_gyr_mag(s10_acc_ly_upperarm_filt)\n",
    "o7 = Fft_MaxMinRatio_acc_gyr_mag(s10_acc_ly_waist_filt)\n",
    "s10_ly_FR = np.hstack((o1,o2,o3,o4,o5,o6,o7))"
   ]
  },
  {
   "cell_type": "code",
   "execution_count": 720,
   "id": "223440e0",
   "metadata": {},
   "outputs": [],
   "source": [
    "o1 = Fft_MaxMinRatio_acc_gyr_mag(s11_acc_ly_chest_filt)\n",
    "o2 = Fft_MaxMinRatio_acc_gyr_mag(s11_acc_ly_head_filt)\n",
    "o3 = Fft_MaxMinRatio_acc_gyr_mag(s11_acc_ly_forearm_filt)\n",
    "o4 = Fft_MaxMinRatio_acc_gyr_mag(s11_acc_ly_shin_filt)\n",
    "o5 = Fft_MaxMinRatio_acc_gyr_mag(s11_acc_ly_thigh_filt)\n",
    "o6 = Fft_MaxMinRatio_acc_gyr_mag(s11_acc_ly_upperarm_filt)\n",
    "o7 = Fft_MaxMinRatio_acc_gyr_mag(s11_acc_ly_waist_filt)\n",
    "s11_ly_FR = np.hstack((o1,o2,o3,o4,o5,o6,o7))\n"
   ]
  },
  {
   "cell_type": "code",
   "execution_count": 721,
   "id": "3311f124",
   "metadata": {},
   "outputs": [],
   "source": [
    "o1 = Fft_MaxMinRatio_acc_gyr_mag(s12_acc_ly_chest_filt)\n",
    "o2 = Fft_MaxMinRatio_acc_gyr_mag(s12_acc_ly_head_filt)\n",
    "o3 = Fft_MaxMinRatio_acc_gyr_mag(s12_acc_ly_forearm_filt)\n",
    "o4 = Fft_MaxMinRatio_acc_gyr_mag(s12_acc_ly_shin_filt)\n",
    "o5 = Fft_MaxMinRatio_acc_gyr_mag(s12_acc_ly_thigh_filt)\n",
    "o6 = Fft_MaxMinRatio_acc_gyr_mag(s12_acc_ly_upperarm_filt)\n",
    "o7 = Fft_MaxMinRatio_acc_gyr_mag(s12_acc_ly_waist_filt)\n",
    "s12_ly_FR = np.hstack((o1,o2,o3,o4,o5,o6,o7))"
   ]
  },
  {
   "cell_type": "code",
   "execution_count": 722,
   "id": "a22e97ff",
   "metadata": {},
   "outputs": [],
   "source": [
    "o1 = Fft_MaxMinRatio_acc_gyr_mag(s13_acc_ly_chest_filt)\n",
    "o2 = Fft_MaxMinRatio_acc_gyr_mag(s13_acc_ly_head_filt)\n",
    "o3 = Fft_MaxMinRatio_acc_gyr_mag(s13_acc_ly_forearm_filt)\n",
    "o4 = Fft_MaxMinRatio_acc_gyr_mag(s13_acc_ly_shin_filt)\n",
    "o5 = Fft_MaxMinRatio_acc_gyr_mag(s13_acc_ly_thigh_filt)\n",
    "o6 = Fft_MaxMinRatio_acc_gyr_mag(s13_acc_ly_upperarm_filt)\n",
    "o7 = Fft_MaxMinRatio_acc_gyr_mag(s13_acc_ly_waist_filt)\n",
    "s13_ly_FR = np.hstack((o1,o2,o3,o4,o5,o6,o7))"
   ]
  },
  {
   "cell_type": "code",
   "execution_count": 723,
   "id": "090fcd2d",
   "metadata": {},
   "outputs": [],
   "source": [
    "o1 = Fft_MaxMinRatio_acc_gyr_mag(s14_acc_ly_chest_filt)\n",
    "o2 = Fft_MaxMinRatio_acc_gyr_mag(s14_acc_ly_head_filt)\n",
    "o3 = Fft_MaxMinRatio_acc_gyr_mag(s14_acc_ly_forearm_filt)\n",
    "o4 = Fft_MaxMinRatio_acc_gyr_mag(s14_acc_ly_shin_filt)\n",
    "o5 = Fft_MaxMinRatio_acc_gyr_mag(s14_acc_ly_thigh_filt)\n",
    "o6 = Fft_MaxMinRatio_acc_gyr_mag(s14_acc_ly_upperarm_filt)\n",
    "o7 = Fft_MaxMinRatio_acc_gyr_mag(s14_acc_ly_waist_filt)\n",
    "s14_ly_FR = np.hstack((o1,o2,o3,o4,o5,o6,o7))"
   ]
  },
  {
   "cell_type": "code",
   "execution_count": 724,
   "id": "47e5b36c",
   "metadata": {},
   "outputs": [],
   "source": [
    "o1 = Fft_MaxMinRatio_acc_gyr_mag(s15_acc_ly_chest_filt)\n",
    "o2 = Fft_MaxMinRatio_acc_gyr_mag(s15_acc_ly_head_filt)\n",
    "o3 = Fft_MaxMinRatio_acc_gyr_mag(s15_acc_ly_forearm_filt)\n",
    "o4 = Fft_MaxMinRatio_acc_gyr_mag(s15_acc_ly_shin_filt)\n",
    "o5 = Fft_MaxMinRatio_acc_gyr_mag(s15_acc_ly_thigh_filt)\n",
    "o6 = Fft_MaxMinRatio_acc_gyr_mag(s15_acc_ly_upperarm_filt)\n",
    "o7 = Fft_MaxMinRatio_acc_gyr_mag(s15_acc_ly_waist_filt)\n",
    "s15_ly_FR = np.hstack((o1,o2,o3,o4,o5,o6,o7))\n"
   ]
  },
  {
   "cell_type": "code",
   "execution_count": 725,
   "id": "75c7a993",
   "metadata": {},
   "outputs": [],
   "source": [
    "ly_FR = []\n",
    "ly_FR.append(s1_ly_FR)\n",
    "ly_FR.append(s2_ly_FR)\n",
    "ly_FR.append(s3_ly_FR)\n",
    "ly_FR.append(s4_ly_FR)\n",
    "ly_FR.append(s5_ly_FR)\n",
    "ly_FR.append(s6_ly_FR)\n",
    "ly_FR.append(s7_ly_FR)\n",
    "ly_FR.append(s8_ly_FR)\n",
    "ly_FR.append(s9_ly_FR)\n",
    "ly_FR.append(s10_ly_FR)\n",
    "ly_FR.append(s11_ly_FR)\n",
    "ly_FR.append(s12_ly_FR)\n",
    "ly_FR.append(s13_ly_FR)\n",
    "ly_FR.append(s14_ly_FR)\n",
    "ly_FR.append(s15_ly_FR)"
   ]
  },
  {
   "cell_type": "code",
   "execution_count": 726,
   "id": "a5ac1407",
   "metadata": {},
   "outputs": [],
   "source": [
    "ly_features = [1]*15"
   ]
  },
  {
   "cell_type": "code",
   "execution_count": 727,
   "id": "4983d773",
   "metadata": {},
   "outputs": [],
   "source": [
    "for i in range(15):\n",
    "    ly_features[i] = np.concatenate((ly_parseval[i],ly_skew[i],ly_FD[i],ly_FR[i]))"
   ]
  },
  {
   "cell_type": "code",
   "execution_count": 728,
   "id": "6d74329b",
   "metadata": {},
   "outputs": [],
   "source": [
    "#running parseval energy"
   ]
  },
  {
   "cell_type": "code",
   "execution_count": 729,
   "id": "fbb3a26a",
   "metadata": {},
   "outputs": [],
   "source": [
    "o1 = Parseval_acc_gyr_mag(s1_acc_run_chest_filt)\n",
    "o2 = Parseval_acc_gyr_mag(s1_acc_run_head_filt)\n",
    "o3 = Parseval_acc_gyr_mag(s1_acc_run_forearm_filt)\n",
    "o4 = Parseval_acc_gyr_mag(s1_acc_run_shin_filt)\n",
    "o5 = Parseval_acc_gyr_mag(s1_acc_run_thigh_filt)\n",
    "o6 = Parseval_acc_gyr_mag(s1_acc_run_upperarm_filt)\n",
    "o7 = Parseval_acc_gyr_mag(s1_acc_run_waist_filt)\n",
    "s1_run_parseval = np.hstack((o1,o2,o3,o4,o5,o6,o7))\n"
   ]
  },
  {
   "cell_type": "code",
   "execution_count": 730,
   "id": "b7821aaa",
   "metadata": {},
   "outputs": [],
   "source": [
    "o1 = Parseval_acc_gyr_mag(s2_acc_run_chest_filt)\n",
    "o2 = Parseval_acc_gyr_mag(s2_acc_run_head_filt)\n",
    "o3 = Parseval_acc_gyr_mag(s2_acc_run_forearm_filt)\n",
    "o4 = Parseval_acc_gyr_mag(s2_acc_run_shin_filt)\n",
    "o5 = Parseval_acc_gyr_mag(s2_acc_run_thigh_filt)\n",
    "o6 = Parseval_acc_gyr_mag(s2_acc_run_upperarm_filt)\n",
    "o7 = Parseval_acc_gyr_mag(s2_acc_run_waist_filt)\n",
    "s2_run_parseval = np.hstack((o1,o2,o3,o4,o5,o6,o7))\n"
   ]
  },
  {
   "cell_type": "code",
   "execution_count": 731,
   "id": "fadcbc05",
   "metadata": {},
   "outputs": [],
   "source": [
    "o1 = Parseval_acc_gyr_mag(s3_acc_run_chest_filt)\n",
    "o2 = Parseval_acc_gyr_mag(s3_acc_run_head_filt)\n",
    "o3 = Parseval_acc_gyr_mag(s3_acc_run_forearm_filt)\n",
    "o4 = Parseval_acc_gyr_mag(s3_acc_run_shin_filt)\n",
    "o5 = Parseval_acc_gyr_mag(s3_acc_run_thigh_filt)\n",
    "o6 = Parseval_acc_gyr_mag(s3_acc_run_upperarm_filt)\n",
    "o7 = Parseval_acc_gyr_mag(s3_acc_run_waist_filt)\n",
    "s3_run_parseval = np.hstack((o1,o2,o3,o4,o5,o6,o7))"
   ]
  },
  {
   "cell_type": "code",
   "execution_count": 732,
   "id": "4be5b361",
   "metadata": {},
   "outputs": [],
   "source": [
    "o1 = Parseval_acc_gyr_mag(s4_acc_run_chest_filt)\n",
    "o2 = Parseval_acc_gyr_mag(s4_acc_run_head_filt)\n",
    "o3 = Parseval_acc_gyr_mag(s4_acc_run_forearm_filt)\n",
    "o4 = Parseval_acc_gyr_mag(s4_acc_run_shin_filt)\n",
    "o5 = Parseval_acc_gyr_mag(s4_acc_run_thigh_filt)\n",
    "o6 = Parseval_acc_gyr_mag(s4_acc_run_upperarm_filt)\n",
    "o7 = Parseval_acc_gyr_mag(s4_acc_run_waist_filt)\n",
    "s4_run_parseval = np.hstack((o1,o2,o3,o4,o5,o6,o7))"
   ]
  },
  {
   "cell_type": "code",
   "execution_count": 733,
   "id": "c8876c0e",
   "metadata": {},
   "outputs": [],
   "source": [
    "o1 = Parseval_acc_gyr_mag(s5_acc_run_chest_filt)\n",
    "o2 = Parseval_acc_gyr_mag(s5_acc_run_head_filt)\n",
    "o3 = Parseval_acc_gyr_mag(s5_acc_run_forearm_filt)\n",
    "o4 = Parseval_acc_gyr_mag(s5_acc_run_shin_filt)\n",
    "o5 = Parseval_acc_gyr_mag(s5_acc_run_thigh_filt)\n",
    "o6 = Parseval_acc_gyr_mag(s5_acc_run_upperarm_filt)\n",
    "o7 = Parseval_acc_gyr_mag(s5_acc_run_waist_filt)\n",
    "s5_run_parseval = np.hstack((o1,o2,o3,o4,o5,o6,o7))"
   ]
  },
  {
   "cell_type": "code",
   "execution_count": 734,
   "id": "ea92991e",
   "metadata": {},
   "outputs": [],
   "source": [
    "o1 = Parseval_acc_gyr_mag(s6_acc_run_chest_filt)\n",
    "o2 = Parseval_acc_gyr_mag(s6_acc_run_head_filt)\n",
    "o3 = Parseval_acc_gyr_mag(s6_acc_run_forearm_filt)\n",
    "o4 = Parseval_acc_gyr_mag(s6_acc_run_shin_filt)\n",
    "o5 = Parseval_acc_gyr_mag(s6_acc_run_thigh_filt)\n",
    "o6 = Parseval_acc_gyr_mag(s6_acc_run_upperarm_filt)\n",
    "o7 = Parseval_acc_gyr_mag(s6_acc_run_waist_filt)\n",
    "s6_run_parseval = np.hstack((o1,o2,o3,o4,o5,o6,o7))"
   ]
  },
  {
   "cell_type": "code",
   "execution_count": 735,
   "id": "a303fac0",
   "metadata": {},
   "outputs": [],
   "source": [
    "\n",
    "o1 = Parseval_acc_gyr_mag(s7_acc_run_chest_filt)\n",
    "o2 = Parseval_acc_gyr_mag(s7_acc_run_head_filt)\n",
    "o3 = Parseval_acc_gyr_mag(s7_acc_run_forearm_filt)\n",
    "o4 = Parseval_acc_gyr_mag(s7_acc_run_shin_filt)\n",
    "o5 = Parseval_acc_gyr_mag(s7_acc_run_thigh_filt)\n",
    "o6 = Parseval_acc_gyr_mag(s7_acc_run_upperarm_filt)\n",
    "o7 = Parseval_acc_gyr_mag(s7_acc_run_waist_filt)\n",
    "s7_run_parseval = np.hstack((o1,o2,o3,o4,o5,o6,o7))\n"
   ]
  },
  {
   "cell_type": "code",
   "execution_count": 736,
   "id": "94a8ccda",
   "metadata": {},
   "outputs": [],
   "source": [
    "o1 = Parseval_acc_gyr_mag(s8_acc_run_chest_filt)\n",
    "o2 = Parseval_acc_gyr_mag(s8_acc_run_head_filt)\n",
    "o3 = Parseval_acc_gyr_mag(s8_acc_run_forearm_filt)\n",
    "o4 = Parseval_acc_gyr_mag(s8_acc_run_shin_filt)\n",
    "o5 = Parseval_acc_gyr_mag(s8_acc_run_thigh_filt)\n",
    "o6 = Parseval_acc_gyr_mag(s8_acc_run_upperarm_filt)\n",
    "o7 = Parseval_acc_gyr_mag(s8_acc_run_waist_filt)\n",
    "s8_run_parseval = np.hstack((o1,o2,o3,o4,o5,o6,o7))"
   ]
  },
  {
   "cell_type": "code",
   "execution_count": 737,
   "id": "a69bd81f",
   "metadata": {},
   "outputs": [],
   "source": [
    "o1 = Parseval_acc_gyr_mag(s9_acc_run_chest_filt)\n",
    "o2 = Parseval_acc_gyr_mag(s9_acc_run_head_filt)\n",
    "o3 = Parseval_acc_gyr_mag(s9_acc_run_forearm_filt)\n",
    "o4 = Parseval_acc_gyr_mag(s9_acc_run_shin_filt)\n",
    "o5 = Parseval_acc_gyr_mag(s9_acc_run_thigh_filt)\n",
    "o6 = Parseval_acc_gyr_mag(s9_acc_run_upperarm_filt)\n",
    "o7 = Parseval_acc_gyr_mag(s9_acc_run_waist_filt)\n",
    "s9_run_parseval = np.hstack((o1,o2,o3,o4,o5,o6,o7))\n"
   ]
  },
  {
   "cell_type": "code",
   "execution_count": 738,
   "id": "f842d5ed",
   "metadata": {},
   "outputs": [],
   "source": [
    "o1 = Parseval_acc_gyr_mag(s10_acc_run_chest_filt)\n",
    "o2 = Parseval_acc_gyr_mag(s10_acc_run_head_filt)\n",
    "o3 = Parseval_acc_gyr_mag(s10_acc_run_forearm_filt)\n",
    "o4 = Parseval_acc_gyr_mag(s10_acc_run_shin_filt)\n",
    "o5 = Parseval_acc_gyr_mag(s10_acc_run_thigh_filt)\n",
    "o6 = Parseval_acc_gyr_mag(s10_acc_run_upperarm_filt)\n",
    "o7 = Parseval_acc_gyr_mag(s10_acc_run_waist_filt)\n",
    "s10_run_parseval = np.hstack((o1,o2,o3,o4,o5,o6,o7))"
   ]
  },
  {
   "cell_type": "code",
   "execution_count": 739,
   "id": "d03a120e",
   "metadata": {},
   "outputs": [],
   "source": [
    "o1 = Parseval_acc_gyr_mag(s11_acc_run_chest_filt)\n",
    "o2 = Parseval_acc_gyr_mag(s11_acc_run_head_filt)\n",
    "o3 = Parseval_acc_gyr_mag(s11_acc_run_forearm_filt)\n",
    "o4 = Parseval_acc_gyr_mag(s11_acc_run_shin_filt)\n",
    "o5 = Parseval_acc_gyr_mag(s11_acc_run_thigh_filt)\n",
    "o6 = Parseval_acc_gyr_mag(s11_acc_run_upperarm_filt)\n",
    "o7 = Parseval_acc_gyr_mag(s11_acc_run_waist_filt)\n",
    "s11_run_parseval = np.hstack((o1,o2,o3,o4,o5,o6,o7))"
   ]
  },
  {
   "cell_type": "code",
   "execution_count": 740,
   "id": "07a633d3",
   "metadata": {},
   "outputs": [],
   "source": [
    "o1 = Parseval_acc_gyr_mag(s12_acc_run_chest_filt)\n",
    "o2 = Parseval_acc_gyr_mag(s12_acc_run_head_filt)\n",
    "o3 = Parseval_acc_gyr_mag(s12_acc_run_forearm_filt)\n",
    "o4 = Parseval_acc_gyr_mag(s12_acc_run_shin_filt)\n",
    "o5 = Parseval_acc_gyr_mag(s12_acc_run_thigh_filt)\n",
    "o6 = Parseval_acc_gyr_mag(s12_acc_run_upperarm_filt)\n",
    "o7 = Parseval_acc_gyr_mag(s12_acc_run_waist_filt)\n",
    "s12_run_parseval = np.hstack((o1,o2,o3,o4,o5,o6,o7))"
   ]
  },
  {
   "cell_type": "code",
   "execution_count": 741,
   "id": "6c23eef4",
   "metadata": {},
   "outputs": [],
   "source": [
    "o1 = Parseval_acc_gyr_mag(s13_acc_run_chest_filt)\n",
    "o2 = Parseval_acc_gyr_mag(s13_acc_run_head_filt)\n",
    "o3 = Parseval_acc_gyr_mag(s13_acc_run_forearm_filt)\n",
    "o4 = Parseval_acc_gyr_mag(s13_acc_run_shin_filt)\n",
    "o5 = Parseval_acc_gyr_mag(s13_acc_run_thigh_filt)\n",
    "o6 = Parseval_acc_gyr_mag(s13_acc_run_upperarm_filt)\n",
    "o7 = Parseval_acc_gyr_mag(s13_acc_run_waist_filt)\n",
    "s13_run_parseval = np.hstack((o1,o2,o3,o4,o5,o6,o7))"
   ]
  },
  {
   "cell_type": "code",
   "execution_count": 742,
   "id": "ecfd6bc4",
   "metadata": {},
   "outputs": [],
   "source": [
    "o1 = Parseval_acc_gyr_mag(s14_acc_run_chest_filt)\n",
    "o2 = Parseval_acc_gyr_mag(s14_acc_run_head_filt)\n",
    "o3 = Parseval_acc_gyr_mag(s14_acc_run_forearm_filt)\n",
    "o4 = Parseval_acc_gyr_mag(s14_acc_run_shin_filt)\n",
    "o5 = Parseval_acc_gyr_mag(s14_acc_run_thigh_filt)\n",
    "o6 = Parseval_acc_gyr_mag(s14_acc_run_upperarm_filt)\n",
    "o7 = Parseval_acc_gyr_mag(s14_acc_run_waist_filt)\n",
    "s14_run_parseval = np.hstack((o1,o2,o3,o4,o5,o6,o7))"
   ]
  },
  {
   "cell_type": "code",
   "execution_count": 743,
   "id": "4e2034d1",
   "metadata": {},
   "outputs": [],
   "source": [
    "\n",
    "o1 = Parseval_acc_gyr_mag(s15_acc_run_chest_filt)\n",
    "o2 = Parseval_acc_gyr_mag(s15_acc_run_head_filt)\n",
    "o3 = Parseval_acc_gyr_mag(s15_acc_run_forearm_filt)\n",
    "o4 = Parseval_acc_gyr_mag(s15_acc_run_shin_filt)\n",
    "o5 = Parseval_acc_gyr_mag(s15_acc_run_thigh_filt)\n",
    "o6 = Parseval_acc_gyr_mag(s15_acc_run_upperarm_filt)\n",
    "o7 = Parseval_acc_gyr_mag(s15_acc_run_waist_filt)\n",
    "\n",
    "s15_run_parseval = np.hstack((o1,o2,o3,o4,o5,o6,o7))"
   ]
  },
  {
   "cell_type": "code",
   "execution_count": 744,
   "id": "033238e4",
   "metadata": {},
   "outputs": [],
   "source": [
    "run_parseval = []\n",
    "run_parseval.append(s1_run_parseval)\n",
    "run_parseval.append(s2_run_parseval)\n",
    "run_parseval.append(s3_run_parseval)\n",
    "run_parseval.append(s4_run_parseval)\n",
    "run_parseval.append(s5_run_parseval)\n",
    "run_parseval.append(s6_run_parseval)\n",
    "run_parseval.append(s7_run_parseval)\n",
    "run_parseval.append(s8_run_parseval)\n",
    "run_parseval.append(s9_run_parseval)\n",
    "run_parseval.append(s10_run_parseval)\n",
    "run_parseval.append(s11_run_parseval)\n",
    "run_parseval.append(s12_run_parseval)\n",
    "run_parseval.append(s13_run_parseval)\n",
    "run_parseval.append(s14_run_parseval)\n",
    "run_parseval.append(s15_run_parseval)\n"
   ]
  },
  {
   "cell_type": "code",
   "execution_count": 745,
   "id": "71423c16",
   "metadata": {},
   "outputs": [],
   "source": [
    "#skeness for running"
   ]
  },
  {
   "cell_type": "code",
   "execution_count": 746,
   "id": "d96aef12",
   "metadata": {},
   "outputs": [],
   "source": [
    "o1 = Skewness_acc_gyr_mag(s1_acc_run_chest_filt)\n",
    "o2 = Skewness_acc_gyr_mag(s1_acc_run_head_filt)\n",
    "o3 = Skewness_acc_gyr_mag(s1_acc_run_forearm_filt)\n",
    "o4 = Skewness_acc_gyr_mag(s1_acc_run_shin_filt)\n",
    "o5 = Skewness_acc_gyr_mag(s1_acc_run_thigh_filt)\n",
    "o6 = Skewness_acc_gyr_mag(s1_acc_run_upperarm_filt)\n",
    "o7 = Skewness_acc_gyr_mag(s1_acc_run_waist_filt)\n",
    "s1_run_skew = np.hstack((o1,o2,o3,o4,o5,o6,o7))\n"
   ]
  },
  {
   "cell_type": "code",
   "execution_count": 747,
   "id": "f6207965",
   "metadata": {},
   "outputs": [],
   "source": [
    "o1 = Skewness_acc_gyr_mag(s2_acc_run_chest_filt)\n",
    "o2 = Skewness_acc_gyr_mag(s2_acc_run_head_filt)\n",
    "o3 = Skewness_acc_gyr_mag(s2_acc_run_forearm_filt)\n",
    "o4 = Skewness_acc_gyr_mag(s2_acc_run_shin_filt)\n",
    "o5 = Skewness_acc_gyr_mag(s2_acc_run_thigh_filt)\n",
    "o6 = Skewness_acc_gyr_mag(s2_acc_run_upperarm_filt)\n",
    "o7 = Skewness_acc_gyr_mag(s2_acc_run_waist_filt)\n",
    "s2_run_skew = np.hstack((o1,o2,o3,o4,o5,o6,o7))"
   ]
  },
  {
   "cell_type": "code",
   "execution_count": 748,
   "id": "354c82f7",
   "metadata": {},
   "outputs": [],
   "source": [
    "o1 = Skewness_acc_gyr_mag(s3_acc_run_chest_filt)\n",
    "o2 = Skewness_acc_gyr_mag(s3_acc_run_head_filt)\n",
    "o3 = Skewness_acc_gyr_mag(s3_acc_run_forearm_filt)\n",
    "o4 = Skewness_acc_gyr_mag(s3_acc_run_shin_filt)\n",
    "o5 = Skewness_acc_gyr_mag(s3_acc_run_thigh_filt)\n",
    "o6 = Skewness_acc_gyr_mag(s3_acc_run_upperarm_filt)\n",
    "o7 = Skewness_acc_gyr_mag(s3_acc_run_waist_filt)\n",
    "s3_run_skew = np.hstack((o1,o2,o3,o4,o5,o6,o7))"
   ]
  },
  {
   "cell_type": "code",
   "execution_count": 749,
   "id": "f0763346",
   "metadata": {},
   "outputs": [],
   "source": [
    "o1 = Skewness_acc_gyr_mag(s4_acc_run_chest_filt)\n",
    "o2 = Skewness_acc_gyr_mag(s4_acc_run_head_filt)\n",
    "o3 = Skewness_acc_gyr_mag(s4_acc_run_forearm_filt)\n",
    "o4 = Skewness_acc_gyr_mag(s4_acc_run_shin_filt)\n",
    "o5 = Skewness_acc_gyr_mag(s4_acc_run_thigh_filt)\n",
    "o6 = Skewness_acc_gyr_mag(s4_acc_run_upperarm_filt)\n",
    "o7 = Skewness_acc_gyr_mag(s4_acc_run_waist_filt)\n",
    "s4_run_skew = np.hstack((o1,o2,o3,o4,o5,o6,o7))"
   ]
  },
  {
   "cell_type": "code",
   "execution_count": 750,
   "id": "1805289b",
   "metadata": {},
   "outputs": [],
   "source": [
    "o1 = Skewness_acc_gyr_mag(s5_acc_run_chest_filt)\n",
    "o2 = Skewness_acc_gyr_mag(s5_acc_run_head_filt)\n",
    "o3 = Skewness_acc_gyr_mag(s5_acc_run_forearm_filt)\n",
    "o4 = Skewness_acc_gyr_mag(s5_acc_run_shin_filt)\n",
    "o5 = Skewness_acc_gyr_mag(s5_acc_run_thigh_filt)\n",
    "o6 = Skewness_acc_gyr_mag(s5_acc_run_upperarm_filt)\n",
    "o7 = Skewness_acc_gyr_mag(s5_acc_run_waist_filt)\n",
    "s5_run_skew = np.hstack((o1,o2,o3,o4,o5,o6,o7))"
   ]
  },
  {
   "cell_type": "code",
   "execution_count": 751,
   "id": "52fcd557",
   "metadata": {},
   "outputs": [],
   "source": [
    "o1 = Skewness_acc_gyr_mag(s6_acc_run_chest_filt)\n",
    "o2 = Skewness_acc_gyr_mag(s6_acc_run_head_filt)\n",
    "o3 = Skewness_acc_gyr_mag(s6_acc_run_forearm_filt)\n",
    "o4 = Skewness_acc_gyr_mag(s6_acc_run_shin_filt)\n",
    "o5 = Skewness_acc_gyr_mag(s6_acc_run_thigh_filt)\n",
    "o6 = Skewness_acc_gyr_mag(s6_acc_run_upperarm_filt)\n",
    "o7 = Skewness_acc_gyr_mag(s6_acc_run_waist_filt)\n",
    "s6_run_skew = np.hstack((o1,o2,o3,o4,o5,o6,o7))"
   ]
  },
  {
   "cell_type": "code",
   "execution_count": 752,
   "id": "baf04851",
   "metadata": {},
   "outputs": [],
   "source": [
    "o1 = Skewness_acc_gyr_mag(s7_acc_run_chest_filt)\n",
    "o2 = Skewness_acc_gyr_mag(s7_acc_run_head_filt)\n",
    "o3 = Skewness_acc_gyr_mag(s7_acc_run_forearm_filt)\n",
    "o4 = Skewness_acc_gyr_mag(s7_acc_run_shin_filt)\n",
    "o5 = Skewness_acc_gyr_mag(s7_acc_run_thigh_filt)\n",
    "o6 = Skewness_acc_gyr_mag(s7_acc_run_upperarm_filt)\n",
    "o7 = Skewness_acc_gyr_mag(s7_acc_run_waist_filt)\n",
    "s7_run_skew = np.hstack((o1,o2,o3,o4,o5,o6,o7))"
   ]
  },
  {
   "cell_type": "code",
   "execution_count": 753,
   "id": "dba30bd4",
   "metadata": {},
   "outputs": [],
   "source": [
    "o1 = Skewness_acc_gyr_mag(s8_acc_run_chest_filt)\n",
    "o2 = Skewness_acc_gyr_mag(s8_acc_run_head_filt)\n",
    "o3 = Skewness_acc_gyr_mag(s8_acc_run_forearm_filt)\n",
    "o4 = Skewness_acc_gyr_mag(s8_acc_run_shin_filt)\n",
    "o5 = Skewness_acc_gyr_mag(s8_acc_run_thigh_filt)\n",
    "o6 = Skewness_acc_gyr_mag(s8_acc_run_upperarm_filt)\n",
    "o7 = Skewness_acc_gyr_mag(s8_acc_run_waist_filt)\n",
    "s8_run_skew = np.hstack((o1,o2,o3,o4,o5,o6,o7))"
   ]
  },
  {
   "cell_type": "code",
   "execution_count": 754,
   "id": "2fe0f858",
   "metadata": {},
   "outputs": [],
   "source": [
    "o1 = Skewness_acc_gyr_mag(s9_acc_run_chest_filt)\n",
    "o2 = Skewness_acc_gyr_mag(s9_acc_run_head_filt)\n",
    "o3 = Skewness_acc_gyr_mag(s9_acc_run_forearm_filt)\n",
    "o4 = Skewness_acc_gyr_mag(s9_acc_run_shin_filt)\n",
    "o5 = Skewness_acc_gyr_mag(s9_acc_run_thigh_filt)\n",
    "o6 = Skewness_acc_gyr_mag(s9_acc_run_upperarm_filt)\n",
    "o7 = Skewness_acc_gyr_mag(s9_acc_run_waist_filt)\n",
    "s9_run_skew = np.hstack((o1,o2,o3,o4,o5,o6,o7))"
   ]
  },
  {
   "cell_type": "code",
   "execution_count": 755,
   "id": "000fc7ab",
   "metadata": {},
   "outputs": [],
   "source": [
    "o1 = Skewness_acc_gyr_mag(s10_acc_run_chest_filt)\n",
    "o2 = Skewness_acc_gyr_mag(s10_acc_run_head_filt)\n",
    "o3 = Skewness_acc_gyr_mag(s10_acc_run_forearm_filt)\n",
    "o4 = Skewness_acc_gyr_mag(s10_acc_run_shin_filt)\n",
    "o5 = Skewness_acc_gyr_mag(s10_acc_run_thigh_filt)\n",
    "o6 = Skewness_acc_gyr_mag(s10_acc_run_upperarm_filt)\n",
    "o7 = Skewness_acc_gyr_mag(s10_acc_run_waist_filt)\n",
    "s10_run_skew = np.hstack((o1,o2,o3,o4,o5,o6,o7))"
   ]
  },
  {
   "cell_type": "code",
   "execution_count": 756,
   "id": "90b11872",
   "metadata": {},
   "outputs": [],
   "source": [
    "\n",
    "o1 = Skewness_acc_gyr_mag(s11_acc_run_chest_filt)\n",
    "o2 = Skewness_acc_gyr_mag(s11_acc_run_head_filt)\n",
    "o3 = Skewness_acc_gyr_mag(s11_acc_run_forearm_filt)\n",
    "o4 = Skewness_acc_gyr_mag(s11_acc_run_shin_filt)\n",
    "o5 = Skewness_acc_gyr_mag(s11_acc_run_thigh_filt)\n",
    "o6 = Skewness_acc_gyr_mag(s11_acc_run_upperarm_filt)\n",
    "o7 = Skewness_acc_gyr_mag(s11_acc_run_waist_filt)\n",
    "s11_run_skew = np.hstack((o1,o2,o3,o4,o5,o6,o7))\n"
   ]
  },
  {
   "cell_type": "code",
   "execution_count": 757,
   "id": "3902279e",
   "metadata": {},
   "outputs": [],
   "source": [
    "o1 = Skewness_acc_gyr_mag(s12_acc_run_chest_filt)\n",
    "o2 = Skewness_acc_gyr_mag(s12_acc_run_head_filt)\n",
    "o3 = Skewness_acc_gyr_mag(s12_acc_run_forearm_filt)\n",
    "o4 = Skewness_acc_gyr_mag(s12_acc_run_shin_filt)\n",
    "o5 = Skewness_acc_gyr_mag(s12_acc_run_thigh_filt)\n",
    "o6 = Skewness_acc_gyr_mag(s12_acc_run_upperarm_filt)\n",
    "o7 = Skewness_acc_gyr_mag(s12_acc_run_waist_filt)\n",
    "s12_run_skew = np.hstack((o1,o2,o3,o4,o5,o6,o7))\n"
   ]
  },
  {
   "cell_type": "code",
   "execution_count": 758,
   "id": "f7e3ad1c",
   "metadata": {},
   "outputs": [],
   "source": [
    "o1 = Skewness_acc_gyr_mag(s13_acc_run_chest_filt)\n",
    "o2 = Skewness_acc_gyr_mag(s13_acc_run_head_filt)\n",
    "o3 = Skewness_acc_gyr_mag(s13_acc_run_forearm_filt)\n",
    "o4 = Skewness_acc_gyr_mag(s13_acc_run_shin_filt)\n",
    "o5 = Skewness_acc_gyr_mag(s13_acc_run_thigh_filt)\n",
    "o6 = Skewness_acc_gyr_mag(s13_acc_run_upperarm_filt)\n",
    "o7 = Skewness_acc_gyr_mag(s13_acc_run_waist_filt)\n",
    "s13_run_skew = np.hstack((o1,o2,o3,o4,o5,o6,o7))"
   ]
  },
  {
   "cell_type": "code",
   "execution_count": 759,
   "id": "500eb047",
   "metadata": {},
   "outputs": [],
   "source": [
    "\n",
    "o1 = Skewness_acc_gyr_mag(s14_acc_run_chest_filt)\n",
    "o2 = Skewness_acc_gyr_mag(s14_acc_run_head_filt)\n",
    "o3 = Skewness_acc_gyr_mag(s14_acc_run_forearm_filt)\n",
    "o4 = Skewness_acc_gyr_mag(s14_acc_run_shin_filt)\n",
    "o5 = Skewness_acc_gyr_mag(s14_acc_run_thigh_filt)\n",
    "o6 = Skewness_acc_gyr_mag(s14_acc_run_upperarm_filt)\n",
    "o7 = Skewness_acc_gyr_mag(s14_acc_run_waist_filt)\n",
    "s14_run_skew = np.hstack((o1,o2,o3,o4,o5,o6,o7))"
   ]
  },
  {
   "cell_type": "code",
   "execution_count": 760,
   "id": "272ea690",
   "metadata": {},
   "outputs": [],
   "source": [
    "o1 = Skewness_acc_gyr_mag(s15_acc_run_chest_filt)\n",
    "o2 = Skewness_acc_gyr_mag(s15_acc_run_head_filt)\n",
    "o3 = Skewness_acc_gyr_mag(s15_acc_run_forearm_filt)\n",
    "o4 = Skewness_acc_gyr_mag(s15_acc_run_shin_filt)\n",
    "o5 = Skewness_acc_gyr_mag(s15_acc_run_thigh_filt)\n",
    "o6 = Skewness_acc_gyr_mag(s15_acc_run_upperarm_filt)\n",
    "o7 = Skewness_acc_gyr_mag(s15_acc_run_waist_filt)\n",
    "s15_run_skew = np.hstack((o1,o2,o3,o4,o5,o6,o7))"
   ]
  },
  {
   "cell_type": "code",
   "execution_count": 761,
   "id": "b397b3b4",
   "metadata": {},
   "outputs": [],
   "source": [
    "run_skew = []\n",
    "run_skew.append(s1_run_skew)\n",
    "run_skew.append(s2_run_skew)\n",
    "run_skew.append(s3_run_skew)\n",
    "run_skew.append(s4_run_skew)\n",
    "run_skew.append(s5_run_skew)\n",
    "run_skew.append(s6_run_skew)\n",
    "run_skew.append(s7_run_skew)\n",
    "run_skew.append(s8_run_skew)\n",
    "run_skew.append(s9_run_skew)\n",
    "run_skew.append(s10_run_skew)\n",
    "run_skew.append(s11_run_skew)\n",
    "run_skew.append(s12_run_skew)\n",
    "run_skew.append(s13_run_skew)\n",
    "run_skew.append(s14_run_skew)\n",
    "run_skew.append(s15_run_skew)"
   ]
  },
  {
   "cell_type": "code",
   "execution_count": 762,
   "id": "871cb8e9",
   "metadata": {},
   "outputs": [],
   "source": [
    "#fft minmaxdiff for running"
   ]
  },
  {
   "cell_type": "code",
   "execution_count": 763,
   "id": "b7d8b791",
   "metadata": {},
   "outputs": [],
   "source": [
    "o1 = Fft_MaxMinDiff_acc_gyr_mag(s1_acc_run_chest_filt)\n",
    "o2 = Fft_MaxMinDiff_acc_gyr_mag(s1_acc_run_head_filt)\n",
    "o3 = Fft_MaxMinDiff_acc_gyr_mag(s1_acc_run_forearm_filt)\n",
    "o4 = Fft_MaxMinDiff_acc_gyr_mag(s1_acc_run_shin_filt)\n",
    "o5 = Fft_MaxMinDiff_acc_gyr_mag(s1_acc_run_thigh_filt)\n",
    "o6 = Fft_MaxMinDiff_acc_gyr_mag(s1_acc_run_upperarm_filt)\n",
    "o7 = Fft_MaxMinDiff_acc_gyr_mag(s1_acc_run_waist_filt)\n",
    "s1_run_FD = np.hstack((o1,o2,o3,o4,o5,o6,o7))"
   ]
  },
  {
   "cell_type": "code",
   "execution_count": 764,
   "id": "fec4e4c4",
   "metadata": {},
   "outputs": [],
   "source": [
    "o1 = Fft_MaxMinDiff_acc_gyr_mag(s2_acc_run_chest_filt)\n",
    "o2 = Fft_MaxMinDiff_acc_gyr_mag(s2_acc_run_head_filt)\n",
    "o3 = Fft_MaxMinDiff_acc_gyr_mag(s2_acc_run_forearm_filt)\n",
    "o4 = Fft_MaxMinDiff_acc_gyr_mag(s2_acc_run_shin_filt)\n",
    "o5 = Fft_MaxMinDiff_acc_gyr_mag(s2_acc_run_thigh_filt)\n",
    "o6 = Fft_MaxMinDiff_acc_gyr_mag(s2_acc_run_upperarm_filt)\n",
    "o7 = Fft_MaxMinDiff_acc_gyr_mag(s2_acc_run_waist_filt)\n",
    "\n",
    "s2_run_FD = np.hstack((o1,o2,o3,o4,o5,o6,o7))"
   ]
  },
  {
   "cell_type": "code",
   "execution_count": 765,
   "id": "451702bf",
   "metadata": {},
   "outputs": [],
   "source": [
    "o1 = Fft_MaxMinDiff_acc_gyr_mag(s3_acc_run_chest_filt)\n",
    "o2 = Fft_MaxMinDiff_acc_gyr_mag(s3_acc_run_head_filt)\n",
    "o3 = Fft_MaxMinDiff_acc_gyr_mag(s3_acc_run_forearm_filt)\n",
    "o4 = Fft_MaxMinDiff_acc_gyr_mag(s3_acc_run_shin_filt)\n",
    "o5 = Fft_MaxMinDiff_acc_gyr_mag(s3_acc_run_thigh_filt)\n",
    "o6 = Fft_MaxMinDiff_acc_gyr_mag(s3_acc_run_upperarm_filt)\n",
    "o7 = Fft_MaxMinDiff_acc_gyr_mag(s3_acc_run_waist_filt)\n",
    "s3_run_FD = np.hstack((o1,o2,o3,o4,o5,o6,o7))"
   ]
  },
  {
   "cell_type": "code",
   "execution_count": 766,
   "id": "d7b46f08",
   "metadata": {},
   "outputs": [],
   "source": [
    "o1 = Fft_MaxMinDiff_acc_gyr_mag(s4_acc_run_chest_filt)\n",
    "o2 = Fft_MaxMinDiff_acc_gyr_mag(s4_acc_run_head_filt)\n",
    "o3 = Fft_MaxMinDiff_acc_gyr_mag(s4_acc_run_forearm_filt)\n",
    "o4 = Fft_MaxMinDiff_acc_gyr_mag(s4_acc_run_shin_filt)\n",
    "o5 = Fft_MaxMinDiff_acc_gyr_mag(s4_acc_run_thigh_filt)\n",
    "o6 = Fft_MaxMinDiff_acc_gyr_mag(s4_acc_run_upperarm_filt)\n",
    "o7 = Fft_MaxMinDiff_acc_gyr_mag(s4_acc_run_waist_filt)\n",
    "s4_run_FD = np.hstack((o1,o2,o3,o4,o5,o6,o7))\n"
   ]
  },
  {
   "cell_type": "code",
   "execution_count": 767,
   "id": "f297465f",
   "metadata": {},
   "outputs": [],
   "source": [
    "o1 = Fft_MaxMinDiff_acc_gyr_mag(s5_acc_run_chest_filt)\n",
    "o2 = Fft_MaxMinDiff_acc_gyr_mag(s5_acc_run_head_filt)\n",
    "o3 = Fft_MaxMinDiff_acc_gyr_mag(s5_acc_run_forearm_filt)\n",
    "o4 = Fft_MaxMinDiff_acc_gyr_mag(s5_acc_run_shin_filt)\n",
    "o5 = Fft_MaxMinDiff_acc_gyr_mag(s5_acc_run_thigh_filt)\n",
    "o6 = Fft_MaxMinDiff_acc_gyr_mag(s5_acc_run_upperarm_filt)\n",
    "o7 = Fft_MaxMinDiff_acc_gyr_mag(s5_acc_run_waist_filt)\n",
    "s5_run_FD = np.hstack((o1,o2,o3,o4,o5,o6,o7))\n"
   ]
  },
  {
   "cell_type": "code",
   "execution_count": 768,
   "id": "24f47f61",
   "metadata": {},
   "outputs": [],
   "source": [
    "o1 = Fft_MaxMinDiff_acc_gyr_mag(s6_acc_run_chest_filt)\n",
    "o2 = Fft_MaxMinDiff_acc_gyr_mag(s6_acc_run_head_filt)\n",
    "o3 = Fft_MaxMinDiff_acc_gyr_mag(s6_acc_run_forearm_filt)\n",
    "o4 = Fft_MaxMinDiff_acc_gyr_mag(s6_acc_run_shin_filt)\n",
    "o5 = Fft_MaxMinDiff_acc_gyr_mag(s6_acc_run_thigh_filt)\n",
    "o6 = Fft_MaxMinDiff_acc_gyr_mag(s6_acc_run_upperarm_filt)\n",
    "o7 = Fft_MaxMinDiff_acc_gyr_mag(s6_acc_run_waist_filt)\n",
    "s6_run_FD = np.hstack((o1,o2,o3,o4,o5,o6,o7))"
   ]
  },
  {
   "cell_type": "code",
   "execution_count": 769,
   "id": "d0be97a4",
   "metadata": {},
   "outputs": [],
   "source": [
    "o1 = Fft_MaxMinDiff_acc_gyr_mag(s7_acc_run_chest_filt)\n",
    "o2 = Fft_MaxMinDiff_acc_gyr_mag(s7_acc_run_head_filt)\n",
    "o3 = Fft_MaxMinDiff_acc_gyr_mag(s7_acc_run_forearm_filt)\n",
    "o4 = Fft_MaxMinDiff_acc_gyr_mag(s7_acc_run_shin_filt)\n",
    "o5 = Fft_MaxMinDiff_acc_gyr_mag(s7_acc_run_thigh_filt)\n",
    "o6 = Fft_MaxMinDiff_acc_gyr_mag(s7_acc_run_upperarm_filt)\n",
    "o7 = Fft_MaxMinDiff_acc_gyr_mag(s7_acc_run_waist_filt)\n",
    "s7_run_FD = np.hstack((o1,o2,o3,o4,o5,o6,o7))"
   ]
  },
  {
   "cell_type": "code",
   "execution_count": 770,
   "id": "f7c21887",
   "metadata": {},
   "outputs": [],
   "source": [
    "o1 = Fft_MaxMinDiff_acc_gyr_mag(s8_acc_run_chest_filt)\n",
    "o2 = Fft_MaxMinDiff_acc_gyr_mag(s8_acc_run_head_filt)\n",
    "o3 = Fft_MaxMinDiff_acc_gyr_mag(s8_acc_run_forearm_filt)\n",
    "o4 = Fft_MaxMinDiff_acc_gyr_mag(s8_acc_run_shin_filt)\n",
    "o5 = Fft_MaxMinDiff_acc_gyr_mag(s8_acc_run_thigh_filt)\n",
    "o6 = Fft_MaxMinDiff_acc_gyr_mag(s8_acc_run_upperarm_filt)\n",
    "o7 = Fft_MaxMinDiff_acc_gyr_mag(s8_acc_run_waist_filt)\n",
    "s8_run_FD = np.hstack((o1,o2,o3,o4,o5,o6,o7))"
   ]
  },
  {
   "cell_type": "code",
   "execution_count": 771,
   "id": "884e81ba",
   "metadata": {},
   "outputs": [],
   "source": [
    "o1 = Fft_MaxMinDiff_acc_gyr_mag(s9_acc_run_chest_filt)\n",
    "o2 = Fft_MaxMinDiff_acc_gyr_mag(s9_acc_run_head_filt)\n",
    "o3 = Fft_MaxMinDiff_acc_gyr_mag(s9_acc_run_forearm_filt)\n",
    "o4 = Fft_MaxMinDiff_acc_gyr_mag(s9_acc_run_shin_filt)\n",
    "o5 = Fft_MaxMinDiff_acc_gyr_mag(s9_acc_run_thigh_filt)\n",
    "o6 = Fft_MaxMinDiff_acc_gyr_mag(s9_acc_run_upperarm_filt)\n",
    "o7 = Fft_MaxMinDiff_acc_gyr_mag(s9_acc_run_waist_filt)\n",
    "s9_run_FD = np.hstack((o1,o2,o3,o4,o5,o6,o7))"
   ]
  },
  {
   "cell_type": "code",
   "execution_count": 772,
   "id": "5c55f2a0",
   "metadata": {},
   "outputs": [],
   "source": [
    "o1 = Fft_MaxMinDiff_acc_gyr_mag(s10_acc_run_chest_filt)\n",
    "o2 = Fft_MaxMinDiff_acc_gyr_mag(s10_acc_run_head_filt)\n",
    "o3 = Fft_MaxMinDiff_acc_gyr_mag(s10_acc_run_forearm_filt)\n",
    "o4 = Fft_MaxMinDiff_acc_gyr_mag(s10_acc_run_shin_filt)\n",
    "o5 = Fft_MaxMinDiff_acc_gyr_mag(s10_acc_run_thigh_filt)\n",
    "o6 = Fft_MaxMinDiff_acc_gyr_mag(s10_acc_run_upperarm_filt)\n",
    "o7 = Fft_MaxMinDiff_acc_gyr_mag(s10_acc_run_waist_filt)\n",
    "s10_run_FD = np.hstack((o1,o2,o3,o4,o5,o6,o7))"
   ]
  },
  {
   "cell_type": "code",
   "execution_count": 773,
   "id": "d48c65fb",
   "metadata": {},
   "outputs": [],
   "source": [
    "o1 = Fft_MaxMinDiff_acc_gyr_mag(s11_acc_run_chest_filt)\n",
    "o2 = Fft_MaxMinDiff_acc_gyr_mag(s11_acc_run_head_filt)\n",
    "o3 = Fft_MaxMinDiff_acc_gyr_mag(s11_acc_run_forearm_filt)\n",
    "o4 = Fft_MaxMinDiff_acc_gyr_mag(s11_acc_run_shin_filt)\n",
    "o5 = Fft_MaxMinDiff_acc_gyr_mag(s11_acc_run_thigh_filt)\n",
    "o6 = Fft_MaxMinDiff_acc_gyr_mag(s11_acc_run_upperarm_filt)\n",
    "o7 = Fft_MaxMinDiff_acc_gyr_mag(s11_acc_run_waist_filt)\n",
    "s11_run_FD = np.hstack((o1,o2,o3,o4,o5,o6,o7))"
   ]
  },
  {
   "cell_type": "code",
   "execution_count": 774,
   "id": "7afa0ea7",
   "metadata": {},
   "outputs": [],
   "source": [
    "o1 = Fft_MaxMinDiff_acc_gyr_mag(s12_acc_run_chest_filt)\n",
    "o2 = Fft_MaxMinDiff_acc_gyr_mag(s12_acc_run_head_filt)\n",
    "o3 = Fft_MaxMinDiff_acc_gyr_mag(s12_acc_run_forearm_filt)\n",
    "o4 = Fft_MaxMinDiff_acc_gyr_mag(s12_acc_run_shin_filt)\n",
    "o5 = Fft_MaxMinDiff_acc_gyr_mag(s12_acc_run_thigh_filt)\n",
    "o6 = Fft_MaxMinDiff_acc_gyr_mag(s12_acc_run_upperarm_filt)\n",
    "o7 = Fft_MaxMinDiff_acc_gyr_mag(s12_acc_run_waist_filt)\n",
    "s12_run_FD = np.hstack((o1,o2,o3,o4,o5,o6,o7))"
   ]
  },
  {
   "cell_type": "code",
   "execution_count": 775,
   "id": "558b2e3c",
   "metadata": {},
   "outputs": [],
   "source": [
    "o1 = Fft_MaxMinDiff_acc_gyr_mag(s13_acc_run_chest_filt)\n",
    "o2 = Fft_MaxMinDiff_acc_gyr_mag(s13_acc_run_head_filt)\n",
    "o3 = Fft_MaxMinDiff_acc_gyr_mag(s13_acc_run_forearm_filt)\n",
    "o4 = Fft_MaxMinDiff_acc_gyr_mag(s13_acc_run_shin_filt)\n",
    "o5 = Fft_MaxMinDiff_acc_gyr_mag(s13_acc_run_thigh_filt)\n",
    "o6 = Fft_MaxMinDiff_acc_gyr_mag(s13_acc_run_upperarm_filt)\n",
    "o7 = Fft_MaxMinDiff_acc_gyr_mag(s13_acc_run_waist_filt)\n",
    "s13_run_FD = np.hstack((o1,o2,o3,o4,o5,o6,o7))"
   ]
  },
  {
   "cell_type": "code",
   "execution_count": 776,
   "id": "6e298083",
   "metadata": {},
   "outputs": [],
   "source": [
    "o1 = Fft_MaxMinDiff_acc_gyr_mag(s14_acc_run_chest_filt)\n",
    "o2 = Fft_MaxMinDiff_acc_gyr_mag(s14_acc_run_head_filt)\n",
    "o3 = Fft_MaxMinDiff_acc_gyr_mag(s14_acc_run_forearm_filt)\n",
    "o4 = Fft_MaxMinDiff_acc_gyr_mag(s14_acc_run_shin_filt)\n",
    "o5 = Fft_MaxMinDiff_acc_gyr_mag(s14_acc_run_thigh_filt)\n",
    "o6 = Fft_MaxMinDiff_acc_gyr_mag(s14_acc_run_upperarm_filt)\n",
    "o7 = Fft_MaxMinDiff_acc_gyr_mag(s14_acc_run_waist_filt)\n",
    "s14_run_FD = np.hstack((o1,o2,o3,o4,o5,o6,o7))"
   ]
  },
  {
   "cell_type": "code",
   "execution_count": 777,
   "id": "8ff38a57",
   "metadata": {},
   "outputs": [],
   "source": [
    "o1 = Fft_MaxMinDiff_acc_gyr_mag(s15_acc_run_chest_filt)\n",
    "o2 = Fft_MaxMinDiff_acc_gyr_mag(s15_acc_run_head_filt)\n",
    "o3 = Fft_MaxMinDiff_acc_gyr_mag(s15_acc_run_forearm_filt)\n",
    "o4 = Fft_MaxMinDiff_acc_gyr_mag(s15_acc_run_shin_filt)\n",
    "o5 = Fft_MaxMinDiff_acc_gyr_mag(s15_acc_run_thigh_filt)\n",
    "o6 = Fft_MaxMinDiff_acc_gyr_mag(s15_acc_run_upperarm_filt)\n",
    "o7 = Fft_MaxMinDiff_acc_gyr_mag(s15_acc_run_waist_filt)\n",
    "s15_run_FD = np.hstack((o1,o2,o3,o4,o5,o6,o7))"
   ]
  },
  {
   "cell_type": "code",
   "execution_count": 778,
   "id": "f516d6a2",
   "metadata": {},
   "outputs": [],
   "source": [
    "run_FD = []\n",
    "run_FD.append(s1_run_FD)\n",
    "run_FD.append(s2_run_FD)\n",
    "run_FD.append(s3_run_FD)\n",
    "run_FD.append(s4_run_FD)\n",
    "run_FD.append(s5_run_FD)\n",
    "run_FD.append(s6_run_FD)\n",
    "run_FD.append(s7_run_FD)\n",
    "run_FD.append(s8_run_FD)\n",
    "run_FD.append(s9_run_FD)\n",
    "run_FD.append(s10_run_FD)\n",
    "run_FD.append(s11_run_FD)\n",
    "run_FD.append(s12_run_FD)\n",
    "run_FD.append(s13_run_FD)\n",
    "run_FD.append(s14_run_FD)\n",
    "run_FD.append(s15_run_FD)\n"
   ]
  },
  {
   "cell_type": "code",
   "execution_count": 779,
   "id": "7d2be9a3",
   "metadata": {},
   "outputs": [],
   "source": [
    "#fft minmax ratio for running"
   ]
  },
  {
   "cell_type": "code",
   "execution_count": 780,
   "id": "31118a37",
   "metadata": {},
   "outputs": [],
   "source": [
    "o1 = Fft_MaxMinRatio_acc_gyr_mag(s1_acc_run_chest_filt)\n",
    "o2 = Fft_MaxMinRatio_acc_gyr_mag(s1_acc_run_head_filt)\n",
    "o3 = Fft_MaxMinRatio_acc_gyr_mag(s1_acc_run_forearm_filt)\n",
    "o4 = Fft_MaxMinRatio_acc_gyr_mag(s1_acc_run_shin_filt)\n",
    "o5 = Fft_MaxMinRatio_acc_gyr_mag(s1_acc_run_thigh_filt)\n",
    "o6 = Fft_MaxMinRatio_acc_gyr_mag(s1_acc_run_upperarm_filt)\n",
    "o7 = Fft_MaxMinRatio_acc_gyr_mag(s1_acc_run_waist_filt)\n",
    "s1_run_FR = np.hstack((o1,o2,o3,o4,o5,o6,o7))"
   ]
  },
  {
   "cell_type": "code",
   "execution_count": 781,
   "id": "f3aaa656",
   "metadata": {},
   "outputs": [],
   "source": [
    "o1 = Fft_MaxMinRatio_acc_gyr_mag(s2_acc_run_chest_filt)\n",
    "o2 = Fft_MaxMinRatio_acc_gyr_mag(s2_acc_run_head_filt)\n",
    "o3 = Fft_MaxMinRatio_acc_gyr_mag(s2_acc_run_forearm_filt)\n",
    "o4 = Fft_MaxMinRatio_acc_gyr_mag(s2_acc_run_shin_filt)\n",
    "o5 = Fft_MaxMinRatio_acc_gyr_mag(s2_acc_run_thigh_filt)\n",
    "o6 = Fft_MaxMinRatio_acc_gyr_mag(s2_acc_run_upperarm_filt)\n",
    "o7 = Fft_MaxMinRatio_acc_gyr_mag(s2_acc_run_waist_filt)\n",
    "s2_run_FR = np.hstack((o1,o2,o3,o4,o5,o6,o7))"
   ]
  },
  {
   "cell_type": "code",
   "execution_count": 782,
   "id": "014f0c61",
   "metadata": {},
   "outputs": [],
   "source": [
    "o1 = Fft_MaxMinRatio_acc_gyr_mag(s3_acc_run_chest_filt)\n",
    "o2 = Fft_MaxMinRatio_acc_gyr_mag(s3_acc_run_head_filt)\n",
    "o3 = Fft_MaxMinRatio_acc_gyr_mag(s3_acc_run_forearm_filt)\n",
    "o4 = Fft_MaxMinRatio_acc_gyr_mag(s3_acc_run_shin_filt)\n",
    "o5 = Fft_MaxMinRatio_acc_gyr_mag(s3_acc_run_thigh_filt)\n",
    "o6 = Fft_MaxMinRatio_acc_gyr_mag(s3_acc_run_upperarm_filt)\n",
    "o7 = Fft_MaxMinRatio_acc_gyr_mag(s3_acc_run_waist_filt)\n",
    "s3_run_FR = np.hstack((o1,o2,o3,o4,o5,o6,o7))"
   ]
  },
  {
   "cell_type": "code",
   "execution_count": 783,
   "id": "67f75f24",
   "metadata": {},
   "outputs": [],
   "source": [
    "o1 = Fft_MaxMinRatio_acc_gyr_mag(s4_acc_run_chest_filt)\n",
    "o2 = Fft_MaxMinRatio_acc_gyr_mag(s4_acc_run_head_filt)\n",
    "o3 = Fft_MaxMinRatio_acc_gyr_mag(s4_acc_run_forearm_filt)\n",
    "o4 = Fft_MaxMinRatio_acc_gyr_mag(s4_acc_run_shin_filt)\n",
    "o5 = Fft_MaxMinRatio_acc_gyr_mag(s4_acc_run_thigh_filt)\n",
    "o6 = Fft_MaxMinRatio_acc_gyr_mag(s4_acc_run_upperarm_filt)\n",
    "o7 = Fft_MaxMinRatio_acc_gyr_mag(s4_acc_run_waist_filt)\n",
    "s4_run_FR = np.hstack((o1,o2,o3,o4,o5,o6,o7))"
   ]
  },
  {
   "cell_type": "code",
   "execution_count": 784,
   "id": "589a470d",
   "metadata": {},
   "outputs": [],
   "source": [
    "o1 = Fft_MaxMinRatio_acc_gyr_mag(s5_acc_run_chest_filt)\n",
    "o2 = Fft_MaxMinRatio_acc_gyr_mag(s5_acc_run_head_filt)\n",
    "o3 = Fft_MaxMinRatio_acc_gyr_mag(s5_acc_run_forearm_filt)\n",
    "o4 = Fft_MaxMinRatio_acc_gyr_mag(s5_acc_run_shin_filt)\n",
    "o5 = Fft_MaxMinRatio_acc_gyr_mag(s5_acc_run_thigh_filt)\n",
    "o6 = Fft_MaxMinRatio_acc_gyr_mag(s5_acc_run_upperarm_filt)\n",
    "o7 = Fft_MaxMinRatio_acc_gyr_mag(s5_acc_run_waist_filt)\n",
    "s5_run_FR = np.hstack((o1,o2,o3,o4,o5,o6,o7))"
   ]
  },
  {
   "cell_type": "code",
   "execution_count": 785,
   "id": "2dbaf0e4",
   "metadata": {},
   "outputs": [],
   "source": [
    "o1 = Fft_MaxMinRatio_acc_gyr_mag(s6_acc_run_chest_filt)\n",
    "o2 = Fft_MaxMinRatio_acc_gyr_mag(s6_acc_run_head_filt)\n",
    "o3 = Fft_MaxMinRatio_acc_gyr_mag(s6_acc_run_forearm_filt)\n",
    "o4 = Fft_MaxMinRatio_acc_gyr_mag(s6_acc_run_shin_filt)\n",
    "o5 = Fft_MaxMinRatio_acc_gyr_mag(s6_acc_run_thigh_filt)\n",
    "o6 = Fft_MaxMinRatio_acc_gyr_mag(s6_acc_run_upperarm_filt)\n",
    "o7 = Fft_MaxMinRatio_acc_gyr_mag(s6_acc_run_waist_filt)\n",
    "s6_run_FR = np.hstack((o1,o2,o3,o4,o5,o6,o7))"
   ]
  },
  {
   "cell_type": "code",
   "execution_count": 786,
   "id": "39d01641",
   "metadata": {},
   "outputs": [],
   "source": [
    "o1 = Fft_MaxMinRatio_acc_gyr_mag(s7_acc_run_chest_filt)\n",
    "o2 = Fft_MaxMinRatio_acc_gyr_mag(s7_acc_run_head_filt)\n",
    "o3 = Fft_MaxMinRatio_acc_gyr_mag(s7_acc_run_forearm_filt)\n",
    "o4 = Fft_MaxMinRatio_acc_gyr_mag(s7_acc_run_shin_filt)\n",
    "o5 = Fft_MaxMinRatio_acc_gyr_mag(s7_acc_run_thigh_filt)\n",
    "o6 = Fft_MaxMinRatio_acc_gyr_mag(s7_acc_run_upperarm_filt)\n",
    "o7 = Fft_MaxMinRatio_acc_gyr_mag(s7_acc_run_waist_filt)\n",
    "s7_run_FR = np.hstack((o1,o2,o3,o4,o5,o6,o7))"
   ]
  },
  {
   "cell_type": "code",
   "execution_count": 787,
   "id": "defc071c",
   "metadata": {},
   "outputs": [],
   "source": [
    "o1 = Fft_MaxMinRatio_acc_gyr_mag(s8_acc_run_chest_filt)\n",
    "o2 = Fft_MaxMinRatio_acc_gyr_mag(s8_acc_run_head_filt)\n",
    "o3 = Fft_MaxMinRatio_acc_gyr_mag(s8_acc_run_forearm_filt)\n",
    "o4 = Fft_MaxMinRatio_acc_gyr_mag(s8_acc_run_shin_filt)\n",
    "o5 = Fft_MaxMinRatio_acc_gyr_mag(s8_acc_run_thigh_filt)\n",
    "o6 = Fft_MaxMinRatio_acc_gyr_mag(s8_acc_run_upperarm_filt)\n",
    "o7 = Fft_MaxMinRatio_acc_gyr_mag(s8_acc_run_waist_filt)\n",
    "s8_run_FR = np.hstack((o1,o2,o3,o4,o5,o6,o7))"
   ]
  },
  {
   "cell_type": "code",
   "execution_count": 788,
   "id": "9c988faf",
   "metadata": {},
   "outputs": [],
   "source": [
    "o1 = Fft_MaxMinRatio_acc_gyr_mag(s9_acc_run_chest_filt)\n",
    "o2 = Fft_MaxMinRatio_acc_gyr_mag(s9_acc_run_head_filt)\n",
    "o3 = Fft_MaxMinRatio_acc_gyr_mag(s9_acc_run_forearm_filt)\n",
    "o4 = Fft_MaxMinRatio_acc_gyr_mag(s9_acc_run_shin_filt)\n",
    "o5 = Fft_MaxMinRatio_acc_gyr_mag(s9_acc_run_thigh_filt)\n",
    "o6 = Fft_MaxMinRatio_acc_gyr_mag(s9_acc_run_upperarm_filt)\n",
    "o7 = Fft_MaxMinRatio_acc_gyr_mag(s9_acc_run_waist_filt)\n",
    "s9_run_FR = np.hstack((o1,o2,o3,o4,o5,o6,o7))"
   ]
  },
  {
   "cell_type": "code",
   "execution_count": 789,
   "id": "fc380eed",
   "metadata": {},
   "outputs": [],
   "source": [
    "o1 = Fft_MaxMinRatio_acc_gyr_mag(s10_acc_run_chest_filt)\n",
    "o2 = Fft_MaxMinRatio_acc_gyr_mag(s10_acc_run_head_filt)\n",
    "o3 = Fft_MaxMinRatio_acc_gyr_mag(s10_acc_run_forearm_filt)\n",
    "o4 = Fft_MaxMinRatio_acc_gyr_mag(s10_acc_run_shin_filt)\n",
    "o5 = Fft_MaxMinRatio_acc_gyr_mag(s10_acc_run_thigh_filt)\n",
    "o6 = Fft_MaxMinRatio_acc_gyr_mag(s10_acc_run_upperarm_filt)\n",
    "o7 = Fft_MaxMinRatio_acc_gyr_mag(s10_acc_run_waist_filt)\n",
    "s10_run_FR = np.hstack((o1,o2,o3,o4,o5,o6,o7))"
   ]
  },
  {
   "cell_type": "code",
   "execution_count": 790,
   "id": "311932a8",
   "metadata": {},
   "outputs": [],
   "source": [
    "o1 = Fft_MaxMinRatio_acc_gyr_mag(s11_acc_run_chest_filt)\n",
    "o2 = Fft_MaxMinRatio_acc_gyr_mag(s11_acc_run_head_filt)\n",
    "o3 = Fft_MaxMinRatio_acc_gyr_mag(s11_acc_run_forearm_filt)\n",
    "o4 = Fft_MaxMinRatio_acc_gyr_mag(s11_acc_run_shin_filt)\n",
    "o5 = Fft_MaxMinRatio_acc_gyr_mag(s11_acc_run_thigh_filt)\n",
    "o6 = Fft_MaxMinRatio_acc_gyr_mag(s11_acc_run_upperarm_filt)\n",
    "o7 = Fft_MaxMinRatio_acc_gyr_mag(s11_acc_run_waist_filt)\n",
    "s11_run_FR = np.hstack((o1,o2,o3,o4,o5,o6,o7))"
   ]
  },
  {
   "cell_type": "code",
   "execution_count": 791,
   "id": "74a60d23",
   "metadata": {},
   "outputs": [],
   "source": [
    "o1 = Fft_MaxMinRatio_acc_gyr_mag(s12_acc_run_chest_filt)\n",
    "o2 = Fft_MaxMinRatio_acc_gyr_mag(s12_acc_run_head_filt)\n",
    "o3 = Fft_MaxMinRatio_acc_gyr_mag(s12_acc_run_forearm_filt)\n",
    "o4 = Fft_MaxMinRatio_acc_gyr_mag(s12_acc_run_shin_filt)\n",
    "o5 = Fft_MaxMinRatio_acc_gyr_mag(s12_acc_run_thigh_filt)\n",
    "o6 = Fft_MaxMinRatio_acc_gyr_mag(s12_acc_run_upperarm_filt)\n",
    "o7 = Fft_MaxMinRatio_acc_gyr_mag(s12_acc_run_waist_filt)\n",
    "s12_run_FR = np.hstack((o1,o2,o3,o4,o5,o6,o7))"
   ]
  },
  {
   "cell_type": "code",
   "execution_count": 792,
   "id": "cb82fa72",
   "metadata": {},
   "outputs": [],
   "source": [
    "o1 = Fft_MaxMinRatio_acc_gyr_mag(s13_acc_run_chest_filt)\n",
    "o2 = Fft_MaxMinRatio_acc_gyr_mag(s13_acc_run_head_filt)\n",
    "o3 = Fft_MaxMinRatio_acc_gyr_mag(s13_acc_run_forearm_filt)\n",
    "o4 = Fft_MaxMinRatio_acc_gyr_mag(s13_acc_run_shin_filt)\n",
    "o5 = Fft_MaxMinRatio_acc_gyr_mag(s13_acc_run_thigh_filt)\n",
    "o6 = Fft_MaxMinRatio_acc_gyr_mag(s13_acc_run_upperarm_filt)\n",
    "o7 = Fft_MaxMinRatio_acc_gyr_mag(s13_acc_run_waist_filt)\n",
    "s13_run_FR = np.hstack((o1,o2,o3,o4,o5,o6,o7))"
   ]
  },
  {
   "cell_type": "code",
   "execution_count": 793,
   "id": "260043f4",
   "metadata": {},
   "outputs": [],
   "source": [
    "o1 = Fft_MaxMinRatio_acc_gyr_mag(s14_acc_run_chest_filt)\n",
    "o2 = Fft_MaxMinRatio_acc_gyr_mag(s14_acc_run_head_filt)\n",
    "o3 = Fft_MaxMinRatio_acc_gyr_mag(s14_acc_run_forearm_filt)\n",
    "o4 = Fft_MaxMinRatio_acc_gyr_mag(s14_acc_run_shin_filt)\n",
    "o5 = Fft_MaxMinRatio_acc_gyr_mag(s14_acc_run_thigh_filt)\n",
    "o6 = Fft_MaxMinRatio_acc_gyr_mag(s14_acc_run_upperarm_filt)\n",
    "o7 = Fft_MaxMinRatio_acc_gyr_mag(s14_acc_run_waist_filt)\n",
    "s14_run_FR = np.hstack((o1,o2,o3,o4,o5,o6,o7))"
   ]
  },
  {
   "cell_type": "code",
   "execution_count": 794,
   "id": "ea503562",
   "metadata": {},
   "outputs": [],
   "source": [
    "o1 = Fft_MaxMinRatio_acc_gyr_mag(s15_acc_run_chest_filt)\n",
    "o2 = Fft_MaxMinRatio_acc_gyr_mag(s15_acc_run_head_filt)\n",
    "o3 = Fft_MaxMinRatio_acc_gyr_mag(s15_acc_run_forearm_filt)\n",
    "o4 = Fft_MaxMinRatio_acc_gyr_mag(s15_acc_run_shin_filt)\n",
    "o5 = Fft_MaxMinRatio_acc_gyr_mag(s15_acc_run_thigh_filt)\n",
    "o6 = Fft_MaxMinRatio_acc_gyr_mag(s15_acc_run_upperarm_filt)\n",
    "o7 = Fft_MaxMinRatio_acc_gyr_mag(s15_acc_run_waist_filt)\n",
    "s15_run_FR = np.hstack((o1,o2,o3,o4,o5,o6,o7))"
   ]
  },
  {
   "cell_type": "code",
   "execution_count": 795,
   "id": "79a7116d",
   "metadata": {},
   "outputs": [],
   "source": [
    "run_FR = []\n",
    "run_FR.append(s1_run_FR)\n",
    "run_FR.append(s2_run_FR)\n",
    "run_FR.append(s3_run_FR)\n",
    "run_FR.append(s4_run_FR)\n",
    "run_FR.append(s5_run_FR)\n",
    "run_FR.append(s6_run_FR)\n",
    "run_FR.append(s7_run_FR)\n",
    "run_FR.append(s8_run_FR)\n",
    "run_FR.append(s9_run_FR)\n",
    "run_FR.append(s10_run_FR)\n",
    "run_FR.append(s11_run_FR)\n",
    "run_FR.append(s12_run_FR)\n",
    "run_FR.append(s13_run_FR)\n",
    "run_FR.append(s14_run_FR)\n",
    "run_FR.append(s15_run_FR)"
   ]
  },
  {
   "cell_type": "code",
   "execution_count": 796,
   "id": "e1adb718",
   "metadata": {},
   "outputs": [],
   "source": [
    "run_features = [1]*15\n",
    "\n",
    "for i in range(15):\n",
    "    run_features[i] = np.concatenate((run_parseval[i],run_skew[i],run_FD[i],run_FR[i]))\n",
    "    "
   ]
  },
  {
   "cell_type": "code",
   "execution_count": 797,
   "id": "5d8b2bce",
   "metadata": {},
   "outputs": [],
   "source": [
    "#parseval for sitting"
   ]
  },
  {
   "cell_type": "code",
   "execution_count": 798,
   "id": "537b773b",
   "metadata": {},
   "outputs": [],
   "source": [
    "o1 = Parseval_acc_gyr_mag(s1_acc_sit_chest_filt)\n",
    "o2 = Parseval_acc_gyr_mag(s1_acc_sit_head_filt)\n",
    "o3 = Parseval_acc_gyr_mag(s1_acc_sit_forearm_filt)\n",
    "o4 = Parseval_acc_gyr_mag(s1_acc_sit_shin_filt)\n",
    "o5 = Parseval_acc_gyr_mag(s1_acc_sit_thigh_filt)\n",
    "o6 = Parseval_acc_gyr_mag(s1_acc_sit_upperarm_filt)\n",
    "o7 = Parseval_acc_gyr_mag(s1_acc_sit_waist_filt)\n",
    "s1_sit_parseval = np.hstack((o1,o2,o3,o4,o5,o6,o7))\n"
   ]
  },
  {
   "cell_type": "code",
   "execution_count": 799,
   "id": "dae83f37",
   "metadata": {},
   "outputs": [],
   "source": [
    "o1 = Parseval_acc_gyr_mag(s2_acc_sit_chest_filt)\n",
    "o2 = Parseval_acc_gyr_mag(s2_acc_sit_head_filt)\n",
    "o3 = Parseval_acc_gyr_mag(s2_acc_sit_forearm_filt)\n",
    "o4 = Parseval_acc_gyr_mag(s2_acc_sit_shin_filt)\n",
    "o5 = Parseval_acc_gyr_mag(s2_acc_sit_thigh_filt)\n",
    "o6 = Parseval_acc_gyr_mag(s2_acc_sit_upperarm_filt)\n",
    "o7 = Parseval_acc_gyr_mag(s2_acc_sit_waist_filt)\n",
    "s2_sit_parseval = np.hstack((o1,o2,o3,o4,o5,o6,o7))"
   ]
  },
  {
   "cell_type": "code",
   "execution_count": 800,
   "id": "28bd8934",
   "metadata": {},
   "outputs": [],
   "source": [
    "o1 = Parseval_acc_gyr_mag(s3_acc_sit_chest_filt)\n",
    "o2 = Parseval_acc_gyr_mag(s3_acc_sit_head_filt)\n",
    "o3 = Parseval_acc_gyr_mag(s3_acc_sit_forearm_filt)\n",
    "o4 = Parseval_acc_gyr_mag(s3_acc_sit_shin_filt)\n",
    "o5 = Parseval_acc_gyr_mag(s3_acc_sit_thigh_filt)\n",
    "o6 = Parseval_acc_gyr_mag(s3_acc_sit_upperarm_filt)\n",
    "o7 = Parseval_acc_gyr_mag(s3_acc_sit_waist_filt)\n",
    "s3_sit_parseval = np.hstack((o1,o2,o3,o4,o5,o6,o7))"
   ]
  },
  {
   "cell_type": "code",
   "execution_count": 801,
   "id": "60a60a02",
   "metadata": {},
   "outputs": [],
   "source": [
    "o1 = Parseval_acc_gyr_mag(s4_acc_sit_chest_filt)\n",
    "o2 = Parseval_acc_gyr_mag(s4_acc_sit_head_filt)\n",
    "o3 = Parseval_acc_gyr_mag(s4_acc_sit_forearm_filt)\n",
    "o4 = Parseval_acc_gyr_mag(s4_acc_sit_shin_filt)\n",
    "o5 = Parseval_acc_gyr_mag(s4_acc_sit_thigh_filt)\n",
    "o6 = Parseval_acc_gyr_mag(s4_acc_sit_upperarm_filt)\n",
    "o7 = Parseval_acc_gyr_mag(s4_acc_sit_waist_filt)\n",
    "s4_sit_parseval = np.hstack((o1,o2,o3,o4,o5,o6,o7))\n"
   ]
  },
  {
   "cell_type": "code",
   "execution_count": 802,
   "id": "d08b087d",
   "metadata": {},
   "outputs": [],
   "source": [
    "o1 = Parseval_acc_gyr_mag(s5_acc_sit_chest_filt)\n",
    "o2 = Parseval_acc_gyr_mag(s5_acc_sit_head_filt)\n",
    "o3 = Parseval_acc_gyr_mag(s5_acc_sit_forearm_filt)\n",
    "o4 = Parseval_acc_gyr_mag(s5_acc_sit_shin_filt)\n",
    "o5 = Parseval_acc_gyr_mag(s5_acc_sit_thigh_filt)\n",
    "o6 = Parseval_acc_gyr_mag(s5_acc_sit_upperarm_filt)\n",
    "o7 = Parseval_acc_gyr_mag(s5_acc_sit_waist_filt)\n",
    "s5_sit_parseval = np.hstack((o1,o2,o3,o4,o5,o6,o7))"
   ]
  },
  {
   "cell_type": "code",
   "execution_count": 803,
   "id": "7d017b03",
   "metadata": {},
   "outputs": [],
   "source": [
    "o1 = Parseval_acc_gyr_mag(s6_acc_sit_chest_filt)\n",
    "o2 = Parseval_acc_gyr_mag(s6_acc_sit_head_filt)\n",
    "o3 = Parseval_acc_gyr_mag(s6_acc_sit_forearm_filt)\n",
    "o4 = Parseval_acc_gyr_mag(s6_acc_sit_shin_filt)\n",
    "o5 = Parseval_acc_gyr_mag(s6_acc_sit_thigh_filt)\n",
    "o6 = Parseval_acc_gyr_mag(s6_acc_sit_upperarm_filt)\n",
    "o7 = Parseval_acc_gyr_mag(s6_acc_sit_waist_filt)\n",
    "s6_sit_parseval = np.hstack((o1,o2,o3,o4,o5,o6,o7))"
   ]
  },
  {
   "cell_type": "code",
   "execution_count": 804,
   "id": "205e0a75",
   "metadata": {},
   "outputs": [],
   "source": [
    "o1 = Parseval_acc_gyr_mag(s7_acc_sit_chest_filt)\n",
    "o2 = Parseval_acc_gyr_mag(s7_acc_sit_head_filt)\n",
    "o3 = Parseval_acc_gyr_mag(s7_acc_sit_forearm_filt)\n",
    "o4 = Parseval_acc_gyr_mag(s7_acc_sit_shin_filt)\n",
    "o5 = Parseval_acc_gyr_mag(s7_acc_sit_thigh_filt)\n",
    "o6 = Parseval_acc_gyr_mag(s7_acc_sit_upperarm_filt)\n",
    "o7 = Parseval_acc_gyr_mag(s7_acc_sit_waist_filt)\n",
    "s7_sit_parseval = np.hstack((o1,o2,o3,o4,o5,o6,o7))"
   ]
  },
  {
   "cell_type": "code",
   "execution_count": 805,
   "id": "574ab6de",
   "metadata": {},
   "outputs": [],
   "source": [
    "o1 = Parseval_acc_gyr_mag(s8_acc_sit_chest_filt)\n",
    "o2 = Parseval_acc_gyr_mag(s8_acc_sit_head_filt)\n",
    "o3 = Parseval_acc_gyr_mag(s8_acc_sit_forearm_filt)\n",
    "o4 = Parseval_acc_gyr_mag(s8_acc_sit_shin_filt)\n",
    "o5 = Parseval_acc_gyr_mag(s8_acc_sit_thigh_filt)\n",
    "o6 = Parseval_acc_gyr_mag(s8_acc_sit_upperarm_filt)\n",
    "o7 = Parseval_acc_gyr_mag(s8_acc_sit_waist_filt)\n",
    "s8_sit_parseval = np.hstack((o1,o2,o3,o4,o5,o6,o7))"
   ]
  },
  {
   "cell_type": "code",
   "execution_count": 806,
   "id": "37b65e05",
   "metadata": {},
   "outputs": [],
   "source": [
    "o1 = Parseval_acc_gyr_mag(s9_acc_sit_chest_filt)\n",
    "o2 = Parseval_acc_gyr_mag(s9_acc_sit_head_filt)\n",
    "o3 = Parseval_acc_gyr_mag(s9_acc_sit_forearm_filt)\n",
    "o4 = Parseval_acc_gyr_mag(s9_acc_sit_shin_filt)\n",
    "o5 = Parseval_acc_gyr_mag(s9_acc_sit_thigh_filt)\n",
    "o6 = Parseval_acc_gyr_mag(s9_acc_sit_upperarm_filt)\n",
    "o7 = Parseval_acc_gyr_mag(s9_acc_sit_waist_filt)\n",
    "s9_sit_parseval = np.hstack((o1,o2,o3,o4,o5,o6,o7))"
   ]
  },
  {
   "cell_type": "code",
   "execution_count": 807,
   "id": "48e63a92",
   "metadata": {},
   "outputs": [],
   "source": [
    "o1 = Parseval_acc_gyr_mag(s10_acc_sit_chest_filt)\n",
    "o2 = Parseval_acc_gyr_mag(s10_acc_sit_head_filt)\n",
    "o3 = Parseval_acc_gyr_mag(s10_acc_sit_forearm_filt)\n",
    "o4 = Parseval_acc_gyr_mag(s10_acc_sit_shin_filt)\n",
    "o5 = Parseval_acc_gyr_mag(s10_acc_sit_thigh_filt)\n",
    "o6 = Parseval_acc_gyr_mag(s10_acc_sit_upperarm_filt)\n",
    "o7 = Parseval_acc_gyr_mag(s10_acc_sit_waist_filt)\n",
    "s10_sit_parseval = np.hstack((o1,o2,o3,o4,o5,o6,o7))"
   ]
  },
  {
   "cell_type": "code",
   "execution_count": 808,
   "id": "41b9fcbb",
   "metadata": {},
   "outputs": [],
   "source": [
    "o1 = Parseval_acc_gyr_mag(s11_acc_sit_chest_filt)\n",
    "o2 = Parseval_acc_gyr_mag(s11_acc_sit_head_filt)\n",
    "o3 = Parseval_acc_gyr_mag(s11_acc_sit_forearm_filt)\n",
    "o4 = Parseval_acc_gyr_mag(s11_acc_sit_shin_filt)\n",
    "o5 = Parseval_acc_gyr_mag(s11_acc_sit_thigh_filt)\n",
    "o6 = Parseval_acc_gyr_mag(s11_acc_sit_upperarm_filt)\n",
    "o7 = Parseval_acc_gyr_mag(s11_acc_sit_waist_filt)\n",
    "s11_sit_parseval = np.hstack((o1,o2,o3,o4,o5,o6,o7))"
   ]
  },
  {
   "cell_type": "code",
   "execution_count": 809,
   "id": "6a80876d",
   "metadata": {},
   "outputs": [],
   "source": [
    "o1 = Parseval_acc_gyr_mag(s12_acc_sit_chest_filt)\n",
    "o2 = Parseval_acc_gyr_mag(s12_acc_sit_head_filt)\n",
    "o3 = Parseval_acc_gyr_mag(s12_acc_sit_forearm_filt)\n",
    "o4 = Parseval_acc_gyr_mag(s12_acc_sit_shin_filt)\n",
    "o5 = Parseval_acc_gyr_mag(s12_acc_sit_thigh_filt)\n",
    "o6 = Parseval_acc_gyr_mag(s12_acc_sit_upperarm_filt)\n",
    "o7 = Parseval_acc_gyr_mag(s12_acc_sit_waist_filt)\n",
    "s12_sit_parseval = np.hstack((o1,o2,o3,o4,o5,o6,o7))"
   ]
  },
  {
   "cell_type": "code",
   "execution_count": 810,
   "id": "bc51ec4f",
   "metadata": {},
   "outputs": [],
   "source": [
    "o1 = Parseval_acc_gyr_mag(s13_acc_sit_chest_filt)\n",
    "o2 = Parseval_acc_gyr_mag(s13_acc_sit_head_filt)\n",
    "o3 = Parseval_acc_gyr_mag(s13_acc_sit_forearm_filt)\n",
    "o4 = Parseval_acc_gyr_mag(s13_acc_sit_shin_filt)\n",
    "o5 = Parseval_acc_gyr_mag(s13_acc_sit_thigh_filt)\n",
    "o6 = Parseval_acc_gyr_mag(s13_acc_sit_upperarm_filt)\n",
    "o7 = Parseval_acc_gyr_mag(s13_acc_sit_waist_filt)\n",
    "s13_sit_parseval = np.hstack((o1,o2,o3,o4,o5,o6,o7))"
   ]
  },
  {
   "cell_type": "code",
   "execution_count": 811,
   "id": "5257a879",
   "metadata": {},
   "outputs": [],
   "source": [
    "o1 = Parseval_acc_gyr_mag(s14_acc_sit_chest_filt)\n",
    "o2 = Parseval_acc_gyr_mag(s14_acc_sit_head_filt)\n",
    "o3 = Parseval_acc_gyr_mag(s14_acc_sit_forearm_filt)\n",
    "o4 = Parseval_acc_gyr_mag(s14_acc_sit_shin_filt)\n",
    "o5 = Parseval_acc_gyr_mag(s14_acc_sit_thigh_filt)\n",
    "o6 = Parseval_acc_gyr_mag(s14_acc_sit_upperarm_filt)\n",
    "o7 = Parseval_acc_gyr_mag(s14_acc_sit_waist_filt)\n",
    "s14_sit_parseval = np.hstack((o1,o2,o3,o4,o5,o6,o7))"
   ]
  },
  {
   "cell_type": "code",
   "execution_count": 812,
   "id": "5c8cd17f",
   "metadata": {},
   "outputs": [],
   "source": [
    "o1 = Parseval_acc_gyr_mag(s15_acc_sit_chest_filt)\n",
    "o2 = Parseval_acc_gyr_mag(s15_acc_sit_head_filt)\n",
    "o3 = Parseval_acc_gyr_mag(s15_acc_sit_forearm_filt)\n",
    "o4 = Parseval_acc_gyr_mag(s15_acc_sit_shin_filt)\n",
    "o5 = Parseval_acc_gyr_mag(s15_acc_sit_thigh_filt)\n",
    "o6 = Parseval_acc_gyr_mag(s15_acc_sit_upperarm_filt)\n",
    "o7 = Parseval_acc_gyr_mag(s15_acc_sit_waist_filt)\n",
    "s15_sit_parseval = np.hstack((o1,o2,o3,o4,o5,o6,o7))\n"
   ]
  },
  {
   "cell_type": "code",
   "execution_count": 813,
   "id": "cdc80e24",
   "metadata": {},
   "outputs": [],
   "source": [
    "sit_parseval = []\n",
    "sit_parseval.append(s1_sit_parseval)\n",
    "sit_parseval.append(s2_sit_parseval)\n",
    "sit_parseval.append(s3_sit_parseval)\n",
    "sit_parseval.append(s4_sit_parseval)\n",
    "sit_parseval.append(s5_sit_parseval)\n",
    "sit_parseval.append(s6_sit_parseval)\n",
    "sit_parseval.append(s7_sit_parseval)\n",
    "sit_parseval.append(s8_sit_parseval)\n",
    "sit_parseval.append(s9_sit_parseval)\n",
    "sit_parseval.append(s10_sit_parseval)\n",
    "sit_parseval.append(s11_sit_parseval)\n",
    "sit_parseval.append(s12_sit_parseval)\n",
    "sit_parseval.append(s13_sit_parseval)\n",
    "sit_parseval.append(s14_sit_parseval)\n",
    "sit_parseval.append(s15_sit_parseval)\n"
   ]
  },
  {
   "cell_type": "code",
   "execution_count": 814,
   "id": "7e8b7c83",
   "metadata": {},
   "outputs": [],
   "source": [
    "#skewness for sitting"
   ]
  },
  {
   "cell_type": "code",
   "execution_count": 815,
   "id": "bb58d2cd",
   "metadata": {},
   "outputs": [],
   "source": [
    "o1 = Skewness_acc_gyr_mag(s1_acc_sit_chest_filt)\n",
    "o2 = Skewness_acc_gyr_mag(s1_acc_sit_head_filt)\n",
    "o3 = Skewness_acc_gyr_mag(s1_acc_sit_forearm_filt)\n",
    "o4 = Skewness_acc_gyr_mag(s1_acc_sit_shin_filt)\n",
    "o5 = Skewness_acc_gyr_mag(s1_acc_sit_thigh_filt)\n",
    "o6 = Skewness_acc_gyr_mag(s1_acc_sit_upperarm_filt)\n",
    "o7 = Skewness_acc_gyr_mag(s1_acc_sit_waist_filt)\n",
    "s1_sit_skew = np.hstack((o1,o2,o3,o4,o5,o6,o7))"
   ]
  },
  {
   "cell_type": "code",
   "execution_count": 816,
   "id": "d56fb34c",
   "metadata": {},
   "outputs": [],
   "source": [
    "o1 = Skewness_acc_gyr_mag(s2_acc_sit_chest_filt)\n",
    "o2 = Skewness_acc_gyr_mag(s2_acc_sit_head_filt)\n",
    "o3 = Skewness_acc_gyr_mag(s2_acc_sit_forearm_filt)\n",
    "o4 = Skewness_acc_gyr_mag(s2_acc_sit_shin_filt)\n",
    "o5 = Skewness_acc_gyr_mag(s2_acc_sit_thigh_filt)\n",
    "o6 = Skewness_acc_gyr_mag(s2_acc_sit_upperarm_filt)\n",
    "o7 = Skewness_acc_gyr_mag(s2_acc_sit_waist_filt)\n",
    "s2_sit_skew = np.hstack((o1,o2,o3,o4,o5,o6,o7))\n"
   ]
  },
  {
   "cell_type": "code",
   "execution_count": 817,
   "id": "0fb9302c",
   "metadata": {},
   "outputs": [],
   "source": [
    "o1 = Skewness_acc_gyr_mag(s3_acc_sit_chest_filt)\n",
    "o2 = Skewness_acc_gyr_mag(s3_acc_sit_head_filt)\n",
    "o3 = Skewness_acc_gyr_mag(s3_acc_sit_forearm_filt)\n",
    "o4 = Skewness_acc_gyr_mag(s3_acc_sit_shin_filt)\n",
    "o5 = Skewness_acc_gyr_mag(s3_acc_sit_thigh_filt)\n",
    "o6 = Skewness_acc_gyr_mag(s3_acc_sit_upperarm_filt)\n",
    "o7 = Skewness_acc_gyr_mag(s3_acc_sit_waist_filt)\n",
    "s3_sit_skew = np.hstack((o1,o2,o3,o4,o5,o6,o7))"
   ]
  },
  {
   "cell_type": "code",
   "execution_count": 818,
   "id": "8d700af5",
   "metadata": {},
   "outputs": [],
   "source": [
    "o1 = Skewness_acc_gyr_mag(s4_acc_sit_chest_filt)\n",
    "o2 = Skewness_acc_gyr_mag(s4_acc_sit_head_filt)\n",
    "o3 = Skewness_acc_gyr_mag(s4_acc_sit_forearm_filt)\n",
    "o4 = Skewness_acc_gyr_mag(s4_acc_sit_shin_filt)\n",
    "o5 = Skewness_acc_gyr_mag(s4_acc_sit_thigh_filt)\n",
    "o6 = Skewness_acc_gyr_mag(s4_acc_sit_upperarm_filt)\n",
    "o7 = Skewness_acc_gyr_mag(s4_acc_sit_waist_filt)\n",
    "s4_sit_skew = np.hstack((o1,o2,o3,o4,o5,o6,o7))"
   ]
  },
  {
   "cell_type": "code",
   "execution_count": 819,
   "id": "620342b0",
   "metadata": {},
   "outputs": [],
   "source": [
    "o1 = Skewness_acc_gyr_mag(s5_acc_sit_chest_filt)\n",
    "o2 = Skewness_acc_gyr_mag(s5_acc_sit_head_filt)\n",
    "o3 = Skewness_acc_gyr_mag(s5_acc_sit_forearm_filt)\n",
    "o4 = Skewness_acc_gyr_mag(s5_acc_sit_shin_filt)\n",
    "o5 = Skewness_acc_gyr_mag(s5_acc_sit_thigh_filt)\n",
    "o6 = Skewness_acc_gyr_mag(s5_acc_sit_upperarm_filt)\n",
    "o7 = Skewness_acc_gyr_mag(s5_acc_sit_waist_filt)\n",
    "s5_sit_skew = np.hstack((o1,o2,o3,o4,o5,o6,o7))"
   ]
  },
  {
   "cell_type": "code",
   "execution_count": 820,
   "id": "0735c1f3",
   "metadata": {},
   "outputs": [],
   "source": [
    "o1 = Skewness_acc_gyr_mag(s6_acc_sit_chest_filt)\n",
    "o2 = Skewness_acc_gyr_mag(s6_acc_sit_head_filt)\n",
    "o3 = Skewness_acc_gyr_mag(s6_acc_sit_forearm_filt)\n",
    "o4 = Skewness_acc_gyr_mag(s6_acc_sit_shin_filt)\n",
    "o5 = Skewness_acc_gyr_mag(s6_acc_sit_thigh_filt)\n",
    "o6 = Skewness_acc_gyr_mag(s6_acc_sit_upperarm_filt)\n",
    "o7 = Skewness_acc_gyr_mag(s6_acc_sit_waist_filt)\n",
    "s6_sit_skew = np.hstack((o1,o2,o3,o4,o5,o6,o7))\n"
   ]
  },
  {
   "cell_type": "code",
   "execution_count": 821,
   "id": "7714d185",
   "metadata": {},
   "outputs": [],
   "source": [
    "o1 = Skewness_acc_gyr_mag(s7_acc_sit_chest_filt)\n",
    "o2 = Skewness_acc_gyr_mag(s7_acc_sit_head_filt)\n",
    "o3 = Skewness_acc_gyr_mag(s7_acc_sit_forearm_filt)\n",
    "o4 = Skewness_acc_gyr_mag(s7_acc_sit_shin_filt)\n",
    "o5 = Skewness_acc_gyr_mag(s7_acc_sit_thigh_filt)\n",
    "o6 = Skewness_acc_gyr_mag(s7_acc_sit_upperarm_filt)\n",
    "o7 = Skewness_acc_gyr_mag(s7_acc_sit_waist_filt)\n",
    "s7_sit_skew = np.hstack((o1,o2,o3,o4,o5,o6,o7))"
   ]
  },
  {
   "cell_type": "code",
   "execution_count": 822,
   "id": "99b1742d",
   "metadata": {},
   "outputs": [],
   "source": [
    "o1 = Skewness_acc_gyr_mag(s8_acc_sit_chest_filt)\n",
    "o2 = Skewness_acc_gyr_mag(s8_acc_sit_head_filt)\n",
    "o3 = Skewness_acc_gyr_mag(s8_acc_sit_forearm_filt)\n",
    "o4 = Skewness_acc_gyr_mag(s8_acc_sit_shin_filt)\n",
    "o5 = Skewness_acc_gyr_mag(s8_acc_sit_thigh_filt)\n",
    "o6 = Skewness_acc_gyr_mag(s8_acc_sit_upperarm_filt)\n",
    "o7 = Skewness_acc_gyr_mag(s8_acc_sit_waist_filt)\n",
    "s8_sit_skew = np.hstack((o1,o2,o3,o4,o5,o6,o7))"
   ]
  },
  {
   "cell_type": "code",
   "execution_count": 823,
   "id": "23596535",
   "metadata": {},
   "outputs": [],
   "source": [
    "o1 = Skewness_acc_gyr_mag(s9_acc_sit_chest_filt)\n",
    "o2 = Skewness_acc_gyr_mag(s9_acc_sit_head_filt)\n",
    "o3 = Skewness_acc_gyr_mag(s9_acc_sit_forearm_filt)\n",
    "o4 = Skewness_acc_gyr_mag(s9_acc_sit_shin_filt)\n",
    "o5 = Skewness_acc_gyr_mag(s9_acc_sit_thigh_filt)\n",
    "o6 = Skewness_acc_gyr_mag(s9_acc_sit_upperarm_filt)\n",
    "o7 = Skewness_acc_gyr_mag(s9_acc_sit_waist_filt)\n",
    "s9_sit_skew = np.hstack((o1,o2,o3,o4,o5,o6,o7))"
   ]
  },
  {
   "cell_type": "code",
   "execution_count": 824,
   "id": "05b0df29",
   "metadata": {},
   "outputs": [],
   "source": [
    "o1 = Skewness_acc_gyr_mag(s10_acc_sit_chest_filt)\n",
    "o2 = Skewness_acc_gyr_mag(s10_acc_sit_head_filt)\n",
    "o3 = Skewness_acc_gyr_mag(s10_acc_sit_forearm_filt)\n",
    "o4 = Skewness_acc_gyr_mag(s10_acc_sit_shin_filt)\n",
    "o5 = Skewness_acc_gyr_mag(s10_acc_sit_thigh_filt)\n",
    "o6 = Skewness_acc_gyr_mag(s10_acc_sit_upperarm_filt)\n",
    "o7 = Skewness_acc_gyr_mag(s10_acc_sit_waist_filt)\n",
    "s10_sit_skew = np.hstack((o1,o2,o3,o4,o5,o6,o7))"
   ]
  },
  {
   "cell_type": "code",
   "execution_count": 825,
   "id": "f58bbaad",
   "metadata": {},
   "outputs": [],
   "source": [
    "o1 = Skewness_acc_gyr_mag(s11_acc_sit_chest_filt)\n",
    "o2 = Skewness_acc_gyr_mag(s11_acc_sit_head_filt)\n",
    "o3 = Skewness_acc_gyr_mag(s11_acc_sit_forearm_filt)\n",
    "o4 = Skewness_acc_gyr_mag(s11_acc_sit_shin_filt)\n",
    "o5 = Skewness_acc_gyr_mag(s11_acc_sit_thigh_filt)\n",
    "o6 = Skewness_acc_gyr_mag(s11_acc_sit_upperarm_filt)\n",
    "o7 = Skewness_acc_gyr_mag(s11_acc_sit_waist_filt)\n",
    "s11_sit_skew = np.hstack((o1,o2,o3,o4,o5,o6,o7))"
   ]
  },
  {
   "cell_type": "code",
   "execution_count": 826,
   "id": "d447677a",
   "metadata": {},
   "outputs": [],
   "source": [
    "o1 = Skewness_acc_gyr_mag(s12_acc_sit_chest_filt)\n",
    "o2 = Skewness_acc_gyr_mag(s12_acc_sit_head_filt)\n",
    "o3 = Skewness_acc_gyr_mag(s12_acc_sit_forearm_filt)\n",
    "o4 = Skewness_acc_gyr_mag(s12_acc_sit_shin_filt)\n",
    "o5 = Skewness_acc_gyr_mag(s12_acc_sit_thigh_filt)\n",
    "o6 = Skewness_acc_gyr_mag(s12_acc_sit_upperarm_filt)\n",
    "o7 = Skewness_acc_gyr_mag(s12_acc_sit_waist_filt)\n",
    "s12_sit_skew = np.hstack((o1,o2,o3,o4,o5,o6,o7))"
   ]
  },
  {
   "cell_type": "code",
   "execution_count": 827,
   "id": "277f761c",
   "metadata": {},
   "outputs": [],
   "source": [
    "o1 = Skewness_acc_gyr_mag(s13_acc_sit_chest_filt)\n",
    "o2 = Skewness_acc_gyr_mag(s13_acc_sit_head_filt)\n",
    "o3 = Skewness_acc_gyr_mag(s13_acc_sit_forearm_filt)\n",
    "o4 = Skewness_acc_gyr_mag(s13_acc_sit_shin_filt)\n",
    "o5 = Skewness_acc_gyr_mag(s13_acc_sit_thigh_filt)\n",
    "o6 = Skewness_acc_gyr_mag(s13_acc_sit_upperarm_filt)\n",
    "o7 = Skewness_acc_gyr_mag(s13_acc_sit_waist_filt)\n",
    "s13_sit_skew = np.hstack((o1,o2,o3,o4,o5,o6,o7))"
   ]
  },
  {
   "cell_type": "code",
   "execution_count": 828,
   "id": "e38ebccf",
   "metadata": {},
   "outputs": [],
   "source": [
    "o1 = Skewness_acc_gyr_mag(s14_acc_sit_chest_filt)\n",
    "o2 = Skewness_acc_gyr_mag(s14_acc_sit_head_filt)\n",
    "o3 = Skewness_acc_gyr_mag(s14_acc_sit_forearm_filt)\n",
    "o4 = Skewness_acc_gyr_mag(s14_acc_sit_shin_filt)\n",
    "o5 = Skewness_acc_gyr_mag(s14_acc_sit_thigh_filt)\n",
    "o6 = Skewness_acc_gyr_mag(s14_acc_sit_upperarm_filt)\n",
    "o7 = Skewness_acc_gyr_mag(s14_acc_sit_waist_filt)\n",
    "s14_sit_skew = np.hstack((o1,o2,o3,o4,o5,o6,o7))"
   ]
  },
  {
   "cell_type": "code",
   "execution_count": 829,
   "id": "dee69325",
   "metadata": {},
   "outputs": [],
   "source": [
    "o1 = Skewness_acc_gyr_mag(s15_acc_sit_chest_filt)\n",
    "o2 = Skewness_acc_gyr_mag(s15_acc_sit_head_filt)\n",
    "o3 = Skewness_acc_gyr_mag(s15_acc_sit_forearm_filt)\n",
    "o4 = Skewness_acc_gyr_mag(s15_acc_sit_shin_filt)\n",
    "o5 = Skewness_acc_gyr_mag(s15_acc_sit_thigh_filt)\n",
    "o6 = Skewness_acc_gyr_mag(s15_acc_sit_upperarm_filt)\n",
    "o7 = Skewness_acc_gyr_mag(s15_acc_sit_waist_filt)\n",
    "s15_sit_skew = np.hstack((o1,o2,o3,o4,o5,o6,o7))\n"
   ]
  },
  {
   "cell_type": "code",
   "execution_count": 830,
   "id": "a41c303d",
   "metadata": {},
   "outputs": [],
   "source": [
    "sit_skew = []\n",
    "sit_skew.append(s1_sit_skew)\n",
    "sit_skew.append(s2_sit_skew)\n",
    "sit_skew.append(s3_sit_skew)\n",
    "sit_skew.append(s4_sit_skew)\n",
    "sit_skew.append(s5_sit_skew)\n",
    "sit_skew.append(s6_sit_skew)\n",
    "sit_skew.append(s7_sit_skew)\n",
    "sit_skew.append(s8_sit_skew)\n",
    "sit_skew.append(s9_sit_skew)\n",
    "sit_skew.append(s10_sit_skew)\n",
    "sit_skew.append(s11_sit_skew)\n",
    "sit_skew.append(s12_sit_skew)\n",
    "sit_skew.append(s13_sit_skew)\n",
    "sit_skew.append(s14_sit_skew)\n",
    "sit_skew.append(s15_sit_skew)\n"
   ]
  },
  {
   "cell_type": "code",
   "execution_count": 831,
   "id": "6359575b",
   "metadata": {},
   "outputs": [],
   "source": [
    "#fft minmaxdiff for sitting"
   ]
  },
  {
   "cell_type": "code",
   "execution_count": 832,
   "id": "1d9c8cd9",
   "metadata": {},
   "outputs": [],
   "source": [
    "o1 = Fft_MaxMinDiff_acc_gyr_mag(s1_acc_sit_chest_filt)\n",
    "o2 = Fft_MaxMinDiff_acc_gyr_mag(s1_acc_sit_head_filt)\n",
    "o3 = Fft_MaxMinDiff_acc_gyr_mag(s1_acc_sit_forearm_filt)\n",
    "o4 = Fft_MaxMinDiff_acc_gyr_mag(s1_acc_sit_shin_filt)\n",
    "o5 = Fft_MaxMinDiff_acc_gyr_mag(s1_acc_sit_thigh_filt)\n",
    "o6 = Fft_MaxMinDiff_acc_gyr_mag(s1_acc_sit_upperarm_filt)\n",
    "o7 = Fft_MaxMinDiff_acc_gyr_mag(s1_acc_sit_waist_filt)\n",
    "s1_sit_FD = np.hstack((o1,o2,o3,o4,o5,o6,o7))"
   ]
  },
  {
   "cell_type": "code",
   "execution_count": 833,
   "id": "dba18ca5",
   "metadata": {},
   "outputs": [],
   "source": [
    "o1 = Fft_MaxMinDiff_acc_gyr_mag(s2_acc_sit_chest_filt)\n",
    "o2 = Fft_MaxMinDiff_acc_gyr_mag(s2_acc_sit_head_filt)\n",
    "o3 = Fft_MaxMinDiff_acc_gyr_mag(s2_acc_sit_forearm_filt)\n",
    "o4 = Fft_MaxMinDiff_acc_gyr_mag(s2_acc_sit_shin_filt)\n",
    "o5 = Fft_MaxMinDiff_acc_gyr_mag(s2_acc_sit_thigh_filt)\n",
    "o6 = Fft_MaxMinDiff_acc_gyr_mag(s2_acc_sit_upperarm_filt)\n",
    "o7 = Fft_MaxMinDiff_acc_gyr_mag(s2_acc_sit_waist_filt)\n",
    "s2_sit_FD = np.hstack((o1,o2,o3,o4,o5,o6,o7))"
   ]
  },
  {
   "cell_type": "code",
   "execution_count": 834,
   "id": "ad08f782",
   "metadata": {},
   "outputs": [],
   "source": [
    "o1 = Fft_MaxMinDiff_acc_gyr_mag(s3_acc_sit_chest_filt)\n",
    "o2 = Fft_MaxMinDiff_acc_gyr_mag(s3_acc_sit_head_filt)\n",
    "o3 = Fft_MaxMinDiff_acc_gyr_mag(s3_acc_sit_forearm_filt)\n",
    "o4 = Fft_MaxMinDiff_acc_gyr_mag(s3_acc_sit_shin_filt)\n",
    "o5 = Fft_MaxMinDiff_acc_gyr_mag(s3_acc_sit_thigh_filt)\n",
    "o6 = Fft_MaxMinDiff_acc_gyr_mag(s3_acc_sit_upperarm_filt)\n",
    "o7 = Fft_MaxMinDiff_acc_gyr_mag(s3_acc_sit_waist_filt)\n",
    "s3_sit_FD = np.hstack((o1,o2,o3,o4,o5,o6,o7))"
   ]
  },
  {
   "cell_type": "code",
   "execution_count": 835,
   "id": "611f410d",
   "metadata": {},
   "outputs": [],
   "source": [
    "o1 = Fft_MaxMinDiff_acc_gyr_mag(s4_acc_sit_chest_filt)\n",
    "o2 = Fft_MaxMinDiff_acc_gyr_mag(s4_acc_sit_head_filt)\n",
    "o3 = Fft_MaxMinDiff_acc_gyr_mag(s4_acc_sit_forearm_filt)\n",
    "o4 = Fft_MaxMinDiff_acc_gyr_mag(s4_acc_sit_shin_filt)\n",
    "o5 = Fft_MaxMinDiff_acc_gyr_mag(s4_acc_sit_thigh_filt)\n",
    "o6 = Fft_MaxMinDiff_acc_gyr_mag(s4_acc_sit_upperarm_filt)\n",
    "o7 = Fft_MaxMinDiff_acc_gyr_mag(s4_acc_sit_waist_filt)\n",
    "s4_sit_FD = np.hstack((o1,o2,o3,o4,o5,o6,o7))"
   ]
  },
  {
   "cell_type": "code",
   "execution_count": 836,
   "id": "a6cb9f45",
   "metadata": {},
   "outputs": [],
   "source": [
    "o1 = Fft_MaxMinDiff_acc_gyr_mag(s5_acc_sit_chest_filt)\n",
    "o2 = Fft_MaxMinDiff_acc_gyr_mag(s5_acc_sit_head_filt)\n",
    "o3 = Fft_MaxMinDiff_acc_gyr_mag(s5_acc_sit_forearm_filt)\n",
    "o4 = Fft_MaxMinDiff_acc_gyr_mag(s5_acc_sit_shin_filt)\n",
    "o5 = Fft_MaxMinDiff_acc_gyr_mag(s5_acc_sit_thigh_filt)\n",
    "o6 = Fft_MaxMinDiff_acc_gyr_mag(s5_acc_sit_upperarm_filt)\n",
    "o7 = Fft_MaxMinDiff_acc_gyr_mag(s5_acc_sit_waist_filt)\n",
    "s5_sit_FD = np.hstack((o1,o2,o3,o4,o5,o6,o7))"
   ]
  },
  {
   "cell_type": "code",
   "execution_count": 837,
   "id": "5c4afefc",
   "metadata": {},
   "outputs": [],
   "source": [
    "o1 = Fft_MaxMinDiff_acc_gyr_mag(s6_acc_sit_chest_filt)\n",
    "o2 = Fft_MaxMinDiff_acc_gyr_mag(s6_acc_sit_head_filt)\n",
    "o3 = Fft_MaxMinDiff_acc_gyr_mag(s6_acc_sit_forearm_filt)\n",
    "o4 = Fft_MaxMinDiff_acc_gyr_mag(s6_acc_sit_shin_filt)\n",
    "o5 = Fft_MaxMinDiff_acc_gyr_mag(s6_acc_sit_thigh_filt)\n",
    "o6 = Fft_MaxMinDiff_acc_gyr_mag(s6_acc_sit_upperarm_filt)\n",
    "o7 = Fft_MaxMinDiff_acc_gyr_mag(s6_acc_sit_waist_filt)\n",
    "s6_sit_FD = np.hstack((o1,o2,o3,o4,o5,o6,o7))"
   ]
  },
  {
   "cell_type": "code",
   "execution_count": 838,
   "id": "6d224ae4",
   "metadata": {},
   "outputs": [],
   "source": [
    "o1 = Fft_MaxMinDiff_acc_gyr_mag(s7_acc_sit_chest_filt)\n",
    "o2 = Fft_MaxMinDiff_acc_gyr_mag(s7_acc_sit_head_filt)\n",
    "o3 = Fft_MaxMinDiff_acc_gyr_mag(s7_acc_sit_forearm_filt)\n",
    "o4 = Fft_MaxMinDiff_acc_gyr_mag(s7_acc_sit_shin_filt)\n",
    "o5 = Fft_MaxMinDiff_acc_gyr_mag(s7_acc_sit_thigh_filt)\n",
    "o6 = Fft_MaxMinDiff_acc_gyr_mag(s7_acc_sit_upperarm_filt)\n",
    "o7 = Fft_MaxMinDiff_acc_gyr_mag(s7_acc_sit_waist_filt)\n",
    "s7_sit_FD = np.hstack((o1,o2,o3,o4,o5,o6,o7))"
   ]
  },
  {
   "cell_type": "code",
   "execution_count": 839,
   "id": "fcef502b",
   "metadata": {},
   "outputs": [],
   "source": [
    "o1 = Fft_MaxMinDiff_acc_gyr_mag(s8_acc_sit_chest_filt)\n",
    "o2 = Fft_MaxMinDiff_acc_gyr_mag(s8_acc_sit_head_filt)\n",
    "o3 = Fft_MaxMinDiff_acc_gyr_mag(s8_acc_sit_forearm_filt)\n",
    "o4 = Fft_MaxMinDiff_acc_gyr_mag(s8_acc_sit_shin_filt)\n",
    "o5 = Fft_MaxMinDiff_acc_gyr_mag(s8_acc_sit_thigh_filt)\n",
    "o6 = Fft_MaxMinDiff_acc_gyr_mag(s8_acc_sit_upperarm_filt)\n",
    "o7 = Fft_MaxMinDiff_acc_gyr_mag(s8_acc_sit_waist_filt)\n",
    "s8_sit_FD = np.hstack((o1,o2,o3,o4,o5,o6,o7))"
   ]
  },
  {
   "cell_type": "code",
   "execution_count": 840,
   "id": "b3a67f66",
   "metadata": {},
   "outputs": [],
   "source": [
    "o1 = Fft_MaxMinDiff_acc_gyr_mag(s9_acc_sit_chest_filt)\n",
    "o2 = Fft_MaxMinDiff_acc_gyr_mag(s9_acc_sit_head_filt)\n",
    "o3 = Fft_MaxMinDiff_acc_gyr_mag(s9_acc_sit_forearm_filt)\n",
    "o4 = Fft_MaxMinDiff_acc_gyr_mag(s9_acc_sit_shin_filt)\n",
    "o5 = Fft_MaxMinDiff_acc_gyr_mag(s9_acc_sit_thigh_filt)\n",
    "o6 = Fft_MaxMinDiff_acc_gyr_mag(s9_acc_sit_upperarm_filt)\n",
    "o7 = Fft_MaxMinDiff_acc_gyr_mag(s9_acc_sit_waist_filt)\n",
    "s9_sit_FD = np.hstack((o1,o2,o3,o4,o5,o6,o7))"
   ]
  },
  {
   "cell_type": "code",
   "execution_count": 841,
   "id": "91810d89",
   "metadata": {},
   "outputs": [],
   "source": [
    "o1 = Fft_MaxMinDiff_acc_gyr_mag(s10_acc_sit_chest_filt)\n",
    "o2 = Fft_MaxMinDiff_acc_gyr_mag(s10_acc_sit_head_filt)\n",
    "o3 = Fft_MaxMinDiff_acc_gyr_mag(s10_acc_sit_forearm_filt)\n",
    "o4 = Fft_MaxMinDiff_acc_gyr_mag(s10_acc_sit_shin_filt)\n",
    "o5 = Fft_MaxMinDiff_acc_gyr_mag(s10_acc_sit_thigh_filt)\n",
    "o6 = Fft_MaxMinDiff_acc_gyr_mag(s10_acc_sit_upperarm_filt)\n",
    "o7 = Fft_MaxMinDiff_acc_gyr_mag(s10_acc_sit_waist_filt)\n",
    "s10_sit_FD = np.hstack((o1,o2,o3,o4,o5,o6,o7))"
   ]
  },
  {
   "cell_type": "code",
   "execution_count": 842,
   "id": "926af1a7",
   "metadata": {},
   "outputs": [],
   "source": [
    "o1 = Fft_MaxMinDiff_acc_gyr_mag(s11_acc_sit_chest_filt)\n",
    "o2 = Fft_MaxMinDiff_acc_gyr_mag(s11_acc_sit_head_filt)\n",
    "o3 = Fft_MaxMinDiff_acc_gyr_mag(s11_acc_sit_forearm_filt)\n",
    "o4 = Fft_MaxMinDiff_acc_gyr_mag(s11_acc_sit_shin_filt)\n",
    "o5 = Fft_MaxMinDiff_acc_gyr_mag(s11_acc_sit_thigh_filt)\n",
    "o6 = Fft_MaxMinDiff_acc_gyr_mag(s11_acc_sit_upperarm_filt)\n",
    "                              \n",
    "o7 = Fft_MaxMinDiff_acc_gyr_mag(s11_acc_sit_waist_filt)\n",
    "s11_sit_FD = np.hstack((o1,o2,o3,o4,o5,o6,o7))"
   ]
  },
  {
   "cell_type": "code",
   "execution_count": 843,
   "id": "c47d8b4a",
   "metadata": {},
   "outputs": [],
   "source": [
    "o1 = Fft_MaxMinDiff_acc_gyr_mag(s12_acc_sit_chest_filt)\n",
    "o2 = Fft_MaxMinDiff_acc_gyr_mag(s12_acc_sit_head_filt)\n",
    "o3 = Fft_MaxMinDiff_acc_gyr_mag(s12_acc_sit_forearm_filt)\n",
    "o4 = Fft_MaxMinDiff_acc_gyr_mag(s12_acc_sit_shin_filt)\n",
    "o5 = Fft_MaxMinDiff_acc_gyr_mag(s12_acc_sit_thigh_filt)\n",
    "o6 = Fft_MaxMinDiff_acc_gyr_mag(s12_acc_sit_upperarm_filt)\n",
    "o7 = Fft_MaxMinDiff_acc_gyr_mag(s12_acc_sit_waist_filt)\n",
    "s12_sit_FD = np.hstack((o1,o2,o3,o4,o5,o6,o7))\n"
   ]
  },
  {
   "cell_type": "code",
   "execution_count": 844,
   "id": "2948e819",
   "metadata": {},
   "outputs": [],
   "source": [
    "o1 = Fft_MaxMinDiff_acc_gyr_mag(s13_acc_sit_chest_filt)\n",
    "o2 = Fft_MaxMinDiff_acc_gyr_mag(s13_acc_sit_head_filt)\n",
    "o3 = Fft_MaxMinDiff_acc_gyr_mag(s13_acc_sit_forearm_filt)\n",
    "o4 = Fft_MaxMinDiff_acc_gyr_mag(s13_acc_sit_shin_filt)\n",
    "o5 = Fft_MaxMinDiff_acc_gyr_mag(s13_acc_sit_thigh_filt)\n",
    "o6 = Fft_MaxMinDiff_acc_gyr_mag(s13_acc_sit_upperarm_filt)\n",
    "o7 = Fft_MaxMinDiff_acc_gyr_mag(s13_acc_sit_waist_filt)\n",
    "s13_sit_FD = np.hstack((o1,o2,o3,o4,o5,o6,o7))"
   ]
  },
  {
   "cell_type": "code",
   "execution_count": 845,
   "id": "cbb5e9e5",
   "metadata": {},
   "outputs": [],
   "source": [
    "o1 = Fft_MaxMinDiff_acc_gyr_mag(s14_acc_sit_chest_filt)\n",
    "o2 = Fft_MaxMinDiff_acc_gyr_mag(s14_acc_sit_head_filt)\n",
    "o3 = Fft_MaxMinDiff_acc_gyr_mag(s14_acc_sit_forearm_filt)\n",
    "o4 = Fft_MaxMinDiff_acc_gyr_mag(s14_acc_sit_shin_filt)\n",
    "o5 = Fft_MaxMinDiff_acc_gyr_mag(s14_acc_sit_thigh_filt)\n",
    "o6 = Fft_MaxMinDiff_acc_gyr_mag(s14_acc_sit_upperarm_filt)\n",
    "o7 = Fft_MaxMinDiff_acc_gyr_mag(s14_acc_sit_waist_filt)\n",
    "s14_sit_FD = np.hstack((o1,o2,o3,o4,o5,o6,o7))"
   ]
  },
  {
   "cell_type": "code",
   "execution_count": 846,
   "id": "1f268551",
   "metadata": {},
   "outputs": [],
   "source": [
    "o1 = Fft_MaxMinDiff_acc_gyr_mag(s15_acc_sit_chest_filt)\n",
    "o2 = Fft_MaxMinDiff_acc_gyr_mag(s15_acc_sit_head_filt)\n",
    "o3 = Fft_MaxMinDiff_acc_gyr_mag(s15_acc_sit_forearm_filt)\n",
    "o4 = Fft_MaxMinDiff_acc_gyr_mag(s15_acc_sit_shin_filt)\n",
    "o5 = Fft_MaxMinDiff_acc_gyr_mag(s15_acc_sit_thigh_filt)\n",
    "o6 = Fft_MaxMinDiff_acc_gyr_mag(s15_acc_sit_upperarm_filt)\n",
    "o7 = Fft_MaxMinDiff_acc_gyr_mag(s15_acc_sit_waist_filt)\n",
    "s15_sit_FD = np.hstack((o1,o2,o3,o4,o5,o6,o7))"
   ]
  },
  {
   "cell_type": "code",
   "execution_count": 847,
   "id": "09fd8857",
   "metadata": {},
   "outputs": [],
   "source": [
    "\n",
    "sit_FD = []\n",
    "sit_FD.append(s1_sit_FD)\n",
    "sit_FD.append(s2_sit_FD)\n",
    "sit_FD.append(s3_sit_FD)\n",
    "sit_FD.append(s4_sit_FD)\n",
    "sit_FD.append(s5_sit_FD)\n",
    "sit_FD.append(s6_sit_FD)\n",
    "sit_FD.append(s7_sit_FD)\n",
    "sit_FD.append(s8_sit_FD)\n",
    "sit_FD.append(s9_sit_FD)\n",
    "sit_FD.append(s10_sit_FD)\n",
    "sit_FD.append(s11_sit_FD)\n",
    "sit_FD.append(s12_sit_FD)\n",
    "sit_FD.append(s13_sit_FD)\n",
    "sit_FD.append(s14_sit_FD)\n",
    "sit_FD.append(s15_sit_FD)\n"
   ]
  },
  {
   "cell_type": "code",
   "execution_count": 848,
   "id": "fb62b7e1",
   "metadata": {},
   "outputs": [],
   "source": [
    "#minmaxrratio for sitting"
   ]
  },
  {
   "cell_type": "code",
   "execution_count": 849,
   "id": "22172e60",
   "metadata": {},
   "outputs": [],
   "source": [
    "o1 = Fft_MaxMinRatio_acc_gyr_mag(s1_acc_sit_chest_filt)\n",
    "o2 = Fft_MaxMinRatio_acc_gyr_mag(s1_acc_sit_head_filt)\n",
    "o3 = Fft_MaxMinRatio_acc_gyr_mag(s1_acc_sit_forearm_filt)\n",
    "o4 = Fft_MaxMinRatio_acc_gyr_mag(s1_acc_sit_shin_filt)\n",
    "o5 = Fft_MaxMinRatio_acc_gyr_mag(s1_acc_sit_thigh_filt)\n",
    "o6 = Fft_MaxMinRatio_acc_gyr_mag(s1_acc_sit_upperarm_filt)\n",
    "o7 = Fft_MaxMinRatio_acc_gyr_mag(s1_acc_sit_waist_filt)\n",
    "s1_sit_FR = np.hstack((o1,o2,o3,o4,o5,o6,o7))"
   ]
  },
  {
   "cell_type": "code",
   "execution_count": 850,
   "id": "6a3f322b",
   "metadata": {},
   "outputs": [],
   "source": [
    "o1 = Fft_MaxMinRatio_acc_gyr_mag(s2_acc_sit_chest_filt)\n",
    "o2 = Fft_MaxMinRatio_acc_gyr_mag(s2_acc_sit_head_filt)\n",
    "o3 = Fft_MaxMinRatio_acc_gyr_mag(s2_acc_sit_forearm_filt)\n",
    "o4 = Fft_MaxMinRatio_acc_gyr_mag(s2_acc_sit_shin_filt)\n",
    "o5 = Fft_MaxMinRatio_acc_gyr_mag(s2_acc_sit_thigh_filt)\n",
    "o6 = Fft_MaxMinRatio_acc_gyr_mag(s2_acc_sit_upperarm_filt)\n",
    "o7 = Fft_MaxMinRatio_acc_gyr_mag(s2_acc_sit_waist_filt)\n",
    "s2_sit_FR = np.hstack((o1,o2,o3,o4,o5,o6,o7))"
   ]
  },
  {
   "cell_type": "code",
   "execution_count": 851,
   "id": "4fa1eb89",
   "metadata": {},
   "outputs": [],
   "source": [
    "o1 = Fft_MaxMinRatio_acc_gyr_mag(s3_acc_sit_chest_filt)\n",
    "o2 = Fft_MaxMinRatio_acc_gyr_mag(s3_acc_sit_head_filt)\n",
    "o3 = Fft_MaxMinRatio_acc_gyr_mag(s3_acc_sit_forearm_filt)\n",
    "o4 = Fft_MaxMinRatio_acc_gyr_mag(s3_acc_sit_shin_filt)\n",
    "o5 = Fft_MaxMinRatio_acc_gyr_mag(s3_acc_sit_thigh_filt)\n",
    "o6 = Fft_MaxMinRatio_acc_gyr_mag(s3_acc_sit_upperarm_filt)\n",
    "o7 = Fft_MaxMinRatio_acc_gyr_mag(s3_acc_sit_waist_filt)\n",
    "s3_sit_FR = np.hstack((o1,o2,o3,o4,o5,o6,o7))"
   ]
  },
  {
   "cell_type": "code",
   "execution_count": 852,
   "id": "1ae3ede9",
   "metadata": {},
   "outputs": [],
   "source": [
    "o1 = Fft_MaxMinRatio_acc_gyr_mag(s4_acc_sit_chest_filt)\n",
    "o2 = Fft_MaxMinRatio_acc_gyr_mag(s4_acc_sit_head_filt)\n",
    "o3 = Fft_MaxMinRatio_acc_gyr_mag(s4_acc_sit_forearm_filt)\n",
    "o4 = Fft_MaxMinRatio_acc_gyr_mag(s4_acc_sit_shin_filt)\n",
    "o5 = Fft_MaxMinRatio_acc_gyr_mag(s4_acc_sit_thigh_filt)\n",
    "o6 = Fft_MaxMinRatio_acc_gyr_mag(s4_acc_sit_upperarm_filt)\n",
    "o7 = Fft_MaxMinRatio_acc_gyr_mag(s4_acc_sit_waist_filt)\n",
    "s4_sit_FR = np.hstack((o1,o2,o3,o4,o5,o6,o7))"
   ]
  },
  {
   "cell_type": "code",
   "execution_count": 853,
   "id": "54b9a775",
   "metadata": {},
   "outputs": [],
   "source": [
    "o1 = Fft_MaxMinRatio_acc_gyr_mag(s5_acc_sit_chest_filt)\n",
    "o2 = Fft_MaxMinRatio_acc_gyr_mag(s5_acc_sit_head_filt)\n",
    "o3 = Fft_MaxMinRatio_acc_gyr_mag(s5_acc_sit_forearm_filt)\n",
    "o4 = Fft_MaxMinRatio_acc_gyr_mag(s5_acc_sit_shin_filt)\n",
    "o5 = Fft_MaxMinRatio_acc_gyr_mag(s5_acc_sit_thigh_filt)\n",
    "o6 = Fft_MaxMinRatio_acc_gyr_mag(s5_acc_sit_upperarm_filt)\n",
    "o7 = Fft_MaxMinRatio_acc_gyr_mag(s5_acc_sit_waist_filt)\n",
    "s5_sit_FR = np.hstack((o1,o2,o3,o4,o5,o6,o7))"
   ]
  },
  {
   "cell_type": "code",
   "execution_count": 854,
   "id": "3a4bfdf0",
   "metadata": {},
   "outputs": [],
   "source": [
    "o1 = Fft_MaxMinRatio_acc_gyr_mag(s6_acc_sit_chest_filt)\n",
    "o2 = Fft_MaxMinRatio_acc_gyr_mag(s6_acc_sit_head_filt)\n",
    "o3 = Fft_MaxMinRatio_acc_gyr_mag(s6_acc_sit_forearm_filt)\n",
    "o4 = Fft_MaxMinRatio_acc_gyr_mag(s6_acc_sit_shin_filt)\n",
    "o5 = Fft_MaxMinRatio_acc_gyr_mag(s6_acc_sit_thigh_filt)\n",
    "o6 = Fft_MaxMinRatio_acc_gyr_mag(s6_acc_sit_upperarm_filt)\n",
    "o7 = Fft_MaxMinRatio_acc_gyr_mag(s6_acc_sit_waist_filt)\n",
    "s6_sit_FR = np.hstack((o1,o2,o3,o4,o5,o6,o7))"
   ]
  },
  {
   "cell_type": "code",
   "execution_count": 855,
   "id": "0fcf37eb",
   "metadata": {},
   "outputs": [],
   "source": [
    "o1 = Fft_MaxMinRatio_acc_gyr_mag(s7_acc_sit_chest_filt)\n",
    "o2 = Fft_MaxMinRatio_acc_gyr_mag(s7_acc_sit_head_filt)\n",
    "o3 = Fft_MaxMinRatio_acc_gyr_mag(s7_acc_sit_forearm_filt)\n",
    "o4 = Fft_MaxMinRatio_acc_gyr_mag(s7_acc_sit_shin_filt)\n",
    "o5 = Fft_MaxMinRatio_acc_gyr_mag(s7_acc_sit_thigh_filt)\n",
    "o6 = Fft_MaxMinRatio_acc_gyr_mag(s7_acc_sit_upperarm_filt)\n",
    "o7 = Fft_MaxMinRatio_acc_gyr_mag(s7_acc_sit_waist_filt)\n",
    "s7_sit_FR = np.hstack((o1,o2,o3,o4,o5,o6,o7))"
   ]
  },
  {
   "cell_type": "code",
   "execution_count": 856,
   "id": "04329300",
   "metadata": {},
   "outputs": [],
   "source": [
    "o1 = Fft_MaxMinRatio_acc_gyr_mag(s8_acc_sit_chest_filt)\n",
    "o2 = Fft_MaxMinRatio_acc_gyr_mag(s8_acc_sit_head_filt)\n",
    "o3 = Fft_MaxMinRatio_acc_gyr_mag(s8_acc_sit_forearm_filt)\n",
    "o4 = Fft_MaxMinRatio_acc_gyr_mag(s8_acc_sit_shin_filt)\n",
    "o5 = Fft_MaxMinRatio_acc_gyr_mag(s8_acc_sit_thigh_filt)\n",
    "o6 = Fft_MaxMinRatio_acc_gyr_mag(s8_acc_sit_upperarm_filt)\n",
    "o7 = Fft_MaxMinRatio_acc_gyr_mag(s8_acc_sit_waist_filt)\n",
    "s8_sit_FR = np.hstack((o1,o2,o3,o4,o5,o6,o7))"
   ]
  },
  {
   "cell_type": "code",
   "execution_count": 857,
   "id": "82f7431d",
   "metadata": {},
   "outputs": [],
   "source": [
    "o1 = Fft_MaxMinRatio_acc_gyr_mag(s9_acc_sit_chest_filt)\n",
    "o2 = Fft_MaxMinRatio_acc_gyr_mag(s9_acc_sit_head_filt)\n",
    "o3 = Fft_MaxMinRatio_acc_gyr_mag(s9_acc_sit_forearm_filt)\n",
    "o4 = Fft_MaxMinRatio_acc_gyr_mag(s9_acc_sit_shin_filt)\n",
    "o5 = Fft_MaxMinRatio_acc_gyr_mag(s9_acc_sit_thigh_filt)\n",
    "o6 = Fft_MaxMinRatio_acc_gyr_mag(s9_acc_sit_upperarm_filt)\n",
    "o7 = Fft_MaxMinRatio_acc_gyr_mag(s9_acc_sit_waist_filt)\n",
    "s9_sit_FR = np.hstack((o1,o2,o3,o4,o5,o6,o7))"
   ]
  },
  {
   "cell_type": "code",
   "execution_count": 858,
   "id": "7eb26e24",
   "metadata": {},
   "outputs": [],
   "source": [
    "\n",
    "o1 = Fft_MaxMinRatio_acc_gyr_mag(s10_acc_sit_chest_filt)\n",
    "o2 = Fft_MaxMinRatio_acc_gyr_mag(s10_acc_sit_head_filt)\n",
    "o3 = Fft_MaxMinRatio_acc_gyr_mag(s10_acc_sit_forearm_filt)\n",
    "o4 = Fft_MaxMinRatio_acc_gyr_mag(s10_acc_sit_shin_filt)\n",
    "o5 = Fft_MaxMinRatio_acc_gyr_mag(s10_acc_sit_thigh_filt)\n",
    "o6 = Fft_MaxMinRatio_acc_gyr_mag(s10_acc_sit_upperarm_filt)\n",
    "o7 = Fft_MaxMinRatio_acc_gyr_mag(s10_acc_sit_waist_filt)\n",
    "s10_sit_FR = np.hstack((o1,o2,o3,o4,o5,o6,o7))"
   ]
  },
  {
   "cell_type": "code",
   "execution_count": 859,
   "id": "568b969e",
   "metadata": {},
   "outputs": [],
   "source": [
    "o1 = Fft_MaxMinRatio_acc_gyr_mag(s11_acc_sit_chest_filt)\n",
    "o2 = Fft_MaxMinRatio_acc_gyr_mag(s11_acc_sit_head_filt)\n",
    "o3 = Fft_MaxMinRatio_acc_gyr_mag(s11_acc_sit_forearm_filt)\n",
    "o4 = Fft_MaxMinRatio_acc_gyr_mag(s11_acc_sit_shin_filt)\n",
    "o5 = Fft_MaxMinRatio_acc_gyr_mag(s11_acc_sit_thigh_filt)\n",
    "o6 = Fft_MaxMinRatio_acc_gyr_mag(s11_acc_sit_upperarm_filt)\n",
    "o7 = Fft_MaxMinRatio_acc_gyr_mag(s11_acc_sit_waist_filt)\n",
    "s11_sit_FR = np.hstack((o1,o2,o3,o4,o5,o6,o7))"
   ]
  },
  {
   "cell_type": "code",
   "execution_count": 860,
   "id": "b25b4c20",
   "metadata": {},
   "outputs": [],
   "source": [
    "o1 = Fft_MaxMinRatio_acc_gyr_mag(s12_acc_sit_chest_filt)\n",
    "o2 = Fft_MaxMinRatio_acc_gyr_mag(s12_acc_sit_head_filt)\n",
    "o3 = Fft_MaxMinRatio_acc_gyr_mag(s12_acc_sit_forearm_filt)\n",
    "o4 = Fft_MaxMinRatio_acc_gyr_mag(s12_acc_sit_shin_filt)\n",
    "o5 = Fft_MaxMinRatio_acc_gyr_mag(s12_acc_sit_thigh_filt)\n",
    "o6 = Fft_MaxMinRatio_acc_gyr_mag(s12_acc_sit_upperarm_filt)\n",
    "o7 = Fft_MaxMinRatio_acc_gyr_mag(s12_acc_sit_waist_filt)\n",
    "s12_sit_FR = np.hstack((o1,o2,o3,o4,o5,o6,o7))"
   ]
  },
  {
   "cell_type": "code",
   "execution_count": 861,
   "id": "9983e461",
   "metadata": {},
   "outputs": [],
   "source": [
    "o1 = Fft_MaxMinRatio_acc_gyr_mag(s13_acc_sit_chest_filt)\n",
    "o2 = Fft_MaxMinRatio_acc_gyr_mag(s13_acc_sit_head_filt)\n",
    "o3 = Fft_MaxMinRatio_acc_gyr_mag(s13_acc_sit_forearm_filt)\n",
    "o4 = Fft_MaxMinRatio_acc_gyr_mag(s13_acc_sit_shin_filt)\n",
    "o5 = Fft_MaxMinRatio_acc_gyr_mag(s13_acc_sit_thigh_filt)\n",
    "o6 = Fft_MaxMinRatio_acc_gyr_mag(s13_acc_sit_upperarm_filt)\n",
    "o7 = Fft_MaxMinRatio_acc_gyr_mag(s13_acc_sit_waist_filt)\n",
    "s13_sit_FR = np.hstack((o1,o2,o3,o4,o5,o6,o7))"
   ]
  },
  {
   "cell_type": "code",
   "execution_count": 862,
   "id": "81cd90ab",
   "metadata": {},
   "outputs": [],
   "source": [
    "o1 = Fft_MaxMinRatio_acc_gyr_mag(s14_acc_sit_chest_filt)\n",
    "o2 = Fft_MaxMinRatio_acc_gyr_mag(s14_acc_sit_head_filt)\n",
    "o3 = Fft_MaxMinRatio_acc_gyr_mag(s14_acc_sit_forearm_filt)\n",
    "o4 = Fft_MaxMinRatio_acc_gyr_mag(s14_acc_sit_shin_filt)\n",
    "o5 = Fft_MaxMinRatio_acc_gyr_mag(s14_acc_sit_thigh_filt)\n",
    "o6 = Fft_MaxMinRatio_acc_gyr_mag(s14_acc_sit_upperarm_filt)\n",
    "o7 = Fft_MaxMinRatio_acc_gyr_mag(s14_acc_sit_waist_filt)\n",
    "s14_sit_FR = np.hstack((o1,o2,o3,o4,o5,o6,o7))"
   ]
  },
  {
   "cell_type": "code",
   "execution_count": 863,
   "id": "c30c4ddb",
   "metadata": {},
   "outputs": [],
   "source": [
    "o1 = Fft_MaxMinRatio_acc_gyr_mag(s15_acc_sit_chest_filt)\n",
    "o2 = Fft_MaxMinRatio_acc_gyr_mag(s15_acc_sit_head_filt)\n",
    "o3 = Fft_MaxMinRatio_acc_gyr_mag(s15_acc_sit_forearm_filt)\n",
    "o4 = Fft_MaxMinRatio_acc_gyr_mag(s15_acc_sit_shin_filt)\n",
    "o5 = Fft_MaxMinRatio_acc_gyr_mag(s15_acc_sit_thigh_filt)\n",
    "o6 = Fft_MaxMinRatio_acc_gyr_mag(s15_acc_sit_upperarm_filt)\n",
    "o7 = Fft_MaxMinRatio_acc_gyr_mag(s15_acc_sit_waist_filt)\n",
    "s15_sit_FR = np.hstack((o1,o2,o3,o4,o5,o6,o7))"
   ]
  },
  {
   "cell_type": "code",
   "execution_count": 864,
   "id": "ab6d8453",
   "metadata": {},
   "outputs": [],
   "source": [
    "sit_FR = []\n",
    "sit_FR.append(s1_sit_FR)\n",
    "sit_FR.append(s2_sit_FR)\n",
    "sit_FR.append(s3_sit_FR)\n",
    "sit_FR.append(s4_sit_FR)\n",
    "sit_FR.append(s5_sit_FR)\n",
    "sit_FR.append(s6_sit_FR)\n",
    "sit_FR.append(s7_sit_FR)\n",
    "sit_FR.append(s8_sit_FR)\n",
    "sit_FR.append(s9_sit_FR)\n",
    "sit_FR.append(s10_sit_FR)\n",
    "sit_FR.append(s11_sit_FR)\n",
    "sit_FR.append(s12_sit_FR)\n",
    "sit_FR.append(s13_sit_FR)\n",
    "sit_FR.append(s14_sit_FR)\n",
    "sit_FR.append(s15_sit_FR)"
   ]
  },
  {
   "cell_type": "code",
   "execution_count": 865,
   "id": "ba5fa0bc",
   "metadata": {},
   "outputs": [],
   "source": [
    "sit_features = [1]*15\n",
    "\n",
    "for i in range(15):\n",
    "    sit_features[i] = np.concatenate((sit_parseval[i],sit_skew[i],sit_FD[i],sit_FR[i]))"
   ]
  },
  {
   "cell_type": "code",
   "execution_count": 866,
   "id": "dac33bd4",
   "metadata": {},
   "outputs": [],
   "source": [
    "#parseval for standing"
   ]
  },
  {
   "cell_type": "code",
   "execution_count": 867,
   "id": "95cc8a91",
   "metadata": {},
   "outputs": [],
   "source": [
    "o1 = Parseval_acc_gyr_mag(s1_acc_std_chest_filt)\n",
    "o2 = Parseval_acc_gyr_mag(s1_acc_std_head_filt)\n",
    "o3 = Parseval_acc_gyr_mag(s1_acc_std_forearm_filt)\n",
    "o4 = Parseval_acc_gyr_mag(s1_acc_std_shin_filt)\n",
    "o5 = Parseval_acc_gyr_mag(s1_acc_std_thigh_filt)\n",
    "o6 = Parseval_acc_gyr_mag(s1_acc_std_upperarm_filt)\n",
    "o7 = Parseval_acc_gyr_mag(s1_acc_std_waist_filt)\n",
    "s1_std_parseval = np.hstack((o1,o2,o3,o4,o5,o6,o7))"
   ]
  },
  {
   "cell_type": "code",
   "execution_count": 868,
   "id": "3936024c",
   "metadata": {},
   "outputs": [],
   "source": [
    "o1 = Parseval_acc_gyr_mag(s2_acc_std_chest_filt)\n",
    "o2 = Parseval_acc_gyr_mag(s2_acc_std_head_filt)\n",
    "o3 = Parseval_acc_gyr_mag(s2_acc_std_forearm_filt)\n",
    "o4 = Parseval_acc_gyr_mag(s2_acc_std_shin_filt)\n",
    "o5 = Parseval_acc_gyr_mag(s2_acc_std_thigh_filt)\n",
    "o6 = Parseval_acc_gyr_mag(s2_acc_std_upperarm_filt)\n",
    "o7 = Parseval_acc_gyr_mag(s2_acc_std_waist_filt)\n",
    "s2_std_parseval = np.hstack((o1,o2,o3,o4,o5,o6,o7))"
   ]
  },
  {
   "cell_type": "code",
   "execution_count": 869,
   "id": "914cbdfa",
   "metadata": {},
   "outputs": [],
   "source": [
    "o1 = Parseval_acc_gyr_mag(s3_acc_std_chest_filt)\n",
    "o2 = Parseval_acc_gyr_mag(s3_acc_std_head_filt)\n",
    "o3 = Parseval_acc_gyr_mag(s3_acc_std_forearm_filt)\n",
    "o4 = Parseval_acc_gyr_mag(s3_acc_std_shin_filt)\n",
    "o5 = Parseval_acc_gyr_mag(s3_acc_std_thigh_filt)\n",
    "o6 = Parseval_acc_gyr_mag(s3_acc_std_upperarm_filt)\n",
    "o7 = Parseval_acc_gyr_mag(s3_acc_std_waist_filt)\n",
    "s3_std_parseval = np.hstack((o1,o2,o3,o4,o5,o6,o7))"
   ]
  },
  {
   "cell_type": "code",
   "execution_count": 870,
   "id": "6e412b8b",
   "metadata": {},
   "outputs": [],
   "source": [
    "o1 = Parseval_acc_gyr_mag(s4_acc_std_chest_filt)\n",
    "o2 = Parseval_acc_gyr_mag(s4_acc_std_head_filt)\n",
    "o3 = Parseval_acc_gyr_mag(s4_acc_std_forearm_filt)\n",
    "o4 = Parseval_acc_gyr_mag(s4_acc_std_shin_filt)\n",
    "o5 = Parseval_acc_gyr_mag(s4_acc_std_thigh_filt)\n",
    "o6 = Parseval_acc_gyr_mag(s4_acc_std_upperarm_filt)\n",
    "o7 = Parseval_acc_gyr_mag(s4_acc_std_waist_filt)\n",
    "s4_std_parseval = np.hstack((o1,o2,o3,o4,o5,o6,o7))"
   ]
  },
  {
   "cell_type": "code",
   "execution_count": 871,
   "id": "fb7e43c3",
   "metadata": {},
   "outputs": [],
   "source": [
    "o1 = Parseval_acc_gyr_mag(s5_acc_std_chest_filt)\n",
    "o2 = Parseval_acc_gyr_mag(s5_acc_std_head_filt)\n",
    "o3 = Parseval_acc_gyr_mag(s5_acc_std_forearm_filt)\n",
    "o4 = Parseval_acc_gyr_mag(s5_acc_std_shin_filt)\n",
    "o5 = Parseval_acc_gyr_mag(s5_acc_std_thigh_filt)\n",
    "o6 = Parseval_acc_gyr_mag(s5_acc_std_upperarm_filt)\n",
    "o7 = Parseval_acc_gyr_mag(s5_acc_std_waist_filt)\n",
    "s5_std_parseval = np.hstack((o1,o2,o3,o4,o5,o6,o7))"
   ]
  },
  {
   "cell_type": "code",
   "execution_count": 872,
   "id": "a88ec3cc",
   "metadata": {},
   "outputs": [],
   "source": [
    "o1 = Parseval_acc_gyr_mag(s6_acc_std_chest_filt)\n",
    "o2 = Parseval_acc_gyr_mag(s6_acc_std_head_filt)\n",
    "o3 = Parseval_acc_gyr_mag(s6_acc_std_forearm_filt)\n",
    "o4 = Parseval_acc_gyr_mag(s6_acc_std_shin_filt)\n",
    "o5 = Parseval_acc_gyr_mag(s6_acc_std_thigh_filt)\n",
    "o6 = Parseval_acc_gyr_mag(s6_acc_std_upperarm_filt)\n",
    "o7 = Parseval_acc_gyr_mag(s6_acc_std_waist_filt)\n",
    "s6_std_parseval = np.hstack((o1,o2,o3,o4,o5,o6,o7))"
   ]
  },
  {
   "cell_type": "code",
   "execution_count": 873,
   "id": "d9947655",
   "metadata": {},
   "outputs": [],
   "source": [
    "o1 = Parseval_acc_gyr_mag(s7_acc_std_chest_filt)\n",
    "o2 = Parseval_acc_gyr_mag(s7_acc_std_head_filt)\n",
    "o3 = Parseval_acc_gyr_mag(s7_acc_std_forearm_filt)\n",
    "o4 = Parseval_acc_gyr_mag(s7_acc_std_shin_filt)\n",
    "o5 = Parseval_acc_gyr_mag(s7_acc_std_thigh_filt)\n",
    "o6 = Parseval_acc_gyr_mag(s7_acc_std_upperarm_filt)\n",
    "o7 = Parseval_acc_gyr_mag(s7_acc_std_waist_filt)\n",
    "s7_std_parseval = np.hstack((o1,o2,o3,o4,o5,o6,o7))"
   ]
  },
  {
   "cell_type": "code",
   "execution_count": 874,
   "id": "1a7041e7",
   "metadata": {},
   "outputs": [],
   "source": [
    "o1 = Parseval_acc_gyr_mag(s8_acc_std_chest_filt)\n",
    "o2 = Parseval_acc_gyr_mag(s8_acc_std_head_filt)\n",
    "o3 = Parseval_acc_gyr_mag(s8_acc_std_forearm_filt)\n",
    "o4 = Parseval_acc_gyr_mag(s8_acc_std_shin_filt)\n",
    "o5 = Parseval_acc_gyr_mag(s8_acc_std_thigh_filt)\n",
    "o6 = Parseval_acc_gyr_mag(s8_acc_std_upperarm_filt)\n",
    "o7 = Parseval_acc_gyr_mag(s8_acc_std_waist_filt)\n",
    "s8_std_parseval = np.hstack((o1,o2,o3,o4,o5,o6,o7))"
   ]
  },
  {
   "cell_type": "code",
   "execution_count": 875,
   "id": "77492af5",
   "metadata": {},
   "outputs": [],
   "source": [
    "o1 = Parseval_acc_gyr_mag(s9_acc_std_chest_filt)\n",
    "o2 = Parseval_acc_gyr_mag(s9_acc_std_head_filt)\n",
    "o3 = Parseval_acc_gyr_mag(s9_acc_std_forearm_filt)\n",
    "o4 = Parseval_acc_gyr_mag(s9_acc_std_shin_filt)\n",
    "o5 = Parseval_acc_gyr_mag(s9_acc_std_thigh_filt)\n",
    "o6 = Parseval_acc_gyr_mag(s9_acc_std_upperarm_filt)\n",
    "o7 = Parseval_acc_gyr_mag(s9_acc_std_waist_filt)\n",
    "s9_std_parseval = np.hstack((o1,o2,o3,o4,o5,o6,o7))\n"
   ]
  },
  {
   "cell_type": "code",
   "execution_count": 876,
   "id": "7c228c39",
   "metadata": {},
   "outputs": [],
   "source": [
    "o1 = Parseval_acc_gyr_mag(s10_acc_std_chest_filt)\n",
    "o2 = Parseval_acc_gyr_mag(s10_acc_std_head_filt)\n",
    "o3 = Parseval_acc_gyr_mag(s10_acc_std_forearm_filt)\n",
    "o4 = Parseval_acc_gyr_mag(s10_acc_std_shin_filt)\n",
    "o5 = Parseval_acc_gyr_mag(s10_acc_std_thigh_filt)\n",
    "o6 = Parseval_acc_gyr_mag(s10_acc_std_upperarm_filt)\n",
    "o7 = Parseval_acc_gyr_mag(s10_acc_std_waist_filt)\n",
    "s10_std_parseval = np.hstack((o1,o2,o3,o4,o5,o6,o7))"
   ]
  },
  {
   "cell_type": "code",
   "execution_count": 877,
   "id": "272cfb51",
   "metadata": {},
   "outputs": [],
   "source": [
    "o1 = Parseval_acc_gyr_mag(s11_acc_std_chest_filt)\n",
    "o2 = Parseval_acc_gyr_mag(s11_acc_std_head_filt)\n",
    "o3 = Parseval_acc_gyr_mag(s11_acc_std_forearm_filt)\n",
    "o4 = Parseval_acc_gyr_mag(s11_acc_std_shin_filt)\n",
    "o5 = Parseval_acc_gyr_mag(s11_acc_std_thigh_filt)\n",
    "o6 = Parseval_acc_gyr_mag(s11_acc_std_upperarm_filt)\n",
    "o7 = Parseval_acc_gyr_mag(s11_acc_std_waist_filt)\n",
    "s11_std_parseval = np.hstack((o1,o2,o3,o4,o5,o6,o7))"
   ]
  },
  {
   "cell_type": "code",
   "execution_count": 878,
   "id": "3b67048c",
   "metadata": {},
   "outputs": [],
   "source": [
    "o1 = Parseval_acc_gyr_mag(s12_acc_std_chest_filt)\n",
    "o2 = Parseval_acc_gyr_mag(s12_acc_std_head_filt)\n",
    "o3 = Parseval_acc_gyr_mag(s12_acc_std_forearm_filt)\n",
    "o4 = Parseval_acc_gyr_mag(s12_acc_std_shin_filt)\n",
    "o5 = Parseval_acc_gyr_mag(s12_acc_std_thigh_filt)\n",
    "o6 = Parseval_acc_gyr_mag(s12_acc_std_upperarm_filt)\n",
    "o7 = Parseval_acc_gyr_mag(s12_acc_std_waist_filt)\n",
    "s12_std_parseval = np.hstack((o1,o2,o3,o4,o5,o6,o7))"
   ]
  },
  {
   "cell_type": "code",
   "execution_count": 879,
   "id": "ca31fbd4",
   "metadata": {},
   "outputs": [],
   "source": [
    "o1 = Parseval_acc_gyr_mag(s13_acc_std_chest_filt)\n",
    "o2 = Parseval_acc_gyr_mag(s13_acc_std_head_filt)\n",
    "o3 = Parseval_acc_gyr_mag(s13_acc_std_forearm_filt)\n",
    "o4 = Parseval_acc_gyr_mag(s13_acc_std_shin_filt)\n",
    "o5 = Parseval_acc_gyr_mag(s13_acc_std_thigh_filt)\n",
    "o6 = Parseval_acc_gyr_mag(s13_acc_std_upperarm_filt)\n",
    "o7 = Parseval_acc_gyr_mag(s13_acc_std_waist_filt)\n",
    "s13_std_parseval = np.hstack((o1,o2,o3,o4,o5,o6,o7))"
   ]
  },
  {
   "cell_type": "code",
   "execution_count": 880,
   "id": "9f852315",
   "metadata": {},
   "outputs": [],
   "source": [
    "o1 = Parseval_acc_gyr_mag(s14_acc_std_chest_filt)\n",
    "o2 = Parseval_acc_gyr_mag(s14_acc_std_head_filt)\n",
    "o3 = Parseval_acc_gyr_mag(s14_acc_std_forearm_filt)\n",
    "o4 = Parseval_acc_gyr_mag(s14_acc_std_shin_filt)\n",
    "o5 = Parseval_acc_gyr_mag(s14_acc_std_thigh_filt)\n",
    "o6 = Parseval_acc_gyr_mag(s14_acc_std_upperarm_filt)\n",
    "o7 = Parseval_acc_gyr_mag(s14_acc_std_waist_filt)\n",
    "s14_std_parseval = np.hstack((o1,o2,o3,o4,o5,o6,o7))"
   ]
  },
  {
   "cell_type": "code",
   "execution_count": 881,
   "id": "b5c4f3fd",
   "metadata": {},
   "outputs": [],
   "source": [
    "\n",
    "o1 = Parseval_acc_gyr_mag(s15_acc_std_chest_filt)\n",
    "o2 = Parseval_acc_gyr_mag(s15_acc_std_head_filt)\n",
    "o3 = Parseval_acc_gyr_mag(s15_acc_std_forearm_filt)\n",
    "o4 = Parseval_acc_gyr_mag(s15_acc_std_shin_filt)\n",
    "o5 = Parseval_acc_gyr_mag(s15_acc_std_thigh_filt)\n",
    "o6 = Parseval_acc_gyr_mag(s15_acc_std_upperarm_filt)\n",
    "o7 = Parseval_acc_gyr_mag(s15_acc_std_waist_filt)\n",
    "s15_std_parseval = np.hstack((o1,o2,o3,o4,o5,o6,o7))"
   ]
  },
  {
   "cell_type": "code",
   "execution_count": 882,
   "id": "db931c30",
   "metadata": {},
   "outputs": [],
   "source": [
    "std_parseval = []\n",
    "std_parseval.append(s1_std_parseval)\n",
    "std_parseval.append(s2_std_parseval)\n",
    "std_parseval.append(s3_std_parseval)\n",
    "std_parseval.append(s4_std_parseval)\n",
    "std_parseval.append(s5_std_parseval)\n",
    "std_parseval.append(s6_std_parseval)\n",
    "std_parseval.append(s7_std_parseval)\n",
    "std_parseval.append(s8_std_parseval)\n",
    "std_parseval.append(s9_std_parseval)\n",
    "std_parseval.append(s10_std_parseval)\n",
    "std_parseval.append(s11_std_parseval)\n",
    "std_parseval.append(s12_std_parseval)\n",
    "std_parseval.append(s13_std_parseval)\n",
    "std_parseval.append(s14_std_parseval)\n",
    "std_parseval.append(s15_std_parseval)"
   ]
  },
  {
   "cell_type": "code",
   "execution_count": 883,
   "id": "45e3fec1",
   "metadata": {},
   "outputs": [],
   "source": [
    "#skewness for standing"
   ]
  },
  {
   "cell_type": "code",
   "execution_count": 884,
   "id": "fe33e4ce",
   "metadata": {},
   "outputs": [],
   "source": [
    "o1 = Skewness_acc_gyr_mag(s1_acc_std_chest_filt)\n",
    "o2 = Skewness_acc_gyr_mag(s1_acc_std_head_filt)\n",
    "o3 = Skewness_acc_gyr_mag(s1_acc_std_forearm_filt)\n",
    "o4 = Skewness_acc_gyr_mag(s1_acc_std_shin_filt)\n",
    "o5 = Skewness_acc_gyr_mag(s1_acc_std_thigh_filt)\n",
    "o6 = Skewness_acc_gyr_mag(s1_acc_std_upperarm_filt)\n",
    "o7 = Skewness_acc_gyr_mag(s1_acc_std_waist_filt)\n",
    "s1_std_skew = np.hstack((o1,o2,o3,o4,o5,o6,o7))"
   ]
  },
  {
   "cell_type": "code",
   "execution_count": 885,
   "id": "c316e33f",
   "metadata": {},
   "outputs": [],
   "source": [
    "o1 = Skewness_acc_gyr_mag(s2_acc_std_chest_filt)\n",
    "o2 = Skewness_acc_gyr_mag(s2_acc_std_head_filt)\n",
    "o3 = Skewness_acc_gyr_mag(s2_acc_std_forearm_filt)\n",
    "o4 = Skewness_acc_gyr_mag(s2_acc_std_shin_filt)\n",
    "o5 = Skewness_acc_gyr_mag(s2_acc_std_thigh_filt)\n",
    "o6 = Skewness_acc_gyr_mag(s2_acc_std_upperarm_filt)\n",
    "o7 = Skewness_acc_gyr_mag(s2_acc_std_waist_filt)\n",
    "s2_std_skew = np.hstack((o1,o2,o3,o4,o5,o6,o7))"
   ]
  },
  {
   "cell_type": "code",
   "execution_count": 886,
   "id": "f5cb5690",
   "metadata": {},
   "outputs": [],
   "source": [
    "o1 = Skewness_acc_gyr_mag(s3_acc_std_chest_filt)\n",
    "o2 = Skewness_acc_gyr_mag(s3_acc_std_head_filt)\n",
    "o3 = Skewness_acc_gyr_mag(s3_acc_std_forearm_filt)\n",
    "o4 = Skewness_acc_gyr_mag(s3_acc_std_shin_filt)\n",
    "o5 = Skewness_acc_gyr_mag(s3_acc_std_thigh_filt)\n",
    "o6 = Skewness_acc_gyr_mag(s3_acc_std_upperarm_filt)\n",
    "o7 = Skewness_acc_gyr_mag(s3_acc_std_waist_filt)\n",
    "s3_std_skew = np.hstack((o1,o2,o3,o4,o5,o6,o7))"
   ]
  },
  {
   "cell_type": "code",
   "execution_count": 887,
   "id": "24cdb9b0",
   "metadata": {},
   "outputs": [],
   "source": [
    "o1 = Skewness_acc_gyr_mag(s4_acc_std_chest_filt)\n",
    "o2 = Skewness_acc_gyr_mag(s4_acc_std_head_filt)\n",
    "o3 = Skewness_acc_gyr_mag(s4_acc_std_forearm_filt)\n",
    "o4 = Skewness_acc_gyr_mag(s4_acc_std_shin_filt)\n",
    "o5 = Skewness_acc_gyr_mag(s4_acc_std_thigh_filt)\n",
    "o6 = Skewness_acc_gyr_mag(s4_acc_std_upperarm_filt)\n",
    "o7 = Skewness_acc_gyr_mag(s4_acc_std_waist_filt)\n",
    "s4_std_skew = np.hstack((o1,o2,o3,o4,o5,o6,o7))"
   ]
  },
  {
   "cell_type": "code",
   "execution_count": 888,
   "id": "ee64099e",
   "metadata": {},
   "outputs": [],
   "source": [
    "o1 = Skewness_acc_gyr_mag(s5_acc_std_chest_filt)\n",
    "o2 = Skewness_acc_gyr_mag(s5_acc_std_head_filt)\n",
    "o3 = Skewness_acc_gyr_mag(s5_acc_std_forearm_filt)\n",
    "o4 = Skewness_acc_gyr_mag(s5_acc_std_shin_filt)\n",
    "o5 = Skewness_acc_gyr_mag(s5_acc_std_thigh_filt)\n",
    "o6 = Skewness_acc_gyr_mag(s5_acc_std_upperarm_filt)\n",
    "o7 = Skewness_acc_gyr_mag(s5_acc_std_waist_filt)\n",
    "s5_std_skew = np.hstack((o1,o2,o3,o4,o5,o6,o7))"
   ]
  },
  {
   "cell_type": "code",
   "execution_count": 889,
   "id": "83d43cad",
   "metadata": {},
   "outputs": [],
   "source": [
    "o1 = Skewness_acc_gyr_mag(s6_acc_std_chest_filt)\n",
    "o2 = Skewness_acc_gyr_mag(s6_acc_std_head_filt)\n",
    "o3 = Skewness_acc_gyr_mag(s6_acc_std_forearm_filt)\n",
    "o4 = Skewness_acc_gyr_mag(s6_acc_std_shin_filt)\n",
    "o5 = Skewness_acc_gyr_mag(s6_acc_std_thigh_filt)\n",
    "o6 = Skewness_acc_gyr_mag(s6_acc_std_upperarm_filt)\n",
    "o7 = Skewness_acc_gyr_mag(s6_acc_std_waist_filt)\n",
    "s6_std_skew = np.hstack((o1,o2,o3,o4,o5,o6,o7))"
   ]
  },
  {
   "cell_type": "code",
   "execution_count": 890,
   "id": "046d2927",
   "metadata": {},
   "outputs": [],
   "source": [
    "o1 = Skewness_acc_gyr_mag(s7_acc_std_chest_filt)\n",
    "o2 = Skewness_acc_gyr_mag(s7_acc_std_head_filt)\n",
    "o3 = Skewness_acc_gyr_mag(s7_acc_std_forearm_filt)\n",
    "o4 = Skewness_acc_gyr_mag(s7_acc_std_shin_filt)\n",
    "o5 = Skewness_acc_gyr_mag(s7_acc_std_thigh_filt)\n",
    "o6 = Skewness_acc_gyr_mag(s7_acc_std_upperarm_filt)\n",
    "o7 = Skewness_acc_gyr_mag(s7_acc_std_waist_filt)\n",
    "s7_std_skew = np.hstack((o1,o2,o3,o4,o5,o6,o7))"
   ]
  },
  {
   "cell_type": "code",
   "execution_count": 891,
   "id": "0bec85bb",
   "metadata": {},
   "outputs": [],
   "source": [
    "o1 = Skewness_acc_gyr_mag(s8_acc_std_chest_filt)\n",
    "o2 = Skewness_acc_gyr_mag(s8_acc_std_head_filt)\n",
    "o3 = Skewness_acc_gyr_mag(s8_acc_std_forearm_filt)\n",
    "o4 = Skewness_acc_gyr_mag(s8_acc_std_shin_filt)\n",
    "o5 = Skewness_acc_gyr_mag(s8_acc_std_thigh_filt)\n",
    "o6 = Skewness_acc_gyr_mag(s8_acc_std_upperarm_filt)\n",
    "o7 = Skewness_acc_gyr_mag(s8_acc_std_waist_filt)\n",
    "s8_std_skew = np.hstack((o1,o2,o3,o4,o5,o6,o7))"
   ]
  },
  {
   "cell_type": "code",
   "execution_count": 892,
   "id": "5ec30b9f",
   "metadata": {},
   "outputs": [],
   "source": [
    "o1 = Skewness_acc_gyr_mag(s9_acc_std_chest_filt)\n",
    "o2 = Skewness_acc_gyr_mag(s9_acc_std_head_filt)\n",
    "o3 = Skewness_acc_gyr_mag(s9_acc_std_forearm_filt)\n",
    "o4 = Skewness_acc_gyr_mag(s9_acc_std_shin_filt)\n",
    "o5 = Skewness_acc_gyr_mag(s9_acc_std_thigh_filt)\n",
    "o6 = Skewness_acc_gyr_mag(s9_acc_std_upperarm_filt)\n",
    "o7 = Skewness_acc_gyr_mag(s9_acc_std_waist_filt)\n",
    "s9_std_skew = np.hstack((o1,o2,o3,o4,o5,o6,o7))"
   ]
  },
  {
   "cell_type": "code",
   "execution_count": 893,
   "id": "f5bdf3e9",
   "metadata": {},
   "outputs": [],
   "source": [
    "o1 = Skewness_acc_gyr_mag(s10_acc_std_chest_filt)\n",
    "o2 = Skewness_acc_gyr_mag(s10_acc_std_head_filt)\n",
    "o3 = Skewness_acc_gyr_mag(s10_acc_std_forearm_filt)\n",
    "o4 = Skewness_acc_gyr_mag(s10_acc_std_shin_filt)\n",
    "o5 = Skewness_acc_gyr_mag(s10_acc_std_thigh_filt)\n",
    "o6 = Skewness_acc_gyr_mag(s10_acc_std_upperarm_filt)\n",
    "o7 = Skewness_acc_gyr_mag(s10_acc_std_waist_filt)\n",
    "s10_std_skew = np.hstack((o1,o2,o3,o4,o5,o6,o7))"
   ]
  },
  {
   "cell_type": "code",
   "execution_count": 894,
   "id": "6c0dc61d",
   "metadata": {},
   "outputs": [],
   "source": [
    "o1 = Skewness_acc_gyr_mag(s11_acc_std_chest_filt)\n",
    "o2 = Skewness_acc_gyr_mag(s11_acc_std_head_filt)\n",
    "o3 = Skewness_acc_gyr_mag(s11_acc_std_forearm_filt)\n",
    "o4 = Skewness_acc_gyr_mag(s11_acc_std_shin_filt)\n",
    "o5 = Skewness_acc_gyr_mag(s11_acc_std_thigh_filt)\n",
    "o6 = Skewness_acc_gyr_mag(s11_acc_std_upperarm_filt)\n",
    "o7 = Skewness_acc_gyr_mag(s11_acc_std_waist_filt)\n",
    "s11_std_skew = np.hstack((o1,o2,o3,o4,o5,o6,o7))"
   ]
  },
  {
   "cell_type": "code",
   "execution_count": 895,
   "id": "d5d98aaa",
   "metadata": {},
   "outputs": [],
   "source": [
    "o1 = Skewness_acc_gyr_mag(s12_acc_std_chest_filt)\n",
    "o2 = Skewness_acc_gyr_mag(s12_acc_std_head_filt)\n",
    "o3 = Skewness_acc_gyr_mag(s12_acc_std_forearm_filt)\n",
    "o4 = Skewness_acc_gyr_mag(s12_acc_std_shin_filt)\n",
    "o5 = Skewness_acc_gyr_mag(s12_acc_std_thigh_filt)\n",
    "o6 = Skewness_acc_gyr_mag(s12_acc_std_upperarm_filt)\n",
    "o7 = Skewness_acc_gyr_mag(s12_acc_std_waist_filt)\n",
    "s12_std_skew = np.hstack((o1,o2,o3,o4,o5,o6,o7))"
   ]
  },
  {
   "cell_type": "code",
   "execution_count": 896,
   "id": "1374615c",
   "metadata": {},
   "outputs": [],
   "source": [
    "o1 = Skewness_acc_gyr_mag(s13_acc_std_chest_filt)\n",
    "o2 = Skewness_acc_gyr_mag(s13_acc_std_head_filt)\n",
    "o3 = Skewness_acc_gyr_mag(s13_acc_std_forearm_filt)\n",
    "o4 = Skewness_acc_gyr_mag(s13_acc_std_shin_filt)\n",
    "o5 = Skewness_acc_gyr_mag(s13_acc_std_thigh_filt)\n",
    "o6 = Skewness_acc_gyr_mag(s13_acc_std_upperarm_filt)\n",
    "o7 = Skewness_acc_gyr_mag(s13_acc_std_waist_filt)\n",
    "s13_std_skew = np.hstack((o1,o2,o3,o4,o5,o6,o7))"
   ]
  },
  {
   "cell_type": "code",
   "execution_count": 897,
   "id": "198080c1",
   "metadata": {},
   "outputs": [],
   "source": [
    "o1 = Skewness_acc_gyr_mag(s14_acc_std_chest_filt)\n",
    "o2 = Skewness_acc_gyr_mag(s14_acc_std_head_filt)\n",
    "o3 = Skewness_acc_gyr_mag(s14_acc_std_forearm_filt)\n",
    "o4 = Skewness_acc_gyr_mag(s14_acc_std_shin_filt)\n",
    "o5 = Skewness_acc_gyr_mag(s14_acc_std_thigh_filt)\n",
    "o6 = Skewness_acc_gyr_mag(s14_acc_std_upperarm_filt)\n",
    "o7 = Skewness_acc_gyr_mag(s14_acc_std_waist_filt)\n",
    "s14_std_skew = np.hstack((o1,o2,o3,o4,o5,o6,o7))"
   ]
  },
  {
   "cell_type": "code",
   "execution_count": 898,
   "id": "192d6559",
   "metadata": {},
   "outputs": [],
   "source": [
    "o1 = Skewness_acc_gyr_mag(s15_acc_std_chest_filt)\n",
    "o2 = Skewness_acc_gyr_mag(s15_acc_std_head_filt)\n",
    "o3 = Skewness_acc_gyr_mag(s15_acc_std_forearm_filt)\n",
    "o4 = Skewness_acc_gyr_mag(s15_acc_std_shin_filt)\n",
    "o5 = Skewness_acc_gyr_mag(s15_acc_std_thigh_filt)\n",
    "o6 = Skewness_acc_gyr_mag(s15_acc_std_upperarm_filt)\n",
    "o7 = Skewness_acc_gyr_mag(s15_acc_std_waist_filt)\n",
    "s15_std_skew = np.hstack((o1,o2,o3,o4,o5,o6,o7))"
   ]
  },
  {
   "cell_type": "code",
   "execution_count": 899,
   "id": "28fdef4a",
   "metadata": {},
   "outputs": [],
   "source": [
    "std_skew = []\n",
    "std_skew.append(s1_std_skew)\n",
    "std_skew.append(s2_std_skew)\n",
    "std_skew.append(s3_std_skew)\n",
    "std_skew.append(s4_std_skew)\n",
    "std_skew.append(s5_std_skew)\n",
    "std_skew.append(s6_std_skew)\n",
    "std_skew.append(s7_std_skew)\n",
    "std_skew.append(s8_std_skew)\n",
    "std_skew.append(s9_std_skew)\n",
    "std_skew.append(s10_std_skew)\n",
    "std_skew.append(s11_std_skew)\n",
    "std_skew.append(s12_std_skew)\n",
    "std_skew.append(s13_std_skew)\n",
    "std_skew.append(s14_std_skew)\n",
    "std_skew.append(s15_std_skew)"
   ]
  },
  {
   "cell_type": "code",
   "execution_count": 900,
   "id": "9db98b44",
   "metadata": {},
   "outputs": [],
   "source": [
    "#minmaxdiff for standing"
   ]
  },
  {
   "cell_type": "code",
   "execution_count": 901,
   "id": "a5a4bc35",
   "metadata": {},
   "outputs": [],
   "source": [
    "o1 = Fft_MaxMinDiff_acc_gyr_mag(s1_acc_std_chest_filt)\n",
    "o2 = Fft_MaxMinDiff_acc_gyr_mag(s1_acc_std_head_filt)\n",
    "o3 = Fft_MaxMinDiff_acc_gyr_mag(s1_acc_std_forearm_filt)\n",
    "o4 = Fft_MaxMinDiff_acc_gyr_mag(s1_acc_std_shin_filt)\n",
    "o5 = Fft_MaxMinDiff_acc_gyr_mag(s1_acc_std_thigh_filt)\n",
    "o6 = Fft_MaxMinDiff_acc_gyr_mag(s1_acc_std_upperarm_filt)\n",
    "o7 = Fft_MaxMinDiff_acc_gyr_mag(s1_acc_std_waist_filt)\n",
    "s1_std_FD = np.hstack((o1,o2,o3,o4,o5,o6,o7))"
   ]
  },
  {
   "cell_type": "code",
   "execution_count": 902,
   "id": "b98d035e",
   "metadata": {},
   "outputs": [],
   "source": [
    "o1 = Fft_MaxMinDiff_acc_gyr_mag(s2_acc_std_chest_filt)\n",
    "o2 = Fft_MaxMinDiff_acc_gyr_mag(s2_acc_std_head_filt)\n",
    "o3 = Fft_MaxMinDiff_acc_gyr_mag(s2_acc_std_forearm_filt)\n",
    "o4 = Fft_MaxMinDiff_acc_gyr_mag(s2_acc_std_shin_filt)\n",
    "o5 = Fft_MaxMinDiff_acc_gyr_mag(s2_acc_std_thigh_filt)\n",
    "o6 = Fft_MaxMinDiff_acc_gyr_mag(s2_acc_std_upperarm_filt)\n",
    "o7 = Fft_MaxMinDiff_acc_gyr_mag(s2_acc_std_waist_filt)\n",
    "s2_std_FD = np.hstack((o1,o2,o3,o4,o5,o6,o7))"
   ]
  },
  {
   "cell_type": "code",
   "execution_count": 903,
   "id": "405e2a51",
   "metadata": {},
   "outputs": [],
   "source": [
    "o1 = Fft_MaxMinDiff_acc_gyr_mag(s3_acc_std_chest_filt)\n",
    "o2 = Fft_MaxMinDiff_acc_gyr_mag(s3_acc_std_head_filt)\n",
    "o3 = Fft_MaxMinDiff_acc_gyr_mag(s3_acc_std_forearm_filt)\n",
    "o4 = Fft_MaxMinDiff_acc_gyr_mag(s3_acc_std_shin_filt)\n",
    "o5 = Fft_MaxMinDiff_acc_gyr_mag(s3_acc_std_thigh_filt)\n",
    "o6 = Fft_MaxMinDiff_acc_gyr_mag(s3_acc_std_upperarm_filt)\n",
    "o7 = Fft_MaxMinDiff_acc_gyr_mag(s3_acc_std_waist_filt)\n",
    "s3_std_FD = np.hstack((o1,o2,o3,o4,o5,o6,o7))"
   ]
  },
  {
   "cell_type": "code",
   "execution_count": 904,
   "id": "eea331a2",
   "metadata": {},
   "outputs": [],
   "source": [
    "o1 = Fft_MaxMinDiff_acc_gyr_mag(s4_acc_std_chest_filt)\n",
    "o2 = Fft_MaxMinDiff_acc_gyr_mag(s4_acc_std_head_filt)\n",
    "o3 = Fft_MaxMinDiff_acc_gyr_mag(s4_acc_std_forearm_filt)\n",
    "o4 = Fft_MaxMinDiff_acc_gyr_mag(s4_acc_std_shin_filt)\n",
    "o5 = Fft_MaxMinDiff_acc_gyr_mag(s4_acc_std_thigh_filt)\n",
    "o6 = Fft_MaxMinDiff_acc_gyr_mag(s4_acc_std_upperarm_filt)\n",
    "o7 = Fft_MaxMinDiff_acc_gyr_mag(s4_acc_std_waist_filt)\n",
    "s4_std_FD = np.hstack((o1,o2,o3,o4,o5,o6,o7))"
   ]
  },
  {
   "cell_type": "code",
   "execution_count": 905,
   "id": "4e4e7ba3",
   "metadata": {},
   "outputs": [],
   "source": [
    "o1 = Fft_MaxMinDiff_acc_gyr_mag(s5_acc_std_chest_filt)\n",
    "o2 = Fft_MaxMinDiff_acc_gyr_mag(s5_acc_std_head_filt)\n",
    "o3 = Fft_MaxMinDiff_acc_gyr_mag(s5_acc_std_forearm_filt)\n",
    "o4 = Fft_MaxMinDiff_acc_gyr_mag(s5_acc_std_shin_filt)\n",
    "o5 = Fft_MaxMinDiff_acc_gyr_mag(s5_acc_std_thigh_filt)\n",
    "o6 = Fft_MaxMinDiff_acc_gyr_mag(s5_acc_std_upperarm_filt)\n",
    "o7 = Fft_MaxMinDiff_acc_gyr_mag(s5_acc_std_waist_filt)\n",
    "s5_std_FD = np.hstack((o1,o2,o3,o4,o5,o6,o7))"
   ]
  },
  {
   "cell_type": "code",
   "execution_count": 906,
   "id": "a169b888",
   "metadata": {},
   "outputs": [],
   "source": [
    "o1 = Fft_MaxMinDiff_acc_gyr_mag(s6_acc_std_chest_filt)\n",
    "o2 = Fft_MaxMinDiff_acc_gyr_mag(s6_acc_std_head_filt)\n",
    "o3 = Fft_MaxMinDiff_acc_gyr_mag(s6_acc_std_forearm_filt)\n",
    "o4 = Fft_MaxMinDiff_acc_gyr_mag(s6_acc_std_shin_filt)\n",
    "o5 = Fft_MaxMinDiff_acc_gyr_mag(s6_acc_std_thigh_filt)\n",
    "o6 = Fft_MaxMinDiff_acc_gyr_mag(s6_acc_std_upperarm_filt)\n",
    "o7 = Fft_MaxMinDiff_acc_gyr_mag(s6_acc_std_waist_filt)\n",
    "s6_std_FD = np.hstack((o1,o2,o3,o4,o5,o6,o7))"
   ]
  },
  {
   "cell_type": "code",
   "execution_count": 907,
   "id": "498f9db8",
   "metadata": {},
   "outputs": [],
   "source": [
    "o1 = Fft_MaxMinDiff_acc_gyr_mag(s7_acc_std_chest_filt)\n",
    "o2 = Fft_MaxMinDiff_acc_gyr_mag(s7_acc_std_head_filt)\n",
    "o3 = Fft_MaxMinDiff_acc_gyr_mag(s7_acc_std_forearm_filt)\n",
    "o4 = Fft_MaxMinDiff_acc_gyr_mag(s7_acc_std_shin_filt)\n",
    "o5 = Fft_MaxMinDiff_acc_gyr_mag(s7_acc_std_thigh_filt)\n",
    "o6 = Fft_MaxMinDiff_acc_gyr_mag(s7_acc_std_upperarm_filt)\n",
    "o7 = Fft_MaxMinDiff_acc_gyr_mag(s7_acc_std_waist_filt)\n",
    "s7_std_FD = np.hstack((o1,o2,o3,o4,o5,o6,o7))"
   ]
  },
  {
   "cell_type": "code",
   "execution_count": 908,
   "id": "b842f1d9",
   "metadata": {},
   "outputs": [],
   "source": [
    "o1 = Fft_MaxMinDiff_acc_gyr_mag(s8_acc_std_chest_filt)\n",
    "o2 = Fft_MaxMinDiff_acc_gyr_mag(s8_acc_std_head_filt)\n",
    "o3 = Fft_MaxMinDiff_acc_gyr_mag(s8_acc_std_forearm_filt)\n",
    "o4 = Fft_MaxMinDiff_acc_gyr_mag(s8_acc_std_shin_filt)\n",
    "o5 = Fft_MaxMinDiff_acc_gyr_mag(s8_acc_std_thigh_filt)\n",
    "o6 = Fft_MaxMinDiff_acc_gyr_mag(s8_acc_std_upperarm_filt)\n",
    "o7 = Fft_MaxMinDiff_acc_gyr_mag(s8_acc_std_waist_filt)\n",
    "s8_std_FD = np.hstack((o1,o2,o3,o4,o5,o6,o7))"
   ]
  },
  {
   "cell_type": "code",
   "execution_count": 909,
   "id": "728ac937",
   "metadata": {},
   "outputs": [],
   "source": [
    "o1 = Fft_MaxMinDiff_acc_gyr_mag(s9_acc_std_chest_filt)\n",
    "o2 = Fft_MaxMinDiff_acc_gyr_mag(s9_acc_std_head_filt)\n",
    "o3 = Fft_MaxMinDiff_acc_gyr_mag(s9_acc_std_forearm_filt)\n",
    "o4 = Fft_MaxMinDiff_acc_gyr_mag(s9_acc_std_shin_filt)\n",
    "o5 = Fft_MaxMinDiff_acc_gyr_mag(s9_acc_std_thigh_filt)\n",
    "o6 = Fft_MaxMinDiff_acc_gyr_mag(s9_acc_std_upperarm_filt)\n",
    "o7 = Fft_MaxMinDiff_acc_gyr_mag(s9_acc_std_waist_filt)\n",
    "s9_std_FD = np.hstack((o1,o2,o3,o4,o5,o6,o7))"
   ]
  },
  {
   "cell_type": "code",
   "execution_count": 910,
   "id": "23f4738c",
   "metadata": {},
   "outputs": [],
   "source": [
    "o1 = Fft_MaxMinDiff_acc_gyr_mag(s10_acc_std_chest_filt)\n",
    "o2 = Fft_MaxMinDiff_acc_gyr_mag(s10_acc_std_head_filt)\n",
    "o3 = Fft_MaxMinDiff_acc_gyr_mag(s10_acc_std_forearm_filt)\n",
    "o4 = Fft_MaxMinDiff_acc_gyr_mag(s10_acc_std_shin_filt)\n",
    "o5 = Fft_MaxMinDiff_acc_gyr_mag(s10_acc_std_thigh_filt)\n",
    "o6 = Fft_MaxMinDiff_acc_gyr_mag(s10_acc_std_upperarm_filt)\n",
    "o7 = Fft_MaxMinDiff_acc_gyr_mag(s10_acc_std_waist_filt)\n",
    "s10_std_FD = np.hstack((o1,o2,o3,o4,o5,o6,o7))"
   ]
  },
  {
   "cell_type": "code",
   "execution_count": 911,
   "id": "3fd7d5d6",
   "metadata": {},
   "outputs": [],
   "source": [
    "o1 = Fft_MaxMinDiff_acc_gyr_mag(s11_acc_std_chest_filt)\n",
    "o2 = Fft_MaxMinDiff_acc_gyr_mag(s11_acc_std_head_filt)\n",
    "o3 = Fft_MaxMinDiff_acc_gyr_mag(s11_acc_std_forearm_filt)\n",
    "o4 = Fft_MaxMinDiff_acc_gyr_mag(s11_acc_std_shin_filt)\n",
    "o5 = Fft_MaxMinDiff_acc_gyr_mag(s11_acc_std_thigh_filt)\n",
    "o6 = Fft_MaxMinDiff_acc_gyr_mag(s11_acc_std_upperarm_filt)\n",
    "o7 = Fft_MaxMinDiff_acc_gyr_mag(s11_acc_std_waist_filt)\n",
    "s11_std_FD = np.hstack((o1,o2,o3,o4,o5,o6,o7))"
   ]
  },
  {
   "cell_type": "code",
   "execution_count": 912,
   "id": "4d706304",
   "metadata": {},
   "outputs": [],
   "source": [
    "o1 = Fft_MaxMinDiff_acc_gyr_mag(s12_acc_std_chest_filt)\n",
    "o2 = Fft_MaxMinDiff_acc_gyr_mag(s12_acc_std_head_filt)\n",
    "o3 = Fft_MaxMinDiff_acc_gyr_mag(s12_acc_std_forearm_filt)\n",
    "o4 = Fft_MaxMinDiff_acc_gyr_mag(s12_acc_std_shin_filt)\n",
    "o5 = Fft_MaxMinDiff_acc_gyr_mag(s12_acc_std_thigh_filt)\n",
    "o6 = Fft_MaxMinDiff_acc_gyr_mag(s12_acc_std_upperarm_filt)\n",
    "o7 = Fft_MaxMinDiff_acc_gyr_mag(s12_acc_std_waist_filt)\n",
    "s12_std_FD = np.hstack((o1,o2,o3,o4,o5,o6,o7))"
   ]
  },
  {
   "cell_type": "code",
   "execution_count": 913,
   "id": "1f2c2a77",
   "metadata": {},
   "outputs": [],
   "source": [
    "o1 = Fft_MaxMinDiff_acc_gyr_mag(s13_acc_std_chest_filt)\n",
    "o2 = Fft_MaxMinDiff_acc_gyr_mag(s13_acc_std_head_filt)\n",
    "o3 = Fft_MaxMinDiff_acc_gyr_mag(s13_acc_std_forearm_filt)\n",
    "o4 = Fft_MaxMinDiff_acc_gyr_mag(s13_acc_std_shin_filt)\n",
    "o5 = Fft_MaxMinDiff_acc_gyr_mag(s13_acc_std_thigh_filt)\n",
    "o6 = Fft_MaxMinDiff_acc_gyr_mag(s13_acc_std_upperarm_filt)\n",
    "o7 = Fft_MaxMinDiff_acc_gyr_mag(s13_acc_std_waist_filt)\n",
    "s13_std_FD = np.hstack((o1,o2,o3,o4,o5,o6,o7))"
   ]
  },
  {
   "cell_type": "code",
   "execution_count": 914,
   "id": "09089c73",
   "metadata": {},
   "outputs": [],
   "source": [
    "o1 = Fft_MaxMinDiff_acc_gyr_mag(s14_acc_std_chest_filt)\n",
    "o2 = Fft_MaxMinDiff_acc_gyr_mag(s14_acc_std_head_filt)\n",
    "o3 = Fft_MaxMinDiff_acc_gyr_mag(s14_acc_std_forearm_filt)\n",
    "o4 = Fft_MaxMinDiff_acc_gyr_mag(s14_acc_std_shin_filt)\n",
    "o5 = Fft_MaxMinDiff_acc_gyr_mag(s14_acc_std_thigh_filt)\n",
    "o6 = Fft_MaxMinDiff_acc_gyr_mag(s14_acc_std_upperarm_filt)\n",
    "o7 = Fft_MaxMinDiff_acc_gyr_mag(s14_acc_std_waist_filt)\n",
    "s14_std_FD = np.hstack((o1,o2,o3,o4,o5,o6,o7))"
   ]
  },
  {
   "cell_type": "code",
   "execution_count": 915,
   "id": "8b91c2c6",
   "metadata": {},
   "outputs": [],
   "source": [
    "o1 = Fft_MaxMinDiff_acc_gyr_mag(s15_acc_std_chest_filt)\n",
    "o2 = Fft_MaxMinDiff_acc_gyr_mag(s15_acc_std_head_filt)\n",
    "o3 = Fft_MaxMinDiff_acc_gyr_mag(s15_acc_std_forearm_filt)\n",
    "o4 = Fft_MaxMinDiff_acc_gyr_mag(s15_acc_std_shin_filt)\n",
    "o5 = Fft_MaxMinDiff_acc_gyr_mag(s15_acc_std_thigh_filt)\n",
    "o6 = Fft_MaxMinDiff_acc_gyr_mag(s15_acc_std_upperarm_filt)\n",
    "o7 = Fft_MaxMinDiff_acc_gyr_mag(s15_acc_std_waist_filt)\n",
    "s15_std_FD = np.hstack((o1,o2,o3,o4,o5,o6,o7))"
   ]
  },
  {
   "cell_type": "code",
   "execution_count": 916,
   "id": "233a8081",
   "metadata": {},
   "outputs": [],
   "source": [
    "std_FD = []\n",
    "std_FD.append(s1_std_FD)\n",
    "std_FD.append(s2_std_FD)\n",
    "std_FD.append(s3_std_FD)\n",
    "std_FD.append(s4_std_FD)\n",
    "std_FD.append(s5_std_FD)\n",
    "std_FD.append(s6_std_FD)\n",
    "std_FD.append(s7_std_FD)\n",
    "std_FD.append(s8_std_FD)\n",
    "std_FD.append(s9_std_FD)\n",
    "std_FD.append(s10_std_FD)\n",
    "std_FD.append(s11_std_FD)\n",
    "std_FD.append(s12_std_FD)\n",
    "std_FD.append(s13_std_FD)\n",
    "std_FD.append(s14_std_FD)\n",
    "std_FD.append(s15_std_FD)\n"
   ]
  },
  {
   "cell_type": "code",
   "execution_count": 917,
   "id": "0df4bd67",
   "metadata": {},
   "outputs": [],
   "source": [
    "#fft minmax ratio for standing"
   ]
  },
  {
   "cell_type": "code",
   "execution_count": 918,
   "id": "1cfa0995",
   "metadata": {},
   "outputs": [],
   "source": [
    "o1 = Fft_MaxMinRatio_acc_gyr_mag(s1_acc_std_chest_filt)\n",
    "o2 = Fft_MaxMinRatio_acc_gyr_mag(s1_acc_std_head_filt)\n",
    "o3 = Fft_MaxMinRatio_acc_gyr_mag(s1_acc_std_forearm_filt)\n",
    "o4 = Fft_MaxMinRatio_acc_gyr_mag(s1_acc_std_shin_filt)\n",
    "o5 = Fft_MaxMinRatio_acc_gyr_mag(s1_acc_std_thigh_filt)\n",
    "o6 = Fft_MaxMinRatio_acc_gyr_mag(s1_acc_std_upperarm_filt)\n",
    "o7 = Fft_MaxMinRatio_acc_gyr_mag(s1_acc_std_waist_filt)\n",
    "s1_std_FR = np.hstack((o1,o2,o3,o4,o5,o6,o7))"
   ]
  },
  {
   "cell_type": "code",
   "execution_count": 919,
   "id": "3a134738",
   "metadata": {},
   "outputs": [],
   "source": [
    "o1 = Fft_MaxMinRatio_acc_gyr_mag(s2_acc_std_chest_filt)\n",
    "o2 = Fft_MaxMinRatio_acc_gyr_mag(s2_acc_std_head_filt)\n",
    "o3 = Fft_MaxMinRatio_acc_gyr_mag(s2_acc_std_forearm_filt)\n",
    "o4 = Fft_MaxMinRatio_acc_gyr_mag(s2_acc_std_shin_filt)\n",
    "o5 = Fft_MaxMinRatio_acc_gyr_mag(s2_acc_std_thigh_filt)\n",
    "o6 = Fft_MaxMinRatio_acc_gyr_mag(s2_acc_std_upperarm_filt)\n",
    "o7 = Fft_MaxMinRatio_acc_gyr_mag(s2_acc_std_waist_filt)\n",
    "s2_std_FR = np.hstack((o1,o2,o3,o4,o5,o6,o7))"
   ]
  },
  {
   "cell_type": "code",
   "execution_count": 920,
   "id": "b10dd86c",
   "metadata": {},
   "outputs": [],
   "source": [
    "o1 = Fft_MaxMinRatio_acc_gyr_mag(s3_acc_std_chest_filt)\n",
    "o2 = Fft_MaxMinRatio_acc_gyr_mag(s3_acc_std_head_filt)\n",
    "o3 = Fft_MaxMinRatio_acc_gyr_mag(s3_acc_std_forearm_filt)\n",
    "o4 = Fft_MaxMinRatio_acc_gyr_mag(s3_acc_std_shin_filt)\n",
    "o5 = Fft_MaxMinRatio_acc_gyr_mag(s3_acc_std_thigh_filt)\n",
    "o6 = Fft_MaxMinRatio_acc_gyr_mag(s3_acc_std_upperarm_filt)\n",
    "o7 = Fft_MaxMinRatio_acc_gyr_mag(s3_acc_std_waist_filt)\n",
    "s3_std_FR = np.hstack((o1,o2,o3,o4,o5,o6,o7))"
   ]
  },
  {
   "cell_type": "code",
   "execution_count": 921,
   "id": "6f6c94b4",
   "metadata": {},
   "outputs": [],
   "source": [
    "o1 = Fft_MaxMinRatio_acc_gyr_mag(s4_acc_std_chest_filt)\n",
    "o2 = Fft_MaxMinRatio_acc_gyr_mag(s4_acc_std_head_filt)\n",
    "o3 = Fft_MaxMinRatio_acc_gyr_mag(s4_acc_std_forearm_filt)\n",
    "o4 = Fft_MaxMinRatio_acc_gyr_mag(s4_acc_std_shin_filt)\n",
    "o5 = Fft_MaxMinRatio_acc_gyr_mag(s4_acc_std_thigh_filt)\n",
    "o6 = Fft_MaxMinRatio_acc_gyr_mag(s4_acc_std_upperarm_filt)\n",
    "o7 = Fft_MaxMinRatio_acc_gyr_mag(s4_acc_std_waist_filt)\n",
    "s4_std_FR = np.hstack((o1,o2,o3,o4,o5,o6,o7))"
   ]
  },
  {
   "cell_type": "code",
   "execution_count": 922,
   "id": "515fcd21",
   "metadata": {},
   "outputs": [],
   "source": [
    "o1 = Fft_MaxMinRatio_acc_gyr_mag(s5_acc_std_chest_filt)\n",
    "o2 = Fft_MaxMinRatio_acc_gyr_mag(s5_acc_std_head_filt)\n",
    "o3 = Fft_MaxMinRatio_acc_gyr_mag(s5_acc_std_forearm_filt)\n",
    "o4 = Fft_MaxMinRatio_acc_gyr_mag(s5_acc_std_shin_filt)\n",
    "o5 = Fft_MaxMinRatio_acc_gyr_mag(s5_acc_std_thigh_filt)\n",
    "o6 = Fft_MaxMinRatio_acc_gyr_mag(s5_acc_std_upperarm_filt)\n",
    "o7 = Fft_MaxMinRatio_acc_gyr_mag(s5_acc_std_waist_filt)\n",
    "s5_std_FR = np.hstack((o1,o2,o3,o4,o5,o6,o7))"
   ]
  },
  {
   "cell_type": "code",
   "execution_count": 923,
   "id": "76d0cc0d",
   "metadata": {},
   "outputs": [],
   "source": [
    "o1 = Fft_MaxMinRatio_acc_gyr_mag(s6_acc_std_chest_filt)\n",
    "o2 = Fft_MaxMinRatio_acc_gyr_mag(s6_acc_std_head_filt)\n",
    "o3 = Fft_MaxMinRatio_acc_gyr_mag(s6_acc_std_forearm_filt)\n",
    "o4 = Fft_MaxMinRatio_acc_gyr_mag(s6_acc_std_shin_filt)\n",
    "o5 = Fft_MaxMinRatio_acc_gyr_mag(s6_acc_std_thigh_filt)\n",
    "o6 = Fft_MaxMinRatio_acc_gyr_mag(s6_acc_std_upperarm_filt)\n",
    "o7 = Fft_MaxMinRatio_acc_gyr_mag(s6_acc_std_waist_filt)\n",
    "s6_std_FR = np.hstack((o1,o2,o3,o4,o5,o6,o7))"
   ]
  },
  {
   "cell_type": "code",
   "execution_count": 924,
   "id": "0c30725d",
   "metadata": {},
   "outputs": [],
   "source": [
    "o1 = Fft_MaxMinRatio_acc_gyr_mag(s7_acc_std_chest_filt)\n",
    "o2 = Fft_MaxMinRatio_acc_gyr_mag(s7_acc_std_head_filt)\n",
    "o3 = Fft_MaxMinRatio_acc_gyr_mag(s7_acc_std_forearm_filt)\n",
    "o4 = Fft_MaxMinRatio_acc_gyr_mag(s7_acc_std_shin_filt)\n",
    "o5 = Fft_MaxMinRatio_acc_gyr_mag(s7_acc_std_thigh_filt)\n",
    "o6 = Fft_MaxMinRatio_acc_gyr_mag(s7_acc_std_upperarm_filt)\n",
    "o7 = Fft_MaxMinRatio_acc_gyr_mag(s7_acc_std_waist_filt)\n",
    "s7_std_FR = np.hstack((o1,o2,o3,o4,o5,o6,o7))"
   ]
  },
  {
   "cell_type": "code",
   "execution_count": 925,
   "id": "82c75ec9",
   "metadata": {},
   "outputs": [],
   "source": [
    "o1 = Fft_MaxMinRatio_acc_gyr_mag(s8_acc_std_chest_filt)\n",
    "o2 = Fft_MaxMinRatio_acc_gyr_mag(s8_acc_std_head_filt)\n",
    "o3 = Fft_MaxMinRatio_acc_gyr_mag(s8_acc_std_forearm_filt)\n",
    "o4 = Fft_MaxMinRatio_acc_gyr_mag(s8_acc_std_shin_filt)\n",
    "o5 = Fft_MaxMinRatio_acc_gyr_mag(s8_acc_std_thigh_filt)\n",
    "o6 = Fft_MaxMinRatio_acc_gyr_mag(s8_acc_std_upperarm_filt)\n",
    "o7 = Fft_MaxMinRatio_acc_gyr_mag(s8_acc_std_waist_filt)\n",
    "s8_std_FR = np.hstack((o1,o2,o3,o4,o5,o6,o7))"
   ]
  },
  {
   "cell_type": "code",
   "execution_count": 926,
   "id": "91d32b56",
   "metadata": {},
   "outputs": [],
   "source": [
    "o1 = Fft_MaxMinRatio_acc_gyr_mag(s9_acc_std_chest_filt)\n",
    "o2 = Fft_MaxMinRatio_acc_gyr_mag(s9_acc_std_head_filt)\n",
    "o3 = Fft_MaxMinRatio_acc_gyr_mag(s9_acc_std_forearm_filt)\n",
    "o4 = Fft_MaxMinRatio_acc_gyr_mag(s9_acc_std_shin_filt)\n",
    "o5 = Fft_MaxMinRatio_acc_gyr_mag(s9_acc_std_thigh_filt)\n",
    "o6 = Fft_MaxMinRatio_acc_gyr_mag(s9_acc_std_upperarm_filt)\n",
    "o7 = Fft_MaxMinRatio_acc_gyr_mag(s9_acc_std_waist_filt)\n",
    "s9_std_FR = np.hstack((o1,o2,o3,o4,o5,o6,o7))"
   ]
  },
  {
   "cell_type": "code",
   "execution_count": 927,
   "id": "fc194931",
   "metadata": {},
   "outputs": [],
   "source": [
    "o1 = Fft_MaxMinRatio_acc_gyr_mag(s10_acc_std_chest_filt)\n",
    "o2 = Fft_MaxMinRatio_acc_gyr_mag(s10_acc_std_head_filt)\n",
    "o3 = Fft_MaxMinRatio_acc_gyr_mag(s10_acc_std_forearm_filt)\n",
    "o4 = Fft_MaxMinRatio_acc_gyr_mag(s10_acc_std_shin_filt)\n",
    "o5 = Fft_MaxMinRatio_acc_gyr_mag(s10_acc_std_thigh_filt)\n",
    "o6 = Fft_MaxMinRatio_acc_gyr_mag(s10_acc_std_upperarm_filt)\n",
    "o7 = Fft_MaxMinRatio_acc_gyr_mag(s10_acc_std_waist_filt)\n",
    "s10_std_FR = np.hstack((o1,o2,o3,o4,o5,o6,o7))"
   ]
  },
  {
   "cell_type": "code",
   "execution_count": 928,
   "id": "5b489468",
   "metadata": {},
   "outputs": [],
   "source": [
    "o1 = Fft_MaxMinRatio_acc_gyr_mag(s11_acc_std_chest_filt)\n",
    "o2 = Fft_MaxMinRatio_acc_gyr_mag(s11_acc_std_head_filt)\n",
    "o3 = Fft_MaxMinRatio_acc_gyr_mag(s11_acc_std_forearm_filt)\n",
    "o4 = Fft_MaxMinRatio_acc_gyr_mag(s11_acc_std_shin_filt)\n",
    "o5 = Fft_MaxMinRatio_acc_gyr_mag(s11_acc_std_thigh_filt)\n",
    "o6 = Fft_MaxMinRatio_acc_gyr_mag(s11_acc_std_upperarm_filt)\n",
    "o7 = Fft_MaxMinRatio_acc_gyr_mag(s11_acc_std_waist_filt)\n",
    "s11_std_FR = np.hstack((o1,o2,o3,o4,o5,o6,o7))"
   ]
  },
  {
   "cell_type": "code",
   "execution_count": 929,
   "id": "7e6d4684",
   "metadata": {},
   "outputs": [],
   "source": [
    "o1 = Fft_MaxMinRatio_acc_gyr_mag(s12_acc_std_chest_filt)\n",
    "o2 = Fft_MaxMinRatio_acc_gyr_mag(s12_acc_std_head_filt)\n",
    "o3 = Fft_MaxMinRatio_acc_gyr_mag(s12_acc_std_forearm_filt)\n",
    "o4 = Fft_MaxMinRatio_acc_gyr_mag(s12_acc_std_shin_filt)\n",
    "o5 = Fft_MaxMinRatio_acc_gyr_mag(s12_acc_std_thigh_filt)\n",
    "o6 = Fft_MaxMinRatio_acc_gyr_mag(s12_acc_std_upperarm_filt)\n",
    "o7 = Fft_MaxMinRatio_acc_gyr_mag(s12_acc_std_waist_filt)\n",
    "s12_std_FR = np.hstack((o1,o2,o3,o4,o5,o6,o7))"
   ]
  },
  {
   "cell_type": "code",
   "execution_count": 930,
   "id": "6169e8ca",
   "metadata": {},
   "outputs": [],
   "source": [
    "o1 = Fft_MaxMinRatio_acc_gyr_mag(s13_acc_std_chest_filt)\n",
    "o2 = Fft_MaxMinRatio_acc_gyr_mag(s13_acc_std_head_filt)\n",
    "o3 = Fft_MaxMinRatio_acc_gyr_mag(s13_acc_std_forearm_filt)\n",
    "o4 = Fft_MaxMinRatio_acc_gyr_mag(s13_acc_std_shin_filt)\n",
    "o5 = Fft_MaxMinRatio_acc_gyr_mag(s13_acc_std_thigh_filt)\n",
    "o6 = Fft_MaxMinRatio_acc_gyr_mag(s13_acc_std_upperarm_filt)\n",
    "o7 = Fft_MaxMinRatio_acc_gyr_mag(s13_acc_std_waist_filt)\n",
    "s13_std_FR = np.hstack((o1,o2,o3,o4,o5,o6,o7))"
   ]
  },
  {
   "cell_type": "code",
   "execution_count": 931,
   "id": "312835d2",
   "metadata": {},
   "outputs": [],
   "source": [
    "o1 = Fft_MaxMinRatio_acc_gyr_mag(s14_acc_std_chest_filt)\n",
    "o2 = Fft_MaxMinRatio_acc_gyr_mag(s14_acc_std_head_filt)\n",
    "o3 = Fft_MaxMinRatio_acc_gyr_mag(s14_acc_std_forearm_filt)\n",
    "o4 = Fft_MaxMinRatio_acc_gyr_mag(s14_acc_std_shin_filt)\n",
    "o5 = Fft_MaxMinRatio_acc_gyr_mag(s14_acc_std_thigh_filt)\n",
    "o6 = Fft_MaxMinRatio_acc_gyr_mag(s14_acc_std_upperarm_filt)\n",
    "o7 = Fft_MaxMinRatio_acc_gyr_mag(s14_acc_std_waist_filt)\n",
    "s14_std_FR = np.hstack((o1,o2,o3,o4,o5,o6,o7))"
   ]
  },
  {
   "cell_type": "code",
   "execution_count": 932,
   "id": "4ca5aa7f",
   "metadata": {},
   "outputs": [],
   "source": [
    "o1 = Fft_MaxMinRatio_acc_gyr_mag(s15_acc_std_chest_filt)\n",
    "o2 = Fft_MaxMinRatio_acc_gyr_mag(s15_acc_std_head_filt)\n",
    "o3 = Fft_MaxMinRatio_acc_gyr_mag(s15_acc_std_forearm_filt)\n",
    "o4 = Fft_MaxMinRatio_acc_gyr_mag(s15_acc_std_shin_filt)\n",
    "o5 = Fft_MaxMinRatio_acc_gyr_mag(s15_acc_std_thigh_filt)\n",
    "o6 = Fft_MaxMinRatio_acc_gyr_mag(s15_acc_std_upperarm_filt)\n",
    "o7 = Fft_MaxMinRatio_acc_gyr_mag(s15_acc_std_waist_filt)\n",
    "s15_std_FR = np.hstack((o1,o2,o3,o4,o5,o6,o7))"
   ]
  },
  {
   "cell_type": "code",
   "execution_count": 933,
   "id": "79a4b15f",
   "metadata": {},
   "outputs": [],
   "source": [
    "std_FR = []\n",
    "std_FR.append(s1_std_FR)\n",
    "std_FR.append(s2_std_FR)\n",
    "std_FR.append(s3_std_FR)\n",
    "std_FR.append(s4_std_FR)\n",
    "std_FR.append(s5_std_FR)\n",
    "std_FR.append(s6_std_FR)\n",
    "std_FR.append(s7_std_FR)\n",
    "std_FR.append(s8_std_FR)\n",
    "std_FR.append(s9_std_FR)\n",
    "std_FR.append(s10_std_FR)\n",
    "std_FR.append(s11_std_FR)\n",
    "std_FR.append(s12_std_FR)\n",
    "std_FR.append(s13_std_FR)\n",
    "std_FR.append(s14_std_FR)\n",
    "std_FR.append(s15_std_FR)\n"
   ]
  },
  {
   "cell_type": "code",
   "execution_count": 934,
   "id": "f4be73f1",
   "metadata": {},
   "outputs": [],
   "source": [
    "\n",
    "std_features = [1]*15\n",
    "\n",
    "for i in range(15):\n",
    "    std_features[i] = np.concatenate((std_parseval[i],std_skew[i],std_FD[i],std_FR[i]))\n",
    "    "
   ]
  },
  {
   "cell_type": "code",
   "execution_count": 935,
   "id": "787466d5",
   "metadata": {},
   "outputs": [],
   "source": [
    "#parseval for walking"
   ]
  },
  {
   "cell_type": "code",
   "execution_count": 936,
   "id": "0fd37c00",
   "metadata": {},
   "outputs": [],
   "source": [
    "\n",
    "o1 = Parseval_acc_gyr_mag(s1_acc_wal_chest_filt)\n",
    "o2 = Parseval_acc_gyr_mag(s1_acc_wal_head_filt)\n",
    "o3 = Parseval_acc_gyr_mag(s1_acc_wal_forearm_filt)\n",
    "o4 = Parseval_acc_gyr_mag(s1_acc_wal_shin_filt)\n",
    "o5 = Parseval_acc_gyr_mag(s1_acc_wal_thigh_filt)\n",
    "o6 = Parseval_acc_gyr_mag(s1_acc_wal_upperarm_filt)\n",
    "o7 = Parseval_acc_gyr_mag(s1_acc_wal_waist_filt)\n",
    "s1_wal_parseval = np.hstack((o1,o2,o3,o4,o5,o6,o7))"
   ]
  },
  {
   "cell_type": "code",
   "execution_count": 937,
   "id": "e2e891df",
   "metadata": {},
   "outputs": [],
   "source": [
    "o1 = Parseval_acc_gyr_mag(s2_acc_wal_chest_filt)\n",
    "o2 = Parseval_acc_gyr_mag(s2_acc_wal_head_filt)\n",
    "o3 = Parseval_acc_gyr_mag(s2_acc_wal_forearm_filt)\n",
    "o4 = Parseval_acc_gyr_mag(s2_acc_wal_shin_filt)\n",
    "o5 = Parseval_acc_gyr_mag(s2_acc_wal_thigh_filt)\n",
    "o6 = Parseval_acc_gyr_mag(s2_acc_wal_upperarm_filt)\n",
    "o7 = Parseval_acc_gyr_mag(s2_acc_wal_waist_filt)\n",
    "s2_wal_parseval = np.hstack((o1,o2,o3,o4,o5,o6,o7))"
   ]
  },
  {
   "cell_type": "code",
   "execution_count": 938,
   "id": "788e23fb",
   "metadata": {},
   "outputs": [],
   "source": [
    "o1 = Parseval_acc_gyr_mag(s3_acc_wal_chest_filt)\n",
    "o2 = Parseval_acc_gyr_mag(s3_acc_wal_head_filt)\n",
    "o3 = Parseval_acc_gyr_mag(s3_acc_wal_forearm_filt)\n",
    "o4 = Parseval_acc_gyr_mag(s3_acc_wal_shin_filt)\n",
    "o5 = Parseval_acc_gyr_mag(s3_acc_wal_thigh_filt)\n",
    "o6 = Parseval_acc_gyr_mag(s3_acc_wal_upperarm_filt)\n",
    "o7 = Parseval_acc_gyr_mag(s3_acc_wal_waist_filt)\n",
    "s3_wal_parseval = np.hstack((o1,o2,o3,o4,o5,o6,o7))"
   ]
  },
  {
   "cell_type": "code",
   "execution_count": 939,
   "id": "659bf3e0",
   "metadata": {},
   "outputs": [],
   "source": [
    "o1 = Parseval_acc_gyr_mag(s4_acc_wal_chest_filt)\n",
    "o2 = Parseval_acc_gyr_mag(s4_acc_wal_head_filt)\n",
    "o3 = Parseval_acc_gyr_mag(s4_acc_wal_forearm_filt)\n",
    "o4 = Parseval_acc_gyr_mag(s4_acc_wal_shin_filt)\n",
    "o5 = Parseval_acc_gyr_mag(s4_acc_wal_thigh_filt)\n",
    "o6 = Parseval_acc_gyr_mag(s4_acc_wal_upperarm_filt)\n",
    "o7 = Parseval_acc_gyr_mag(s4_acc_wal_waist_filt)\n",
    "s4_wal_parseval = np.hstack((o1,o2,o3,o4,o5,o6,o7))\n"
   ]
  },
  {
   "cell_type": "code",
   "execution_count": 940,
   "id": "96bf84b0",
   "metadata": {},
   "outputs": [],
   "source": [
    "o1 = Parseval_acc_gyr_mag(s5_acc_wal_chest_filt)\n",
    "o2 = Parseval_acc_gyr_mag(s5_acc_wal_head_filt)\n",
    "o3 = Parseval_acc_gyr_mag(s5_acc_wal_forearm_filt)\n",
    "o4 = Parseval_acc_gyr_mag(s5_acc_wal_shin_filt)\n",
    "o5 = Parseval_acc_gyr_mag(s5_acc_wal_thigh_filt)\n",
    "o6 = Parseval_acc_gyr_mag(s5_acc_wal_upperarm_filt)\n",
    "o7 = Parseval_acc_gyr_mag(s5_acc_wal_waist_filt)\n",
    "s5_wal_parseval = np.hstack((o1,o2,o3,o4,o5,o6,o7))"
   ]
  },
  {
   "cell_type": "code",
   "execution_count": 941,
   "id": "eef5e78e",
   "metadata": {},
   "outputs": [],
   "source": [
    "o1 = Parseval_acc_gyr_mag(s6_acc_wal_chest_filt)\n",
    "\n",
    "o3 = Parseval_acc_gyr_mag(s6_acc_wal_forearm_filt)\n",
    "o4 = Parseval_acc_gyr_mag(s6_acc_wal_shin_filt)\n",
    "o5 = Parseval_acc_gyr_mag(s6_acc_wal_thigh_filt)\n",
    "o6 = Parseval_acc_gyr_mag(s6_acc_wal_upperarm_filt)\n",
    "o7 = Parseval_acc_gyr_mag(s6_acc_wal_waist_filt)\n",
    "s6_wal_parseval = np.hstack((o1,o2,o3,o4,o5,o6,o7))"
   ]
  },
  {
   "cell_type": "code",
   "execution_count": 942,
   "id": "421df1c3",
   "metadata": {},
   "outputs": [],
   "source": [
    "o1 = Parseval_acc_gyr_mag(s7_acc_wal_chest_filt)\n",
    "o2 = Parseval_acc_gyr_mag(s7_acc_wal_head_filt)\n",
    "o3 = Parseval_acc_gyr_mag(s7_acc_wal_forearm_filt)\n",
    "o4 = Parseval_acc_gyr_mag(s7_acc_wal_shin_filt)\n",
    "o5 = Parseval_acc_gyr_mag(s7_acc_wal_thigh_filt)\n",
    "o6 = Parseval_acc_gyr_mag(s7_acc_wal_upperarm_filt)\n",
    "o7 = Parseval_acc_gyr_mag(s7_acc_wal_waist_filt)\n",
    "s7_wal_parseval = np.hstack((o1,o2,o3,o4,o5,o6,o7))"
   ]
  },
  {
   "cell_type": "code",
   "execution_count": 943,
   "id": "da8edb4d",
   "metadata": {},
   "outputs": [],
   "source": [
    "o1 = Parseval_acc_gyr_mag(s8_acc_wal_chest_filt)\n",
    "o2 = Parseval_acc_gyr_mag(s8_acc_wal_head_filt)\n",
    "o3 = Parseval_acc_gyr_mag(s8_acc_wal_forearm_filt)\n",
    "o4 = Parseval_acc_gyr_mag(s8_acc_wal_shin_filt)\n",
    "o5 = Parseval_acc_gyr_mag(s8_acc_wal_thigh_filt)\n",
    "o6 = Parseval_acc_gyr_mag(s8_acc_wal_upperarm_filt)\n",
    "o7 = Parseval_acc_gyr_mag(s8_acc_wal_waist_filt)\n",
    "s8_wal_parseval = np.hstack((o1,o2,o3,o4,o5,o6,o7))"
   ]
  },
  {
   "cell_type": "code",
   "execution_count": 944,
   "id": "be87ae0a",
   "metadata": {},
   "outputs": [],
   "source": [
    "o1 = Parseval_acc_gyr_mag(s9_acc_wal_chest_filt)\n",
    "o2 = Parseval_acc_gyr_mag(s9_acc_wal_head_filt)\n",
    "o3 = Parseval_acc_gyr_mag(s9_acc_wal_forearm_filt)\n",
    "o4 = Parseval_acc_gyr_mag(s9_acc_wal_shin_filt)\n",
    "o5 = Parseval_acc_gyr_mag(s9_acc_wal_thigh_filt)\n",
    "o6 = Parseval_acc_gyr_mag(s9_acc_wal_upperarm_filt)\n",
    "o7 = Parseval_acc_gyr_mag(s9_acc_wal_waist_filt)\n",
    "s9_wal_parseval = np.hstack((o1,o2,o3,o4,o5,o6,o7))"
   ]
  },
  {
   "cell_type": "code",
   "execution_count": 945,
   "id": "335ed3a7",
   "metadata": {},
   "outputs": [],
   "source": [
    "o1 = Parseval_acc_gyr_mag(s10_acc_wal_chest_filt)\n",
    "o2 = Parseval_acc_gyr_mag(s10_acc_wal_head_filt)\n",
    "o3 = Parseval_acc_gyr_mag(s10_acc_wal_forearm_filt)\n",
    "o4 = Parseval_acc_gyr_mag(s10_acc_wal_shin_filt)\n",
    "o5 = Parseval_acc_gyr_mag(s10_acc_wal_thigh_filt)\n",
    "o6 = Parseval_acc_gyr_mag(s10_acc_wal_upperarm_filt)\n",
    "o7 = Parseval_acc_gyr_mag(s10_acc_wal_waist_filt)\n",
    "s10_wal_parseval = np.hstack((o1,o2,o3,o4,o5,o6,o7))"
   ]
  },
  {
   "cell_type": "code",
   "execution_count": 946,
   "id": "69ed72f6",
   "metadata": {},
   "outputs": [],
   "source": [
    "o1 = Parseval_acc_gyr_mag(s11_acc_wal_chest_filt)\n",
    "o2 = Parseval_acc_gyr_mag(s11_acc_wal_head_filt)\n",
    "o3 = Parseval_acc_gyr_mag(s11_acc_wal_forearm_filt)\n",
    "o4 = Parseval_acc_gyr_mag(s11_acc_wal_shin_filt)\n",
    "o5 = Parseval_acc_gyr_mag(s11_acc_wal_thigh_filt)\n",
    "o6 = Parseval_acc_gyr_mag(s11_acc_wal_upperarm_filt)\n",
    "o7 = Parseval_acc_gyr_mag(s11_acc_wal_waist_filt)\n",
    "s11_wal_parseval = np.hstack((o1,o2,o3,o4,o5,o6,o7))"
   ]
  },
  {
   "cell_type": "code",
   "execution_count": 947,
   "id": "f4b05d50",
   "metadata": {},
   "outputs": [],
   "source": [
    "o1 = Parseval_acc_gyr_mag(s12_acc_wal_chest_filt)\n",
    "o2 = Parseval_acc_gyr_mag(s12_acc_wal_head_filt)\n",
    "o3 = Parseval_acc_gyr_mag(s12_acc_wal_forearm_filt)\n",
    "o4 = Parseval_acc_gyr_mag(s12_acc_wal_shin_filt)\n",
    "o5 = Parseval_acc_gyr_mag(s12_acc_wal_thigh_filt)\n",
    "o6 = Parseval_acc_gyr_mag(s12_acc_wal_upperarm_filt)\n",
    "o7 = Parseval_acc_gyr_mag(s12_acc_wal_waist_filt)\n",
    "s12_wal_parseval = np.hstack((o1,o2,o3,o4,o5,o6,o7))"
   ]
  },
  {
   "cell_type": "code",
   "execution_count": 948,
   "id": "32d2df03",
   "metadata": {},
   "outputs": [],
   "source": [
    "o1 = Parseval_acc_gyr_mag(s13_acc_wal_chest_filt)\n",
    "o2 = Parseval_acc_gyr_mag(s13_acc_wal_head_filt)\n",
    "o3 = Parseval_acc_gyr_mag(s13_acc_wal_forearm_filt)\n",
    "o4 = Parseval_acc_gyr_mag(s13_acc_wal_shin_filt)\n",
    "o5 = Parseval_acc_gyr_mag(s13_acc_wal_thigh_filt)\n",
    "o6 = Parseval_acc_gyr_mag(s13_acc_wal_upperarm_filt)\n",
    "o7 = Parseval_acc_gyr_mag(s13_acc_wal_waist_filt)\n",
    "s13_wal_parseval = np.hstack((o1,o2,o3,o4,o5,o6,o7))"
   ]
  },
  {
   "cell_type": "code",
   "execution_count": 949,
   "id": "2a3ae9ac",
   "metadata": {},
   "outputs": [],
   "source": [
    "o1 = Parseval_acc_gyr_mag(s14_acc_wal_chest_filt)\n",
    "o2 = Parseval_acc_gyr_mag(s14_acc_wal_head_filt)\n",
    "o3 = Parseval_acc_gyr_mag(s14_acc_wal_forearm_filt)\n",
    "o4 = Parseval_acc_gyr_mag(s14_acc_wal_shin_filt)\n",
    "o5 = Parseval_acc_gyr_mag(s14_acc_wal_thigh_filt)\n",
    "o6 = Parseval_acc_gyr_mag(s14_acc_wal_upperarm_filt)\n",
    "o7 = Parseval_acc_gyr_mag(s14_acc_wal_waist_filt)\n",
    "s14_wal_parseval = np.hstack((o1,o2,o3,o4,o5,o6,o7))"
   ]
  },
  {
   "cell_type": "code",
   "execution_count": 950,
   "id": "3156ce7d",
   "metadata": {},
   "outputs": [],
   "source": [
    "o1 = Parseval_acc_gyr_mag(s15_acc_wal_chest_filt)\n",
    "o2 = Parseval_acc_gyr_mag(s15_acc_wal_head_filt)\n",
    "o3 = Parseval_acc_gyr_mag(s15_acc_wal_forearm_filt)\n",
    "o4 = Parseval_acc_gyr_mag(s15_acc_wal_shin_filt)\n",
    "o5 = Parseval_acc_gyr_mag(s15_acc_wal_thigh_filt)\n",
    "o6 = Parseval_acc_gyr_mag(s15_acc_wal_upperarm_filt)\n",
    "o7 = Parseval_acc_gyr_mag(s15_acc_wal_waist_filt)\n",
    "s15_wal_parseval = np.hstack((o1,o2,o3,o4,o5,o6,o7))"
   ]
  },
  {
   "cell_type": "code",
   "execution_count": 951,
   "id": "f0ed780b",
   "metadata": {},
   "outputs": [],
   "source": [
    "wal_parseval = []\n",
    "wal_parseval.append(s1_wal_parseval)\n",
    "wal_parseval.append(s2_wal_parseval)\n",
    "wal_parseval.append(s3_wal_parseval)\n",
    "wal_parseval.append(s4_wal_parseval)\n",
    "wal_parseval.append(s5_wal_parseval)\n",
    "wal_parseval.append(s6_wal_parseval)\n",
    "wal_parseval.append(s7_wal_parseval)\n",
    "wal_parseval.append(s8_wal_parseval)\n",
    "wal_parseval.append(s9_wal_parseval)\n",
    "wal_parseval.append(s10_wal_parseval)\n",
    "wal_parseval.append(s11_wal_parseval)\n",
    "wal_parseval.append(s12_wal_parseval)\n",
    "wal_parseval.append(s13_wal_parseval)\n",
    "wal_parseval.append(s14_wal_parseval)\n",
    "wal_parseval.append(s15_wal_parseval)"
   ]
  },
  {
   "cell_type": "code",
   "execution_count": 952,
   "id": "38dc30b9",
   "metadata": {},
   "outputs": [],
   "source": [
    "#skewness for walking"
   ]
  },
  {
   "cell_type": "code",
   "execution_count": 953,
   "id": "54381dac",
   "metadata": {},
   "outputs": [],
   "source": [
    "o1 = Skewness_acc_gyr_mag(s1_acc_wal_chest_filt)\n",
    "o2 = Skewness_acc_gyr_mag(s1_acc_wal_head_filt)\n",
    "o3 = Skewness_acc_gyr_mag(s1_acc_wal_forearm_filt)\n",
    "o4 = Skewness_acc_gyr_mag(s1_acc_wal_shin_filt)\n",
    "o5 = Skewness_acc_gyr_mag(s1_acc_wal_thigh_filt)\n",
    "o6 = Skewness_acc_gyr_mag(s1_acc_wal_upperarm_filt)\n",
    "o7 = Skewness_acc_gyr_mag(s1_acc_wal_waist_filt)\n",
    "s1_wal_skew = np.hstack((o1,o2,o3,o4,o5,o6,o7))"
   ]
  },
  {
   "cell_type": "code",
   "execution_count": 954,
   "id": "4ce9bd84",
   "metadata": {},
   "outputs": [],
   "source": [
    "o1 = Skewness_acc_gyr_mag(s2_acc_wal_chest_filt)\n",
    "o2 = Skewness_acc_gyr_mag(s2_acc_wal_head_filt)\n",
    "o3 = Skewness_acc_gyr_mag(s2_acc_wal_forearm_filt)\n",
    "o4 = Skewness_acc_gyr_mag(s2_acc_wal_shin_filt)\n",
    "o5 = Skewness_acc_gyr_mag(s2_acc_wal_thigh_filt)\n",
    "o6 = Skewness_acc_gyr_mag(s2_acc_wal_upperarm_filt)\n",
    "o7 = Skewness_acc_gyr_mag(s2_acc_wal_waist_filt)\n",
    "s2_wal_skew = np.hstack((o1,o2,o3,o4,o5,o6,o7))\n"
   ]
  },
  {
   "cell_type": "code",
   "execution_count": 955,
   "id": "c87b6313",
   "metadata": {},
   "outputs": [],
   "source": [
    "o1 = Skewness_acc_gyr_mag(s3_acc_wal_chest_filt)\n",
    "o2 = Skewness_acc_gyr_mag(s3_acc_wal_head_filt)\n",
    "o3 = Skewness_acc_gyr_mag(s3_acc_wal_forearm_filt)\n",
    "o4 = Skewness_acc_gyr_mag(s3_acc_wal_shin_filt)\n",
    "o5 = Skewness_acc_gyr_mag(s3_acc_wal_thigh_filt)\n",
    "o6 = Skewness_acc_gyr_mag(s3_acc_wal_upperarm_filt)\n",
    "o7 = Skewness_acc_gyr_mag(s3_acc_wal_waist_filt)\n",
    "s3_wal_skew = np.hstack((o1,o2,o3,o4,o5,o6,o7))"
   ]
  },
  {
   "cell_type": "code",
   "execution_count": 956,
   "id": "45d30d34",
   "metadata": {},
   "outputs": [],
   "source": [
    "o1 = Skewness_acc_gyr_mag(s4_acc_wal_chest_filt)\n",
    "o2 = Skewness_acc_gyr_mag(s4_acc_wal_head_filt)\n",
    "o3 = Skewness_acc_gyr_mag(s4_acc_wal_forearm_filt)\n",
    "o4 = Skewness_acc_gyr_mag(s4_acc_wal_shin_filt)\n",
    "o5 = Skewness_acc_gyr_mag(s4_acc_wal_thigh_filt)\n",
    "o6 = Skewness_acc_gyr_mag(s4_acc_wal_upperarm_filt)\n",
    "o7 = Skewness_acc_gyr_mag(s4_acc_wal_waist_filt)\n",
    "s4_wal_skew = np.hstack((o1,o2,o3,o4,o5,o6,o7))\n"
   ]
  },
  {
   "cell_type": "code",
   "execution_count": 957,
   "id": "5920059d",
   "metadata": {},
   "outputs": [],
   "source": [
    "o1 = Skewness_acc_gyr_mag(s5_acc_wal_chest_filt)\n",
    "o2 = Skewness_acc_gyr_mag(s5_acc_wal_head_filt)\n",
    "o3 = Skewness_acc_gyr_mag(s5_acc_wal_forearm_filt)\n",
    "o4 = Skewness_acc_gyr_mag(s5_acc_wal_shin_filt)\n",
    "o5 = Skewness_acc_gyr_mag(s5_acc_wal_thigh_filt)\n",
    "o6 = Skewness_acc_gyr_mag(s5_acc_wal_upperarm_filt)\n",
    "o7 = Skewness_acc_gyr_mag(s5_acc_wal_waist_filt)\n",
    "s5_wal_skew = np.hstack((o1,o2,o3,o4,o5,o6,o7))"
   ]
  },
  {
   "cell_type": "code",
   "execution_count": 958,
   "id": "54e0355c",
   "metadata": {},
   "outputs": [],
   "source": [
    "o1 = Skewness_acc_gyr_mag(s6_acc_wal_chest_filt)\n",
    "\n",
    "o3 = Skewness_acc_gyr_mag(s6_acc_wal_forearm_filt)\n",
    "o4 = Skewness_acc_gyr_mag(s6_acc_wal_shin_filt)\n",
    "o5 = Skewness_acc_gyr_mag(s6_acc_wal_thigh_filt)\n",
    "o6 = Skewness_acc_gyr_mag(s6_acc_wal_upperarm_filt)\n",
    "o7 = Skewness_acc_gyr_mag(s6_acc_wal_waist_filt)\n",
    "s6_wal_skew = np.hstack((o1,o2,o3,o4,o5,o6,o7))\n"
   ]
  },
  {
   "cell_type": "code",
   "execution_count": 959,
   "id": "5b08e4d5",
   "metadata": {},
   "outputs": [],
   "source": [
    "o1 = Skewness_acc_gyr_mag(s7_acc_wal_chest_filt)\n",
    "o2 = Skewness_acc_gyr_mag(s7_acc_wal_head_filt)\n",
    "o3 = Skewness_acc_gyr_mag(s7_acc_wal_forearm_filt)\n",
    "o4 = Skewness_acc_gyr_mag(s7_acc_wal_shin_filt)\n",
    "o5 = Skewness_acc_gyr_mag(s7_acc_wal_thigh_filt)\n",
    "o6 = Skewness_acc_gyr_mag(s7_acc_wal_upperarm_filt)\n",
    "o7 = Skewness_acc_gyr_mag(s7_acc_wal_waist_filt)\n",
    "s7_wal_skew = np.hstack((o1,o2,o3,o4,o5,o6,o7))"
   ]
  },
  {
   "cell_type": "code",
   "execution_count": 960,
   "id": "9db20d17",
   "metadata": {},
   "outputs": [],
   "source": [
    "o1 = Skewness_acc_gyr_mag(s8_acc_wal_chest_filt)\n",
    "o2 = Skewness_acc_gyr_mag(s8_acc_wal_head_filt)\n",
    "o3 = Skewness_acc_gyr_mag(s8_acc_wal_forearm_filt)\n",
    "o4 = Skewness_acc_gyr_mag(s8_acc_wal_shin_filt)\n",
    "o5 = Skewness_acc_gyr_mag(s8_acc_wal_thigh_filt)\n",
    "o6 = Skewness_acc_gyr_mag(s8_acc_wal_upperarm_filt)\n",
    "o7 = Skewness_acc_gyr_mag(s8_acc_wal_waist_filt)\n",
    "s8_wal_skew = np.hstack((o1,o2,o3,o4,o5,o6,o7))"
   ]
  },
  {
   "cell_type": "code",
   "execution_count": 961,
   "id": "09c3fcac",
   "metadata": {},
   "outputs": [],
   "source": [
    "o1 = Skewness_acc_gyr_mag(s9_acc_wal_chest_filt)\n",
    "o2 = Skewness_acc_gyr_mag(s9_acc_wal_head_filt)\n",
    "o3 = Skewness_acc_gyr_mag(s9_acc_wal_forearm_filt)\n",
    "o4 = Skewness_acc_gyr_mag(s9_acc_wal_shin_filt)\n",
    "o5 = Skewness_acc_gyr_mag(s9_acc_wal_thigh_filt)\n",
    "o6 = Skewness_acc_gyr_mag(s9_acc_wal_upperarm_filt)\n",
    "o7 = Skewness_acc_gyr_mag(s9_acc_wal_waist_filt)\n",
    "s9_wal_skew = np.hstack((o1,o2,o3,o4,o5,o6,o7))"
   ]
  },
  {
   "cell_type": "code",
   "execution_count": 962,
   "id": "6265d438",
   "metadata": {},
   "outputs": [],
   "source": [
    "o1 = Skewness_acc_gyr_mag(s10_acc_wal_chest_filt)\n",
    "o2 = Skewness_acc_gyr_mag(s10_acc_wal_head_filt)\n",
    "o3 = Skewness_acc_gyr_mag(s10_acc_wal_forearm_filt)\n",
    "o4 = Skewness_acc_gyr_mag(s10_acc_wal_shin_filt)\n",
    "o5 = Skewness_acc_gyr_mag(s10_acc_wal_thigh_filt)\n",
    "o6 = Skewness_acc_gyr_mag(s10_acc_wal_upperarm_filt)\n",
    "o7 = Skewness_acc_gyr_mag(s10_acc_wal_waist_filt)\n",
    "s10_wal_skew = np.hstack((o1,o2,o3,o4,o5,o6,o7))"
   ]
  },
  {
   "cell_type": "code",
   "execution_count": 963,
   "id": "1dbe62c3",
   "metadata": {},
   "outputs": [],
   "source": [
    "o1 = Skewness_acc_gyr_mag(s11_acc_wal_chest_filt)\n",
    "o2 = Skewness_acc_gyr_mag(s11_acc_wal_head_filt)\n",
    "o3 = Skewness_acc_gyr_mag(s11_acc_wal_forearm_filt)\n",
    "o4 = Skewness_acc_gyr_mag(s11_acc_wal_shin_filt)\n",
    "o5 = Skewness_acc_gyr_mag(s11_acc_wal_thigh_filt)\n",
    "o6 = Skewness_acc_gyr_mag(s11_acc_wal_upperarm_filt)\n",
    "o7 = Skewness_acc_gyr_mag(s11_acc_wal_waist_filt)\n",
    "s11_wal_skew = np.hstack((o1,o2,o3,o4,o5,o6,o7))"
   ]
  },
  {
   "cell_type": "code",
   "execution_count": 964,
   "id": "34052403",
   "metadata": {},
   "outputs": [],
   "source": [
    "o1 = Skewness_acc_gyr_mag(s12_acc_wal_chest_filt)\n",
    "o2 = Skewness_acc_gyr_mag(s12_acc_wal_head_filt)\n",
    "o3 = Skewness_acc_gyr_mag(s12_acc_wal_forearm_filt)\n",
    "o4 = Skewness_acc_gyr_mag(s12_acc_wal_shin_filt)\n",
    "o5 = Skewness_acc_gyr_mag(s12_acc_wal_thigh_filt)\n",
    "o6 = Skewness_acc_gyr_mag(s12_acc_wal_upperarm_filt)\n",
    "o7 = Skewness_acc_gyr_mag(s12_acc_wal_waist_filt)\n",
    "s12_wal_skew = np.hstack((o1,o2,o3,o4,o5,o6,o7))"
   ]
  },
  {
   "cell_type": "code",
   "execution_count": 965,
   "id": "8a58b461",
   "metadata": {},
   "outputs": [],
   "source": [
    "o1 = Skewness_acc_gyr_mag(s13_acc_wal_chest_filt)\n",
    "o2 = Skewness_acc_gyr_mag(s13_acc_wal_head_filt)\n",
    "o3 = Skewness_acc_gyr_mag(s13_acc_wal_forearm_filt)\n",
    "o4 = Skewness_acc_gyr_mag(s13_acc_wal_shin_filt)\n",
    "o5 = Skewness_acc_gyr_mag(s13_acc_wal_thigh_filt)\n",
    "o6 = Skewness_acc_gyr_mag(s13_acc_wal_upperarm_filt)\n",
    "o7 = Skewness_acc_gyr_mag(s13_acc_wal_waist_filt)\n",
    "s13_wal_skew = np.hstack((o1,o2,o3,o4,o5,o6,o7))"
   ]
  },
  {
   "cell_type": "code",
   "execution_count": 966,
   "id": "6068bcf6",
   "metadata": {},
   "outputs": [],
   "source": [
    "\n",
    "o1 = Skewness_acc_gyr_mag(s14_acc_wal_chest_filt)\n",
    "o2 = Skewness_acc_gyr_mag(s14_acc_wal_head_filt)\n",
    "o3 = Skewness_acc_gyr_mag(s14_acc_wal_forearm_filt)\n",
    "o4 = Skewness_acc_gyr_mag(s14_acc_wal_shin_filt)\n",
    "o5 = Skewness_acc_gyr_mag(s14_acc_wal_thigh_filt)\n",
    "o6 = Skewness_acc_gyr_mag(s14_acc_wal_upperarm_filt)\n",
    "o7 = Skewness_acc_gyr_mag(s14_acc_wal_waist_filt)\n",
    "s14_wal_skew = np.hstack((o1,o2,o3,o4,o5,o6,o7))"
   ]
  },
  {
   "cell_type": "code",
   "execution_count": 967,
   "id": "6443e00e",
   "metadata": {},
   "outputs": [],
   "source": [
    "o1 = Skewness_acc_gyr_mag(s15_acc_wal_chest_filt)\n",
    "o2 = Skewness_acc_gyr_mag(s15_acc_wal_head_filt)\n",
    "o3 = Skewness_acc_gyr_mag(s15_acc_wal_forearm_filt)\n",
    "o4 = Skewness_acc_gyr_mag(s15_acc_wal_shin_filt)\n",
    "o5 = Skewness_acc_gyr_mag(s15_acc_wal_thigh_filt)\n",
    "o6 = Skewness_acc_gyr_mag(s15_acc_wal_upperarm_filt)\n",
    "o7 = Skewness_acc_gyr_mag(s15_acc_wal_waist_filt)\n",
    "s15_wal_skew = np.hstack((o1,o2,o3,o4,o5,o6,o7))"
   ]
  },
  {
   "cell_type": "code",
   "execution_count": 968,
   "id": "267f9221",
   "metadata": {},
   "outputs": [],
   "source": [
    "wal_skew = []\n",
    "wal_skew.append(s1_wal_skew)\n",
    "wal_skew.append(s2_wal_skew)\n",
    "wal_skew.append(s3_wal_skew)\n",
    "wal_skew.append(s4_wal_skew)\n",
    "wal_skew.append(s5_wal_skew)\n",
    "wal_skew.append(s6_wal_skew)\n",
    "wal_skew.append(s7_wal_skew)\n",
    "wal_skew.append(s8_wal_skew)\n",
    "wal_skew.append(s9_wal_skew)\n",
    "wal_skew.append(s10_wal_skew)\n",
    "wal_skew.append(s11_wal_skew)\n",
    "wal_skew.append(s12_wal_skew)\n",
    "wal_skew.append(s13_wal_skew)\n",
    "wal_skew.append(s14_wal_skew)\n",
    "wal_skew.append(s15_wal_skew)\n"
   ]
  },
  {
   "cell_type": "code",
   "execution_count": 969,
   "id": "cbd5c5dc",
   "metadata": {},
   "outputs": [],
   "source": [
    "#fft minmax diff for walking"
   ]
  },
  {
   "cell_type": "code",
   "execution_count": 970,
   "id": "6f274dda",
   "metadata": {},
   "outputs": [],
   "source": [
    "o1 = Fft_MaxMinDiff_acc_gyr_mag(s1_acc_wal_chest_filt)\n",
    "o2 = Fft_MaxMinDiff_acc_gyr_mag(s1_acc_wal_head_filt)\n",
    "o3 = Fft_MaxMinDiff_acc_gyr_mag(s1_acc_wal_forearm_filt)\n",
    "o4 = Fft_MaxMinDiff_acc_gyr_mag(s1_acc_wal_shin_filt)\n",
    "o5 = Fft_MaxMinDiff_acc_gyr_mag(s1_acc_wal_thigh_filt)\n",
    "o6 = Fft_MaxMinDiff_acc_gyr_mag(s1_acc_wal_upperarm_filt)\n",
    "o7 = Fft_MaxMinDiff_acc_gyr_mag(s1_acc_wal_waist_filt)\n",
    "s1_wal_FD = np.hstack((o1,o2,o3,o4,o5,o6,o7))"
   ]
  },
  {
   "cell_type": "code",
   "execution_count": 971,
   "id": "4b7e3e67",
   "metadata": {},
   "outputs": [],
   "source": [
    "o1 = Fft_MaxMinDiff_acc_gyr_mag(s2_acc_wal_chest_filt)\n",
    "o2 = Fft_MaxMinDiff_acc_gyr_mag(s2_acc_wal_head_filt)\n",
    "o3 = Fft_MaxMinDiff_acc_gyr_mag(s2_acc_wal_forearm_filt)\n",
    "o4 = Fft_MaxMinDiff_acc_gyr_mag(s2_acc_wal_shin_filt)\n",
    "o5 = Fft_MaxMinDiff_acc_gyr_mag(s2_acc_wal_thigh_filt)\n",
    "o6 = Fft_MaxMinDiff_acc_gyr_mag(s2_acc_wal_upperarm_filt)\n",
    "o7 = Fft_MaxMinDiff_acc_gyr_mag(s2_acc_wal_waist_filt)\n",
    "s2_wal_FD = np.hstack((o1,o2,o3,o4,o5,o6,o7))"
   ]
  },
  {
   "cell_type": "code",
   "execution_count": 972,
   "id": "c350af55",
   "metadata": {},
   "outputs": [],
   "source": [
    "o1 = Fft_MaxMinDiff_acc_gyr_mag(s3_acc_wal_chest_filt)\n",
    "o2 = Fft_MaxMinDiff_acc_gyr_mag(s3_acc_wal_head_filt)\n",
    "o3 = Fft_MaxMinDiff_acc_gyr_mag(s3_acc_wal_forearm_filt)\n",
    "o4 = Fft_MaxMinDiff_acc_gyr_mag(s3_acc_wal_shin_filt)\n",
    "o5 = Fft_MaxMinDiff_acc_gyr_mag(s3_acc_wal_thigh_filt)\n",
    "o6 = Fft_MaxMinDiff_acc_gyr_mag(s3_acc_wal_upperarm_filt)\n",
    "o7 = Fft_MaxMinDiff_acc_gyr_mag(s3_acc_wal_waist_filt)\n",
    "s3_wal_FD = np.hstack((o1,o2,o3,o4,o5,o6,o7))"
   ]
  },
  {
   "cell_type": "code",
   "execution_count": 973,
   "id": "f9044932",
   "metadata": {},
   "outputs": [],
   "source": [
    "o1 = Fft_MaxMinDiff_acc_gyr_mag(s4_acc_wal_chest_filt)\n",
    "o2 = Fft_MaxMinDiff_acc_gyr_mag(s4_acc_wal_head_filt)\n",
    "o3 = Fft_MaxMinDiff_acc_gyr_mag(s4_acc_wal_forearm_filt)\n",
    "o4 = Fft_MaxMinDiff_acc_gyr_mag(s4_acc_wal_shin_filt)\n",
    "o5 = Fft_MaxMinDiff_acc_gyr_mag(s4_acc_wal_thigh_filt)\n",
    "o6 = Fft_MaxMinDiff_acc_gyr_mag(s4_acc_wal_upperarm_filt)\n",
    "o7 = Fft_MaxMinDiff_acc_gyr_mag(s4_acc_wal_waist_filt)\n",
    "s4_wal_FD = np.hstack((o1,o2,o3,o4,o5,o6,o7))"
   ]
  },
  {
   "cell_type": "code",
   "execution_count": 974,
   "id": "ccb4dc00",
   "metadata": {},
   "outputs": [],
   "source": [
    "o1 = Fft_MaxMinDiff_acc_gyr_mag(s5_acc_wal_chest_filt)\n",
    "o2 = Fft_MaxMinDiff_acc_gyr_mag(s5_acc_wal_head_filt)\n",
    "o3 = Fft_MaxMinDiff_acc_gyr_mag(s5_acc_wal_forearm_filt)\n",
    "o4 = Fft_MaxMinDiff_acc_gyr_mag(s5_acc_wal_shin_filt)\n",
    "o5 = Fft_MaxMinDiff_acc_gyr_mag(s5_acc_wal_thigh_filt)\n",
    "o6 = Fft_MaxMinDiff_acc_gyr_mag(s5_acc_wal_upperarm_filt)\n",
    "o7 = Fft_MaxMinDiff_acc_gyr_mag(s5_acc_wal_waist_filt)\n",
    "s5_wal_FD = np.hstack((o1,o2,o3,o4,o5,o6,o7))"
   ]
  },
  {
   "cell_type": "code",
   "execution_count": 975,
   "id": "b785e001",
   "metadata": {},
   "outputs": [],
   "source": [
    "o1 = Fft_MaxMinDiff_acc_gyr_mag(s6_acc_wal_chest_filt)\n",
    "\n",
    "o3 = Fft_MaxMinDiff_acc_gyr_mag(s6_acc_wal_forearm_filt)\n",
    "o4 = Fft_MaxMinDiff_acc_gyr_mag(s6_acc_wal_shin_filt)\n",
    "o5 = Fft_MaxMinDiff_acc_gyr_mag(s6_acc_wal_thigh_filt)\n",
    "o6 = Fft_MaxMinDiff_acc_gyr_mag(s6_acc_wal_upperarm_filt)\n",
    "o7 = Fft_MaxMinDiff_acc_gyr_mag(s6_acc_wal_waist_filt)\n",
    "s6_wal_FD = np.hstack((o1,o2,o3,o4,o5,o6,o7))"
   ]
  },
  {
   "cell_type": "code",
   "execution_count": 976,
   "id": "66f1f693",
   "metadata": {},
   "outputs": [],
   "source": [
    "o1 = Fft_MaxMinDiff_acc_gyr_mag(s7_acc_wal_chest_filt)\n",
    "o2 = Fft_MaxMinDiff_acc_gyr_mag(s7_acc_wal_head_filt)\n",
    "o3 = Fft_MaxMinDiff_acc_gyr_mag(s7_acc_wal_forearm_filt)\n",
    "o4 = Fft_MaxMinDiff_acc_gyr_mag(s7_acc_wal_shin_filt)\n",
    "o5 = Fft_MaxMinDiff_acc_gyr_mag(s7_acc_wal_thigh_filt)\n",
    "o6 = Fft_MaxMinDiff_acc_gyr_mag(s7_acc_wal_upperarm_filt)\n",
    "o7 = Fft_MaxMinDiff_acc_gyr_mag(s7_acc_wal_waist_filt)\n",
    "s7_wal_FD = np.hstack((o1,o2,o3,o4,o5,o6,o7))"
   ]
  },
  {
   "cell_type": "code",
   "execution_count": 977,
   "id": "1a33f884",
   "metadata": {},
   "outputs": [
    {
     "data": {
      "text/plain": [
       "[<matplotlib.lines.Line2D at 0x7f7f172407f0>]"
      ]
     },
     "execution_count": 977,
     "metadata": {},
     "output_type": "execute_result"
    },
    {
     "data": {
      "image/png": "[encoded data removed]",
      "text/plain": [
       "<Figure size 432x288 with 1 Axes>"
      ]
     },
     "metadata": {
      "needs_background": "light"
     },
     "output_type": "display_data"
    }
   ],
   "source": [
    "plt.plot(s7_wal_FD, color='blue', marker='o')"
   ]
  },
  {
   "cell_type": "code",
   "execution_count": 978,
   "id": "216c1097",
   "metadata": {},
   "outputs": [],
   "source": [
    "o1 = Fft_MaxMinDiff_acc_gyr_mag(s8_acc_wal_chest_filt)\n",
    "o2 = Fft_MaxMinDiff_acc_gyr_mag(s8_acc_wal_head_filt)\n",
    "o3 = Fft_MaxMinDiff_acc_gyr_mag(s8_acc_wal_forearm_filt)\n",
    "o4 = Fft_MaxMinDiff_acc_gyr_mag(s8_acc_wal_shin_filt)\n",
    "o5 = Fft_MaxMinDiff_acc_gyr_mag(s8_acc_wal_thigh_filt)\n",
    "o6 = Fft_MaxMinDiff_acc_gyr_mag(s8_acc_wal_upperarm_filt)\n",
    "o7 = Fft_MaxMinDiff_acc_gyr_mag(s8_acc_wal_waist_filt)\n",
    "s8_wal_FD = np.hstack((o1,o2,o3,o4,o5,o6,o7))"
   ]
  },
  {
   "cell_type": "code",
   "execution_count": 979,
   "id": "38e084b6",
   "metadata": {},
   "outputs": [],
   "source": [
    "o1 = Fft_MaxMinDiff_acc_gyr_mag(s9_acc_wal_chest_filt)\n",
    "o2 = Fft_MaxMinDiff_acc_gyr_mag(s9_acc_wal_head_filt)\n",
    "o3 = Fft_MaxMinDiff_acc_gyr_mag(s9_acc_wal_forearm_filt)\n",
    "o4 = Fft_MaxMinDiff_acc_gyr_mag(s9_acc_wal_shin_filt)\n",
    "o5 = Fft_MaxMinDiff_acc_gyr_mag(s9_acc_wal_thigh_filt)\n",
    "o6 = Fft_MaxMinDiff_acc_gyr_mag(s9_acc_wal_upperarm_filt)\n",
    "o7 = Fft_MaxMinDiff_acc_gyr_mag(s9_acc_wal_waist_filt)\n",
    "s9_wal_FD = np.hstack((o1,o2,o3,o4,o5,o6,o7))"
   ]
  },
  {
   "cell_type": "code",
   "execution_count": 980,
   "id": "7f671b54",
   "metadata": {},
   "outputs": [],
   "source": [
    "o1 = Fft_MaxMinDiff_acc_gyr_mag(s10_acc_wal_chest_filt)\n",
    "o2 = Fft_MaxMinDiff_acc_gyr_mag(s10_acc_wal_head_filt)\n",
    "o3 = Fft_MaxMinDiff_acc_gyr_mag(s10_acc_wal_forearm_filt)\n",
    "o4 = Fft_MaxMinDiff_acc_gyr_mag(s10_acc_wal_shin_filt)\n",
    "o5 = Fft_MaxMinDiff_acc_gyr_mag(s10_acc_wal_thigh_filt)\n",
    "o6 = Fft_MaxMinDiff_acc_gyr_mag(s10_acc_wal_upperarm_filt)\n",
    "o7 = Fft_MaxMinDiff_acc_gyr_mag(s10_acc_wal_waist_filt)\n",
    "s10_wal_FD = np.hstack((o1,o2,o3,o4,o5,o6,o7))"
   ]
  },
  {
   "cell_type": "code",
   "execution_count": 981,
   "id": "fd1cc3d8",
   "metadata": {},
   "outputs": [],
   "source": [
    "o1 = Fft_MaxMinDiff_acc_gyr_mag(s11_acc_wal_chest_filt)\n",
    "o2 = Fft_MaxMinDiff_acc_gyr_mag(s11_acc_wal_head_filt)\n",
    "o3 = Fft_MaxMinDiff_acc_gyr_mag(s11_acc_wal_forearm_filt)\n",
    "o4 = Fft_MaxMinDiff_acc_gyr_mag(s11_acc_wal_shin_filt)\n",
    "o5 = Fft_MaxMinDiff_acc_gyr_mag(s11_acc_wal_thigh_filt)\n",
    "o6 = Fft_MaxMinDiff_acc_gyr_mag(s11_acc_wal_upperarm_filt)\n",
    "o7 = Fft_MaxMinDiff_acc_gyr_mag(s11_acc_wal_waist_filt)\n",
    "s11_wal_FD = np.hstack((o1,o2,o3,o4,o5,o6,o7))"
   ]
  },
  {
   "cell_type": "code",
   "execution_count": 982,
   "id": "398dfbee",
   "metadata": {},
   "outputs": [],
   "source": [
    "o1 = Fft_MaxMinDiff_acc_gyr_mag(s12_acc_wal_chest_filt)\n",
    "o2 = Fft_MaxMinDiff_acc_gyr_mag(s12_acc_wal_head_filt)\n",
    "o3 = Fft_MaxMinDiff_acc_gyr_mag(s12_acc_wal_forearm_filt)\n",
    "o4 = Fft_MaxMinDiff_acc_gyr_mag(s12_acc_wal_shin_filt)\n",
    "o5 = Fft_MaxMinDiff_acc_gyr_mag(s12_acc_wal_thigh_filt)\n",
    "o6 = Fft_MaxMinDiff_acc_gyr_mag(s12_acc_wal_upperarm_filt)\n",
    "o7 = Fft_MaxMinDiff_acc_gyr_mag(s12_acc_wal_waist_filt)\n",
    "s12_wal_FD = np.hstack((o1,o2,o3,o4,o5,o6,o7))"
   ]
  },
  {
   "cell_type": "code",
   "execution_count": 983,
   "id": "d74ac85b",
   "metadata": {},
   "outputs": [],
   "source": [
    "o1 = Fft_MaxMinDiff_acc_gyr_mag(s13_acc_wal_chest_filt)\n",
    "o2 = Fft_MaxMinDiff_acc_gyr_mag(s13_acc_wal_head_filt)\n",
    "o3 = Fft_MaxMinDiff_acc_gyr_mag(s13_acc_wal_forearm_filt)\n",
    "o4 = Fft_MaxMinDiff_acc_gyr_mag(s13_acc_wal_shin_filt)\n",
    "o5 = Fft_MaxMinDiff_acc_gyr_mag(s13_acc_wal_thigh_filt)\n",
    "o6 = Fft_MaxMinDiff_acc_gyr_mag(s13_acc_wal_upperarm_filt)\n",
    "o7 = Fft_MaxMinDiff_acc_gyr_mag(s13_acc_wal_waist_filt)\n",
    "s13_wal_FD = np.hstack((o1,o2,o3,o4,o5,o6,o7))\n"
   ]
  },
  {
   "cell_type": "code",
   "execution_count": 984,
   "id": "640f419c",
   "metadata": {},
   "outputs": [],
   "source": [
    "o1 = Fft_MaxMinDiff_acc_gyr_mag(s14_acc_wal_chest_filt)\n",
    "o2 = Fft_MaxMinDiff_acc_gyr_mag(s14_acc_wal_head_filt)\n",
    "o3 = Fft_MaxMinDiff_acc_gyr_mag(s14_acc_wal_forearm_filt)\n",
    "o4 = Fft_MaxMinDiff_acc_gyr_mag(s14_acc_wal_shin_filt)\n",
    "o5 = Fft_MaxMinDiff_acc_gyr_mag(s14_acc_wal_thigh_filt)\n",
    "o6 = Fft_MaxMinDiff_acc_gyr_mag(s14_acc_wal_upperarm_filt)\n",
    "o7 = Fft_MaxMinDiff_acc_gyr_mag(s14_acc_wal_waist_filt)\n",
    "s14_wal_FD = np.hstack((o1,o2,o3,o4,o5,o6,o7))"
   ]
  },
  {
   "cell_type": "code",
   "execution_count": 985,
   "id": "ad967431",
   "metadata": {},
   "outputs": [],
   "source": [
    "o1 = Fft_MaxMinDiff_acc_gyr_mag(s15_acc_wal_chest_filt)\n",
    "o2 = Fft_MaxMinDiff_acc_gyr_mag(s15_acc_wal_head_filt)\n",
    "o3 = Fft_MaxMinDiff_acc_gyr_mag(s15_acc_wal_forearm_filt)\n",
    "o4 = Fft_MaxMinDiff_acc_gyr_mag(s15_acc_wal_shin_filt)\n",
    "o5 = Fft_MaxMinDiff_acc_gyr_mag(s15_acc_wal_thigh_filt)\n",
    "o6 = Fft_MaxMinDiff_acc_gyr_mag(s15_acc_wal_upperarm_filt)\n",
    "o7 = Fft_MaxMinDiff_acc_gyr_mag(s15_acc_wal_waist_filt)\n",
    "s15_wal_FD = np.hstack((o1,o2,o3,o4,o5,o6,o7))"
   ]
  },
  {
   "cell_type": "code",
   "execution_count": 986,
   "id": "2b2939a9",
   "metadata": {},
   "outputs": [],
   "source": [
    "wal_FD = []\n",
    "wal_FD.append(s1_wal_FD)\n",
    "wal_FD.append(s2_wal_FD)\n",
    "wal_FD.append(s3_wal_FD)\n",
    "wal_FD.append(s4_wal_FD)\n",
    "wal_FD.append(s5_wal_FD)\n",
    "wal_FD.append(s6_wal_FD)\n",
    "wal_FD.append(s7_wal_FD)\n",
    "wal_FD.append(s8_wal_FD)\n",
    "wal_FD.append(s9_wal_FD)\n",
    "wal_FD.append(s10_wal_FD)\n",
    "wal_FD.append(s11_wal_FD)\n",
    "wal_FD.append(s12_wal_FD)\n",
    "wal_FD.append(s13_wal_FD)\n",
    "wal_FD.append(s14_wal_FD)\n",
    "wal_FD.append(s15_wal_FD)\n"
   ]
  },
  {
   "cell_type": "code",
   "execution_count": 987,
   "id": "664021b9",
   "metadata": {},
   "outputs": [],
   "source": [
    "#fft minmax ratio for walking"
   ]
  },
  {
   "cell_type": "code",
   "execution_count": 988,
   "id": "8a2e830d",
   "metadata": {},
   "outputs": [],
   "source": [
    "o1 = Fft_MaxMinRatio_acc_gyr_mag(s1_acc_wal_chest_filt)\n",
    "o2 = Fft_MaxMinRatio_acc_gyr_mag(s1_acc_wal_head_filt)\n",
    "o3 = Fft_MaxMinRatio_acc_gyr_mag(s1_acc_wal_forearm_filt)\n",
    "o4 = Fft_MaxMinRatio_acc_gyr_mag(s1_acc_wal_shin_filt)\n",
    "o5 = Fft_MaxMinRatio_acc_gyr_mag(s1_acc_wal_thigh_filt)\n",
    "o6 = Fft_MaxMinRatio_acc_gyr_mag(s1_acc_wal_upperarm_filt)\n",
    "o7 = Fft_MaxMinRatio_acc_gyr_mag(s1_acc_wal_waist_filt)\n",
    "s1_wal_FR = np.hstack((o1,o2,o3,o4,o5,o6,o7))"
   ]
  },
  {
   "cell_type": "code",
   "execution_count": 989,
   "id": "049384c1",
   "metadata": {},
   "outputs": [],
   "source": [
    "o1 = Fft_MaxMinRatio_acc_gyr_mag(s2_acc_wal_chest_filt)\n",
    "o2 = Fft_MaxMinRatio_acc_gyr_mag(s2_acc_wal_head_filt)\n",
    "o3 = Fft_MaxMinRatio_acc_gyr_mag(s2_acc_wal_forearm_filt)\n",
    "o4 = Fft_MaxMinRatio_acc_gyr_mag(s2_acc_wal_shin_filt)\n",
    "o5 = Fft_MaxMinRatio_acc_gyr_mag(s2_acc_wal_thigh_filt)\n",
    "o6 = Fft_MaxMinRatio_acc_gyr_mag(s2_acc_wal_upperarm_filt)\n",
    "o7 = Fft_MaxMinRatio_acc_gyr_mag(s2_acc_wal_waist_filt)\n",
    "s2_wal_FR = np.hstack((o1,o2,o3,o4,o5,o6,o7))\n"
   ]
  },
  {
   "cell_type": "code",
   "execution_count": 990,
   "id": "32f63349",
   "metadata": {},
   "outputs": [],
   "source": [
    "o1 = Fft_MaxMinRatio_acc_gyr_mag(s3_acc_wal_chest_filt)\n",
    "o2 = Fft_MaxMinRatio_acc_gyr_mag(s3_acc_wal_head_filt)\n",
    "o3 = Fft_MaxMinRatio_acc_gyr_mag(s3_acc_wal_forearm_filt)\n",
    "o4 = Fft_MaxMinRatio_acc_gyr_mag(s3_acc_wal_shin_filt)\n",
    "o5 = Fft_MaxMinRatio_acc_gyr_mag(s3_acc_wal_thigh_filt)\n",
    "o6 = Fft_MaxMinRatio_acc_gyr_mag(s3_acc_wal_upperarm_filt)\n",
    "o7 = Fft_MaxMinRatio_acc_gyr_mag(s3_acc_wal_waist_filt)\n",
    "s3_wal_FR = np.hstack((o1,o2,o3,o4,o5,o6,o7))"
   ]
  },
  {
   "cell_type": "code",
   "execution_count": 991,
   "id": "236076d8",
   "metadata": {},
   "outputs": [],
   "source": [
    "o1 = Fft_MaxMinRatio_acc_gyr_mag(s4_acc_wal_chest_filt)\n",
    "o2 = Fft_MaxMinRatio_acc_gyr_mag(s4_acc_wal_head_filt)\n",
    "o3 = Fft_MaxMinRatio_acc_gyr_mag(s4_acc_wal_forearm_filt)\n",
    "o4 = Fft_MaxMinRatio_acc_gyr_mag(s4_acc_wal_shin_filt)\n",
    "o5 = Fft_MaxMinRatio_acc_gyr_mag(s4_acc_wal_thigh_filt)\n",
    "o6 = Fft_MaxMinRatio_acc_gyr_mag(s4_acc_wal_upperarm_filt)\n",
    "o7 = Fft_MaxMinRatio_acc_gyr_mag(s4_acc_wal_waist_filt)\n",
    "s4_wal_FR = np.hstack((o1,o2,o3,o4,o5,o6,o7))"
   ]
  },
  {
   "cell_type": "code",
   "execution_count": 992,
   "id": "230a98fd",
   "metadata": {},
   "outputs": [],
   "source": [
    "o1 = Fft_MaxMinRatio_acc_gyr_mag(s5_acc_wal_chest_filt)\n",
    "o2 = Fft_MaxMinRatio_acc_gyr_mag(s5_acc_wal_head_filt)\n",
    "o3 = Fft_MaxMinRatio_acc_gyr_mag(s5_acc_wal_forearm_filt)\n",
    "o4 = Fft_MaxMinRatio_acc_gyr_mag(s5_acc_wal_shin_filt)\n",
    "o5 = Fft_MaxMinRatio_acc_gyr_mag(s5_acc_wal_thigh_filt)\n",
    "o6 = Fft_MaxMinRatio_acc_gyr_mag(s5_acc_wal_upperarm_filt)\n",
    "o7 = Fft_MaxMinRatio_acc_gyr_mag(s5_acc_wal_waist_filt)\n",
    "s5_wal_FR = np.hstack((o1,o2,o3,o4,o5,o6,o7))"
   ]
  },
  {
   "cell_type": "code",
   "execution_count": 993,
   "id": "4a992c0b",
   "metadata": {},
   "outputs": [],
   "source": [
    "o1 = Fft_MaxMinRatio_acc_gyr_mag(s6_acc_wal_chest_filt)\n",
    "\n",
    "o3 = Fft_MaxMinRatio_acc_gyr_mag(s6_acc_wal_forearm_filt)\n",
    "o4 = Fft_MaxMinRatio_acc_gyr_mag(s6_acc_wal_shin_filt)\n",
    "o5 = Fft_MaxMinRatio_acc_gyr_mag(s6_acc_wal_thigh_filt)\n",
    "o6 = Fft_MaxMinRatio_acc_gyr_mag(s6_acc_wal_upperarm_filt)\n",
    "o7 = Fft_MaxMinRatio_acc_gyr_mag(s6_acc_wal_waist_filt)\n",
    "s6_wal_FR = np.hstack((o1,o2,o3,o4,o5,o6,o7))"
   ]
  },
  {
   "cell_type": "code",
   "execution_count": 994,
   "id": "1ae94f38",
   "metadata": {},
   "outputs": [],
   "source": [
    "o1 = Fft_MaxMinRatio_acc_gyr_mag(s7_acc_wal_chest_filt)\n",
    "o2 = Fft_MaxMinRatio_acc_gyr_mag(s7_acc_wal_head_filt)\n",
    "o3 = Fft_MaxMinRatio_acc_gyr_mag(s7_acc_wal_forearm_filt)\n",
    "o4 = Fft_MaxMinRatio_acc_gyr_mag(s7_acc_wal_shin_filt)\n",
    "o5 = Fft_MaxMinRatio_acc_gyr_mag(s7_acc_wal_thigh_filt)\n",
    "o6 = Fft_MaxMinRatio_acc_gyr_mag(s7_acc_wal_upperarm_filt)\n",
    "o7 = Fft_MaxMinRatio_acc_gyr_mag(s7_acc_wal_waist_filt)\n",
    "s7_wal_FR = np.hstack((o1,o2,o3,o4,o5,o6,o7))"
   ]
  },
  {
   "cell_type": "code",
   "execution_count": 995,
   "id": "968fbda0",
   "metadata": {},
   "outputs": [],
   "source": [
    "o1 = Fft_MaxMinRatio_acc_gyr_mag(s8_acc_wal_chest_filt)\n",
    "o2 = Fft_MaxMinRatio_acc_gyr_mag(s8_acc_wal_head_filt)\n",
    "o3 = Fft_MaxMinRatio_acc_gyr_mag(s8_acc_wal_forearm_filt)\n",
    "o4 = Fft_MaxMinRatio_acc_gyr_mag(s8_acc_wal_shin_filt)\n",
    "o5 = Fft_MaxMinRatio_acc_gyr_mag(s8_acc_wal_thigh_filt)\n",
    "o6 = Fft_MaxMinRatio_acc_gyr_mag(s8_acc_wal_upperarm_filt)\n",
    "o7 = Fft_MaxMinRatio_acc_gyr_mag(s8_acc_wal_waist_filt)\n",
    "s8_wal_FR = np.hstack((o1,o2,o3,o4,o5,o6,o7))"
   ]
  },
  {
   "cell_type": "code",
   "execution_count": 996,
   "id": "1a319ae4",
   "metadata": {},
   "outputs": [],
   "source": [
    "o1 = Fft_MaxMinRatio_acc_gyr_mag(s9_acc_wal_chest_filt)\n",
    "o2 = Fft_MaxMinRatio_acc_gyr_mag(s9_acc_wal_head_filt)\n",
    "o3 = Fft_MaxMinRatio_acc_gyr_mag(s9_acc_wal_forearm_filt)\n",
    "o4 = Fft_MaxMinRatio_acc_gyr_mag(s9_acc_wal_shin_filt)\n",
    "o5 = Fft_MaxMinRatio_acc_gyr_mag(s9_acc_wal_thigh_filt)\n",
    "o6 = Fft_MaxMinRatio_acc_gyr_mag(s9_acc_wal_upperarm_filt)\n",
    "o7 = Fft_MaxMinRatio_acc_gyr_mag(s9_acc_wal_waist_filt)\n",
    "s9_wal_FR = np.hstack((o1,o2,o3,o4,o5,o6,o7))"
   ]
  },
  {
   "cell_type": "code",
   "execution_count": 997,
   "id": "ea74ac95",
   "metadata": {},
   "outputs": [],
   "source": [
    "o1 = Fft_MaxMinRatio_acc_gyr_mag(s10_acc_wal_chest_filt)\n",
    "o2 = Fft_MaxMinRatio_acc_gyr_mag(s10_acc_wal_head_filt)\n",
    "o3 = Fft_MaxMinRatio_acc_gyr_mag(s10_acc_wal_forearm_filt)\n",
    "o4 = Fft_MaxMinRatio_acc_gyr_mag(s10_acc_wal_shin_filt)\n",
    "o5 = Fft_MaxMinRatio_acc_gyr_mag(s10_acc_wal_thigh_filt)\n",
    "o6 = Fft_MaxMinRatio_acc_gyr_mag(s10_acc_wal_upperarm_filt)\n",
    "o7 = Fft_MaxMinRatio_acc_gyr_mag(s10_acc_wal_waist_filt)\n",
    "s10_wal_FR = np.hstack((o1,o2,o3,o4,o5,o6,o7))"
   ]
  },
  {
   "cell_type": "code",
   "execution_count": 998,
   "id": "1c0220e4",
   "metadata": {},
   "outputs": [],
   "source": [
    "o1 = Fft_MaxMinRatio_acc_gyr_mag(s11_acc_wal_chest_filt)\n",
    "o2 = Fft_MaxMinRatio_acc_gyr_mag(s11_acc_wal_head_filt)\n",
    "o3 = Fft_MaxMinRatio_acc_gyr_mag(s11_acc_wal_forearm_filt)\n",
    "o4 = Fft_MaxMinRatio_acc_gyr_mag(s11_acc_wal_shin_filt)\n",
    "o5 = Fft_MaxMinRatio_acc_gyr_mag(s11_acc_wal_thigh_filt)\n",
    "o6 = Fft_MaxMinRatio_acc_gyr_mag(s11_acc_wal_upperarm_filt)\n",
    "o7 = Fft_MaxMinRatio_acc_gyr_mag(s11_acc_wal_waist_filt)\n",
    "s11_wal_FR = np.hstack((o1,o2,o3,o4,o5,o6,o7))"
   ]
  },
  {
   "cell_type": "code",
   "execution_count": 999,
   "id": "2761d577",
   "metadata": {},
   "outputs": [],
   "source": [
    "\n",
    "o1 = Fft_MaxMinRatio_acc_gyr_mag(s12_acc_wal_chest_filt)\n",
    "o2 = Fft_MaxMinRatio_acc_gyr_mag(s12_acc_wal_head_filt)\n",
    "o3 = Fft_MaxMinRatio_acc_gyr_mag(s12_acc_wal_forearm_filt)\n",
    "o4 = Fft_MaxMinRatio_acc_gyr_mag(s12_acc_wal_shin_filt)\n",
    "o5 = Fft_MaxMinRatio_acc_gyr_mag(s12_acc_wal_thigh_filt)\n",
    "o6 = Fft_MaxMinRatio_acc_gyr_mag(s12_acc_wal_upperarm_filt)\n",
    "o7 = Fft_MaxMinRatio_acc_gyr_mag(s12_acc_wal_waist_filt)\n",
    "s12_wal_FR = np.hstack((o1,o2,o3,o4,o5,o6,o7))"
   ]
  },
  {
   "cell_type": "code",
   "execution_count": 1000,
   "id": "203bb049",
   "metadata": {},
   "outputs": [],
   "source": [
    "o1 = Fft_MaxMinRatio_acc_gyr_mag(s13_acc_wal_chest_filt)\n",
    "o2 = Fft_MaxMinRatio_acc_gyr_mag(s13_acc_wal_head_filt)\n",
    "o3 = Fft_MaxMinRatio_acc_gyr_mag(s13_acc_wal_forearm_filt)\n",
    "o4 = Fft_MaxMinRatio_acc_gyr_mag(s13_acc_wal_shin_filt)\n",
    "o5 = Fft_MaxMinRatio_acc_gyr_mag(s13_acc_wal_thigh_filt)\n",
    "o6 = Fft_MaxMinRatio_acc_gyr_mag(s13_acc_wal_upperarm_filt)\n",
    "o7 = Fft_MaxMinRatio_acc_gyr_mag(s13_acc_wal_waist_filt)\n",
    "s13_wal_FR = np.hstack((o1,o2,o3,o4,o5,o6,o7))"
   ]
  },
  {
   "cell_type": "code",
   "execution_count": 1001,
   "id": "fa755638",
   "metadata": {},
   "outputs": [],
   "source": [
    "o1 = Fft_MaxMinRatio_acc_gyr_mag(s14_acc_wal_chest_filt)\n",
    "o2 = Fft_MaxMinRatio_acc_gyr_mag(s14_acc_wal_head_filt)\n",
    "o3 = Fft_MaxMinRatio_acc_gyr_mag(s14_acc_wal_forearm_filt)\n",
    "o4 = Fft_MaxMinRatio_acc_gyr_mag(s14_acc_wal_shin_filt)\n",
    "o5 = Fft_MaxMinRatio_acc_gyr_mag(s14_acc_wal_thigh_filt)\n",
    "o6 = Fft_MaxMinRatio_acc_gyr_mag(s14_acc_wal_upperarm_filt)\n",
    "o7 = Fft_MaxMinRatio_acc_gyr_mag(s14_acc_wal_waist_filt)\n",
    "s14_wal_FR = np.hstack((o1,o2,o3,o4,o5,o6,o7))"
   ]
  },
  {
   "cell_type": "code",
   "execution_count": 1002,
   "id": "a1247af2",
   "metadata": {},
   "outputs": [],
   "source": [
    "o1 = Fft_MaxMinRatio_acc_gyr_mag(s15_acc_wal_chest_filt)\n",
    "o2 = Fft_MaxMinRatio_acc_gyr_mag(s15_acc_wal_head_filt)\n",
    "o3 = Fft_MaxMinRatio_acc_gyr_mag(s15_acc_wal_forearm_filt)\n",
    "o4 = Fft_MaxMinRatio_acc_gyr_mag(s15_acc_wal_shin_filt)\n",
    "o5 = Fft_MaxMinRatio_acc_gyr_mag(s15_acc_wal_thigh_filt)\n",
    "o6 = Fft_MaxMinRatio_acc_gyr_mag(s15_acc_wal_upperarm_filt)\n",
    "o7 = Fft_MaxMinRatio_acc_gyr_mag(s15_acc_wal_waist_filt)\n",
    "s15_wal_FR = np.hstack((o1,o2,o3,o4,o5,o6,o7))"
   ]
  },
  {
   "cell_type": "code",
   "execution_count": 1003,
   "id": "375c833f",
   "metadata": {},
   "outputs": [],
   "source": [
    "wal_FR = []\n",
    "wal_FR.append(s1_wal_FR)\n",
    "wal_FR.append(s2_wal_FR)\n",
    "wal_FR.append(s3_wal_FR)\n",
    "wal_FR.append(s4_wal_FR)\n",
    "wal_FR.append(s5_wal_FR)\n",
    "wal_FR.append(s6_wal_FR)\n",
    "wal_FR.append(s7_wal_FR)\n",
    "wal_FR.append(s8_wal_FR)\n",
    "wal_FR.append(s9_wal_FR)\n",
    "wal_FR.append(s10_wal_FR)\n",
    "wal_FR.append(s11_wal_FR)\n",
    "wal_FR.append(s12_wal_FR)\n",
    "wal_FR.append(s13_wal_FR)\n",
    "wal_FR.append(s14_wal_FR)\n",
    "wal_FR.append(s15_wal_FR)"
   ]
  },
  {
   "cell_type": "code",
   "execution_count": 1004,
   "id": "f502bc12",
   "metadata": {},
   "outputs": [
    {
     "data": {
      "text/plain": [
       "[<matplotlib.lines.Line2D at 0x7f7f184549a0>,\n",
       " <matplotlib.lines.Line2D at 0x7f7f18454a00>,\n",
       " <matplotlib.lines.Line2D at 0x7f7f18454a60>,\n",
       " <matplotlib.lines.Line2D at 0x7f7f18454b20>,\n",
       " <matplotlib.lines.Line2D at 0x7f7f18454be0>,\n",
       " <matplotlib.lines.Line2D at 0x7f7f18454ca0>,\n",
       " <matplotlib.lines.Line2D at 0x7f7f18454d60>,\n",
       " <matplotlib.lines.Line2D at 0x7f7f18454e20>,\n",
       " <matplotlib.lines.Line2D at 0x7f7f18454ee0>,\n",
       " <matplotlib.lines.Line2D at 0x7f7f18454fa0>,\n",
       " <matplotlib.lines.Line2D at 0x7f7f1845b0a0>,\n",
       " <matplotlib.lines.Line2D at 0x7f7f1845b160>,\n",
       " <matplotlib.lines.Line2D at 0x7f7f1845b220>,\n",
       " <matplotlib.lines.Line2D at 0x7f7f1845b2e0>,\n",
       " <matplotlib.lines.Line2D at 0x7f7f1845b3a0>,\n",
       " <matplotlib.lines.Line2D at 0x7f7f1845b460>,\n",
       " <matplotlib.lines.Line2D at 0x7f7f1845b520>,\n",
       " <matplotlib.lines.Line2D at 0x7f7f1845b5e0>,\n",
       " <matplotlib.lines.Line2D at 0x7f7f1845b6a0>,\n",
       " <matplotlib.lines.Line2D at 0x7f7f1845b760>,\n",
       " <matplotlib.lines.Line2D at 0x7f7f1845b820>]"
      ]
     },
     "execution_count": 1004,
     "metadata": {},
     "output_type": "execute_result"
    },
    {
     "data": {
      "image/png": "[encoded data removed]",
      "text/plain": [
       "<Figure size 432x288 with 1 Axes>"
      ]
     },
     "metadata": {
      "needs_background": "light"
     },
     "output_type": "display_data"
    }
   ],
   "source": [
    "plt.plot(wal_FR, color='blue', marker='o')"
   ]
  },
  {
   "cell_type": "code",
   "execution_count": 1005,
   "id": "faa252e8",
   "metadata": {},
   "outputs": [],
   "source": [
    "wal_features = [1]*15\n",
    "\n",
    "for i in range(15):\n",
    "    wal_features[i] = np.concatenate((wal_parseval[i],wal_skew[i],wal_FD[i],wal_FR[i]))"
   ]
  },
  {
   "cell_type": "code",
   "execution_count": 1006,
   "id": "26f6d371",
   "metadata": {},
   "outputs": [],
   "source": [
    "for i in range(15):\n",
    "    cldn_features[i] = np.nan_to_num(cldn_features[i])\n",
    "\n",
    "for i in range(15):\n",
    "    clup_features[i] = np.nan_to_num(clup_features[i])\n",
    "\n",
    "for i in range(15):\n",
    "    jump_features[i] = np.nan_to_num(jump_features[i])\n",
    "\n",
    "for i in range(15):\n",
    "    ly_features[i] = np.nan_to_num(ly_features[i])\n",
    "\n",
    "for i in range(15):\n",
    "    run_features[i] = np.nan_to_num(run_features[i])\n",
    "\n",
    "for i in range(15):\n",
    "    sit_features[i] = np.nan_to_num(sit_features[i])\n",
    "\n",
    "for i in range(15):\n",
    "    std_features[i] = np.nan_to_num(std_features[i])\n",
    "\n",
    "for i in range(15):\n",
    "    wal_features[i] = np.nan_to_num(wal_features[i])"
   ]
  },
  {
   "cell_type": "code",
   "execution_count": null,
   "id": "5384580b",
   "metadata": {},
   "outputs": [],
   "source": []
  },
  {
   "cell_type": "code",
   "execution_count": 1007,
   "id": "00071f49",
   "metadata": {
    "scrolled": true
   },
   "outputs": [],
   "source": [
    "dataset = np.concatenate((cldn_features, clup_features, jump_features, ly_features, run_features, \n",
    "                          sit_features, std_features, wal_features))\n"
   ]
  },
  {
   "cell_type": "code",
   "execution_count": 1008,
   "id": "1ca9979f",
   "metadata": {},
   "outputs": [],
   "source": [
    "X = pd.DataFrame(dataset)"
   ]
  },
  {
   "cell_type": "code",
   "execution_count": 1009,
   "id": "2402012b",
   "metadata": {},
   "outputs": [],
   "source": [
    "from sklearn.preprocessing import PowerTransformer"
   ]
  },
  {
   "cell_type": "code",
   "execution_count": 1010,
   "id": "1b22f793",
   "metadata": {},
   "outputs": [],
   "source": [
    "X= np.nan_to_num(X)"
   ]
  },
  {
   "cell_type": "code",
   "execution_count": 1011,
   "id": "1f0caa11",
   "metadata": {},
   "outputs": [
    {
     "data": {
      "image/png": "[encoded data removed]",
      "text/plain": [
       "<Figure size 432x288 with 1 Axes>"
      ]
     },
     "metadata": {
      "needs_background": "light"
     },
     "output_type": "display_data"
    }
   ],
   "source": [
    "plt.plot(X, color='red', marker='o')\n",
    "plt.xlabel('samples', fontweight='bold')\n",
    "plt.ylabel('amplitude', fontweight='bold')\n",
    "plt.title('Original Feature Vector',fontweight='bold')\n",
    "plt.grid()"
   ]
  },
  {
   "cell_type": "code",
   "execution_count": 1012,
   "id": "a2f4517c",
   "metadata": {},
   "outputs": [
    {
     "name": "stderr",
     "output_type": "stream",
     "text": [
      "/Users/user/opt/anaconda3/lib/python3.8/site-packages/sklearn/preprocessing/_data.py:3237: RuntimeWarning: Degrees of freedom <= 0 for slice\n",
      "  loglike = -n_samples / 2 * np.log(x_trans.var())\n",
      "/Users/user/opt/anaconda3/lib/python3.8/site-packages/sklearn/preprocessing/_data.py:3237: RuntimeWarning: divide by zero encountered in log\n",
      "  loglike = -n_samples / 2 * np.log(x_trans.var())\n",
      "/Users/user/opt/anaconda3/lib/python3.8/site-packages/sklearn/utils/extmath.py:847: RuntimeWarning: invalid value encountered in true_divide\n",
      "  updated_mean = (last_sum + new_sum) / updated_sample_count\n",
      "/Users/user/opt/anaconda3/lib/python3.8/site-packages/sklearn/utils/extmath.py:689: RuntimeWarning: Degrees of freedom <= 0 for slice.\n",
      "  result = op(x, *args, **kwargs)\n"
     ]
    },
    {
     "data": {
      "image/png": "[encoded data removed]",
      "text/plain": [
       "<Figure size 432x288 with 1 Axes>"
      ]
     },
     "metadata": {
      "needs_background": "light"
     },
     "output_type": "display_data"
    }
   ],
   "source": [
    "power = PowerTransformer(method='yeo-johnson', standardize=True)\n",
    "X= power.fit_transform(X)\n",
    "plt.plot(X, color='red', marker='o')\n",
    "plt.xlabel('samples', fontweight='bold')\n",
    "plt.ylabel('amplitude', fontweight='bold')\n",
    "plt.title('Transformed Feature Vector',fontweight='bold')\n",
    "plt.grid()"
   ]
  },
  {
   "cell_type": "code",
   "execution_count": 1013,
   "id": "ae1f7339",
   "metadata": {},
   "outputs": [],
   "source": [
    "Y1 = ['cldn']*(15)\n",
    "Y2 = ['clup']*(15)\n",
    "Y3 = ['jump']*(15)\n",
    "Y4 = ['ly']*(15)\n",
    "Y5 = ['run']*(15)\n",
    "Y6 = ['sit']*(15)\n",
    "Y7 = ['std']*(15)\n",
    "Y8 = ['wal']*(15)\n",
    "Y = np.concatenate((Y1, Y2, Y3, Y4, Y5, Y6, Y7, Y8))"
   ]
  },
  {
   "cell_type": "code",
   "execution_count": 1014,
   "id": "e42ea7d2",
   "metadata": {},
   "outputs": [],
   "source": [
    "kk=[0]*289\n",
    "oo=0\n",
    "for o in range(1,289):\n",
    "    temp = float(oo/100000)\n",
    "    if temp==0:\n",
    "        temp=1\n",
    "    kk[o] = temp\n",
    "    if o>99 and o<199:\n",
    "        oo = oo+100\n",
    "    if o>199:\n",
    "        oo = oo+1000\n",
    "        if oo>99900:\n",
    "            oo=99900\n",
    "    else:\n",
    "        oo = oo+10"
   ]
  },
  {
   "cell_type": "code",
   "execution_count": 1015,
   "id": "7f8ead57",
   "metadata": {},
   "outputs": [],
   "source": [
    "import warnings\n",
    "warnings.filterwarnings('ignore')\n",
    "from scipy.cluster.vq import vq, kmeans, whiten\n",
    "from sklearn.model_selection import train_test_split\n",
    "from sklearn.neural_network import MLPClassifier"
   ]
  },
  {
   "cell_type": "code",
   "execution_count": 1016,
   "id": "acfa1a44",
   "metadata": {},
   "outputs": [],
   "source": [
    "x_train, x_test, y_train, y_test = train_test_split(X, Y, test_size=0.30, random_state=0)"
   ]
  },
  {
   "cell_type": "code",
   "execution_count": 1018,
   "id": "0b50932c",
   "metadata": {
    "scrolled": true
   },
   "outputs": [
    {
     "ename": "ValueError",
     "evalue": "Input contains NaN, infinity or a value too large for dtype('float64').",
     "output_type": "error",
     "traceback": [
      "\u001b[0;31m---------------------------------------------------------------------------\u001b[0m",
      "\u001b[0;31mValueError\u001b[0m                                Traceback (most recent call last)",
      "\u001b[0;32m<ipython-input-1018-daf1a9f2d42c>\u001b[0m in \u001b[0;36m<module>\u001b[0;34m\u001b[0m\n\u001b[0;32m----> 1\u001b[0;31m \u001b[0mclf\u001b[0m \u001b[0;34m=\u001b[0m \u001b[0mMLPClassifier\u001b[0m\u001b[0;34m(\u001b[0m\u001b[0;34m)\u001b[0m\u001b[0;34m.\u001b[0m\u001b[0mfit\u001b[0m\u001b[0;34m(\u001b[0m\u001b[0mx_train\u001b[0m\u001b[0;34m,\u001b[0m \u001b[0my_train\u001b[0m\u001b[0;34m)\u001b[0m\u001b[0;34m\u001b[0m\u001b[0;34m\u001b[0m\u001b[0m\n\u001b[0m",
      "\u001b[0;32m~/opt/anaconda3/lib/python3.8/site-packages/sklearn/neural_network/_multilayer_perceptron.py\u001b[0m in \u001b[0;36mfit\u001b[0;34m(self, X, y)\u001b[0m\n\u001b[1;32m    671\u001b[0m         \u001b[0mself\u001b[0m \u001b[0;34m:\u001b[0m \u001b[0mreturns\u001b[0m \u001b[0ma\u001b[0m \u001b[0mtrained\u001b[0m \u001b[0mMLP\u001b[0m \u001b[0mmodel\u001b[0m\u001b[0;34m.\u001b[0m\u001b[0;34m\u001b[0m\u001b[0;34m\u001b[0m\u001b[0m\n\u001b[1;32m    672\u001b[0m         \"\"\"\n\u001b[0;32m--> 673\u001b[0;31m         \u001b[0;32mreturn\u001b[0m \u001b[0mself\u001b[0m\u001b[0;34m.\u001b[0m\u001b[0m_fit\u001b[0m\u001b[0;34m(\u001b[0m\u001b[0mX\u001b[0m\u001b[0;34m,\u001b[0m \u001b[0my\u001b[0m\u001b[0;34m,\u001b[0m \u001b[0mincremental\u001b[0m\u001b[0;34m=\u001b[0m\u001b[0;32mFalse\u001b[0m\u001b[0;34m)\u001b[0m\u001b[0;34m\u001b[0m\u001b[0;34m\u001b[0m\u001b[0m\n\u001b[0m\u001b[1;32m    674\u001b[0m \u001b[0;34m\u001b[0m\u001b[0m\n\u001b[1;32m    675\u001b[0m     \u001b[0;34m@\u001b[0m\u001b[0mproperty\u001b[0m\u001b[0;34m\u001b[0m\u001b[0;34m\u001b[0m\u001b[0m\n",
      "\u001b[0;32m~/opt/anaconda3/lib/python3.8/site-packages/sklearn/neural_network/_multilayer_perceptron.py\u001b[0m in \u001b[0;36m_fit\u001b[0;34m(self, X, y, incremental)\u001b[0m\n\u001b[1;32m    362\u001b[0m                       (not self.warm_start and not incremental))\n\u001b[1;32m    363\u001b[0m \u001b[0;34m\u001b[0m\u001b[0m\n\u001b[0;32m--> 364\u001b[0;31m         \u001b[0mX\u001b[0m\u001b[0;34m,\u001b[0m \u001b[0my\u001b[0m \u001b[0;34m=\u001b[0m \u001b[0mself\u001b[0m\u001b[0;34m.\u001b[0m\u001b[0m_validate_input\u001b[0m\u001b[0;34m(\u001b[0m\u001b[0mX\u001b[0m\u001b[0;34m,\u001b[0m \u001b[0my\u001b[0m\u001b[0;34m,\u001b[0m \u001b[0mincremental\u001b[0m\u001b[0;34m,\u001b[0m \u001b[0mreset\u001b[0m\u001b[0;34m=\u001b[0m\u001b[0mfirst_pass\u001b[0m\u001b[0;34m)\u001b[0m\u001b[0;34m\u001b[0m\u001b[0;34m\u001b[0m\u001b[0m\n\u001b[0m\u001b[1;32m    365\u001b[0m \u001b[0;34m\u001b[0m\u001b[0m\n\u001b[1;32m    366\u001b[0m         \u001b[0mn_samples\u001b[0m\u001b[0;34m,\u001b[0m \u001b[0mn_features\u001b[0m \u001b[0;34m=\u001b[0m \u001b[0mX\u001b[0m\u001b[0;34m.\u001b[0m\u001b[0mshape\u001b[0m\u001b[0;34m\u001b[0m\u001b[0;34m\u001b[0m\u001b[0m\n",
      "\u001b[0;32m~/opt/anaconda3/lib/python3.8/site-packages/sklearn/neural_network/_multilayer_perceptron.py\u001b[0m in \u001b[0;36m_validate_input\u001b[0;34m(self, X, y, incremental, reset)\u001b[0m\n\u001b[1;32m    966\u001b[0m \u001b[0;34m\u001b[0m\u001b[0m\n\u001b[1;32m    967\u001b[0m     \u001b[0;32mdef\u001b[0m \u001b[0m_validate_input\u001b[0m\u001b[0;34m(\u001b[0m\u001b[0mself\u001b[0m\u001b[0;34m,\u001b[0m \u001b[0mX\u001b[0m\u001b[0;34m,\u001b[0m \u001b[0my\u001b[0m\u001b[0;34m,\u001b[0m \u001b[0mincremental\u001b[0m\u001b[0;34m,\u001b[0m \u001b[0mreset\u001b[0m\u001b[0;34m)\u001b[0m\u001b[0;34m:\u001b[0m\u001b[0;34m\u001b[0m\u001b[0;34m\u001b[0m\u001b[0m\n\u001b[0;32m--> 968\u001b[0;31m         X, y = self._validate_data(X, y, accept_sparse=['csr', 'csc'],\n\u001b[0m\u001b[1;32m    969\u001b[0m                                    \u001b[0mmulti_output\u001b[0m\u001b[0;34m=\u001b[0m\u001b[0;32mTrue\u001b[0m\u001b[0;34m,\u001b[0m\u001b[0;34m\u001b[0m\u001b[0;34m\u001b[0m\u001b[0m\n\u001b[1;32m    970\u001b[0m                                    \u001b[0mdtype\u001b[0m\u001b[0;34m=\u001b[0m\u001b[0;34m(\u001b[0m\u001b[0mnp\u001b[0m\u001b[0;34m.\u001b[0m\u001b[0mfloat64\u001b[0m\u001b[0;34m,\u001b[0m \u001b[0mnp\u001b[0m\u001b[0;34m.\u001b[0m\u001b[0mfloat32\u001b[0m\u001b[0;34m)\u001b[0m\u001b[0;34m,\u001b[0m\u001b[0;34m\u001b[0m\u001b[0;34m\u001b[0m\u001b[0m\n",
      "\u001b[0;32m~/opt/anaconda3/lib/python3.8/site-packages/sklearn/base.py\u001b[0m in \u001b[0;36m_validate_data\u001b[0;34m(self, X, y, reset, validate_separately, **check_params)\u001b[0m\n\u001b[1;32m    431\u001b[0m                 \u001b[0my\u001b[0m \u001b[0;34m=\u001b[0m \u001b[0mcheck_array\u001b[0m\u001b[0;34m(\u001b[0m\u001b[0my\u001b[0m\u001b[0;34m,\u001b[0m \u001b[0;34m**\u001b[0m\u001b[0mcheck_y_params\u001b[0m\u001b[0;34m)\u001b[0m\u001b[0;34m\u001b[0m\u001b[0;34m\u001b[0m\u001b[0m\n\u001b[1;32m    432\u001b[0m             \u001b[0;32melse\u001b[0m\u001b[0;34m:\u001b[0m\u001b[0;34m\u001b[0m\u001b[0;34m\u001b[0m\u001b[0m\n\u001b[0;32m--> 433\u001b[0;31m                 \u001b[0mX\u001b[0m\u001b[0;34m,\u001b[0m \u001b[0my\u001b[0m \u001b[0;34m=\u001b[0m \u001b[0mcheck_X_y\u001b[0m\u001b[0;34m(\u001b[0m\u001b[0mX\u001b[0m\u001b[0;34m,\u001b[0m \u001b[0my\u001b[0m\u001b[0;34m,\u001b[0m \u001b[0;34m**\u001b[0m\u001b[0mcheck_params\u001b[0m\u001b[0;34m)\u001b[0m\u001b[0;34m\u001b[0m\u001b[0;34m\u001b[0m\u001b[0m\n\u001b[0m\u001b[1;32m    434\u001b[0m             \u001b[0mout\u001b[0m \u001b[0;34m=\u001b[0m \u001b[0mX\u001b[0m\u001b[0;34m,\u001b[0m \u001b[0my\u001b[0m\u001b[0;34m\u001b[0m\u001b[0;34m\u001b[0m\u001b[0m\n\u001b[1;32m    435\u001b[0m \u001b[0;34m\u001b[0m\u001b[0m\n",
      "\u001b[0;32m~/opt/anaconda3/lib/python3.8/site-packages/sklearn/utils/validation.py\u001b[0m in \u001b[0;36minner_f\u001b[0;34m(*args, **kwargs)\u001b[0m\n\u001b[1;32m     61\u001b[0m             \u001b[0mextra_args\u001b[0m \u001b[0;34m=\u001b[0m \u001b[0mlen\u001b[0m\u001b[0;34m(\u001b[0m\u001b[0margs\u001b[0m\u001b[0;34m)\u001b[0m \u001b[0;34m-\u001b[0m \u001b[0mlen\u001b[0m\u001b[0;34m(\u001b[0m\u001b[0mall_args\u001b[0m\u001b[0;34m)\u001b[0m\u001b[0;34m\u001b[0m\u001b[0;34m\u001b[0m\u001b[0m\n\u001b[1;32m     62\u001b[0m             \u001b[0;32mif\u001b[0m \u001b[0mextra_args\u001b[0m \u001b[0;34m<=\u001b[0m \u001b[0;36m0\u001b[0m\u001b[0;34m:\u001b[0m\u001b[0;34m\u001b[0m\u001b[0;34m\u001b[0m\u001b[0m\n\u001b[0;32m---> 63\u001b[0;31m                 \u001b[0;32mreturn\u001b[0m \u001b[0mf\u001b[0m\u001b[0;34m(\u001b[0m\u001b[0;34m*\u001b[0m\u001b[0margs\u001b[0m\u001b[0;34m,\u001b[0m \u001b[0;34m**\u001b[0m\u001b[0mkwargs\u001b[0m\u001b[0;34m)\u001b[0m\u001b[0;34m\u001b[0m\u001b[0;34m\u001b[0m\u001b[0m\n\u001b[0m\u001b[1;32m     64\u001b[0m \u001b[0;34m\u001b[0m\u001b[0m\n\u001b[1;32m     65\u001b[0m             \u001b[0;31m# extra_args > 0\u001b[0m\u001b[0;34m\u001b[0m\u001b[0;34m\u001b[0m\u001b[0;34m\u001b[0m\u001b[0m\n",
      "\u001b[0;32m~/opt/anaconda3/lib/python3.8/site-packages/sklearn/utils/validation.py\u001b[0m in \u001b[0;36mcheck_X_y\u001b[0;34m(X, y, accept_sparse, accept_large_sparse, dtype, order, copy, force_all_finite, ensure_2d, allow_nd, multi_output, ensure_min_samples, ensure_min_features, y_numeric, estimator)\u001b[0m\n\u001b[1;32m    812\u001b[0m         \u001b[0;32mraise\u001b[0m \u001b[0mValueError\u001b[0m\u001b[0;34m(\u001b[0m\u001b[0;34m\"y cannot be None\"\u001b[0m\u001b[0;34m)\u001b[0m\u001b[0;34m\u001b[0m\u001b[0;34m\u001b[0m\u001b[0m\n\u001b[1;32m    813\u001b[0m \u001b[0;34m\u001b[0m\u001b[0m\n\u001b[0;32m--> 814\u001b[0;31m     X = check_array(X, accept_sparse=accept_sparse,\n\u001b[0m\u001b[1;32m    815\u001b[0m                     \u001b[0maccept_large_sparse\u001b[0m\u001b[0;34m=\u001b[0m\u001b[0maccept_large_sparse\u001b[0m\u001b[0;34m,\u001b[0m\u001b[0;34m\u001b[0m\u001b[0;34m\u001b[0m\u001b[0m\n\u001b[1;32m    816\u001b[0m                     \u001b[0mdtype\u001b[0m\u001b[0;34m=\u001b[0m\u001b[0mdtype\u001b[0m\u001b[0;34m,\u001b[0m \u001b[0morder\u001b[0m\u001b[0;34m=\u001b[0m\u001b[0morder\u001b[0m\u001b[0;34m,\u001b[0m \u001b[0mcopy\u001b[0m\u001b[0;34m=\u001b[0m\u001b[0mcopy\u001b[0m\u001b[0;34m,\u001b[0m\u001b[0;34m\u001b[0m\u001b[0;34m\u001b[0m\u001b[0m\n",
      "\u001b[0;32m~/opt/anaconda3/lib/python3.8/site-packages/sklearn/utils/validation.py\u001b[0m in \u001b[0;36minner_f\u001b[0;34m(*args, **kwargs)\u001b[0m\n\u001b[1;32m     61\u001b[0m             \u001b[0mextra_args\u001b[0m \u001b[0;34m=\u001b[0m \u001b[0mlen\u001b[0m\u001b[0;34m(\u001b[0m\u001b[0margs\u001b[0m\u001b[0;34m)\u001b[0m \u001b[0;34m-\u001b[0m \u001b[0mlen\u001b[0m\u001b[0;34m(\u001b[0m\u001b[0mall_args\u001b[0m\u001b[0;34m)\u001b[0m\u001b[0;34m\u001b[0m\u001b[0;34m\u001b[0m\u001b[0m\n\u001b[1;32m     62\u001b[0m             \u001b[0;32mif\u001b[0m \u001b[0mextra_args\u001b[0m \u001b[0;34m<=\u001b[0m \u001b[0;36m0\u001b[0m\u001b[0;34m:\u001b[0m\u001b[0;34m\u001b[0m\u001b[0;34m\u001b[0m\u001b[0m\n\u001b[0;32m---> 63\u001b[0;31m                 \u001b[0;32mreturn\u001b[0m \u001b[0mf\u001b[0m\u001b[0;34m(\u001b[0m\u001b[0;34m*\u001b[0m\u001b[0margs\u001b[0m\u001b[0;34m,\u001b[0m \u001b[0;34m**\u001b[0m\u001b[0mkwargs\u001b[0m\u001b[0;34m)\u001b[0m\u001b[0;34m\u001b[0m\u001b[0;34m\u001b[0m\u001b[0m\n\u001b[0m\u001b[1;32m     64\u001b[0m \u001b[0;34m\u001b[0m\u001b[0m\n\u001b[1;32m     65\u001b[0m             \u001b[0;31m# extra_args > 0\u001b[0m\u001b[0;34m\u001b[0m\u001b[0;34m\u001b[0m\u001b[0;34m\u001b[0m\u001b[0m\n",
      "\u001b[0;32m~/opt/anaconda3/lib/python3.8/site-packages/sklearn/utils/validation.py\u001b[0m in \u001b[0;36mcheck_array\u001b[0;34m(array, accept_sparse, accept_large_sparse, dtype, order, copy, force_all_finite, ensure_2d, allow_nd, ensure_min_samples, ensure_min_features, estimator)\u001b[0m\n\u001b[1;32m    661\u001b[0m \u001b[0;34m\u001b[0m\u001b[0m\n\u001b[1;32m    662\u001b[0m         \u001b[0;32mif\u001b[0m \u001b[0mforce_all_finite\u001b[0m\u001b[0;34m:\u001b[0m\u001b[0;34m\u001b[0m\u001b[0;34m\u001b[0m\u001b[0m\n\u001b[0;32m--> 663\u001b[0;31m             _assert_all_finite(array,\n\u001b[0m\u001b[1;32m    664\u001b[0m                                allow_nan=force_all_finite == 'allow-nan')\n\u001b[1;32m    665\u001b[0m \u001b[0;34m\u001b[0m\u001b[0m\n",
      "\u001b[0;32m~/opt/anaconda3/lib/python3.8/site-packages/sklearn/utils/validation.py\u001b[0m in \u001b[0;36m_assert_all_finite\u001b[0;34m(X, allow_nan, msg_dtype)\u001b[0m\n\u001b[1;32m    101\u001b[0m                 not allow_nan and not np.isfinite(X).all()):\n\u001b[1;32m    102\u001b[0m             \u001b[0mtype_err\u001b[0m \u001b[0;34m=\u001b[0m \u001b[0;34m'infinity'\u001b[0m \u001b[0;32mif\u001b[0m \u001b[0mallow_nan\u001b[0m \u001b[0;32melse\u001b[0m \u001b[0;34m'NaN, infinity'\u001b[0m\u001b[0;34m\u001b[0m\u001b[0;34m\u001b[0m\u001b[0m\n\u001b[0;32m--> 103\u001b[0;31m             raise ValueError(\n\u001b[0m\u001b[1;32m    104\u001b[0m                     \u001b[0mmsg_err\u001b[0m\u001b[0;34m.\u001b[0m\u001b[0mformat\u001b[0m\u001b[0;34m\u001b[0m\u001b[0;34m\u001b[0m\u001b[0m\n\u001b[1;32m    105\u001b[0m                     (type_err,\n",
      "\u001b[0;31mValueError\u001b[0m: Input contains NaN, infinity or a value too large for dtype('float64')."
     ]
    }
   ],
   "source": [
    "clf = MLPClassifier().fit(x_train, y_train)\n"
   ]
  },
  {
   "cell_type": "code",
   "execution_count": null,
   "id": "4ed18bbd",
   "metadata": {},
   "outputs": [],
   "source": [
    "pred = clf.predict(x_test)"
   ]
  },
  {
   "cell_type": "code",
   "execution_count": null,
   "id": "790e3da4",
   "metadata": {},
   "outputs": [],
   "source": [
    "pred_prob = clf.predict_proba(x_test)"
   ]
  },
  {
   "cell_type": "code",
   "execution_count": null,
   "id": "0bd4a98d",
   "metadata": {},
   "outputs": [],
   "source": [
    "from sklearn.metrics import accuracy_score\n",
    "from sklearn.metrics import classification_report"
   ]
  },
  {
   "cell_type": "code",
   "execution_count": null,
   "id": "5e4dbee4",
   "metadata": {},
   "outputs": [],
   "source": [
    "from sklearn.metrics import classification_report, confusion_matrix\n",
    "from sklearn.metrics import roc_curve\n",
    "from sklearn.metrics import roc_auc_score\n"
   ]
  },
  {
   "cell_type": "code",
   "execution_count": null,
   "id": "1875a7f2",
   "metadata": {},
   "outputs": [],
   "source": [
    "# roc curve for classes\n",
    "fpr = {}\n",
    "tpr = {}\n",
    "thresh ={}\n",
    "n_class = 8\n",
    "for i in range(n_class):    \n",
    "    fpr[i], tpr[i], thresh[i] = roc_curve(y_test, pred_prob[:,i])\n",
    "# plotting    \n",
    "plt.plot(fpr[0], tpr[0], linestyle='--',color='orange', label='Class 0 vs Rest')\n",
    "plt.plot(fpr[1], tpr[1], linestyle='--',color='green', label='Class 1 vs Rest')\n",
    "plt.plot(fpr[2], tpr[2], linestyle='--',color='blue', label='Class 2 vs Rest')\n",
    "plt.title('Multiclass ROC curve')\n",
    "plt.xlabel('False Positive Rate')\n",
    "plt.ylabel('True Positive rate')\n",
    "plt.legend(loc='best')\n",
    "plt.savefig('Multiclass ROC',dpi=300);"
   ]
  },
  {
   "cell_type": "code",
   "execution_count": null,
   "id": "e2cd7891",
   "metadata": {
    "scrolled": true
   },
   "outputs": [],
   "source": [
    "\n",
    "labels = ['Climbing down', 'Climbing up', 'Sitting', 'Standing', 'Running', 'Walking', 'lying','Jumping']\n",
    "confusion_matrix = confusion_matrix(y_test, y_pred)\n",
    "sns.heatmap(confusion_matrix, xticklabels=labels, yticklabels=labels, annot=True,linewidths = 0.1, fmt='d', cmap = 'YlGnBu')\n",
    "plt.title('Confusion matrix', fontsize = 15)\n",
    "plt.ylabel('True label')\n",
    "plt.xlabel('Predicted label')\n"
   ]
  },
  {
   "cell_type": "code",
   "execution_count": null,
   "id": "0d477249",
   "metadata": {
    "scrolled": false
   },
   "outputs": [],
   "source": [
    "new_array = []\n",
    "for i in confusion_matrix:\n",
    "    new_list = []\n",
    "    for j in i:\n",
    "        new_list.append(j/np.sum(i))\n",
    "    new_array.append(new_list)\n",
    "\n",
    "#print(new_array)\n",
    "#print(np.array(new_array).reshape(6, 6))\n",
    "recall_matrix = np.array(new_array)"
   ]
  },
  {
   "cell_type": "code",
   "execution_count": null,
   "id": "1a7c1648",
   "metadata": {},
   "outputs": [],
   "source": [
    "plt.figure(figsize=(9, 6))\n",
    "sns.heatmap(recall_matrix, xticklabels=LABELS, yticklabels=LABELS, \n",
    "            linewidths = 0.1, annot = True, cmap ='Oranges')\n",
    "plt.title('Normalized Confusion Matrix', fontsize = 15, fontweight='bold')\n",
    "plt.ylabel('True label', fontweight='bold')\n",
    "plt.xlabel('Predicted label',fontweight='bold')\n",
    "plt.show()"
   ]
  },
  {
   "cell_type": "code",
   "execution_count": null,
   "id": "d1b05c18",
   "metadata": {},
   "outputs": [],
   "source": []
  },
  {
   "cell_type": "code",
   "execution_count": 1019,
   "id": "981385de",
   "metadata": {},
   "outputs": [],
   "source": [
    "from sklearn.ensemble import AdaBoostClassifier\n",
    "from sklearn import metrics"
   ]
  },
  {
   "cell_type": "code",
   "execution_count": 1020,
   "id": "5de3f66f",
   "metadata": {},
   "outputs": [
    {
     "ename": "ValueError",
     "evalue": "Input contains NaN, infinity or a value too large for dtype('float64').",
     "output_type": "error",
     "traceback": [
      "\u001b[0;31m---------------------------------------------------------------------------\u001b[0m",
      "\u001b[0;31mValueError\u001b[0m                                Traceback (most recent call last)",
      "\u001b[0;32m<ipython-input-1020-6024345db4f0>\u001b[0m in \u001b[0;36m<module>\u001b[0;34m\u001b[0m\n\u001b[1;32m      2\u001b[0m                          learning_rate=1)\n\u001b[1;32m      3\u001b[0m \u001b[0;31m# Train Adaboost Classifer\u001b[0m\u001b[0;34m\u001b[0m\u001b[0;34m\u001b[0m\u001b[0;34m\u001b[0m\u001b[0m\n\u001b[0;32m----> 4\u001b[0;31m \u001b[0mmodel\u001b[0m \u001b[0;34m=\u001b[0m \u001b[0mabc\u001b[0m\u001b[0;34m.\u001b[0m\u001b[0mfit\u001b[0m\u001b[0;34m(\u001b[0m\u001b[0mx_train\u001b[0m\u001b[0;34m,\u001b[0m \u001b[0my_train\u001b[0m\u001b[0;34m)\u001b[0m\u001b[0;34m\u001b[0m\u001b[0;34m\u001b[0m\u001b[0m\n\u001b[0m\u001b[1;32m      5\u001b[0m \u001b[0;34m\u001b[0m\u001b[0m\n\u001b[1;32m      6\u001b[0m \u001b[0;31m#Predict the response for test dataset\u001b[0m\u001b[0;34m\u001b[0m\u001b[0;34m\u001b[0m\u001b[0;34m\u001b[0m\u001b[0m\n",
      "\u001b[0;32m~/opt/anaconda3/lib/python3.8/site-packages/sklearn/ensemble/_weight_boosting.py\u001b[0m in \u001b[0;36mfit\u001b[0;34m(self, X, y, sample_weight)\u001b[0m\n\u001b[1;32m    441\u001b[0m \u001b[0;34m\u001b[0m\u001b[0m\n\u001b[1;32m    442\u001b[0m         \u001b[0;31m# Fit\u001b[0m\u001b[0;34m\u001b[0m\u001b[0;34m\u001b[0m\u001b[0;34m\u001b[0m\u001b[0m\n\u001b[0;32m--> 443\u001b[0;31m         \u001b[0;32mreturn\u001b[0m \u001b[0msuper\u001b[0m\u001b[0;34m(\u001b[0m\u001b[0;34m)\u001b[0m\u001b[0;34m.\u001b[0m\u001b[0mfit\u001b[0m\u001b[0;34m(\u001b[0m\u001b[0mX\u001b[0m\u001b[0;34m,\u001b[0m \u001b[0my\u001b[0m\u001b[0;34m,\u001b[0m \u001b[0msample_weight\u001b[0m\u001b[0;34m)\u001b[0m\u001b[0;34m\u001b[0m\u001b[0;34m\u001b[0m\u001b[0m\n\u001b[0m\u001b[1;32m    444\u001b[0m \u001b[0;34m\u001b[0m\u001b[0m\n\u001b[1;32m    445\u001b[0m     \u001b[0;32mdef\u001b[0m \u001b[0m_validate_estimator\u001b[0m\u001b[0;34m(\u001b[0m\u001b[0mself\u001b[0m\u001b[0;34m)\u001b[0m\u001b[0;34m:\u001b[0m\u001b[0;34m\u001b[0m\u001b[0;34m\u001b[0m\u001b[0m\n",
      "\u001b[0;32m~/opt/anaconda3/lib/python3.8/site-packages/sklearn/ensemble/_weight_boosting.py\u001b[0m in \u001b[0;36mfit\u001b[0;34m(self, X, y, sample_weight)\u001b[0m\n\u001b[1;32m    102\u001b[0m             \u001b[0;32mraise\u001b[0m \u001b[0mValueError\u001b[0m\u001b[0;34m(\u001b[0m\u001b[0;34m\"learning_rate must be greater than zero\"\u001b[0m\u001b[0;34m)\u001b[0m\u001b[0;34m\u001b[0m\u001b[0;34m\u001b[0m\u001b[0m\n\u001b[1;32m    103\u001b[0m \u001b[0;34m\u001b[0m\u001b[0m\n\u001b[0;32m--> 104\u001b[0;31m         X, y = self._validate_data(X, y,\n\u001b[0m\u001b[1;32m    105\u001b[0m                                    \u001b[0maccept_sparse\u001b[0m\u001b[0;34m=\u001b[0m\u001b[0;34m[\u001b[0m\u001b[0;34m'csr'\u001b[0m\u001b[0;34m,\u001b[0m \u001b[0;34m'csc'\u001b[0m\u001b[0;34m]\u001b[0m\u001b[0;34m,\u001b[0m\u001b[0;34m\u001b[0m\u001b[0;34m\u001b[0m\u001b[0m\n\u001b[1;32m    106\u001b[0m                                    \u001b[0mensure_2d\u001b[0m\u001b[0;34m=\u001b[0m\u001b[0;32mTrue\u001b[0m\u001b[0;34m,\u001b[0m\u001b[0;34m\u001b[0m\u001b[0;34m\u001b[0m\u001b[0m\n",
      "\u001b[0;32m~/opt/anaconda3/lib/python3.8/site-packages/sklearn/base.py\u001b[0m in \u001b[0;36m_validate_data\u001b[0;34m(self, X, y, reset, validate_separately, **check_params)\u001b[0m\n\u001b[1;32m    431\u001b[0m                 \u001b[0my\u001b[0m \u001b[0;34m=\u001b[0m \u001b[0mcheck_array\u001b[0m\u001b[0;34m(\u001b[0m\u001b[0my\u001b[0m\u001b[0;34m,\u001b[0m \u001b[0;34m**\u001b[0m\u001b[0mcheck_y_params\u001b[0m\u001b[0;34m)\u001b[0m\u001b[0;34m\u001b[0m\u001b[0;34m\u001b[0m\u001b[0m\n\u001b[1;32m    432\u001b[0m             \u001b[0;32melse\u001b[0m\u001b[0;34m:\u001b[0m\u001b[0;34m\u001b[0m\u001b[0;34m\u001b[0m\u001b[0m\n\u001b[0;32m--> 433\u001b[0;31m                 \u001b[0mX\u001b[0m\u001b[0;34m,\u001b[0m \u001b[0my\u001b[0m \u001b[0;34m=\u001b[0m \u001b[0mcheck_X_y\u001b[0m\u001b[0;34m(\u001b[0m\u001b[0mX\u001b[0m\u001b[0;34m,\u001b[0m \u001b[0my\u001b[0m\u001b[0;34m,\u001b[0m \u001b[0;34m**\u001b[0m\u001b[0mcheck_params\u001b[0m\u001b[0;34m)\u001b[0m\u001b[0;34m\u001b[0m\u001b[0;34m\u001b[0m\u001b[0m\n\u001b[0m\u001b[1;32m    434\u001b[0m             \u001b[0mout\u001b[0m \u001b[0;34m=\u001b[0m \u001b[0mX\u001b[0m\u001b[0;34m,\u001b[0m \u001b[0my\u001b[0m\u001b[0;34m\u001b[0m\u001b[0;34m\u001b[0m\u001b[0m\n\u001b[1;32m    435\u001b[0m \u001b[0;34m\u001b[0m\u001b[0m\n",
      "\u001b[0;32m~/opt/anaconda3/lib/python3.8/site-packages/sklearn/utils/validation.py\u001b[0m in \u001b[0;36minner_f\u001b[0;34m(*args, **kwargs)\u001b[0m\n\u001b[1;32m     61\u001b[0m             \u001b[0mextra_args\u001b[0m \u001b[0;34m=\u001b[0m \u001b[0mlen\u001b[0m\u001b[0;34m(\u001b[0m\u001b[0margs\u001b[0m\u001b[0;34m)\u001b[0m \u001b[0;34m-\u001b[0m \u001b[0mlen\u001b[0m\u001b[0;34m(\u001b[0m\u001b[0mall_args\u001b[0m\u001b[0;34m)\u001b[0m\u001b[0;34m\u001b[0m\u001b[0;34m\u001b[0m\u001b[0m\n\u001b[1;32m     62\u001b[0m             \u001b[0;32mif\u001b[0m \u001b[0mextra_args\u001b[0m \u001b[0;34m<=\u001b[0m \u001b[0;36m0\u001b[0m\u001b[0;34m:\u001b[0m\u001b[0;34m\u001b[0m\u001b[0;34m\u001b[0m\u001b[0m\n\u001b[0;32m---> 63\u001b[0;31m                 \u001b[0;32mreturn\u001b[0m \u001b[0mf\u001b[0m\u001b[0;34m(\u001b[0m\u001b[0;34m*\u001b[0m\u001b[0margs\u001b[0m\u001b[0;34m,\u001b[0m \u001b[0;34m**\u001b[0m\u001b[0mkwargs\u001b[0m\u001b[0;34m)\u001b[0m\u001b[0;34m\u001b[0m\u001b[0;34m\u001b[0m\u001b[0m\n\u001b[0m\u001b[1;32m     64\u001b[0m \u001b[0;34m\u001b[0m\u001b[0m\n\u001b[1;32m     65\u001b[0m             \u001b[0;31m# extra_args > 0\u001b[0m\u001b[0;34m\u001b[0m\u001b[0;34m\u001b[0m\u001b[0;34m\u001b[0m\u001b[0m\n",
      "\u001b[0;32m~/opt/anaconda3/lib/python3.8/site-packages/sklearn/utils/validation.py\u001b[0m in \u001b[0;36mcheck_X_y\u001b[0;34m(X, y, accept_sparse, accept_large_sparse, dtype, order, copy, force_all_finite, ensure_2d, allow_nd, multi_output, ensure_min_samples, ensure_min_features, y_numeric, estimator)\u001b[0m\n\u001b[1;32m    812\u001b[0m         \u001b[0;32mraise\u001b[0m \u001b[0mValueError\u001b[0m\u001b[0;34m(\u001b[0m\u001b[0;34m\"y cannot be None\"\u001b[0m\u001b[0;34m)\u001b[0m\u001b[0;34m\u001b[0m\u001b[0;34m\u001b[0m\u001b[0m\n\u001b[1;32m    813\u001b[0m \u001b[0;34m\u001b[0m\u001b[0m\n\u001b[0;32m--> 814\u001b[0;31m     X = check_array(X, accept_sparse=accept_sparse,\n\u001b[0m\u001b[1;32m    815\u001b[0m                     \u001b[0maccept_large_sparse\u001b[0m\u001b[0;34m=\u001b[0m\u001b[0maccept_large_sparse\u001b[0m\u001b[0;34m,\u001b[0m\u001b[0;34m\u001b[0m\u001b[0;34m\u001b[0m\u001b[0m\n\u001b[1;32m    816\u001b[0m                     \u001b[0mdtype\u001b[0m\u001b[0;34m=\u001b[0m\u001b[0mdtype\u001b[0m\u001b[0;34m,\u001b[0m \u001b[0morder\u001b[0m\u001b[0;34m=\u001b[0m\u001b[0morder\u001b[0m\u001b[0;34m,\u001b[0m \u001b[0mcopy\u001b[0m\u001b[0;34m=\u001b[0m\u001b[0mcopy\u001b[0m\u001b[0;34m,\u001b[0m\u001b[0;34m\u001b[0m\u001b[0;34m\u001b[0m\u001b[0m\n",
      "\u001b[0;32m~/opt/anaconda3/lib/python3.8/site-packages/sklearn/utils/validation.py\u001b[0m in \u001b[0;36minner_f\u001b[0;34m(*args, **kwargs)\u001b[0m\n\u001b[1;32m     61\u001b[0m             \u001b[0mextra_args\u001b[0m \u001b[0;34m=\u001b[0m \u001b[0mlen\u001b[0m\u001b[0;34m(\u001b[0m\u001b[0margs\u001b[0m\u001b[0;34m)\u001b[0m \u001b[0;34m-\u001b[0m \u001b[0mlen\u001b[0m\u001b[0;34m(\u001b[0m\u001b[0mall_args\u001b[0m\u001b[0;34m)\u001b[0m\u001b[0;34m\u001b[0m\u001b[0;34m\u001b[0m\u001b[0m\n\u001b[1;32m     62\u001b[0m             \u001b[0;32mif\u001b[0m \u001b[0mextra_args\u001b[0m \u001b[0;34m<=\u001b[0m \u001b[0;36m0\u001b[0m\u001b[0;34m:\u001b[0m\u001b[0;34m\u001b[0m\u001b[0;34m\u001b[0m\u001b[0m\n\u001b[0;32m---> 63\u001b[0;31m                 \u001b[0;32mreturn\u001b[0m \u001b[0mf\u001b[0m\u001b[0;34m(\u001b[0m\u001b[0;34m*\u001b[0m\u001b[0margs\u001b[0m\u001b[0;34m,\u001b[0m \u001b[0;34m**\u001b[0m\u001b[0mkwargs\u001b[0m\u001b[0;34m)\u001b[0m\u001b[0;34m\u001b[0m\u001b[0;34m\u001b[0m\u001b[0m\n\u001b[0m\u001b[1;32m     64\u001b[0m \u001b[0;34m\u001b[0m\u001b[0m\n\u001b[1;32m     65\u001b[0m             \u001b[0;31m# extra_args > 0\u001b[0m\u001b[0;34m\u001b[0m\u001b[0;34m\u001b[0m\u001b[0;34m\u001b[0m\u001b[0m\n",
      "\u001b[0;32m~/opt/anaconda3/lib/python3.8/site-packages/sklearn/utils/validation.py\u001b[0m in \u001b[0;36mcheck_array\u001b[0;34m(array, accept_sparse, accept_large_sparse, dtype, order, copy, force_all_finite, ensure_2d, allow_nd, ensure_min_samples, ensure_min_features, estimator)\u001b[0m\n\u001b[1;32m    661\u001b[0m \u001b[0;34m\u001b[0m\u001b[0m\n\u001b[1;32m    662\u001b[0m         \u001b[0;32mif\u001b[0m \u001b[0mforce_all_finite\u001b[0m\u001b[0;34m:\u001b[0m\u001b[0;34m\u001b[0m\u001b[0;34m\u001b[0m\u001b[0m\n\u001b[0;32m--> 663\u001b[0;31m             _assert_all_finite(array,\n\u001b[0m\u001b[1;32m    664\u001b[0m                                allow_nan=force_all_finite == 'allow-nan')\n\u001b[1;32m    665\u001b[0m \u001b[0;34m\u001b[0m\u001b[0m\n",
      "\u001b[0;32m~/opt/anaconda3/lib/python3.8/site-packages/sklearn/utils/validation.py\u001b[0m in \u001b[0;36m_assert_all_finite\u001b[0;34m(X, allow_nan, msg_dtype)\u001b[0m\n\u001b[1;32m    101\u001b[0m                 not allow_nan and not np.isfinite(X).all()):\n\u001b[1;32m    102\u001b[0m             \u001b[0mtype_err\u001b[0m \u001b[0;34m=\u001b[0m \u001b[0;34m'infinity'\u001b[0m \u001b[0;32mif\u001b[0m \u001b[0mallow_nan\u001b[0m \u001b[0;32melse\u001b[0m \u001b[0;34m'NaN, infinity'\u001b[0m\u001b[0;34m\u001b[0m\u001b[0;34m\u001b[0m\u001b[0m\n\u001b[0;32m--> 103\u001b[0;31m             raise ValueError(\n\u001b[0m\u001b[1;32m    104\u001b[0m                     \u001b[0mmsg_err\u001b[0m\u001b[0;34m.\u001b[0m\u001b[0mformat\u001b[0m\u001b[0;34m\u001b[0m\u001b[0;34m\u001b[0m\u001b[0m\n\u001b[1;32m    105\u001b[0m                     (type_err,\n",
      "\u001b[0;31mValueError\u001b[0m: Input contains NaN, infinity or a value too large for dtype('float64')."
     ]
    }
   ],
   "source": [
    "abc = AdaBoostClassifier(n_estimators=50,\n",
    "                         learning_rate=1)\n",
    "# Train Adaboost Classifer\n",
    "model = abc.fit(x_train, y_train)\n",
    "\n",
    "#Predict the response for test dataset\n",
    "y_pred = model.predict(x_test)"
   ]
  },
  {
   "cell_type": "code",
   "execution_count": null,
   "id": "911d9b1a",
   "metadata": {},
   "outputs": [],
   "source": [
    "print(\"Accuracy:\",metrics.accuracy_score(y_test, y_pred))"
   ]
  },
  {
   "cell_type": "code",
   "execution_count": null,
   "id": "590a1c81",
   "metadata": {
    "scrolled": true
   },
   "outputs": [],
   "source": [
    "\n",
    "y_pred = model.predict(x_test)\n",
    "print(\"Accuracy:\", accuracy_score(y_test, y_pred))\n",
    "print(\"\\n -------------Classification Report-------------\\n\")\n",
    "print(classification_report(y_test, y_pred))\n"
   ]
  },
  {
   "cell_type": "code",
   "execution_count": null,
   "id": "298e4c8f",
   "metadata": {},
   "outputs": [],
   "source": [
    "from sklearn.neighbors import KNeighborsClassifier"
   ]
  },
  {
   "cell_type": "code",
   "execution_count": null,
   "id": "5897e3b5",
   "metadata": {},
   "outputs": [],
   "source": [
    "knn = KNeighborsClassifier(n_neighbors=5)\n",
    "\n",
    "#Train the model using the training sets\n",
    "knn.fit(x_train, y_train)\n",
    "\n",
    "#Predict the response for test dataset\n",
    "y_pred = knn.predict(x_test)"
   ]
  },
  {
   "cell_type": "code",
   "execution_count": null,
   "id": "653522d5",
   "metadata": {},
   "outputs": [],
   "source": [
    "print(\"Accuracy:\",metrics.accuracy_score(y_test, y_pred))"
   ]
  },
  {
   "cell_type": "code",
   "execution_count": null,
   "id": "d5aee0ed",
   "metadata": {},
   "outputs": [],
   "source": [
    "\n",
    "y_pred = knn.predict(x_test)\n",
    "print(\"Accuracy:\", accuracy_score(y_test, y_pred))\n",
    "print(\"\\n -------------Classification Report-------------\\n\")\n",
    "print(classification_report(y_test, y_pred))\n"
   ]
  },
  {
   "cell_type": "code",
   "execution_count": null,
   "id": "86c9d253",
   "metadata": {},
   "outputs": [],
   "source": [
    "from sklearn.metrics import classification_report, confusion_matrix"
   ]
  },
  {
   "cell_type": "code",
   "execution_count": null,
   "id": "c5cb06e6",
   "metadata": {},
   "outputs": [],
   "source": [
    "labels = ['Climbing down', 'Climbing up', 'Sitting', 'Standing', 'Running', 'Walking', 'lying','Jumping']\n",
    "confusion_matrix1 = confusion_matrix(y_test, y_pred)\n",
    "sns.heatmap(confusion_matrix1, xticklabels=labels, yticklabels=labels, annot=True,linewidths = 0.1, fmt='d', cmap = 'YlGnBu')\n",
    "plt.title('Confusion matrix', fontsize = 15)\n",
    "plt.ylabel('True label')\n",
    "plt.xlabel('Predicted label')\n",
    "plt.show()"
   ]
  },
  {
   "cell_type": "code",
   "execution_count": null,
   "id": "7bfdf216",
   "metadata": {},
   "outputs": [],
   "source": [
    "new_array = []\n",
    "for i in confusion_matrix1:\n",
    "    new_list = []\n",
    "    for j in i:\n",
    "        new_list.append(j/np.sum(i))\n",
    "    new_array.append(new_list)\n",
    "\n",
    "#print(new_array)\n",
    "#print(np.array(new_array).reshape(6, 6))\n",
    "recall_matrix1 = np.array(new_array)"
   ]
  },
  {
   "cell_type": "code",
   "execution_count": null,
   "id": "437bc496",
   "metadata": {},
   "outputs": [],
   "source": [
    "plt.figure(figsize=(9, 6))\n",
    "sns.heatmap(recall_matrix1, xticklabels=LABELS, yticklabels=LABELS, \n",
    "            linewidths = 0.1, annot = True, cmap ='BuPu')\n",
    "plt.title('Normalized Confusion Matrix KNN', fontsize = 15, fontweight='bold')\n",
    "plt.ylabel('True label', fontweight='bold')\n",
    "plt.xlabel('Predicted label',fontweight='bold')\n",
    "plt.show()"
   ]
  },
  {
   "cell_type": "code",
   "execution_count": null,
   "id": "ff31047a",
   "metadata": {},
   "outputs": [],
   "source": [
    "from sklearn.preprocessing import StandardScaler\n",
    "from sklearn.linear_model import LogisticRegression"
   ]
  },
  {
   "cell_type": "code",
   "execution_count": null,
   "id": "8ee9eba9",
   "metadata": {},
   "outputs": [],
   "source": [
    "# standardization\n",
    "scaler = StandardScaler()\n",
    "scaler.fit(x_train)\n",
    "X_train_data_lr = scaler.transform(x_train)\n",
    "X_test_data_lr = scaler.transform(x_test)\n"
   ]
  },
  {
   "cell_type": "code",
   "execution_count": null,
   "id": "cfda71d5",
   "metadata": {
    "scrolled": true
   },
   "outputs": [],
   "source": [
    "# logistic regression model\n",
    "lr = LogisticRegression(random_state = 21)\n",
    "lr.fit(X_train_data_lr, y_train)\n",
    "y_pred = lr.predict(X_test_data_lr)\n",
    "print(\"Accuracy:\", accuracy_score(y_test, y_pred))\n",
    "print(\"\\n -------------Classification Report-------------\\n\")\n",
    "print(classification_report(y_test, y_pred))"
   ]
  },
  {
   "cell_type": "code",
   "execution_count": null,
   "id": "2b2df3a6",
   "metadata": {
    "scrolled": true
   },
   "outputs": [],
   "source": [
    "from sklearn.metrics import classification_report, confusion_matrix"
   ]
  },
  {
   "cell_type": "code",
   "execution_count": null,
   "id": "30bfc16d",
   "metadata": {},
   "outputs": [],
   "source": [
    "labels = ['Climbing down', 'Climbing up', 'Sitting', 'Standing', 'Running', 'Walking', 'lying','Jumping']\n",
    "confusion_matrix2 = confusion_matrix(y_test, y_pred)\n",
    "sns.heatmap(confusion_matrix2, xticklabels=labels, yticklabels=labels, annot=True,linewidths = 0.1, fmt='d', cmap = 'YlGnBu')\n",
    "plt.title('Confusion matrix', fontsize = 15)\n",
    "plt.ylabel('True label')\n",
    "plt.xlabel('Predicted label')\n",
    "plt.show()"
   ]
  },
  {
   "cell_type": "code",
   "execution_count": null,
   "id": "1ade5148",
   "metadata": {},
   "outputs": [],
   "source": [
    "new_array = []\n",
    "for i in confusion_matrix2:\n",
    "    new_list = []\n",
    "    for j in i:\n",
    "        new_list.append(j/np.sum(i))\n",
    "    new_array.append(new_list)\n",
    "\n",
    "#print(new_array)\n",
    "#print(np.array(new_array).reshape(6, 6))\n",
    "recall_matrix2 = np.array(new_array)"
   ]
  },
  {
   "cell_type": "code",
   "execution_count": null,
   "id": "869bdb18",
   "metadata": {},
   "outputs": [],
   "source": [
    "plt.figure(figsize=(9, 6))\n",
    "sns.heatmap(recall_matrix2, xticklabels=LABELS, yticklabels=LABELS, \n",
    "            linewidths = 0.1, annot = True, cmap ='YlOrBr')\n",
    "plt.title('Normalized Confusion Matrix MLP', fontsize = 15, fontweight='bold')\n",
    "plt.ylabel('True label', fontweight='bold')\n",
    "plt.xlabel('Predicted label',fontweight='bold')\n",
    "plt.show()"
   ]
  },
  {
   "cell_type": "code",
   "execution_count": 1045,
   "id": "c7478f83",
   "metadata": {},
   "outputs": [],
   "source": [
    "import matplotlib.pyplot as plt\n",
    "import seaborn as sns\n",
    "from keras.layers import LSTM\n",
    "import keras\n",
    "from keras.models import Sequential\n",
    "from keras.layers import Dense, Conv2D , MaxPool2D , Flatten , Dropout \n",
    "from keras.preprocessing.image import ImageDataGenerator\n",
    "from keras.optimizers import Adam\n",
    "\n",
    "from sklearn.metrics import classification_report,confusion_matrix\n",
    "\n",
    "import tensorflow as tf\n",
    "from keras.preprocessing.image import ImageDataGenerator\n",
    "from keras.models import Sequential\n",
    "from keras.layers import Conv2D, MaxPooling2D\n",
    "from keras.layers import Activation, Dropout, Flatten, Dense\n",
    "\n",
    "import cv2\n",
    "from keras import backend as K\n",
    "import glob\n",
    "import os\n",
    "import pandas as pd\n",
    "\n",
    "import numpy as np\n",
    "from sklearn.model_selection import train_test_split"
   ]
  },
  {
   "cell_type": "code",
   "execution_count": null,
   "id": "8e4b6369",
   "metadata": {},
   "outputs": [],
   "source": []
  },
  {
   "cell_type": "code",
   "execution_count": 1065,
   "id": "b5e1ded4",
   "metadata": {},
   "outputs": [],
   "source": [
    "RANDOM_SEED = 24    \n",
    "N_TIME_STEPS = 50   # 50 records in each sequence\n",
    "N_FEATURES = 3      # x, y, z\n",
    "step = 10           # window overlap = 50 -10 = 40  (80% overlap)\n",
    "N_CLASSES = 8       # class labels\n",
    "N_EPOCHS = 50       \n",
    "BATCH_SIZE = 1024   \n",
    "LEARNING_RATE = 0.0025\n",
    "L2_LOSS = 0.0015\n",
    "\n"
   ]
  },
  {
   "cell_type": "code",
   "execution_count": 1084,
   "id": "a0ac3640",
   "metadata": {},
   "outputs": [],
   "source": [
    "reshaped_segments = np.asarray(X, dtype= np.float32).reshape(-1)"
   ]
  },
  {
   "cell_type": "code",
   "execution_count": 1085,
   "id": "40d3eb0e",
   "metadata": {},
   "outputs": [],
   "source": [
    "labels = np.asarray(pd.get_dummies(Y), dtype = np.float32)"
   ]
  },
  {
   "cell_type": "code",
   "execution_count": 1086,
   "id": "904aa994",
   "metadata": {},
   "outputs": [
    {
     "data": {
      "text/plain": [
       "(120, 8)"
      ]
     },
     "execution_count": 1086,
     "metadata": {},
     "output_type": "execute_result"
    }
   ],
   "source": [
    "labels.shape"
   ]
  },
  {
   "cell_type": "code",
   "execution_count": 1087,
   "id": "cba77ab4",
   "metadata": {},
   "outputs": [
    {
     "ename": "ValueError",
     "evalue": "Found input variables with inconsistent numbers of samples: [8400, 120]",
     "output_type": "error",
     "traceback": [
      "\u001b[0;31m---------------------------------------------------------------------------\u001b[0m",
      "\u001b[0;31mValueError\u001b[0m                                Traceback (most recent call last)",
      "\u001b[0;32m<ipython-input-1087-9705a292e8a1>\u001b[0m in \u001b[0;36m<module>\u001b[0;34m\u001b[0m\n\u001b[0;32m----> 1\u001b[0;31m \u001b[0mX_train\u001b[0m\u001b[0;34m,\u001b[0m \u001b[0mX_test\u001b[0m\u001b[0;34m,\u001b[0m \u001b[0my_train\u001b[0m\u001b[0;34m,\u001b[0m \u001b[0my_test\u001b[0m \u001b[0;34m=\u001b[0m \u001b[0mtrain_test_split\u001b[0m\u001b[0;34m(\u001b[0m\u001b[0mreshaped_segments\u001b[0m\u001b[0;34m,\u001b[0m \u001b[0mlabels\u001b[0m\u001b[0;34m,\u001b[0m \u001b[0mtest_size\u001b[0m \u001b[0;34m=\u001b[0m \u001b[0;36m0.2\u001b[0m\u001b[0;34m,\u001b[0m \u001b[0mrandom_state\u001b[0m \u001b[0;34m=\u001b[0m \u001b[0;36m42\u001b[0m\u001b[0;34m)\u001b[0m\u001b[0;34m\u001b[0m\u001b[0;34m\u001b[0m\u001b[0m\n\u001b[0m",
      "\u001b[0;32m~/opt/anaconda3/lib/python3.8/site-packages/sklearn/model_selection/_split.py\u001b[0m in \u001b[0;36mtrain_test_split\u001b[0;34m(test_size, train_size, random_state, shuffle, stratify, *arrays)\u001b[0m\n\u001b[1;32m   2170\u001b[0m         \u001b[0;32mraise\u001b[0m \u001b[0mValueError\u001b[0m\u001b[0;34m(\u001b[0m\u001b[0;34m\"At least one array required as input\"\u001b[0m\u001b[0;34m)\u001b[0m\u001b[0;34m\u001b[0m\u001b[0;34m\u001b[0m\u001b[0m\n\u001b[1;32m   2171\u001b[0m \u001b[0;34m\u001b[0m\u001b[0m\n\u001b[0;32m-> 2172\u001b[0;31m     \u001b[0marrays\u001b[0m \u001b[0;34m=\u001b[0m \u001b[0mindexable\u001b[0m\u001b[0;34m(\u001b[0m\u001b[0;34m*\u001b[0m\u001b[0marrays\u001b[0m\u001b[0;34m)\u001b[0m\u001b[0;34m\u001b[0m\u001b[0;34m\u001b[0m\u001b[0m\n\u001b[0m\u001b[1;32m   2173\u001b[0m \u001b[0;34m\u001b[0m\u001b[0m\n\u001b[1;32m   2174\u001b[0m     \u001b[0mn_samples\u001b[0m \u001b[0;34m=\u001b[0m \u001b[0m_num_samples\u001b[0m\u001b[0;34m(\u001b[0m\u001b[0marrays\u001b[0m\u001b[0;34m[\u001b[0m\u001b[0;36m0\u001b[0m\u001b[0;34m]\u001b[0m\u001b[0;34m)\u001b[0m\u001b[0;34m\u001b[0m\u001b[0;34m\u001b[0m\u001b[0m\n",
      "\u001b[0;32m~/opt/anaconda3/lib/python3.8/site-packages/sklearn/utils/validation.py\u001b[0m in \u001b[0;36mindexable\u001b[0;34m(*iterables)\u001b[0m\n\u001b[1;32m    297\u001b[0m     \"\"\"\n\u001b[1;32m    298\u001b[0m     \u001b[0mresult\u001b[0m \u001b[0;34m=\u001b[0m \u001b[0;34m[\u001b[0m\u001b[0m_make_indexable\u001b[0m\u001b[0;34m(\u001b[0m\u001b[0mX\u001b[0m\u001b[0;34m)\u001b[0m \u001b[0;32mfor\u001b[0m \u001b[0mX\u001b[0m \u001b[0;32min\u001b[0m \u001b[0miterables\u001b[0m\u001b[0;34m]\u001b[0m\u001b[0;34m\u001b[0m\u001b[0;34m\u001b[0m\u001b[0m\n\u001b[0;32m--> 299\u001b[0;31m     \u001b[0mcheck_consistent_length\u001b[0m\u001b[0;34m(\u001b[0m\u001b[0;34m*\u001b[0m\u001b[0mresult\u001b[0m\u001b[0;34m)\u001b[0m\u001b[0;34m\u001b[0m\u001b[0;34m\u001b[0m\u001b[0m\n\u001b[0m\u001b[1;32m    300\u001b[0m     \u001b[0;32mreturn\u001b[0m \u001b[0mresult\u001b[0m\u001b[0;34m\u001b[0m\u001b[0;34m\u001b[0m\u001b[0m\n\u001b[1;32m    301\u001b[0m \u001b[0;34m\u001b[0m\u001b[0m\n",
      "\u001b[0;32m~/opt/anaconda3/lib/python3.8/site-packages/sklearn/utils/validation.py\u001b[0m in \u001b[0;36mcheck_consistent_length\u001b[0;34m(*arrays)\u001b[0m\n\u001b[1;32m    260\u001b[0m     \u001b[0muniques\u001b[0m \u001b[0;34m=\u001b[0m \u001b[0mnp\u001b[0m\u001b[0;34m.\u001b[0m\u001b[0munique\u001b[0m\u001b[0;34m(\u001b[0m\u001b[0mlengths\u001b[0m\u001b[0;34m)\u001b[0m\u001b[0;34m\u001b[0m\u001b[0;34m\u001b[0m\u001b[0m\n\u001b[1;32m    261\u001b[0m     \u001b[0;32mif\u001b[0m \u001b[0mlen\u001b[0m\u001b[0;34m(\u001b[0m\u001b[0muniques\u001b[0m\u001b[0;34m)\u001b[0m \u001b[0;34m>\u001b[0m \u001b[0;36m1\u001b[0m\u001b[0;34m:\u001b[0m\u001b[0;34m\u001b[0m\u001b[0;34m\u001b[0m\u001b[0m\n\u001b[0;32m--> 262\u001b[0;31m         raise ValueError(\"Found input variables with inconsistent numbers of\"\n\u001b[0m\u001b[1;32m    263\u001b[0m                          \" samples: %r\" % [int(l) for l in lengths])\n\u001b[1;32m    264\u001b[0m \u001b[0;34m\u001b[0m\u001b[0m\n",
      "\u001b[0;31mValueError\u001b[0m: Found input variables with inconsistent numbers of samples: [8400, 120]"
     ]
    }
   ],
   "source": [
    "X_train, X_test, y_train, y_test = train_test_split(reshaped_segments, labels, test_size = 0.2, random_state = 42)"
   ]
  },
  {
   "cell_type": "code",
   "execution_count": 1083,
   "id": "6d60615a",
   "metadata": {},
   "outputs": [
    {
     "ename": "IndexError",
     "evalue": "tuple index out of range",
     "output_type": "error",
     "traceback": [
      "\u001b[0;31m---------------------------------------------------------------------------\u001b[0m",
      "\u001b[0;31mIndexError\u001b[0m                                Traceback (most recent call last)",
      "\u001b[0;32m<ipython-input-1083-f844179bcd3f>\u001b[0m in \u001b[0;36m<module>\u001b[0;34m\u001b[0m\n\u001b[1;32m      4\u001b[0m \u001b[0mmodel\u001b[0m \u001b[0;34m=\u001b[0m \u001b[0mSequential\u001b[0m\u001b[0;34m(\u001b[0m\u001b[0;34m)\u001b[0m\u001b[0;34m\u001b[0m\u001b[0;34m\u001b[0m\u001b[0m\n\u001b[1;32m      5\u001b[0m \u001b[0;31m# RNN layer\u001b[0m\u001b[0;34m\u001b[0m\u001b[0;34m\u001b[0m\u001b[0;34m\u001b[0m\u001b[0m\n\u001b[0;32m----> 6\u001b[0;31m \u001b[0mmodel\u001b[0m\u001b[0;34m.\u001b[0m\u001b[0madd\u001b[0m\u001b[0;34m(\u001b[0m\u001b[0mLSTM\u001b[0m\u001b[0;34m(\u001b[0m\u001b[0munits\u001b[0m \u001b[0;34m=\u001b[0m \u001b[0;36m128\u001b[0m\u001b[0;34m,\u001b[0m \u001b[0minput_shape\u001b[0m \u001b[0;34m=\u001b[0m \u001b[0;34m(\u001b[0m\u001b[0mX_train\u001b[0m\u001b[0;34m.\u001b[0m\u001b[0mshape\u001b[0m\u001b[0;34m[\u001b[0m\u001b[0;36m1\u001b[0m\u001b[0;34m]\u001b[0m\u001b[0;34m,\u001b[0m \u001b[0mX_train\u001b[0m\u001b[0;34m.\u001b[0m\u001b[0mshape\u001b[0m\u001b[0;34m[\u001b[0m\u001b[0;36m2\u001b[0m\u001b[0;34m]\u001b[0m\u001b[0;34m)\u001b[0m\u001b[0;34m)\u001b[0m\u001b[0;34m)\u001b[0m\u001b[0;34m\u001b[0m\u001b[0;34m\u001b[0m\u001b[0m\n\u001b[0m\u001b[1;32m      7\u001b[0m \u001b[0;31m# Dropout layer\u001b[0m\u001b[0;34m\u001b[0m\u001b[0;34m\u001b[0m\u001b[0;34m\u001b[0m\u001b[0m\n\u001b[1;32m      8\u001b[0m \u001b[0mmodel\u001b[0m\u001b[0;34m.\u001b[0m\u001b[0madd\u001b[0m\u001b[0;34m(\u001b[0m\u001b[0mDropout\u001b[0m\u001b[0;34m(\u001b[0m\u001b[0;36m0.5\u001b[0m\u001b[0;34m)\u001b[0m\u001b[0;34m)\u001b[0m\u001b[0;34m\u001b[0m\u001b[0;34m\u001b[0m\u001b[0m\n",
      "\u001b[0;31mIndexError\u001b[0m: tuple index out of range"
     ]
    }
   ],
   "source": [
    "epochs = 50\n",
    "batch_size =  1024\n",
    "\n",
    "model = Sequential()\n",
    "# RNN layer\n",
    "model.add(LSTM(units = 128, input_shape = (X_train.shape[1], X_train.shape[2])))\n",
    "# Dropout layer\n",
    "model.add(Dropout(0.5)) \n",
    "# Dense layer with ReLu\n",
    "model.add(Dense(units = 64, activation='relu'))\n",
    "# Softmax layer\n",
    "model.add(Dense(y_train.shape[1], activation = 'softmax'))\n",
    "# Compile model\n",
    "model.compile(loss='categorical_crossentropy', optimizer='adam', metrics=['accuracy'])"
   ]
  },
  {
   "cell_type": "code",
   "execution_count": 1067,
   "id": "4644f8ca",
   "metadata": {},
   "outputs": [
    {
     "name": "stdout",
     "output_type": "stream",
     "text": [
      "Model: \"sequential_24\"\n",
      "_________________________________________________________________\n",
      " Layer (type)                Output Shape              Param #   \n",
      "=================================================================\n",
      " lstm_7 (LSTM)               (None, 128)               101888    \n",
      "                                                                 \n",
      " dropout_5 (Dropout)         (None, 128)               0         \n",
      "                                                                 \n",
      " dense_9 (Dense)             (None, 64)                8256      \n",
      "                                                                 \n",
      " dense_10 (Dense)            (None, 84)                5460      \n",
      "                                                                 \n",
      "=================================================================\n",
      "Total params: 115,604\n",
      "Trainable params: 115,604\n",
      "Non-trainable params: 0\n",
      "_________________________________________________________________\n"
     ]
    }
   ],
   "source": [
    "model.summary()"
   ]
  },
  {
   "cell_type": "code",
   "execution_count": 1068,
   "id": "a0d99231",
   "metadata": {},
   "outputs": [
    {
     "name": "stdout",
     "output_type": "stream",
     "text": [
      "Epoch 1/50\n"
     ]
    },
    {
     "ename": "ValueError",
     "evalue": "in user code:\n\n    File \"/Users/user/opt/anaconda3/lib/python3.8/site-packages/keras/engine/training.py\", line 1051, in train_function  *\n        return step_function(self, iterator)\n    File \"/Users/user/opt/anaconda3/lib/python3.8/site-packages/keras/engine/training.py\", line 1040, in step_function  **\n        outputs = model.distribute_strategy.run(run_step, args=(data,))\n    File \"/Users/user/opt/anaconda3/lib/python3.8/site-packages/keras/engine/training.py\", line 1030, in run_step  **\n        outputs = model.train_step(data)\n    File \"/Users/user/opt/anaconda3/lib/python3.8/site-packages/keras/engine/training.py\", line 889, in train_step\n        y_pred = self(x, training=True)\n    File \"/Users/user/opt/anaconda3/lib/python3.8/site-packages/keras/utils/traceback_utils.py\", line 67, in error_handler\n        raise e.with_traceback(filtered_tb) from None\n    File \"/Users/user/opt/anaconda3/lib/python3.8/site-packages/keras/engine/input_spec.py\", line 264, in assert_input_compatibility\n        raise ValueError(f'Input {input_index} of layer \"{layer_name}\" is '\n\n    ValueError: Input 0 of layer \"sequential_24\" is incompatible with the layer: expected shape=(None, 84, 70), found shape=(None, 70)\n",
     "output_type": "error",
     "traceback": [
      "\u001b[0;31m---------------------------------------------------------------------------\u001b[0m",
      "\u001b[0;31mValueError\u001b[0m                                Traceback (most recent call last)",
      "\u001b[0;32m<ipython-input-1068-321ccf56636c>\u001b[0m in \u001b[0;36m<module>\u001b[0;34m\u001b[0m\n\u001b[1;32m      1\u001b[0m \u001b[0;31m# Training\u001b[0m\u001b[0;34m\u001b[0m\u001b[0;34m\u001b[0m\u001b[0;34m\u001b[0m\u001b[0m\n\u001b[0;32m----> 2\u001b[0;31m history = model.fit(x_train, y_train, epochs = epochs, \n\u001b[0m\u001b[1;32m      3\u001b[0m                     validation_split = 0.25, batch_size = batch_size, verbose = 1)\n",
      "\u001b[0;32m~/opt/anaconda3/lib/python3.8/site-packages/keras/utils/traceback_utils.py\u001b[0m in \u001b[0;36merror_handler\u001b[0;34m(*args, **kwargs)\u001b[0m\n\u001b[1;32m     65\u001b[0m     \u001b[0;32mexcept\u001b[0m \u001b[0mException\u001b[0m \u001b[0;32mas\u001b[0m \u001b[0me\u001b[0m\u001b[0;34m:\u001b[0m  \u001b[0;31m# pylint: disable=broad-except\u001b[0m\u001b[0;34m\u001b[0m\u001b[0;34m\u001b[0m\u001b[0m\n\u001b[1;32m     66\u001b[0m       \u001b[0mfiltered_tb\u001b[0m \u001b[0;34m=\u001b[0m \u001b[0m_process_traceback_frames\u001b[0m\u001b[0;34m(\u001b[0m\u001b[0me\u001b[0m\u001b[0;34m.\u001b[0m\u001b[0m__traceback__\u001b[0m\u001b[0;34m)\u001b[0m\u001b[0;34m\u001b[0m\u001b[0;34m\u001b[0m\u001b[0m\n\u001b[0;32m---> 67\u001b[0;31m       \u001b[0;32mraise\u001b[0m \u001b[0me\u001b[0m\u001b[0;34m.\u001b[0m\u001b[0mwith_traceback\u001b[0m\u001b[0;34m(\u001b[0m\u001b[0mfiltered_tb\u001b[0m\u001b[0;34m)\u001b[0m \u001b[0;32mfrom\u001b[0m \u001b[0;32mNone\u001b[0m\u001b[0;34m\u001b[0m\u001b[0;34m\u001b[0m\u001b[0m\n\u001b[0m\u001b[1;32m     68\u001b[0m     \u001b[0;32mfinally\u001b[0m\u001b[0;34m:\u001b[0m\u001b[0;34m\u001b[0m\u001b[0;34m\u001b[0m\u001b[0m\n\u001b[1;32m     69\u001b[0m       \u001b[0;32mdel\u001b[0m \u001b[0mfiltered_tb\u001b[0m\u001b[0;34m\u001b[0m\u001b[0;34m\u001b[0m\u001b[0m\n",
      "\u001b[0;32m~/opt/anaconda3/lib/python3.8/site-packages/keras/engine/training.py\u001b[0m in \u001b[0;36mtf__train_function\u001b[0;34m(iterator)\u001b[0m\n\u001b[1;32m     13\u001b[0m                 \u001b[0;32mtry\u001b[0m\u001b[0;34m:\u001b[0m\u001b[0;34m\u001b[0m\u001b[0;34m\u001b[0m\u001b[0m\n\u001b[1;32m     14\u001b[0m                     \u001b[0mdo_return\u001b[0m \u001b[0;34m=\u001b[0m \u001b[0;32mTrue\u001b[0m\u001b[0;34m\u001b[0m\u001b[0;34m\u001b[0m\u001b[0m\n\u001b[0;32m---> 15\u001b[0;31m                     \u001b[0mretval_\u001b[0m \u001b[0;34m=\u001b[0m \u001b[0mag__\u001b[0m\u001b[0;34m.\u001b[0m\u001b[0mconverted_call\u001b[0m\u001b[0;34m(\u001b[0m\u001b[0mag__\u001b[0m\u001b[0;34m.\u001b[0m\u001b[0mld\u001b[0m\u001b[0;34m(\u001b[0m\u001b[0mstep_function\u001b[0m\u001b[0;34m)\u001b[0m\u001b[0;34m,\u001b[0m \u001b[0;34m(\u001b[0m\u001b[0mag__\u001b[0m\u001b[0;34m.\u001b[0m\u001b[0mld\u001b[0m\u001b[0;34m(\u001b[0m\u001b[0mself\u001b[0m\u001b[0;34m)\u001b[0m\u001b[0;34m,\u001b[0m \u001b[0mag__\u001b[0m\u001b[0;34m.\u001b[0m\u001b[0mld\u001b[0m\u001b[0;34m(\u001b[0m\u001b[0miterator\u001b[0m\u001b[0;34m)\u001b[0m\u001b[0;34m)\u001b[0m\u001b[0;34m,\u001b[0m \u001b[0;32mNone\u001b[0m\u001b[0;34m,\u001b[0m \u001b[0mfscope\u001b[0m\u001b[0;34m)\u001b[0m\u001b[0;34m\u001b[0m\u001b[0;34m\u001b[0m\u001b[0m\n\u001b[0m\u001b[1;32m     16\u001b[0m                 \u001b[0;32mexcept\u001b[0m\u001b[0;34m:\u001b[0m\u001b[0;34m\u001b[0m\u001b[0;34m\u001b[0m\u001b[0m\n\u001b[1;32m     17\u001b[0m                     \u001b[0mdo_return\u001b[0m \u001b[0;34m=\u001b[0m \u001b[0;32mFalse\u001b[0m\u001b[0;34m\u001b[0m\u001b[0;34m\u001b[0m\u001b[0m\n",
      "\u001b[0;31mValueError\u001b[0m: in user code:\n\n    File \"/Users/user/opt/anaconda3/lib/python3.8/site-packages/keras/engine/training.py\", line 1051, in train_function  *\n        return step_function(self, iterator)\n    File \"/Users/user/opt/anaconda3/lib/python3.8/site-packages/keras/engine/training.py\", line 1040, in step_function  **\n        outputs = model.distribute_strategy.run(run_step, args=(data,))\n    File \"/Users/user/opt/anaconda3/lib/python3.8/site-packages/keras/engine/training.py\", line 1030, in run_step  **\n        outputs = model.train_step(data)\n    File \"/Users/user/opt/anaconda3/lib/python3.8/site-packages/keras/engine/training.py\", line 889, in train_step\n        y_pred = self(x, training=True)\n    File \"/Users/user/opt/anaconda3/lib/python3.8/site-packages/keras/utils/traceback_utils.py\", line 67, in error_handler\n        raise e.with_traceback(filtered_tb) from None\n    File \"/Users/user/opt/anaconda3/lib/python3.8/site-packages/keras/engine/input_spec.py\", line 264, in assert_input_compatibility\n        raise ValueError(f'Input {input_index} of layer \"{layer_name}\" is '\n\n    ValueError: Input 0 of layer \"sequential_24\" is incompatible with the layer: expected shape=(None, 84, 70), found shape=(None, 70)\n"
     ]
    }
   ],
   "source": [
    "# Training\n",
    "history = model.fit(x_train, y_train, epochs = epochs, \n",
    "                    validation_split = 0.25, batch_size = batch_size, verbose = 1)"
   ]
  },
  {
   "cell_type": "code",
   "execution_count": null,
   "id": "ae9c586c",
   "metadata": {},
   "outputs": [],
   "source": []
  }
 ],
 "metadata": {
  "kernelspec": {
   "display_name": "Python 3 (ipykernel)",
   "language": "python",
   "name": "python3"
  },
  "language_info": {
   "codemirror_mode": {
    "name": "ipython",
    "version": 3
   },
   "file_extension": ".py",
   "mimetype": "text/x-python",
   "name": "python",
   "nbconvert_exporter": "python",
   "pygments_lexer": "ipython3",
   "version": "3.9.13"
  }
 },
 "nbformat": 4,
 "nbformat_minor": 5
}
